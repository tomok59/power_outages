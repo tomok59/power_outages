{
 "cells": [
  {
   "cell_type": "markdown",
   "metadata": {},
   "source": [
    "# Your Title Here\n",
    "\n",
    "**Name(s)**: (your name(s) here)\n",
    "\n",
    "**Website Link**: (your website link)"
   ]
  },
  {
   "cell_type": "markdown",
   "metadata": {},
   "source": [
    "## Code"
   ]
  },
  {
   "cell_type": "code",
   "execution_count": null,
   "metadata": {},
   "outputs": [],
   "source": []
  },
  {
   "cell_type": "code",
   "execution_count": 83,
   "metadata": {
    "ExecuteTime": {
     "end_time": "2019-10-31T23:36:28.652554Z",
     "start_time": "2019-10-31T23:36:27.180520Z"
    }
   },
   "outputs": [],
   "source": [
    "import pandas as pd\n",
    "import numpy as np\n",
    "import os\n",
    "import folium\n",
    "import requests\n",
    "import matplotlib.pyplot as plt\n",
    "import scipy.stats\n",
    "import seaborn as sns\n",
    "\n",
    "import plotly.express as px\n",
    "pd.options.plotting.backend = 'plotly'"
   ]
  },
  {
   "cell_type": "markdown",
   "metadata": {},
   "source": [
    "### Cleaning and EDA"
   ]
  },
  {
   "cell_type": "code",
   "execution_count": 7,
   "metadata": {
    "ExecuteTime": {
     "end_time": "2019-10-31T23:36:28.657068Z",
     "start_time": "2019-10-31T23:36:28.654650Z"
    }
   },
   "outputs": [
    {
     "data": {
      "text/plain": [
       "Index(['YEAR', 'MONTH', 'U.S._STATE', 'POSTAL.CODE', 'NERC.REGION',\n",
       "       'CLIMATE.REGION', 'ANOMALY.LEVEL', 'CLIMATE.CATEGORY',\n",
       "       'OUTAGE.START.DATE', 'OUTAGE.START.TIME', 'OUTAGE.RESTORATION.DATE',\n",
       "       'OUTAGE.RESTORATION.TIME', 'CAUSE.CATEGORY', 'CAUSE.CATEGORY.DETAIL',\n",
       "       'HURRICANE.NAMES', 'OUTAGE.DURATION', 'DEMAND.LOSS.MW',\n",
       "       'CUSTOMERS.AFFECTED', 'RES.PRICE', 'COM.PRICE', 'IND.PRICE',\n",
       "       'TOTAL.PRICE', 'RES.SALES', 'COM.SALES', 'IND.SALES', 'TOTAL.SALES',\n",
       "       'RES.PERCEN', 'COM.PERCEN', 'IND.PERCEN', 'RES.CUSTOMERS',\n",
       "       'COM.CUSTOMERS', 'IND.CUSTOMERS', 'TOTAL.CUSTOMERS', 'RES.CUST.PCT',\n",
       "       'COM.CUST.PCT', 'IND.CUST.PCT', 'PC.REALGSP.STATE', 'PC.REALGSP.USA',\n",
       "       'PC.REALGSP.REL', 'PC.REALGSP.CHANGE', 'UTIL.REALGSP', 'TOTAL.REALGSP',\n",
       "       'UTIL.CONTRI', 'PI.UTIL.OFUSA', 'POPULATION', 'POPPCT_URBAN',\n",
       "       'POPPCT_UC', 'POPDEN_URBAN', 'POPDEN_UC', 'POPDEN_RURAL',\n",
       "       'AREAPCT_URBAN', 'AREAPCT_UC', 'PCT_LAND', 'PCT_WATER_TOT',\n",
       "       'PCT_WATER_INLAND'],\n",
       "      dtype='object')"
      ]
     },
     "execution_count": 7,
     "metadata": {},
     "output_type": "execute_result"
    }
   ],
   "source": [
    "df = pd.read_excel('outage.xlsx', header=5)\n",
    "df = df.drop([0]).drop(columns='variables').set_index('OBS')\n",
    "df.columns"
   ]
  },
  {
   "cell_type": "code",
   "execution_count": 8,
   "metadata": {},
   "outputs": [
    {
     "data": {
      "text/html": [
       "<div>\n",
       "<style scoped>\n",
       "    .dataframe tbody tr th:only-of-type {\n",
       "        vertical-align: middle;\n",
       "    }\n",
       "\n",
       "    .dataframe tbody tr th {\n",
       "        vertical-align: top;\n",
       "    }\n",
       "\n",
       "    .dataframe thead th {\n",
       "        text-align: right;\n",
       "    }\n",
       "</style>\n",
       "<table border=\"1\" class=\"dataframe\">\n",
       "  <thead>\n",
       "    <tr style=\"text-align: right;\">\n",
       "      <th></th>\n",
       "      <th>YEAR</th>\n",
       "      <th>MONTH</th>\n",
       "      <th>U.S._STATE</th>\n",
       "      <th>POSTAL.CODE</th>\n",
       "      <th>NERC.REGION</th>\n",
       "      <th>CLIMATE.REGION</th>\n",
       "      <th>ANOMALY.LEVEL</th>\n",
       "      <th>CLIMATE.CATEGORY</th>\n",
       "      <th>OUTAGE.START.DATE</th>\n",
       "      <th>OUTAGE.START.TIME</th>\n",
       "      <th>...</th>\n",
       "      <th>POPPCT_URBAN</th>\n",
       "      <th>POPPCT_UC</th>\n",
       "      <th>POPDEN_URBAN</th>\n",
       "      <th>POPDEN_UC</th>\n",
       "      <th>POPDEN_RURAL</th>\n",
       "      <th>AREAPCT_URBAN</th>\n",
       "      <th>AREAPCT_UC</th>\n",
       "      <th>PCT_LAND</th>\n",
       "      <th>PCT_WATER_TOT</th>\n",
       "      <th>PCT_WATER_INLAND</th>\n",
       "    </tr>\n",
       "    <tr>\n",
       "      <th>CAUSE.CATEGORY</th>\n",
       "      <th></th>\n",
       "      <th></th>\n",
       "      <th></th>\n",
       "      <th></th>\n",
       "      <th></th>\n",
       "      <th></th>\n",
       "      <th></th>\n",
       "      <th></th>\n",
       "      <th></th>\n",
       "      <th></th>\n",
       "      <th></th>\n",
       "      <th></th>\n",
       "      <th></th>\n",
       "      <th></th>\n",
       "      <th></th>\n",
       "      <th></th>\n",
       "      <th></th>\n",
       "      <th></th>\n",
       "      <th></th>\n",
       "      <th></th>\n",
       "      <th></th>\n",
       "    </tr>\n",
       "  </thead>\n",
       "  <tbody>\n",
       "    <tr>\n",
       "      <th>equipment failure</th>\n",
       "      <td>60</td>\n",
       "      <td>57</td>\n",
       "      <td>60</td>\n",
       "      <td>60</td>\n",
       "      <td>60</td>\n",
       "      <td>59</td>\n",
       "      <td>57</td>\n",
       "      <td>57</td>\n",
       "      <td>57</td>\n",
       "      <td>57</td>\n",
       "      <td>...</td>\n",
       "      <td>60</td>\n",
       "      <td>60</td>\n",
       "      <td>60</td>\n",
       "      <td>59</td>\n",
       "      <td>59</td>\n",
       "      <td>60</td>\n",
       "      <td>60</td>\n",
       "      <td>60</td>\n",
       "      <td>60</td>\n",
       "      <td>60</td>\n",
       "    </tr>\n",
       "    <tr>\n",
       "      <th>fuel supply emergency</th>\n",
       "      <td>51</td>\n",
       "      <td>50</td>\n",
       "      <td>51</td>\n",
       "      <td>51</td>\n",
       "      <td>51</td>\n",
       "      <td>51</td>\n",
       "      <td>50</td>\n",
       "      <td>50</td>\n",
       "      <td>50</td>\n",
       "      <td>50</td>\n",
       "      <td>...</td>\n",
       "      <td>51</td>\n",
       "      <td>51</td>\n",
       "      <td>51</td>\n",
       "      <td>51</td>\n",
       "      <td>51</td>\n",
       "      <td>51</td>\n",
       "      <td>51</td>\n",
       "      <td>51</td>\n",
       "      <td>51</td>\n",
       "      <td>51</td>\n",
       "    </tr>\n",
       "    <tr>\n",
       "      <th>intentional attack</th>\n",
       "      <td>418</td>\n",
       "      <td>418</td>\n",
       "      <td>418</td>\n",
       "      <td>418</td>\n",
       "      <td>418</td>\n",
       "      <td>418</td>\n",
       "      <td>418</td>\n",
       "      <td>418</td>\n",
       "      <td>418</td>\n",
       "      <td>418</td>\n",
       "      <td>...</td>\n",
       "      <td>418</td>\n",
       "      <td>418</td>\n",
       "      <td>418</td>\n",
       "      <td>418</td>\n",
       "      <td>418</td>\n",
       "      <td>418</td>\n",
       "      <td>418</td>\n",
       "      <td>418</td>\n",
       "      <td>418</td>\n",
       "      <td>418</td>\n",
       "    </tr>\n",
       "    <tr>\n",
       "      <th>islanding</th>\n",
       "      <td>46</td>\n",
       "      <td>46</td>\n",
       "      <td>46</td>\n",
       "      <td>46</td>\n",
       "      <td>46</td>\n",
       "      <td>46</td>\n",
       "      <td>46</td>\n",
       "      <td>46</td>\n",
       "      <td>46</td>\n",
       "      <td>46</td>\n",
       "      <td>...</td>\n",
       "      <td>46</td>\n",
       "      <td>46</td>\n",
       "      <td>46</td>\n",
       "      <td>46</td>\n",
       "      <td>46</td>\n",
       "      <td>46</td>\n",
       "      <td>46</td>\n",
       "      <td>46</td>\n",
       "      <td>46</td>\n",
       "      <td>46</td>\n",
       "    </tr>\n",
       "    <tr>\n",
       "      <th>public appeal</th>\n",
       "      <td>69</td>\n",
       "      <td>69</td>\n",
       "      <td>69</td>\n",
       "      <td>69</td>\n",
       "      <td>69</td>\n",
       "      <td>69</td>\n",
       "      <td>69</td>\n",
       "      <td>69</td>\n",
       "      <td>69</td>\n",
       "      <td>69</td>\n",
       "      <td>...</td>\n",
       "      <td>69</td>\n",
       "      <td>69</td>\n",
       "      <td>69</td>\n",
       "      <td>69</td>\n",
       "      <td>69</td>\n",
       "      <td>69</td>\n",
       "      <td>69</td>\n",
       "      <td>69</td>\n",
       "      <td>69</td>\n",
       "      <td>69</td>\n",
       "    </tr>\n",
       "    <tr>\n",
       "      <th>severe weather</th>\n",
       "      <td>763</td>\n",
       "      <td>759</td>\n",
       "      <td>763</td>\n",
       "      <td>763</td>\n",
       "      <td>763</td>\n",
       "      <td>759</td>\n",
       "      <td>759</td>\n",
       "      <td>759</td>\n",
       "      <td>759</td>\n",
       "      <td>759</td>\n",
       "      <td>...</td>\n",
       "      <td>763</td>\n",
       "      <td>763</td>\n",
       "      <td>763</td>\n",
       "      <td>754</td>\n",
       "      <td>754</td>\n",
       "      <td>763</td>\n",
       "      <td>763</td>\n",
       "      <td>763</td>\n",
       "      <td>763</td>\n",
       "      <td>763</td>\n",
       "    </tr>\n",
       "    <tr>\n",
       "      <th>system operability disruption</th>\n",
       "      <td>127</td>\n",
       "      <td>126</td>\n",
       "      <td>127</td>\n",
       "      <td>127</td>\n",
       "      <td>127</td>\n",
       "      <td>126</td>\n",
       "      <td>126</td>\n",
       "      <td>126</td>\n",
       "      <td>126</td>\n",
       "      <td>126</td>\n",
       "      <td>...</td>\n",
       "      <td>127</td>\n",
       "      <td>127</td>\n",
       "      <td>127</td>\n",
       "      <td>127</td>\n",
       "      <td>127</td>\n",
       "      <td>127</td>\n",
       "      <td>127</td>\n",
       "      <td>127</td>\n",
       "      <td>127</td>\n",
       "      <td>127</td>\n",
       "    </tr>\n",
       "  </tbody>\n",
       "</table>\n",
       "<p>7 rows × 54 columns</p>\n",
       "</div>"
      ],
      "text/plain": [
       "                               YEAR  MONTH  U.S._STATE  POSTAL.CODE  \\\n",
       "CAUSE.CATEGORY                                                        \n",
       "equipment failure                60     57          60           60   \n",
       "fuel supply emergency            51     50          51           51   \n",
       "intentional attack              418    418         418          418   \n",
       "islanding                        46     46          46           46   \n",
       "public appeal                    69     69          69           69   \n",
       "severe weather                  763    759         763          763   \n",
       "system operability disruption   127    126         127          127   \n",
       "\n",
       "                               NERC.REGION  CLIMATE.REGION  ANOMALY.LEVEL  \\\n",
       "CAUSE.CATEGORY                                                              \n",
       "equipment failure                       60              59             57   \n",
       "fuel supply emergency                   51              51             50   \n",
       "intentional attack                     418             418            418   \n",
       "islanding                               46              46             46   \n",
       "public appeal                           69              69             69   \n",
       "severe weather                         763             759            759   \n",
       "system operability disruption          127             126            126   \n",
       "\n",
       "                               CLIMATE.CATEGORY  OUTAGE.START.DATE  \\\n",
       "CAUSE.CATEGORY                                                       \n",
       "equipment failure                            57                 57   \n",
       "fuel supply emergency                        50                 50   \n",
       "intentional attack                          418                418   \n",
       "islanding                                    46                 46   \n",
       "public appeal                                69                 69   \n",
       "severe weather                              759                759   \n",
       "system operability disruption               126                126   \n",
       "\n",
       "                               OUTAGE.START.TIME  ...  POPPCT_URBAN  \\\n",
       "CAUSE.CATEGORY                                    ...                 \n",
       "equipment failure                             57  ...            60   \n",
       "fuel supply emergency                         50  ...            51   \n",
       "intentional attack                           418  ...           418   \n",
       "islanding                                     46  ...            46   \n",
       "public appeal                                 69  ...            69   \n",
       "severe weather                               759  ...           763   \n",
       "system operability disruption                126  ...           127   \n",
       "\n",
       "                               POPPCT_UC  POPDEN_URBAN  POPDEN_UC  \\\n",
       "CAUSE.CATEGORY                                                      \n",
       "equipment failure                     60            60         59   \n",
       "fuel supply emergency                 51            51         51   \n",
       "intentional attack                   418           418        418   \n",
       "islanding                             46            46         46   \n",
       "public appeal                         69            69         69   \n",
       "severe weather                       763           763        754   \n",
       "system operability disruption        127           127        127   \n",
       "\n",
       "                               POPDEN_RURAL  AREAPCT_URBAN  AREAPCT_UC  \\\n",
       "CAUSE.CATEGORY                                                           \n",
       "equipment failure                        59             60          60   \n",
       "fuel supply emergency                    51             51          51   \n",
       "intentional attack                      418            418         418   \n",
       "islanding                                46             46          46   \n",
       "public appeal                            69             69          69   \n",
       "severe weather                          754            763         763   \n",
       "system operability disruption           127            127         127   \n",
       "\n",
       "                               PCT_LAND  PCT_WATER_TOT  PCT_WATER_INLAND  \n",
       "CAUSE.CATEGORY                                                            \n",
       "equipment failure                    60             60                60  \n",
       "fuel supply emergency                51             51                51  \n",
       "intentional attack                  418            418               418  \n",
       "islanding                            46             46                46  \n",
       "public appeal                        69             69                69  \n",
       "severe weather                      763            763               763  \n",
       "system operability disruption       127            127               127  \n",
       "\n",
       "[7 rows x 54 columns]"
      ]
     },
     "execution_count": 8,
     "metadata": {},
     "output_type": "execute_result"
    }
   ],
   "source": [
    "df.groupby('CAUSE.CATEGORY').count()"
   ]
  },
  {
   "cell_type": "code",
   "execution_count": 9,
   "metadata": {},
   "outputs": [
    {
     "data": {
      "text/html": [
       "<div>\n",
       "<style scoped>\n",
       "    .dataframe tbody tr th:only-of-type {\n",
       "        vertical-align: middle;\n",
       "    }\n",
       "\n",
       "    .dataframe tbody tr th {\n",
       "        vertical-align: top;\n",
       "    }\n",
       "\n",
       "    .dataframe thead th {\n",
       "        text-align: right;\n",
       "    }\n",
       "</style>\n",
       "<table border=\"1\" class=\"dataframe\">\n",
       "  <thead>\n",
       "    <tr style=\"text-align: right;\">\n",
       "      <th></th>\n",
       "      <th>YEAR</th>\n",
       "      <th>MONTH</th>\n",
       "      <th>U.S._STATE</th>\n",
       "      <th>POSTAL.CODE</th>\n",
       "      <th>CLIMATE.REGION</th>\n",
       "      <th>ANOMALY.LEVEL</th>\n",
       "      <th>CLIMATE.CATEGORY</th>\n",
       "      <th>OUTAGE.START.DATE</th>\n",
       "      <th>OUTAGE.START.TIME</th>\n",
       "      <th>OUTAGE.RESTORATION.DATE</th>\n",
       "      <th>...</th>\n",
       "      <th>POPPCT_URBAN</th>\n",
       "      <th>POPPCT_UC</th>\n",
       "      <th>POPDEN_URBAN</th>\n",
       "      <th>POPDEN_UC</th>\n",
       "      <th>POPDEN_RURAL</th>\n",
       "      <th>AREAPCT_URBAN</th>\n",
       "      <th>AREAPCT_UC</th>\n",
       "      <th>PCT_LAND</th>\n",
       "      <th>PCT_WATER_TOT</th>\n",
       "      <th>PCT_WATER_INLAND</th>\n",
       "    </tr>\n",
       "    <tr>\n",
       "      <th>NERC.REGION</th>\n",
       "      <th></th>\n",
       "      <th></th>\n",
       "      <th></th>\n",
       "      <th></th>\n",
       "      <th></th>\n",
       "      <th></th>\n",
       "      <th></th>\n",
       "      <th></th>\n",
       "      <th></th>\n",
       "      <th></th>\n",
       "      <th></th>\n",
       "      <th></th>\n",
       "      <th></th>\n",
       "      <th></th>\n",
       "      <th></th>\n",
       "      <th></th>\n",
       "      <th></th>\n",
       "      <th></th>\n",
       "      <th></th>\n",
       "      <th></th>\n",
       "      <th></th>\n",
       "    </tr>\n",
       "  </thead>\n",
       "  <tbody>\n",
       "    <tr>\n",
       "      <th>ASCC</th>\n",
       "      <td>1</td>\n",
       "      <td>0</td>\n",
       "      <td>1</td>\n",
       "      <td>1</td>\n",
       "      <td>0</td>\n",
       "      <td>0</td>\n",
       "      <td>0</td>\n",
       "      <td>0</td>\n",
       "      <td>0</td>\n",
       "      <td>0</td>\n",
       "      <td>...</td>\n",
       "      <td>1</td>\n",
       "      <td>1</td>\n",
       "      <td>1</td>\n",
       "      <td>1</td>\n",
       "      <td>1</td>\n",
       "      <td>1</td>\n",
       "      <td>1</td>\n",
       "      <td>1</td>\n",
       "      <td>1</td>\n",
       "      <td>1</td>\n",
       "    </tr>\n",
       "    <tr>\n",
       "      <th>ECAR</th>\n",
       "      <td>34</td>\n",
       "      <td>34</td>\n",
       "      <td>34</td>\n",
       "      <td>34</td>\n",
       "      <td>34</td>\n",
       "      <td>34</td>\n",
       "      <td>34</td>\n",
       "      <td>34</td>\n",
       "      <td>34</td>\n",
       "      <td>32</td>\n",
       "      <td>...</td>\n",
       "      <td>34</td>\n",
       "      <td>34</td>\n",
       "      <td>34</td>\n",
       "      <td>34</td>\n",
       "      <td>34</td>\n",
       "      <td>34</td>\n",
       "      <td>34</td>\n",
       "      <td>34</td>\n",
       "      <td>34</td>\n",
       "      <td>34</td>\n",
       "    </tr>\n",
       "    <tr>\n",
       "      <th>FRCC</th>\n",
       "      <td>44</td>\n",
       "      <td>43</td>\n",
       "      <td>44</td>\n",
       "      <td>44</td>\n",
       "      <td>44</td>\n",
       "      <td>43</td>\n",
       "      <td>43</td>\n",
       "      <td>43</td>\n",
       "      <td>43</td>\n",
       "      <td>43</td>\n",
       "      <td>...</td>\n",
       "      <td>44</td>\n",
       "      <td>44</td>\n",
       "      <td>44</td>\n",
       "      <td>44</td>\n",
       "      <td>44</td>\n",
       "      <td>44</td>\n",
       "      <td>44</td>\n",
       "      <td>44</td>\n",
       "      <td>44</td>\n",
       "      <td>44</td>\n",
       "    </tr>\n",
       "    <tr>\n",
       "      <th>FRCC, SERC</th>\n",
       "      <td>1</td>\n",
       "      <td>1</td>\n",
       "      <td>1</td>\n",
       "      <td>1</td>\n",
       "      <td>1</td>\n",
       "      <td>1</td>\n",
       "      <td>1</td>\n",
       "      <td>1</td>\n",
       "      <td>1</td>\n",
       "      <td>1</td>\n",
       "      <td>...</td>\n",
       "      <td>1</td>\n",
       "      <td>1</td>\n",
       "      <td>1</td>\n",
       "      <td>1</td>\n",
       "      <td>1</td>\n",
       "      <td>1</td>\n",
       "      <td>1</td>\n",
       "      <td>1</td>\n",
       "      <td>1</td>\n",
       "      <td>1</td>\n",
       "    </tr>\n",
       "    <tr>\n",
       "      <th>HECO</th>\n",
       "      <td>3</td>\n",
       "      <td>3</td>\n",
       "      <td>3</td>\n",
       "      <td>3</td>\n",
       "      <td>0</td>\n",
       "      <td>3</td>\n",
       "      <td>3</td>\n",
       "      <td>3</td>\n",
       "      <td>3</td>\n",
       "      <td>3</td>\n",
       "      <td>...</td>\n",
       "      <td>3</td>\n",
       "      <td>3</td>\n",
       "      <td>3</td>\n",
       "      <td>3</td>\n",
       "      <td>3</td>\n",
       "      <td>3</td>\n",
       "      <td>3</td>\n",
       "      <td>3</td>\n",
       "      <td>3</td>\n",
       "      <td>3</td>\n",
       "    </tr>\n",
       "    <tr>\n",
       "      <th>HI</th>\n",
       "      <td>1</td>\n",
       "      <td>1</td>\n",
       "      <td>1</td>\n",
       "      <td>1</td>\n",
       "      <td>0</td>\n",
       "      <td>1</td>\n",
       "      <td>1</td>\n",
       "      <td>1</td>\n",
       "      <td>1</td>\n",
       "      <td>1</td>\n",
       "      <td>...</td>\n",
       "      <td>1</td>\n",
       "      <td>1</td>\n",
       "      <td>1</td>\n",
       "      <td>1</td>\n",
       "      <td>1</td>\n",
       "      <td>1</td>\n",
       "      <td>1</td>\n",
       "      <td>1</td>\n",
       "      <td>1</td>\n",
       "      <td>1</td>\n",
       "    </tr>\n",
       "    <tr>\n",
       "      <th>MRO</th>\n",
       "      <td>46</td>\n",
       "      <td>45</td>\n",
       "      <td>46</td>\n",
       "      <td>46</td>\n",
       "      <td>46</td>\n",
       "      <td>45</td>\n",
       "      <td>45</td>\n",
       "      <td>45</td>\n",
       "      <td>45</td>\n",
       "      <td>44</td>\n",
       "      <td>...</td>\n",
       "      <td>46</td>\n",
       "      <td>46</td>\n",
       "      <td>46</td>\n",
       "      <td>46</td>\n",
       "      <td>46</td>\n",
       "      <td>46</td>\n",
       "      <td>46</td>\n",
       "      <td>46</td>\n",
       "      <td>46</td>\n",
       "      <td>46</td>\n",
       "    </tr>\n",
       "    <tr>\n",
       "      <th>NPCC</th>\n",
       "      <td>150</td>\n",
       "      <td>150</td>\n",
       "      <td>150</td>\n",
       "      <td>150</td>\n",
       "      <td>150</td>\n",
       "      <td>150</td>\n",
       "      <td>150</td>\n",
       "      <td>150</td>\n",
       "      <td>150</td>\n",
       "      <td>147</td>\n",
       "      <td>...</td>\n",
       "      <td>150</td>\n",
       "      <td>150</td>\n",
       "      <td>150</td>\n",
       "      <td>150</td>\n",
       "      <td>150</td>\n",
       "      <td>150</td>\n",
       "      <td>150</td>\n",
       "      <td>150</td>\n",
       "      <td>150</td>\n",
       "      <td>150</td>\n",
       "    </tr>\n",
       "    <tr>\n",
       "      <th>PR</th>\n",
       "      <td>1</td>\n",
       "      <td>1</td>\n",
       "      <td>1</td>\n",
       "      <td>1</td>\n",
       "      <td>0</td>\n",
       "      <td>1</td>\n",
       "      <td>1</td>\n",
       "      <td>1</td>\n",
       "      <td>1</td>\n",
       "      <td>1</td>\n",
       "      <td>...</td>\n",
       "      <td>1</td>\n",
       "      <td>1</td>\n",
       "      <td>1</td>\n",
       "      <td>1</td>\n",
       "      <td>1</td>\n",
       "      <td>1</td>\n",
       "      <td>1</td>\n",
       "      <td>1</td>\n",
       "      <td>1</td>\n",
       "      <td>1</td>\n",
       "    </tr>\n",
       "    <tr>\n",
       "      <th>RFC</th>\n",
       "      <td>419</td>\n",
       "      <td>418</td>\n",
       "      <td>419</td>\n",
       "      <td>419</td>\n",
       "      <td>419</td>\n",
       "      <td>418</td>\n",
       "      <td>418</td>\n",
       "      <td>418</td>\n",
       "      <td>418</td>\n",
       "      <td>416</td>\n",
       "      <td>...</td>\n",
       "      <td>419</td>\n",
       "      <td>419</td>\n",
       "      <td>419</td>\n",
       "      <td>409</td>\n",
       "      <td>409</td>\n",
       "      <td>419</td>\n",
       "      <td>419</td>\n",
       "      <td>419</td>\n",
       "      <td>419</td>\n",
       "      <td>419</td>\n",
       "    </tr>\n",
       "    <tr>\n",
       "      <th>SERC</th>\n",
       "      <td>205</td>\n",
       "      <td>201</td>\n",
       "      <td>205</td>\n",
       "      <td>205</td>\n",
       "      <td>205</td>\n",
       "      <td>201</td>\n",
       "      <td>201</td>\n",
       "      <td>201</td>\n",
       "      <td>201</td>\n",
       "      <td>194</td>\n",
       "      <td>...</td>\n",
       "      <td>205</td>\n",
       "      <td>205</td>\n",
       "      <td>205</td>\n",
       "      <td>205</td>\n",
       "      <td>205</td>\n",
       "      <td>205</td>\n",
       "      <td>205</td>\n",
       "      <td>205</td>\n",
       "      <td>205</td>\n",
       "      <td>205</td>\n",
       "    </tr>\n",
       "    <tr>\n",
       "      <th>SPP</th>\n",
       "      <td>67</td>\n",
       "      <td>66</td>\n",
       "      <td>67</td>\n",
       "      <td>67</td>\n",
       "      <td>67</td>\n",
       "      <td>66</td>\n",
       "      <td>66</td>\n",
       "      <td>66</td>\n",
       "      <td>66</td>\n",
       "      <td>62</td>\n",
       "      <td>...</td>\n",
       "      <td>67</td>\n",
       "      <td>67</td>\n",
       "      <td>67</td>\n",
       "      <td>67</td>\n",
       "      <td>67</td>\n",
       "      <td>67</td>\n",
       "      <td>67</td>\n",
       "      <td>67</td>\n",
       "      <td>67</td>\n",
       "      <td>67</td>\n",
       "    </tr>\n",
       "    <tr>\n",
       "      <th>TRE</th>\n",
       "      <td>111</td>\n",
       "      <td>111</td>\n",
       "      <td>111</td>\n",
       "      <td>111</td>\n",
       "      <td>111</td>\n",
       "      <td>111</td>\n",
       "      <td>111</td>\n",
       "      <td>111</td>\n",
       "      <td>111</td>\n",
       "      <td>108</td>\n",
       "      <td>...</td>\n",
       "      <td>111</td>\n",
       "      <td>111</td>\n",
       "      <td>111</td>\n",
       "      <td>111</td>\n",
       "      <td>111</td>\n",
       "      <td>111</td>\n",
       "      <td>111</td>\n",
       "      <td>111</td>\n",
       "      <td>111</td>\n",
       "      <td>111</td>\n",
       "    </tr>\n",
       "    <tr>\n",
       "      <th>WECC</th>\n",
       "      <td>451</td>\n",
       "      <td>451</td>\n",
       "      <td>451</td>\n",
       "      <td>451</td>\n",
       "      <td>451</td>\n",
       "      <td>451</td>\n",
       "      <td>451</td>\n",
       "      <td>451</td>\n",
       "      <td>451</td>\n",
       "      <td>424</td>\n",
       "      <td>...</td>\n",
       "      <td>451</td>\n",
       "      <td>451</td>\n",
       "      <td>451</td>\n",
       "      <td>451</td>\n",
       "      <td>451</td>\n",
       "      <td>451</td>\n",
       "      <td>451</td>\n",
       "      <td>451</td>\n",
       "      <td>451</td>\n",
       "      <td>451</td>\n",
       "    </tr>\n",
       "  </tbody>\n",
       "</table>\n",
       "<p>14 rows × 54 columns</p>\n",
       "</div>"
      ],
      "text/plain": [
       "             YEAR  MONTH  U.S._STATE  POSTAL.CODE  CLIMATE.REGION  \\\n",
       "NERC.REGION                                                         \n",
       "ASCC            1      0           1            1               0   \n",
       "ECAR           34     34          34           34              34   \n",
       "FRCC           44     43          44           44              44   \n",
       "FRCC, SERC      1      1           1            1               1   \n",
       "HECO            3      3           3            3               0   \n",
       "HI              1      1           1            1               0   \n",
       "MRO            46     45          46           46              46   \n",
       "NPCC          150    150         150          150             150   \n",
       "PR              1      1           1            1               0   \n",
       "RFC           419    418         419          419             419   \n",
       "SERC          205    201         205          205             205   \n",
       "SPP            67     66          67           67              67   \n",
       "TRE           111    111         111          111             111   \n",
       "WECC          451    451         451          451             451   \n",
       "\n",
       "             ANOMALY.LEVEL  CLIMATE.CATEGORY  OUTAGE.START.DATE  \\\n",
       "NERC.REGION                                                       \n",
       "ASCC                     0                 0                  0   \n",
       "ECAR                    34                34                 34   \n",
       "FRCC                    43                43                 43   \n",
       "FRCC, SERC               1                 1                  1   \n",
       "HECO                     3                 3                  3   \n",
       "HI                       1                 1                  1   \n",
       "MRO                     45                45                 45   \n",
       "NPCC                   150               150                150   \n",
       "PR                       1                 1                  1   \n",
       "RFC                    418               418                418   \n",
       "SERC                   201               201                201   \n",
       "SPP                     66                66                 66   \n",
       "TRE                    111               111                111   \n",
       "WECC                   451               451                451   \n",
       "\n",
       "             OUTAGE.START.TIME  OUTAGE.RESTORATION.DATE  ...  POPPCT_URBAN  \\\n",
       "NERC.REGION                                              ...                 \n",
       "ASCC                         0                        0  ...             1   \n",
       "ECAR                        34                       32  ...            34   \n",
       "FRCC                        43                       43  ...            44   \n",
       "FRCC, SERC                   1                        1  ...             1   \n",
       "HECO                         3                        3  ...             3   \n",
       "HI                           1                        1  ...             1   \n",
       "MRO                         45                       44  ...            46   \n",
       "NPCC                       150                      147  ...           150   \n",
       "PR                           1                        1  ...             1   \n",
       "RFC                        418                      416  ...           419   \n",
       "SERC                       201                      194  ...           205   \n",
       "SPP                         66                       62  ...            67   \n",
       "TRE                        111                      108  ...           111   \n",
       "WECC                       451                      424  ...           451   \n",
       "\n",
       "             POPPCT_UC  POPDEN_URBAN  POPDEN_UC  POPDEN_RURAL  AREAPCT_URBAN  \\\n",
       "NERC.REGION                                                                    \n",
       "ASCC                 1             1          1             1              1   \n",
       "ECAR                34            34         34            34             34   \n",
       "FRCC                44            44         44            44             44   \n",
       "FRCC, SERC           1             1          1             1              1   \n",
       "HECO                 3             3          3             3              3   \n",
       "HI                   1             1          1             1              1   \n",
       "MRO                 46            46         46            46             46   \n",
       "NPCC               150           150        150           150            150   \n",
       "PR                   1             1          1             1              1   \n",
       "RFC                419           419        409           409            419   \n",
       "SERC               205           205        205           205            205   \n",
       "SPP                 67            67         67            67             67   \n",
       "TRE                111           111        111           111            111   \n",
       "WECC               451           451        451           451            451   \n",
       "\n",
       "             AREAPCT_UC  PCT_LAND  PCT_WATER_TOT  PCT_WATER_INLAND  \n",
       "NERC.REGION                                                         \n",
       "ASCC                  1         1              1                 1  \n",
       "ECAR                 34        34             34                34  \n",
       "FRCC                 44        44             44                44  \n",
       "FRCC, SERC            1         1              1                 1  \n",
       "HECO                  3         3              3                 3  \n",
       "HI                    1         1              1                 1  \n",
       "MRO                  46        46             46                46  \n",
       "NPCC                150       150            150               150  \n",
       "PR                    1         1              1                 1  \n",
       "RFC                 419       419            419               419  \n",
       "SERC                205       205            205               205  \n",
       "SPP                  67        67             67                67  \n",
       "TRE                 111       111            111               111  \n",
       "WECC                451       451            451               451  \n",
       "\n",
       "[14 rows x 54 columns]"
      ]
     },
     "execution_count": 9,
     "metadata": {},
     "output_type": "execute_result"
    }
   ],
   "source": [
    "df.groupby('NERC.REGION').count()"
   ]
  },
  {
   "cell_type": "code",
   "execution_count": 10,
   "metadata": {},
   "outputs": [
    {
     "data": {
      "text/plain": [
       "1525"
      ]
     },
     "execution_count": 10,
     "metadata": {},
     "output_type": "execute_result"
    }
   ],
   "source": [
    "len(df['MONTH'].dropna())"
   ]
  },
  {
   "cell_type": "code",
   "execution_count": 11,
   "metadata": {},
   "outputs": [
    {
     "data": {
      "text/plain": [
       "1525"
      ]
     },
     "execution_count": 11,
     "metadata": {},
     "output_type": "execute_result"
    }
   ],
   "source": [
    "len(df['OUTAGE.START.TIME'].dropna())"
   ]
  },
  {
   "cell_type": "code",
   "execution_count": 12,
   "metadata": {},
   "outputs": [
    {
     "name": "stderr",
     "output_type": "stream",
     "text": [
      "/Users/demo/anaconda3/envs/dsc80/lib/python3.8/site-packages/pandas/core/arrays/datetimelike.py:1187: PerformanceWarning: Adding/subtracting object-dtype array to TimedeltaArray not vectorized\n",
      "  warnings.warn(\n",
      "/Users/demo/anaconda3/envs/dsc80/lib/python3.8/site-packages/pandas/core/arrays/datetimelike.py:1187: PerformanceWarning: Adding/subtracting object-dtype array to TimedeltaArray not vectorized\n",
      "  warnings.warn(\n"
     ]
    },
    {
     "data": {
      "text/html": [
       "<div>\n",
       "<style scoped>\n",
       "    .dataframe tbody tr th:only-of-type {\n",
       "        vertical-align: middle;\n",
       "    }\n",
       "\n",
       "    .dataframe tbody tr th {\n",
       "        vertical-align: top;\n",
       "    }\n",
       "\n",
       "    .dataframe thead th {\n",
       "        text-align: right;\n",
       "    }\n",
       "</style>\n",
       "<table border=\"1\" class=\"dataframe\">\n",
       "  <thead>\n",
       "    <tr style=\"text-align: right;\">\n",
       "      <th></th>\n",
       "      <th>OBS</th>\n",
       "      <th>YEAR</th>\n",
       "      <th>MONTH</th>\n",
       "      <th>U.S._STATE</th>\n",
       "      <th>POSTAL.CODE</th>\n",
       "      <th>NERC.REGION</th>\n",
       "      <th>CLIMATE.REGION</th>\n",
       "      <th>ANOMALY.LEVEL</th>\n",
       "      <th>CLIMATE.CATEGORY</th>\n",
       "      <th>OUTAGE.START.DATE</th>\n",
       "      <th>...</th>\n",
       "      <th>POPDEN_URBAN</th>\n",
       "      <th>POPDEN_UC</th>\n",
       "      <th>POPDEN_RURAL</th>\n",
       "      <th>AREAPCT_URBAN</th>\n",
       "      <th>AREAPCT_UC</th>\n",
       "      <th>PCT_LAND</th>\n",
       "      <th>PCT_WATER_TOT</th>\n",
       "      <th>PCT_WATER_INLAND</th>\n",
       "      <th>OUTAGE.START</th>\n",
       "      <th>OUTAGE.RESTORATION</th>\n",
       "    </tr>\n",
       "  </thead>\n",
       "  <tbody>\n",
       "    <tr>\n",
       "      <th>0</th>\n",
       "      <td>1.0</td>\n",
       "      <td>2011</td>\n",
       "      <td>7</td>\n",
       "      <td>Minnesota</td>\n",
       "      <td>MN</td>\n",
       "      <td>MRO</td>\n",
       "      <td>East North Central</td>\n",
       "      <td>-0.3</td>\n",
       "      <td>normal</td>\n",
       "      <td>2011-07-01 00:00:00</td>\n",
       "      <td>...</td>\n",
       "      <td>2279</td>\n",
       "      <td>1700.5</td>\n",
       "      <td>18.2</td>\n",
       "      <td>2.14</td>\n",
       "      <td>0.6</td>\n",
       "      <td>91.592666</td>\n",
       "      <td>8.407334</td>\n",
       "      <td>5.478743</td>\n",
       "      <td>2011-07-01 17:00:00</td>\n",
       "      <td>2011-07-03 20:00:00</td>\n",
       "    </tr>\n",
       "    <tr>\n",
       "      <th>1</th>\n",
       "      <td>2.0</td>\n",
       "      <td>2014</td>\n",
       "      <td>5</td>\n",
       "      <td>Minnesota</td>\n",
       "      <td>MN</td>\n",
       "      <td>MRO</td>\n",
       "      <td>East North Central</td>\n",
       "      <td>-0.1</td>\n",
       "      <td>normal</td>\n",
       "      <td>2014-05-11 00:00:00</td>\n",
       "      <td>...</td>\n",
       "      <td>2279</td>\n",
       "      <td>1700.5</td>\n",
       "      <td>18.2</td>\n",
       "      <td>2.14</td>\n",
       "      <td>0.6</td>\n",
       "      <td>91.592666</td>\n",
       "      <td>8.407334</td>\n",
       "      <td>5.478743</td>\n",
       "      <td>2014-05-11 18:38:00</td>\n",
       "      <td>2014-05-11 18:39:00</td>\n",
       "    </tr>\n",
       "    <tr>\n",
       "      <th>2</th>\n",
       "      <td>3.0</td>\n",
       "      <td>2010</td>\n",
       "      <td>10</td>\n",
       "      <td>Minnesota</td>\n",
       "      <td>MN</td>\n",
       "      <td>MRO</td>\n",
       "      <td>East North Central</td>\n",
       "      <td>-1.5</td>\n",
       "      <td>cold</td>\n",
       "      <td>2010-10-26 00:00:00</td>\n",
       "      <td>...</td>\n",
       "      <td>2279</td>\n",
       "      <td>1700.5</td>\n",
       "      <td>18.2</td>\n",
       "      <td>2.14</td>\n",
       "      <td>0.6</td>\n",
       "      <td>91.592666</td>\n",
       "      <td>8.407334</td>\n",
       "      <td>5.478743</td>\n",
       "      <td>2010-10-26 20:00:00</td>\n",
       "      <td>2010-10-28 22:00:00</td>\n",
       "    </tr>\n",
       "    <tr>\n",
       "      <th>3</th>\n",
       "      <td>4.0</td>\n",
       "      <td>2012</td>\n",
       "      <td>6</td>\n",
       "      <td>Minnesota</td>\n",
       "      <td>MN</td>\n",
       "      <td>MRO</td>\n",
       "      <td>East North Central</td>\n",
       "      <td>-0.1</td>\n",
       "      <td>normal</td>\n",
       "      <td>2012-06-19 00:00:00</td>\n",
       "      <td>...</td>\n",
       "      <td>2279</td>\n",
       "      <td>1700.5</td>\n",
       "      <td>18.2</td>\n",
       "      <td>2.14</td>\n",
       "      <td>0.6</td>\n",
       "      <td>91.592666</td>\n",
       "      <td>8.407334</td>\n",
       "      <td>5.478743</td>\n",
       "      <td>2012-06-19 04:30:00</td>\n",
       "      <td>2012-06-20 23:00:00</td>\n",
       "    </tr>\n",
       "    <tr>\n",
       "      <th>4</th>\n",
       "      <td>5.0</td>\n",
       "      <td>2015</td>\n",
       "      <td>7</td>\n",
       "      <td>Minnesota</td>\n",
       "      <td>MN</td>\n",
       "      <td>MRO</td>\n",
       "      <td>East North Central</td>\n",
       "      <td>1.2</td>\n",
       "      <td>warm</td>\n",
       "      <td>2015-07-18 00:00:00</td>\n",
       "      <td>...</td>\n",
       "      <td>2279</td>\n",
       "      <td>1700.5</td>\n",
       "      <td>18.2</td>\n",
       "      <td>2.14</td>\n",
       "      <td>0.6</td>\n",
       "      <td>91.592666</td>\n",
       "      <td>8.407334</td>\n",
       "      <td>5.478743</td>\n",
       "      <td>2015-07-18 02:00:00</td>\n",
       "      <td>2015-07-19 07:00:00</td>\n",
       "    </tr>\n",
       "    <tr>\n",
       "      <th>...</th>\n",
       "      <td>...</td>\n",
       "      <td>...</td>\n",
       "      <td>...</td>\n",
       "      <td>...</td>\n",
       "      <td>...</td>\n",
       "      <td>...</td>\n",
       "      <td>...</td>\n",
       "      <td>...</td>\n",
       "      <td>...</td>\n",
       "      <td>...</td>\n",
       "      <td>...</td>\n",
       "      <td>...</td>\n",
       "      <td>...</td>\n",
       "      <td>...</td>\n",
       "      <td>...</td>\n",
       "      <td>...</td>\n",
       "      <td>...</td>\n",
       "      <td>...</td>\n",
       "      <td>...</td>\n",
       "      <td>...</td>\n",
       "      <td>...</td>\n",
       "    </tr>\n",
       "    <tr>\n",
       "      <th>1471</th>\n",
       "      <td>1527.0</td>\n",
       "      <td>2016</td>\n",
       "      <td>3</td>\n",
       "      <td>Idaho</td>\n",
       "      <td>ID</td>\n",
       "      <td>WECC</td>\n",
       "      <td>Northwest</td>\n",
       "      <td>1.6</td>\n",
       "      <td>warm</td>\n",
       "      <td>2016-03-08 00:00:00</td>\n",
       "      <td>...</td>\n",
       "      <td>2216.8</td>\n",
       "      <td>2004.7</td>\n",
       "      <td>5.6</td>\n",
       "      <td>0.6</td>\n",
       "      <td>0.19</td>\n",
       "      <td>98.891934</td>\n",
       "      <td>1.108066</td>\n",
       "      <td>1.108066</td>\n",
       "      <td>2016-03-08 00:00:00</td>\n",
       "      <td>2016-03-08 00:00:00</td>\n",
       "    </tr>\n",
       "    <tr>\n",
       "      <th>1472</th>\n",
       "      <td>1529.0</td>\n",
       "      <td>2016</td>\n",
       "      <td>7</td>\n",
       "      <td>Idaho</td>\n",
       "      <td>ID</td>\n",
       "      <td>WECC</td>\n",
       "      <td>Northwest</td>\n",
       "      <td>-0.3</td>\n",
       "      <td>normal</td>\n",
       "      <td>2016-07-19 00:00:00</td>\n",
       "      <td>...</td>\n",
       "      <td>2216.8</td>\n",
       "      <td>2004.7</td>\n",
       "      <td>5.6</td>\n",
       "      <td>0.6</td>\n",
       "      <td>0.19</td>\n",
       "      <td>98.891934</td>\n",
       "      <td>1.108066</td>\n",
       "      <td>1.108066</td>\n",
       "      <td>2016-07-19 15:45:00</td>\n",
       "      <td>2016-07-19 19:25:00</td>\n",
       "    </tr>\n",
       "    <tr>\n",
       "      <th>1473</th>\n",
       "      <td>1530.0</td>\n",
       "      <td>2011</td>\n",
       "      <td>12</td>\n",
       "      <td>North Dakota</td>\n",
       "      <td>ND</td>\n",
       "      <td>MRO</td>\n",
       "      <td>West North Central</td>\n",
       "      <td>-0.9</td>\n",
       "      <td>cold</td>\n",
       "      <td>2011-12-06 00:00:00</td>\n",
       "      <td>...</td>\n",
       "      <td>2192.2</td>\n",
       "      <td>1868.2</td>\n",
       "      <td>3.9</td>\n",
       "      <td>0.27</td>\n",
       "      <td>0.1</td>\n",
       "      <td>97.599649</td>\n",
       "      <td>2.401765</td>\n",
       "      <td>2.401765</td>\n",
       "      <td>2011-12-06 08:00:00</td>\n",
       "      <td>2011-12-06 20:00:00</td>\n",
       "    </tr>\n",
       "    <tr>\n",
       "      <th>1474</th>\n",
       "      <td>1532.0</td>\n",
       "      <td>2009</td>\n",
       "      <td>8</td>\n",
       "      <td>South Dakota</td>\n",
       "      <td>SD</td>\n",
       "      <td>RFC</td>\n",
       "      <td>West North Central</td>\n",
       "      <td>0.5</td>\n",
       "      <td>warm</td>\n",
       "      <td>2009-08-29 00:00:00</td>\n",
       "      <td>...</td>\n",
       "      <td>2038.3</td>\n",
       "      <td>1905.4</td>\n",
       "      <td>4.7</td>\n",
       "      <td>0.3</td>\n",
       "      <td>0.15</td>\n",
       "      <td>98.307744</td>\n",
       "      <td>1.692256</td>\n",
       "      <td>1.692256</td>\n",
       "      <td>2009-08-29 22:54:00</td>\n",
       "      <td>2009-08-29 23:53:00</td>\n",
       "    </tr>\n",
       "    <tr>\n",
       "      <th>1475</th>\n",
       "      <td>1533.0</td>\n",
       "      <td>2009</td>\n",
       "      <td>8</td>\n",
       "      <td>South Dakota</td>\n",
       "      <td>SD</td>\n",
       "      <td>MRO</td>\n",
       "      <td>West North Central</td>\n",
       "      <td>0.5</td>\n",
       "      <td>warm</td>\n",
       "      <td>2009-08-29 00:00:00</td>\n",
       "      <td>...</td>\n",
       "      <td>2038.3</td>\n",
       "      <td>1905.4</td>\n",
       "      <td>4.7</td>\n",
       "      <td>0.3</td>\n",
       "      <td>0.15</td>\n",
       "      <td>98.307744</td>\n",
       "      <td>1.692256</td>\n",
       "      <td>1.692256</td>\n",
       "      <td>2009-08-29 11:00:00</td>\n",
       "      <td>2009-08-29 14:01:00</td>\n",
       "    </tr>\n",
       "  </tbody>\n",
       "</table>\n",
       "<p>1476 rows × 58 columns</p>\n",
       "</div>"
      ],
      "text/plain": [
       "         OBS  YEAR  MONTH    U.S._STATE POSTAL.CODE NERC.REGION  \\\n",
       "0        1.0  2011      7     Minnesota          MN         MRO   \n",
       "1        2.0  2014      5     Minnesota          MN         MRO   \n",
       "2        3.0  2010     10     Minnesota          MN         MRO   \n",
       "3        4.0  2012      6     Minnesota          MN         MRO   \n",
       "4        5.0  2015      7     Minnesota          MN         MRO   \n",
       "...      ...   ...    ...           ...         ...         ...   \n",
       "1471  1527.0  2016      3         Idaho          ID        WECC   \n",
       "1472  1529.0  2016      7         Idaho          ID        WECC   \n",
       "1473  1530.0  2011     12  North Dakota          ND         MRO   \n",
       "1474  1532.0  2009      8  South Dakota          SD         RFC   \n",
       "1475  1533.0  2009      8  South Dakota          SD         MRO   \n",
       "\n",
       "          CLIMATE.REGION ANOMALY.LEVEL CLIMATE.CATEGORY    OUTAGE.START.DATE  \\\n",
       "0     East North Central          -0.3           normal  2011-07-01 00:00:00   \n",
       "1     East North Central          -0.1           normal  2014-05-11 00:00:00   \n",
       "2     East North Central          -1.5             cold  2010-10-26 00:00:00   \n",
       "3     East North Central          -0.1           normal  2012-06-19 00:00:00   \n",
       "4     East North Central           1.2             warm  2015-07-18 00:00:00   \n",
       "...                  ...           ...              ...                  ...   \n",
       "1471           Northwest           1.6             warm  2016-03-08 00:00:00   \n",
       "1472           Northwest          -0.3           normal  2016-07-19 00:00:00   \n",
       "1473  West North Central          -0.9             cold  2011-12-06 00:00:00   \n",
       "1474  West North Central           0.5             warm  2009-08-29 00:00:00   \n",
       "1475  West North Central           0.5             warm  2009-08-29 00:00:00   \n",
       "\n",
       "      ... POPDEN_URBAN POPDEN_UC POPDEN_RURAL AREAPCT_URBAN AREAPCT_UC  \\\n",
       "0     ...         2279    1700.5         18.2          2.14        0.6   \n",
       "1     ...         2279    1700.5         18.2          2.14        0.6   \n",
       "2     ...         2279    1700.5         18.2          2.14        0.6   \n",
       "3     ...         2279    1700.5         18.2          2.14        0.6   \n",
       "4     ...         2279    1700.5         18.2          2.14        0.6   \n",
       "...   ...          ...       ...          ...           ...        ...   \n",
       "1471  ...       2216.8    2004.7          5.6           0.6       0.19   \n",
       "1472  ...       2216.8    2004.7          5.6           0.6       0.19   \n",
       "1473  ...       2192.2    1868.2          3.9          0.27        0.1   \n",
       "1474  ...       2038.3    1905.4          4.7           0.3       0.15   \n",
       "1475  ...       2038.3    1905.4          4.7           0.3       0.15   \n",
       "\n",
       "       PCT_LAND PCT_WATER_TOT PCT_WATER_INLAND        OUTAGE.START  \\\n",
       "0     91.592666      8.407334         5.478743 2011-07-01 17:00:00   \n",
       "1     91.592666      8.407334         5.478743 2014-05-11 18:38:00   \n",
       "2     91.592666      8.407334         5.478743 2010-10-26 20:00:00   \n",
       "3     91.592666      8.407334         5.478743 2012-06-19 04:30:00   \n",
       "4     91.592666      8.407334         5.478743 2015-07-18 02:00:00   \n",
       "...         ...           ...              ...                 ...   \n",
       "1471  98.891934      1.108066         1.108066 2016-03-08 00:00:00   \n",
       "1472  98.891934      1.108066         1.108066 2016-07-19 15:45:00   \n",
       "1473  97.599649      2.401765         2.401765 2011-12-06 08:00:00   \n",
       "1474  98.307744      1.692256         1.692256 2009-08-29 22:54:00   \n",
       "1475  98.307744      1.692256         1.692256 2009-08-29 11:00:00   \n",
       "\n",
       "      OUTAGE.RESTORATION  \n",
       "0    2011-07-03 20:00:00  \n",
       "1    2014-05-11 18:39:00  \n",
       "2    2010-10-28 22:00:00  \n",
       "3    2012-06-20 23:00:00  \n",
       "4    2015-07-19 07:00:00  \n",
       "...                  ...  \n",
       "1471 2016-03-08 00:00:00  \n",
       "1472 2016-07-19 19:25:00  \n",
       "1473 2011-12-06 20:00:00  \n",
       "1474 2009-08-29 23:53:00  \n",
       "1475 2009-08-29 14:01:00  \n",
       "\n",
       "[1476 rows x 58 columns]"
      ]
     },
     "execution_count": 12,
     "metadata": {},
     "output_type": "execute_result"
    }
   ],
   "source": [
    "df_dropped = df.dropna(subset=['OUTAGE.START.TIME'])\n",
    "df_dropped = df_dropped.dropna(subset=['OUTAGE.RESTORATION.TIME'])\n",
    "temp = pd.to_timedelta(df_dropped['OUTAGE.START.TIME'].astype(str))\n",
    "df_dropped['OUTAGE.START'] = df_dropped['OUTAGE.START.DATE'] + temp\n",
    "temp = pd.to_timedelta(df_dropped['OUTAGE.RESTORATION.TIME'].astype(str))\n",
    "df_dropped['OUTAGE.RESTORATION'] = df_dropped['OUTAGE.RESTORATION.DATE'] + temp\n",
    "df_dropped['YEAR'] = df_dropped['YEAR'].astype(int)\n",
    "df_dropped['MONTH'] = df_dropped['MONTH'].astype(int)\n",
    "df_dropped.reset_index()"
   ]
  },
  {
   "cell_type": "markdown",
   "metadata": {},
   "source": [
    "## Univariate Graphes"
   ]
  },
  {
   "cell_type": "code",
   "execution_count": 13,
   "metadata": {},
   "outputs": [
    {
     "data": {
      "application/vnd.plotly.v1+json": {
       "config": {
        "plotlyServerURL": "https://plot.ly"
       },
       "data": [
        {
         "alignmentgroup": "True",
         "hovertemplate": "CAUSE.CATEGORY=equipment failure<br>YEAR=%{x}<br>value=%{y}<extra></extra>",
         "legendgroup": "equipment failure",
         "marker": {
          "color": "#636efa",
          "pattern": {
           "shape": ""
          }
         },
         "name": "equipment failure",
         "offsetgroup": "equipment failure",
         "orientation": "v",
         "showlegend": true,
         "textposition": "auto",
         "type": "bar",
         "x": [
          2000,
          2001,
          2002,
          2003,
          2004,
          2005,
          2006,
          2007,
          2008,
          2009,
          2010,
          2011,
          2012,
          2013,
          2014,
          2015,
          2016
         ],
         "xaxis": "x",
         "y": [
          null,
          1,
          null,
          6,
          5,
          3,
          1,
          6,
          9,
          10,
          5,
          4,
          1,
          4,
          null,
          null,
          null
         ],
         "yaxis": "y"
        },
        {
         "alignmentgroup": "True",
         "hovertemplate": "CAUSE.CATEGORY=fuel supply emergency<br>YEAR=%{x}<br>value=%{y}<extra></extra>",
         "legendgroup": "fuel supply emergency",
         "marker": {
          "color": "#EF553B",
          "pattern": {
           "shape": ""
          }
         },
         "name": "fuel supply emergency",
         "offsetgroup": "fuel supply emergency",
         "orientation": "v",
         "showlegend": true,
         "textposition": "auto",
         "type": "bar",
         "x": [
          2000,
          2001,
          2002,
          2003,
          2004,
          2005,
          2006,
          2007,
          2008,
          2009,
          2010,
          2011,
          2012,
          2013,
          2014,
          2015,
          2016
         ],
         "xaxis": "x",
         "y": [
          null,
          null,
          null,
          null,
          null,
          null,
          null,
          1,
          3,
          2,
          3,
          6,
          4,
          6,
          10,
          1,
          2
         ],
         "yaxis": "y"
        },
        {
         "alignmentgroup": "True",
         "hovertemplate": "CAUSE.CATEGORY=intentional attack<br>YEAR=%{x}<br>value=%{y}<extra></extra>",
         "legendgroup": "intentional attack",
         "marker": {
          "color": "#00cc96",
          "pattern": {
           "shape": ""
          }
         },
         "name": "intentional attack",
         "offsetgroup": "intentional attack",
         "orientation": "v",
         "showlegend": true,
         "textposition": "auto",
         "type": "bar",
         "x": [
          2000,
          2001,
          2002,
          2003,
          2004,
          2005,
          2006,
          2007,
          2008,
          2009,
          2010,
          2011,
          2012,
          2013,
          2014,
          2015,
          2016
         ],
         "xaxis": "x",
         "y": [
          null,
          null,
          null,
          2,
          null,
          null,
          null,
          null,
          null,
          null,
          null,
          121,
          89,
          80,
          44,
          41,
          26
         ],
         "yaxis": "y"
        },
        {
         "alignmentgroup": "True",
         "hovertemplate": "CAUSE.CATEGORY=islanding<br>YEAR=%{x}<br>value=%{y}<extra></extra>",
         "legendgroup": "islanding",
         "marker": {
          "color": "#ab63fa",
          "pattern": {
           "shape": ""
          }
         },
         "name": "islanding",
         "offsetgroup": "islanding",
         "orientation": "v",
         "showlegend": true,
         "textposition": "auto",
         "type": "bar",
         "x": [
          2000,
          2001,
          2002,
          2003,
          2004,
          2005,
          2006,
          2007,
          2008,
          2009,
          2010,
          2011,
          2012,
          2013,
          2014,
          2015,
          2016
         ],
         "xaxis": "x",
         "y": [
          null,
          null,
          null,
          null,
          null,
          null,
          null,
          1,
          6,
          4,
          9,
          3,
          4,
          7,
          1,
          8,
          1
         ],
         "yaxis": "y"
        },
        {
         "alignmentgroup": "True",
         "hovertemplate": "CAUSE.CATEGORY=public appeal<br>YEAR=%{x}<br>value=%{y}<extra></extra>",
         "legendgroup": "public appeal",
         "marker": {
          "color": "#FFA15A",
          "pattern": {
           "shape": ""
          }
         },
         "name": "public appeal",
         "offsetgroup": "public appeal",
         "orientation": "v",
         "showlegend": true,
         "textposition": "auto",
         "type": "bar",
         "x": [
          2000,
          2001,
          2002,
          2003,
          2004,
          2005,
          2006,
          2007,
          2008,
          2009,
          2010,
          2011,
          2012,
          2013,
          2014,
          2015,
          2016
         ],
         "xaxis": "x",
         "y": [
          null,
          3,
          null,
          1,
          7,
          null,
          2,
          2,
          2,
          10,
          14,
          16,
          3,
          null,
          5,
          4,
          null
         ],
         "yaxis": "y"
        },
        {
         "alignmentgroup": "True",
         "hovertemplate": "CAUSE.CATEGORY=severe weather<br>YEAR=%{x}<br>value=%{y}<extra></extra>",
         "legendgroup": "severe weather",
         "marker": {
          "color": "#19d3f3",
          "pattern": {
           "shape": ""
          }
         },
         "name": "severe weather",
         "offsetgroup": "severe weather",
         "orientation": "v",
         "showlegend": true,
         "textposition": "auto",
         "type": "bar",
         "x": [
          2000,
          2001,
          2002,
          2003,
          2004,
          2005,
          2006,
          2007,
          2008,
          2009,
          2010,
          2011,
          2012,
          2013,
          2014,
          2015,
          2016
         ],
         "xaxis": "x",
         "y": [
          9,
          1,
          11,
          30,
          56,
          47,
          54,
          40,
          76,
          45,
          62,
          107,
          65,
          49,
          43,
          39,
          10
         ],
         "yaxis": "y"
        },
        {
         "alignmentgroup": "True",
         "hovertemplate": "CAUSE.CATEGORY=system operability disruption<br>YEAR=%{x}<br>value=%{y}<extra></extra>",
         "legendgroup": "system operability disruption",
         "marker": {
          "color": "#FF6692",
          "pattern": {
           "shape": ""
          }
         },
         "name": "system operability disruption",
         "offsetgroup": "system operability disruption",
         "orientation": "v",
         "showlegend": true,
         "textposition": "auto",
         "type": "bar",
         "x": [
          2000,
          2001,
          2002,
          2003,
          2004,
          2005,
          2006,
          2007,
          2008,
          2009,
          2010,
          2011,
          2012,
          2013,
          2014,
          2015,
          2016
         ],
         "xaxis": "x",
         "y": [
          4,
          9,
          3,
          7,
          3,
          4,
          9,
          4,
          14,
          6,
          13,
          12,
          7,
          6,
          1,
          13,
          8
         ],
         "yaxis": "y"
        }
       ],
       "layout": {
        "barmode": "relative",
        "legend": {
         "title": {
          "text": "CAUSE.CATEGORY"
         },
         "tracegroupgap": 0
        },
        "margin": {
         "t": 60
        },
        "template": {
         "data": {
          "bar": [
           {
            "error_x": {
             "color": "#2a3f5f"
            },
            "error_y": {
             "color": "#2a3f5f"
            },
            "marker": {
             "line": {
              "color": "#E5ECF6",
              "width": 0.5
             },
             "pattern": {
              "fillmode": "overlay",
              "size": 10,
              "solidity": 0.2
             }
            },
            "type": "bar"
           }
          ],
          "barpolar": [
           {
            "marker": {
             "line": {
              "color": "#E5ECF6",
              "width": 0.5
             },
             "pattern": {
              "fillmode": "overlay",
              "size": 10,
              "solidity": 0.2
             }
            },
            "type": "barpolar"
           }
          ],
          "carpet": [
           {
            "aaxis": {
             "endlinecolor": "#2a3f5f",
             "gridcolor": "white",
             "linecolor": "white",
             "minorgridcolor": "white",
             "startlinecolor": "#2a3f5f"
            },
            "baxis": {
             "endlinecolor": "#2a3f5f",
             "gridcolor": "white",
             "linecolor": "white",
             "minorgridcolor": "white",
             "startlinecolor": "#2a3f5f"
            },
            "type": "carpet"
           }
          ],
          "choropleth": [
           {
            "colorbar": {
             "outlinewidth": 0,
             "ticks": ""
            },
            "type": "choropleth"
           }
          ],
          "contour": [
           {
            "colorbar": {
             "outlinewidth": 0,
             "ticks": ""
            },
            "colorscale": [
             [
              0,
              "#0d0887"
             ],
             [
              0.1111111111111111,
              "#46039f"
             ],
             [
              0.2222222222222222,
              "#7201a8"
             ],
             [
              0.3333333333333333,
              "#9c179e"
             ],
             [
              0.4444444444444444,
              "#bd3786"
             ],
             [
              0.5555555555555556,
              "#d8576b"
             ],
             [
              0.6666666666666666,
              "#ed7953"
             ],
             [
              0.7777777777777778,
              "#fb9f3a"
             ],
             [
              0.8888888888888888,
              "#fdca26"
             ],
             [
              1,
              "#f0f921"
             ]
            ],
            "type": "contour"
           }
          ],
          "contourcarpet": [
           {
            "colorbar": {
             "outlinewidth": 0,
             "ticks": ""
            },
            "type": "contourcarpet"
           }
          ],
          "heatmap": [
           {
            "colorbar": {
             "outlinewidth": 0,
             "ticks": ""
            },
            "colorscale": [
             [
              0,
              "#0d0887"
             ],
             [
              0.1111111111111111,
              "#46039f"
             ],
             [
              0.2222222222222222,
              "#7201a8"
             ],
             [
              0.3333333333333333,
              "#9c179e"
             ],
             [
              0.4444444444444444,
              "#bd3786"
             ],
             [
              0.5555555555555556,
              "#d8576b"
             ],
             [
              0.6666666666666666,
              "#ed7953"
             ],
             [
              0.7777777777777778,
              "#fb9f3a"
             ],
             [
              0.8888888888888888,
              "#fdca26"
             ],
             [
              1,
              "#f0f921"
             ]
            ],
            "type": "heatmap"
           }
          ],
          "heatmapgl": [
           {
            "colorbar": {
             "outlinewidth": 0,
             "ticks": ""
            },
            "colorscale": [
             [
              0,
              "#0d0887"
             ],
             [
              0.1111111111111111,
              "#46039f"
             ],
             [
              0.2222222222222222,
              "#7201a8"
             ],
             [
              0.3333333333333333,
              "#9c179e"
             ],
             [
              0.4444444444444444,
              "#bd3786"
             ],
             [
              0.5555555555555556,
              "#d8576b"
             ],
             [
              0.6666666666666666,
              "#ed7953"
             ],
             [
              0.7777777777777778,
              "#fb9f3a"
             ],
             [
              0.8888888888888888,
              "#fdca26"
             ],
             [
              1,
              "#f0f921"
             ]
            ],
            "type": "heatmapgl"
           }
          ],
          "histogram": [
           {
            "marker": {
             "pattern": {
              "fillmode": "overlay",
              "size": 10,
              "solidity": 0.2
             }
            },
            "type": "histogram"
           }
          ],
          "histogram2d": [
           {
            "colorbar": {
             "outlinewidth": 0,
             "ticks": ""
            },
            "colorscale": [
             [
              0,
              "#0d0887"
             ],
             [
              0.1111111111111111,
              "#46039f"
             ],
             [
              0.2222222222222222,
              "#7201a8"
             ],
             [
              0.3333333333333333,
              "#9c179e"
             ],
             [
              0.4444444444444444,
              "#bd3786"
             ],
             [
              0.5555555555555556,
              "#d8576b"
             ],
             [
              0.6666666666666666,
              "#ed7953"
             ],
             [
              0.7777777777777778,
              "#fb9f3a"
             ],
             [
              0.8888888888888888,
              "#fdca26"
             ],
             [
              1,
              "#f0f921"
             ]
            ],
            "type": "histogram2d"
           }
          ],
          "histogram2dcontour": [
           {
            "colorbar": {
             "outlinewidth": 0,
             "ticks": ""
            },
            "colorscale": [
             [
              0,
              "#0d0887"
             ],
             [
              0.1111111111111111,
              "#46039f"
             ],
             [
              0.2222222222222222,
              "#7201a8"
             ],
             [
              0.3333333333333333,
              "#9c179e"
             ],
             [
              0.4444444444444444,
              "#bd3786"
             ],
             [
              0.5555555555555556,
              "#d8576b"
             ],
             [
              0.6666666666666666,
              "#ed7953"
             ],
             [
              0.7777777777777778,
              "#fb9f3a"
             ],
             [
              0.8888888888888888,
              "#fdca26"
             ],
             [
              1,
              "#f0f921"
             ]
            ],
            "type": "histogram2dcontour"
           }
          ],
          "mesh3d": [
           {
            "colorbar": {
             "outlinewidth": 0,
             "ticks": ""
            },
            "type": "mesh3d"
           }
          ],
          "parcoords": [
           {
            "line": {
             "colorbar": {
              "outlinewidth": 0,
              "ticks": ""
             }
            },
            "type": "parcoords"
           }
          ],
          "pie": [
           {
            "automargin": true,
            "type": "pie"
           }
          ],
          "scatter": [
           {
            "fillpattern": {
             "fillmode": "overlay",
             "size": 10,
             "solidity": 0.2
            },
            "type": "scatter"
           }
          ],
          "scatter3d": [
           {
            "line": {
             "colorbar": {
              "outlinewidth": 0,
              "ticks": ""
             }
            },
            "marker": {
             "colorbar": {
              "outlinewidth": 0,
              "ticks": ""
             }
            },
            "type": "scatter3d"
           }
          ],
          "scattercarpet": [
           {
            "marker": {
             "colorbar": {
              "outlinewidth": 0,
              "ticks": ""
             }
            },
            "type": "scattercarpet"
           }
          ],
          "scattergeo": [
           {
            "marker": {
             "colorbar": {
              "outlinewidth": 0,
              "ticks": ""
             }
            },
            "type": "scattergeo"
           }
          ],
          "scattergl": [
           {
            "marker": {
             "colorbar": {
              "outlinewidth": 0,
              "ticks": ""
             }
            },
            "type": "scattergl"
           }
          ],
          "scattermapbox": [
           {
            "marker": {
             "colorbar": {
              "outlinewidth": 0,
              "ticks": ""
             }
            },
            "type": "scattermapbox"
           }
          ],
          "scatterpolar": [
           {
            "marker": {
             "colorbar": {
              "outlinewidth": 0,
              "ticks": ""
             }
            },
            "type": "scatterpolar"
           }
          ],
          "scatterpolargl": [
           {
            "marker": {
             "colorbar": {
              "outlinewidth": 0,
              "ticks": ""
             }
            },
            "type": "scatterpolargl"
           }
          ],
          "scatterternary": [
           {
            "marker": {
             "colorbar": {
              "outlinewidth": 0,
              "ticks": ""
             }
            },
            "type": "scatterternary"
           }
          ],
          "surface": [
           {
            "colorbar": {
             "outlinewidth": 0,
             "ticks": ""
            },
            "colorscale": [
             [
              0,
              "#0d0887"
             ],
             [
              0.1111111111111111,
              "#46039f"
             ],
             [
              0.2222222222222222,
              "#7201a8"
             ],
             [
              0.3333333333333333,
              "#9c179e"
             ],
             [
              0.4444444444444444,
              "#bd3786"
             ],
             [
              0.5555555555555556,
              "#d8576b"
             ],
             [
              0.6666666666666666,
              "#ed7953"
             ],
             [
              0.7777777777777778,
              "#fb9f3a"
             ],
             [
              0.8888888888888888,
              "#fdca26"
             ],
             [
              1,
              "#f0f921"
             ]
            ],
            "type": "surface"
           }
          ],
          "table": [
           {
            "cells": {
             "fill": {
              "color": "#EBF0F8"
             },
             "line": {
              "color": "white"
             }
            },
            "header": {
             "fill": {
              "color": "#C8D4E3"
             },
             "line": {
              "color": "white"
             }
            },
            "type": "table"
           }
          ]
         },
         "layout": {
          "annotationdefaults": {
           "arrowcolor": "#2a3f5f",
           "arrowhead": 0,
           "arrowwidth": 1
          },
          "autotypenumbers": "strict",
          "coloraxis": {
           "colorbar": {
            "outlinewidth": 0,
            "ticks": ""
           }
          },
          "colorscale": {
           "diverging": [
            [
             0,
             "#8e0152"
            ],
            [
             0.1,
             "#c51b7d"
            ],
            [
             0.2,
             "#de77ae"
            ],
            [
             0.3,
             "#f1b6da"
            ],
            [
             0.4,
             "#fde0ef"
            ],
            [
             0.5,
             "#f7f7f7"
            ],
            [
             0.6,
             "#e6f5d0"
            ],
            [
             0.7,
             "#b8e186"
            ],
            [
             0.8,
             "#7fbc41"
            ],
            [
             0.9,
             "#4d9221"
            ],
            [
             1,
             "#276419"
            ]
           ],
           "sequential": [
            [
             0,
             "#0d0887"
            ],
            [
             0.1111111111111111,
             "#46039f"
            ],
            [
             0.2222222222222222,
             "#7201a8"
            ],
            [
             0.3333333333333333,
             "#9c179e"
            ],
            [
             0.4444444444444444,
             "#bd3786"
            ],
            [
             0.5555555555555556,
             "#d8576b"
            ],
            [
             0.6666666666666666,
             "#ed7953"
            ],
            [
             0.7777777777777778,
             "#fb9f3a"
            ],
            [
             0.8888888888888888,
             "#fdca26"
            ],
            [
             1,
             "#f0f921"
            ]
           ],
           "sequentialminus": [
            [
             0,
             "#0d0887"
            ],
            [
             0.1111111111111111,
             "#46039f"
            ],
            [
             0.2222222222222222,
             "#7201a8"
            ],
            [
             0.3333333333333333,
             "#9c179e"
            ],
            [
             0.4444444444444444,
             "#bd3786"
            ],
            [
             0.5555555555555556,
             "#d8576b"
            ],
            [
             0.6666666666666666,
             "#ed7953"
            ],
            [
             0.7777777777777778,
             "#fb9f3a"
            ],
            [
             0.8888888888888888,
             "#fdca26"
            ],
            [
             1,
             "#f0f921"
            ]
           ]
          },
          "colorway": [
           "#636efa",
           "#EF553B",
           "#00cc96",
           "#ab63fa",
           "#FFA15A",
           "#19d3f3",
           "#FF6692",
           "#B6E880",
           "#FF97FF",
           "#FECB52"
          ],
          "font": {
           "color": "#2a3f5f"
          },
          "geo": {
           "bgcolor": "white",
           "lakecolor": "white",
           "landcolor": "#E5ECF6",
           "showlakes": true,
           "showland": true,
           "subunitcolor": "white"
          },
          "hoverlabel": {
           "align": "left"
          },
          "hovermode": "closest",
          "mapbox": {
           "style": "light"
          },
          "paper_bgcolor": "white",
          "plot_bgcolor": "#E5ECF6",
          "polar": {
           "angularaxis": {
            "gridcolor": "white",
            "linecolor": "white",
            "ticks": ""
           },
           "bgcolor": "#E5ECF6",
           "radialaxis": {
            "gridcolor": "white",
            "linecolor": "white",
            "ticks": ""
           }
          },
          "scene": {
           "xaxis": {
            "backgroundcolor": "#E5ECF6",
            "gridcolor": "white",
            "gridwidth": 2,
            "linecolor": "white",
            "showbackground": true,
            "ticks": "",
            "zerolinecolor": "white"
           },
           "yaxis": {
            "backgroundcolor": "#E5ECF6",
            "gridcolor": "white",
            "gridwidth": 2,
            "linecolor": "white",
            "showbackground": true,
            "ticks": "",
            "zerolinecolor": "white"
           },
           "zaxis": {
            "backgroundcolor": "#E5ECF6",
            "gridcolor": "white",
            "gridwidth": 2,
            "linecolor": "white",
            "showbackground": true,
            "ticks": "",
            "zerolinecolor": "white"
           }
          },
          "shapedefaults": {
           "line": {
            "color": "#2a3f5f"
           }
          },
          "ternary": {
           "aaxis": {
            "gridcolor": "white",
            "linecolor": "white",
            "ticks": ""
           },
           "baxis": {
            "gridcolor": "white",
            "linecolor": "white",
            "ticks": ""
           },
           "bgcolor": "#E5ECF6",
           "caxis": {
            "gridcolor": "white",
            "linecolor": "white",
            "ticks": ""
           }
          },
          "title": {
           "x": 0.05
          },
          "xaxis": {
           "automargin": true,
           "gridcolor": "white",
           "linecolor": "white",
           "ticks": "",
           "title": {
            "standoff": 15
           },
           "zerolinecolor": "white",
           "zerolinewidth": 2
          },
          "yaxis": {
           "automargin": true,
           "gridcolor": "white",
           "linecolor": "white",
           "ticks": "",
           "title": {
            "standoff": 15
           },
           "zerolinecolor": "white",
           "zerolinewidth": 2
          }
         }
        },
        "xaxis": {
         "anchor": "y",
         "domain": [
          0,
          1
         ],
         "title": {
          "text": "YEAR"
         }
        },
        "yaxis": {
         "anchor": "x",
         "domain": [
          0,
          1
         ],
         "title": {
          "text": "value"
         }
        }
       }
      }
     },
     "metadata": {},
     "output_type": "display_data"
    }
   ],
   "source": [
    "df_dropped.groupby(['CAUSE.CATEGORY','YEAR']).count()['MONTH'].unstack(level=0).plot(kind='bar')"
   ]
  },
  {
   "cell_type": "code",
   "execution_count": 14,
   "metadata": {},
   "outputs": [
    {
     "data": {
      "image/png": "[encoded data removed]",
      "text/plain": [
       "<Figure size 640x480 with 1 Axes>"
      ]
     },
     "metadata": {},
     "output_type": "display_data"
    },
    {
     "name": "stdout",
     "output_type": "stream",
     "text": [
      "Each grouping represents 12 hour period, or half a day.\n"
     ]
    }
   ],
   "source": [
    "graph2 = df_dropped.groupby('OUTAGE.DURATION').count().reset_index()#['MONTH']#.plot(kind='hist')\n",
    "w = 12*60\n",
    "plt.hist(graph2['OUTAGE.DURATION'], bins=np.arange(min(graph2['OUTAGE.DURATION']), 25000, w), edgecolor='black', rwidth=500)\n",
    "plt.xlabel('Outage time in minutes (m)')\n",
    "plt.ylabel('Number of Outages')\n",
    "plt.title('Count of outages based on their duration')\n",
    "#plt.xticks([0, 1000, 2000, 4000, 6000, 8000, 10000, 100000])\n",
    "plt.show()\n",
    "print('Each grouping represents 12 hour period, or half a day.')"
   ]
  },
  {
   "cell_type": "code",
   "execution_count": 15,
   "metadata": {},
   "outputs": [
    {
     "data": {
      "application/vnd.plotly.v1+json": {
       "config": {
        "plotlyServerURL": "https://plot.ly"
       },
       "data": [
        {
         "hovertemplate": "variable=OUTAGE.DURATION<br>MONTH=%{x}<br>value=%{y}<extra></extra>",
         "legendgroup": "OUTAGE.DURATION",
         "line": {
          "color": "#636efa",
          "dash": "solid"
         },
         "marker": {
          "symbol": "circle"
         },
         "mode": "lines",
         "name": "OUTAGE.DURATION",
         "orientation": "v",
         "showlegend": true,
         "type": "scatter",
         "x": [
          1,
          2,
          3,
          4,
          5,
          6,
          7,
          8,
          9,
          10,
          11,
          12
         ],
         "xaxis": "x",
         "y": [
          3387.9473684210525,
          2497.1439393939395,
          3265.8936170212764,
          1493.8598130841121,
          2077.294117647059,
          1948.4032258064517,
          2218.9887005649716,
          2428.476821192053,
          4294.521739130435,
          3600.935185185185,
          1728.159420289855,
          3293.787037037037
         ],
         "yaxis": "y"
        }
       ],
       "layout": {
        "legend": {
         "title": {
          "text": "variable"
         },
         "tracegroupgap": 0
        },
        "margin": {
         "t": 60
        },
        "template": {
         "data": {
          "bar": [
           {
            "error_x": {
             "color": "#2a3f5f"
            },
            "error_y": {
             "color": "#2a3f5f"
            },
            "marker": {
             "line": {
              "color": "#E5ECF6",
              "width": 0.5
             },
             "pattern": {
              "fillmode": "overlay",
              "size": 10,
              "solidity": 0.2
             }
            },
            "type": "bar"
           }
          ],
          "barpolar": [
           {
            "marker": {
             "line": {
              "color": "#E5ECF6",
              "width": 0.5
             },
             "pattern": {
              "fillmode": "overlay",
              "size": 10,
              "solidity": 0.2
             }
            },
            "type": "barpolar"
           }
          ],
          "carpet": [
           {
            "aaxis": {
             "endlinecolor": "#2a3f5f",
             "gridcolor": "white",
             "linecolor": "white",
             "minorgridcolor": "white",
             "startlinecolor": "#2a3f5f"
            },
            "baxis": {
             "endlinecolor": "#2a3f5f",
             "gridcolor": "white",
             "linecolor": "white",
             "minorgridcolor": "white",
             "startlinecolor": "#2a3f5f"
            },
            "type": "carpet"
           }
          ],
          "choropleth": [
           {
            "colorbar": {
             "outlinewidth": 0,
             "ticks": ""
            },
            "type": "choropleth"
           }
          ],
          "contour": [
           {
            "colorbar": {
             "outlinewidth": 0,
             "ticks": ""
            },
            "colorscale": [
             [
              0,
              "#0d0887"
             ],
             [
              0.1111111111111111,
              "#46039f"
             ],
             [
              0.2222222222222222,
              "#7201a8"
             ],
             [
              0.3333333333333333,
              "#9c179e"
             ],
             [
              0.4444444444444444,
              "#bd3786"
             ],
             [
              0.5555555555555556,
              "#d8576b"
             ],
             [
              0.6666666666666666,
              "#ed7953"
             ],
             [
              0.7777777777777778,
              "#fb9f3a"
             ],
             [
              0.8888888888888888,
              "#fdca26"
             ],
             [
              1,
              "#f0f921"
             ]
            ],
            "type": "contour"
           }
          ],
          "contourcarpet": [
           {
            "colorbar": {
             "outlinewidth": 0,
             "ticks": ""
            },
            "type": "contourcarpet"
           }
          ],
          "heatmap": [
           {
            "colorbar": {
             "outlinewidth": 0,
             "ticks": ""
            },
            "colorscale": [
             [
              0,
              "#0d0887"
             ],
             [
              0.1111111111111111,
              "#46039f"
             ],
             [
              0.2222222222222222,
              "#7201a8"
             ],
             [
              0.3333333333333333,
              "#9c179e"
             ],
             [
              0.4444444444444444,
              "#bd3786"
             ],
             [
              0.5555555555555556,
              "#d8576b"
             ],
             [
              0.6666666666666666,
              "#ed7953"
             ],
             [
              0.7777777777777778,
              "#fb9f3a"
             ],
             [
              0.8888888888888888,
              "#fdca26"
             ],
             [
              1,
              "#f0f921"
             ]
            ],
            "type": "heatmap"
           }
          ],
          "heatmapgl": [
           {
            "colorbar": {
             "outlinewidth": 0,
             "ticks": ""
            },
            "colorscale": [
             [
              0,
              "#0d0887"
             ],
             [
              0.1111111111111111,
              "#46039f"
             ],
             [
              0.2222222222222222,
              "#7201a8"
             ],
             [
              0.3333333333333333,
              "#9c179e"
             ],
             [
              0.4444444444444444,
              "#bd3786"
             ],
             [
              0.5555555555555556,
              "#d8576b"
             ],
             [
              0.6666666666666666,
              "#ed7953"
             ],
             [
              0.7777777777777778,
              "#fb9f3a"
             ],
             [
              0.8888888888888888,
              "#fdca26"
             ],
             [
              1,
              "#f0f921"
             ]
            ],
            "type": "heatmapgl"
           }
          ],
          "histogram": [
           {
            "marker": {
             "pattern": {
              "fillmode": "overlay",
              "size": 10,
              "solidity": 0.2
             }
            },
            "type": "histogram"
           }
          ],
          "histogram2d": [
           {
            "colorbar": {
             "outlinewidth": 0,
             "ticks": ""
            },
            "colorscale": [
             [
              0,
              "#0d0887"
             ],
             [
              0.1111111111111111,
              "#46039f"
             ],
             [
              0.2222222222222222,
              "#7201a8"
             ],
             [
              0.3333333333333333,
              "#9c179e"
             ],
             [
              0.4444444444444444,
              "#bd3786"
             ],
             [
              0.5555555555555556,
              "#d8576b"
             ],
             [
              0.6666666666666666,
              "#ed7953"
             ],
             [
              0.7777777777777778,
              "#fb9f3a"
             ],
             [
              0.8888888888888888,
              "#fdca26"
             ],
             [
              1,
              "#f0f921"
             ]
            ],
            "type": "histogram2d"
           }
          ],
          "histogram2dcontour": [
           {
            "colorbar": {
             "outlinewidth": 0,
             "ticks": ""
            },
            "colorscale": [
             [
              0,
              "#0d0887"
             ],
             [
              0.1111111111111111,
              "#46039f"
             ],
             [
              0.2222222222222222,
              "#7201a8"
             ],
             [
              0.3333333333333333,
              "#9c179e"
             ],
             [
              0.4444444444444444,
              "#bd3786"
             ],
             [
              0.5555555555555556,
              "#d8576b"
             ],
             [
              0.6666666666666666,
              "#ed7953"
             ],
             [
              0.7777777777777778,
              "#fb9f3a"
             ],
             [
              0.8888888888888888,
              "#fdca26"
             ],
             [
              1,
              "#f0f921"
             ]
            ],
            "type": "histogram2dcontour"
           }
          ],
          "mesh3d": [
           {
            "colorbar": {
             "outlinewidth": 0,
             "ticks": ""
            },
            "type": "mesh3d"
           }
          ],
          "parcoords": [
           {
            "line": {
             "colorbar": {
              "outlinewidth": 0,
              "ticks": ""
             }
            },
            "type": "parcoords"
           }
          ],
          "pie": [
           {
            "automargin": true,
            "type": "pie"
           }
          ],
          "scatter": [
           {
            "fillpattern": {
             "fillmode": "overlay",
             "size": 10,
             "solidity": 0.2
            },
            "type": "scatter"
           }
          ],
          "scatter3d": [
           {
            "line": {
             "colorbar": {
              "outlinewidth": 0,
              "ticks": ""
             }
            },
            "marker": {
             "colorbar": {
              "outlinewidth": 0,
              "ticks": ""
             }
            },
            "type": "scatter3d"
           }
          ],
          "scattercarpet": [
           {
            "marker": {
             "colorbar": {
              "outlinewidth": 0,
              "ticks": ""
             }
            },
            "type": "scattercarpet"
           }
          ],
          "scattergeo": [
           {
            "marker": {
             "colorbar": {
              "outlinewidth": 0,
              "ticks": ""
             }
            },
            "type": "scattergeo"
           }
          ],
          "scattergl": [
           {
            "marker": {
             "colorbar": {
              "outlinewidth": 0,
              "ticks": ""
             }
            },
            "type": "scattergl"
           }
          ],
          "scattermapbox": [
           {
            "marker": {
             "colorbar": {
              "outlinewidth": 0,
              "ticks": ""
             }
            },
            "type": "scattermapbox"
           }
          ],
          "scatterpolar": [
           {
            "marker": {
             "colorbar": {
              "outlinewidth": 0,
              "ticks": ""
             }
            },
            "type": "scatterpolar"
           }
          ],
          "scatterpolargl": [
           {
            "marker": {
             "colorbar": {
              "outlinewidth": 0,
              "ticks": ""
             }
            },
            "type": "scatterpolargl"
           }
          ],
          "scatterternary": [
           {
            "marker": {
             "colorbar": {
              "outlinewidth": 0,
              "ticks": ""
             }
            },
            "type": "scatterternary"
           }
          ],
          "surface": [
           {
            "colorbar": {
             "outlinewidth": 0,
             "ticks": ""
            },
            "colorscale": [
             [
              0,
              "#0d0887"
             ],
             [
              0.1111111111111111,
              "#46039f"
             ],
             [
              0.2222222222222222,
              "#7201a8"
             ],
             [
              0.3333333333333333,
              "#9c179e"
             ],
             [
              0.4444444444444444,
              "#bd3786"
             ],
             [
              0.5555555555555556,
              "#d8576b"
             ],
             [
              0.6666666666666666,
              "#ed7953"
             ],
             [
              0.7777777777777778,
              "#fb9f3a"
             ],
             [
              0.8888888888888888,
              "#fdca26"
             ],
             [
              1,
              "#f0f921"
             ]
            ],
            "type": "surface"
           }
          ],
          "table": [
           {
            "cells": {
             "fill": {
              "color": "#EBF0F8"
             },
             "line": {
              "color": "white"
             }
            },
            "header": {
             "fill": {
              "color": "#C8D4E3"
             },
             "line": {
              "color": "white"
             }
            },
            "type": "table"
           }
          ]
         },
         "layout": {
          "annotationdefaults": {
           "arrowcolor": "#2a3f5f",
           "arrowhead": 0,
           "arrowwidth": 1
          },
          "autotypenumbers": "strict",
          "coloraxis": {
           "colorbar": {
            "outlinewidth": 0,
            "ticks": ""
           }
          },
          "colorscale": {
           "diverging": [
            [
             0,
             "#8e0152"
            ],
            [
             0.1,
             "#c51b7d"
            ],
            [
             0.2,
             "#de77ae"
            ],
            [
             0.3,
             "#f1b6da"
            ],
            [
             0.4,
             "#fde0ef"
            ],
            [
             0.5,
             "#f7f7f7"
            ],
            [
             0.6,
             "#e6f5d0"
            ],
            [
             0.7,
             "#b8e186"
            ],
            [
             0.8,
             "#7fbc41"
            ],
            [
             0.9,
             "#4d9221"
            ],
            [
             1,
             "#276419"
            ]
           ],
           "sequential": [
            [
             0,
             "#0d0887"
            ],
            [
             0.1111111111111111,
             "#46039f"
            ],
            [
             0.2222222222222222,
             "#7201a8"
            ],
            [
             0.3333333333333333,
             "#9c179e"
            ],
            [
             0.4444444444444444,
             "#bd3786"
            ],
            [
             0.5555555555555556,
             "#d8576b"
            ],
            [
             0.6666666666666666,
             "#ed7953"
            ],
            [
             0.7777777777777778,
             "#fb9f3a"
            ],
            [
             0.8888888888888888,
             "#fdca26"
            ],
            [
             1,
             "#f0f921"
            ]
           ],
           "sequentialminus": [
            [
             0,
             "#0d0887"
            ],
            [
             0.1111111111111111,
             "#46039f"
            ],
            [
             0.2222222222222222,
             "#7201a8"
            ],
            [
             0.3333333333333333,
             "#9c179e"
            ],
            [
             0.4444444444444444,
             "#bd3786"
            ],
            [
             0.5555555555555556,
             "#d8576b"
            ],
            [
             0.6666666666666666,
             "#ed7953"
            ],
            [
             0.7777777777777778,
             "#fb9f3a"
            ],
            [
             0.8888888888888888,
             "#fdca26"
            ],
            [
             1,
             "#f0f921"
            ]
           ]
          },
          "colorway": [
           "#636efa",
           "#EF553B",
           "#00cc96",
           "#ab63fa",
           "#FFA15A",
           "#19d3f3",
           "#FF6692",
           "#B6E880",
           "#FF97FF",
           "#FECB52"
          ],
          "font": {
           "color": "#2a3f5f"
          },
          "geo": {
           "bgcolor": "white",
           "lakecolor": "white",
           "landcolor": "#E5ECF6",
           "showlakes": true,
           "showland": true,
           "subunitcolor": "white"
          },
          "hoverlabel": {
           "align": "left"
          },
          "hovermode": "closest",
          "mapbox": {
           "style": "light"
          },
          "paper_bgcolor": "white",
          "plot_bgcolor": "#E5ECF6",
          "polar": {
           "angularaxis": {
            "gridcolor": "white",
            "linecolor": "white",
            "ticks": ""
           },
           "bgcolor": "#E5ECF6",
           "radialaxis": {
            "gridcolor": "white",
            "linecolor": "white",
            "ticks": ""
           }
          },
          "scene": {
           "xaxis": {
            "backgroundcolor": "#E5ECF6",
            "gridcolor": "white",
            "gridwidth": 2,
            "linecolor": "white",
            "showbackground": true,
            "ticks": "",
            "zerolinecolor": "white"
           },
           "yaxis": {
            "backgroundcolor": "#E5ECF6",
            "gridcolor": "white",
            "gridwidth": 2,
            "linecolor": "white",
            "showbackground": true,
            "ticks": "",
            "zerolinecolor": "white"
           },
           "zaxis": {
            "backgroundcolor": "#E5ECF6",
            "gridcolor": "white",
            "gridwidth": 2,
            "linecolor": "white",
            "showbackground": true,
            "ticks": "",
            "zerolinecolor": "white"
           }
          },
          "shapedefaults": {
           "line": {
            "color": "#2a3f5f"
           }
          },
          "ternary": {
           "aaxis": {
            "gridcolor": "white",
            "linecolor": "white",
            "ticks": ""
           },
           "baxis": {
            "gridcolor": "white",
            "linecolor": "white",
            "ticks": ""
           },
           "bgcolor": "#E5ECF6",
           "caxis": {
            "gridcolor": "white",
            "linecolor": "white",
            "ticks": ""
           }
          },
          "title": {
           "x": 0.05
          },
          "xaxis": {
           "automargin": true,
           "gridcolor": "white",
           "linecolor": "white",
           "ticks": "",
           "title": {
            "standoff": 15
           },
           "zerolinecolor": "white",
           "zerolinewidth": 2
          },
          "yaxis": {
           "automargin": true,
           "gridcolor": "white",
           "linecolor": "white",
           "ticks": "",
           "title": {
            "standoff": 15
           },
           "zerolinecolor": "white",
           "zerolinewidth": 2
          }
         }
        },
        "xaxis": {
         "anchor": "y",
         "domain": [
          0,
          1
         ],
         "title": {
          "text": "MONTH"
         }
        },
        "yaxis": {
         "anchor": "x",
         "domain": [
          0,
          1
         ],
         "title": {
          "text": "value"
         }
        }
       }
      }
     },
     "metadata": {},
     "output_type": "display_data"
    }
   ],
   "source": [
    "df_dropped.groupby('MONTH', dropna=True)['OUTAGE.DURATION'].mean().plot()"
   ]
  },
  {
   "cell_type": "code",
   "execution_count": 16,
   "metadata": {},
   "outputs": [
    {
     "data": {
      "application/vnd.plotly.v1+json": {
       "config": {
        "plotlyServerURL": "https://plot.ly"
       },
       "data": [
        {
         "hovertemplate": "variable=OUTAGE.DURATION<br>OUTAGE.START=%{x}<br>value=%{y}<extra></extra>",
         "legendgroup": "OUTAGE.DURATION",
         "line": {
          "color": "#636efa",
          "dash": "solid"
         },
         "marker": {
          "symbol": "circle"
         },
         "mode": "lines",
         "name": "OUTAGE.DURATION",
         "showlegend": true,
         "type": "scattergl",
         "x": [
          "2000-01-23T08:00:00",
          "2000-01-29T22:00:00",
          "2000-03-18T16:00:00",
          "2000-03-18T19:08:00",
          "2000-05-02T04:00:00",
          "2000-05-09T11:39:00",
          "2000-05-24T10:15:00",
          "2000-05-25T10:00:00",
          "2000-06-14T15:54:00",
          "2000-08-06T16:00:00",
          "2000-08-10T21:30:00",
          "2000-08-18T18:30:00",
          "2000-12-16T11:36:00",
          "2001-01-17T01:45:00",
          "2001-01-20T08:15:00",
          "2001-03-06T09:17:00",
          "2001-03-14T15:00:00",
          "2001-03-19T11:46:00",
          "2001-03-20T09:17:00",
          "2001-03-20T11:50:00",
          "2001-05-07T16:45:00",
          "2001-05-08T15:10:00",
          "2001-05-08T15:12:00",
          "2001-06-06T16:22:00",
          "2001-06-08T19:00:00",
          "2001-06-25T13:25:00",
          "2001-08-09T15:11:00",
          "2002-01-30T06:00:00",
          "2002-01-30T16:00:00",
          "2002-02-27T10:48:00",
          "2002-03-09T00:00:00",
          "2002-08-09T08:23:00",
          "2002-08-25T03:41:00",
          "2002-11-06T22:00:00",
          "2002-11-17T06:00:00",
          "2002-12-03T18:30:00",
          "2002-12-11T13:09:00",
          "2002-12-14T11:00:00",
          "2002-12-19T06:00:00",
          "2002-12-25T10:00:00",
          "2002-12-25T17:00:00",
          "2003-01-25T14:00:00",
          "2003-02-27T11:32:00",
          "2003-04-03T19:00:00",
          "2003-04-04T03:11:00",
          "2003-04-15T11:00:00",
          "2003-04-28T15:41:00",
          "2003-05-15T02:52:00",
          "2003-05-15T14:00:00",
          "2003-06-15T15:12:00",
          "2003-07-01T15:15:00",
          "2003-07-02T13:54:00",
          "2003-07-04T06:00:00",
          "2003-07-04T09:00:00",
          "2003-07-05T03:00:00",
          "2003-07-07T09:00:00",
          "2003-07-08T04:00:00",
          "2003-07-09T17:14:00",
          "2003-07-15T08:24:00",
          "2003-07-21T17:15:00",
          "2003-07-28T18:55:00",
          "2003-08-14T16:09:00",
          "2003-08-14T16:10:00",
          "2003-08-14T16:11:00",
          "2003-08-26T16:00:00",
          "2003-08-26T16:22:00",
          "2003-09-07T05:19:00",
          "2003-09-18T00:00:00",
          "2003-09-18T11:45:00",
          "2003-09-18T15:32:00",
          "2003-09-18T16:20:00",
          "2003-10-26T01:44:00",
          "2003-11-12T17:00:00",
          "2003-11-12T18:00:00",
          "2003-11-13T06:00:00",
          "2003-11-13T07:30:00",
          "2003-11-13T11:00:00",
          "2003-11-13T13:40:00",
          "2003-12-01T18:16:00",
          "2003-12-04T07:00:00",
          "2003-12-05T04:49:00",
          "2003-12-20T15:51:00",
          "2003-12-22T11:15:00",
          "2003-12-28T21:00:00",
          "2004-01-01T07:30:00",
          "2004-01-07T00:00:00",
          "2004-01-08T15:00:00",
          "2004-01-14T06:00:00",
          "2004-01-26T10:00:00",
          "2004-01-26T14:00:00",
          "2004-01-28T13:09:00",
          "2004-02-14T20:00:00",
          "2004-02-17T14:25:00",
          "2004-02-25T00:01:00",
          "2004-02-26T00:00:00",
          "2004-03-04T05:00:00",
          "2004-03-08T18:22:00",
          "2004-03-17T13:27:00",
          "2004-04-10T20:00:00",
          "2004-04-12T05:30:00",
          "2004-04-27T12:35:00",
          "2004-05-03T14:30:00",
          "2004-05-11T15:30:00",
          "2004-05-21T02:00:00",
          "2004-05-21T11:00:00",
          "2004-05-21T13:00:00",
          "2004-05-21T16:00:00",
          "2004-05-28T12:00:00",
          "2004-06-01T17:00:00",
          "2004-06-02T01:46:00",
          "2004-06-02T02:35:00",
          "2004-06-12T17:37:00",
          "2004-06-14T07:41:00",
          "2004-06-23T17:35:00",
          "2004-07-06T06:00:00",
          "2004-07-07T13:30:00",
          "2004-07-13T13:34:00",
          "2004-07-13T16:30:00",
          "2004-07-20T14:26:00",
          "2004-07-21T17:30:00",
          "2004-07-24T15:45:00",
          "2004-08-02T10:00:00",
          "2004-08-03T21:00:00",
          "2004-08-04T12:46:00",
          "2004-08-13T08:00:00",
          "2004-08-13T15:00:00",
          "2004-08-13T16:43:00",
          "2004-08-13T22:04:00",
          "2004-08-20T15:31:00",
          "2004-08-29T09:52:00",
          "2004-09-03T21:00:00",
          "2004-09-04T08:00:00",
          "2004-09-04T10:00:00",
          "2004-09-05T07:00:00",
          "2004-09-07T10:00:00",
          "2004-09-17T04:30:00",
          "2004-09-25T17:00:00",
          "2004-09-26T02:00:00",
          "2004-09-26T03:00:00",
          "2004-09-26T06:00:00",
          "2004-09-27T08:00:00",
          "2004-10-18T22:30:00",
          "2004-10-25T11:00:00",
          "2004-10-28T15:27:00",
          "2004-10-30T10:00:00",
          "2004-10-30T12:30:00",
          "2004-11-23T22:00:00",
          "2004-11-24T10:00:00",
          "2004-12-01T07:30:00",
          "2004-12-01T10:00:00",
          "2004-12-27T07:50:00",
          "2005-01-04T18:00:00",
          "2005-01-05T16:00:00",
          "2005-01-05T21:10:00",
          "2005-01-07T13:00:00",
          "2005-01-29T16:00:00",
          "2005-03-08T11:00:00",
          "2005-04-01T00:00:00",
          "2005-04-22T15:51:00",
          "2005-04-23T06:00:00",
          "2005-05-08T15:00:00",
          "2005-05-29T20:00:00",
          "2005-06-05T14:00:00",
          "2005-06-06T12:00:00",
          "2005-06-06T16:43:00",
          "2005-06-08T04:00:00",
          "2005-06-24T20:37:00",
          "2005-06-29T16:30:00",
          "2005-07-05T21:00:00",
          "2005-07-21T14:39:00",
          "2005-07-22T13:55:00",
          "2005-07-23T01:02:00",
          "2005-07-27T16:50:00",
          "2005-07-27T17:50:00",
          "2005-07-27T18:00:00",
          "2005-08-08T12:38:00",
          "2005-08-20T14:15:00",
          "2005-08-25T15:50:00",
          "2005-08-25T15:51:00",
          "2005-08-29T01:10:00",
          "2005-08-29T06:00:00",
          "2005-08-29T07:10:00",
          "2005-08-29T17:00:00",
          "2005-08-31T16:00:00",
          "2005-09-12T12:32:00",
          "2005-09-13T18:30:00",
          "2005-09-14T15:00:00",
          "2005-09-21T19:00:00",
          "2005-09-22T11:00:00",
          "2005-09-22T12:00:00",
          "2005-09-23T07:00:00",
          "2005-09-23T13:06:00",
          "2005-09-23T17:00:00",
          "2005-09-24T06:00:00",
          "2005-09-24T10:00:00",
          "2005-10-23T20:00:00",
          "2005-10-24T04:00:00",
          "2005-10-24T07:00:00",
          "2005-11-03T18:47:00",
          "2005-11-06T07:30:00",
          "2005-11-12T16:00:00",
          "2005-11-12T23:00:00",
          "2005-12-15T05:05:00",
          "2005-12-31T06:00:00",
          "2006-01-14T15:45:00",
          "2006-01-18T15:16:00",
          "2006-02-04T01:34:00",
          "2006-02-04T04:30:00",
          "2006-02-11T21:00:00",
          "2006-02-12T00:06:00",
          "2006-02-12T02:00:00",
          "2006-02-12T05:55:00",
          "2006-02-16T12:00:00",
          "2006-02-17T04:32:00",
          "2006-02-18T08:50:00",
          "2006-02-27T18:25:00",
          "2006-03-12T20:30:00",
          "2006-04-02T21:00:00",
          "2006-04-17T15:25:00",
          "2006-04-17T16:10:00",
          "2006-04-17T16:11:00",
          "2006-04-17T16:20:00",
          "2006-04-17T16:35:00",
          "2006-04-21T07:00:00",
          "2006-05-03T15:30:00",
          "2006-05-19T15:13:00",
          "2006-06-01T14:12:00",
          "2006-06-01T18:00:00",
          "2006-06-01T18:30:00",
          "2006-06-11T18:00:00",
          "2006-07-02T18:39:00",
          "2006-07-04T17:30:00",
          "2006-07-16T14:00:00",
          "2006-07-17T18:50:00",
          "2006-07-17T21:00:00",
          "2006-07-18T18:36:00",
          "2006-07-18T20:07:00",
          "2006-07-19T11:00:00",
          "2006-07-22T13:09:00",
          "2006-07-24T14:33:00",
          "2006-07-27T18:38:00",
          "2006-08-01T12:00:00",
          "2006-08-07T13:00:00",
          "2006-09-01T05:30:00",
          "2006-09-01T15:00:00",
          "2006-09-01T20:00:00",
          "2006-10-02T14:00:00",
          "2006-10-02T15:05:00",
          "2006-10-03T17:28:00",
          "2006-10-12T17:48:00",
          "2006-10-12T20:00:00",
          "2006-10-15T07:09:00",
          "2006-10-26T05:30:00",
          "2006-11-15T10:00:00",
          "2006-11-15T13:00:00",
          "2006-11-15T15:00:00",
          "2006-11-26T13:00:00",
          "2006-12-01T18:20:00",
          "2006-12-10T19:35:00",
          "2006-12-13T04:30:00",
          "2006-12-14T00:01:00",
          "2006-12-14T05:30:00",
          "2006-12-14T12:07:00",
          "2006-12-14T17:00:00",
          "2006-12-14T19:00:00",
          "2006-12-16T19:30:00",
          "2006-12-26T00:01:00",
          "2006-12-30T22:25:00",
          "2007-01-13T07:30:00",
          "2007-01-16T02:00:00",
          "2007-02-13T17:00:00",
          "2007-02-24T18:00:00",
          "2007-02-24T19:23:00",
          "2007-02-28T00:45:00",
          "2007-03-31T07:30:00",
          "2007-04-05T21:20:00",
          "2007-04-12T00:32:00",
          "2007-04-12T09:09:00",
          "2007-04-16T08:00:00",
          "2007-04-16T10:14:00",
          "2007-04-16T14:00:00",
          "2007-05-02T13:30:00",
          "2007-05-10T09:57:00",
          "2007-05-14T11:15:00",
          "2007-05-15T15:00:00",
          "2007-05-16T18:00:00",
          "2007-05-21T13:48:00",
          "2007-06-27T15:41:00",
          "2007-06-27T15:42:00",
          "2007-06-29T09:23:00",
          "2007-07-03T10:59:00",
          "2007-07-05T19:00:00",
          "2007-07-10T11:00:00",
          "2007-07-16T16:17:00",
          "2007-07-18T18:00:00",
          "2007-07-19T15:00:00",
          "2007-07-19T15:50:00",
          "2007-08-09T14:53:00",
          "2007-08-13T01:30:00",
          "2007-08-19T23:34:00",
          "2007-08-23T16:00:00",
          "2007-08-24T18:00:00",
          "2007-08-29T13:53:00",
          "2007-08-29T16:00:00",
          "2007-08-31T12:45:00",
          "2007-09-03T12:30:00",
          "2007-09-04T08:30:00",
          "2007-09-05T07:53:00",
          "2007-09-13T04:00:00",
          "2007-09-17T19:01:00",
          "2007-09-24T13:38:00",
          "2007-10-18T15:00:00",
          "2007-10-22T14:01:00",
          "2007-10-22T14:05:00",
          "2007-10-22T14:06:00",
          "2007-10-26T06:44:00",
          "2007-12-01T18:04:00",
          "2007-12-10T03:08:00",
          "2007-12-11T04:00:00",
          "2007-12-23T01:00:00",
          "2007-12-23T05:30:00",
          "2008-01-04T04:00:00",
          "2008-01-04T07:47:00",
          "2008-01-29T05:00:00",
          "2008-01-29T22:00:00",
          "2008-01-29T23:23:00",
          "2008-01-30T03:06:00",
          "2008-02-01T06:00:00",
          "2008-02-02T03:58:00",
          "2008-02-05T22:00:00",
          "2008-02-06T09:00:00",
          "2008-02-09T11:59:00",
          "2008-02-10T14:06:00",
          "2008-02-10T18:02:00",
          "2008-02-13T18:43:00",
          "2008-02-14T08:15:00",
          "2008-02-15T15:06:00",
          "2008-02-25T08:00:00",
          "2008-02-26T13:09:00",
          "2008-02-26T13:10:00",
          "2008-03-08T16:00:00",
          "2008-04-09T16:00:00",
          "2008-05-08T10:21:00",
          "2008-05-11T06:00:00",
          "2008-05-11T16:50:00",
          "2008-05-12T00:01:00",
          "2008-05-27T14:02:00",
          "2008-05-30T09:30:00",
          "2008-05-30T14:05:00",
          "2008-05-30T22:00:00",
          "2008-06-04T15:00:00",
          "2008-06-04T15:04:00",
          "2008-06-06T15:18:00",
          "2008-06-08T09:30:00",
          "2008-06-08T18:00:00",
          "2008-06-09T14:52:00",
          "2008-06-10T11:00:00",
          "2008-06-10T18:00:00",
          "2008-06-10T19:00:00",
          "2008-06-11T13:15:00",
          "2008-06-12T15:30:00",
          "2008-06-15T08:00:00",
          "2008-06-15T19:06:00",
          "2008-06-16T16:15:00",
          "2008-06-17T09:01:00",
          "2008-06-21T15:09:00",
          "2008-06-22T16:55:00",
          "2008-06-23T13:44:00",
          "2008-06-23T16:52:00",
          "2008-06-26T17:00:00",
          "2008-06-27T16:30:00",
          "2008-07-01T07:31:00",
          "2008-07-02T15:00:00",
          "2008-07-02T19:16:00",
          "2008-07-02T19:36:00",
          "2008-07-02T20:00:00",
          "2008-07-07T12:15:00",
          "2008-07-10T14:22:00",
          "2008-07-22T03:00:00",
          "2008-07-23T05:56:00",
          "2008-07-24T07:23:00",
          "2008-08-04T18:00:00",
          "2008-08-05T03:00:00",
          "2008-08-15T12:52:00",
          "2008-08-16T05:23:00",
          "2008-08-19T09:29:00",
          "2008-08-21T19:00:00",
          "2008-08-31T07:30:00",
          "2008-09-01T10:30:00",
          "2008-09-01T11:45:00",
          "2008-09-06T07:45:00",
          "2008-09-08T22:03:00",
          "2008-09-12T18:21:00",
          "2008-09-12T20:00:00",
          "2008-09-13T10:24:00",
          "2008-09-13T12:00:00",
          "2008-09-14T10:01:00",
          "2008-09-14T11:30:00",
          "2008-09-14T14:00:00",
          "2008-09-14T17:00:00",
          "2008-09-14T19:00:00",
          "2008-09-15T00:37:00",
          "2008-09-30T14:02:00",
          "2008-10-02T14:50:00",
          "2008-10-25T23:00:00",
          "2008-11-07T11:13:00",
          "2008-11-07T11:15:00",
          "2008-11-15T09:39:00",
          "2008-12-02T04:30:00",
          "2008-12-09T17:27:00",
          "2008-12-10T17:09:00",
          "2008-12-11T18:00:00",
          "2008-12-12T02:38:00",
          "2008-12-12T08:45:00",
          "2008-12-13T15:30:00",
          "2008-12-19T01:02:00",
          "2008-12-19T09:00:00",
          "2008-12-26T11:40:00",
          "2008-12-26T18:13:00",
          "2008-12-27T16:00:00",
          "2008-12-28T04:45:00",
          "2008-12-28T11:45:00",
          "2008-12-30T16:02:00",
          "2009-01-05T05:00:00",
          "2009-01-08T23:46:00",
          "2009-01-17T08:00:00",
          "2009-01-22T16:00:00",
          "2009-01-27T05:00:00",
          "2009-01-27T05:03:00",
          "2009-01-27T11:00:00",
          "2009-01-27T13:46:00",
          "2009-01-27T21:00:00",
          "2009-01-27T21:45:00",
          "2009-01-28T00:10:00",
          "2009-01-28T04:00:00",
          "2009-01-28T06:00:00",
          "2009-01-28T07:50:00",
          "2009-02-11T02:30:00",
          "2009-02-11T19:00:00",
          "2009-02-12T02:30:00",
          "2009-02-12T08:00:00",
          "2009-02-13T02:30:00",
          "2009-02-23T02:38:00",
          "2009-03-01T00:15:00",
          "2009-03-01T22:00:00",
          "2009-03-03T06:48:00",
          "2009-03-03T22:00:00",
          "2009-03-08T22:16:00",
          "2009-04-06T01:00:00",
          "2009-04-23T16:25:00",
          "2009-04-23T17:54:00",
          "2009-04-24T11:09:00",
          "2009-04-25T14:30:00",
          "2009-04-27T15:30:00",
          "2009-05-08T07:30:00",
          "2009-05-08T13:30:00",
          "2009-05-29T09:05:00",
          "2009-06-05T13:38:00",
          "2009-06-09T17:25:00",
          "2009-06-10T18:00:00",
          "2009-06-12T16:37:00",
          "2009-06-12T22:00:00",
          "2009-06-16T23:00:00",
          "2009-06-19T00:01:00",
          "2009-06-19T13:00:00",
          "2009-06-24T13:30:00",
          "2009-06-25T15:16:00",
          "2009-06-25T15:30:00",
          "2009-06-26T17:00:00",
          "2009-07-02T22:44:00",
          "2009-07-07T15:30:00",
          "2009-07-08T13:30:00",
          "2009-07-14T13:00:00",
          "2009-07-15T13:00:00",
          "2009-07-16T13:00:00",
          "2009-07-18T19:00:00",
          "2009-07-20T21:50:00",
          "2009-07-21T05:34:00",
          "2009-07-27T05:05:00",
          "2009-07-28T20:18:00",
          "2009-08-05T15:00:00",
          "2009-08-07T23:00:00",
          "2009-08-09T19:31:00",
          "2009-08-12T18:25:00",
          "2009-08-21T19:00:00",
          "2009-08-29T11:00:00",
          "2009-08-29T22:54:00",
          "2009-08-31T10:31:00",
          "2009-10-07T05:45:00",
          "2009-10-09T18:30:00",
          "2009-10-13T12:48:00",
          "2009-10-13T15:45:00",
          "2009-10-13T16:00:00",
          "2009-11-18T06:15:00",
          "2009-12-07T22:00:00",
          "2009-12-08T01:00:00",
          "2009-12-08T06:34:00",
          "2009-12-09T13:37:00",
          "2009-12-10T17:45:00",
          "2009-12-18T22:55:00",
          "2010-01-06T18:00:00",
          "2010-01-11T03:45:00",
          "2010-01-18T11:30:00",
          "2010-01-19T07:30:00",
          "2010-01-19T14:30:00",
          "2010-01-20T13:00:00",
          "2010-01-28T12:00:00",
          "2010-02-01T14:32:00",
          "2010-02-05T15:00:00",
          "2010-02-05T19:00:00",
          "2010-02-05T22:30:00",
          "2010-02-09T18:00:00",
          "2010-02-11T12:00:00",
          "2010-02-19T20:30:00",
          "2010-02-23T22:00:00",
          "2010-02-25T17:00:00",
          "2010-03-13T01:00:00",
          "2010-03-13T12:00:00",
          "2010-03-13T15:00:00",
          "2010-03-13T16:00:00",
          "2010-03-13T18:00:00",
          "2010-03-31T23:59:00",
          "2010-04-16T17:15:00",
          "2010-04-21T15:05:00",
          "2010-04-27T14:55:00",
          "2010-05-18T08:15:00",
          "2010-06-01T22:03:00",
          "2010-06-02T20:18:00",
          "2010-06-06T04:45:00",
          "2010-06-07T18:29:00",
          "2010-06-08T11:00:00",
          "2010-06-09T14:18:00",
          "2010-06-16T11:11:00",
          "2010-06-17T08:30:00",
          "2010-06-17T09:30:00",
          "2010-06-17T10:49:00",
          "2010-06-18T15:30:00",
          "2010-06-18T16:00:00",
          "2010-06-18T19:00:00",
          "2010-06-18T20:00:00",
          "2010-06-21T13:48:00",
          "2010-06-22T15:34:00",
          "2010-06-23T17:00:00",
          "2010-06-23T17:48:00",
          "2010-06-24T15:00:00",
          "2010-06-24T15:30:00",
          "2010-06-25T23:36:00",
          "2010-07-06T03:47:00",
          "2010-07-07T16:13:00",
          "2010-07-15T19:00:00",
          "2010-07-17T20:30:00",
          "2010-07-21T18:44:00",
          "2010-07-23T10:00:00",
          "2010-07-23T19:30:00",
          "2010-07-25T15:10:00",
          "2010-07-25T15:20:00",
          "2010-07-25T16:11:00",
          "2010-07-29T17:43:00",
          "2010-07-29T18:39:00",
          "2010-08-02T12:00:00",
          "2010-08-02T12:45:00",
          "2010-08-05T15:30:00",
          "2010-08-05T15:54:00",
          "2010-08-09T12:00:00",
          "2010-08-12T06:45:00",
          "2010-08-12T08:21:00",
          "2010-08-12T15:42:00",
          "2010-08-19T18:00:00",
          "2010-08-23T17:50:00",
          "2010-09-01T10:20:00",
          "2010-09-07T14:02:00",
          "2010-09-20T17:00:00",
          "2010-09-21T21:31:00",
          "2010-09-22T06:12:00",
          "2010-09-22T16:08:00",
          "2010-09-22T17:38:00",
          "2010-09-27T15:15:00",
          "2010-10-05T05:45:00",
          "2010-10-26T09:00:00",
          "2010-10-26T20:00:00",
          "2010-10-27T04:00:00",
          "2010-10-27T08:00:00",
          "2010-10-27T17:00:00",
          "2010-10-27T17:16:00",
          "2010-10-31T22:26:00",
          "2010-11-04T09:46:00",
          "2010-11-06T15:53:00",
          "2010-11-08T06:47:00",
          "2010-11-13T15:00:00",
          "2010-11-21T01:39:00",
          "2010-11-22T23:00:00",
          "2010-11-23T14:01:00",
          "2010-12-03T21:32:00",
          "2010-12-12T16:30:00",
          "2010-12-14T07:20:00",
          "2010-12-14T07:36:00",
          "2010-12-18T05:00:00",
          "2010-12-30T14:00:00",
          "2011-01-11T23:08:00",
          "2011-01-12T06:00:00",
          "2011-01-13T07:21:00",
          "2011-01-18T14:00:00",
          "2011-01-23T07:00:00",
          "2011-01-24T13:20:00",
          "2011-01-25T03:23:00",
          "2011-01-26T09:25:00",
          "2011-01-26T09:33:00",
          "2011-01-26T17:00:00",
          "2011-01-26T18:28:00",
          "2011-01-26T19:43:00",
          "2011-01-27T09:30:00",
          "2011-01-27T17:00:00",
          "2011-02-01T21:00:00",
          "2011-02-02T03:00:00",
          "2011-02-02T05:43:00",
          "2011-02-02T06:22:00",
          "2011-02-03T14:30:00",
          "2011-02-03T15:00:00",
          "2011-02-03T22:04:00",
          "2011-02-09T03:45:00",
          "2011-02-09T14:54:00",
          "2011-02-09T16:30:00",
          "2011-02-10T13:00:00",
          "2011-02-17T01:25:00",
          "2011-02-17T13:00:00",
          "2011-02-19T12:30:00",
          "2011-02-19T16:34:00",
          "2011-02-20T16:00:00",
          "2011-02-24T16:51:00",
          "2011-02-25T08:00:00",
          "2011-02-25T10:30:00",
          "2011-02-25T15:20:00",
          "2011-02-25T15:23:00",
          "2011-03-01T08:00:00",
          "2011-03-06T02:54:00",
          "2011-03-08T08:00:00",
          "2011-03-10T12:03:00",
          "2011-03-11T07:02:00",
          "2011-03-13T14:20:00",
          "2011-03-14T07:30:00",
          "2011-03-15T18:00:00",
          "2011-03-17T07:40:00",
          "2011-03-18T09:54:00",
          "2011-03-19T23:56:00",
          "2011-03-20T09:44:00",
          "2011-03-21T00:57:00",
          "2011-03-21T12:35:00",
          "2011-03-27T13:27:00",
          "2011-03-31T11:30:00",
          "2011-03-31T14:30:00",
          "2011-04-04T11:47:00",
          "2011-04-04T13:00:00",
          "2011-04-04T14:00:00",
          "2011-04-06T10:50:00",
          "2011-04-11T17:40:00",
          "2011-04-16T14:16:00",
          "2011-04-19T14:01:00",
          "2011-04-19T20:00:00",
          "2011-04-19T22:44:00",
          "2011-04-19T23:02:00",
          "2011-04-19T23:13:00",
          "2011-04-20T08:07:00",
          "2011-04-21T07:15:00",
          "2011-04-21T19:00:00",
          "2011-04-22T21:00:00",
          "2011-04-25T16:33:00",
          "2011-04-26T05:49:00",
          "2011-04-26T13:04:00",
          "2011-04-26T18:14:00",
          "2011-04-28T05:00:00",
          "2011-04-28T16:09:00",
          "2011-05-02T08:52:00",
          "2011-05-02T14:00:00",
          "2011-05-02T17:06:00",
          "2011-05-03T12:00:00",
          "2011-05-04T12:20:00",
          "2011-05-04T13:08:00",
          "2011-05-05T09:15:00",
          "2011-05-06T06:56:00",
          "2011-05-08T19:35:00",
          "2011-05-09T04:08:00",
          "2011-05-09T13:11:00",
          "2011-05-10T03:25:00",
          "2011-05-10T13:45:00",
          "2011-05-11T00:15:00",
          "2011-05-11T11:00:00",
          "2011-05-11T13:35:00",
          "2011-05-11T15:55:00",
          "2011-05-13T06:00:00",
          "2011-05-21T17:00:00",
          "2011-05-22T17:09:00",
          "2011-05-23T12:30:00",
          "2011-05-23T16:45:00",
          "2011-05-24T09:00:00",
          "2011-05-24T16:35:00",
          "2011-05-24T16:45:00",
          "2011-05-25T22:14:00",
          "2011-05-26T01:00:00",
          "2011-05-26T18:30:00",
          "2011-05-26T19:56:00",
          "2011-05-29T18:30:00",
          "2011-06-02T23:45:00",
          "2011-06-04T01:17:00",
          "2011-06-05T05:30:00",
          "2011-06-05T20:02:00",
          "2011-06-06T15:00:00",
          "2011-06-07T14:00:00",
          "2011-06-08T12:58:00",
          "2011-06-09T04:30:00",
          "2011-06-09T14:15:00",
          "2011-06-12T19:00:00",
          "2011-06-15T16:00:00",
          "2011-06-15T19:15:00",
          "2011-06-15T19:17:00",
          "2011-06-18T15:30:00",
          "2011-06-18T16:45:00",
          "2011-06-20T10:36:00",
          "2011-06-21T21:45:00",
          "2011-06-22T09:46:00",
          "2011-06-22T20:12:00",
          "2011-06-23T08:10:00",
          "2011-06-26T16:46:00",
          "2011-06-27T15:00:00",
          "2011-06-27T18:55:00",
          "2011-06-29T11:30:00",
          "2011-06-30T14:11:00",
          "2011-06-30T22:30:00",
          "2011-06-30T22:31:00",
          "2011-07-01T08:00:00",
          "2011-07-01T16:38:00",
          "2011-07-01T17:00:00",
          "2011-07-02T20:15:00",
          "2011-07-04T18:00:00",
          "2011-07-05T10:40:00",
          "2011-07-06T09:51:00",
          "2011-07-08T10:00:00",
          "2011-07-11T09:00:00",
          "2011-07-11T11:15:00",
          "2011-07-11T13:13:00",
          "2011-07-11T13:30:00",
          "2011-07-12T12:00:00",
          "2011-07-12T20:20:00",
          "2011-07-13T17:19:00",
          "2011-07-14T11:00:00",
          "2011-07-18T17:00:00",
          "2011-07-19T11:45:00",
          "2011-07-20T09:10:00",
          "2011-07-21T12:32:00",
          "2011-07-21T13:00:00",
          "2011-07-22T11:00:00",
          "2011-07-22T11:34:00",
          "2011-07-23T02:30:00",
          "2011-07-24T14:34:00",
          "2011-07-26T12:01:00",
          "2011-07-27T12:07:00",
          "2011-07-28T00:14:00",
          "2011-07-28T07:26:00",
          "2011-07-28T13:32:00",
          "2011-07-28T19:25:00",
          "2011-07-29T11:46:00",
          "2011-07-29T20:45:00",
          "2011-08-01T14:18:00",
          "2011-08-01T15:00:00",
          "2011-08-02T10:15:00",
          "2011-08-02T21:30:00",
          "2011-08-03T10:00:00",
          "2011-08-03T16:29:00",
          "2011-08-03T16:30:00",
          "2011-08-08T09:30:00",
          "2011-08-08T09:35:00",
          "2011-08-08T19:36:00",
          "2011-08-08T20:58:00",
          "2011-08-09T10:26:00",
          "2011-08-13T16:41:00",
          "2011-08-15T02:05:00",
          "2011-08-18T09:51:00",
          "2011-08-20T17:42:00",
          "2011-08-22T10:05:00",
          "2011-08-23T13:51:00",
          "2011-08-23T15:43:00",
          "2011-08-24T07:45:00",
          "2011-08-24T13:20:00",
          "2011-08-25T00:01:00",
          "2011-08-25T00:30:00",
          "2011-08-26T00:30:00",
          "2011-08-27T02:00:00",
          "2011-08-27T02:57:00",
          "2011-08-27T19:00:00",
          "2011-08-27T20:30:00",
          "2011-08-27T22:00:00",
          "2011-08-27T23:00:00",
          "2011-08-27T23:05:00",
          "2011-08-28T00:01:00",
          "2011-08-28T00:23:00",
          "2011-08-28T00:30:00",
          "2011-08-28T02:58:00",
          "2011-08-28T05:00:00",
          "2011-08-28T05:01:00",
          "2011-08-28T07:00:00",
          "2011-08-28T07:40:00",
          "2011-08-28T09:42:00",
          "2011-08-28T12:10:00",
          "2011-08-28T12:30:00",
          "2011-08-28T20:55:00",
          "2011-08-31T12:52:00",
          "2011-09-01T08:13:00",
          "2011-09-03T14:00:00",
          "2011-09-08T19:53:00",
          "2011-09-12T09:15:00",
          "2011-09-13T11:43:00",
          "2011-09-13T14:03:00",
          "2011-09-14T09:00:00",
          "2011-09-20T12:55:00",
          "2011-09-21T10:30:00",
          "2011-09-22T14:50:00",
          "2011-09-23T09:04:00",
          "2011-09-24T16:17:00",
          "2011-09-26T10:15:00",
          "2011-09-28T09:30:00",
          "2011-09-28T14:59:00",
          "2011-09-28T16:41:00",
          "2011-09-29T05:00:00",
          "2011-09-29T18:44:00",
          "2011-09-30T08:22:00",
          "2011-10-06T11:07:00",
          "2011-10-07T08:04:00",
          "2011-10-14T14:20:00",
          "2011-10-17T03:34:00",
          "2011-10-17T15:44:00",
          "2011-10-18T03:45:00",
          "2011-10-20T07:15:00",
          "2011-10-24T23:37:00",
          "2011-10-26T05:00:00",
          "2011-10-27T01:00:00",
          "2011-10-29T08:59:00",
          "2011-10-29T09:59:00",
          "2011-10-29T11:18:00",
          "2011-10-29T12:57:00",
          "2011-10-29T14:00:00",
          "2011-10-29T14:30:00",
          "2011-10-29T15:00:00",
          "2011-10-29T16:16:00",
          "2011-11-04T10:46:00",
          "2011-11-13T11:30:00",
          "2011-11-14T14:24:00",
          "2011-11-22T23:16:00",
          "2011-11-30T10:00:00",
          "2011-11-30T16:56:00",
          "2011-12-01T00:45:00",
          "2011-12-01T03:29:00",
          "2011-12-01T10:00:00",
          "2011-12-02T16:15:00",
          "2011-12-05T14:00:00",
          "2011-12-06T08:00:00",
          "2011-12-06T17:38:00",
          "2011-12-07T19:29:00",
          "2011-12-08T08:45:00",
          "2011-12-13T03:19:00",
          "2011-12-19T08:48:00",
          "2011-12-20T07:45:00",
          "2011-12-20T09:30:00",
          "2011-12-21T10:30:00",
          "2011-12-31T21:26:00",
          "2012-01-04T12:14:00",
          "2012-01-05T10:28:00",
          "2012-01-05T10:35:00",
          "2012-01-09T13:36:00",
          "2012-01-09T14:30:00",
          "2012-01-10T21:30:00",
          "2012-01-11T07:19:00",
          "2012-01-12T08:26:00",
          "2012-01-13T09:20:00",
          "2012-01-15T09:35:00",
          "2012-01-17T10:31:00",
          "2012-01-19T07:00:00",
          "2012-01-24T11:22:00",
          "2012-01-27T09:40:00",
          "2012-01-29T12:45:00",
          "2012-02-11T08:47:00",
          "2012-02-11T08:55:00",
          "2012-02-13T07:02:00",
          "2012-02-14T19:20:00",
          "2012-02-15T05:33:00",
          "2012-02-17T03:00:00",
          "2012-02-23T05:45:00",
          "2012-02-23T23:12:00",
          "2012-02-24T11:24:00",
          "2012-02-28T02:59:00",
          "2012-02-28T07:00:00",
          "2012-03-02T13:45:00",
          "2012-03-02T21:00:00",
          "2012-03-04T01:27:00",
          "2012-03-04T13:38:00",
          "2012-03-16T16:00:00",
          "2012-03-20T08:00:00",
          "2012-03-23T19:34:00",
          "2012-03-26T13:24:00",
          "2012-03-28T10:17:00",
          "2012-03-29T12:01:00",
          "2012-03-30T11:10:00",
          "2012-04-01T20:27:00",
          "2012-04-03T11:10:00",
          "2012-04-03T15:33:00",
          "2012-04-04T15:32:00",
          "2012-04-07T09:31:00",
          "2012-04-07T12:25:00",
          "2012-04-07T14:35:00",
          "2012-04-11T09:00:00",
          "2012-04-12T08:08:00",
          "2012-04-15T19:38:00",
          "2012-04-16T15:46:00",
          "2012-04-17T06:11:00",
          "2012-04-19T07:53:00",
          "2012-04-20T14:27:00",
          "2012-04-21T15:02:00",
          "2012-04-21T20:55:00",
          "2012-04-23T08:11:00",
          "2012-04-23T11:56:00",
          "2012-05-07T12:50:00",
          "2012-05-07T17:45:00",
          "2012-05-11T11:05:00",
          "2012-05-24T15:20:00",
          "2012-05-29T18:30:00",
          "2012-05-29T20:35:00",
          "2012-05-31T23:45:00",
          "2012-06-02T07:30:00",
          "2012-06-06T08:00:00",
          "2012-06-06T12:37:00",
          "2012-06-08T17:20:00",
          "2012-06-12T15:57:00",
          "2012-06-13T16:55:00",
          "2012-06-19T04:30:00",
          "2012-06-19T05:30:00",
          "2012-06-23T18:57:00",
          "2012-06-25T16:04:00",
          "2012-06-29T10:45:00",
          "2012-06-29T14:10:00",
          "2012-06-29T16:00:00",
          "2012-06-29T18:24:00",
          "2012-06-29T22:15:00",
          "2012-06-29T22:29:00",
          "2012-06-29T22:43:00",
          "2012-06-29T23:30:00",
          "2012-06-30T01:00:00",
          "2012-06-30T01:15:00",
          "2012-06-30T15:00:00",
          "2012-06-30T22:30:00",
          "2012-07-01T13:00:00",
          "2012-07-01T16:47:00",
          "2012-07-01T17:45:00",
          "2012-07-05T00:00:00",
          "2012-07-05T19:00:00",
          "2012-07-06T15:05:00",
          "2012-07-07T04:00:00",
          "2012-07-07T06:06:00",
          "2012-07-07T18:00:00",
          "2012-07-16T11:27:00",
          "2012-07-18T16:20:00",
          "2012-07-18T23:00:00",
          "2012-07-19T10:30:00",
          "2012-07-19T12:32:00",
          "2012-07-21T02:19:00",
          "2012-07-24T07:01:00",
          "2012-07-24T07:30:00",
          "2012-07-26T18:14:00",
          "2012-07-26T18:21:00",
          "2012-07-26T18:30:00",
          "2012-07-27T17:19:00",
          "2012-08-04T03:55:00",
          "2012-08-04T04:00:00",
          "2012-08-04T17:30:00",
          "2012-08-11T12:45:00",
          "2012-08-13T13:15:00",
          "2012-08-16T13:13:00",
          "2012-08-19T08:42:00",
          "2012-08-26T22:04:00",
          "2012-08-29T06:53:00",
          "2012-08-29T09:00:00",
          "2012-08-29T09:48:00",
          "2012-09-07T21:30:00",
          "2012-09-08T15:40:00",
          "2012-09-08T15:53:00",
          "2012-09-24T00:00:00",
          "2012-10-05T17:30:00",
          "2012-10-09T00:00:00",
          "2012-10-11T00:00:00",
          "2012-10-14T10:36:00",
          "2012-10-15T14:15:00",
          "2012-10-22T00:00:00",
          "2012-10-23T09:10:00",
          "2012-10-24T00:00:00",
          "2012-10-24T15:15:00",
          "2012-10-25T00:00:00",
          "2012-10-25T14:39:00",
          "2012-10-25T18:51:00",
          "2012-10-29T00:00:00",
          "2012-10-29T08:00:00",
          "2012-10-29T09:00:00",
          "2012-10-29T12:00:00",
          "2012-10-29T13:00:00",
          "2012-10-29T14:40:00",
          "2012-10-29T14:45:00",
          "2012-10-29T15:00:00",
          "2012-10-29T16:00:00",
          "2012-10-29T16:01:00",
          "2012-10-29T16:03:00",
          "2012-10-29T16:45:00",
          "2012-10-29T17:13:00",
          "2012-10-29T17:30:00",
          "2012-10-29T18:11:00",
          "2012-10-29T18:12:00",
          "2012-10-29T18:48:00",
          "2012-10-29T19:15:00",
          "2012-10-30T00:00:00",
          "2012-10-30T02:00:00",
          "2012-10-30T13:20:00",
          "2012-10-30T15:00:00",
          "2012-11-02T09:30:00",
          "2012-11-07T14:21:00",
          "2012-11-08T09:34:00",
          "2012-11-15T05:38:00",
          "2012-11-17T10:00:00",
          "2012-11-21T14:50:00",
          "2012-11-26T12:37:00",
          "2012-11-26T15:07:00",
          "2012-11-27T13:07:00",
          "2012-12-02T05:20:00",
          "2012-12-03T12:02:00",
          "2012-12-06T21:18:00",
          "2012-12-17T06:55:00",
          "2012-12-25T09:28:00",
          "2012-12-26T14:50:00",
          "2012-12-31T14:21:00",
          "2013-01-07T10:43:00",
          "2013-01-16T07:41:00",
          "2013-01-16T14:25:00",
          "2013-01-16T16:45:00",
          "2013-01-17T19:02:00",
          "2013-01-17T20:35:00",
          "2013-01-20T03:30:00",
          "2013-01-28T16:46:00",
          "2013-01-31T03:05:00",
          "2013-01-31T06:30:00",
          "2013-02-02T21:15:00",
          "2013-02-07T08:32:00",
          "2013-02-08T11:38:00",
          "2013-02-08T20:55:00",
          "2013-02-09T08:30:00",
          "2013-02-13T09:30:00",
          "2013-02-13T17:39:00",
          "2013-02-15T00:00:00",
          "2013-02-16T07:54:00",
          "2013-02-19T16:01:00",
          "2013-02-21T11:00:00",
          "2013-02-26T13:00:00",
          "2013-03-03T06:39:00",
          "2013-03-03T16:27:00",
          "2013-03-06T08:22:00",
          "2013-03-18T17:50:00",
          "2013-03-23T07:00:00",
          "2013-03-27T10:25:00",
          "2013-03-28T13:01:00",
          "2013-03-29T10:16:00",
          "2013-04-01T08:40:00",
          "2013-04-03T11:05:00",
          "2013-04-09T11:30:00",
          "2013-04-16T01:47:00",
          "2013-04-17T15:36:00",
          "2013-04-18T15:00:00",
          "2013-04-21T02:11:00",
          "2013-04-23T00:49:00",
          "2013-04-23T11:00:00",
          "2013-04-25T16:00:00",
          "2013-05-01T09:22:00",
          "2013-05-09T13:21:00",
          "2013-05-14T00:01:00",
          "2013-05-14T10:25:00",
          "2013-05-15T14:11:00",
          "2013-05-17T08:35:00",
          "2013-05-20T15:00:00",
          "2013-05-20T17:22:00",
          "2013-05-28T13:00:00",
          "2013-05-29T00:00:00",
          "2013-05-29T09:52:00",
          "2013-05-29T20:58:00",
          "2013-05-30T10:15:00",
          "2013-05-31T01:00:00",
          "2013-05-31T18:00:00",
          "2013-05-31T19:30:00",
          "2013-06-13T13:17:00",
          "2013-06-13T15:30:00",
          "2013-06-13T16:08:00",
          "2013-06-13T17:45:00",
          "2013-06-17T16:17:00",
          "2013-06-18T15:51:00",
          "2013-06-20T18:00:00",
          "2013-06-21T03:00:00",
          "2013-06-21T07:40:00",
          "2013-06-21T17:39:00",
          "2013-06-21T23:14:00",
          "2013-06-22T04:59:00",
          "2013-06-22T16:12:00",
          "2013-06-23T21:20:00",
          "2013-06-24T19:30:00",
          "2013-06-27T01:10:00",
          "2013-06-27T17:00:00",
          "2013-06-28T13:00:00",
          "2013-06-28T17:14:00",
          "2013-06-28T18:02:00",
          "2013-07-03T09:34:00",
          "2013-07-05T00:05:00",
          "2013-07-10T14:30:00",
          "2013-07-10T17:30:00",
          "2013-07-11T23:20:00",
          "2013-07-12T10:00:00",
          "2013-07-17T15:30:00",
          "2013-07-18T03:15:00",
          "2013-07-18T11:30:00",
          "2013-07-18T23:45:00",
          "2013-07-19T18:00:00",
          "2013-07-19T22:30:00",
          "2013-07-22T07:00:00",
          "2013-07-23T23:38:00",
          "2013-07-25T13:10:00",
          "2013-08-01T11:00:00",
          "2013-08-01T23:19:00",
          "2013-08-04T03:00:00",
          "2013-08-06T16:00:00",
          "2013-08-07T00:15:00",
          "2013-08-07T07:30:00",
          "2013-08-07T14:30:00",
          "2013-08-12T11:55:00",
          "2013-08-16T16:58:00",
          "2013-08-19T19:06:00",
          "2013-08-21T14:00:00",
          "2013-08-22T08:40:00",
          "2013-08-22T12:55:00",
          "2013-08-23T07:30:00",
          "2013-08-26T20:15:00",
          "2013-08-28T09:30:00",
          "2013-08-29T09:50:00",
          "2013-08-29T14:57:00",
          "2013-08-30T19:30:00",
          "2013-09-10T17:42:00",
          "2013-09-11T16:00:00",
          "2013-09-29T00:00:00",
          "2013-10-06T07:25:00",
          "2013-10-11T14:30:00",
          "2013-10-16T11:15:00",
          "2013-10-19T14:32:00",
          "2013-10-21T05:18:00",
          "2013-10-26T07:13:00",
          "2013-10-27T04:27:00",
          "2013-11-01T13:26:00",
          "2013-11-02T00:00:00",
          "2013-11-02T08:25:00",
          "2013-11-04T09:04:00",
          "2013-11-05T10:10:00",
          "2013-11-12T09:14:00",
          "2013-11-12T14:04:00",
          "2013-11-16T15:15:00",
          "2013-11-17T07:00:00",
          "2013-11-17T12:35:00",
          "2013-11-17T13:06:00",
          "2013-11-17T14:31:00",
          "2013-11-17T16:45:00",
          "2013-11-17T16:47:00",
          "2013-11-20T03:08:00",
          "2013-11-21T19:45:00",
          "2013-11-24T07:38:00",
          "2013-12-06T01:51:00",
          "2013-12-06T08:47:00",
          "2013-12-09T06:54:00",
          "2013-12-10T01:01:00",
          "2013-12-13T11:00:00",
          "2013-12-22T03:28:00",
          "2013-12-22T06:16:00",
          "2013-12-22T06:30:00",
          "2013-12-23T15:20:00",
          "2013-12-27T09:43:00",
          "2013-12-30T11:00:00",
          "2014-01-06T07:01:00",
          "2014-01-06T14:37:00",
          "2014-01-06T19:50:00",
          "2014-01-06T19:52:00",
          "2014-01-06T22:00:00",
          "2014-01-07T06:00:00",
          "2014-01-07T06:18:00",
          "2014-01-07T07:58:00",
          "2014-01-07T10:59:00",
          "2014-01-07T16:15:00",
          "2014-01-07T18:00:00",
          "2014-01-08T06:00:00",
          "2014-01-13T16:44:00",
          "2014-01-15T14:32:00",
          "2014-01-16T12:30:00",
          "2014-01-17T12:20:00",
          "2014-01-18T09:00:00",
          "2014-01-21T12:14:00",
          "2014-01-22T00:30:00",
          "2014-01-22T09:45:00",
          "2014-01-22T13:55:00",
          "2014-01-22T21:15:00",
          "2014-01-23T04:00:00",
          "2014-01-23T13:04:00",
          "2014-01-23T16:00:00",
          "2014-01-23T21:17:00",
          "2014-01-24T00:00:00",
          "2014-01-24T15:30:00",
          "2014-01-25T10:00:00",
          "2014-01-26T21:00:00",
          "2014-01-27T14:20:00",
          "2014-01-29T16:00:00",
          "2014-02-05T01:00:00",
          "2014-02-05T05:00:00",
          "2014-02-05T07:00:00",
          "2014-02-05T07:35:00",
          "2014-02-05T08:05:00",
          "2014-02-06T13:00:00",
          "2014-02-06T13:05:00",
          "2014-02-06T13:58:00",
          "2014-02-06T14:15:00",
          "2014-02-06T15:35:00",
          "2014-02-07T07:00:00",
          "2014-02-07T16:30:00",
          "2014-02-07T16:50:00",
          "2014-02-12T07:48:00",
          "2014-02-12T11:03:00",
          "2014-02-12T12:10:00",
          "2014-02-12T14:15:00",
          "2014-02-14T13:00:00",
          "2014-02-18T18:43:00",
          "2014-02-21T02:53:00",
          "2014-03-02T19:00:00",
          "2014-03-03T01:48:00",
          "2014-03-03T06:40:00",
          "2014-03-03T17:25:00",
          "2014-03-04T09:06:00",
          "2014-03-05T17:06:00",
          "2014-03-07T03:30:00",
          "2014-03-11T00:00:00",
          "2014-03-12T19:35:00",
          "2014-03-14T12:34:00",
          "2014-03-17T17:25:00",
          "2014-03-20T00:00:00",
          "2014-03-24T11:07:00",
          "2014-03-26T13:37:00",
          "2014-03-26T16:00:00",
          "2014-04-03T14:45:00",
          "2014-04-04T03:30:00",
          "2014-04-08T13:00:00",
          "2014-04-12T18:15:00",
          "2014-04-12T20:00:00",
          "2014-04-23T19:45:00",
          "2014-04-25T07:00:00",
          "2014-04-27T12:07:00",
          "2014-05-08T01:00:00",
          "2014-05-08T08:39:00",
          "2014-05-09T18:00:00",
          "2014-05-11T18:38:00",
          "2014-05-12T13:14:00",
          "2014-05-15T12:10:00",
          "2014-05-16T10:43:00",
          "2014-05-20T07:01:00",
          "2014-05-23T15:00:00",
          "2014-05-27T11:00:00",
          "2014-06-03T01:38:00",
          "2014-06-05T03:00:00",
          "2014-06-05T13:06:00",
          "2014-06-07T23:00:00",
          "2014-06-10T21:50:00",
          "2014-06-11T09:30:00",
          "2014-06-11T16:00:00",
          "2014-06-12T09:10:00",
          "2014-06-15T00:00:00",
          "2014-06-18T09:52:00",
          "2014-06-18T17:00:00",
          "2014-06-19T08:47:00",
          "2014-06-24T14:54:00",
          "2014-06-30T17:55:00",
          "2014-06-30T20:00:00",
          "2014-06-30T23:20:00",
          "2015-01-07T17:00:00",
          "2015-01-22T04:24:00",
          "2015-01-26T14:39:00",
          "2015-01-27T10:30:00",
          "2015-02-01T11:24:00",
          "2015-02-02T09:40:00",
          "2015-02-04T11:55:00",
          "2015-02-05T08:15:00",
          "2015-02-05T11:20:00",
          "2015-02-09T11:30:00",
          "2015-02-16T21:41:00",
          "2015-02-17T06:20:00",
          "2015-02-19T14:30:00",
          "2015-02-21T08:34:00",
          "2015-02-26T03:30:00",
          "2015-03-04T09:05:00",
          "2015-03-09T23:50:00",
          "2015-03-15T15:30:00",
          "2015-03-16T07:31:00",
          "2015-03-19T18:30:00",
          "2015-03-22T16:25:00",
          "2015-03-26T15:21:00",
          "2015-03-29T04:26:00",
          "2015-04-01T18:25:00",
          "2015-04-02T07:04:00",
          "2015-04-03T02:00:00",
          "2015-04-06T08:12:00",
          "2015-04-07T12:30:00",
          "2015-04-07T15:34:00",
          "2015-04-17T21:30:00",
          "2015-04-18T21:00:00",
          "2015-04-24T19:10:00",
          "2015-05-02T22:51:00",
          "2015-05-04T15:25:00",
          "2015-05-11T08:32:00",
          "2015-05-12T00:40:00",
          "2015-05-18T15:28:00",
          "2015-05-25T18:00:00",
          "2015-05-25T20:30:00",
          "2015-05-25T22:45:00",
          "2015-06-01T00:27:00",
          "2015-06-01T19:19:00",
          "2015-06-02T18:58:00",
          "2015-06-03T15:00:00",
          "2015-06-07T13:52:00",
          "2015-06-07T13:54:00",
          "2015-06-20T13:52:00",
          "2015-06-23T17:06:00",
          "2015-06-23T17:30:00",
          "2015-06-23T18:00:00",
          "2015-06-23T18:18:00",
          "2015-06-27T17:00:00",
          "2015-06-29T19:21:00",
          "2015-06-30T10:50:00",
          "2015-06-30T14:00:00",
          "2015-07-03T08:30:00",
          "2015-07-03T17:17:00",
          "2015-07-13T19:40:00",
          "2015-07-14T15:29:00",
          "2015-07-14T20:00:00",
          "2015-07-15T02:00:00",
          "2015-07-16T16:45:00",
          "2015-07-18T02:00:00",
          "2015-07-18T18:26:00",
          "2015-07-18T19:59:00",
          "2015-07-21T12:47:00",
          "2015-07-27T03:52:00",
          "2015-07-29T16:45:00",
          "2015-07-30T09:50:00",
          "2015-08-02T17:45:00",
          "2015-08-03T00:30:00",
          "2015-08-03T01:00:00",
          "2015-08-11T19:30:00",
          "2015-08-13T15:15:00",
          "2015-08-29T11:00:00",
          "2015-08-29T13:00:00",
          "2015-09-03T02:33:00",
          "2015-09-13T17:56:00",
          "2015-09-20T13:12:00",
          "2015-09-29T15:40:00",
          "2015-10-13T06:30:00",
          "2015-10-13T10:25:00",
          "2015-10-13T16:32:00",
          "2015-10-16T12:25:00",
          "2015-10-18T07:00:00",
          "2015-10-28T13:38:00",
          "2015-10-30T15:00:00",
          "2015-10-31T00:45:00",
          "2015-11-01T11:53:00",
          "2015-11-02T17:37:00",
          "2015-11-10T12:00:00",
          "2015-11-13T11:30:00",
          "2015-11-21T20:30:00",
          "2015-11-28T06:00:00",
          "2015-12-02T13:03:00",
          "2015-12-05T21:00:00",
          "2015-12-08T14:00:00",
          "2015-12-09T04:00:00",
          "2015-12-10T03:53:00",
          "2015-12-10T06:01:00",
          "2015-12-10T17:55:00",
          "2015-12-10T21:25:00",
          "2015-12-24T03:00:00",
          "2015-12-27T23:38:00",
          "2015-12-29T08:30:00",
          "2015-12-31T17:00:00",
          "2016-01-04T05:15:00",
          "2016-01-11T20:16:00",
          "2016-01-14T08:27:00",
          "2016-01-17T12:00:00",
          "2016-01-23T07:49:00",
          "2016-02-07T13:21:00",
          "2016-02-13T12:44:00",
          "2016-02-19T22:00:00",
          "2016-02-21T15:54:00",
          "2016-02-24T09:10:00",
          "2016-02-26T16:35:00",
          "2016-03-03T11:00:00",
          "2016-03-08T00:00:00",
          "2016-03-10T04:00:00",
          "2016-03-23T05:00:00",
          "2016-03-27T12:00:00",
          "2016-03-30T21:12:00",
          "2016-04-01T16:37:00",
          "2016-04-02T11:08:00",
          "2016-04-12T11:30:00",
          "2016-04-14T16:49:00",
          "2016-04-15T10:00:00",
          "2016-04-18T05:05:00",
          "2016-04-27T05:50:00",
          "2016-04-27T18:00:00",
          "2016-05-07T07:49:00",
          "2016-05-10T20:45:00",
          "2016-05-14T21:25:00",
          "2016-05-19T21:36:00",
          "2016-05-20T00:00:00",
          "2016-05-26T21:29:00",
          "2016-05-31T07:30:00",
          "2016-06-07T12:00:00",
          "2016-06-14T07:59:00",
          "2016-06-17T04:30:00",
          "2016-07-02T04:00:00",
          "2016-07-05T02:45:00",
          "2016-07-07T05:53:00",
          "2016-07-08T19:00:00",
          "2016-07-08T20:50:00",
          "2016-07-09T17:45:00",
          "2016-07-13T13:00:00",
          "2016-07-14T14:44:00",
          "2016-07-19T15:45:00",
          "2016-07-21T06:18:00",
          "2016-07-23T15:15:00"
         ],
         "xaxis": "x",
         "y": [
          1,
          1,
          1,
          1,
          1,
          1,
          1,
          1,
          1,
          1,
          1,
          1,
          1,
          1,
          1,
          1,
          1,
          1,
          1,
          1,
          1,
          1,
          1,
          1,
          1,
          1,
          1,
          1,
          1,
          1,
          1,
          1,
          1,
          1,
          1,
          1,
          1,
          1,
          1,
          1,
          1,
          1,
          1,
          1,
          1,
          1,
          1,
          1,
          1,
          1,
          1,
          1,
          1,
          1,
          1,
          1,
          1,
          1,
          1,
          1,
          1,
          2,
          2,
          1,
          1,
          1,
          1,
          1,
          1,
          1,
          1,
          1,
          2,
          1,
          1,
          1,
          1,
          1,
          1,
          1,
          1,
          1,
          1,
          1,
          1,
          1,
          1,
          1,
          1,
          1,
          1,
          1,
          1,
          1,
          1,
          1,
          1,
          1,
          1,
          1,
          1,
          1,
          1,
          2,
          1,
          1,
          1,
          3,
          1,
          1,
          1,
          1,
          1,
          1,
          2,
          1,
          1,
          1,
          1,
          1,
          1,
          1,
          1,
          1,
          1,
          1,
          1,
          1,
          1,
          1,
          1,
          1,
          1,
          1,
          1,
          1,
          1,
          1,
          1,
          1,
          1,
          1,
          1,
          1,
          1,
          1,
          1,
          1,
          1,
          1,
          1,
          1,
          1,
          1,
          1,
          1,
          1,
          1,
          1,
          1,
          1,
          1,
          2,
          1,
          1,
          1,
          1,
          1,
          1,
          1,
          1,
          1,
          1,
          1,
          1,
          1,
          1,
          1,
          1,
          1,
          1,
          1,
          1,
          1,
          1,
          1,
          1,
          1,
          1,
          1,
          1,
          1,
          1,
          1,
          1,
          1,
          1,
          1,
          1,
          1,
          1,
          1,
          1,
          1,
          1,
          1,
          1,
          1,
          1,
          1,
          1,
          1,
          1,
          1,
          1,
          1,
          1,
          1,
          1,
          1,
          1,
          1,
          1,
          1,
          1,
          1,
          1,
          1,
          1,
          1,
          1,
          1,
          1,
          1,
          1,
          1,
          1,
          1,
          1,
          2,
          1,
          1,
          1,
          1,
          1,
          1,
          1,
          1,
          1,
          1,
          1,
          2,
          1,
          1,
          1,
          1,
          1,
          1,
          1,
          1,
          1,
          1,
          1,
          1,
          1,
          1,
          1,
          1,
          1,
          1,
          1,
          1,
          1,
          1,
          1,
          1,
          1,
          1,
          1,
          1,
          1,
          1,
          1,
          1,
          1,
          1,
          1,
          1,
          1,
          1,
          1,
          1,
          1,
          1,
          1,
          1,
          1,
          1,
          1,
          1,
          1,
          1,
          1,
          1,
          1,
          1,
          1,
          1,
          1,
          1,
          1,
          1,
          1,
          1,
          1,
          2,
          1,
          1,
          1,
          1,
          1,
          1,
          1,
          1,
          1,
          1,
          1,
          1,
          1,
          1,
          1,
          1,
          1,
          1,
          1,
          1,
          1,
          1,
          4,
          1,
          1,
          1,
          1,
          1,
          1,
          1,
          1,
          1,
          1,
          1,
          2,
          1,
          1,
          1,
          1,
          1,
          1,
          1,
          1,
          1,
          1,
          1,
          1,
          1,
          1,
          1,
          1,
          1,
          1,
          1,
          1,
          1,
          1,
          1,
          1,
          1,
          1,
          1,
          2,
          1,
          1,
          1,
          1,
          1,
          1,
          1,
          1,
          1,
          1,
          1,
          1,
          1,
          2,
          1,
          1,
          1,
          1,
          1,
          1,
          3,
          1,
          1,
          1,
          1,
          1,
          1,
          1,
          1,
          1,
          1,
          1,
          1,
          1,
          1,
          1,
          1,
          1,
          1,
          1,
          1,
          1,
          1,
          1,
          1,
          1,
          1,
          1,
          1,
          1,
          1,
          1,
          1,
          1,
          1,
          1,
          1,
          1,
          1,
          1,
          1,
          1,
          1,
          1,
          1,
          1,
          1,
          1,
          1,
          1,
          1,
          1,
          1,
          1,
          1,
          1,
          1,
          1,
          1,
          1,
          1,
          1,
          1,
          1,
          1,
          1,
          1,
          1,
          1,
          1,
          1,
          1,
          1,
          1,
          1,
          1,
          1,
          1,
          1,
          1,
          1,
          1,
          1,
          1,
          1,
          1,
          1,
          1,
          1,
          1,
          1,
          1,
          1,
          1,
          1,
          1,
          1,
          1,
          1,
          1,
          1,
          1,
          1,
          1,
          1,
          1,
          1,
          1,
          1,
          1,
          1,
          1,
          1,
          1,
          1,
          1,
          1,
          1,
          1,
          1,
          1,
          2,
          2,
          1,
          1,
          1,
          1,
          1,
          1,
          1,
          1,
          1,
          1,
          1,
          1,
          3,
          1,
          1,
          1,
          1,
          1,
          1,
          1,
          1,
          1,
          1,
          1,
          1,
          1,
          1,
          1,
          1,
          1,
          1,
          1,
          1,
          1,
          1,
          1,
          2,
          1,
          4,
          1,
          1,
          1,
          1,
          1,
          1,
          1,
          1,
          1,
          1,
          1,
          1,
          1,
          1,
          1,
          1,
          1,
          1,
          1,
          1,
          1,
          1,
          1,
          1,
          1,
          1,
          1,
          1,
          1,
          1,
          1,
          1,
          1,
          1,
          1,
          1,
          1,
          1,
          1,
          1,
          1,
          1,
          1,
          1,
          1,
          1,
          1,
          1,
          1,
          1,
          1,
          1,
          1,
          1,
          1,
          1,
          1,
          1,
          1,
          1,
          1,
          1,
          1,
          1,
          1,
          1,
          1,
          1,
          1,
          1,
          1,
          1,
          1,
          1,
          1,
          1,
          1,
          1,
          1,
          1,
          1,
          1,
          1,
          1,
          1,
          1,
          1,
          1,
          1,
          1,
          1,
          1,
          1,
          1,
          1,
          1,
          1,
          1,
          1,
          1,
          1,
          1,
          1,
          1,
          1,
          1,
          1,
          1,
          1,
          1,
          1,
          1,
          1,
          1,
          1,
          1,
          1,
          1,
          1,
          1,
          1,
          1,
          1,
          1,
          1,
          1,
          1,
          1,
          1,
          1,
          1,
          1,
          1,
          1,
          1,
          1,
          1,
          1,
          1,
          1,
          1,
          1,
          1,
          1,
          1,
          1,
          1,
          1,
          1,
          1,
          1,
          1,
          1,
          1,
          1,
          1,
          1,
          1,
          1,
          1,
          1,
          1,
          1,
          1,
          1,
          1,
          1,
          1,
          1,
          1,
          1,
          1,
          1,
          1,
          2,
          2,
          1,
          1,
          1,
          1,
          1,
          1,
          1,
          1,
          1,
          1,
          1,
          1,
          1,
          1,
          1,
          1,
          1,
          1,
          1,
          1,
          1,
          1,
          1,
          1,
          1,
          1,
          1,
          1,
          1,
          1,
          1,
          1,
          1,
          1,
          1,
          1,
          1,
          1,
          1,
          1,
          1,
          1,
          1,
          1,
          1,
          1,
          1,
          1,
          1,
          1,
          1,
          1,
          2,
          1,
          1,
          1,
          1,
          1,
          1,
          1,
          1,
          1,
          1,
          1,
          1,
          1,
          1,
          1,
          1,
          1,
          1,
          1,
          1,
          1,
          1,
          1,
          1,
          1,
          1,
          1,
          1,
          1,
          1,
          1,
          1,
          1,
          1,
          1,
          1,
          1,
          1,
          1,
          1,
          1,
          1,
          1,
          1,
          2,
          1,
          1,
          1,
          1,
          1,
          1,
          1,
          1,
          1,
          1,
          1,
          1,
          1,
          1,
          1,
          1,
          1,
          1,
          1,
          1,
          1,
          1,
          1,
          1,
          1,
          1,
          1,
          1,
          1,
          1,
          1,
          1,
          1,
          1,
          1,
          1,
          1,
          1,
          1,
          1,
          1,
          1,
          1,
          1,
          1,
          1,
          1,
          1,
          1,
          1,
          1,
          1,
          1,
          1,
          1,
          2,
          1,
          1,
          1,
          1,
          1,
          1,
          1,
          1,
          1,
          1,
          1,
          1,
          1,
          1,
          1,
          1,
          1,
          1,
          1,
          1,
          1,
          1,
          1,
          1,
          1,
          1,
          1,
          1,
          1,
          1,
          1,
          1,
          1,
          1,
          1,
          1,
          1,
          1,
          1,
          1,
          1,
          1,
          1,
          1,
          1,
          1,
          1,
          1,
          1,
          1,
          1,
          1,
          1,
          1,
          1,
          1,
          1,
          1,
          1,
          1,
          1,
          1,
          1,
          1,
          1,
          1,
          1,
          1,
          1,
          1,
          1,
          1,
          1,
          1,
          1,
          1,
          1,
          1,
          1,
          1,
          1,
          1,
          1,
          1,
          1,
          1,
          1,
          1,
          1,
          1,
          1,
          1,
          1,
          1,
          1,
          1,
          1,
          1,
          1,
          2,
          1,
          1,
          1,
          1,
          1,
          1,
          1,
          1,
          1,
          1,
          1,
          1,
          2,
          1,
          1,
          1,
          1,
          1,
          1,
          1,
          1,
          1,
          1,
          1,
          1,
          1,
          1,
          1,
          1,
          1,
          1,
          1,
          1,
          1,
          1,
          1,
          1,
          1,
          1,
          1,
          1,
          1,
          1,
          1,
          1,
          1,
          1,
          1,
          1,
          1,
          1,
          1,
          1,
          1,
          1,
          1,
          1,
          1,
          1,
          1,
          1,
          1,
          1,
          1,
          1,
          1,
          1,
          1,
          1,
          1,
          1,
          1,
          1,
          1,
          1,
          1,
          1,
          1,
          1,
          1,
          1,
          1,
          1,
          1,
          1,
          1,
          1,
          1,
          1,
          1,
          1,
          1,
          1,
          1,
          1,
          1,
          1,
          1,
          1,
          1,
          1,
          1,
          1,
          1,
          1,
          1,
          1,
          1,
          1,
          1,
          1,
          1,
          2,
          1,
          1,
          1,
          1,
          1,
          1,
          1,
          1,
          1,
          1,
          1,
          1,
          1,
          1,
          1,
          1,
          1,
          1,
          1,
          1,
          1,
          1,
          1,
          1,
          1,
          1,
          1,
          1,
          1,
          1,
          1,
          1,
          1,
          1,
          1,
          1,
          1,
          1,
          1,
          1,
          1,
          1,
          1,
          1,
          1,
          1,
          1,
          1,
          1,
          1,
          1,
          1,
          1,
          1,
          1,
          1,
          1,
          1,
          1,
          1,
          1,
          1,
          2,
          1,
          1,
          1,
          1,
          1,
          1,
          1,
          2,
          1,
          1,
          1,
          1,
          1,
          2,
          1,
          1,
          3,
          1,
          1,
          2,
          1,
          1,
          1,
          1,
          1,
          1,
          1,
          1,
          1,
          1,
          1,
          1,
          1,
          1,
          1,
          1,
          1,
          1,
          1,
          1,
          1,
          1,
          1,
          1,
          1,
          1,
          1,
          1,
          1,
          1,
          1,
          1,
          1,
          1,
          1,
          1,
          1,
          1,
          1,
          1,
          1,
          1,
          1,
          1,
          1,
          1,
          1,
          1,
          1,
          1,
          1,
          1,
          1,
          1,
          1,
          1,
          1,
          1,
          1,
          1,
          1,
          1,
          1,
          1,
          1,
          1,
          1,
          1,
          1,
          1,
          1,
          1,
          1,
          1,
          1,
          1,
          1,
          1,
          1,
          1,
          1,
          1,
          1,
          1,
          1,
          1,
          1,
          1,
          1,
          1,
          1,
          1,
          1,
          1,
          1,
          1,
          1,
          1,
          1,
          1,
          1,
          1,
          1,
          1,
          1,
          1,
          1,
          1,
          1,
          1,
          1,
          1,
          1,
          1,
          1,
          1,
          1,
          1,
          1,
          1,
          1,
          1,
          1,
          1,
          1,
          1,
          1,
          1,
          1,
          1,
          1,
          1,
          1,
          1,
          1,
          1,
          1,
          1,
          1,
          1,
          1,
          1,
          1,
          1,
          1,
          1,
          1,
          1,
          1,
          1,
          1,
          1,
          1,
          1,
          1,
          1,
          1,
          1,
          1,
          1,
          1,
          1,
          1,
          1,
          1,
          1,
          1,
          1,
          1,
          1,
          1,
          1,
          1,
          1,
          1,
          1,
          1,
          1,
          1,
          1,
          1,
          1,
          1,
          1,
          1,
          1,
          1,
          1,
          1,
          1,
          1,
          1,
          1,
          1,
          1,
          1,
          1,
          1,
          1,
          1,
          1,
          1,
          1,
          1,
          1,
          1,
          1,
          1,
          1,
          1,
          1,
          1,
          1,
          1,
          1,
          1,
          1,
          1,
          1,
          1,
          1,
          1,
          1,
          1,
          1,
          1,
          1,
          1,
          1,
          1,
          1,
          1,
          1,
          1,
          1,
          1,
          1,
          1,
          1,
          1,
          1,
          1,
          1,
          1,
          2,
          1,
          1
         ],
         "yaxis": "y"
        }
       ],
       "layout": {
        "legend": {
         "title": {
          "text": "variable"
         },
         "tracegroupgap": 0
        },
        "margin": {
         "t": 60
        },
        "template": {
         "data": {
          "bar": [
           {
            "error_x": {
             "color": "#2a3f5f"
            },
            "error_y": {
             "color": "#2a3f5f"
            },
            "marker": {
             "line": {
              "color": "#E5ECF6",
              "width": 0.5
             },
             "pattern": {
              "fillmode": "overlay",
              "size": 10,
              "solidity": 0.2
             }
            },
            "type": "bar"
           }
          ],
          "barpolar": [
           {
            "marker": {
             "line": {
              "color": "#E5ECF6",
              "width": 0.5
             },
             "pattern": {
              "fillmode": "overlay",
              "size": 10,
              "solidity": 0.2
             }
            },
            "type": "barpolar"
           }
          ],
          "carpet": [
           {
            "aaxis": {
             "endlinecolor": "#2a3f5f",
             "gridcolor": "white",
             "linecolor": "white",
             "minorgridcolor": "white",
             "startlinecolor": "#2a3f5f"
            },
            "baxis": {
             "endlinecolor": "#2a3f5f",
             "gridcolor": "white",
             "linecolor": "white",
             "minorgridcolor": "white",
             "startlinecolor": "#2a3f5f"
            },
            "type": "carpet"
           }
          ],
          "choropleth": [
           {
            "colorbar": {
             "outlinewidth": 0,
             "ticks": ""
            },
            "type": "choropleth"
           }
          ],
          "contour": [
           {
            "colorbar": {
             "outlinewidth": 0,
             "ticks": ""
            },
            "colorscale": [
             [
              0,
              "#0d0887"
             ],
             [
              0.1111111111111111,
              "#46039f"
             ],
             [
              0.2222222222222222,
              "#7201a8"
             ],
             [
              0.3333333333333333,
              "#9c179e"
             ],
             [
              0.4444444444444444,
              "#bd3786"
             ],
             [
              0.5555555555555556,
              "#d8576b"
             ],
             [
              0.6666666666666666,
              "#ed7953"
             ],
             [
              0.7777777777777778,
              "#fb9f3a"
             ],
             [
              0.8888888888888888,
              "#fdca26"
             ],
             [
              1,
              "#f0f921"
             ]
            ],
            "type": "contour"
           }
          ],
          "contourcarpet": [
           {
            "colorbar": {
             "outlinewidth": 0,
             "ticks": ""
            },
            "type": "contourcarpet"
           }
          ],
          "heatmap": [
           {
            "colorbar": {
             "outlinewidth": 0,
             "ticks": ""
            },
            "colorscale": [
             [
              0,
              "#0d0887"
             ],
             [
              0.1111111111111111,
              "#46039f"
             ],
             [
              0.2222222222222222,
              "#7201a8"
             ],
             [
              0.3333333333333333,
              "#9c179e"
             ],
             [
              0.4444444444444444,
              "#bd3786"
             ],
             [
              0.5555555555555556,
              "#d8576b"
             ],
             [
              0.6666666666666666,
              "#ed7953"
             ],
             [
              0.7777777777777778,
              "#fb9f3a"
             ],
             [
              0.8888888888888888,
              "#fdca26"
             ],
             [
              1,
              "#f0f921"
             ]
            ],
            "type": "heatmap"
           }
          ],
          "heatmapgl": [
           {
            "colorbar": {
             "outlinewidth": 0,
             "ticks": ""
            },
            "colorscale": [
             [
              0,
              "#0d0887"
             ],
             [
              0.1111111111111111,
              "#46039f"
             ],
             [
              0.2222222222222222,
              "#7201a8"
             ],
             [
              0.3333333333333333,
              "#9c179e"
             ],
             [
              0.4444444444444444,
              "#bd3786"
             ],
             [
              0.5555555555555556,
              "#d8576b"
             ],
             [
              0.6666666666666666,
              "#ed7953"
             ],
             [
              0.7777777777777778,
              "#fb9f3a"
             ],
             [
              0.8888888888888888,
              "#fdca26"
             ],
             [
              1,
              "#f0f921"
             ]
            ],
            "type": "heatmapgl"
           }
          ],
          "histogram": [
           {
            "marker": {
             "pattern": {
              "fillmode": "overlay",
              "size": 10,
              "solidity": 0.2
             }
            },
            "type": "histogram"
           }
          ],
          "histogram2d": [
           {
            "colorbar": {
             "outlinewidth": 0,
             "ticks": ""
            },
            "colorscale": [
             [
              0,
              "#0d0887"
             ],
             [
              0.1111111111111111,
              "#46039f"
             ],
             [
              0.2222222222222222,
              "#7201a8"
             ],
             [
              0.3333333333333333,
              "#9c179e"
             ],
             [
              0.4444444444444444,
              "#bd3786"
             ],
             [
              0.5555555555555556,
              "#d8576b"
             ],
             [
              0.6666666666666666,
              "#ed7953"
             ],
             [
              0.7777777777777778,
              "#fb9f3a"
             ],
             [
              0.8888888888888888,
              "#fdca26"
             ],
             [
              1,
              "#f0f921"
             ]
            ],
            "type": "histogram2d"
           }
          ],
          "histogram2dcontour": [
           {
            "colorbar": {
             "outlinewidth": 0,
             "ticks": ""
            },
            "colorscale": [
             [
              0,
              "#0d0887"
             ],
             [
              0.1111111111111111,
              "#46039f"
             ],
             [
              0.2222222222222222,
              "#7201a8"
             ],
             [
              0.3333333333333333,
              "#9c179e"
             ],
             [
              0.4444444444444444,
              "#bd3786"
             ],
             [
              0.5555555555555556,
              "#d8576b"
             ],
             [
              0.6666666666666666,
              "#ed7953"
             ],
             [
              0.7777777777777778,
              "#fb9f3a"
             ],
             [
              0.8888888888888888,
              "#fdca26"
             ],
             [
              1,
              "#f0f921"
             ]
            ],
            "type": "histogram2dcontour"
           }
          ],
          "mesh3d": [
           {
            "colorbar": {
             "outlinewidth": 0,
             "ticks": ""
            },
            "type": "mesh3d"
           }
          ],
          "parcoords": [
           {
            "line": {
             "colorbar": {
              "outlinewidth": 0,
              "ticks": ""
             }
            },
            "type": "parcoords"
           }
          ],
          "pie": [
           {
            "automargin": true,
            "type": "pie"
           }
          ],
          "scatter": [
           {
            "fillpattern": {
             "fillmode": "overlay",
             "size": 10,
             "solidity": 0.2
            },
            "type": "scatter"
           }
          ],
          "scatter3d": [
           {
            "line": {
             "colorbar": {
              "outlinewidth": 0,
              "ticks": ""
             }
            },
            "marker": {
             "colorbar": {
              "outlinewidth": 0,
              "ticks": ""
             }
            },
            "type": "scatter3d"
           }
          ],
          "scattercarpet": [
           {
            "marker": {
             "colorbar": {
              "outlinewidth": 0,
              "ticks": ""
             }
            },
            "type": "scattercarpet"
           }
          ],
          "scattergeo": [
           {
            "marker": {
             "colorbar": {
              "outlinewidth": 0,
              "ticks": ""
             }
            },
            "type": "scattergeo"
           }
          ],
          "scattergl": [
           {
            "marker": {
             "colorbar": {
              "outlinewidth": 0,
              "ticks": ""
             }
            },
            "type": "scattergl"
           }
          ],
          "scattermapbox": [
           {
            "marker": {
             "colorbar": {
              "outlinewidth": 0,
              "ticks": ""
             }
            },
            "type": "scattermapbox"
           }
          ],
          "scatterpolar": [
           {
            "marker": {
             "colorbar": {
              "outlinewidth": 0,
              "ticks": ""
             }
            },
            "type": "scatterpolar"
           }
          ],
          "scatterpolargl": [
           {
            "marker": {
             "colorbar": {
              "outlinewidth": 0,
              "ticks": ""
             }
            },
            "type": "scatterpolargl"
           }
          ],
          "scatterternary": [
           {
            "marker": {
             "colorbar": {
              "outlinewidth": 0,
              "ticks": ""
             }
            },
            "type": "scatterternary"
           }
          ],
          "surface": [
           {
            "colorbar": {
             "outlinewidth": 0,
             "ticks": ""
            },
            "colorscale": [
             [
              0,
              "#0d0887"
             ],
             [
              0.1111111111111111,
              "#46039f"
             ],
             [
              0.2222222222222222,
              "#7201a8"
             ],
             [
              0.3333333333333333,
              "#9c179e"
             ],
             [
              0.4444444444444444,
              "#bd3786"
             ],
             [
              0.5555555555555556,
              "#d8576b"
             ],
             [
              0.6666666666666666,
              "#ed7953"
             ],
             [
              0.7777777777777778,
              "#fb9f3a"
             ],
             [
              0.8888888888888888,
              "#fdca26"
             ],
             [
              1,
              "#f0f921"
             ]
            ],
            "type": "surface"
           }
          ],
          "table": [
           {
            "cells": {
             "fill": {
              "color": "#EBF0F8"
             },
             "line": {
              "color": "white"
             }
            },
            "header": {
             "fill": {
              "color": "#C8D4E3"
             },
             "line": {
              "color": "white"
             }
            },
            "type": "table"
           }
          ]
         },
         "layout": {
          "annotationdefaults": {
           "arrowcolor": "#2a3f5f",
           "arrowhead": 0,
           "arrowwidth": 1
          },
          "autotypenumbers": "strict",
          "coloraxis": {
           "colorbar": {
            "outlinewidth": 0,
            "ticks": ""
           }
          },
          "colorscale": {
           "diverging": [
            [
             0,
             "#8e0152"
            ],
            [
             0.1,
             "#c51b7d"
            ],
            [
             0.2,
             "#de77ae"
            ],
            [
             0.3,
             "#f1b6da"
            ],
            [
             0.4,
             "#fde0ef"
            ],
            [
             0.5,
             "#f7f7f7"
            ],
            [
             0.6,
             "#e6f5d0"
            ],
            [
             0.7,
             "#b8e186"
            ],
            [
             0.8,
             "#7fbc41"
            ],
            [
             0.9,
             "#4d9221"
            ],
            [
             1,
             "#276419"
            ]
           ],
           "sequential": [
            [
             0,
             "#0d0887"
            ],
            [
             0.1111111111111111,
             "#46039f"
            ],
            [
             0.2222222222222222,
             "#7201a8"
            ],
            [
             0.3333333333333333,
             "#9c179e"
            ],
            [
             0.4444444444444444,
             "#bd3786"
            ],
            [
             0.5555555555555556,
             "#d8576b"
            ],
            [
             0.6666666666666666,
             "#ed7953"
            ],
            [
             0.7777777777777778,
             "#fb9f3a"
            ],
            [
             0.8888888888888888,
             "#fdca26"
            ],
            [
             1,
             "#f0f921"
            ]
           ],
           "sequentialminus": [
            [
             0,
             "#0d0887"
            ],
            [
             0.1111111111111111,
             "#46039f"
            ],
            [
             0.2222222222222222,
             "#7201a8"
            ],
            [
             0.3333333333333333,
             "#9c179e"
            ],
            [
             0.4444444444444444,
             "#bd3786"
            ],
            [
             0.5555555555555556,
             "#d8576b"
            ],
            [
             0.6666666666666666,
             "#ed7953"
            ],
            [
             0.7777777777777778,
             "#fb9f3a"
            ],
            [
             0.8888888888888888,
             "#fdca26"
            ],
            [
             1,
             "#f0f921"
            ]
           ]
          },
          "colorway": [
           "#636efa",
           "#EF553B",
           "#00cc96",
           "#ab63fa",
           "#FFA15A",
           "#19d3f3",
           "#FF6692",
           "#B6E880",
           "#FF97FF",
           "#FECB52"
          ],
          "font": {
           "color": "#2a3f5f"
          },
          "geo": {
           "bgcolor": "white",
           "lakecolor": "white",
           "landcolor": "#E5ECF6",
           "showlakes": true,
           "showland": true,
           "subunitcolor": "white"
          },
          "hoverlabel": {
           "align": "left"
          },
          "hovermode": "closest",
          "mapbox": {
           "style": "light"
          },
          "paper_bgcolor": "white",
          "plot_bgcolor": "#E5ECF6",
          "polar": {
           "angularaxis": {
            "gridcolor": "white",
            "linecolor": "white",
            "ticks": ""
           },
           "bgcolor": "#E5ECF6",
           "radialaxis": {
            "gridcolor": "white",
            "linecolor": "white",
            "ticks": ""
           }
          },
          "scene": {
           "xaxis": {
            "backgroundcolor": "#E5ECF6",
            "gridcolor": "white",
            "gridwidth": 2,
            "linecolor": "white",
            "showbackground": true,
            "ticks": "",
            "zerolinecolor": "white"
           },
           "yaxis": {
            "backgroundcolor": "#E5ECF6",
            "gridcolor": "white",
            "gridwidth": 2,
            "linecolor": "white",
            "showbackground": true,
            "ticks": "",
            "zerolinecolor": "white"
           },
           "zaxis": {
            "backgroundcolor": "#E5ECF6",
            "gridcolor": "white",
            "gridwidth": 2,
            "linecolor": "white",
            "showbackground": true,
            "ticks": "",
            "zerolinecolor": "white"
           }
          },
          "shapedefaults": {
           "line": {
            "color": "#2a3f5f"
           }
          },
          "ternary": {
           "aaxis": {
            "gridcolor": "white",
            "linecolor": "white",
            "ticks": ""
           },
           "baxis": {
            "gridcolor": "white",
            "linecolor": "white",
            "ticks": ""
           },
           "bgcolor": "#E5ECF6",
           "caxis": {
            "gridcolor": "white",
            "linecolor": "white",
            "ticks": ""
           }
          },
          "title": {
           "x": 0.05
          },
          "xaxis": {
           "automargin": true,
           "gridcolor": "white",
           "linecolor": "white",
           "ticks": "",
           "title": {
            "standoff": 15
           },
           "zerolinecolor": "white",
           "zerolinewidth": 2
          },
          "yaxis": {
           "automargin": true,
           "gridcolor": "white",
           "linecolor": "white",
           "ticks": "",
           "title": {
            "standoff": 15
           },
           "zerolinecolor": "white",
           "zerolinewidth": 2
          }
         }
        },
        "xaxis": {
         "anchor": "y",
         "domain": [
          0,
          1
         ],
         "title": {
          "text": "OUTAGE.START"
         }
        },
        "yaxis": {
         "anchor": "x",
         "domain": [
          0,
          1
         ],
         "title": {
          "text": "value"
         }
        }
       }
      }
     },
     "metadata": {},
     "output_type": "display_data"
    }
   ],
   "source": [
    "over_time_df = df_dropped.groupby(['OUTAGE.START'], dropna=True)['OUTAGE.DURATION'].count().plot()\n",
    "# plt.plot(over_time_df)\n",
    "# plt.show()\n",
    "over_time_df"
   ]
  },
  {
   "cell_type": "code",
   "execution_count": 17,
   "metadata": {},
   "outputs": [],
   "source": [
    "#df_dropped.groupby(['CAUSE.CATEGORY','CAUSE.CATEGORY.DETAIL']).count()\n"
   ]
  },
  {
   "cell_type": "markdown",
   "metadata": {},
   "source": [
    "## Bivarate Graph"
   ]
  },
  {
   "cell_type": "code",
   "execution_count": 18,
   "metadata": {},
   "outputs": [],
   "source": [
    "state_data = df_dropped[[\"U.S._STATE\", \"POSTAL.CODE\", \"OUTAGE.DURATION\"]].groupby(['POSTAL.CODE','U.S._STATE']).mean()\n",
    "state_data = state_data.reset_index()\n",
    "\n",
    "state_geo = requests.get(\n",
    "    \"https://raw.githubusercontent.com/python-visualization/folium-example-data/main/us_states.json\"\n",
    ").json()\n",
    "geo_merge = pd.DataFrame(state_geo['features'])\n",
    "state_data = state_data.merge(geo_merge, left_on='POSTAL.CODE', right_on=\"id\")"
   ]
  },
  {
   "cell_type": "code",
   "execution_count": 101,
   "metadata": {},
   "outputs": [
    {
     "data": {
      "text/plain": [
       "<folium.features.Choropleth at 0x7ff2ca624e50>"
      ]
     },
     "execution_count": 101,
     "metadata": {},
     "output_type": "execute_result"
    }
   ],
   "source": [
    "## GRAPHS/STATS I MADE BUT I DONT THINK ARE NEEDED NOW\n",
    "\n",
    "#df_dropped.groupby(['U.S._STATE','OUTAGE.DURATION']).count().unstack(level=0)['MONTH'].plot(kind='bar')\n",
    "#df_dropped.groupby('UTIL.CONTRI').count()\n",
    "#df_dropped.groupby(['CAUSE.CATEGORY','CAUSE.CATEGORY.DETAIL']).count()\n",
    "\n",
    "m = folium.Map(location=[48, -102], zoom_start=3)\n",
    "\n",
    "folium.Choropleth(\n",
    "    geo_data=state_geo,\n",
    "    name=\"choropleth\",\n",
    "    data=state_data,\n",
    "    columns=[\"POSTAL.CODE\", \"OUTAGE.DURATION\"],\n",
    "    key_on=\"feature.id\",\n",
    "    #fill_color=\"YlGn\",\n",
    "    fill_opacity=0.9,\n",
    "    line_opacity=0.2,\n",
    "    bins=[0, 500, 1000, 2000, 4000, 6000, 8000],\n",
    "    highlight=True,\n",
    "    legend_name=\"Mean Duration of Outage per State\",\n",
    "    nan_fill_color=\"purple\"\n",
    ").add_to(m)\n",
    "#m"
   ]
  },
  {
   "cell_type": "code",
   "execution_count": 20,
   "metadata": {},
   "outputs": [],
   "source": [
    "\n",
    "### TRY TO ADD HIGHLIGHT FUNCTION THAT WORKS###\n",
    "\n",
    "# style_function = lambda x: {'fillColor': '#ffffff', \n",
    "#                             'color':'#000000', \n",
    "#                             'fillOpacity': 0.1, \n",
    "#                             'weight': 0.1}\n",
    "# highlight_function = lambda x: {'fillColor': '#000000', \n",
    "#                                 'color':'#000000', \n",
    "#                                 'fillOpacity': 0.50, \n",
    "#                                 'weight': 0.1}\n",
    "# NIL = folium.features.GeoJson(\n",
    "#     state_data,\n",
    "#     style_function=style_function, \n",
    "#     control=False,\n",
    "#     highlight_function=highlight_function, \n",
    "#     tooltip=folium.features.GeoJsonTooltip(\n",
    "#         fields=[\"POSTAL.CODE\", \"OUTAGE.DURATION\"],\n",
    "#         aliases=['STATE: ','Duration of Outage'],\n",
    "#         style=(\"background-color: white; color: #333333; font-family: arial; font-size: 12px; padding: 10px;\") \n",
    "#     )\n",
    "# )\n",
    "# m.add_child(NIL)\n",
    "# m.keep_in_front(NIL)\n",
    "# folium.LayerControl().add_to(m)\n",
    "# m"
   ]
  },
  {
   "cell_type": "markdown",
   "metadata": {},
   "source": [
    "## Interesting AGG "
   ]
  },
  {
   "cell_type": "code",
   "execution_count": 21,
   "metadata": {},
   "outputs": [
    {
     "data": {
      "application/vnd.plotly.v1+json": {
       "config": {
        "plotlyServerURL": "https://plot.ly"
       },
       "data": [
        {
         "hovertemplate": "variable=ANOMALY.LEVEL<br>OUTAGE.START=%{x}<br>value=%{y}<extra></extra>",
         "legendgroup": "ANOMALY.LEVEL",
         "marker": {
          "color": "#636efa",
          "symbol": "circle"
         },
         "mode": "markers",
         "name": "ANOMALY.LEVEL",
         "showlegend": true,
         "type": "scattergl",
         "x": [
          "2000-01-23T08:00:00",
          "2000-01-29T22:00:00",
          "2000-03-18T16:00:00",
          "2000-03-18T19:08:00",
          "2000-05-02T04:00:00",
          "2000-05-09T11:39:00",
          "2000-05-24T10:15:00",
          "2000-05-25T10:00:00",
          "2000-06-14T15:54:00",
          "2000-08-06T16:00:00",
          "2000-08-10T21:30:00",
          "2000-08-18T18:30:00",
          "2000-12-16T11:36:00",
          "2001-01-17T01:45:00",
          "2001-01-20T08:15:00",
          "2001-03-06T09:17:00",
          "2001-03-14T15:00:00",
          "2001-03-19T11:46:00",
          "2001-03-20T09:17:00",
          "2001-03-20T11:50:00",
          "2001-05-07T16:45:00",
          "2001-05-08T15:10:00",
          "2001-05-08T15:12:00",
          "2001-06-06T16:22:00",
          "2001-06-08T19:00:00",
          "2001-06-25T13:25:00",
          "2001-08-09T15:11:00",
          "2002-01-30T06:00:00",
          "2002-01-30T16:00:00",
          "2002-02-27T10:48:00",
          "2002-03-09T00:00:00",
          "2002-08-09T08:23:00",
          "2002-08-25T03:41:00",
          "2002-11-06T22:00:00",
          "2002-11-17T06:00:00",
          "2002-12-03T18:30:00",
          "2002-12-11T13:09:00",
          "2002-12-14T11:00:00",
          "2002-12-19T06:00:00",
          "2002-12-25T10:00:00",
          "2002-12-25T17:00:00",
          "2003-01-25T14:00:00",
          "2003-02-27T11:32:00",
          "2003-04-03T19:00:00",
          "2003-04-04T03:11:00",
          "2003-04-15T11:00:00",
          "2003-04-28T15:41:00",
          "2003-05-15T02:52:00",
          "2003-05-15T14:00:00",
          "2003-06-15T15:12:00",
          "2003-07-01T15:15:00",
          "2003-07-02T13:54:00",
          "2003-07-04T06:00:00",
          "2003-07-04T09:00:00",
          "2003-07-05T03:00:00",
          "2003-07-07T09:00:00",
          "2003-07-08T04:00:00",
          "2003-07-09T17:14:00",
          "2003-07-15T08:24:00",
          "2003-07-21T17:15:00",
          "2003-07-28T18:55:00",
          "2003-08-14T16:09:00",
          "2003-08-14T16:10:00",
          "2003-08-14T16:11:00",
          "2003-08-26T16:00:00",
          "2003-08-26T16:22:00",
          "2003-09-07T05:19:00",
          "2003-09-18T00:00:00",
          "2003-09-18T11:45:00",
          "2003-09-18T15:32:00",
          "2003-09-18T16:20:00",
          "2003-10-26T01:44:00",
          "2003-11-12T17:00:00",
          "2003-11-12T18:00:00",
          "2003-11-13T06:00:00",
          "2003-11-13T07:30:00",
          "2003-11-13T11:00:00",
          "2003-11-13T13:40:00",
          "2003-12-01T18:16:00",
          "2003-12-04T07:00:00",
          "2003-12-05T04:49:00",
          "2003-12-20T15:51:00",
          "2003-12-22T11:15:00",
          "2003-12-28T21:00:00",
          "2004-01-01T07:30:00",
          "2004-01-07T00:00:00",
          "2004-01-08T15:00:00",
          "2004-01-14T06:00:00",
          "2004-01-26T10:00:00",
          "2004-01-26T14:00:00",
          "2004-01-28T13:09:00",
          "2004-02-14T20:00:00",
          "2004-02-17T14:25:00",
          "2004-02-25T00:01:00",
          "2004-02-26T00:00:00",
          "2004-03-04T05:00:00",
          "2004-03-08T18:22:00",
          "2004-03-17T13:27:00",
          "2004-04-10T20:00:00",
          "2004-04-12T05:30:00",
          "2004-04-27T12:35:00",
          "2004-05-03T14:30:00",
          "2004-05-11T15:30:00",
          "2004-05-21T02:00:00",
          "2004-05-21T11:00:00",
          "2004-05-21T13:00:00",
          "2004-05-21T16:00:00",
          "2004-05-28T12:00:00",
          "2004-06-01T17:00:00",
          "2004-06-02T01:46:00",
          "2004-06-02T02:35:00",
          "2004-06-12T17:37:00",
          "2004-06-14T07:41:00",
          "2004-06-23T17:35:00",
          "2004-07-06T06:00:00",
          "2004-07-07T13:30:00",
          "2004-07-13T13:34:00",
          "2004-07-13T16:30:00",
          "2004-07-20T14:26:00",
          "2004-07-21T17:30:00",
          "2004-07-24T15:45:00",
          "2004-08-02T10:00:00",
          "2004-08-03T21:00:00",
          "2004-08-04T12:46:00",
          "2004-08-13T08:00:00",
          "2004-08-13T15:00:00",
          "2004-08-13T16:43:00",
          "2004-08-13T22:04:00",
          "2004-08-20T15:31:00",
          "2004-08-29T09:52:00",
          "2004-09-03T21:00:00",
          "2004-09-04T08:00:00",
          "2004-09-04T10:00:00",
          "2004-09-05T07:00:00",
          "2004-09-07T10:00:00",
          "2004-09-17T04:30:00",
          "2004-09-25T17:00:00",
          "2004-09-26T02:00:00",
          "2004-09-26T03:00:00",
          "2004-09-26T06:00:00",
          "2004-09-27T08:00:00",
          "2004-10-18T22:30:00",
          "2004-10-25T11:00:00",
          "2004-10-28T15:27:00",
          "2004-10-30T10:00:00",
          "2004-10-30T12:30:00",
          "2004-11-23T22:00:00",
          "2004-11-24T10:00:00",
          "2004-12-01T07:30:00",
          "2004-12-01T10:00:00",
          "2004-12-27T07:50:00",
          "2005-01-04T18:00:00",
          "2005-01-05T16:00:00",
          "2005-01-05T21:10:00",
          "2005-01-07T13:00:00",
          "2005-01-29T16:00:00",
          "2005-03-08T11:00:00",
          "2005-04-01T00:00:00",
          "2005-04-22T15:51:00",
          "2005-04-23T06:00:00",
          "2005-05-08T15:00:00",
          "2005-05-29T20:00:00",
          "2005-06-05T14:00:00",
          "2005-06-06T12:00:00",
          "2005-06-06T16:43:00",
          "2005-06-08T04:00:00",
          "2005-06-24T20:37:00",
          "2005-06-29T16:30:00",
          "2005-07-05T21:00:00",
          "2005-07-21T14:39:00",
          "2005-07-22T13:55:00",
          "2005-07-23T01:02:00",
          "2005-07-27T16:50:00",
          "2005-07-27T17:50:00",
          "2005-07-27T18:00:00",
          "2005-08-08T12:38:00",
          "2005-08-20T14:15:00",
          "2005-08-25T15:50:00",
          "2005-08-25T15:51:00",
          "2005-08-29T01:10:00",
          "2005-08-29T06:00:00",
          "2005-08-29T07:10:00",
          "2005-08-29T17:00:00",
          "2005-08-31T16:00:00",
          "2005-09-12T12:32:00",
          "2005-09-13T18:30:00",
          "2005-09-14T15:00:00",
          "2005-09-21T19:00:00",
          "2005-09-22T11:00:00",
          "2005-09-22T12:00:00",
          "2005-09-23T07:00:00",
          "2005-09-23T13:06:00",
          "2005-09-23T17:00:00",
          "2005-09-24T06:00:00",
          "2005-09-24T10:00:00",
          "2005-10-23T20:00:00",
          "2005-10-24T04:00:00",
          "2005-10-24T07:00:00",
          "2005-11-03T18:47:00",
          "2005-11-06T07:30:00",
          "2005-11-12T16:00:00",
          "2005-11-12T23:00:00",
          "2005-12-15T05:05:00",
          "2005-12-31T06:00:00",
          "2006-01-14T15:45:00",
          "2006-01-18T15:16:00",
          "2006-02-04T01:34:00",
          "2006-02-04T04:30:00",
          "2006-02-11T21:00:00",
          "2006-02-12T00:06:00",
          "2006-02-12T02:00:00",
          "2006-02-12T05:55:00",
          "2006-02-16T12:00:00",
          "2006-02-17T04:32:00",
          "2006-02-18T08:50:00",
          "2006-02-27T18:25:00",
          "2006-03-12T20:30:00",
          "2006-04-02T21:00:00",
          "2006-04-17T15:25:00",
          "2006-04-17T16:10:00",
          "2006-04-17T16:11:00",
          "2006-04-17T16:20:00",
          "2006-04-17T16:35:00",
          "2006-04-21T07:00:00",
          "2006-05-03T15:30:00",
          "2006-05-19T15:13:00",
          "2006-06-01T14:12:00",
          "2006-06-01T18:00:00",
          "2006-06-01T18:30:00",
          "2006-06-11T18:00:00",
          "2006-07-02T18:39:00",
          "2006-07-04T17:30:00",
          "2006-07-16T14:00:00",
          "2006-07-17T18:50:00",
          "2006-07-17T21:00:00",
          "2006-07-18T18:36:00",
          "2006-07-18T20:07:00",
          "2006-07-19T11:00:00",
          "2006-07-22T13:09:00",
          "2006-07-24T14:33:00",
          "2006-07-27T18:38:00",
          "2006-08-01T12:00:00",
          "2006-08-07T13:00:00",
          "2006-09-01T05:30:00",
          "2006-09-01T15:00:00",
          "2006-09-01T20:00:00",
          "2006-10-02T14:00:00",
          "2006-10-02T15:05:00",
          "2006-10-03T17:28:00",
          "2006-10-12T17:48:00",
          "2006-10-12T20:00:00",
          "2006-10-15T07:09:00",
          "2006-10-26T05:30:00",
          "2006-11-15T10:00:00",
          "2006-11-15T13:00:00",
          "2006-11-15T15:00:00",
          "2006-11-26T13:00:00",
          "2006-12-01T18:20:00",
          "2006-12-10T19:35:00",
          "2006-12-13T04:30:00",
          "2006-12-14T00:01:00",
          "2006-12-14T05:30:00",
          "2006-12-14T12:07:00",
          "2006-12-14T17:00:00",
          "2006-12-14T19:00:00",
          "2006-12-16T19:30:00",
          "2006-12-26T00:01:00",
          "2006-12-30T22:25:00",
          "2007-01-13T07:30:00",
          "2007-01-16T02:00:00",
          "2007-02-13T17:00:00",
          "2007-02-24T18:00:00",
          "2007-02-24T19:23:00",
          "2007-02-28T00:45:00",
          "2007-03-31T07:30:00",
          "2007-04-05T21:20:00",
          "2007-04-12T00:32:00",
          "2007-04-12T09:09:00",
          "2007-04-16T08:00:00",
          "2007-04-16T10:14:00",
          "2007-04-16T14:00:00",
          "2007-05-02T13:30:00",
          "2007-05-10T09:57:00",
          "2007-05-14T11:15:00",
          "2007-05-15T15:00:00",
          "2007-05-16T18:00:00",
          "2007-05-21T13:48:00",
          "2007-06-27T15:41:00",
          "2007-06-27T15:42:00",
          "2007-06-29T09:23:00",
          "2007-07-03T10:59:00",
          "2007-07-05T19:00:00",
          "2007-07-10T11:00:00",
          "2007-07-16T16:17:00",
          "2007-07-18T18:00:00",
          "2007-07-19T15:00:00",
          "2007-07-19T15:50:00",
          "2007-08-09T14:53:00",
          "2007-08-13T01:30:00",
          "2007-08-19T23:34:00",
          "2007-08-23T16:00:00",
          "2007-08-24T18:00:00",
          "2007-08-29T13:53:00",
          "2007-08-29T16:00:00",
          "2007-08-31T12:45:00",
          "2007-09-03T12:30:00",
          "2007-09-04T08:30:00",
          "2007-09-05T07:53:00",
          "2007-09-13T04:00:00",
          "2007-09-17T19:01:00",
          "2007-09-24T13:38:00",
          "2007-10-18T15:00:00",
          "2007-10-22T14:01:00",
          "2007-10-22T14:05:00",
          "2007-10-22T14:06:00",
          "2007-10-26T06:44:00",
          "2007-12-01T18:04:00",
          "2007-12-10T03:08:00",
          "2007-12-11T04:00:00",
          "2007-12-23T01:00:00",
          "2007-12-23T05:30:00",
          "2008-01-04T04:00:00",
          "2008-01-04T07:47:00",
          "2008-01-29T05:00:00",
          "2008-01-29T22:00:00",
          "2008-01-29T23:23:00",
          "2008-01-30T03:06:00",
          "2008-02-01T06:00:00",
          "2008-02-02T03:58:00",
          "2008-02-05T22:00:00",
          "2008-02-06T09:00:00",
          "2008-02-09T11:59:00",
          "2008-02-10T14:06:00",
          "2008-02-10T18:02:00",
          "2008-02-13T18:43:00",
          "2008-02-14T08:15:00",
          "2008-02-15T15:06:00",
          "2008-02-25T08:00:00",
          "2008-02-26T13:09:00",
          "2008-02-26T13:10:00",
          "2008-03-08T16:00:00",
          "2008-04-09T16:00:00",
          "2008-05-08T10:21:00",
          "2008-05-11T06:00:00",
          "2008-05-11T16:50:00",
          "2008-05-12T00:01:00",
          "2008-05-27T14:02:00",
          "2008-05-30T09:30:00",
          "2008-05-30T14:05:00",
          "2008-05-30T22:00:00",
          "2008-06-04T15:00:00",
          "2008-06-04T15:04:00",
          "2008-06-06T15:18:00",
          "2008-06-08T09:30:00",
          "2008-06-08T18:00:00",
          "2008-06-09T14:52:00",
          "2008-06-10T11:00:00",
          "2008-06-10T18:00:00",
          "2008-06-10T19:00:00",
          "2008-06-11T13:15:00",
          "2008-06-12T15:30:00",
          "2008-06-15T08:00:00",
          "2008-06-15T19:06:00",
          "2008-06-16T16:15:00",
          "2008-06-17T09:01:00",
          "2008-06-21T15:09:00",
          "2008-06-22T16:55:00",
          "2008-06-23T13:44:00",
          "2008-06-23T16:52:00",
          "2008-06-26T17:00:00",
          "2008-06-27T16:30:00",
          "2008-07-01T07:31:00",
          "2008-07-02T15:00:00",
          "2008-07-02T19:16:00",
          "2008-07-02T19:36:00",
          "2008-07-02T20:00:00",
          "2008-07-07T12:15:00",
          "2008-07-10T14:22:00",
          "2008-07-22T03:00:00",
          "2008-07-23T05:56:00",
          "2008-07-24T07:23:00",
          "2008-08-04T18:00:00",
          "2008-08-05T03:00:00",
          "2008-08-15T12:52:00",
          "2008-08-16T05:23:00",
          "2008-08-19T09:29:00",
          "2008-08-21T19:00:00",
          "2008-08-31T07:30:00",
          "2008-09-01T10:30:00",
          "2008-09-01T11:45:00",
          "2008-09-06T07:45:00",
          "2008-09-08T22:03:00",
          "2008-09-12T18:21:00",
          "2008-09-12T20:00:00",
          "2008-09-13T10:24:00",
          "2008-09-13T12:00:00",
          "2008-09-14T10:01:00",
          "2008-09-14T11:30:00",
          "2008-09-14T14:00:00",
          "2008-09-14T17:00:00",
          "2008-09-14T19:00:00",
          "2008-09-15T00:37:00",
          "2008-09-30T14:02:00",
          "2008-10-02T14:50:00",
          "2008-10-25T23:00:00",
          "2008-11-07T11:13:00",
          "2008-11-07T11:15:00",
          "2008-11-15T09:39:00",
          "2008-12-02T04:30:00",
          "2008-12-09T17:27:00",
          "2008-12-10T17:09:00",
          "2008-12-11T18:00:00",
          "2008-12-12T02:38:00",
          "2008-12-12T08:45:00",
          "2008-12-13T15:30:00",
          "2008-12-19T01:02:00",
          "2008-12-19T09:00:00",
          "2008-12-26T11:40:00",
          "2008-12-26T18:13:00",
          "2008-12-27T16:00:00",
          "2008-12-28T04:45:00",
          "2008-12-28T11:45:00",
          "2008-12-30T16:02:00",
          "2009-01-05T05:00:00",
          "2009-01-08T23:46:00",
          "2009-01-17T08:00:00",
          "2009-01-22T16:00:00",
          "2009-01-27T05:00:00",
          "2009-01-27T05:03:00",
          "2009-01-27T11:00:00",
          "2009-01-27T13:46:00",
          "2009-01-27T21:00:00",
          "2009-01-27T21:45:00",
          "2009-01-28T00:10:00",
          "2009-01-28T04:00:00",
          "2009-01-28T06:00:00",
          "2009-01-28T07:50:00",
          "2009-02-11T02:30:00",
          "2009-02-11T19:00:00",
          "2009-02-12T02:30:00",
          "2009-02-12T08:00:00",
          "2009-02-13T02:30:00",
          "2009-02-23T02:38:00",
          "2009-03-01T00:15:00",
          "2009-03-01T22:00:00",
          "2009-03-03T06:48:00",
          "2009-03-03T22:00:00",
          "2009-03-08T22:16:00",
          "2009-04-06T01:00:00",
          "2009-04-23T16:25:00",
          "2009-04-23T17:54:00",
          "2009-04-24T11:09:00",
          "2009-04-25T14:30:00",
          "2009-04-27T15:30:00",
          "2009-05-08T07:30:00",
          "2009-05-08T13:30:00",
          "2009-05-29T09:05:00",
          "2009-06-05T13:38:00",
          "2009-06-09T17:25:00",
          "2009-06-10T18:00:00",
          "2009-06-12T16:37:00",
          "2009-06-12T22:00:00",
          "2009-06-16T23:00:00",
          "2009-06-19T00:01:00",
          "2009-06-19T13:00:00",
          "2009-06-24T13:30:00",
          "2009-06-25T15:16:00",
          "2009-06-25T15:30:00",
          "2009-06-26T17:00:00",
          "2009-07-02T22:44:00",
          "2009-07-07T15:30:00",
          "2009-07-08T13:30:00",
          "2009-07-14T13:00:00",
          "2009-07-15T13:00:00",
          "2009-07-16T13:00:00",
          "2009-07-18T19:00:00",
          "2009-07-20T21:50:00",
          "2009-07-21T05:34:00",
          "2009-07-27T05:05:00",
          "2009-07-28T20:18:00",
          "2009-08-05T15:00:00",
          "2009-08-07T23:00:00",
          "2009-08-09T19:31:00",
          "2009-08-12T18:25:00",
          "2009-08-21T19:00:00",
          "2009-08-29T11:00:00",
          "2009-08-29T22:54:00",
          "2009-08-31T10:31:00",
          "2009-10-07T05:45:00",
          "2009-10-09T18:30:00",
          "2009-10-13T12:48:00",
          "2009-10-13T15:45:00",
          "2009-10-13T16:00:00",
          "2009-11-18T06:15:00",
          "2009-12-07T22:00:00",
          "2009-12-08T01:00:00",
          "2009-12-08T06:34:00",
          "2009-12-09T13:37:00",
          "2009-12-10T17:45:00",
          "2009-12-18T22:55:00",
          "2010-01-06T18:00:00",
          "2010-01-11T03:45:00",
          "2010-01-18T11:30:00",
          "2010-01-19T07:30:00",
          "2010-01-19T14:30:00",
          "2010-01-20T13:00:00",
          "2010-01-28T12:00:00",
          "2010-02-01T14:32:00",
          "2010-02-05T15:00:00",
          "2010-02-05T19:00:00",
          "2010-02-05T22:30:00",
          "2010-02-09T18:00:00",
          "2010-02-11T12:00:00",
          "2010-02-19T20:30:00",
          "2010-02-23T22:00:00",
          "2010-02-25T17:00:00",
          "2010-03-13T01:00:00",
          "2010-03-13T12:00:00",
          "2010-03-13T15:00:00",
          "2010-03-13T16:00:00",
          "2010-03-13T18:00:00",
          "2010-03-31T23:59:00",
          "2010-04-16T17:15:00",
          "2010-04-21T15:05:00",
          "2010-04-27T14:55:00",
          "2010-05-18T08:15:00",
          "2010-06-01T22:03:00",
          "2010-06-02T20:18:00",
          "2010-06-06T04:45:00",
          "2010-06-07T18:29:00",
          "2010-06-08T11:00:00",
          "2010-06-09T14:18:00",
          "2010-06-16T11:11:00",
          "2010-06-17T08:30:00",
          "2010-06-17T09:30:00",
          "2010-06-17T10:49:00",
          "2010-06-18T15:30:00",
          "2010-06-18T16:00:00",
          "2010-06-18T19:00:00",
          "2010-06-18T20:00:00",
          "2010-06-21T13:48:00",
          "2010-06-22T15:34:00",
          "2010-06-23T17:00:00",
          "2010-06-23T17:48:00",
          "2010-06-24T15:00:00",
          "2010-06-24T15:30:00",
          "2010-06-25T23:36:00",
          "2010-07-06T03:47:00",
          "2010-07-07T16:13:00",
          "2010-07-15T19:00:00",
          "2010-07-17T20:30:00",
          "2010-07-21T18:44:00",
          "2010-07-23T10:00:00",
          "2010-07-23T19:30:00",
          "2010-07-25T15:10:00",
          "2010-07-25T15:20:00",
          "2010-07-25T16:11:00",
          "2010-07-29T17:43:00",
          "2010-07-29T18:39:00",
          "2010-08-02T12:00:00",
          "2010-08-02T12:45:00",
          "2010-08-05T15:30:00",
          "2010-08-05T15:54:00",
          "2010-08-09T12:00:00",
          "2010-08-12T06:45:00",
          "2010-08-12T08:21:00",
          "2010-08-12T15:42:00",
          "2010-08-19T18:00:00",
          "2010-08-23T17:50:00",
          "2010-09-01T10:20:00",
          "2010-09-07T14:02:00",
          "2010-09-20T17:00:00",
          "2010-09-21T21:31:00",
          "2010-09-22T06:12:00",
          "2010-09-22T16:08:00",
          "2010-09-22T17:38:00",
          "2010-09-27T15:15:00",
          "2010-10-05T05:45:00",
          "2010-10-26T09:00:00",
          "2010-10-26T20:00:00",
          "2010-10-27T04:00:00",
          "2010-10-27T08:00:00",
          "2010-10-27T17:00:00",
          "2010-10-27T17:16:00",
          "2010-10-31T22:26:00",
          "2010-11-04T09:46:00",
          "2010-11-06T15:53:00",
          "2010-11-08T06:47:00",
          "2010-11-13T15:00:00",
          "2010-11-21T01:39:00",
          "2010-11-22T23:00:00",
          "2010-11-23T14:01:00",
          "2010-12-03T21:32:00",
          "2010-12-12T16:30:00",
          "2010-12-14T07:20:00",
          "2010-12-14T07:36:00",
          "2010-12-18T05:00:00",
          "2010-12-30T14:00:00",
          "2011-01-11T23:08:00",
          "2011-01-12T06:00:00",
          "2011-01-13T07:21:00",
          "2011-01-18T14:00:00",
          "2011-01-23T07:00:00",
          "2011-01-24T13:20:00",
          "2011-01-25T03:23:00",
          "2011-01-26T09:25:00",
          "2011-01-26T09:33:00",
          "2011-01-26T17:00:00",
          "2011-01-26T18:28:00",
          "2011-01-26T19:43:00",
          "2011-01-27T09:30:00",
          "2011-01-27T17:00:00",
          "2011-02-01T21:00:00",
          "2011-02-02T03:00:00",
          "2011-02-02T05:43:00",
          "2011-02-02T06:22:00",
          "2011-02-03T14:30:00",
          "2011-02-03T15:00:00",
          "2011-02-03T22:04:00",
          "2011-02-09T03:45:00",
          "2011-02-09T14:54:00",
          "2011-02-09T16:30:00",
          "2011-02-10T13:00:00",
          "2011-02-17T01:25:00",
          "2011-02-17T13:00:00",
          "2011-02-19T12:30:00",
          "2011-02-19T16:34:00",
          "2011-02-20T16:00:00",
          "2011-02-24T16:51:00",
          "2011-02-25T08:00:00",
          "2011-02-25T10:30:00",
          "2011-02-25T15:20:00",
          "2011-02-25T15:23:00",
          "2011-03-01T08:00:00",
          "2011-03-06T02:54:00",
          "2011-03-08T08:00:00",
          "2011-03-10T12:03:00",
          "2011-03-11T07:02:00",
          "2011-03-13T14:20:00",
          "2011-03-14T07:30:00",
          "2011-03-15T18:00:00",
          "2011-03-17T07:40:00",
          "2011-03-18T09:54:00",
          "2011-03-19T23:56:00",
          "2011-03-20T09:44:00",
          "2011-03-21T00:57:00",
          "2011-03-21T12:35:00",
          "2011-03-27T13:27:00",
          "2011-03-31T11:30:00",
          "2011-03-31T14:30:00",
          "2011-04-04T11:47:00",
          "2011-04-04T13:00:00",
          "2011-04-04T14:00:00",
          "2011-04-06T10:50:00",
          "2011-04-11T17:40:00",
          "2011-04-16T14:16:00",
          "2011-04-19T14:01:00",
          "2011-04-19T20:00:00",
          "2011-04-19T22:44:00",
          "2011-04-19T23:02:00",
          "2011-04-19T23:13:00",
          "2011-04-20T08:07:00",
          "2011-04-21T07:15:00",
          "2011-04-21T19:00:00",
          "2011-04-22T21:00:00",
          "2011-04-25T16:33:00",
          "2011-04-26T05:49:00",
          "2011-04-26T13:04:00",
          "2011-04-26T18:14:00",
          "2011-04-28T05:00:00",
          "2011-04-28T16:09:00",
          "2011-05-02T08:52:00",
          "2011-05-02T14:00:00",
          "2011-05-02T17:06:00",
          "2011-05-03T12:00:00",
          "2011-05-04T12:20:00",
          "2011-05-04T13:08:00",
          "2011-05-05T09:15:00",
          "2011-05-06T06:56:00",
          "2011-05-08T19:35:00",
          "2011-05-09T04:08:00",
          "2011-05-09T13:11:00",
          "2011-05-10T03:25:00",
          "2011-05-10T13:45:00",
          "2011-05-11T00:15:00",
          "2011-05-11T11:00:00",
          "2011-05-11T13:35:00",
          "2011-05-11T15:55:00",
          "2011-05-13T06:00:00",
          "2011-05-21T17:00:00",
          "2011-05-22T17:09:00",
          "2011-05-23T12:30:00",
          "2011-05-23T16:45:00",
          "2011-05-24T09:00:00",
          "2011-05-24T16:35:00",
          "2011-05-24T16:45:00",
          "2011-05-25T22:14:00",
          "2011-05-26T01:00:00",
          "2011-05-26T18:30:00",
          "2011-05-26T19:56:00",
          "2011-05-29T18:30:00",
          "2011-06-02T23:45:00",
          "2011-06-04T01:17:00",
          "2011-06-05T05:30:00",
          "2011-06-05T20:02:00",
          "2011-06-06T15:00:00",
          "2011-06-07T14:00:00",
          "2011-06-08T12:58:00",
          "2011-06-09T04:30:00",
          "2011-06-09T14:15:00",
          "2011-06-12T19:00:00",
          "2011-06-15T16:00:00",
          "2011-06-15T19:15:00",
          "2011-06-15T19:17:00",
          "2011-06-18T15:30:00",
          "2011-06-18T16:45:00",
          "2011-06-20T10:36:00",
          "2011-06-21T21:45:00",
          "2011-06-22T09:46:00",
          "2011-06-22T20:12:00",
          "2011-06-23T08:10:00",
          "2011-06-26T16:46:00",
          "2011-06-27T15:00:00",
          "2011-06-27T18:55:00",
          "2011-06-29T11:30:00",
          "2011-06-30T14:11:00",
          "2011-06-30T22:30:00",
          "2011-06-30T22:31:00",
          "2011-07-01T08:00:00",
          "2011-07-01T16:38:00",
          "2011-07-01T17:00:00",
          "2011-07-02T20:15:00",
          "2011-07-04T18:00:00",
          "2011-07-05T10:40:00",
          "2011-07-06T09:51:00",
          "2011-07-08T10:00:00",
          "2011-07-11T09:00:00",
          "2011-07-11T11:15:00",
          "2011-07-11T13:13:00",
          "2011-07-11T13:30:00",
          "2011-07-12T12:00:00",
          "2011-07-12T20:20:00",
          "2011-07-13T17:19:00",
          "2011-07-14T11:00:00",
          "2011-07-18T17:00:00",
          "2011-07-19T11:45:00",
          "2011-07-20T09:10:00",
          "2011-07-21T12:32:00",
          "2011-07-21T13:00:00",
          "2011-07-22T11:00:00",
          "2011-07-22T11:34:00",
          "2011-07-23T02:30:00",
          "2011-07-24T14:34:00",
          "2011-07-26T12:01:00",
          "2011-07-27T12:07:00",
          "2011-07-28T00:14:00",
          "2011-07-28T07:26:00",
          "2011-07-28T13:32:00",
          "2011-07-28T19:25:00",
          "2011-07-29T11:46:00",
          "2011-07-29T20:45:00",
          "2011-08-01T14:18:00",
          "2011-08-01T15:00:00",
          "2011-08-02T10:15:00",
          "2011-08-02T21:30:00",
          "2011-08-03T10:00:00",
          "2011-08-03T16:29:00",
          "2011-08-03T16:30:00",
          "2011-08-08T09:30:00",
          "2011-08-08T09:35:00",
          "2011-08-08T19:36:00",
          "2011-08-08T20:58:00",
          "2011-08-09T10:26:00",
          "2011-08-13T16:41:00",
          "2011-08-15T02:05:00",
          "2011-08-18T09:51:00",
          "2011-08-20T17:42:00",
          "2011-08-22T10:05:00",
          "2011-08-23T13:51:00",
          "2011-08-23T15:43:00",
          "2011-08-24T07:45:00",
          "2011-08-24T13:20:00",
          "2011-08-25T00:01:00",
          "2011-08-25T00:30:00",
          "2011-08-26T00:30:00",
          "2011-08-27T02:00:00",
          "2011-08-27T02:57:00",
          "2011-08-27T19:00:00",
          "2011-08-27T20:30:00",
          "2011-08-27T22:00:00",
          "2011-08-27T23:00:00",
          "2011-08-27T23:05:00",
          "2011-08-28T00:01:00",
          "2011-08-28T00:23:00",
          "2011-08-28T00:30:00",
          "2011-08-28T02:58:00",
          "2011-08-28T05:00:00",
          "2011-08-28T05:01:00",
          "2011-08-28T07:00:00",
          "2011-08-28T07:40:00",
          "2011-08-28T09:42:00",
          "2011-08-28T12:10:00",
          "2011-08-28T12:30:00",
          "2011-08-28T20:55:00",
          "2011-08-31T12:52:00",
          "2011-09-01T08:13:00",
          "2011-09-03T14:00:00",
          "2011-09-08T19:53:00",
          "2011-09-12T09:15:00",
          "2011-09-13T11:43:00",
          "2011-09-13T14:03:00",
          "2011-09-14T09:00:00",
          "2011-09-20T12:55:00",
          "2011-09-21T10:30:00",
          "2011-09-22T14:50:00",
          "2011-09-23T09:04:00",
          "2011-09-24T16:17:00",
          "2011-09-26T10:15:00",
          "2011-09-28T09:30:00",
          "2011-09-28T14:59:00",
          "2011-09-28T16:41:00",
          "2011-09-29T05:00:00",
          "2011-09-29T18:44:00",
          "2011-09-30T08:22:00",
          "2011-10-06T11:07:00",
          "2011-10-07T08:04:00",
          "2011-10-14T14:20:00",
          "2011-10-17T03:34:00",
          "2011-10-17T15:44:00",
          "2011-10-18T03:45:00",
          "2011-10-20T07:15:00",
          "2011-10-24T23:37:00",
          "2011-10-26T05:00:00",
          "2011-10-27T01:00:00",
          "2011-10-29T08:59:00",
          "2011-10-29T09:59:00",
          "2011-10-29T11:18:00",
          "2011-10-29T12:57:00",
          "2011-10-29T14:00:00",
          "2011-10-29T14:30:00",
          "2011-10-29T15:00:00",
          "2011-10-29T16:16:00",
          "2011-11-04T10:46:00",
          "2011-11-13T11:30:00",
          "2011-11-14T14:24:00",
          "2011-11-22T23:16:00",
          "2011-11-30T10:00:00",
          "2011-11-30T16:56:00",
          "2011-12-01T00:45:00",
          "2011-12-01T03:29:00",
          "2011-12-01T10:00:00",
          "2011-12-02T16:15:00",
          "2011-12-05T14:00:00",
          "2011-12-06T08:00:00",
          "2011-12-06T17:38:00",
          "2011-12-07T19:29:00",
          "2011-12-08T08:45:00",
          "2011-12-13T03:19:00",
          "2011-12-19T08:48:00",
          "2011-12-20T07:45:00",
          "2011-12-20T09:30:00",
          "2011-12-21T10:30:00",
          "2011-12-31T21:26:00",
          "2012-01-04T12:14:00",
          "2012-01-05T10:28:00",
          "2012-01-05T10:35:00",
          "2012-01-09T13:36:00",
          "2012-01-09T14:30:00",
          "2012-01-10T21:30:00",
          "2012-01-11T07:19:00",
          "2012-01-12T08:26:00",
          "2012-01-13T09:20:00",
          "2012-01-15T09:35:00",
          "2012-01-17T10:31:00",
          "2012-01-19T07:00:00",
          "2012-01-24T11:22:00",
          "2012-01-27T09:40:00",
          "2012-01-29T12:45:00",
          "2012-02-11T08:47:00",
          "2012-02-11T08:55:00",
          "2012-02-13T07:02:00",
          "2012-02-14T19:20:00",
          "2012-02-15T05:33:00",
          "2012-02-17T03:00:00",
          "2012-02-23T05:45:00",
          "2012-02-23T23:12:00",
          "2012-02-24T11:24:00",
          "2012-02-28T02:59:00",
          "2012-02-28T07:00:00",
          "2012-03-02T13:45:00",
          "2012-03-02T21:00:00",
          "2012-03-04T01:27:00",
          "2012-03-04T13:38:00",
          "2012-03-16T16:00:00",
          "2012-03-20T08:00:00",
          "2012-03-23T19:34:00",
          "2012-03-26T13:24:00",
          "2012-03-28T10:17:00",
          "2012-03-29T12:01:00",
          "2012-03-30T11:10:00",
          "2012-04-01T20:27:00",
          "2012-04-03T11:10:00",
          "2012-04-03T15:33:00",
          "2012-04-04T15:32:00",
          "2012-04-07T09:31:00",
          "2012-04-07T12:25:00",
          "2012-04-07T14:35:00",
          "2012-04-11T09:00:00",
          "2012-04-12T08:08:00",
          "2012-04-15T19:38:00",
          "2012-04-16T15:46:00",
          "2012-04-17T06:11:00",
          "2012-04-19T07:53:00",
          "2012-04-20T14:27:00",
          "2012-04-21T15:02:00",
          "2012-04-21T20:55:00",
          "2012-04-23T08:11:00",
          "2012-04-23T11:56:00",
          "2012-05-07T12:50:00",
          "2012-05-07T17:45:00",
          "2012-05-11T11:05:00",
          "2012-05-24T15:20:00",
          "2012-05-29T18:30:00",
          "2012-05-29T20:35:00",
          "2012-05-31T23:45:00",
          "2012-06-02T07:30:00",
          "2012-06-06T08:00:00",
          "2012-06-06T12:37:00",
          "2012-06-08T17:20:00",
          "2012-06-12T15:57:00",
          "2012-06-13T16:55:00",
          "2012-06-19T04:30:00",
          "2012-06-19T05:30:00",
          "2012-06-23T18:57:00",
          "2012-06-25T16:04:00",
          "2012-06-29T10:45:00",
          "2012-06-29T14:10:00",
          "2012-06-29T16:00:00",
          "2012-06-29T18:24:00",
          "2012-06-29T22:15:00",
          "2012-06-29T22:29:00",
          "2012-06-29T22:43:00",
          "2012-06-29T23:30:00",
          "2012-06-30T01:00:00",
          "2012-06-30T01:15:00",
          "2012-06-30T15:00:00",
          "2012-06-30T22:30:00",
          "2012-07-01T13:00:00",
          "2012-07-01T16:47:00",
          "2012-07-01T17:45:00",
          "2012-07-05T00:00:00",
          "2012-07-05T19:00:00",
          "2012-07-06T15:05:00",
          "2012-07-07T04:00:00",
          "2012-07-07T06:06:00",
          "2012-07-07T18:00:00",
          "2012-07-16T11:27:00",
          "2012-07-18T16:20:00",
          "2012-07-18T23:00:00",
          "2012-07-19T10:30:00",
          "2012-07-19T12:32:00",
          "2012-07-21T02:19:00",
          "2012-07-24T07:01:00",
          "2012-07-24T07:30:00",
          "2012-07-26T18:14:00",
          "2012-07-26T18:21:00",
          "2012-07-26T18:30:00",
          "2012-07-27T17:19:00",
          "2012-08-04T03:55:00",
          "2012-08-04T04:00:00",
          "2012-08-04T17:30:00",
          "2012-08-11T12:45:00",
          "2012-08-13T13:15:00",
          "2012-08-16T13:13:00",
          "2012-08-19T08:42:00",
          "2012-08-26T22:04:00",
          "2012-08-29T06:53:00",
          "2012-08-29T09:00:00",
          "2012-08-29T09:48:00",
          "2012-09-07T21:30:00",
          "2012-09-08T15:40:00",
          "2012-09-08T15:53:00",
          "2012-09-24T00:00:00",
          "2012-10-05T17:30:00",
          "2012-10-09T00:00:00",
          "2012-10-11T00:00:00",
          "2012-10-14T10:36:00",
          "2012-10-15T14:15:00",
          "2012-10-22T00:00:00",
          "2012-10-23T09:10:00",
          "2012-10-24T00:00:00",
          "2012-10-24T15:15:00",
          "2012-10-25T00:00:00",
          "2012-10-25T14:39:00",
          "2012-10-25T18:51:00",
          "2012-10-29T00:00:00",
          "2012-10-29T08:00:00",
          "2012-10-29T09:00:00",
          "2012-10-29T12:00:00",
          "2012-10-29T13:00:00",
          "2012-10-29T14:40:00",
          "2012-10-29T14:45:00",
          "2012-10-29T15:00:00",
          "2012-10-29T16:00:00",
          "2012-10-29T16:01:00",
          "2012-10-29T16:03:00",
          "2012-10-29T16:45:00",
          "2012-10-29T17:13:00",
          "2012-10-29T17:30:00",
          "2012-10-29T18:11:00",
          "2012-10-29T18:12:00",
          "2012-10-29T18:48:00",
          "2012-10-29T19:15:00",
          "2012-10-30T00:00:00",
          "2012-10-30T02:00:00",
          "2012-10-30T13:20:00",
          "2012-10-30T15:00:00",
          "2012-11-02T09:30:00",
          "2012-11-07T14:21:00",
          "2012-11-08T09:34:00",
          "2012-11-15T05:38:00",
          "2012-11-17T10:00:00",
          "2012-11-21T14:50:00",
          "2012-11-26T12:37:00",
          "2012-11-26T15:07:00",
          "2012-11-27T13:07:00",
          "2012-12-02T05:20:00",
          "2012-12-03T12:02:00",
          "2012-12-06T21:18:00",
          "2012-12-17T06:55:00",
          "2012-12-25T09:28:00",
          "2012-12-26T14:50:00",
          "2012-12-31T14:21:00",
          "2013-01-07T10:43:00",
          "2013-01-16T07:41:00",
          "2013-01-16T14:25:00",
          "2013-01-16T16:45:00",
          "2013-01-17T19:02:00",
          "2013-01-17T20:35:00",
          "2013-01-20T03:30:00",
          "2013-01-28T16:46:00",
          "2013-01-31T03:05:00",
          "2013-01-31T06:30:00",
          "2013-02-02T21:15:00",
          "2013-02-07T08:32:00",
          "2013-02-08T11:38:00",
          "2013-02-08T20:55:00",
          "2013-02-09T08:30:00",
          "2013-02-13T09:30:00",
          "2013-02-13T17:39:00",
          "2013-02-15T00:00:00",
          "2013-02-16T07:54:00",
          "2013-02-19T16:01:00",
          "2013-02-21T11:00:00",
          "2013-02-26T13:00:00",
          "2013-03-03T06:39:00",
          "2013-03-03T16:27:00",
          "2013-03-06T08:22:00",
          "2013-03-18T17:50:00",
          "2013-03-23T07:00:00",
          "2013-03-27T10:25:00",
          "2013-03-28T13:01:00",
          "2013-03-29T10:16:00",
          "2013-04-01T08:40:00",
          "2013-04-03T11:05:00",
          "2013-04-09T11:30:00",
          "2013-04-16T01:47:00",
          "2013-04-17T15:36:00",
          "2013-04-18T15:00:00",
          "2013-04-21T02:11:00",
          "2013-04-23T00:49:00",
          "2013-04-23T11:00:00",
          "2013-04-25T16:00:00",
          "2013-05-01T09:22:00",
          "2013-05-09T13:21:00",
          "2013-05-14T00:01:00",
          "2013-05-14T10:25:00",
          "2013-05-15T14:11:00",
          "2013-05-17T08:35:00",
          "2013-05-20T15:00:00",
          "2013-05-20T17:22:00",
          "2013-05-28T13:00:00",
          "2013-05-29T00:00:00",
          "2013-05-29T09:52:00",
          "2013-05-29T20:58:00",
          "2013-05-30T10:15:00",
          "2013-05-31T01:00:00",
          "2013-05-31T18:00:00",
          "2013-05-31T19:30:00",
          "2013-06-13T13:17:00",
          "2013-06-13T15:30:00",
          "2013-06-13T16:08:00",
          "2013-06-13T17:45:00",
          "2013-06-17T16:17:00",
          "2013-06-18T15:51:00",
          "2013-06-20T18:00:00",
          "2013-06-21T03:00:00",
          "2013-06-21T07:40:00",
          "2013-06-21T17:39:00",
          "2013-06-21T23:14:00",
          "2013-06-22T04:59:00",
          "2013-06-22T16:12:00",
          "2013-06-23T21:20:00",
          "2013-06-24T19:30:00",
          "2013-06-27T01:10:00",
          "2013-06-27T17:00:00",
          "2013-06-28T13:00:00",
          "2013-06-28T17:14:00",
          "2013-06-28T18:02:00",
          "2013-07-03T09:34:00",
          "2013-07-05T00:05:00",
          "2013-07-10T14:30:00",
          "2013-07-10T17:30:00",
          "2013-07-11T23:20:00",
          "2013-07-12T10:00:00",
          "2013-07-17T15:30:00",
          "2013-07-18T03:15:00",
          "2013-07-18T11:30:00",
          "2013-07-18T23:45:00",
          "2013-07-19T18:00:00",
          "2013-07-19T22:30:00",
          "2013-07-22T07:00:00",
          "2013-07-23T23:38:00",
          "2013-07-25T13:10:00",
          "2013-08-01T11:00:00",
          "2013-08-01T23:19:00",
          "2013-08-04T03:00:00",
          "2013-08-06T16:00:00",
          "2013-08-07T00:15:00",
          "2013-08-07T07:30:00",
          "2013-08-07T14:30:00",
          "2013-08-12T11:55:00",
          "2013-08-16T16:58:00",
          "2013-08-19T19:06:00",
          "2013-08-21T14:00:00",
          "2013-08-22T08:40:00",
          "2013-08-22T12:55:00",
          "2013-08-23T07:30:00",
          "2013-08-26T20:15:00",
          "2013-08-28T09:30:00",
          "2013-08-29T09:50:00",
          "2013-08-29T14:57:00",
          "2013-08-30T19:30:00",
          "2013-09-10T17:42:00",
          "2013-09-11T16:00:00",
          "2013-09-29T00:00:00",
          "2013-10-06T07:25:00",
          "2013-10-11T14:30:00",
          "2013-10-16T11:15:00",
          "2013-10-19T14:32:00",
          "2013-10-21T05:18:00",
          "2013-10-26T07:13:00",
          "2013-10-27T04:27:00",
          "2013-11-01T13:26:00",
          "2013-11-02T00:00:00",
          "2013-11-02T08:25:00",
          "2013-11-04T09:04:00",
          "2013-11-05T10:10:00",
          "2013-11-12T09:14:00",
          "2013-11-12T14:04:00",
          "2013-11-16T15:15:00",
          "2013-11-17T07:00:00",
          "2013-11-17T12:35:00",
          "2013-11-17T13:06:00",
          "2013-11-17T14:31:00",
          "2013-11-17T16:45:00",
          "2013-11-17T16:47:00",
          "2013-11-20T03:08:00",
          "2013-11-21T19:45:00",
          "2013-11-24T07:38:00",
          "2013-12-06T01:51:00",
          "2013-12-06T08:47:00",
          "2013-12-09T06:54:00",
          "2013-12-10T01:01:00",
          "2013-12-13T11:00:00",
          "2013-12-22T03:28:00",
          "2013-12-22T06:16:00",
          "2013-12-22T06:30:00",
          "2013-12-23T15:20:00",
          "2013-12-27T09:43:00",
          "2013-12-30T11:00:00",
          "2014-01-06T07:01:00",
          "2014-01-06T14:37:00",
          "2014-01-06T19:50:00",
          "2014-01-06T19:52:00",
          "2014-01-06T22:00:00",
          "2014-01-07T06:00:00",
          "2014-01-07T06:18:00",
          "2014-01-07T07:58:00",
          "2014-01-07T10:59:00",
          "2014-01-07T16:15:00",
          "2014-01-07T18:00:00",
          "2014-01-08T06:00:00",
          "2014-01-13T16:44:00",
          "2014-01-15T14:32:00",
          "2014-01-16T12:30:00",
          "2014-01-17T12:20:00",
          "2014-01-18T09:00:00",
          "2014-01-21T12:14:00",
          "2014-01-22T00:30:00",
          "2014-01-22T09:45:00",
          "2014-01-22T13:55:00",
          "2014-01-22T21:15:00",
          "2014-01-23T04:00:00",
          "2014-01-23T13:04:00",
          "2014-01-23T16:00:00",
          "2014-01-23T21:17:00",
          "2014-01-24T00:00:00",
          "2014-01-24T15:30:00",
          "2014-01-25T10:00:00",
          "2014-01-26T21:00:00",
          "2014-01-27T14:20:00",
          "2014-01-29T16:00:00",
          "2014-02-05T01:00:00",
          "2014-02-05T05:00:00",
          "2014-02-05T07:00:00",
          "2014-02-05T07:35:00",
          "2014-02-05T08:05:00",
          "2014-02-06T13:00:00",
          "2014-02-06T13:05:00",
          "2014-02-06T13:58:00",
          "2014-02-06T14:15:00",
          "2014-02-06T15:35:00",
          "2014-02-07T07:00:00",
          "2014-02-07T16:30:00",
          "2014-02-07T16:50:00",
          "2014-02-12T07:48:00",
          "2014-02-12T11:03:00",
          "2014-02-12T12:10:00",
          "2014-02-12T14:15:00",
          "2014-02-14T13:00:00",
          "2014-02-18T18:43:00",
          "2014-02-21T02:53:00",
          "2014-03-02T19:00:00",
          "2014-03-03T01:48:00",
          "2014-03-03T06:40:00",
          "2014-03-03T17:25:00",
          "2014-03-04T09:06:00",
          "2014-03-05T17:06:00",
          "2014-03-07T03:30:00",
          "2014-03-11T00:00:00",
          "2014-03-12T19:35:00",
          "2014-03-14T12:34:00",
          "2014-03-17T17:25:00",
          "2014-03-20T00:00:00",
          "2014-03-24T11:07:00",
          "2014-03-26T13:37:00",
          "2014-03-26T16:00:00",
          "2014-04-03T14:45:00",
          "2014-04-04T03:30:00",
          "2014-04-08T13:00:00",
          "2014-04-12T18:15:00",
          "2014-04-12T20:00:00",
          "2014-04-23T19:45:00",
          "2014-04-25T07:00:00",
          "2014-04-27T12:07:00",
          "2014-05-08T01:00:00",
          "2014-05-08T08:39:00",
          "2014-05-09T18:00:00",
          "2014-05-11T18:38:00",
          "2014-05-12T13:14:00",
          "2014-05-15T12:10:00",
          "2014-05-16T10:43:00",
          "2014-05-20T07:01:00",
          "2014-05-23T15:00:00",
          "2014-05-27T11:00:00",
          "2014-06-03T01:38:00",
          "2014-06-05T03:00:00",
          "2014-06-05T13:06:00",
          "2014-06-07T23:00:00",
          "2014-06-10T21:50:00",
          "2014-06-11T09:30:00",
          "2014-06-11T16:00:00",
          "2014-06-12T09:10:00",
          "2014-06-15T00:00:00",
          "2014-06-18T09:52:00",
          "2014-06-18T17:00:00",
          "2014-06-19T08:47:00",
          "2014-06-24T14:54:00",
          "2014-06-30T17:55:00",
          "2014-06-30T20:00:00",
          "2014-06-30T23:20:00",
          "2015-01-07T17:00:00",
          "2015-01-22T04:24:00",
          "2015-01-26T14:39:00",
          "2015-01-27T10:30:00",
          "2015-02-01T11:24:00",
          "2015-02-02T09:40:00",
          "2015-02-04T11:55:00",
          "2015-02-05T08:15:00",
          "2015-02-05T11:20:00",
          "2015-02-09T11:30:00",
          "2015-02-16T21:41:00",
          "2015-02-17T06:20:00",
          "2015-02-19T14:30:00",
          "2015-02-21T08:34:00",
          "2015-02-26T03:30:00",
          "2015-03-04T09:05:00",
          "2015-03-09T23:50:00",
          "2015-03-15T15:30:00",
          "2015-03-16T07:31:00",
          "2015-03-19T18:30:00",
          "2015-03-22T16:25:00",
          "2015-03-26T15:21:00",
          "2015-03-29T04:26:00",
          "2015-04-01T18:25:00",
          "2015-04-02T07:04:00",
          "2015-04-03T02:00:00",
          "2015-04-06T08:12:00",
          "2015-04-07T12:30:00",
          "2015-04-07T15:34:00",
          "2015-04-17T21:30:00",
          "2015-04-18T21:00:00",
          "2015-04-24T19:10:00",
          "2015-05-02T22:51:00",
          "2015-05-04T15:25:00",
          "2015-05-11T08:32:00",
          "2015-05-12T00:40:00",
          "2015-05-18T15:28:00",
          "2015-05-25T18:00:00",
          "2015-05-25T20:30:00",
          "2015-05-25T22:45:00",
          "2015-06-01T00:27:00",
          "2015-06-01T19:19:00",
          "2015-06-02T18:58:00",
          "2015-06-03T15:00:00",
          "2015-06-07T13:52:00",
          "2015-06-07T13:54:00",
          "2015-06-20T13:52:00",
          "2015-06-23T17:06:00",
          "2015-06-23T17:30:00",
          "2015-06-23T18:00:00",
          "2015-06-23T18:18:00",
          "2015-06-27T17:00:00",
          "2015-06-29T19:21:00",
          "2015-06-30T10:50:00",
          "2015-06-30T14:00:00",
          "2015-07-03T08:30:00",
          "2015-07-03T17:17:00",
          "2015-07-13T19:40:00",
          "2015-07-14T15:29:00",
          "2015-07-14T20:00:00",
          "2015-07-15T02:00:00",
          "2015-07-16T16:45:00",
          "2015-07-18T02:00:00",
          "2015-07-18T18:26:00",
          "2015-07-18T19:59:00",
          "2015-07-21T12:47:00",
          "2015-07-27T03:52:00",
          "2015-07-29T16:45:00",
          "2015-07-30T09:50:00",
          "2015-08-02T17:45:00",
          "2015-08-03T00:30:00",
          "2015-08-03T01:00:00",
          "2015-08-11T19:30:00",
          "2015-08-13T15:15:00",
          "2015-08-29T11:00:00",
          "2015-08-29T13:00:00",
          "2015-09-03T02:33:00",
          "2015-09-13T17:56:00",
          "2015-09-20T13:12:00",
          "2015-09-29T15:40:00",
          "2015-10-13T06:30:00",
          "2015-10-13T10:25:00",
          "2015-10-13T16:32:00",
          "2015-10-16T12:25:00",
          "2015-10-18T07:00:00",
          "2015-10-28T13:38:00",
          "2015-10-30T15:00:00",
          "2015-10-31T00:45:00",
          "2015-11-01T11:53:00",
          "2015-11-02T17:37:00",
          "2015-11-10T12:00:00",
          "2015-11-13T11:30:00",
          "2015-11-21T20:30:00",
          "2015-11-28T06:00:00",
          "2015-12-02T13:03:00",
          "2015-12-05T21:00:00",
          "2015-12-08T14:00:00",
          "2015-12-09T04:00:00",
          "2015-12-10T03:53:00",
          "2015-12-10T06:01:00",
          "2015-12-10T17:55:00",
          "2015-12-10T21:25:00",
          "2015-12-24T03:00:00",
          "2015-12-27T23:38:00",
          "2015-12-29T08:30:00",
          "2015-12-31T17:00:00",
          "2016-01-04T05:15:00",
          "2016-01-11T20:16:00",
          "2016-01-14T08:27:00",
          "2016-01-17T12:00:00",
          "2016-01-23T07:49:00",
          "2016-02-07T13:21:00",
          "2016-02-13T12:44:00",
          "2016-02-19T22:00:00",
          "2016-02-21T15:54:00",
          "2016-02-24T09:10:00",
          "2016-02-26T16:35:00",
          "2016-03-03T11:00:00",
          "2016-03-08T00:00:00",
          "2016-03-10T04:00:00",
          "2016-03-23T05:00:00",
          "2016-03-27T12:00:00",
          "2016-03-30T21:12:00",
          "2016-04-01T16:37:00",
          "2016-04-02T11:08:00",
          "2016-04-12T11:30:00",
          "2016-04-14T16:49:00",
          "2016-04-15T10:00:00",
          "2016-04-18T05:05:00",
          "2016-04-27T05:50:00",
          "2016-04-27T18:00:00",
          "2016-05-07T07:49:00",
          "2016-05-10T20:45:00",
          "2016-05-14T21:25:00",
          "2016-05-19T21:36:00",
          "2016-05-20T00:00:00",
          "2016-05-26T21:29:00",
          "2016-05-31T07:30:00",
          "2016-06-07T12:00:00",
          "2016-06-14T07:59:00",
          "2016-06-17T04:30:00",
          "2016-07-02T04:00:00",
          "2016-07-05T02:45:00",
          "2016-07-07T05:53:00",
          "2016-07-08T19:00:00",
          "2016-07-08T20:50:00",
          "2016-07-09T17:45:00",
          "2016-07-13T13:00:00",
          "2016-07-14T14:44:00",
          "2016-07-19T15:45:00",
          "2016-07-21T06:18:00",
          "2016-07-23T15:15:00"
         ],
         "xaxis": "x",
         "y": [
          -1.6,
          -1.6,
          -1.1,
          -1.1,
          -0.7,
          -0.7,
          -0.7,
          -0.7,
          -0.7,
          -0.5,
          -0.5,
          -0.5,
          -0.8,
          -0.7,
          -0.7,
          -0.4,
          -0.4,
          -0.4,
          -0.4,
          -0.4,
          -0.2,
          -0.2,
          -0.2,
          -0.1,
          -0.1,
          -0.1,
          -0.1,
          -0.2,
          -0.2,
          0,
          0.1,
          0.8,
          0.8,
          1.2,
          1.2,
          1.1,
          1.1,
          1.1,
          1.1,
          1.1,
          1.1,
          0.9,
          0.7,
          0,
          0,
          0,
          0,
          -0.2,
          -0.2,
          -0.1,
          0.1,
          0.1,
          0.1,
          0.1,
          0.1,
          0.1,
          0.1,
          0.1,
          0.1,
          0.1,
          0.1,
          0.2,
          0.2,
          0.2,
          0.2,
          0.2,
          0.2,
          0.2,
          0.2,
          0.2,
          0.2,
          0.3,
          0.3,
          0.3,
          0.3,
          0.3,
          0.3,
          0.3,
          0.3,
          0.3,
          0.3,
          0.3,
          0.3,
          0.3,
          0.3,
          0.3,
          0.3,
          0.3,
          0.3,
          0.3,
          0.3,
          0.3,
          0.3,
          0.3,
          0.3,
          0.2,
          0.2,
          0.2,
          0.1,
          0.1,
          0.1,
          0.2,
          0.2,
          0.2,
          0.2,
          0.2,
          0.2,
          0.20000000000000004,
          0.3,
          0.3,
          0.3,
          0.3,
          0.3,
          0.3,
          0.5,
          0.5,
          0.5,
          0.5,
          0.5,
          0.5,
          0.5,
          0.6,
          0.6,
          0.6,
          0.6,
          0.6,
          0.6,
          0.6,
          0.6,
          0.6,
          0.7,
          0.7,
          0.7,
          0.7,
          0.7,
          0.7,
          0.7,
          0.7,
          0.7,
          0.7,
          0.7,
          0.7,
          0.7,
          0.7,
          0.7,
          0.7,
          0.6,
          0.6,
          0.7,
          0.7,
          0.7,
          0.7,
          0.7,
          0.7,
          0.7,
          0.7,
          0.5,
          0.5,
          0.5,
          0.5,
          0.3,
          0.3,
          0.2,
          0.2,
          0.2,
          0.2,
          0.2,
          0.2,
          0,
          0,
          0,
          0,
          0,
          0,
          0,
          -0.1,
          -0.1,
          -0.1,
          -0.1,
          -0.1,
          -0.1,
          -0.1,
          -0.1,
          -0.1,
          0,
          0,
          0,
          0,
          0,
          0,
          0,
          0,
          0,
          0,
          0,
          -0.2,
          -0.2,
          -0.2,
          -0.5,
          -0.5,
          -0.5,
          -0.5,
          -0.7,
          -0.7,
          -0.7,
          -0.7,
          -0.6,
          -0.6,
          -0.6,
          -0.6,
          -0.6,
          -0.6,
          -0.6,
          -0.6,
          -0.6,
          -0.6,
          -0.4,
          -0.2,
          -0.2,
          -0.2,
          -0.2,
          -0.2,
          -0.2,
          -0.2,
          0,
          0,
          0,
          0,
          0,
          0,
          0.1,
          0.1,
          0.1,
          0.1,
          0.1,
          0.1,
          0.1,
          0.1,
          0.1,
          0.1,
          0.1,
          0.3,
          0.3,
          0.5,
          0.5,
          0.5,
          0.7,
          0.7,
          0.7,
          0.7,
          0.7,
          0.7,
          0.7,
          0.9,
          0.9,
          0.9,
          0.9,
          0.9,
          0.9,
          0.9,
          0.9,
          0.9,
          0.9,
          0.9,
          0.9,
          0.9,
          0.9,
          0.9,
          0.7,
          0.7,
          0.4,
          0.4,
          0.4,
          0.4,
          0.1,
          -0.1,
          -0.1,
          -0.1,
          -0.1,
          -0.1,
          -0.1,
          -0.2,
          -0.2,
          -0.2,
          -0.2,
          -0.2,
          -0.2,
          -0.3,
          -0.3,
          -0.3,
          -0.4,
          -0.4,
          -0.4,
          -0.4,
          -0.4,
          -0.4,
          -0.4,
          -0.6,
          -0.6,
          -0.6,
          -0.6,
          -0.6,
          -0.6,
          -0.6,
          -0.6,
          -0.9,
          -0.9,
          -0.9,
          -0.9,
          -0.9,
          -0.9,
          -1.1,
          -1.1,
          -1.1,
          -1.1,
          -1.1,
          -1.3,
          -1.3,
          -1.3,
          -1.3,
          -1.3,
          -1.4,
          -1.4,
          -1.4,
          -1.4,
          -1.4,
          -1.4,
          -1.3,
          -1.3,
          -1.3,
          -1.3,
          -1.3,
          -1.3,
          -1.3,
          -1.3,
          -1.3,
          -1.3,
          -1.3,
          -1.3,
          -1.3,
          -1.1,
          -0.9,
          -0.7,
          -0.7,
          -0.7,
          -0.7,
          -0.7,
          -0.7,
          -0.7,
          -0.7,
          -0.5,
          -0.5,
          -0.5,
          -0.5,
          -0.5,
          -0.5,
          -0.5,
          -0.5,
          -0.5,
          -0.5,
          -0.5,
          -0.5,
          -0.5,
          -0.5,
          -0.5,
          -0.5,
          -0.5,
          -0.5,
          -0.5,
          -0.5,
          -0.5,
          -0.4,
          -0.4,
          -0.4,
          -0.4,
          -0.4,
          -0.4,
          -0.4,
          -0.4,
          -0.4,
          -0.4,
          -0.3,
          -0.3,
          -0.3,
          -0.3,
          -0.3,
          -0.3,
          -0.3,
          -0.3,
          -0.3,
          -0.3,
          -0.3,
          -0.3,
          -0.3,
          -0.3,
          -0.3,
          -0.3,
          -0.3,
          -0.3,
          -0.3,
          -0.3,
          -0.3,
          -0.3,
          -0.4,
          -0.4,
          -0.6,
          -0.6,
          -0.6,
          -0.7,
          -0.7,
          -0.7,
          -0.7,
          -0.7,
          -0.7,
          -0.7,
          -0.7,
          -0.7,
          -0.7,
          -0.7,
          -0.7,
          -0.7,
          -0.7,
          -0.7,
          -0.7,
          -0.7,
          -0.7,
          -0.7,
          -0.7,
          -0.7,
          -0.7,
          -0.7,
          -0.7,
          -0.7,
          -0.7,
          -0.7,
          -0.7,
          -0.7,
          -0.6,
          -0.6,
          -0.6,
          -0.6,
          -0.6,
          -0.6,
          -0.4,
          -0.4,
          -0.4,
          -0.4,
          -0.4,
          -0.1,
          -0.1,
          -0.1,
          -0.1,
          -0.1,
          -0.1,
          0.2,
          0.2,
          0.2,
          0.4,
          0.4,
          0.4,
          0.4,
          0.4,
          0.4,
          0.4,
          0.4,
          0.4,
          0.4,
          0.4,
          0.4,
          0.5,
          0.5,
          0.5,
          0.5,
          0.5,
          0.5,
          0.5,
          0.5,
          0.5,
          0.5,
          0.5,
          0.5,
          0.5,
          0.5,
          0.5,
          0.5,
          0.5,
          0.5,
          0.5,
          0.9,
          0.9,
          0.9,
          0.9,
          0.9,
          1.1,
          1.3,
          1.3,
          1.3,
          1.3,
          1.3,
          1.3,
          1.3,
          1.3,
          1.3,
          1.3,
          1.3,
          1.3,
          1.3,
          1.2,
          1.2,
          1.2,
          1.2,
          1.2,
          1.2,
          1.2,
          1.2,
          1.2,
          0.9,
          0.9,
          0.9,
          0.9,
          0.9,
          0.9,
          0.5,
          0.5,
          0.5,
          0,
          -0.4,
          -0.4,
          -0.4,
          -0.4,
          -0.4,
          -0.4,
          -0.4,
          -0.4,
          -0.4000000000000001,
          -0.4,
          -0.4,
          -0.4,
          -0.4,
          -0.4,
          -0.4,
          -0.4,
          -0.4,
          -0.4,
          -0.4,
          -0.4,
          -0.4,
          -0.9,
          -0.9,
          -0.9,
          -0.9,
          -0.9,
          -0.9,
          -0.9,
          -0.9,
          -0.9,
          -0.9,
          -0.9,
          -0.9,
          -1.2,
          -1.2,
          -1.2,
          -1.2,
          -1.2,
          -1.2,
          -1.2,
          -1.2,
          -1.2,
          -1.2,
          -1.4,
          -1.4,
          -1.4,
          -1.4,
          -1.4,
          -1.4,
          -1.4,
          -1.4,
          -1.5,
          -1.5,
          -1.5,
          -1.5,
          -1.5,
          -1.5,
          -1.5,
          -1.5,
          -1.4,
          -1.4,
          -1.4,
          -1.4,
          -1.4,
          -1.4,
          -1.4,
          -1.4,
          -1.4,
          -1.4,
          -1.4,
          -1.4,
          -1.4,
          -1.3,
          -1.3,
          -1.3,
          -1.3,
          -1.3,
          -1.3,
          -1.3,
          -1.3,
          -1.3,
          -1.3,
          -1.3,
          -1.3,
          -1.3,
          -1.3,
          -1,
          -1,
          -1,
          -1,
          -1,
          -1,
          -1,
          -1,
          -1,
          -1,
          -1,
          -1,
          -1,
          -1,
          -1,
          -1,
          -1,
          -1,
          -1,
          -1,
          -1,
          -0.7,
          -0.7,
          -0.7,
          -0.7,
          -0.7,
          -0.7,
          -0.7,
          -0.7,
          -0.7,
          -0.7,
          -0.7,
          -0.7,
          -0.7,
          -0.7,
          -0.7,
          -0.7,
          -0.7,
          -0.5,
          -0.5,
          -0.5,
          -0.5,
          -0.5,
          -0.5,
          -0.5,
          -0.5,
          -0.5,
          -0.5,
          -0.5,
          -0.5,
          -0.5,
          -0.5,
          -0.5,
          -0.5,
          -0.5,
          -0.5,
          -0.5,
          -0.5,
          -0.5,
          -0.4,
          -0.4,
          -0.4,
          -0.4,
          -0.4,
          -0.4,
          -0.4,
          -0.4,
          -0.4,
          -0.4,
          -0.4,
          -0.4,
          -0.4,
          -0.4,
          -0.4,
          -0.4,
          -0.4,
          -0.4,
          -0.4,
          -0.4,
          -0.4,
          -0.4,
          -0.4,
          -0.4,
          -0.4,
          -0.4,
          -0.4,
          -0.4,
          -0.4,
          -0.4,
          -0.3,
          -0.3,
          -0.3,
          -0.3,
          -0.3,
          -0.3,
          -0.3,
          -0.3,
          -0.3,
          -0.3,
          -0.3,
          -0.3,
          -0.3,
          -0.3,
          -0.3,
          -0.3,
          -0.3,
          -0.3,
          -0.3,
          -0.3,
          -0.3,
          -0.3,
          -0.3,
          -0.3,
          -0.3,
          -0.3,
          -0.3,
          -0.3,
          -0.3,
          -0.3,
          -0.3,
          -0.3,
          -0.3,
          -0.3,
          -0.3,
          -0.3,
          -0.3,
          -0.3,
          -0.3,
          -0.3,
          -0.3,
          -0.3,
          -0.3,
          -0.3,
          -0.3,
          -0.3,
          -0.3,
          -0.3,
          -0.3,
          -0.3,
          -0.3,
          -0.3,
          -0.3,
          -0.3,
          -0.3,
          -0.3,
          -0.3,
          -0.3,
          -0.3,
          -0.3,
          -0.6,
          -0.6,
          -0.6,
          -0.6,
          -0.6,
          -0.6,
          -0.6,
          -0.6,
          -0.6,
          -0.6,
          -0.6,
          -0.6,
          -0.6,
          -0.6,
          -0.6,
          -0.6,
          -0.6,
          -0.6,
          -0.6,
          -0.6,
          -0.6,
          -0.6,
          -0.6,
          -0.6,
          -0.6,
          -0.6,
          -0.6,
          -0.6,
          -0.6,
          -0.6,
          -0.6,
          -0.6,
          -0.6,
          -0.6,
          -0.6,
          -0.6,
          -0.6,
          -0.6,
          -0.6,
          -0.6,
          -0.6,
          -0.6,
          -0.6,
          -0.6,
          -0.8,
          -0.8,
          -0.8,
          -0.8,
          -0.8,
          -0.8,
          -0.8,
          -0.8,
          -0.8,
          -0.8,
          -0.8,
          -0.8,
          -0.8,
          -0.8,
          -0.8,
          -0.8,
          -0.8,
          -0.8,
          -0.8,
          -0.9,
          -0.9,
          -0.9,
          -0.9,
          -0.9,
          -0.9,
          -0.9,
          -0.9,
          -0.9,
          -0.9,
          -0.9,
          -0.9,
          -0.9,
          -0.9,
          -0.9,
          -0.9,
          -0.9,
          -0.9,
          -1,
          -1,
          -1,
          -1,
          -1,
          -1,
          -0.9,
          -0.9,
          -0.9,
          -0.9,
          -0.9,
          -0.9,
          -0.9,
          -0.9,
          -0.9,
          -0.9,
          -0.9,
          -0.9,
          -0.9,
          -0.9,
          -0.9,
          -0.7,
          -0.7,
          -0.7,
          -0.7,
          -0.7,
          -0.7,
          -0.7,
          -0.7,
          -0.7,
          -0.7,
          -0.7,
          -0.7,
          -0.7,
          -0.7,
          -0.7,
          -0.5,
          -0.5,
          -0.5,
          -0.5,
          -0.5,
          -0.5,
          -0.5,
          -0.5,
          -0.5,
          -0.5,
          -0.5,
          -0.4,
          -0.4,
          -0.4,
          -0.4,
          -0.4,
          -0.4,
          -0.4,
          -0.4,
          -0.4,
          -0.4,
          -0.4,
          -0.4,
          -0.4,
          -0.4,
          -0.4,
          -0.4,
          -0.4,
          -0.4,
          -0.4,
          -0.4,
          -0.4,
          -0.4,
          -0.4,
          -0.4,
          -0.4,
          -0.4,
          -0.4,
          -0.4,
          -0.4,
          -0.3,
          -0.3,
          -0.3,
          -0.3,
          -0.3,
          -0.3,
          -0.3,
          -0.1,
          -0.1,
          -0.1,
          -0.1,
          -0.1,
          -0.1,
          -0.1,
          -0.1,
          -0.1,
          -0.1,
          -0.1,
          -0.1,
          -0.1,
          -0.1,
          -0.1,
          -0.1,
          -0.1,
          -0.1,
          -0.1,
          -0.1,
          -0.1,
          -0.1,
          0.1,
          0.1,
          0.1,
          0.1,
          0.1,
          0.1,
          0.1,
          0.1,
          0.1,
          0.1,
          0.1,
          0.1,
          0.1,
          0.1,
          0.1,
          0.1,
          0.1,
          0.1,
          0.1,
          0.1,
          0.1,
          0.3,
          0.3,
          0.3,
          0.3,
          0.3,
          0.3,
          0.3,
          0.3,
          0.3,
          0.3,
          0.3,
          0.3,
          0.3,
          0.3,
          0.3,
          0.3,
          0.3,
          0.3,
          0.3,
          0.3,
          0.3,
          0.3,
          0.3,
          0.3,
          0.3,
          0.3,
          0.3,
          0.3,
          0.3,
          0.3,
          0.3,
          0.3,
          0.3,
          0.3,
          0.3,
          0.3,
          0.3,
          0.3,
          0.3,
          0.3,
          0.3,
          0.3,
          0.3,
          0.3,
          0.3,
          0.3,
          0.3,
          0.3,
          0.3,
          0.1,
          0.1,
          0.1,
          0.1,
          0.1,
          0.1,
          0.1,
          0.1,
          0.1,
          -0.2,
          -0.2,
          -0.2,
          -0.2,
          -0.2,
          -0.2,
          -0.2,
          -0.4,
          -0.4,
          -0.4,
          -0.4,
          -0.4,
          -0.4,
          -0.4,
          -0.4,
          -0.4,
          -0.4,
          -0.4,
          -0.4,
          -0.4,
          -0.4,
          -0.4,
          -0.4,
          -0.4,
          -0.4,
          -0.4,
          -0.4,
          -0.4,
          -0.4,
          -0.3,
          -0.3,
          -0.3,
          -0.3,
          -0.3,
          -0.3,
          -0.3,
          -0.3,
          -0.2,
          -0.2,
          -0.2,
          -0.2,
          -0.2,
          -0.2,
          -0.2,
          -0.2,
          -0.2,
          -0.2,
          -0.2,
          -0.2,
          -0.2,
          -0.2,
          -0.2,
          -0.2,
          -0.2,
          -0.2,
          -0.2,
          -0.2,
          -0.2,
          -0.2,
          -0.2,
          -0.2,
          -0.2,
          -0.2,
          -0.2,
          -0.2,
          -0.2,
          -0.2,
          -0.2,
          -0.2,
          -0.2,
          -0.2,
          -0.2,
          -0.2,
          -0.2,
          -0.2,
          -0.2,
          -0.2,
          -0.2,
          -0.2,
          -0.2,
          -0.2,
          -0.2,
          -0.2,
          -0.3,
          -0.3,
          -0.3,
          -0.3,
          -0.3,
          -0.3,
          -0.3,
          -0.3,
          -0.3,
          -0.3,
          -0.3,
          -0.3,
          -0.3,
          -0.3,
          -0.3,
          -0.3,
          -0.3,
          -0.3,
          -0.3,
          -0.3,
          -0.3,
          -0.3,
          -0.3,
          -0.3,
          -0.3,
          -0.3,
          -0.3,
          -0.3,
          -0.3,
          -0.3,
          -0.3,
          -0.3,
          -0.3,
          -0.3,
          -0.2,
          -0.2,
          -0.2,
          -0.3,
          -0.3,
          -0.3,
          -0.3,
          -0.3,
          -0.3,
          -0.3,
          -0.3,
          -0.3,
          -0.3,
          -0.3,
          -0.3,
          -0.3,
          -0.3,
          -0.3,
          -0.3,
          -0.3,
          -0.3,
          -0.3,
          -0.3,
          -0.3,
          -0.3,
          -0.3,
          -0.3,
          -0.3,
          -0.3,
          -0.3,
          -0.3,
          -0.3,
          -0.3,
          -0.3,
          -0.3,
          -0.3,
          -0.3,
          -0.3,
          -0.5,
          -0.5,
          -0.5,
          -0.5,
          -0.5,
          -0.5,
          -0.5,
          -0.5,
          -0.5,
          -0.5,
          -0.5,
          -0.5,
          -0.5,
          -0.5,
          -0.5,
          -0.5,
          -0.5,
          -0.5,
          -0.5,
          -0.5,
          -0.5,
          -0.5,
          -0.5,
          -0.5,
          -0.5,
          -0.5,
          -0.5,
          -0.5,
          -0.5,
          -0.5,
          -0.5,
          -0.5,
          -0.5,
          -0.5,
          -0.5,
          -0.5,
          -0.5,
          -0.5,
          -0.5,
          -0.5,
          -0.5,
          -0.5,
          -0.5,
          -0.5,
          -0.5,
          -0.5,
          -0.5,
          -0.5,
          -0.5,
          -0.5,
          -0.5,
          -0.5,
          -0.4,
          -0.4,
          -0.4,
          -0.4,
          -0.4,
          -0.4,
          -0.4,
          -0.4,
          -0.4,
          -0.4,
          -0.4,
          -0.4,
          -0.4,
          -0.4,
          -0.4,
          -0.2,
          -0.2,
          -0.2,
          -0.2,
          -0.2,
          -0.2,
          -0.2,
          -0.2,
          -0.1,
          -0.1,
          -0.1,
          -0.1,
          -0.1,
          -0.1,
          -0.1,
          -0.1,
          -0.1,
          -0.1,
          0,
          0,
          0,
          0,
          0,
          0,
          0,
          0,
          0,
          0,
          0,
          0,
          0,
          0,
          0,
          0,
          0.6,
          0.6,
          0.6,
          0.6,
          0.5,
          0.5,
          0.5,
          0.5,
          0.5,
          0.5,
          0.5,
          0.5,
          0.5,
          0.5,
          0.5,
          0.6,
          0.6,
          0.6,
          0.6,
          0.6,
          0.6,
          0.6,
          0.6,
          0.7,
          0.7,
          0.7,
          0.7,
          0.7,
          0.7,
          0.7,
          0.7,
          0.7,
          0.8,
          0.8,
          0.8,
          0.8,
          0.8,
          0.8,
          0.8,
          0.8,
          1,
          1,
          1,
          1,
          1,
          1,
          1,
          1,
          1,
          1,
          1,
          1,
          1,
          1,
          1,
          1.2,
          1.2,
          1.2,
          1.2,
          1.2,
          1.2,
          1.2,
          1.2,
          1.2,
          1.2,
          1.2,
          1.2,
          1.2,
          1.2,
          1.4,
          1.4,
          1.4,
          1.4,
          1.4,
          1.4,
          1.4,
          1.7,
          1.7,
          1.7,
          1.7,
          2,
          2,
          2,
          2,
          2,
          2,
          2,
          2,
          2.2,
          2.2,
          2.2,
          2.2,
          2.2,
          2.2,
          2.3,
          2.3,
          2.3,
          2.3,
          2.3,
          2.3,
          2.3,
          2.3,
          2.3,
          2.3,
          2.3,
          2.3,
          2.2,
          2.2,
          2.2,
          2.2,
          2.2,
          2,
          2,
          2,
          2,
          2,
          2,
          1.6,
          1.6,
          1.6,
          1.6,
          1.6,
          1.6,
          1.1,
          1.1,
          1.1,
          1.1,
          1.1,
          1.1,
          1.1,
          1.1,
          0.6,
          0.6,
          0.6,
          0.6,
          0.6,
          0.6,
          0.6,
          0.1,
          0.1,
          0.1,
          -0.3,
          -0.3,
          -0.3,
          -0.3,
          -0.3,
          -0.3,
          -0.3,
          -0.3,
          -0.3,
          -0.3,
          -0.3
         ],
         "yaxis": "y"
        }
       ],
       "layout": {
        "legend": {
         "title": {
          "text": "variable"
         },
         "tracegroupgap": 0
        },
        "margin": {
         "t": 60
        },
        "template": {
         "data": {
          "bar": [
           {
            "error_x": {
             "color": "#2a3f5f"
            },
            "error_y": {
             "color": "#2a3f5f"
            },
            "marker": {
             "line": {
              "color": "#E5ECF6",
              "width": 0.5
             },
             "pattern": {
              "fillmode": "overlay",
              "size": 10,
              "solidity": 0.2
             }
            },
            "type": "bar"
           }
          ],
          "barpolar": [
           {
            "marker": {
             "line": {
              "color": "#E5ECF6",
              "width": 0.5
             },
             "pattern": {
              "fillmode": "overlay",
              "size": 10,
              "solidity": 0.2
             }
            },
            "type": "barpolar"
           }
          ],
          "carpet": [
           {
            "aaxis": {
             "endlinecolor": "#2a3f5f",
             "gridcolor": "white",
             "linecolor": "white",
             "minorgridcolor": "white",
             "startlinecolor": "#2a3f5f"
            },
            "baxis": {
             "endlinecolor": "#2a3f5f",
             "gridcolor": "white",
             "linecolor": "white",
             "minorgridcolor": "white",
             "startlinecolor": "#2a3f5f"
            },
            "type": "carpet"
           }
          ],
          "choropleth": [
           {
            "colorbar": {
             "outlinewidth": 0,
             "ticks": ""
            },
            "type": "choropleth"
           }
          ],
          "contour": [
           {
            "colorbar": {
             "outlinewidth": 0,
             "ticks": ""
            },
            "colorscale": [
             [
              0,
              "#0d0887"
             ],
             [
              0.1111111111111111,
              "#46039f"
             ],
             [
              0.2222222222222222,
              "#7201a8"
             ],
             [
              0.3333333333333333,
              "#9c179e"
             ],
             [
              0.4444444444444444,
              "#bd3786"
             ],
             [
              0.5555555555555556,
              "#d8576b"
             ],
             [
              0.6666666666666666,
              "#ed7953"
             ],
             [
              0.7777777777777778,
              "#fb9f3a"
             ],
             [
              0.8888888888888888,
              "#fdca26"
             ],
             [
              1,
              "#f0f921"
             ]
            ],
            "type": "contour"
           }
          ],
          "contourcarpet": [
           {
            "colorbar": {
             "outlinewidth": 0,
             "ticks": ""
            },
            "type": "contourcarpet"
           }
          ],
          "heatmap": [
           {
            "colorbar": {
             "outlinewidth": 0,
             "ticks": ""
            },
            "colorscale": [
             [
              0,
              "#0d0887"
             ],
             [
              0.1111111111111111,
              "#46039f"
             ],
             [
              0.2222222222222222,
              "#7201a8"
             ],
             [
              0.3333333333333333,
              "#9c179e"
             ],
             [
              0.4444444444444444,
              "#bd3786"
             ],
             [
              0.5555555555555556,
              "#d8576b"
             ],
             [
              0.6666666666666666,
              "#ed7953"
             ],
             [
              0.7777777777777778,
              "#fb9f3a"
             ],
             [
              0.8888888888888888,
              "#fdca26"
             ],
             [
              1,
              "#f0f921"
             ]
            ],
            "type": "heatmap"
           }
          ],
          "heatmapgl": [
           {
            "colorbar": {
             "outlinewidth": 0,
             "ticks": ""
            },
            "colorscale": [
             [
              0,
              "#0d0887"
             ],
             [
              0.1111111111111111,
              "#46039f"
             ],
             [
              0.2222222222222222,
              "#7201a8"
             ],
             [
              0.3333333333333333,
              "#9c179e"
             ],
             [
              0.4444444444444444,
              "#bd3786"
             ],
             [
              0.5555555555555556,
              "#d8576b"
             ],
             [
              0.6666666666666666,
              "#ed7953"
             ],
             [
              0.7777777777777778,
              "#fb9f3a"
             ],
             [
              0.8888888888888888,
              "#fdca26"
             ],
             [
              1,
              "#f0f921"
             ]
            ],
            "type": "heatmapgl"
           }
          ],
          "histogram": [
           {
            "marker": {
             "pattern": {
              "fillmode": "overlay",
              "size": 10,
              "solidity": 0.2
             }
            },
            "type": "histogram"
           }
          ],
          "histogram2d": [
           {
            "colorbar": {
             "outlinewidth": 0,
             "ticks": ""
            },
            "colorscale": [
             [
              0,
              "#0d0887"
             ],
             [
              0.1111111111111111,
              "#46039f"
             ],
             [
              0.2222222222222222,
              "#7201a8"
             ],
             [
              0.3333333333333333,
              "#9c179e"
             ],
             [
              0.4444444444444444,
              "#bd3786"
             ],
             [
              0.5555555555555556,
              "#d8576b"
             ],
             [
              0.6666666666666666,
              "#ed7953"
             ],
             [
              0.7777777777777778,
              "#fb9f3a"
             ],
             [
              0.8888888888888888,
              "#fdca26"
             ],
             [
              1,
              "#f0f921"
             ]
            ],
            "type": "histogram2d"
           }
          ],
          "histogram2dcontour": [
           {
            "colorbar": {
             "outlinewidth": 0,
             "ticks": ""
            },
            "colorscale": [
             [
              0,
              "#0d0887"
             ],
             [
              0.1111111111111111,
              "#46039f"
             ],
             [
              0.2222222222222222,
              "#7201a8"
             ],
             [
              0.3333333333333333,
              "#9c179e"
             ],
             [
              0.4444444444444444,
              "#bd3786"
             ],
             [
              0.5555555555555556,
              "#d8576b"
             ],
             [
              0.6666666666666666,
              "#ed7953"
             ],
             [
              0.7777777777777778,
              "#fb9f3a"
             ],
             [
              0.8888888888888888,
              "#fdca26"
             ],
             [
              1,
              "#f0f921"
             ]
            ],
            "type": "histogram2dcontour"
           }
          ],
          "mesh3d": [
           {
            "colorbar": {
             "outlinewidth": 0,
             "ticks": ""
            },
            "type": "mesh3d"
           }
          ],
          "parcoords": [
           {
            "line": {
             "colorbar": {
              "outlinewidth": 0,
              "ticks": ""
             }
            },
            "type": "parcoords"
           }
          ],
          "pie": [
           {
            "automargin": true,
            "type": "pie"
           }
          ],
          "scatter": [
           {
            "fillpattern": {
             "fillmode": "overlay",
             "size": 10,
             "solidity": 0.2
            },
            "type": "scatter"
           }
          ],
          "scatter3d": [
           {
            "line": {
             "colorbar": {
              "outlinewidth": 0,
              "ticks": ""
             }
            },
            "marker": {
             "colorbar": {
              "outlinewidth": 0,
              "ticks": ""
             }
            },
            "type": "scatter3d"
           }
          ],
          "scattercarpet": [
           {
            "marker": {
             "colorbar": {
              "outlinewidth": 0,
              "ticks": ""
             }
            },
            "type": "scattercarpet"
           }
          ],
          "scattergeo": [
           {
            "marker": {
             "colorbar": {
              "outlinewidth": 0,
              "ticks": ""
             }
            },
            "type": "scattergeo"
           }
          ],
          "scattergl": [
           {
            "marker": {
             "colorbar": {
              "outlinewidth": 0,
              "ticks": ""
             }
            },
            "type": "scattergl"
           }
          ],
          "scattermapbox": [
           {
            "marker": {
             "colorbar": {
              "outlinewidth": 0,
              "ticks": ""
             }
            },
            "type": "scattermapbox"
           }
          ],
          "scatterpolar": [
           {
            "marker": {
             "colorbar": {
              "outlinewidth": 0,
              "ticks": ""
             }
            },
            "type": "scatterpolar"
           }
          ],
          "scatterpolargl": [
           {
            "marker": {
             "colorbar": {
              "outlinewidth": 0,
              "ticks": ""
             }
            },
            "type": "scatterpolargl"
           }
          ],
          "scatterternary": [
           {
            "marker": {
             "colorbar": {
              "outlinewidth": 0,
              "ticks": ""
             }
            },
            "type": "scatterternary"
           }
          ],
          "surface": [
           {
            "colorbar": {
             "outlinewidth": 0,
             "ticks": ""
            },
            "colorscale": [
             [
              0,
              "#0d0887"
             ],
             [
              0.1111111111111111,
              "#46039f"
             ],
             [
              0.2222222222222222,
              "#7201a8"
             ],
             [
              0.3333333333333333,
              "#9c179e"
             ],
             [
              0.4444444444444444,
              "#bd3786"
             ],
             [
              0.5555555555555556,
              "#d8576b"
             ],
             [
              0.6666666666666666,
              "#ed7953"
             ],
             [
              0.7777777777777778,
              "#fb9f3a"
             ],
             [
              0.8888888888888888,
              "#fdca26"
             ],
             [
              1,
              "#f0f921"
             ]
            ],
            "type": "surface"
           }
          ],
          "table": [
           {
            "cells": {
             "fill": {
              "color": "#EBF0F8"
             },
             "line": {
              "color": "white"
             }
            },
            "header": {
             "fill": {
              "color": "#C8D4E3"
             },
             "line": {
              "color": "white"
             }
            },
            "type": "table"
           }
          ]
         },
         "layout": {
          "annotationdefaults": {
           "arrowcolor": "#2a3f5f",
           "arrowhead": 0,
           "arrowwidth": 1
          },
          "autotypenumbers": "strict",
          "coloraxis": {
           "colorbar": {
            "outlinewidth": 0,
            "ticks": ""
           }
          },
          "colorscale": {
           "diverging": [
            [
             0,
             "#8e0152"
            ],
            [
             0.1,
             "#c51b7d"
            ],
            [
             0.2,
             "#de77ae"
            ],
            [
             0.3,
             "#f1b6da"
            ],
            [
             0.4,
             "#fde0ef"
            ],
            [
             0.5,
             "#f7f7f7"
            ],
            [
             0.6,
             "#e6f5d0"
            ],
            [
             0.7,
             "#b8e186"
            ],
            [
             0.8,
             "#7fbc41"
            ],
            [
             0.9,
             "#4d9221"
            ],
            [
             1,
             "#276419"
            ]
           ],
           "sequential": [
            [
             0,
             "#0d0887"
            ],
            [
             0.1111111111111111,
             "#46039f"
            ],
            [
             0.2222222222222222,
             "#7201a8"
            ],
            [
             0.3333333333333333,
             "#9c179e"
            ],
            [
             0.4444444444444444,
             "#bd3786"
            ],
            [
             0.5555555555555556,
             "#d8576b"
            ],
            [
             0.6666666666666666,
             "#ed7953"
            ],
            [
             0.7777777777777778,
             "#fb9f3a"
            ],
            [
             0.8888888888888888,
             "#fdca26"
            ],
            [
             1,
             "#f0f921"
            ]
           ],
           "sequentialminus": [
            [
             0,
             "#0d0887"
            ],
            [
             0.1111111111111111,
             "#46039f"
            ],
            [
             0.2222222222222222,
             "#7201a8"
            ],
            [
             0.3333333333333333,
             "#9c179e"
            ],
            [
             0.4444444444444444,
             "#bd3786"
            ],
            [
             0.5555555555555556,
             "#d8576b"
            ],
            [
             0.6666666666666666,
             "#ed7953"
            ],
            [
             0.7777777777777778,
             "#fb9f3a"
            ],
            [
             0.8888888888888888,
             "#fdca26"
            ],
            [
             1,
             "#f0f921"
            ]
           ]
          },
          "colorway": [
           "#636efa",
           "#EF553B",
           "#00cc96",
           "#ab63fa",
           "#FFA15A",
           "#19d3f3",
           "#FF6692",
           "#B6E880",
           "#FF97FF",
           "#FECB52"
          ],
          "font": {
           "color": "#2a3f5f"
          },
          "geo": {
           "bgcolor": "white",
           "lakecolor": "white",
           "landcolor": "#E5ECF6",
           "showlakes": true,
           "showland": true,
           "subunitcolor": "white"
          },
          "hoverlabel": {
           "align": "left"
          },
          "hovermode": "closest",
          "mapbox": {
           "style": "light"
          },
          "paper_bgcolor": "white",
          "plot_bgcolor": "#E5ECF6",
          "polar": {
           "angularaxis": {
            "gridcolor": "white",
            "linecolor": "white",
            "ticks": ""
           },
           "bgcolor": "#E5ECF6",
           "radialaxis": {
            "gridcolor": "white",
            "linecolor": "white",
            "ticks": ""
           }
          },
          "scene": {
           "xaxis": {
            "backgroundcolor": "#E5ECF6",
            "gridcolor": "white",
            "gridwidth": 2,
            "linecolor": "white",
            "showbackground": true,
            "ticks": "",
            "zerolinecolor": "white"
           },
           "yaxis": {
            "backgroundcolor": "#E5ECF6",
            "gridcolor": "white",
            "gridwidth": 2,
            "linecolor": "white",
            "showbackground": true,
            "ticks": "",
            "zerolinecolor": "white"
           },
           "zaxis": {
            "backgroundcolor": "#E5ECF6",
            "gridcolor": "white",
            "gridwidth": 2,
            "linecolor": "white",
            "showbackground": true,
            "ticks": "",
            "zerolinecolor": "white"
           }
          },
          "shapedefaults": {
           "line": {
            "color": "#2a3f5f"
           }
          },
          "ternary": {
           "aaxis": {
            "gridcolor": "white",
            "linecolor": "white",
            "ticks": ""
           },
           "baxis": {
            "gridcolor": "white",
            "linecolor": "white",
            "ticks": ""
           },
           "bgcolor": "#E5ECF6",
           "caxis": {
            "gridcolor": "white",
            "linecolor": "white",
            "ticks": ""
           }
          },
          "title": {
           "x": 0.05
          },
          "xaxis": {
           "automargin": true,
           "gridcolor": "white",
           "linecolor": "white",
           "ticks": "",
           "title": {
            "standoff": 15
           },
           "zerolinecolor": "white",
           "zerolinewidth": 2
          },
          "yaxis": {
           "automargin": true,
           "gridcolor": "white",
           "linecolor": "white",
           "ticks": "",
           "title": {
            "standoff": 15
           },
           "zerolinecolor": "white",
           "zerolinewidth": 2
          }
         }
        },
        "xaxis": {
         "anchor": "y",
         "domain": [
          0,
          1
         ],
         "title": {
          "text": "OUTAGE.START"
         }
        },
        "yaxis": {
         "anchor": "x",
         "domain": [
          0,
          1
         ],
         "title": {
          "text": "value"
         }
        }
       }
      }
     },
     "metadata": {},
     "output_type": "display_data"
    }
   ],
   "source": [
    "#df_dropped.groupby('MONTH', dropna=True).agg()\n",
    "df_dropped.groupby(['OUTAGE.START'])['ANOMALY.LEVEL'].mean().plot(kind='scatter')"
   ]
  },
  {
   "cell_type": "code",
   "execution_count": 22,
   "metadata": {},
   "outputs": [
    {
     "data": {
      "text/html": [
       "<div>\n",
       "<style scoped>\n",
       "    .dataframe tbody tr th:only-of-type {\n",
       "        vertical-align: middle;\n",
       "    }\n",
       "\n",
       "    .dataframe tbody tr th {\n",
       "        vertical-align: top;\n",
       "    }\n",
       "\n",
       "    .dataframe thead th {\n",
       "        text-align: right;\n",
       "    }\n",
       "</style>\n",
       "<table border=\"1\" class=\"dataframe\">\n",
       "  <thead>\n",
       "    <tr style=\"text-align: right;\">\n",
       "      <th></th>\n",
       "      <th>YEAR</th>\n",
       "      <th>MONTH</th>\n",
       "      <th>U.S._STATE</th>\n",
       "      <th>POSTAL.CODE</th>\n",
       "      <th>NERC.REGION</th>\n",
       "      <th>CLIMATE.REGION</th>\n",
       "      <th>CLIMATE.CATEGORY</th>\n",
       "      <th>OUTAGE.START.DATE</th>\n",
       "      <th>OUTAGE.START.TIME</th>\n",
       "      <th>OUTAGE.RESTORATION.DATE</th>\n",
       "      <th>...</th>\n",
       "      <th>POPDEN_URBAN</th>\n",
       "      <th>POPDEN_UC</th>\n",
       "      <th>POPDEN_RURAL</th>\n",
       "      <th>AREAPCT_URBAN</th>\n",
       "      <th>AREAPCT_UC</th>\n",
       "      <th>PCT_LAND</th>\n",
       "      <th>PCT_WATER_TOT</th>\n",
       "      <th>PCT_WATER_INLAND</th>\n",
       "      <th>OUTAGE.START</th>\n",
       "      <th>OUTAGE.RESTORATION</th>\n",
       "    </tr>\n",
       "    <tr>\n",
       "      <th>ANOMALY.LEVEL</th>\n",
       "      <th></th>\n",
       "      <th></th>\n",
       "      <th></th>\n",
       "      <th></th>\n",
       "      <th></th>\n",
       "      <th></th>\n",
       "      <th></th>\n",
       "      <th></th>\n",
       "      <th></th>\n",
       "      <th></th>\n",
       "      <th></th>\n",
       "      <th></th>\n",
       "      <th></th>\n",
       "      <th></th>\n",
       "      <th></th>\n",
       "      <th></th>\n",
       "      <th></th>\n",
       "      <th></th>\n",
       "      <th></th>\n",
       "      <th></th>\n",
       "      <th></th>\n",
       "    </tr>\n",
       "  </thead>\n",
       "  <tbody>\n",
       "    <tr>\n",
       "      <th>-1.6</th>\n",
       "      <td>2</td>\n",
       "      <td>2</td>\n",
       "      <td>2</td>\n",
       "      <td>2</td>\n",
       "      <td>2</td>\n",
       "      <td>2</td>\n",
       "      <td>2</td>\n",
       "      <td>2</td>\n",
       "      <td>2</td>\n",
       "      <td>2</td>\n",
       "      <td>...</td>\n",
       "      <td>2</td>\n",
       "      <td>2</td>\n",
       "      <td>2</td>\n",
       "      <td>2</td>\n",
       "      <td>2</td>\n",
       "      <td>2</td>\n",
       "      <td>2</td>\n",
       "      <td>2</td>\n",
       "      <td>2</td>\n",
       "      <td>2</td>\n",
       "    </tr>\n",
       "    <tr>\n",
       "      <th>-1.5</th>\n",
       "      <td>8</td>\n",
       "      <td>8</td>\n",
       "      <td>8</td>\n",
       "      <td>8</td>\n",
       "      <td>8</td>\n",
       "      <td>8</td>\n",
       "      <td>8</td>\n",
       "      <td>8</td>\n",
       "      <td>8</td>\n",
       "      <td>8</td>\n",
       "      <td>...</td>\n",
       "      <td>8</td>\n",
       "      <td>8</td>\n",
       "      <td>8</td>\n",
       "      <td>8</td>\n",
       "      <td>8</td>\n",
       "      <td>8</td>\n",
       "      <td>8</td>\n",
       "      <td>8</td>\n",
       "      <td>8</td>\n",
       "      <td>8</td>\n",
       "    </tr>\n",
       "    <tr>\n",
       "      <th>-1.4</th>\n",
       "      <td>27</td>\n",
       "      <td>27</td>\n",
       "      <td>27</td>\n",
       "      <td>27</td>\n",
       "      <td>27</td>\n",
       "      <td>27</td>\n",
       "      <td>27</td>\n",
       "      <td>27</td>\n",
       "      <td>27</td>\n",
       "      <td>27</td>\n",
       "      <td>...</td>\n",
       "      <td>27</td>\n",
       "      <td>27</td>\n",
       "      <td>27</td>\n",
       "      <td>27</td>\n",
       "      <td>27</td>\n",
       "      <td>27</td>\n",
       "      <td>27</td>\n",
       "      <td>27</td>\n",
       "      <td>27</td>\n",
       "      <td>27</td>\n",
       "    </tr>\n",
       "    <tr>\n",
       "      <th>-1.3</th>\n",
       "      <td>35</td>\n",
       "      <td>35</td>\n",
       "      <td>35</td>\n",
       "      <td>35</td>\n",
       "      <td>35</td>\n",
       "      <td>35</td>\n",
       "      <td>35</td>\n",
       "      <td>35</td>\n",
       "      <td>35</td>\n",
       "      <td>35</td>\n",
       "      <td>...</td>\n",
       "      <td>35</td>\n",
       "      <td>34</td>\n",
       "      <td>34</td>\n",
       "      <td>35</td>\n",
       "      <td>35</td>\n",
       "      <td>35</td>\n",
       "      <td>35</td>\n",
       "      <td>35</td>\n",
       "      <td>35</td>\n",
       "      <td>35</td>\n",
       "    </tr>\n",
       "    <tr>\n",
       "      <th>-1.2</th>\n",
       "      <td>13</td>\n",
       "      <td>13</td>\n",
       "      <td>13</td>\n",
       "      <td>13</td>\n",
       "      <td>13</td>\n",
       "      <td>13</td>\n",
       "      <td>13</td>\n",
       "      <td>13</td>\n",
       "      <td>13</td>\n",
       "      <td>13</td>\n",
       "      <td>...</td>\n",
       "      <td>13</td>\n",
       "      <td>11</td>\n",
       "      <td>11</td>\n",
       "      <td>13</td>\n",
       "      <td>13</td>\n",
       "      <td>13</td>\n",
       "      <td>13</td>\n",
       "      <td>13</td>\n",
       "      <td>13</td>\n",
       "      <td>13</td>\n",
       "    </tr>\n",
       "    <tr>\n",
       "      <th>-1.1</th>\n",
       "      <td>9</td>\n",
       "      <td>9</td>\n",
       "      <td>9</td>\n",
       "      <td>9</td>\n",
       "      <td>9</td>\n",
       "      <td>9</td>\n",
       "      <td>9</td>\n",
       "      <td>9</td>\n",
       "      <td>9</td>\n",
       "      <td>9</td>\n",
       "      <td>...</td>\n",
       "      <td>9</td>\n",
       "      <td>9</td>\n",
       "      <td>9</td>\n",
       "      <td>9</td>\n",
       "      <td>9</td>\n",
       "      <td>9</td>\n",
       "      <td>9</td>\n",
       "      <td>9</td>\n",
       "      <td>9</td>\n",
       "      <td>9</td>\n",
       "    </tr>\n",
       "    <tr>\n",
       "      <th>-1.0</th>\n",
       "      <td>27</td>\n",
       "      <td>27</td>\n",
       "      <td>27</td>\n",
       "      <td>27</td>\n",
       "      <td>27</td>\n",
       "      <td>27</td>\n",
       "      <td>27</td>\n",
       "      <td>27</td>\n",
       "      <td>27</td>\n",
       "      <td>27</td>\n",
       "      <td>...</td>\n",
       "      <td>27</td>\n",
       "      <td>27</td>\n",
       "      <td>27</td>\n",
       "      <td>27</td>\n",
       "      <td>27</td>\n",
       "      <td>27</td>\n",
       "      <td>27</td>\n",
       "      <td>27</td>\n",
       "      <td>27</td>\n",
       "      <td>27</td>\n",
       "    </tr>\n",
       "    <tr>\n",
       "      <th>-0.9</th>\n",
       "      <td>54</td>\n",
       "      <td>54</td>\n",
       "      <td>54</td>\n",
       "      <td>54</td>\n",
       "      <td>54</td>\n",
       "      <td>54</td>\n",
       "      <td>54</td>\n",
       "      <td>54</td>\n",
       "      <td>54</td>\n",
       "      <td>54</td>\n",
       "      <td>...</td>\n",
       "      <td>54</td>\n",
       "      <td>54</td>\n",
       "      <td>54</td>\n",
       "      <td>54</td>\n",
       "      <td>54</td>\n",
       "      <td>54</td>\n",
       "      <td>54</td>\n",
       "      <td>54</td>\n",
       "      <td>54</td>\n",
       "      <td>54</td>\n",
       "    </tr>\n",
       "    <tr>\n",
       "      <th>-0.8</th>\n",
       "      <td>20</td>\n",
       "      <td>20</td>\n",
       "      <td>20</td>\n",
       "      <td>20</td>\n",
       "      <td>20</td>\n",
       "      <td>20</td>\n",
       "      <td>20</td>\n",
       "      <td>20</td>\n",
       "      <td>20</td>\n",
       "      <td>20</td>\n",
       "      <td>...</td>\n",
       "      <td>20</td>\n",
       "      <td>20</td>\n",
       "      <td>20</td>\n",
       "      <td>20</td>\n",
       "      <td>20</td>\n",
       "      <td>20</td>\n",
       "      <td>20</td>\n",
       "      <td>20</td>\n",
       "      <td>20</td>\n",
       "      <td>20</td>\n",
       "    </tr>\n",
       "    <tr>\n",
       "      <th>-0.7</th>\n",
       "      <td>80</td>\n",
       "      <td>80</td>\n",
       "      <td>80</td>\n",
       "      <td>80</td>\n",
       "      <td>80</td>\n",
       "      <td>79</td>\n",
       "      <td>80</td>\n",
       "      <td>80</td>\n",
       "      <td>80</td>\n",
       "      <td>80</td>\n",
       "      <td>...</td>\n",
       "      <td>80</td>\n",
       "      <td>80</td>\n",
       "      <td>80</td>\n",
       "      <td>80</td>\n",
       "      <td>80</td>\n",
       "      <td>80</td>\n",
       "      <td>80</td>\n",
       "      <td>80</td>\n",
       "      <td>80</td>\n",
       "      <td>80</td>\n",
       "    </tr>\n",
       "    <tr>\n",
       "      <th>-0.6</th>\n",
       "      <td>72</td>\n",
       "      <td>72</td>\n",
       "      <td>72</td>\n",
       "      <td>72</td>\n",
       "      <td>72</td>\n",
       "      <td>72</td>\n",
       "      <td>72</td>\n",
       "      <td>72</td>\n",
       "      <td>72</td>\n",
       "      <td>72</td>\n",
       "      <td>...</td>\n",
       "      <td>72</td>\n",
       "      <td>71</td>\n",
       "      <td>71</td>\n",
       "      <td>72</td>\n",
       "      <td>72</td>\n",
       "      <td>72</td>\n",
       "      <td>72</td>\n",
       "      <td>72</td>\n",
       "      <td>72</td>\n",
       "      <td>72</td>\n",
       "    </tr>\n",
       "    <tr>\n",
       "      <th>-0.5</th>\n",
       "      <td>116</td>\n",
       "      <td>116</td>\n",
       "      <td>116</td>\n",
       "      <td>116</td>\n",
       "      <td>116</td>\n",
       "      <td>116</td>\n",
       "      <td>116</td>\n",
       "      <td>116</td>\n",
       "      <td>116</td>\n",
       "      <td>116</td>\n",
       "      <td>...</td>\n",
       "      <td>116</td>\n",
       "      <td>115</td>\n",
       "      <td>115</td>\n",
       "      <td>116</td>\n",
       "      <td>116</td>\n",
       "      <td>116</td>\n",
       "      <td>116</td>\n",
       "      <td>116</td>\n",
       "      <td>116</td>\n",
       "      <td>116</td>\n",
       "    </tr>\n",
       "    <tr>\n",
       "      <th>-0.4</th>\n",
       "      <td>151</td>\n",
       "      <td>151</td>\n",
       "      <td>151</td>\n",
       "      <td>151</td>\n",
       "      <td>151</td>\n",
       "      <td>150</td>\n",
       "      <td>151</td>\n",
       "      <td>151</td>\n",
       "      <td>151</td>\n",
       "      <td>151</td>\n",
       "      <td>...</td>\n",
       "      <td>151</td>\n",
       "      <td>150</td>\n",
       "      <td>150</td>\n",
       "      <td>151</td>\n",
       "      <td>151</td>\n",
       "      <td>151</td>\n",
       "      <td>151</td>\n",
       "      <td>151</td>\n",
       "      <td>151</td>\n",
       "      <td>151</td>\n",
       "    </tr>\n",
       "    <tr>\n",
       "      <th>-0.3</th>\n",
       "      <td>189</td>\n",
       "      <td>189</td>\n",
       "      <td>189</td>\n",
       "      <td>189</td>\n",
       "      <td>189</td>\n",
       "      <td>189</td>\n",
       "      <td>189</td>\n",
       "      <td>189</td>\n",
       "      <td>189</td>\n",
       "      <td>189</td>\n",
       "      <td>...</td>\n",
       "      <td>189</td>\n",
       "      <td>189</td>\n",
       "      <td>189</td>\n",
       "      <td>189</td>\n",
       "      <td>189</td>\n",
       "      <td>189</td>\n",
       "      <td>189</td>\n",
       "      <td>189</td>\n",
       "      <td>189</td>\n",
       "      <td>189</td>\n",
       "    </tr>\n",
       "    <tr>\n",
       "      <th>-0.2</th>\n",
       "      <td>88</td>\n",
       "      <td>88</td>\n",
       "      <td>88</td>\n",
       "      <td>88</td>\n",
       "      <td>88</td>\n",
       "      <td>88</td>\n",
       "      <td>88</td>\n",
       "      <td>88</td>\n",
       "      <td>88</td>\n",
       "      <td>88</td>\n",
       "      <td>...</td>\n",
       "      <td>88</td>\n",
       "      <td>87</td>\n",
       "      <td>87</td>\n",
       "      <td>88</td>\n",
       "      <td>88</td>\n",
       "      <td>88</td>\n",
       "      <td>88</td>\n",
       "      <td>88</td>\n",
       "      <td>88</td>\n",
       "      <td>88</td>\n",
       "    </tr>\n",
       "    <tr>\n",
       "      <th>-0.1</th>\n",
       "      <td>58</td>\n",
       "      <td>58</td>\n",
       "      <td>58</td>\n",
       "      <td>58</td>\n",
       "      <td>58</td>\n",
       "      <td>58</td>\n",
       "      <td>58</td>\n",
       "      <td>58</td>\n",
       "      <td>58</td>\n",
       "      <td>58</td>\n",
       "      <td>...</td>\n",
       "      <td>58</td>\n",
       "      <td>57</td>\n",
       "      <td>57</td>\n",
       "      <td>58</td>\n",
       "      <td>58</td>\n",
       "      <td>58</td>\n",
       "      <td>58</td>\n",
       "      <td>58</td>\n",
       "      <td>58</td>\n",
       "      <td>58</td>\n",
       "    </tr>\n",
       "    <tr>\n",
       "      <th>0.0</th>\n",
       "      <td>46</td>\n",
       "      <td>46</td>\n",
       "      <td>46</td>\n",
       "      <td>46</td>\n",
       "      <td>46</td>\n",
       "      <td>45</td>\n",
       "      <td>46</td>\n",
       "      <td>46</td>\n",
       "      <td>46</td>\n",
       "      <td>46</td>\n",
       "      <td>...</td>\n",
       "      <td>46</td>\n",
       "      <td>46</td>\n",
       "      <td>46</td>\n",
       "      <td>46</td>\n",
       "      <td>46</td>\n",
       "      <td>46</td>\n",
       "      <td>46</td>\n",
       "      <td>46</td>\n",
       "      <td>46</td>\n",
       "      <td>46</td>\n",
       "    </tr>\n",
       "    <tr>\n",
       "      <th>0.1</th>\n",
       "      <td>61</td>\n",
       "      <td>61</td>\n",
       "      <td>61</td>\n",
       "      <td>61</td>\n",
       "      <td>61</td>\n",
       "      <td>61</td>\n",
       "      <td>61</td>\n",
       "      <td>61</td>\n",
       "      <td>61</td>\n",
       "      <td>61</td>\n",
       "      <td>...</td>\n",
       "      <td>61</td>\n",
       "      <td>61</td>\n",
       "      <td>61</td>\n",
       "      <td>61</td>\n",
       "      <td>61</td>\n",
       "      <td>61</td>\n",
       "      <td>61</td>\n",
       "      <td>61</td>\n",
       "      <td>61</td>\n",
       "      <td>61</td>\n",
       "    </tr>\n",
       "    <tr>\n",
       "      <th>0.2</th>\n",
       "      <td>35</td>\n",
       "      <td>35</td>\n",
       "      <td>35</td>\n",
       "      <td>35</td>\n",
       "      <td>35</td>\n",
       "      <td>35</td>\n",
       "      <td>35</td>\n",
       "      <td>35</td>\n",
       "      <td>35</td>\n",
       "      <td>35</td>\n",
       "      <td>...</td>\n",
       "      <td>35</td>\n",
       "      <td>34</td>\n",
       "      <td>34</td>\n",
       "      <td>35</td>\n",
       "      <td>35</td>\n",
       "      <td>35</td>\n",
       "      <td>35</td>\n",
       "      <td>35</td>\n",
       "      <td>35</td>\n",
       "      <td>35</td>\n",
       "    </tr>\n",
       "    <tr>\n",
       "      <th>0.3</th>\n",
       "      <td>86</td>\n",
       "      <td>86</td>\n",
       "      <td>86</td>\n",
       "      <td>86</td>\n",
       "      <td>86</td>\n",
       "      <td>86</td>\n",
       "      <td>86</td>\n",
       "      <td>86</td>\n",
       "      <td>86</td>\n",
       "      <td>86</td>\n",
       "      <td>...</td>\n",
       "      <td>86</td>\n",
       "      <td>86</td>\n",
       "      <td>86</td>\n",
       "      <td>86</td>\n",
       "      <td>86</td>\n",
       "      <td>86</td>\n",
       "      <td>86</td>\n",
       "      <td>86</td>\n",
       "      <td>86</td>\n",
       "      <td>86</td>\n",
       "    </tr>\n",
       "    <tr>\n",
       "      <th>0.4</th>\n",
       "      <td>16</td>\n",
       "      <td>16</td>\n",
       "      <td>16</td>\n",
       "      <td>16</td>\n",
       "      <td>16</td>\n",
       "      <td>16</td>\n",
       "      <td>16</td>\n",
       "      <td>16</td>\n",
       "      <td>16</td>\n",
       "      <td>16</td>\n",
       "      <td>...</td>\n",
       "      <td>16</td>\n",
       "      <td>16</td>\n",
       "      <td>16</td>\n",
       "      <td>16</td>\n",
       "      <td>16</td>\n",
       "      <td>16</td>\n",
       "      <td>16</td>\n",
       "      <td>16</td>\n",
       "      <td>16</td>\n",
       "      <td>16</td>\n",
       "    </tr>\n",
       "    <tr>\n",
       "      <th>0.5</th>\n",
       "      <td>48</td>\n",
       "      <td>48</td>\n",
       "      <td>48</td>\n",
       "      <td>48</td>\n",
       "      <td>48</td>\n",
       "      <td>48</td>\n",
       "      <td>48</td>\n",
       "      <td>48</td>\n",
       "      <td>48</td>\n",
       "      <td>48</td>\n",
       "      <td>...</td>\n",
       "      <td>48</td>\n",
       "      <td>48</td>\n",
       "      <td>48</td>\n",
       "      <td>48</td>\n",
       "      <td>48</td>\n",
       "      <td>48</td>\n",
       "      <td>48</td>\n",
       "      <td>48</td>\n",
       "      <td>48</td>\n",
       "      <td>48</td>\n",
       "    </tr>\n",
       "    <tr>\n",
       "      <th>0.6</th>\n",
       "      <td>30</td>\n",
       "      <td>30</td>\n",
       "      <td>30</td>\n",
       "      <td>30</td>\n",
       "      <td>30</td>\n",
       "      <td>30</td>\n",
       "      <td>30</td>\n",
       "      <td>30</td>\n",
       "      <td>30</td>\n",
       "      <td>30</td>\n",
       "      <td>...</td>\n",
       "      <td>30</td>\n",
       "      <td>30</td>\n",
       "      <td>30</td>\n",
       "      <td>30</td>\n",
       "      <td>30</td>\n",
       "      <td>30</td>\n",
       "      <td>30</td>\n",
       "      <td>30</td>\n",
       "      <td>30</td>\n",
       "      <td>30</td>\n",
       "    </tr>\n",
       "    <tr>\n",
       "      <th>0.7</th>\n",
       "      <td>44</td>\n",
       "      <td>44</td>\n",
       "      <td>44</td>\n",
       "      <td>44</td>\n",
       "      <td>44</td>\n",
       "      <td>42</td>\n",
       "      <td>44</td>\n",
       "      <td>44</td>\n",
       "      <td>44</td>\n",
       "      <td>44</td>\n",
       "      <td>...</td>\n",
       "      <td>44</td>\n",
       "      <td>44</td>\n",
       "      <td>44</td>\n",
       "      <td>44</td>\n",
       "      <td>44</td>\n",
       "      <td>44</td>\n",
       "      <td>44</td>\n",
       "      <td>44</td>\n",
       "      <td>44</td>\n",
       "      <td>44</td>\n",
       "    </tr>\n",
       "    <tr>\n",
       "      <th>0.8</th>\n",
       "      <td>10</td>\n",
       "      <td>10</td>\n",
       "      <td>10</td>\n",
       "      <td>10</td>\n",
       "      <td>10</td>\n",
       "      <td>10</td>\n",
       "      <td>10</td>\n",
       "      <td>10</td>\n",
       "      <td>10</td>\n",
       "      <td>10</td>\n",
       "      <td>...</td>\n",
       "      <td>10</td>\n",
       "      <td>10</td>\n",
       "      <td>10</td>\n",
       "      <td>10</td>\n",
       "      <td>10</td>\n",
       "      <td>10</td>\n",
       "      <td>10</td>\n",
       "      <td>10</td>\n",
       "      <td>10</td>\n",
       "      <td>10</td>\n",
       "    </tr>\n",
       "    <tr>\n",
       "      <th>0.9</th>\n",
       "      <td>29</td>\n",
       "      <td>29</td>\n",
       "      <td>29</td>\n",
       "      <td>29</td>\n",
       "      <td>29</td>\n",
       "      <td>29</td>\n",
       "      <td>29</td>\n",
       "      <td>29</td>\n",
       "      <td>29</td>\n",
       "      <td>29</td>\n",
       "      <td>...</td>\n",
       "      <td>29</td>\n",
       "      <td>29</td>\n",
       "      <td>29</td>\n",
       "      <td>29</td>\n",
       "      <td>29</td>\n",
       "      <td>29</td>\n",
       "      <td>29</td>\n",
       "      <td>29</td>\n",
       "      <td>29</td>\n",
       "      <td>29</td>\n",
       "    </tr>\n",
       "    <tr>\n",
       "      <th>1.0</th>\n",
       "      <td>15</td>\n",
       "      <td>15</td>\n",
       "      <td>15</td>\n",
       "      <td>15</td>\n",
       "      <td>15</td>\n",
       "      <td>15</td>\n",
       "      <td>15</td>\n",
       "      <td>15</td>\n",
       "      <td>15</td>\n",
       "      <td>15</td>\n",
       "      <td>...</td>\n",
       "      <td>15</td>\n",
       "      <td>15</td>\n",
       "      <td>15</td>\n",
       "      <td>15</td>\n",
       "      <td>15</td>\n",
       "      <td>15</td>\n",
       "      <td>15</td>\n",
       "      <td>15</td>\n",
       "      <td>15</td>\n",
       "      <td>15</td>\n",
       "    </tr>\n",
       "    <tr>\n",
       "      <th>1.1</th>\n",
       "      <td>15</td>\n",
       "      <td>15</td>\n",
       "      <td>15</td>\n",
       "      <td>15</td>\n",
       "      <td>15</td>\n",
       "      <td>15</td>\n",
       "      <td>15</td>\n",
       "      <td>15</td>\n",
       "      <td>15</td>\n",
       "      <td>15</td>\n",
       "      <td>...</td>\n",
       "      <td>15</td>\n",
       "      <td>15</td>\n",
       "      <td>15</td>\n",
       "      <td>15</td>\n",
       "      <td>15</td>\n",
       "      <td>15</td>\n",
       "      <td>15</td>\n",
       "      <td>15</td>\n",
       "      <td>15</td>\n",
       "      <td>15</td>\n",
       "    </tr>\n",
       "    <tr>\n",
       "      <th>1.2</th>\n",
       "      <td>25</td>\n",
       "      <td>25</td>\n",
       "      <td>25</td>\n",
       "      <td>25</td>\n",
       "      <td>25</td>\n",
       "      <td>25</td>\n",
       "      <td>25</td>\n",
       "      <td>25</td>\n",
       "      <td>25</td>\n",
       "      <td>25</td>\n",
       "      <td>...</td>\n",
       "      <td>25</td>\n",
       "      <td>24</td>\n",
       "      <td>24</td>\n",
       "      <td>25</td>\n",
       "      <td>25</td>\n",
       "      <td>25</td>\n",
       "      <td>25</td>\n",
       "      <td>25</td>\n",
       "      <td>25</td>\n",
       "      <td>25</td>\n",
       "    </tr>\n",
       "    <tr>\n",
       "      <th>1.3</th>\n",
       "      <td>13</td>\n",
       "      <td>13</td>\n",
       "      <td>13</td>\n",
       "      <td>13</td>\n",
       "      <td>13</td>\n",
       "      <td>13</td>\n",
       "      <td>13</td>\n",
       "      <td>13</td>\n",
       "      <td>13</td>\n",
       "      <td>13</td>\n",
       "      <td>...</td>\n",
       "      <td>13</td>\n",
       "      <td>13</td>\n",
       "      <td>13</td>\n",
       "      <td>13</td>\n",
       "      <td>13</td>\n",
       "      <td>13</td>\n",
       "      <td>13</td>\n",
       "      <td>13</td>\n",
       "      <td>13</td>\n",
       "      <td>13</td>\n",
       "    </tr>\n",
       "    <tr>\n",
       "      <th>1.4</th>\n",
       "      <td>7</td>\n",
       "      <td>7</td>\n",
       "      <td>7</td>\n",
       "      <td>7</td>\n",
       "      <td>7</td>\n",
       "      <td>7</td>\n",
       "      <td>7</td>\n",
       "      <td>7</td>\n",
       "      <td>7</td>\n",
       "      <td>7</td>\n",
       "      <td>...</td>\n",
       "      <td>7</td>\n",
       "      <td>7</td>\n",
       "      <td>7</td>\n",
       "      <td>7</td>\n",
       "      <td>7</td>\n",
       "      <td>7</td>\n",
       "      <td>7</td>\n",
       "      <td>7</td>\n",
       "      <td>7</td>\n",
       "      <td>7</td>\n",
       "    </tr>\n",
       "    <tr>\n",
       "      <th>1.6</th>\n",
       "      <td>6</td>\n",
       "      <td>6</td>\n",
       "      <td>6</td>\n",
       "      <td>6</td>\n",
       "      <td>6</td>\n",
       "      <td>6</td>\n",
       "      <td>6</td>\n",
       "      <td>6</td>\n",
       "      <td>6</td>\n",
       "      <td>6</td>\n",
       "      <td>...</td>\n",
       "      <td>6</td>\n",
       "      <td>6</td>\n",
       "      <td>6</td>\n",
       "      <td>6</td>\n",
       "      <td>6</td>\n",
       "      <td>6</td>\n",
       "      <td>6</td>\n",
       "      <td>6</td>\n",
       "      <td>6</td>\n",
       "      <td>6</td>\n",
       "    </tr>\n",
       "    <tr>\n",
       "      <th>1.7</th>\n",
       "      <td>4</td>\n",
       "      <td>4</td>\n",
       "      <td>4</td>\n",
       "      <td>4</td>\n",
       "      <td>4</td>\n",
       "      <td>4</td>\n",
       "      <td>4</td>\n",
       "      <td>4</td>\n",
       "      <td>4</td>\n",
       "      <td>4</td>\n",
       "      <td>...</td>\n",
       "      <td>4</td>\n",
       "      <td>4</td>\n",
       "      <td>4</td>\n",
       "      <td>4</td>\n",
       "      <td>4</td>\n",
       "      <td>4</td>\n",
       "      <td>4</td>\n",
       "      <td>4</td>\n",
       "      <td>4</td>\n",
       "      <td>4</td>\n",
       "    </tr>\n",
       "    <tr>\n",
       "      <th>2.0</th>\n",
       "      <td>14</td>\n",
       "      <td>14</td>\n",
       "      <td>14</td>\n",
       "      <td>14</td>\n",
       "      <td>14</td>\n",
       "      <td>14</td>\n",
       "      <td>14</td>\n",
       "      <td>14</td>\n",
       "      <td>14</td>\n",
       "      <td>14</td>\n",
       "      <td>...</td>\n",
       "      <td>14</td>\n",
       "      <td>14</td>\n",
       "      <td>14</td>\n",
       "      <td>14</td>\n",
       "      <td>14</td>\n",
       "      <td>14</td>\n",
       "      <td>14</td>\n",
       "      <td>14</td>\n",
       "      <td>14</td>\n",
       "      <td>14</td>\n",
       "    </tr>\n",
       "    <tr>\n",
       "      <th>2.2</th>\n",
       "      <td>11</td>\n",
       "      <td>11</td>\n",
       "      <td>11</td>\n",
       "      <td>11</td>\n",
       "      <td>11</td>\n",
       "      <td>11</td>\n",
       "      <td>11</td>\n",
       "      <td>11</td>\n",
       "      <td>11</td>\n",
       "      <td>11</td>\n",
       "      <td>...</td>\n",
       "      <td>11</td>\n",
       "      <td>11</td>\n",
       "      <td>11</td>\n",
       "      <td>11</td>\n",
       "      <td>11</td>\n",
       "      <td>11</td>\n",
       "      <td>11</td>\n",
       "      <td>11</td>\n",
       "      <td>11</td>\n",
       "      <td>11</td>\n",
       "    </tr>\n",
       "    <tr>\n",
       "      <th>2.3</th>\n",
       "      <td>12</td>\n",
       "      <td>12</td>\n",
       "      <td>12</td>\n",
       "      <td>12</td>\n",
       "      <td>12</td>\n",
       "      <td>12</td>\n",
       "      <td>12</td>\n",
       "      <td>12</td>\n",
       "      <td>12</td>\n",
       "      <td>12</td>\n",
       "      <td>...</td>\n",
       "      <td>12</td>\n",
       "      <td>12</td>\n",
       "      <td>12</td>\n",
       "      <td>12</td>\n",
       "      <td>12</td>\n",
       "      <td>12</td>\n",
       "      <td>12</td>\n",
       "      <td>12</td>\n",
       "      <td>12</td>\n",
       "      <td>12</td>\n",
       "    </tr>\n",
       "  </tbody>\n",
       "</table>\n",
       "<p>36 rows × 56 columns</p>\n",
       "</div>"
      ],
      "text/plain": [
       "               YEAR  MONTH  U.S._STATE  POSTAL.CODE  NERC.REGION  \\\n",
       "ANOMALY.LEVEL                                                      \n",
       "-1.6              2      2           2            2            2   \n",
       "-1.5              8      8           8            8            8   \n",
       "-1.4             27     27          27           27           27   \n",
       "-1.3             35     35          35           35           35   \n",
       "-1.2             13     13          13           13           13   \n",
       "-1.1              9      9           9            9            9   \n",
       "-1.0             27     27          27           27           27   \n",
       "-0.9             54     54          54           54           54   \n",
       "-0.8             20     20          20           20           20   \n",
       "-0.7             80     80          80           80           80   \n",
       "-0.6             72     72          72           72           72   \n",
       "-0.5            116    116         116          116          116   \n",
       "-0.4            151    151         151          151          151   \n",
       "-0.3            189    189         189          189          189   \n",
       "-0.2             88     88          88           88           88   \n",
       "-0.1             58     58          58           58           58   \n",
       " 0.0             46     46          46           46           46   \n",
       " 0.1             61     61          61           61           61   \n",
       " 0.2             35     35          35           35           35   \n",
       " 0.3             86     86          86           86           86   \n",
       " 0.4             16     16          16           16           16   \n",
       " 0.5             48     48          48           48           48   \n",
       " 0.6             30     30          30           30           30   \n",
       " 0.7             44     44          44           44           44   \n",
       " 0.8             10     10          10           10           10   \n",
       " 0.9             29     29          29           29           29   \n",
       " 1.0             15     15          15           15           15   \n",
       " 1.1             15     15          15           15           15   \n",
       " 1.2             25     25          25           25           25   \n",
       " 1.3             13     13          13           13           13   \n",
       " 1.4              7      7           7            7            7   \n",
       " 1.6              6      6           6            6            6   \n",
       " 1.7              4      4           4            4            4   \n",
       " 2.0             14     14          14           14           14   \n",
       " 2.2             11     11          11           11           11   \n",
       " 2.3             12     12          12           12           12   \n",
       "\n",
       "               CLIMATE.REGION  CLIMATE.CATEGORY  OUTAGE.START.DATE  \\\n",
       "ANOMALY.LEVEL                                                        \n",
       "-1.6                        2                 2                  2   \n",
       "-1.5                        8                 8                  8   \n",
       "-1.4                       27                27                 27   \n",
       "-1.3                       35                35                 35   \n",
       "-1.2                       13                13                 13   \n",
       "-1.1                        9                 9                  9   \n",
       "-1.0                       27                27                 27   \n",
       "-0.9                       54                54                 54   \n",
       "-0.8                       20                20                 20   \n",
       "-0.7                       79                80                 80   \n",
       "-0.6                       72                72                 72   \n",
       "-0.5                      116               116                116   \n",
       "-0.4                      150               151                151   \n",
       "-0.3                      189               189                189   \n",
       "-0.2                       88                88                 88   \n",
       "-0.1                       58                58                 58   \n",
       " 0.0                       45                46                 46   \n",
       " 0.1                       61                61                 61   \n",
       " 0.2                       35                35                 35   \n",
       " 0.3                       86                86                 86   \n",
       " 0.4                       16                16                 16   \n",
       " 0.5                       48                48                 48   \n",
       " 0.6                       30                30                 30   \n",
       " 0.7                       42                44                 44   \n",
       " 0.8                       10                10                 10   \n",
       " 0.9                       29                29                 29   \n",
       " 1.0                       15                15                 15   \n",
       " 1.1                       15                15                 15   \n",
       " 1.2                       25                25                 25   \n",
       " 1.3                       13                13                 13   \n",
       " 1.4                        7                 7                  7   \n",
       " 1.6                        6                 6                  6   \n",
       " 1.7                        4                 4                  4   \n",
       " 2.0                       14                14                 14   \n",
       " 2.2                       11                11                 11   \n",
       " 2.3                       12                12                 12   \n",
       "\n",
       "               OUTAGE.START.TIME  OUTAGE.RESTORATION.DATE  ...  POPDEN_URBAN  \\\n",
       "ANOMALY.LEVEL                                              ...                 \n",
       "-1.6                           2                        2  ...             2   \n",
       "-1.5                           8                        8  ...             8   \n",
       "-1.4                          27                       27  ...            27   \n",
       "-1.3                          35                       35  ...            35   \n",
       "-1.2                          13                       13  ...            13   \n",
       "-1.1                           9                        9  ...             9   \n",
       "-1.0                          27                       27  ...            27   \n",
       "-0.9                          54                       54  ...            54   \n",
       "-0.8                          20                       20  ...            20   \n",
       "-0.7                          80                       80  ...            80   \n",
       "-0.6                          72                       72  ...            72   \n",
       "-0.5                         116                      116  ...           116   \n",
       "-0.4                         151                      151  ...           151   \n",
       "-0.3                         189                      189  ...           189   \n",
       "-0.2                          88                       88  ...            88   \n",
       "-0.1                          58                       58  ...            58   \n",
       " 0.0                          46                       46  ...            46   \n",
       " 0.1                          61                       61  ...            61   \n",
       " 0.2                          35                       35  ...            35   \n",
       " 0.3                          86                       86  ...            86   \n",
       " 0.4                          16                       16  ...            16   \n",
       " 0.5                          48                       48  ...            48   \n",
       " 0.6                          30                       30  ...            30   \n",
       " 0.7                          44                       44  ...            44   \n",
       " 0.8                          10                       10  ...            10   \n",
       " 0.9                          29                       29  ...            29   \n",
       " 1.0                          15                       15  ...            15   \n",
       " 1.1                          15                       15  ...            15   \n",
       " 1.2                          25                       25  ...            25   \n",
       " 1.3                          13                       13  ...            13   \n",
       " 1.4                           7                        7  ...             7   \n",
       " 1.6                           6                        6  ...             6   \n",
       " 1.7                           4                        4  ...             4   \n",
       " 2.0                          14                       14  ...            14   \n",
       " 2.2                          11                       11  ...            11   \n",
       " 2.3                          12                       12  ...            12   \n",
       "\n",
       "               POPDEN_UC  POPDEN_RURAL  AREAPCT_URBAN  AREAPCT_UC  PCT_LAND  \\\n",
       "ANOMALY.LEVEL                                                                 \n",
       "-1.6                   2             2              2           2         2   \n",
       "-1.5                   8             8              8           8         8   \n",
       "-1.4                  27            27             27          27        27   \n",
       "-1.3                  34            34             35          35        35   \n",
       "-1.2                  11            11             13          13        13   \n",
       "-1.1                   9             9              9           9         9   \n",
       "-1.0                  27            27             27          27        27   \n",
       "-0.9                  54            54             54          54        54   \n",
       "-0.8                  20            20             20          20        20   \n",
       "-0.7                  80            80             80          80        80   \n",
       "-0.6                  71            71             72          72        72   \n",
       "-0.5                 115           115            116         116       116   \n",
       "-0.4                 150           150            151         151       151   \n",
       "-0.3                 189           189            189         189       189   \n",
       "-0.2                  87            87             88          88        88   \n",
       "-0.1                  57            57             58          58        58   \n",
       " 0.0                  46            46             46          46        46   \n",
       " 0.1                  61            61             61          61        61   \n",
       " 0.2                  34            34             35          35        35   \n",
       " 0.3                  86            86             86          86        86   \n",
       " 0.4                  16            16             16          16        16   \n",
       " 0.5                  48            48             48          48        48   \n",
       " 0.6                  30            30             30          30        30   \n",
       " 0.7                  44            44             44          44        44   \n",
       " 0.8                  10            10             10          10        10   \n",
       " 0.9                  29            29             29          29        29   \n",
       " 1.0                  15            15             15          15        15   \n",
       " 1.1                  15            15             15          15        15   \n",
       " 1.2                  24            24             25          25        25   \n",
       " 1.3                  13            13             13          13        13   \n",
       " 1.4                   7             7              7           7         7   \n",
       " 1.6                   6             6              6           6         6   \n",
       " 1.7                   4             4              4           4         4   \n",
       " 2.0                  14            14             14          14        14   \n",
       " 2.2                  11            11             11          11        11   \n",
       " 2.3                  12            12             12          12        12   \n",
       "\n",
       "               PCT_WATER_TOT  PCT_WATER_INLAND  OUTAGE.START  \\\n",
       "ANOMALY.LEVEL                                                  \n",
       "-1.6                       2                 2             2   \n",
       "-1.5                       8                 8             8   \n",
       "-1.4                      27                27            27   \n",
       "-1.3                      35                35            35   \n",
       "-1.2                      13                13            13   \n",
       "-1.1                       9                 9             9   \n",
       "-1.0                      27                27            27   \n",
       "-0.9                      54                54            54   \n",
       "-0.8                      20                20            20   \n",
       "-0.7                      80                80            80   \n",
       "-0.6                      72                72            72   \n",
       "-0.5                     116               116           116   \n",
       "-0.4                     151               151           151   \n",
       "-0.3                     189               189           189   \n",
       "-0.2                      88                88            88   \n",
       "-0.1                      58                58            58   \n",
       " 0.0                      46                46            46   \n",
       " 0.1                      61                61            61   \n",
       " 0.2                      35                35            35   \n",
       " 0.3                      86                86            86   \n",
       " 0.4                      16                16            16   \n",
       " 0.5                      48                48            48   \n",
       " 0.6                      30                30            30   \n",
       " 0.7                      44                44            44   \n",
       " 0.8                      10                10            10   \n",
       " 0.9                      29                29            29   \n",
       " 1.0                      15                15            15   \n",
       " 1.1                      15                15            15   \n",
       " 1.2                      25                25            25   \n",
       " 1.3                      13                13            13   \n",
       " 1.4                       7                 7             7   \n",
       " 1.6                       6                 6             6   \n",
       " 1.7                       4                 4             4   \n",
       " 2.0                      14                14            14   \n",
       " 2.2                      11                11            11   \n",
       " 2.3                      12                12            12   \n",
       "\n",
       "               OUTAGE.RESTORATION  \n",
       "ANOMALY.LEVEL                      \n",
       "-1.6                            2  \n",
       "-1.5                            8  \n",
       "-1.4                           27  \n",
       "-1.3                           35  \n",
       "-1.2                           13  \n",
       "-1.1                            9  \n",
       "-1.0                           27  \n",
       "-0.9                           54  \n",
       "-0.8                           20  \n",
       "-0.7                           80  \n",
       "-0.6                           72  \n",
       "-0.5                          116  \n",
       "-0.4                          151  \n",
       "-0.3                          189  \n",
       "-0.2                           88  \n",
       "-0.1                           58  \n",
       " 0.0                           46  \n",
       " 0.1                           61  \n",
       " 0.2                           35  \n",
       " 0.3                           86  \n",
       " 0.4                           16  \n",
       " 0.5                           48  \n",
       " 0.6                           30  \n",
       " 0.7                           44  \n",
       " 0.8                           10  \n",
       " 0.9                           29  \n",
       " 1.0                           15  \n",
       " 1.1                           15  \n",
       " 1.2                           25  \n",
       " 1.3                           13  \n",
       " 1.4                            7  \n",
       " 1.6                            6  \n",
       " 1.7                            4  \n",
       " 2.0                           14  \n",
       " 2.2                           11  \n",
       " 2.3                           12  \n",
       "\n",
       "[36 rows x 56 columns]"
      ]
     },
     "execution_count": 22,
     "metadata": {},
     "output_type": "execute_result"
    }
   ],
   "source": [
    "df_dropped.groupby(['ANOMALY.LEVEL']).count()"
   ]
  },
  {
   "cell_type": "code",
   "execution_count": 23,
   "metadata": {},
   "outputs": [
    {
     "data": {
      "application/vnd.plotly.v1+json": {
       "config": {
        "plotlyServerURL": "https://plot.ly"
       },
       "data": [
        {
         "alignmentgroup": "True",
         "hovertemplate": "variable=CAUSE.CATEGORY.DETAIL_ Coal<br>CAUSE.CATEGORY=%{x}<br>value=%{y}<extra></extra>",
         "legendgroup": "CAUSE.CATEGORY.DETAIL_ Coal",
         "marker": {
          "color": "#636efa",
          "pattern": {
           "shape": ""
          }
         },
         "name": "CAUSE.CATEGORY.DETAIL_ Coal",
         "offsetgroup": "CAUSE.CATEGORY.DETAIL_ Coal",
         "orientation": "v",
         "showlegend": true,
         "textposition": "auto",
         "type": "bar",
         "x": [
          "equipment failure",
          "fuel supply emergency",
          "intentional attack",
          "islanding",
          "public appeal",
          "severe weather",
          "system operability disruption"
         ],
         "xaxis": "x",
         "y": [
          0,
          7,
          0,
          0,
          0,
          0,
          0
         ],
         "yaxis": "y"
        },
        {
         "alignmentgroup": "True",
         "hovertemplate": "variable=CAUSE.CATEGORY.DETAIL_ Hydro<br>CAUSE.CATEGORY=%{x}<br>value=%{y}<extra></extra>",
         "legendgroup": "CAUSE.CATEGORY.DETAIL_ Hydro",
         "marker": {
          "color": "#EF553B",
          "pattern": {
           "shape": ""
          }
         },
         "name": "CAUSE.CATEGORY.DETAIL_ Hydro",
         "offsetgroup": "CAUSE.CATEGORY.DETAIL_ Hydro",
         "orientation": "v",
         "showlegend": true,
         "textposition": "auto",
         "type": "bar",
         "x": [
          "equipment failure",
          "fuel supply emergency",
          "intentional attack",
          "islanding",
          "public appeal",
          "severe weather",
          "system operability disruption"
         ],
         "xaxis": "x",
         "y": [
          0,
          1,
          0,
          0,
          0,
          0,
          0
         ],
         "yaxis": "y"
        },
        {
         "alignmentgroup": "True",
         "hovertemplate": "variable=CAUSE.CATEGORY.DETAIL_ Natural Gas<br>CAUSE.CATEGORY=%{x}<br>value=%{y}<extra></extra>",
         "legendgroup": "CAUSE.CATEGORY.DETAIL_ Natural Gas",
         "marker": {
          "color": "#00cc96",
          "pattern": {
           "shape": ""
          }
         },
         "name": "CAUSE.CATEGORY.DETAIL_ Natural Gas",
         "offsetgroup": "CAUSE.CATEGORY.DETAIL_ Natural Gas",
         "orientation": "v",
         "showlegend": true,
         "textposition": "auto",
         "type": "bar",
         "x": [
          "equipment failure",
          "fuel supply emergency",
          "intentional attack",
          "islanding",
          "public appeal",
          "severe weather",
          "system operability disruption"
         ],
         "xaxis": "x",
         "y": [
          0,
          7,
          0,
          0,
          0,
          0,
          0
         ],
         "yaxis": "y"
        },
        {
         "alignmentgroup": "True",
         "hovertemplate": "variable=CAUSE.CATEGORY.DETAIL_100 MW loadshed<br>CAUSE.CATEGORY=%{x}<br>value=%{y}<extra></extra>",
         "legendgroup": "CAUSE.CATEGORY.DETAIL_100 MW loadshed",
         "marker": {
          "color": "#ab63fa",
          "pattern": {
           "shape": ""
          }
         },
         "name": "CAUSE.CATEGORY.DETAIL_100 MW loadshed",
         "offsetgroup": "CAUSE.CATEGORY.DETAIL_100 MW loadshed",
         "orientation": "v",
         "showlegend": true,
         "textposition": "auto",
         "type": "bar",
         "x": [
          "equipment failure",
          "fuel supply emergency",
          "intentional attack",
          "islanding",
          "public appeal",
          "severe weather",
          "system operability disruption"
         ],
         "xaxis": "x",
         "y": [
          0,
          0,
          0,
          0,
          0,
          0,
          1
         ],
         "yaxis": "y"
        },
        {
         "alignmentgroup": "True",
         "hovertemplate": "variable=CAUSE.CATEGORY.DETAIL_Coal<br>CAUSE.CATEGORY=%{x}<br>value=%{y}<extra></extra>",
         "legendgroup": "CAUSE.CATEGORY.DETAIL_Coal",
         "marker": {
          "color": "#FFA15A",
          "pattern": {
           "shape": ""
          }
         },
         "name": "CAUSE.CATEGORY.DETAIL_Coal",
         "offsetgroup": "CAUSE.CATEGORY.DETAIL_Coal",
         "orientation": "v",
         "showlegend": true,
         "textposition": "auto",
         "type": "bar",
         "x": [
          "equipment failure",
          "fuel supply emergency",
          "intentional attack",
          "islanding",
          "public appeal",
          "severe weather",
          "system operability disruption"
         ],
         "xaxis": "x",
         "y": [
          0,
          6,
          0,
          0,
          0,
          0,
          0
         ],
         "yaxis": "y"
        },
        {
         "alignmentgroup": "True",
         "hovertemplate": "variable=CAUSE.CATEGORY.DETAIL_HVSubstation interruption<br>CAUSE.CATEGORY=%{x}<br>value=%{y}<extra></extra>",
         "legendgroup": "CAUSE.CATEGORY.DETAIL_HVSubstation interruption",
         "marker": {
          "color": "#19d3f3",
          "pattern": {
           "shape": ""
          }
         },
         "name": "CAUSE.CATEGORY.DETAIL_HVSubstation interruption",
         "offsetgroup": "CAUSE.CATEGORY.DETAIL_HVSubstation interruption",
         "orientation": "v",
         "showlegend": true,
         "textposition": "auto",
         "type": "bar",
         "x": [
          "equipment failure",
          "fuel supply emergency",
          "intentional attack",
          "islanding",
          "public appeal",
          "severe weather",
          "system operability disruption"
         ],
         "xaxis": "x",
         "y": [
          0,
          0,
          0,
          0,
          0,
          0,
          1
         ],
         "yaxis": "y"
        },
        {
         "alignmentgroup": "True",
         "hovertemplate": "variable=CAUSE.CATEGORY.DETAIL_Hydro<br>CAUSE.CATEGORY=%{x}<br>value=%{y}<extra></extra>",
         "legendgroup": "CAUSE.CATEGORY.DETAIL_Hydro",
         "marker": {
          "color": "#FF6692",
          "pattern": {
           "shape": ""
          }
         },
         "name": "CAUSE.CATEGORY.DETAIL_Hydro",
         "offsetgroup": "CAUSE.CATEGORY.DETAIL_Hydro",
         "orientation": "v",
         "showlegend": true,
         "textposition": "auto",
         "type": "bar",
         "x": [
          "equipment failure",
          "fuel supply emergency",
          "intentional attack",
          "islanding",
          "public appeal",
          "severe weather",
          "system operability disruption"
         ],
         "xaxis": "x",
         "y": [
          0,
          3,
          0,
          0,
          0,
          0,
          0
         ],
         "yaxis": "y"
        },
        {
         "alignmentgroup": "True",
         "hovertemplate": "variable=CAUSE.CATEGORY.DETAIL_Petroleum<br>CAUSE.CATEGORY=%{x}<br>value=%{y}<extra></extra>",
         "legendgroup": "CAUSE.CATEGORY.DETAIL_Petroleum",
         "marker": {
          "color": "#B6E880",
          "pattern": {
           "shape": ""
          }
         },
         "name": "CAUSE.CATEGORY.DETAIL_Petroleum",
         "offsetgroup": "CAUSE.CATEGORY.DETAIL_Petroleum",
         "orientation": "v",
         "showlegend": true,
         "textposition": "auto",
         "type": "bar",
         "x": [
          "equipment failure",
          "fuel supply emergency",
          "intentional attack",
          "islanding",
          "public appeal",
          "severe weather",
          "system operability disruption"
         ],
         "xaxis": "x",
         "y": [
          0,
          1,
          0,
          0,
          0,
          0,
          0
         ],
         "yaxis": "y"
        },
        {
         "alignmentgroup": "True",
         "hovertemplate": "variable=CAUSE.CATEGORY.DETAIL_breaker trip<br>CAUSE.CATEGORY=%{x}<br>value=%{y}<extra></extra>",
         "legendgroup": "CAUSE.CATEGORY.DETAIL_breaker trip",
         "marker": {
          "color": "#FF97FF",
          "pattern": {
           "shape": ""
          }
         },
         "name": "CAUSE.CATEGORY.DETAIL_breaker trip",
         "offsetgroup": "CAUSE.CATEGORY.DETAIL_breaker trip",
         "orientation": "v",
         "showlegend": true,
         "textposition": "auto",
         "type": "bar",
         "x": [
          "equipment failure",
          "fuel supply emergency",
          "intentional attack",
          "islanding",
          "public appeal",
          "severe weather",
          "system operability disruption"
         ],
         "xaxis": "x",
         "y": [
          4,
          0,
          0,
          0,
          0,
          0,
          0
         ],
         "yaxis": "y"
        },
        {
         "alignmentgroup": "True",
         "hovertemplate": "variable=CAUSE.CATEGORY.DETAIL_cables<br>CAUSE.CATEGORY=%{x}<br>value=%{y}<extra></extra>",
         "legendgroup": "CAUSE.CATEGORY.DETAIL_cables",
         "marker": {
          "color": "#FECB52",
          "pattern": {
           "shape": ""
          }
         },
         "name": "CAUSE.CATEGORY.DETAIL_cables",
         "offsetgroup": "CAUSE.CATEGORY.DETAIL_cables",
         "orientation": "v",
         "showlegend": true,
         "textposition": "auto",
         "type": "bar",
         "x": [
          "equipment failure",
          "fuel supply emergency",
          "intentional attack",
          "islanding",
          "public appeal",
          "severe weather",
          "system operability disruption"
         ],
         "xaxis": "x",
         "y": [
          1,
          0,
          0,
          0,
          0,
          0,
          0
         ],
         "yaxis": "y"
        },
        {
         "alignmentgroup": "True",
         "hovertemplate": "variable=CAUSE.CATEGORY.DETAIL_computer hardware<br>CAUSE.CATEGORY=%{x}<br>value=%{y}<extra></extra>",
         "legendgroup": "CAUSE.CATEGORY.DETAIL_computer hardware",
         "marker": {
          "color": "#636efa",
          "pattern": {
           "shape": ""
          }
         },
         "name": "CAUSE.CATEGORY.DETAIL_computer hardware",
         "offsetgroup": "CAUSE.CATEGORY.DETAIL_computer hardware",
         "orientation": "v",
         "showlegend": true,
         "textposition": "auto",
         "type": "bar",
         "x": [
          "equipment failure",
          "fuel supply emergency",
          "intentional attack",
          "islanding",
          "public appeal",
          "severe weather",
          "system operability disruption"
         ],
         "xaxis": "x",
         "y": [
          1,
          0,
          0,
          0,
          0,
          0,
          0
         ],
         "yaxis": "y"
        },
        {
         "alignmentgroup": "True",
         "hovertemplate": "variable=CAUSE.CATEGORY.DETAIL_distribution interruption<br>CAUSE.CATEGORY=%{x}<br>value=%{y}<extra></extra>",
         "legendgroup": "CAUSE.CATEGORY.DETAIL_distribution interruption",
         "marker": {
          "color": "#EF553B",
          "pattern": {
           "shape": ""
          }
         },
         "name": "CAUSE.CATEGORY.DETAIL_distribution interruption",
         "offsetgroup": "CAUSE.CATEGORY.DETAIL_distribution interruption",
         "orientation": "v",
         "showlegend": true,
         "textposition": "auto",
         "type": "bar",
         "x": [
          "equipment failure",
          "fuel supply emergency",
          "intentional attack",
          "islanding",
          "public appeal",
          "severe weather",
          "system operability disruption"
         ],
         "xaxis": "x",
         "y": [
          0,
          0,
          0,
          0,
          0,
          0,
          2
         ],
         "yaxis": "y"
        },
        {
         "alignmentgroup": "True",
         "hovertemplate": "variable=CAUSE.CATEGORY.DETAIL_earthquake<br>CAUSE.CATEGORY=%{x}<br>value=%{y}<extra></extra>",
         "legendgroup": "CAUSE.CATEGORY.DETAIL_earthquake",
         "marker": {
          "color": "#00cc96",
          "pattern": {
           "shape": ""
          }
         },
         "name": "CAUSE.CATEGORY.DETAIL_earthquake",
         "offsetgroup": "CAUSE.CATEGORY.DETAIL_earthquake",
         "orientation": "v",
         "showlegend": true,
         "textposition": "auto",
         "type": "bar",
         "x": [
          "equipment failure",
          "fuel supply emergency",
          "intentional attack",
          "islanding",
          "public appeal",
          "severe weather",
          "system operability disruption"
         ],
         "xaxis": "x",
         "y": [
          0,
          0,
          0,
          0,
          0,
          4,
          0
         ],
         "yaxis": "y"
        },
        {
         "alignmentgroup": "True",
         "hovertemplate": "variable=CAUSE.CATEGORY.DETAIL_feeder shutdown<br>CAUSE.CATEGORY=%{x}<br>value=%{y}<extra></extra>",
         "legendgroup": "CAUSE.CATEGORY.DETAIL_feeder shutdown",
         "marker": {
          "color": "#ab63fa",
          "pattern": {
           "shape": ""
          }
         },
         "name": "CAUSE.CATEGORY.DETAIL_feeder shutdown",
         "offsetgroup": "CAUSE.CATEGORY.DETAIL_feeder shutdown",
         "orientation": "v",
         "showlegend": true,
         "textposition": "auto",
         "type": "bar",
         "x": [
          "equipment failure",
          "fuel supply emergency",
          "intentional attack",
          "islanding",
          "public appeal",
          "severe weather",
          "system operability disruption"
         ],
         "xaxis": "x",
         "y": [
          1,
          0,
          0,
          0,
          0,
          0,
          0
         ],
         "yaxis": "y"
        },
        {
         "alignmentgroup": "True",
         "hovertemplate": "variable=CAUSE.CATEGORY.DETAIL_flooding<br>CAUSE.CATEGORY=%{x}<br>value=%{y}<extra></extra>",
         "legendgroup": "CAUSE.CATEGORY.DETAIL_flooding",
         "marker": {
          "color": "#FFA15A",
          "pattern": {
           "shape": ""
          }
         },
         "name": "CAUSE.CATEGORY.DETAIL_flooding",
         "offsetgroup": "CAUSE.CATEGORY.DETAIL_flooding",
         "orientation": "v",
         "showlegend": true,
         "textposition": "auto",
         "type": "bar",
         "x": [
          "equipment failure",
          "fuel supply emergency",
          "intentional attack",
          "islanding",
          "public appeal",
          "severe weather",
          "system operability disruption"
         ],
         "xaxis": "x",
         "y": [
          0,
          0,
          0,
          0,
          0,
          4,
          0
         ],
         "yaxis": "y"
        },
        {
         "alignmentgroup": "True",
         "hovertemplate": "variable=CAUSE.CATEGORY.DETAIL_fog<br>CAUSE.CATEGORY=%{x}<br>value=%{y}<extra></extra>",
         "legendgroup": "CAUSE.CATEGORY.DETAIL_fog",
         "marker": {
          "color": "#19d3f3",
          "pattern": {
           "shape": ""
          }
         },
         "name": "CAUSE.CATEGORY.DETAIL_fog",
         "offsetgroup": "CAUSE.CATEGORY.DETAIL_fog",
         "orientation": "v",
         "showlegend": true,
         "textposition": "auto",
         "type": "bar",
         "x": [
          "equipment failure",
          "fuel supply emergency",
          "intentional attack",
          "islanding",
          "public appeal",
          "severe weather",
          "system operability disruption"
         ],
         "xaxis": "x",
         "y": [
          0,
          0,
          0,
          0,
          0,
          1,
          0
         ],
         "yaxis": "y"
        },
        {
         "alignmentgroup": "True",
         "hovertemplate": "variable=CAUSE.CATEGORY.DETAIL_generator trip<br>CAUSE.CATEGORY=%{x}<br>value=%{y}<extra></extra>",
         "legendgroup": "CAUSE.CATEGORY.DETAIL_generator trip",
         "marker": {
          "color": "#FF6692",
          "pattern": {
           "shape": ""
          }
         },
         "name": "CAUSE.CATEGORY.DETAIL_generator trip",
         "offsetgroup": "CAUSE.CATEGORY.DETAIL_generator trip",
         "orientation": "v",
         "showlegend": true,
         "textposition": "auto",
         "type": "bar",
         "x": [
          "equipment failure",
          "fuel supply emergency",
          "intentional attack",
          "islanding",
          "public appeal",
          "severe weather",
          "system operability disruption"
         ],
         "xaxis": "x",
         "y": [
          16,
          0,
          0,
          0,
          0,
          0,
          0
         ],
         "yaxis": "y"
        },
        {
         "alignmentgroup": "True",
         "hovertemplate": "variable=CAUSE.CATEGORY.DETAIL_hailstorm<br>CAUSE.CATEGORY=%{x}<br>value=%{y}<extra></extra>",
         "legendgroup": "CAUSE.CATEGORY.DETAIL_hailstorm",
         "marker": {
          "color": "#B6E880",
          "pattern": {
           "shape": ""
          }
         },
         "name": "CAUSE.CATEGORY.DETAIL_hailstorm",
         "offsetgroup": "CAUSE.CATEGORY.DETAIL_hailstorm",
         "orientation": "v",
         "showlegend": true,
         "textposition": "auto",
         "type": "bar",
         "x": [
          "equipment failure",
          "fuel supply emergency",
          "intentional attack",
          "islanding",
          "public appeal",
          "severe weather",
          "system operability disruption"
         ],
         "xaxis": "x",
         "y": [
          0,
          0,
          0,
          0,
          0,
          3,
          0
         ],
         "yaxis": "y"
        },
        {
         "alignmentgroup": "True",
         "hovertemplate": "variable=CAUSE.CATEGORY.DETAIL_heatwave<br>CAUSE.CATEGORY=%{x}<br>value=%{y}<extra></extra>",
         "legendgroup": "CAUSE.CATEGORY.DETAIL_heatwave",
         "marker": {
          "color": "#FF97FF",
          "pattern": {
           "shape": ""
          }
         },
         "name": "CAUSE.CATEGORY.DETAIL_heatwave",
         "offsetgroup": "CAUSE.CATEGORY.DETAIL_heatwave",
         "orientation": "v",
         "showlegend": true,
         "textposition": "auto",
         "type": "bar",
         "x": [
          "equipment failure",
          "fuel supply emergency",
          "intentional attack",
          "islanding",
          "public appeal",
          "severe weather",
          "system operability disruption"
         ],
         "xaxis": "x",
         "y": [
          0,
          0,
          0,
          0,
          0,
          10,
          0
         ],
         "yaxis": "y"
        },
        {
         "alignmentgroup": "True",
         "hovertemplate": "variable=CAUSE.CATEGORY.DETAIL_heavy wind<br>CAUSE.CATEGORY=%{x}<br>value=%{y}<extra></extra>",
         "legendgroup": "CAUSE.CATEGORY.DETAIL_heavy wind",
         "marker": {
          "color": "#FECB52",
          "pattern": {
           "shape": ""
          }
         },
         "name": "CAUSE.CATEGORY.DETAIL_heavy wind",
         "offsetgroup": "CAUSE.CATEGORY.DETAIL_heavy wind",
         "orientation": "v",
         "showlegend": true,
         "textposition": "auto",
         "type": "bar",
         "x": [
          "equipment failure",
          "fuel supply emergency",
          "intentional attack",
          "islanding",
          "public appeal",
          "severe weather",
          "system operability disruption"
         ],
         "xaxis": "x",
         "y": [
          0,
          0,
          0,
          0,
          0,
          60,
          0
         ],
         "yaxis": "y"
        },
        {
         "alignmentgroup": "True",
         "hovertemplate": "variable=CAUSE.CATEGORY.DETAIL_hurricanes<br>CAUSE.CATEGORY=%{x}<br>value=%{y}<extra></extra>",
         "legendgroup": "CAUSE.CATEGORY.DETAIL_hurricanes",
         "marker": {
          "color": "#636efa",
          "pattern": {
           "shape": ""
          }
         },
         "name": "CAUSE.CATEGORY.DETAIL_hurricanes",
         "offsetgroup": "CAUSE.CATEGORY.DETAIL_hurricanes",
         "orientation": "v",
         "showlegend": true,
         "textposition": "auto",
         "type": "bar",
         "x": [
          "equipment failure",
          "fuel supply emergency",
          "intentional attack",
          "islanding",
          "public appeal",
          "severe weather",
          "system operability disruption"
         ],
         "xaxis": "x",
         "y": [
          0,
          0,
          0,
          0,
          0,
          73,
          0
         ],
         "yaxis": "y"
        },
        {
         "alignmentgroup": "True",
         "hovertemplate": "variable=CAUSE.CATEGORY.DETAIL_lightning<br>CAUSE.CATEGORY=%{x}<br>value=%{y}<extra></extra>",
         "legendgroup": "CAUSE.CATEGORY.DETAIL_lightning",
         "marker": {
          "color": "#EF553B",
          "pattern": {
           "shape": ""
          }
         },
         "name": "CAUSE.CATEGORY.DETAIL_lightning",
         "offsetgroup": "CAUSE.CATEGORY.DETAIL_lightning",
         "orientation": "v",
         "showlegend": true,
         "textposition": "auto",
         "type": "bar",
         "x": [
          "equipment failure",
          "fuel supply emergency",
          "intentional attack",
          "islanding",
          "public appeal",
          "severe weather",
          "system operability disruption"
         ],
         "xaxis": "x",
         "y": [
          0,
          0,
          0,
          0,
          0,
          3,
          0
         ],
         "yaxis": "y"
        },
        {
         "alignmentgroup": "True",
         "hovertemplate": "variable=CAUSE.CATEGORY.DETAIL_line fault<br>CAUSE.CATEGORY=%{x}<br>value=%{y}<extra></extra>",
         "legendgroup": "CAUSE.CATEGORY.DETAIL_line fault",
         "marker": {
          "color": "#00cc96",
          "pattern": {
           "shape": ""
          }
         },
         "name": "CAUSE.CATEGORY.DETAIL_line fault",
         "offsetgroup": "CAUSE.CATEGORY.DETAIL_line fault",
         "orientation": "v",
         "showlegend": true,
         "textposition": "auto",
         "type": "bar",
         "x": [
          "equipment failure",
          "fuel supply emergency",
          "intentional attack",
          "islanding",
          "public appeal",
          "severe weather",
          "system operability disruption"
         ],
         "xaxis": "x",
         "y": [
          1,
          0,
          0,
          0,
          0,
          0,
          0
         ],
         "yaxis": "y"
        },
        {
         "alignmentgroup": "True",
         "hovertemplate": "variable=CAUSE.CATEGORY.DETAIL_majorsystem interruption<br>CAUSE.CATEGORY=%{x}<br>value=%{y}<extra></extra>",
         "legendgroup": "CAUSE.CATEGORY.DETAIL_majorsystem interruption",
         "marker": {
          "color": "#ab63fa",
          "pattern": {
           "shape": ""
          }
         },
         "name": "CAUSE.CATEGORY.DETAIL_majorsystem interruption",
         "offsetgroup": "CAUSE.CATEGORY.DETAIL_majorsystem interruption",
         "orientation": "v",
         "showlegend": true,
         "textposition": "auto",
         "type": "bar",
         "x": [
          "equipment failure",
          "fuel supply emergency",
          "intentional attack",
          "islanding",
          "public appeal",
          "severe weather",
          "system operability disruption"
         ],
         "xaxis": "x",
         "y": [
          0,
          0,
          0,
          0,
          0,
          0,
          1
         ],
         "yaxis": "y"
        },
        {
         "alignmentgroup": "True",
         "hovertemplate": "variable=CAUSE.CATEGORY.DETAIL_plant trip<br>CAUSE.CATEGORY=%{x}<br>value=%{y}<extra></extra>",
         "legendgroup": "CAUSE.CATEGORY.DETAIL_plant trip",
         "marker": {
          "color": "#FFA15A",
          "pattern": {
           "shape": ""
          }
         },
         "name": "CAUSE.CATEGORY.DETAIL_plant trip",
         "offsetgroup": "CAUSE.CATEGORY.DETAIL_plant trip",
         "orientation": "v",
         "showlegend": true,
         "textposition": "auto",
         "type": "bar",
         "x": [
          "equipment failure",
          "fuel supply emergency",
          "intentional attack",
          "islanding",
          "public appeal",
          "severe weather",
          "system operability disruption"
         ],
         "xaxis": "x",
         "y": [
          1,
          0,
          0,
          0,
          0,
          0,
          0
         ],
         "yaxis": "y"
        },
        {
         "alignmentgroup": "True",
         "hovertemplate": "variable=CAUSE.CATEGORY.DETAIL_public appeal<br>CAUSE.CATEGORY=%{x}<br>value=%{y}<extra></extra>",
         "legendgroup": "CAUSE.CATEGORY.DETAIL_public appeal",
         "marker": {
          "color": "#19d3f3",
          "pattern": {
           "shape": ""
          }
         },
         "name": "CAUSE.CATEGORY.DETAIL_public appeal",
         "offsetgroup": "CAUSE.CATEGORY.DETAIL_public appeal",
         "orientation": "v",
         "showlegend": true,
         "textposition": "auto",
         "type": "bar",
         "x": [
          "equipment failure",
          "fuel supply emergency",
          "intentional attack",
          "islanding",
          "public appeal",
          "severe weather",
          "system operability disruption"
         ],
         "xaxis": "x",
         "y": [
          0,
          0,
          0,
          0,
          0,
          1,
          0
         ],
         "yaxis": "y"
        },
        {
         "alignmentgroup": "True",
         "hovertemplate": "variable=CAUSE.CATEGORY.DETAIL_relaying malfunction<br>CAUSE.CATEGORY=%{x}<br>value=%{y}<extra></extra>",
         "legendgroup": "CAUSE.CATEGORY.DETAIL_relaying malfunction",
         "marker": {
          "color": "#FF6692",
          "pattern": {
           "shape": ""
          }
         },
         "name": "CAUSE.CATEGORY.DETAIL_relaying malfunction",
         "offsetgroup": "CAUSE.CATEGORY.DETAIL_relaying malfunction",
         "orientation": "v",
         "showlegend": true,
         "textposition": "auto",
         "type": "bar",
         "x": [
          "equipment failure",
          "fuel supply emergency",
          "intentional attack",
          "islanding",
          "public appeal",
          "severe weather",
          "system operability disruption"
         ],
         "xaxis": "x",
         "y": [
          1,
          0,
          0,
          0,
          0,
          0,
          0
         ],
         "yaxis": "y"
        },
        {
         "alignmentgroup": "True",
         "hovertemplate": "variable=CAUSE.CATEGORY.DETAIL_sabotage<br>CAUSE.CATEGORY=%{x}<br>value=%{y}<extra></extra>",
         "legendgroup": "CAUSE.CATEGORY.DETAIL_sabotage",
         "marker": {
          "color": "#B6E880",
          "pattern": {
           "shape": ""
          }
         },
         "name": "CAUSE.CATEGORY.DETAIL_sabotage",
         "offsetgroup": "CAUSE.CATEGORY.DETAIL_sabotage",
         "orientation": "v",
         "showlegend": true,
         "textposition": "auto",
         "type": "bar",
         "x": [
          "equipment failure",
          "fuel supply emergency",
          "intentional attack",
          "islanding",
          "public appeal",
          "severe weather",
          "system operability disruption"
         ],
         "xaxis": "x",
         "y": [
          0,
          0,
          29,
          0,
          0,
          0,
          0
         ],
         "yaxis": "y"
        },
        {
         "alignmentgroup": "True",
         "hovertemplate": "variable=CAUSE.CATEGORY.DETAIL_shed load<br>CAUSE.CATEGORY=%{x}<br>value=%{y}<extra></extra>",
         "legendgroup": "CAUSE.CATEGORY.DETAIL_shed load",
         "marker": {
          "color": "#FF97FF",
          "pattern": {
           "shape": ""
          }
         },
         "name": "CAUSE.CATEGORY.DETAIL_shed load",
         "offsetgroup": "CAUSE.CATEGORY.DETAIL_shed load",
         "orientation": "v",
         "showlegend": true,
         "textposition": "auto",
         "type": "bar",
         "x": [
          "equipment failure",
          "fuel supply emergency",
          "intentional attack",
          "islanding",
          "public appeal",
          "severe weather",
          "system operability disruption"
         ],
         "xaxis": "x",
         "y": [
          0,
          0,
          0,
          0,
          0,
          0,
          1
         ],
         "yaxis": "y"
        },
        {
         "alignmentgroup": "True",
         "hovertemplate": "variable=CAUSE.CATEGORY.DETAIL_snow/ice <br>CAUSE.CATEGORY=%{x}<br>value=%{y}<extra></extra>",
         "legendgroup": "CAUSE.CATEGORY.DETAIL_snow/ice ",
         "marker": {
          "color": "#FECB52",
          "pattern": {
           "shape": ""
          }
         },
         "name": "CAUSE.CATEGORY.DETAIL_snow/ice ",
         "offsetgroup": "CAUSE.CATEGORY.DETAIL_snow/ice ",
         "orientation": "v",
         "showlegend": true,
         "textposition": "auto",
         "type": "bar",
         "x": [
          "equipment failure",
          "fuel supply emergency",
          "intentional attack",
          "islanding",
          "public appeal",
          "severe weather",
          "system operability disruption"
         ],
         "xaxis": "x",
         "y": [
          0,
          0,
          0,
          0,
          0,
          13,
          0
         ],
         "yaxis": "y"
        },
        {
         "alignmentgroup": "True",
         "hovertemplate": "variable=CAUSE.CATEGORY.DETAIL_snow/ice storm<br>CAUSE.CATEGORY=%{x}<br>value=%{y}<extra></extra>",
         "legendgroup": "CAUSE.CATEGORY.DETAIL_snow/ice storm",
         "marker": {
          "color": "#636efa",
          "pattern": {
           "shape": ""
          }
         },
         "name": "CAUSE.CATEGORY.DETAIL_snow/ice storm",
         "offsetgroup": "CAUSE.CATEGORY.DETAIL_snow/ice storm",
         "orientation": "v",
         "showlegend": true,
         "textposition": "auto",
         "type": "bar",
         "x": [
          "equipment failure",
          "fuel supply emergency",
          "intentional attack",
          "islanding",
          "public appeal",
          "severe weather",
          "system operability disruption"
         ],
         "xaxis": "x",
         "y": [
          0,
          0,
          0,
          0,
          0,
          1,
          0
         ],
         "yaxis": "y"
        },
        {
         "alignmentgroup": "True",
         "hovertemplate": "variable=CAUSE.CATEGORY.DETAIL_storm<br>CAUSE.CATEGORY=%{x}<br>value=%{y}<extra></extra>",
         "legendgroup": "CAUSE.CATEGORY.DETAIL_storm",
         "marker": {
          "color": "#EF553B",
          "pattern": {
           "shape": ""
          }
         },
         "name": "CAUSE.CATEGORY.DETAIL_storm",
         "offsetgroup": "CAUSE.CATEGORY.DETAIL_storm",
         "orientation": "v",
         "showlegend": true,
         "textposition": "auto",
         "type": "bar",
         "x": [
          "equipment failure",
          "fuel supply emergency",
          "intentional attack",
          "islanding",
          "public appeal",
          "severe weather",
          "system operability disruption"
         ],
         "xaxis": "x",
         "y": [
          0,
          0,
          0,
          0,
          0,
          41,
          0
         ],
         "yaxis": "y"
        },
        {
         "alignmentgroup": "True",
         "hovertemplate": "variable=CAUSE.CATEGORY.DETAIL_substation<br>CAUSE.CATEGORY=%{x}<br>value=%{y}<extra></extra>",
         "legendgroup": "CAUSE.CATEGORY.DETAIL_substation",
         "marker": {
          "color": "#00cc96",
          "pattern": {
           "shape": ""
          }
         },
         "name": "CAUSE.CATEGORY.DETAIL_substation",
         "offsetgroup": "CAUSE.CATEGORY.DETAIL_substation",
         "orientation": "v",
         "showlegend": true,
         "textposition": "auto",
         "type": "bar",
         "x": [
          "equipment failure",
          "fuel supply emergency",
          "intentional attack",
          "islanding",
          "public appeal",
          "severe weather",
          "system operability disruption"
         ],
         "xaxis": "x",
         "y": [
          2,
          0,
          0,
          0,
          0,
          0,
          0
         ],
         "yaxis": "y"
        },
        {
         "alignmentgroup": "True",
         "hovertemplate": "variable=CAUSE.CATEGORY.DETAIL_suspicious activity<br>CAUSE.CATEGORY=%{x}<br>value=%{y}<extra></extra>",
         "legendgroup": "CAUSE.CATEGORY.DETAIL_suspicious activity",
         "marker": {
          "color": "#ab63fa",
          "pattern": {
           "shape": ""
          }
         },
         "name": "CAUSE.CATEGORY.DETAIL_suspicious activity",
         "offsetgroup": "CAUSE.CATEGORY.DETAIL_suspicious activity",
         "orientation": "v",
         "showlegend": true,
         "textposition": "auto",
         "type": "bar",
         "x": [
          "equipment failure",
          "fuel supply emergency",
          "intentional attack",
          "islanding",
          "public appeal",
          "severe weather",
          "system operability disruption"
         ],
         "xaxis": "x",
         "y": [
          0,
          0,
          3,
          0,
          0,
          0,
          0
         ],
         "yaxis": "y"
        },
        {
         "alignmentgroup": "True",
         "hovertemplate": "variable=CAUSE.CATEGORY.DETAIL_switching<br>CAUSE.CATEGORY=%{x}<br>value=%{y}<extra></extra>",
         "legendgroup": "CAUSE.CATEGORY.DETAIL_switching",
         "marker": {
          "color": "#FFA15A",
          "pattern": {
           "shape": ""
          }
         },
         "name": "CAUSE.CATEGORY.DETAIL_switching",
         "offsetgroup": "CAUSE.CATEGORY.DETAIL_switching",
         "orientation": "v",
         "showlegend": true,
         "textposition": "auto",
         "type": "bar",
         "x": [
          "equipment failure",
          "fuel supply emergency",
          "intentional attack",
          "islanding",
          "public appeal",
          "severe weather",
          "system operability disruption"
         ],
         "xaxis": "x",
         "y": [
          2,
          0,
          0,
          0,
          0,
          0,
          0
         ],
         "yaxis": "y"
        },
        {
         "alignmentgroup": "True",
         "hovertemplate": "variable=CAUSE.CATEGORY.DETAIL_thunderstorm<br>CAUSE.CATEGORY=%{x}<br>value=%{y}<extra></extra>",
         "legendgroup": "CAUSE.CATEGORY.DETAIL_thunderstorm",
         "marker": {
          "color": "#19d3f3",
          "pattern": {
           "shape": ""
          }
         },
         "name": "CAUSE.CATEGORY.DETAIL_thunderstorm",
         "offsetgroup": "CAUSE.CATEGORY.DETAIL_thunderstorm",
         "orientation": "v",
         "showlegend": true,
         "textposition": "auto",
         "type": "bar",
         "x": [
          "equipment failure",
          "fuel supply emergency",
          "intentional attack",
          "islanding",
          "public appeal",
          "severe weather",
          "system operability disruption"
         ],
         "xaxis": "x",
         "y": [
          0,
          0,
          0,
          0,
          0,
          176,
          0
         ],
         "yaxis": "y"
        },
        {
         "alignmentgroup": "True",
         "hovertemplate": "variable=CAUSE.CATEGORY.DETAIL_thunderstorm; islanding<br>CAUSE.CATEGORY=%{x}<br>value=%{y}<extra></extra>",
         "legendgroup": "CAUSE.CATEGORY.DETAIL_thunderstorm; islanding",
         "marker": {
          "color": "#FF6692",
          "pattern": {
           "shape": ""
          }
         },
         "name": "CAUSE.CATEGORY.DETAIL_thunderstorm; islanding",
         "offsetgroup": "CAUSE.CATEGORY.DETAIL_thunderstorm; islanding",
         "orientation": "v",
         "showlegend": true,
         "textposition": "auto",
         "type": "bar",
         "x": [
          "equipment failure",
          "fuel supply emergency",
          "intentional attack",
          "islanding",
          "public appeal",
          "severe weather",
          "system operability disruption"
         ],
         "xaxis": "x",
         "y": [
          0,
          0,
          0,
          0,
          0,
          1,
          0
         ],
         "yaxis": "y"
        },
        {
         "alignmentgroup": "True",
         "hovertemplate": "variable=CAUSE.CATEGORY.DETAIL_tornadoes<br>CAUSE.CATEGORY=%{x}<br>value=%{y}<extra></extra>",
         "legendgroup": "CAUSE.CATEGORY.DETAIL_tornadoes",
         "marker": {
          "color": "#B6E880",
          "pattern": {
           "shape": ""
          }
         },
         "name": "CAUSE.CATEGORY.DETAIL_tornadoes",
         "offsetgroup": "CAUSE.CATEGORY.DETAIL_tornadoes",
         "orientation": "v",
         "showlegend": true,
         "textposition": "auto",
         "type": "bar",
         "x": [
          "equipment failure",
          "fuel supply emergency",
          "intentional attack",
          "islanding",
          "public appeal",
          "severe weather",
          "system operability disruption"
         ],
         "xaxis": "x",
         "y": [
          0,
          0,
          0,
          0,
          0,
          8,
          0
         ],
         "yaxis": "y"
        },
        {
         "alignmentgroup": "True",
         "hovertemplate": "variable=CAUSE.CATEGORY.DETAIL_transformer outage<br>CAUSE.CATEGORY=%{x}<br>value=%{y}<extra></extra>",
         "legendgroup": "CAUSE.CATEGORY.DETAIL_transformer outage",
         "marker": {
          "color": "#FF97FF",
          "pattern": {
           "shape": ""
          }
         },
         "name": "CAUSE.CATEGORY.DETAIL_transformer outage",
         "offsetgroup": "CAUSE.CATEGORY.DETAIL_transformer outage",
         "orientation": "v",
         "showlegend": true,
         "textposition": "auto",
         "type": "bar",
         "x": [
          "equipment failure",
          "fuel supply emergency",
          "intentional attack",
          "islanding",
          "public appeal",
          "severe weather",
          "system operability disruption"
         ],
         "xaxis": "x",
         "y": [
          2,
          0,
          0,
          0,
          0,
          0,
          0
         ],
         "yaxis": "y"
        },
        {
         "alignmentgroup": "True",
         "hovertemplate": "variable=CAUSE.CATEGORY.DETAIL_transmission<br>CAUSE.CATEGORY=%{x}<br>value=%{y}<extra></extra>",
         "legendgroup": "CAUSE.CATEGORY.DETAIL_transmission",
         "marker": {
          "color": "#FECB52",
          "pattern": {
           "shape": ""
          }
         },
         "name": "CAUSE.CATEGORY.DETAIL_transmission",
         "offsetgroup": "CAUSE.CATEGORY.DETAIL_transmission",
         "orientation": "v",
         "showlegend": true,
         "textposition": "auto",
         "type": "bar",
         "x": [
          "equipment failure",
          "fuel supply emergency",
          "intentional attack",
          "islanding",
          "public appeal",
          "severe weather",
          "system operability disruption"
         ],
         "xaxis": "x",
         "y": [
          3,
          0,
          0,
          0,
          0,
          0,
          0
         ],
         "yaxis": "y"
        },
        {
         "alignmentgroup": "True",
         "hovertemplate": "variable=CAUSE.CATEGORY.DETAIL_transmission interruption<br>CAUSE.CATEGORY=%{x}<br>value=%{y}<extra></extra>",
         "legendgroup": "CAUSE.CATEGORY.DETAIL_transmission interruption",
         "marker": {
          "color": "#636efa",
          "pattern": {
           "shape": ""
          }
         },
         "name": "CAUSE.CATEGORY.DETAIL_transmission interruption",
         "offsetgroup": "CAUSE.CATEGORY.DETAIL_transmission interruption",
         "orientation": "v",
         "showlegend": true,
         "textposition": "auto",
         "type": "bar",
         "x": [
          "equipment failure",
          "fuel supply emergency",
          "intentional attack",
          "islanding",
          "public appeal",
          "severe weather",
          "system operability disruption"
         ],
         "xaxis": "x",
         "y": [
          2,
          0,
          0,
          0,
          0,
          0,
          17
         ],
         "yaxis": "y"
        },
        {
         "alignmentgroup": "True",
         "hovertemplate": "variable=CAUSE.CATEGORY.DETAIL_transmission trip<br>CAUSE.CATEGORY=%{x}<br>value=%{y}<extra></extra>",
         "legendgroup": "CAUSE.CATEGORY.DETAIL_transmission trip",
         "marker": {
          "color": "#EF553B",
          "pattern": {
           "shape": ""
          }
         },
         "name": "CAUSE.CATEGORY.DETAIL_transmission trip",
         "offsetgroup": "CAUSE.CATEGORY.DETAIL_transmission trip",
         "orientation": "v",
         "showlegend": true,
         "textposition": "auto",
         "type": "bar",
         "x": [
          "equipment failure",
          "fuel supply emergency",
          "intentional attack",
          "islanding",
          "public appeal",
          "severe weather",
          "system operability disruption"
         ],
         "xaxis": "x",
         "y": [
          6,
          0,
          0,
          0,
          0,
          0,
          0
         ],
         "yaxis": "y"
        },
        {
         "alignmentgroup": "True",
         "hovertemplate": "variable=CAUSE.CATEGORY.DETAIL_uncontrolled loss<br>CAUSE.CATEGORY=%{x}<br>value=%{y}<extra></extra>",
         "legendgroup": "CAUSE.CATEGORY.DETAIL_uncontrolled loss",
         "marker": {
          "color": "#00cc96",
          "pattern": {
           "shape": ""
          }
         },
         "name": "CAUSE.CATEGORY.DETAIL_uncontrolled loss",
         "offsetgroup": "CAUSE.CATEGORY.DETAIL_uncontrolled loss",
         "orientation": "v",
         "showlegend": true,
         "textposition": "auto",
         "type": "bar",
         "x": [
          "equipment failure",
          "fuel supply emergency",
          "intentional attack",
          "islanding",
          "public appeal",
          "severe weather",
          "system operability disruption"
         ],
         "xaxis": "x",
         "y": [
          0,
          0,
          0,
          0,
          0,
          2,
          12
         ],
         "yaxis": "y"
        },
        {
         "alignmentgroup": "True",
         "hovertemplate": "variable=CAUSE.CATEGORY.DETAIL_vandalism<br>CAUSE.CATEGORY=%{x}<br>value=%{y}<extra></extra>",
         "legendgroup": "CAUSE.CATEGORY.DETAIL_vandalism",
         "marker": {
          "color": "#ab63fa",
          "pattern": {
           "shape": ""
          }
         },
         "name": "CAUSE.CATEGORY.DETAIL_vandalism",
         "offsetgroup": "CAUSE.CATEGORY.DETAIL_vandalism",
         "orientation": "v",
         "showlegend": true,
         "textposition": "auto",
         "type": "bar",
         "x": [
          "equipment failure",
          "fuel supply emergency",
          "intentional attack",
          "islanding",
          "public appeal",
          "severe weather",
          "system operability disruption"
         ],
         "xaxis": "x",
         "y": [
          0,
          0,
          325,
          0,
          0,
          0,
          0
         ],
         "yaxis": "y"
        },
        {
         "alignmentgroup": "True",
         "hovertemplate": "variable=CAUSE.CATEGORY.DETAIL_voltage reduction<br>CAUSE.CATEGORY=%{x}<br>value=%{y}<extra></extra>",
         "legendgroup": "CAUSE.CATEGORY.DETAIL_voltage reduction",
         "marker": {
          "color": "#FFA15A",
          "pattern": {
           "shape": ""
          }
         },
         "name": "CAUSE.CATEGORY.DETAIL_voltage reduction",
         "offsetgroup": "CAUSE.CATEGORY.DETAIL_voltage reduction",
         "orientation": "v",
         "showlegend": true,
         "textposition": "auto",
         "type": "bar",
         "x": [
          "equipment failure",
          "fuel supply emergency",
          "intentional attack",
          "islanding",
          "public appeal",
          "severe weather",
          "system operability disruption"
         ],
         "xaxis": "x",
         "y": [
          0,
          0,
          0,
          0,
          0,
          0,
          1
         ],
         "yaxis": "y"
        },
        {
         "alignmentgroup": "True",
         "hovertemplate": "variable=CAUSE.CATEGORY.DETAIL_wildfire<br>CAUSE.CATEGORY=%{x}<br>value=%{y}<extra></extra>",
         "legendgroup": "CAUSE.CATEGORY.DETAIL_wildfire",
         "marker": {
          "color": "#19d3f3",
          "pattern": {
           "shape": ""
          }
         },
         "name": "CAUSE.CATEGORY.DETAIL_wildfire",
         "offsetgroup": "CAUSE.CATEGORY.DETAIL_wildfire",
         "orientation": "v",
         "showlegend": true,
         "textposition": "auto",
         "type": "bar",
         "x": [
          "equipment failure",
          "fuel supply emergency",
          "intentional attack",
          "islanding",
          "public appeal",
          "severe weather",
          "system operability disruption"
         ],
         "xaxis": "x",
         "y": [
          0,
          0,
          0,
          0,
          0,
          23,
          0
         ],
         "yaxis": "y"
        },
        {
         "alignmentgroup": "True",
         "hovertemplate": "variable=CAUSE.CATEGORY.DETAIL_wind<br>CAUSE.CATEGORY=%{x}<br>value=%{y}<extra></extra>",
         "legendgroup": "CAUSE.CATEGORY.DETAIL_wind",
         "marker": {
          "color": "#FF6692",
          "pattern": {
           "shape": ""
          }
         },
         "name": "CAUSE.CATEGORY.DETAIL_wind",
         "offsetgroup": "CAUSE.CATEGORY.DETAIL_wind",
         "orientation": "v",
         "showlegend": true,
         "textposition": "auto",
         "type": "bar",
         "x": [
          "equipment failure",
          "fuel supply emergency",
          "intentional attack",
          "islanding",
          "public appeal",
          "severe weather",
          "system operability disruption"
         ],
         "xaxis": "x",
         "y": [
          0,
          0,
          0,
          0,
          0,
          2,
          0
         ],
         "yaxis": "y"
        },
        {
         "alignmentgroup": "True",
         "hovertemplate": "variable=CAUSE.CATEGORY.DETAIL_wind storm<br>CAUSE.CATEGORY=%{x}<br>value=%{y}<extra></extra>",
         "legendgroup": "CAUSE.CATEGORY.DETAIL_wind storm",
         "marker": {
          "color": "#B6E880",
          "pattern": {
           "shape": ""
          }
         },
         "name": "CAUSE.CATEGORY.DETAIL_wind storm",
         "offsetgroup": "CAUSE.CATEGORY.DETAIL_wind storm",
         "orientation": "v",
         "showlegend": true,
         "textposition": "auto",
         "type": "bar",
         "x": [
          "equipment failure",
          "fuel supply emergency",
          "intentional attack",
          "islanding",
          "public appeal",
          "severe weather",
          "system operability disruption"
         ],
         "xaxis": "x",
         "y": [
          0,
          0,
          0,
          0,
          0,
          6,
          0
         ],
         "yaxis": "y"
        },
        {
         "alignmentgroup": "True",
         "hovertemplate": "variable=CAUSE.CATEGORY.DETAIL_wind/rain<br>CAUSE.CATEGORY=%{x}<br>value=%{y}<extra></extra>",
         "legendgroup": "CAUSE.CATEGORY.DETAIL_wind/rain",
         "marker": {
          "color": "#FF97FF",
          "pattern": {
           "shape": ""
          }
         },
         "name": "CAUSE.CATEGORY.DETAIL_wind/rain",
         "offsetgroup": "CAUSE.CATEGORY.DETAIL_wind/rain",
         "orientation": "v",
         "showlegend": true,
         "textposition": "auto",
         "type": "bar",
         "x": [
          "equipment failure",
          "fuel supply emergency",
          "intentional attack",
          "islanding",
          "public appeal",
          "severe weather",
          "system operability disruption"
         ],
         "xaxis": "x",
         "y": [
          0,
          0,
          0,
          0,
          0,
          12,
          0
         ],
         "yaxis": "y"
        },
        {
         "alignmentgroup": "True",
         "hovertemplate": "variable=CAUSE.CATEGORY.DETAIL_winter<br>CAUSE.CATEGORY=%{x}<br>value=%{y}<extra></extra>",
         "legendgroup": "CAUSE.CATEGORY.DETAIL_winter",
         "marker": {
          "color": "#FECB52",
          "pattern": {
           "shape": ""
          }
         },
         "name": "CAUSE.CATEGORY.DETAIL_winter",
         "offsetgroup": "CAUSE.CATEGORY.DETAIL_winter",
         "orientation": "v",
         "showlegend": true,
         "textposition": "auto",
         "type": "bar",
         "x": [
          "equipment failure",
          "fuel supply emergency",
          "intentional attack",
          "islanding",
          "public appeal",
          "severe weather",
          "system operability disruption"
         ],
         "xaxis": "x",
         "y": [
          0,
          0,
          0,
          0,
          0,
          23,
          0
         ],
         "yaxis": "y"
        },
        {
         "alignmentgroup": "True",
         "hovertemplate": "variable=CAUSE.CATEGORY.DETAIL_winter storm<br>CAUSE.CATEGORY=%{x}<br>value=%{y}<extra></extra>",
         "legendgroup": "CAUSE.CATEGORY.DETAIL_winter storm",
         "marker": {
          "color": "#636efa",
          "pattern": {
           "shape": ""
          }
         },
         "name": "CAUSE.CATEGORY.DETAIL_winter storm",
         "offsetgroup": "CAUSE.CATEGORY.DETAIL_winter storm",
         "orientation": "v",
         "showlegend": true,
         "textposition": "auto",
         "type": "bar",
         "x": [
          "equipment failure",
          "fuel supply emergency",
          "intentional attack",
          "islanding",
          "public appeal",
          "severe weather",
          "system operability disruption"
         ],
         "xaxis": "x",
         "y": [
          0,
          0,
          0,
          0,
          0,
          100,
          0
         ],
         "yaxis": "y"
        },
        {
         "alignmentgroup": "True",
         "hovertemplate": "variable=CAUSE.CATEGORY.DETAIL_nan<br>CAUSE.CATEGORY=%{x}<br>value=%{y}<extra></extra>",
         "legendgroup": "CAUSE.CATEGORY.DETAIL_nan",
         "marker": {
          "color": "#EF553B",
          "pattern": {
           "shape": ""
          }
         },
         "name": "CAUSE.CATEGORY.DETAIL_nan",
         "offsetgroup": "CAUSE.CATEGORY.DETAIL_nan",
         "orientation": "v",
         "showlegend": true,
         "textposition": "auto",
         "type": "bar",
         "x": [
          "equipment failure",
          "fuel supply emergency",
          "intentional attack",
          "islanding",
          "public appeal",
          "severe weather",
          "system operability disruption"
         ],
         "xaxis": "x",
         "y": [
          12,
          13,
          46,
          44,
          69,
          177,
          87
         ],
         "yaxis": "y"
        }
       ],
       "layout": {
        "barmode": "relative",
        "legend": {
         "title": {
          "text": "variable"
         },
         "tracegroupgap": 0
        },
        "margin": {
         "t": 60
        },
        "template": {
         "data": {
          "bar": [
           {
            "error_x": {
             "color": "#2a3f5f"
            },
            "error_y": {
             "color": "#2a3f5f"
            },
            "marker": {
             "line": {
              "color": "#E5ECF6",
              "width": 0.5
             },
             "pattern": {
              "fillmode": "overlay",
              "size": 10,
              "solidity": 0.2
             }
            },
            "type": "bar"
           }
          ],
          "barpolar": [
           {
            "marker": {
             "line": {
              "color": "#E5ECF6",
              "width": 0.5
             },
             "pattern": {
              "fillmode": "overlay",
              "size": 10,
              "solidity": 0.2
             }
            },
            "type": "barpolar"
           }
          ],
          "carpet": [
           {
            "aaxis": {
             "endlinecolor": "#2a3f5f",
             "gridcolor": "white",
             "linecolor": "white",
             "minorgridcolor": "white",
             "startlinecolor": "#2a3f5f"
            },
            "baxis": {
             "endlinecolor": "#2a3f5f",
             "gridcolor": "white",
             "linecolor": "white",
             "minorgridcolor": "white",
             "startlinecolor": "#2a3f5f"
            },
            "type": "carpet"
           }
          ],
          "choropleth": [
           {
            "colorbar": {
             "outlinewidth": 0,
             "ticks": ""
            },
            "type": "choropleth"
           }
          ],
          "contour": [
           {
            "colorbar": {
             "outlinewidth": 0,
             "ticks": ""
            },
            "colorscale": [
             [
              0,
              "#0d0887"
             ],
             [
              0.1111111111111111,
              "#46039f"
             ],
             [
              0.2222222222222222,
              "#7201a8"
             ],
             [
              0.3333333333333333,
              "#9c179e"
             ],
             [
              0.4444444444444444,
              "#bd3786"
             ],
             [
              0.5555555555555556,
              "#d8576b"
             ],
             [
              0.6666666666666666,
              "#ed7953"
             ],
             [
              0.7777777777777778,
              "#fb9f3a"
             ],
             [
              0.8888888888888888,
              "#fdca26"
             ],
             [
              1,
              "#f0f921"
             ]
            ],
            "type": "contour"
           }
          ],
          "contourcarpet": [
           {
            "colorbar": {
             "outlinewidth": 0,
             "ticks": ""
            },
            "type": "contourcarpet"
           }
          ],
          "heatmap": [
           {
            "colorbar": {
             "outlinewidth": 0,
             "ticks": ""
            },
            "colorscale": [
             [
              0,
              "#0d0887"
             ],
             [
              0.1111111111111111,
              "#46039f"
             ],
             [
              0.2222222222222222,
              "#7201a8"
             ],
             [
              0.3333333333333333,
              "#9c179e"
             ],
             [
              0.4444444444444444,
              "#bd3786"
             ],
             [
              0.5555555555555556,
              "#d8576b"
             ],
             [
              0.6666666666666666,
              "#ed7953"
             ],
             [
              0.7777777777777778,
              "#fb9f3a"
             ],
             [
              0.8888888888888888,
              "#fdca26"
             ],
             [
              1,
              "#f0f921"
             ]
            ],
            "type": "heatmap"
           }
          ],
          "heatmapgl": [
           {
            "colorbar": {
             "outlinewidth": 0,
             "ticks": ""
            },
            "colorscale": [
             [
              0,
              "#0d0887"
             ],
             [
              0.1111111111111111,
              "#46039f"
             ],
             [
              0.2222222222222222,
              "#7201a8"
             ],
             [
              0.3333333333333333,
              "#9c179e"
             ],
             [
              0.4444444444444444,
              "#bd3786"
             ],
             [
              0.5555555555555556,
              "#d8576b"
             ],
             [
              0.6666666666666666,
              "#ed7953"
             ],
             [
              0.7777777777777778,
              "#fb9f3a"
             ],
             [
              0.8888888888888888,
              "#fdca26"
             ],
             [
              1,
              "#f0f921"
             ]
            ],
            "type": "heatmapgl"
           }
          ],
          "histogram": [
           {
            "marker": {
             "pattern": {
              "fillmode": "overlay",
              "size": 10,
              "solidity": 0.2
             }
            },
            "type": "histogram"
           }
          ],
          "histogram2d": [
           {
            "colorbar": {
             "outlinewidth": 0,
             "ticks": ""
            },
            "colorscale": [
             [
              0,
              "#0d0887"
             ],
             [
              0.1111111111111111,
              "#46039f"
             ],
             [
              0.2222222222222222,
              "#7201a8"
             ],
             [
              0.3333333333333333,
              "#9c179e"
             ],
             [
              0.4444444444444444,
              "#bd3786"
             ],
             [
              0.5555555555555556,
              "#d8576b"
             ],
             [
              0.6666666666666666,
              "#ed7953"
             ],
             [
              0.7777777777777778,
              "#fb9f3a"
             ],
             [
              0.8888888888888888,
              "#fdca26"
             ],
             [
              1,
              "#f0f921"
             ]
            ],
            "type": "histogram2d"
           }
          ],
          "histogram2dcontour": [
           {
            "colorbar": {
             "outlinewidth": 0,
             "ticks": ""
            },
            "colorscale": [
             [
              0,
              "#0d0887"
             ],
             [
              0.1111111111111111,
              "#46039f"
             ],
             [
              0.2222222222222222,
              "#7201a8"
             ],
             [
              0.3333333333333333,
              "#9c179e"
             ],
             [
              0.4444444444444444,
              "#bd3786"
             ],
             [
              0.5555555555555556,
              "#d8576b"
             ],
             [
              0.6666666666666666,
              "#ed7953"
             ],
             [
              0.7777777777777778,
              "#fb9f3a"
             ],
             [
              0.8888888888888888,
              "#fdca26"
             ],
             [
              1,
              "#f0f921"
             ]
            ],
            "type": "histogram2dcontour"
           }
          ],
          "mesh3d": [
           {
            "colorbar": {
             "outlinewidth": 0,
             "ticks": ""
            },
            "type": "mesh3d"
           }
          ],
          "parcoords": [
           {
            "line": {
             "colorbar": {
              "outlinewidth": 0,
              "ticks": ""
             }
            },
            "type": "parcoords"
           }
          ],
          "pie": [
           {
            "automargin": true,
            "type": "pie"
           }
          ],
          "scatter": [
           {
            "fillpattern": {
             "fillmode": "overlay",
             "size": 10,
             "solidity": 0.2
            },
            "type": "scatter"
           }
          ],
          "scatter3d": [
           {
            "line": {
             "colorbar": {
              "outlinewidth": 0,
              "ticks": ""
             }
            },
            "marker": {
             "colorbar": {
              "outlinewidth": 0,
              "ticks": ""
             }
            },
            "type": "scatter3d"
           }
          ],
          "scattercarpet": [
           {
            "marker": {
             "colorbar": {
              "outlinewidth": 0,
              "ticks": ""
             }
            },
            "type": "scattercarpet"
           }
          ],
          "scattergeo": [
           {
            "marker": {
             "colorbar": {
              "outlinewidth": 0,
              "ticks": ""
             }
            },
            "type": "scattergeo"
           }
          ],
          "scattergl": [
           {
            "marker": {
             "colorbar": {
              "outlinewidth": 0,
              "ticks": ""
             }
            },
            "type": "scattergl"
           }
          ],
          "scattermapbox": [
           {
            "marker": {
             "colorbar": {
              "outlinewidth": 0,
              "ticks": ""
             }
            },
            "type": "scattermapbox"
           }
          ],
          "scatterpolar": [
           {
            "marker": {
             "colorbar": {
              "outlinewidth": 0,
              "ticks": ""
             }
            },
            "type": "scatterpolar"
           }
          ],
          "scatterpolargl": [
           {
            "marker": {
             "colorbar": {
              "outlinewidth": 0,
              "ticks": ""
             }
            },
            "type": "scatterpolargl"
           }
          ],
          "scatterternary": [
           {
            "marker": {
             "colorbar": {
              "outlinewidth": 0,
              "ticks": ""
             }
            },
            "type": "scatterternary"
           }
          ],
          "surface": [
           {
            "colorbar": {
             "outlinewidth": 0,
             "ticks": ""
            },
            "colorscale": [
             [
              0,
              "#0d0887"
             ],
             [
              0.1111111111111111,
              "#46039f"
             ],
             [
              0.2222222222222222,
              "#7201a8"
             ],
             [
              0.3333333333333333,
              "#9c179e"
             ],
             [
              0.4444444444444444,
              "#bd3786"
             ],
             [
              0.5555555555555556,
              "#d8576b"
             ],
             [
              0.6666666666666666,
              "#ed7953"
             ],
             [
              0.7777777777777778,
              "#fb9f3a"
             ],
             [
              0.8888888888888888,
              "#fdca26"
             ],
             [
              1,
              "#f0f921"
             ]
            ],
            "type": "surface"
           }
          ],
          "table": [
           {
            "cells": {
             "fill": {
              "color": "#EBF0F8"
             },
             "line": {
              "color": "white"
             }
            },
            "header": {
             "fill": {
              "color": "#C8D4E3"
             },
             "line": {
              "color": "white"
             }
            },
            "type": "table"
           }
          ]
         },
         "layout": {
          "annotationdefaults": {
           "arrowcolor": "#2a3f5f",
           "arrowhead": 0,
           "arrowwidth": 1
          },
          "autotypenumbers": "strict",
          "coloraxis": {
           "colorbar": {
            "outlinewidth": 0,
            "ticks": ""
           }
          },
          "colorscale": {
           "diverging": [
            [
             0,
             "#8e0152"
            ],
            [
             0.1,
             "#c51b7d"
            ],
            [
             0.2,
             "#de77ae"
            ],
            [
             0.3,
             "#f1b6da"
            ],
            [
             0.4,
             "#fde0ef"
            ],
            [
             0.5,
             "#f7f7f7"
            ],
            [
             0.6,
             "#e6f5d0"
            ],
            [
             0.7,
             "#b8e186"
            ],
            [
             0.8,
             "#7fbc41"
            ],
            [
             0.9,
             "#4d9221"
            ],
            [
             1,
             "#276419"
            ]
           ],
           "sequential": [
            [
             0,
             "#0d0887"
            ],
            [
             0.1111111111111111,
             "#46039f"
            ],
            [
             0.2222222222222222,
             "#7201a8"
            ],
            [
             0.3333333333333333,
             "#9c179e"
            ],
            [
             0.4444444444444444,
             "#bd3786"
            ],
            [
             0.5555555555555556,
             "#d8576b"
            ],
            [
             0.6666666666666666,
             "#ed7953"
            ],
            [
             0.7777777777777778,
             "#fb9f3a"
            ],
            [
             0.8888888888888888,
             "#fdca26"
            ],
            [
             1,
             "#f0f921"
            ]
           ],
           "sequentialminus": [
            [
             0,
             "#0d0887"
            ],
            [
             0.1111111111111111,
             "#46039f"
            ],
            [
             0.2222222222222222,
             "#7201a8"
            ],
            [
             0.3333333333333333,
             "#9c179e"
            ],
            [
             0.4444444444444444,
             "#bd3786"
            ],
            [
             0.5555555555555556,
             "#d8576b"
            ],
            [
             0.6666666666666666,
             "#ed7953"
            ],
            [
             0.7777777777777778,
             "#fb9f3a"
            ],
            [
             0.8888888888888888,
             "#fdca26"
            ],
            [
             1,
             "#f0f921"
            ]
           ]
          },
          "colorway": [
           "#636efa",
           "#EF553B",
           "#00cc96",
           "#ab63fa",
           "#FFA15A",
           "#19d3f3",
           "#FF6692",
           "#B6E880",
           "#FF97FF",
           "#FECB52"
          ],
          "font": {
           "color": "#2a3f5f"
          },
          "geo": {
           "bgcolor": "white",
           "lakecolor": "white",
           "landcolor": "#E5ECF6",
           "showlakes": true,
           "showland": true,
           "subunitcolor": "white"
          },
          "hoverlabel": {
           "align": "left"
          },
          "hovermode": "closest",
          "mapbox": {
           "style": "light"
          },
          "paper_bgcolor": "white",
          "plot_bgcolor": "#E5ECF6",
          "polar": {
           "angularaxis": {
            "gridcolor": "white",
            "linecolor": "white",
            "ticks": ""
           },
           "bgcolor": "#E5ECF6",
           "radialaxis": {
            "gridcolor": "white",
            "linecolor": "white",
            "ticks": ""
           }
          },
          "scene": {
           "xaxis": {
            "backgroundcolor": "#E5ECF6",
            "gridcolor": "white",
            "gridwidth": 2,
            "linecolor": "white",
            "showbackground": true,
            "ticks": "",
            "zerolinecolor": "white"
           },
           "yaxis": {
            "backgroundcolor": "#E5ECF6",
            "gridcolor": "white",
            "gridwidth": 2,
            "linecolor": "white",
            "showbackground": true,
            "ticks": "",
            "zerolinecolor": "white"
           },
           "zaxis": {
            "backgroundcolor": "#E5ECF6",
            "gridcolor": "white",
            "gridwidth": 2,
            "linecolor": "white",
            "showbackground": true,
            "ticks": "",
            "zerolinecolor": "white"
           }
          },
          "shapedefaults": {
           "line": {
            "color": "#2a3f5f"
           }
          },
          "ternary": {
           "aaxis": {
            "gridcolor": "white",
            "linecolor": "white",
            "ticks": ""
           },
           "baxis": {
            "gridcolor": "white",
            "linecolor": "white",
            "ticks": ""
           },
           "bgcolor": "#E5ECF6",
           "caxis": {
            "gridcolor": "white",
            "linecolor": "white",
            "ticks": ""
           }
          },
          "title": {
           "x": 0.05
          },
          "xaxis": {
           "automargin": true,
           "gridcolor": "white",
           "linecolor": "white",
           "ticks": "",
           "title": {
            "standoff": 15
           },
           "zerolinecolor": "white",
           "zerolinewidth": 2
          },
          "yaxis": {
           "automargin": true,
           "gridcolor": "white",
           "linecolor": "white",
           "ticks": "",
           "title": {
            "standoff": 15
           },
           "zerolinecolor": "white",
           "zerolinewidth": 2
          }
         }
        },
        "xaxis": {
         "anchor": "y",
         "domain": [
          0,
          1
         ],
         "title": {
          "text": "CAUSE.CATEGORY"
         }
        },
        "yaxis": {
         "anchor": "x",
         "domain": [
          0,
          1
         ],
         "title": {
          "text": "value"
         }
        }
       }
      }
     },
     "metadata": {},
     "output_type": "display_data"
    }
   ],
   "source": [
    "df_cause = df_dropped[['CAUSE.CATEGORY', 'CAUSE.CATEGORY.DETAIL']]\n",
    "df_cause = pd.get_dummies(df_cause, columns=['CAUSE.CATEGORY.DETAIL'], dummy_na=True, prefix='CAUSE.CATEGORY.DETAIL')\n",
    "df_cause.groupby('CAUSE.CATEGORY').agg('sum').plot(kind='bar')\n",
    "#df_cause"
   ]
  },
  {
   "cell_type": "code",
   "execution_count": 24,
   "metadata": {},
   "outputs": [
    {
     "data": {
      "text/html": [
       "<div>\n",
       "<style scoped>\n",
       "    .dataframe tbody tr th:only-of-type {\n",
       "        vertical-align: middle;\n",
       "    }\n",
       "\n",
       "    .dataframe tbody tr th {\n",
       "        vertical-align: top;\n",
       "    }\n",
       "\n",
       "    .dataframe thead th {\n",
       "        text-align: right;\n",
       "    }\n",
       "</style>\n",
       "<table border=\"1\" class=\"dataframe\">\n",
       "  <thead>\n",
       "    <tr style=\"text-align: right;\">\n",
       "      <th></th>\n",
       "      <th>CAUSE.CATEGORY</th>\n",
       "      <th>CAUSE.CATEGORY.DETAIL_ Coal</th>\n",
       "      <th>CAUSE.CATEGORY.DETAIL_ Hydro</th>\n",
       "      <th>CAUSE.CATEGORY.DETAIL_ Natural Gas</th>\n",
       "      <th>CAUSE.CATEGORY.DETAIL_100 MW loadshed</th>\n",
       "      <th>CAUSE.CATEGORY.DETAIL_Coal</th>\n",
       "      <th>CAUSE.CATEGORY.DETAIL_HVSubstation interruption</th>\n",
       "      <th>CAUSE.CATEGORY.DETAIL_Hydro</th>\n",
       "      <th>CAUSE.CATEGORY.DETAIL_Petroleum</th>\n",
       "      <th>CAUSE.CATEGORY.DETAIL_breaker trip</th>\n",
       "      <th>...</th>\n",
       "      <th>CAUSE.CATEGORY.DETAIL_uncontrolled loss</th>\n",
       "      <th>CAUSE.CATEGORY.DETAIL_vandalism</th>\n",
       "      <th>CAUSE.CATEGORY.DETAIL_voltage reduction</th>\n",
       "      <th>CAUSE.CATEGORY.DETAIL_wildfire</th>\n",
       "      <th>CAUSE.CATEGORY.DETAIL_wind</th>\n",
       "      <th>CAUSE.CATEGORY.DETAIL_wind storm</th>\n",
       "      <th>CAUSE.CATEGORY.DETAIL_wind/rain</th>\n",
       "      <th>CAUSE.CATEGORY.DETAIL_winter</th>\n",
       "      <th>CAUSE.CATEGORY.DETAIL_winter storm</th>\n",
       "      <th>CAUSE.CATEGORY.DETAIL_nan</th>\n",
       "    </tr>\n",
       "  </thead>\n",
       "  <tbody>\n",
       "    <tr>\n",
       "      <th>0</th>\n",
       "      <td>severe weather</td>\n",
       "      <td>0</td>\n",
       "      <td>0</td>\n",
       "      <td>0</td>\n",
       "      <td>0</td>\n",
       "      <td>0</td>\n",
       "      <td>0</td>\n",
       "      <td>0</td>\n",
       "      <td>0</td>\n",
       "      <td>0</td>\n",
       "      <td>...</td>\n",
       "      <td>0</td>\n",
       "      <td>0</td>\n",
       "      <td>0</td>\n",
       "      <td>0</td>\n",
       "      <td>0</td>\n",
       "      <td>0</td>\n",
       "      <td>0</td>\n",
       "      <td>0</td>\n",
       "      <td>0</td>\n",
       "      <td>1</td>\n",
       "    </tr>\n",
       "    <tr>\n",
       "      <th>1</th>\n",
       "      <td>intentional attack</td>\n",
       "      <td>0</td>\n",
       "      <td>0</td>\n",
       "      <td>0</td>\n",
       "      <td>0</td>\n",
       "      <td>0</td>\n",
       "      <td>0</td>\n",
       "      <td>0</td>\n",
       "      <td>0</td>\n",
       "      <td>0</td>\n",
       "      <td>...</td>\n",
       "      <td>0</td>\n",
       "      <td>1</td>\n",
       "      <td>0</td>\n",
       "      <td>0</td>\n",
       "      <td>0</td>\n",
       "      <td>0</td>\n",
       "      <td>0</td>\n",
       "      <td>0</td>\n",
       "      <td>0</td>\n",
       "      <td>0</td>\n",
       "    </tr>\n",
       "    <tr>\n",
       "      <th>2</th>\n",
       "      <td>severe weather</td>\n",
       "      <td>0</td>\n",
       "      <td>0</td>\n",
       "      <td>0</td>\n",
       "      <td>0</td>\n",
       "      <td>0</td>\n",
       "      <td>0</td>\n",
       "      <td>0</td>\n",
       "      <td>0</td>\n",
       "      <td>0</td>\n",
       "      <td>...</td>\n",
       "      <td>0</td>\n",
       "      <td>0</td>\n",
       "      <td>0</td>\n",
       "      <td>0</td>\n",
       "      <td>0</td>\n",
       "      <td>0</td>\n",
       "      <td>0</td>\n",
       "      <td>0</td>\n",
       "      <td>0</td>\n",
       "      <td>0</td>\n",
       "    </tr>\n",
       "    <tr>\n",
       "      <th>3</th>\n",
       "      <td>severe weather</td>\n",
       "      <td>0</td>\n",
       "      <td>0</td>\n",
       "      <td>0</td>\n",
       "      <td>0</td>\n",
       "      <td>0</td>\n",
       "      <td>0</td>\n",
       "      <td>0</td>\n",
       "      <td>0</td>\n",
       "      <td>0</td>\n",
       "      <td>...</td>\n",
       "      <td>0</td>\n",
       "      <td>0</td>\n",
       "      <td>0</td>\n",
       "      <td>0</td>\n",
       "      <td>0</td>\n",
       "      <td>0</td>\n",
       "      <td>0</td>\n",
       "      <td>0</td>\n",
       "      <td>0</td>\n",
       "      <td>0</td>\n",
       "    </tr>\n",
       "    <tr>\n",
       "      <th>4</th>\n",
       "      <td>severe weather</td>\n",
       "      <td>0</td>\n",
       "      <td>0</td>\n",
       "      <td>0</td>\n",
       "      <td>0</td>\n",
       "      <td>0</td>\n",
       "      <td>0</td>\n",
       "      <td>0</td>\n",
       "      <td>0</td>\n",
       "      <td>0</td>\n",
       "      <td>...</td>\n",
       "      <td>0</td>\n",
       "      <td>0</td>\n",
       "      <td>0</td>\n",
       "      <td>0</td>\n",
       "      <td>0</td>\n",
       "      <td>0</td>\n",
       "      <td>0</td>\n",
       "      <td>0</td>\n",
       "      <td>0</td>\n",
       "      <td>1</td>\n",
       "    </tr>\n",
       "    <tr>\n",
       "      <th>...</th>\n",
       "      <td>...</td>\n",
       "      <td>...</td>\n",
       "      <td>...</td>\n",
       "      <td>...</td>\n",
       "      <td>...</td>\n",
       "      <td>...</td>\n",
       "      <td>...</td>\n",
       "      <td>...</td>\n",
       "      <td>...</td>\n",
       "      <td>...</td>\n",
       "      <td>...</td>\n",
       "      <td>...</td>\n",
       "      <td>...</td>\n",
       "      <td>...</td>\n",
       "      <td>...</td>\n",
       "      <td>...</td>\n",
       "      <td>...</td>\n",
       "      <td>...</td>\n",
       "      <td>...</td>\n",
       "      <td>...</td>\n",
       "      <td>...</td>\n",
       "    </tr>\n",
       "    <tr>\n",
       "      <th>1471</th>\n",
       "      <td>intentional attack</td>\n",
       "      <td>0</td>\n",
       "      <td>0</td>\n",
       "      <td>0</td>\n",
       "      <td>0</td>\n",
       "      <td>0</td>\n",
       "      <td>0</td>\n",
       "      <td>0</td>\n",
       "      <td>0</td>\n",
       "      <td>0</td>\n",
       "      <td>...</td>\n",
       "      <td>0</td>\n",
       "      <td>0</td>\n",
       "      <td>0</td>\n",
       "      <td>0</td>\n",
       "      <td>0</td>\n",
       "      <td>0</td>\n",
       "      <td>0</td>\n",
       "      <td>0</td>\n",
       "      <td>0</td>\n",
       "      <td>0</td>\n",
       "    </tr>\n",
       "    <tr>\n",
       "      <th>1472</th>\n",
       "      <td>system operability disruption</td>\n",
       "      <td>0</td>\n",
       "      <td>0</td>\n",
       "      <td>0</td>\n",
       "      <td>0</td>\n",
       "      <td>0</td>\n",
       "      <td>0</td>\n",
       "      <td>0</td>\n",
       "      <td>0</td>\n",
       "      <td>0</td>\n",
       "      <td>...</td>\n",
       "      <td>1</td>\n",
       "      <td>0</td>\n",
       "      <td>0</td>\n",
       "      <td>0</td>\n",
       "      <td>0</td>\n",
       "      <td>0</td>\n",
       "      <td>0</td>\n",
       "      <td>0</td>\n",
       "      <td>0</td>\n",
       "      <td>0</td>\n",
       "    </tr>\n",
       "    <tr>\n",
       "      <th>1473</th>\n",
       "      <td>public appeal</td>\n",
       "      <td>0</td>\n",
       "      <td>0</td>\n",
       "      <td>0</td>\n",
       "      <td>0</td>\n",
       "      <td>0</td>\n",
       "      <td>0</td>\n",
       "      <td>0</td>\n",
       "      <td>0</td>\n",
       "      <td>0</td>\n",
       "      <td>...</td>\n",
       "      <td>0</td>\n",
       "      <td>0</td>\n",
       "      <td>0</td>\n",
       "      <td>0</td>\n",
       "      <td>0</td>\n",
       "      <td>0</td>\n",
       "      <td>0</td>\n",
       "      <td>0</td>\n",
       "      <td>0</td>\n",
       "      <td>1</td>\n",
       "    </tr>\n",
       "    <tr>\n",
       "      <th>1474</th>\n",
       "      <td>islanding</td>\n",
       "      <td>0</td>\n",
       "      <td>0</td>\n",
       "      <td>0</td>\n",
       "      <td>0</td>\n",
       "      <td>0</td>\n",
       "      <td>0</td>\n",
       "      <td>0</td>\n",
       "      <td>0</td>\n",
       "      <td>0</td>\n",
       "      <td>...</td>\n",
       "      <td>0</td>\n",
       "      <td>0</td>\n",
       "      <td>0</td>\n",
       "      <td>0</td>\n",
       "      <td>0</td>\n",
       "      <td>0</td>\n",
       "      <td>0</td>\n",
       "      <td>0</td>\n",
       "      <td>0</td>\n",
       "      <td>1</td>\n",
       "    </tr>\n",
       "    <tr>\n",
       "      <th>1475</th>\n",
       "      <td>islanding</td>\n",
       "      <td>0</td>\n",
       "      <td>0</td>\n",
       "      <td>0</td>\n",
       "      <td>0</td>\n",
       "      <td>0</td>\n",
       "      <td>0</td>\n",
       "      <td>0</td>\n",
       "      <td>0</td>\n",
       "      <td>0</td>\n",
       "      <td>...</td>\n",
       "      <td>0</td>\n",
       "      <td>0</td>\n",
       "      <td>0</td>\n",
       "      <td>0</td>\n",
       "      <td>0</td>\n",
       "      <td>0</td>\n",
       "      <td>0</td>\n",
       "      <td>0</td>\n",
       "      <td>0</td>\n",
       "      <td>1</td>\n",
       "    </tr>\n",
       "  </tbody>\n",
       "</table>\n",
       "<p>1476 rows × 53 columns</p>\n",
       "</div>"
      ],
      "text/plain": [
       "                     CAUSE.CATEGORY  CAUSE.CATEGORY.DETAIL_ Coal  \\\n",
       "0                    severe weather                            0   \n",
       "1                intentional attack                            0   \n",
       "2                    severe weather                            0   \n",
       "3                    severe weather                            0   \n",
       "4                    severe weather                            0   \n",
       "...                             ...                          ...   \n",
       "1471             intentional attack                            0   \n",
       "1472  system operability disruption                            0   \n",
       "1473                  public appeal                            0   \n",
       "1474                      islanding                            0   \n",
       "1475                      islanding                            0   \n",
       "\n",
       "      CAUSE.CATEGORY.DETAIL_ Hydro  CAUSE.CATEGORY.DETAIL_ Natural Gas  \\\n",
       "0                                0                                   0   \n",
       "1                                0                                   0   \n",
       "2                                0                                   0   \n",
       "3                                0                                   0   \n",
       "4                                0                                   0   \n",
       "...                            ...                                 ...   \n",
       "1471                             0                                   0   \n",
       "1472                             0                                   0   \n",
       "1473                             0                                   0   \n",
       "1474                             0                                   0   \n",
       "1475                             0                                   0   \n",
       "\n",
       "      CAUSE.CATEGORY.DETAIL_100 MW loadshed  CAUSE.CATEGORY.DETAIL_Coal  \\\n",
       "0                                         0                           0   \n",
       "1                                         0                           0   \n",
       "2                                         0                           0   \n",
       "3                                         0                           0   \n",
       "4                                         0                           0   \n",
       "...                                     ...                         ...   \n",
       "1471                                      0                           0   \n",
       "1472                                      0                           0   \n",
       "1473                                      0                           0   \n",
       "1474                                      0                           0   \n",
       "1475                                      0                           0   \n",
       "\n",
       "      CAUSE.CATEGORY.DETAIL_HVSubstation interruption  \\\n",
       "0                                                   0   \n",
       "1                                                   0   \n",
       "2                                                   0   \n",
       "3                                                   0   \n",
       "4                                                   0   \n",
       "...                                               ...   \n",
       "1471                                                0   \n",
       "1472                                                0   \n",
       "1473                                                0   \n",
       "1474                                                0   \n",
       "1475                                                0   \n",
       "\n",
       "      CAUSE.CATEGORY.DETAIL_Hydro  CAUSE.CATEGORY.DETAIL_Petroleum  \\\n",
       "0                               0                                0   \n",
       "1                               0                                0   \n",
       "2                               0                                0   \n",
       "3                               0                                0   \n",
       "4                               0                                0   \n",
       "...                           ...                              ...   \n",
       "1471                            0                                0   \n",
       "1472                            0                                0   \n",
       "1473                            0                                0   \n",
       "1474                            0                                0   \n",
       "1475                            0                                0   \n",
       "\n",
       "      CAUSE.CATEGORY.DETAIL_breaker trip  ...  \\\n",
       "0                                      0  ...   \n",
       "1                                      0  ...   \n",
       "2                                      0  ...   \n",
       "3                                      0  ...   \n",
       "4                                      0  ...   \n",
       "...                                  ...  ...   \n",
       "1471                                   0  ...   \n",
       "1472                                   0  ...   \n",
       "1473                                   0  ...   \n",
       "1474                                   0  ...   \n",
       "1475                                   0  ...   \n",
       "\n",
       "      CAUSE.CATEGORY.DETAIL_uncontrolled loss  \\\n",
       "0                                           0   \n",
       "1                                           0   \n",
       "2                                           0   \n",
       "3                                           0   \n",
       "4                                           0   \n",
       "...                                       ...   \n",
       "1471                                        0   \n",
       "1472                                        1   \n",
       "1473                                        0   \n",
       "1474                                        0   \n",
       "1475                                        0   \n",
       "\n",
       "      CAUSE.CATEGORY.DETAIL_vandalism  \\\n",
       "0                                   0   \n",
       "1                                   1   \n",
       "2                                   0   \n",
       "3                                   0   \n",
       "4                                   0   \n",
       "...                               ...   \n",
       "1471                                0   \n",
       "1472                                0   \n",
       "1473                                0   \n",
       "1474                                0   \n",
       "1475                                0   \n",
       "\n",
       "      CAUSE.CATEGORY.DETAIL_voltage reduction  CAUSE.CATEGORY.DETAIL_wildfire  \\\n",
       "0                                           0                               0   \n",
       "1                                           0                               0   \n",
       "2                                           0                               0   \n",
       "3                                           0                               0   \n",
       "4                                           0                               0   \n",
       "...                                       ...                             ...   \n",
       "1471                                        0                               0   \n",
       "1472                                        0                               0   \n",
       "1473                                        0                               0   \n",
       "1474                                        0                               0   \n",
       "1475                                        0                               0   \n",
       "\n",
       "      CAUSE.CATEGORY.DETAIL_wind  CAUSE.CATEGORY.DETAIL_wind storm  \\\n",
       "0                              0                                 0   \n",
       "1                              0                                 0   \n",
       "2                              0                                 0   \n",
       "3                              0                                 0   \n",
       "4                              0                                 0   \n",
       "...                          ...                               ...   \n",
       "1471                           0                                 0   \n",
       "1472                           0                                 0   \n",
       "1473                           0                                 0   \n",
       "1474                           0                                 0   \n",
       "1475                           0                                 0   \n",
       "\n",
       "      CAUSE.CATEGORY.DETAIL_wind/rain  CAUSE.CATEGORY.DETAIL_winter  \\\n",
       "0                                   0                             0   \n",
       "1                                   0                             0   \n",
       "2                                   0                             0   \n",
       "3                                   0                             0   \n",
       "4                                   0                             0   \n",
       "...                               ...                           ...   \n",
       "1471                                0                             0   \n",
       "1472                                0                             0   \n",
       "1473                                0                             0   \n",
       "1474                                0                             0   \n",
       "1475                                0                             0   \n",
       "\n",
       "      CAUSE.CATEGORY.DETAIL_winter storm  CAUSE.CATEGORY.DETAIL_nan  \n",
       "0                                      0                          1  \n",
       "1                                      0                          0  \n",
       "2                                      0                          0  \n",
       "3                                      0                          0  \n",
       "4                                      0                          1  \n",
       "...                                  ...                        ...  \n",
       "1471                                   0                          0  \n",
       "1472                                   0                          0  \n",
       "1473                                   0                          1  \n",
       "1474                                   0                          1  \n",
       "1475                                   0                          1  \n",
       "\n",
       "[1476 rows x 53 columns]"
      ]
     },
     "execution_count": 24,
     "metadata": {},
     "output_type": "execute_result"
    }
   ],
   "source": [
    "df_cause.reset_index().drop(columns='OBS')#.sum(axis=0)"
   ]
  },
  {
   "cell_type": "markdown",
   "metadata": {},
   "source": [
    "# Assessment of Missingness"
   ]
  },
  {
   "cell_type": "code",
   "execution_count": 25,
   "metadata": {
    "ExecuteTime": {
     "end_time": "2019-10-31T23:36:28.662099Z",
     "start_time": "2019-10-31T23:36:28.660016Z"
    }
   },
   "outputs": [],
   "source": [
    "# TODO"
   ]
  },
  {
   "cell_type": "markdown",
   "metadata": {},
   "source": [
    "# Hypothesis Testing"
   ]
  },
  {
   "cell_type": "code",
   "execution_count": 26,
   "metadata": {
    "ExecuteTime": {
     "end_time": "2019-10-31T23:36:28.666489Z",
     "start_time": "2019-10-31T23:36:28.664381Z"
    }
   },
   "outputs": [],
   "source": [
    "# TODO"
   ]
  },
  {
   "cell_type": "markdown",
   "metadata": {},
   "source": [
    "Null Hypothesis ($H_0$): There is a correlation between the two variables.\n",
    "\n",
    "Alternative Hypothesis ($H_A$): There is no correlation between the two variables."
   ]
  },
  {
   "cell_type": "code",
   "execution_count": 27,
   "metadata": {},
   "outputs": [
    {
     "data": {
      "image/png": "[encoded data removed]",
      "text/plain": [
       "<Figure size 640x480 with 1 Axes>"
      ]
     },
     "metadata": {},
     "output_type": "display_data"
    },
    {
     "name": "stdout",
     "output_type": "stream",
     "text": [
      "some values are not shown on the graph in order to see more details where the bulk of the data is\n"
     ]
    }
   ],
   "source": [
    "plt.scatter(df['OUTAGE.DURATION'], df['CUSTOMERS.AFFECTED'], s=5)\n",
    "plt.xlim(0, 25000)\n",
    "plt.ylim(0, 1000000)\n",
    "plt.show()\n",
    "print('some values are not shown on the graph in order to see more details where the bulk of the data is')"
   ]
  },
  {
   "cell_type": "code",
   "execution_count": 28,
   "metadata": {},
   "outputs": [
    {
     "data": {
      "text/html": [
       "<div>\n",
       "<style scoped>\n",
       "    .dataframe tbody tr th:only-of-type {\n",
       "        vertical-align: middle;\n",
       "    }\n",
       "\n",
       "    .dataframe tbody tr th {\n",
       "        vertical-align: top;\n",
       "    }\n",
       "\n",
       "    .dataframe thead th {\n",
       "        text-align: right;\n",
       "    }\n",
       "</style>\n",
       "<table border=\"1\" class=\"dataframe\">\n",
       "  <thead>\n",
       "    <tr style=\"text-align: right;\">\n",
       "      <th></th>\n",
       "      <th>OUTAGE.DURATION</th>\n",
       "      <th>CUSTOMERS.AFFECTED</th>\n",
       "    </tr>\n",
       "    <tr>\n",
       "      <th>OBS</th>\n",
       "      <th></th>\n",
       "      <th></th>\n",
       "    </tr>\n",
       "  </thead>\n",
       "  <tbody>\n",
       "    <tr>\n",
       "      <th>1.0</th>\n",
       "      <td>3060</td>\n",
       "      <td>70000.0</td>\n",
       "    </tr>\n",
       "    <tr>\n",
       "      <th>3.0</th>\n",
       "      <td>3000</td>\n",
       "      <td>70000.0</td>\n",
       "    </tr>\n",
       "    <tr>\n",
       "      <th>4.0</th>\n",
       "      <td>2550</td>\n",
       "      <td>68200.0</td>\n",
       "    </tr>\n",
       "    <tr>\n",
       "      <th>5.0</th>\n",
       "      <td>1740</td>\n",
       "      <td>250000.0</td>\n",
       "    </tr>\n",
       "    <tr>\n",
       "      <th>6.0</th>\n",
       "      <td>1860</td>\n",
       "      <td>60000.0</td>\n",
       "    </tr>\n",
       "    <tr>\n",
       "      <th>...</th>\n",
       "      <td>...</td>\n",
       "      <td>...</td>\n",
       "    </tr>\n",
       "    <tr>\n",
       "      <th>1523.0</th>\n",
       "      <td>95</td>\n",
       "      <td>35000.0</td>\n",
       "    </tr>\n",
       "    <tr>\n",
       "      <th>1524.0</th>\n",
       "      <td>360</td>\n",
       "      <td>0.0</td>\n",
       "    </tr>\n",
       "    <tr>\n",
       "      <th>1525.0</th>\n",
       "      <td>1548</td>\n",
       "      <td>0.0</td>\n",
       "    </tr>\n",
       "    <tr>\n",
       "      <th>1527.0</th>\n",
       "      <td>0</td>\n",
       "      <td>0.0</td>\n",
       "    </tr>\n",
       "    <tr>\n",
       "      <th>1530.0</th>\n",
       "      <td>720</td>\n",
       "      <td>34500.0</td>\n",
       "    </tr>\n",
       "  </tbody>\n",
       "</table>\n",
       "<p>1056 rows × 2 columns</p>\n",
       "</div>"
      ],
      "text/plain": [
       "       OUTAGE.DURATION  CUSTOMERS.AFFECTED\n",
       "OBS                                       \n",
       "1.0               3060             70000.0\n",
       "3.0               3000             70000.0\n",
       "4.0               2550             68200.0\n",
       "5.0               1740            250000.0\n",
       "6.0               1860             60000.0\n",
       "...                ...                 ...\n",
       "1523.0              95             35000.0\n",
       "1524.0             360                 0.0\n",
       "1525.0            1548                 0.0\n",
       "1527.0               0                 0.0\n",
       "1530.0             720             34500.0\n",
       "\n",
       "[1056 rows x 2 columns]"
      ]
     },
     "execution_count": 28,
     "metadata": {},
     "output_type": "execute_result"
    }
   ],
   "source": [
    "df_hypothesis = df[['OUTAGE.DURATION', 'CUSTOMERS.AFFECTED']].dropna()\n",
    "df_hypothesis"
   ]
  },
  {
   "cell_type": "code",
   "execution_count": 29,
   "metadata": {},
   "outputs": [
    {
     "data": {
      "text/plain": [
       "PearsonRResult(statistic=0.2619155954835712, pvalue=5.03140871848003e-18)"
      ]
     },
     "execution_count": 29,
     "metadata": {},
     "output_type": "execute_result"
    }
   ],
   "source": [
    "scipy.stats.pearsonr(df_hypothesis['OUTAGE.DURATION'], df_hypothesis['CUSTOMERS.AFFECTED'])\n",
    "#p_value, correlation"
   ]
  },
  {
   "cell_type": "code",
   "execution_count": 30,
   "metadata": {},
   "outputs": [
    {
     "data": {
      "text/html": [
       "<div>\n",
       "<style scoped>\n",
       "    .dataframe tbody tr th:only-of-type {\n",
       "        vertical-align: middle;\n",
       "    }\n",
       "\n",
       "    .dataframe tbody tr th {\n",
       "        vertical-align: top;\n",
       "    }\n",
       "\n",
       "    .dataframe thead th {\n",
       "        text-align: right;\n",
       "    }\n",
       "</style>\n",
       "<table border=\"1\" class=\"dataframe\">\n",
       "  <thead>\n",
       "    <tr style=\"text-align: right;\">\n",
       "      <th></th>\n",
       "      <th>OUTAGE.DURATION</th>\n",
       "      <th>CUSTOMERS.AFFECTED</th>\n",
       "    </tr>\n",
       "    <tr>\n",
       "      <th>OBS</th>\n",
       "      <th></th>\n",
       "      <th></th>\n",
       "    </tr>\n",
       "  </thead>\n",
       "  <tbody>\n",
       "    <tr>\n",
       "      <th>1.0</th>\n",
       "      <td>3060</td>\n",
       "      <td>211000.0</td>\n",
       "    </tr>\n",
       "    <tr>\n",
       "      <th>3.0</th>\n",
       "      <td>3000</td>\n",
       "      <td>65000.0</td>\n",
       "    </tr>\n",
       "    <tr>\n",
       "      <th>4.0</th>\n",
       "      <td>2550</td>\n",
       "      <td>375000.0</td>\n",
       "    </tr>\n",
       "    <tr>\n",
       "      <th>5.0</th>\n",
       "      <td>1740</td>\n",
       "      <td>82621.0</td>\n",
       "    </tr>\n",
       "    <tr>\n",
       "      <th>6.0</th>\n",
       "      <td>1860</td>\n",
       "      <td>0.0</td>\n",
       "    </tr>\n",
       "    <tr>\n",
       "      <th>...</th>\n",
       "      <td>...</td>\n",
       "      <td>...</td>\n",
       "    </tr>\n",
       "    <tr>\n",
       "      <th>1523.0</th>\n",
       "      <td>95</td>\n",
       "      <td>78000.0</td>\n",
       "    </tr>\n",
       "    <tr>\n",
       "      <th>1524.0</th>\n",
       "      <td>360</td>\n",
       "      <td>127545.0</td>\n",
       "    </tr>\n",
       "    <tr>\n",
       "      <th>1525.0</th>\n",
       "      <td>1548</td>\n",
       "      <td>7600.0</td>\n",
       "    </tr>\n",
       "    <tr>\n",
       "      <th>1527.0</th>\n",
       "      <td>0</td>\n",
       "      <td>263000.0</td>\n",
       "    </tr>\n",
       "    <tr>\n",
       "      <th>1530.0</th>\n",
       "      <td>720</td>\n",
       "      <td>0.0</td>\n",
       "    </tr>\n",
       "  </tbody>\n",
       "</table>\n",
       "<p>1056 rows × 2 columns</p>\n",
       "</div>"
      ],
      "text/plain": [
       "       OUTAGE.DURATION  CUSTOMERS.AFFECTED\n",
       "OBS                                       \n",
       "1.0               3060            211000.0\n",
       "3.0               3000             65000.0\n",
       "4.0               2550            375000.0\n",
       "5.0               1740             82621.0\n",
       "6.0               1860                 0.0\n",
       "...                ...                 ...\n",
       "1523.0              95             78000.0\n",
       "1524.0             360            127545.0\n",
       "1525.0            1548              7600.0\n",
       "1527.0               0            263000.0\n",
       "1530.0             720                 0.0\n",
       "\n",
       "[1056 rows x 2 columns]"
      ]
     },
     "execution_count": 30,
     "metadata": {},
     "output_type": "execute_result"
    }
   ],
   "source": [
    "df_copy = df_hypothesis.copy()\n",
    "df_copy['CUSTOMERS.AFFECTED'] = np.random.permutation(df_copy['CUSTOMERS.AFFECTED'])\n",
    "df_copy"
   ]
  },
  {
   "cell_type": "code",
   "execution_count": 31,
   "metadata": {},
   "outputs": [
    {
     "data": {
      "image/png": "[encoded data removed]",
      "text/plain": [
       "<Figure size 640x480 with 1 Axes>"
      ]
     },
     "metadata": {},
     "output_type": "display_data"
    }
   ],
   "source": [
    "plt.scatter(df_copy['OUTAGE.DURATION'], df_copy['CUSTOMERS.AFFECTED'], s=5)\n",
    "plt.xlim(0, 25000)\n",
    "plt.ylim(0, 1000000)\n",
    "plt.show()"
   ]
  },
  {
   "cell_type": "code",
   "execution_count": 61,
   "metadata": {},
   "outputs": [
    {
     "data": {
      "text/plain": [
       "Index(['YEAR', 'MONTH', 'ANOMALY.LEVEL', 'OUTAGE.START.DATE',\n",
       "       'OUTAGE.RESTORATION.DATE', 'OUTAGE.DURATION', 'DEMAND.LOSS.MW',\n",
       "       'CUSTOMERS.AFFECTED', 'RES.PRICE', 'COM.PRICE', 'IND.PRICE',\n",
       "       'TOTAL.PRICE', 'RES.SALES', 'COM.SALES', 'IND.SALES', 'TOTAL.SALES',\n",
       "       'RES.PERCEN', 'COM.PERCEN', 'IND.PERCEN', 'RES.CUSTOMERS',\n",
       "       'COM.CUSTOMERS', 'IND.CUSTOMERS', 'TOTAL.CUSTOMERS', 'RES.CUST.PCT',\n",
       "       'COM.CUST.PCT', 'IND.CUST.PCT', 'PC.REALGSP.STATE', 'PC.REALGSP.USA',\n",
       "       'PC.REALGSP.REL', 'PC.REALGSP.CHANGE', 'UTIL.REALGSP', 'TOTAL.REALGSP',\n",
       "       'UTIL.CONTRI', 'PI.UTIL.OFUSA', 'POPULATION', 'POPPCT_URBAN',\n",
       "       'POPPCT_UC', 'POPDEN_URBAN', 'POPDEN_UC', 'POPDEN_RURAL',\n",
       "       'AREAPCT_URBAN', 'AREAPCT_UC', 'PCT_LAND', 'PCT_WATER_TOT',\n",
       "       'PCT_WATER_INLAND', 'SQUARE.MILES.AFFECTED'],\n",
       "      dtype='object')"
      ]
     },
     "execution_count": 61,
     "metadata": {},
     "output_type": "execute_result"
    }
   ],
   "source": [
    "df = df.apply(pd.to_numeric, errors='ignore')\n",
    "numeric_df = df.select_dtypes(include='number')\n",
    "numeric_df.columns"
   ]
  },
  {
   "cell_type": "code",
   "execution_count": 35,
   "metadata": {},
   "outputs": [
    {
     "data": {
      "text/html": [
       "<div>\n",
       "<style scoped>\n",
       "    .dataframe tbody tr th:only-of-type {\n",
       "        vertical-align: middle;\n",
       "    }\n",
       "\n",
       "    .dataframe tbody tr th {\n",
       "        vertical-align: top;\n",
       "    }\n",
       "\n",
       "    .dataframe thead th {\n",
       "        text-align: right;\n",
       "    }\n",
       "</style>\n",
       "<table border=\"1\" class=\"dataframe\">\n",
       "  <thead>\n",
       "    <tr style=\"text-align: right;\">\n",
       "      <th></th>\n",
       "      <th>YEAR</th>\n",
       "      <th>MONTH</th>\n",
       "      <th>U.S._STATE</th>\n",
       "      <th>POSTAL.CODE</th>\n",
       "      <th>NERC.REGION</th>\n",
       "      <th>CLIMATE.REGION</th>\n",
       "      <th>ANOMALY.LEVEL</th>\n",
       "      <th>CLIMATE.CATEGORY</th>\n",
       "      <th>OUTAGE.START.DATE</th>\n",
       "      <th>OUTAGE.START.TIME</th>\n",
       "      <th>...</th>\n",
       "      <th>POPPCT_UC</th>\n",
       "      <th>POPDEN_URBAN</th>\n",
       "      <th>POPDEN_UC</th>\n",
       "      <th>POPDEN_RURAL</th>\n",
       "      <th>AREAPCT_URBAN</th>\n",
       "      <th>AREAPCT_UC</th>\n",
       "      <th>PCT_LAND</th>\n",
       "      <th>PCT_WATER_TOT</th>\n",
       "      <th>PCT_WATER_INLAND</th>\n",
       "      <th>SQUARE.MILES.AFFECTED</th>\n",
       "    </tr>\n",
       "    <tr>\n",
       "      <th>OBS</th>\n",
       "      <th></th>\n",
       "      <th></th>\n",
       "      <th></th>\n",
       "      <th></th>\n",
       "      <th></th>\n",
       "      <th></th>\n",
       "      <th></th>\n",
       "      <th></th>\n",
       "      <th></th>\n",
       "      <th></th>\n",
       "      <th></th>\n",
       "      <th></th>\n",
       "      <th></th>\n",
       "      <th></th>\n",
       "      <th></th>\n",
       "      <th></th>\n",
       "      <th></th>\n",
       "      <th></th>\n",
       "      <th></th>\n",
       "      <th></th>\n",
       "      <th></th>\n",
       "    </tr>\n",
       "  </thead>\n",
       "  <tbody>\n",
       "    <tr>\n",
       "      <th>1.0</th>\n",
       "      <td>2011.0</td>\n",
       "      <td>7.0</td>\n",
       "      <td>Minnesota</td>\n",
       "      <td>MN</td>\n",
       "      <td>MRO</td>\n",
       "      <td>East North Central</td>\n",
       "      <td>-0.3</td>\n",
       "      <td>normal</td>\n",
       "      <td>2011-07-01</td>\n",
       "      <td>17:00:00</td>\n",
       "      <td>...</td>\n",
       "      <td>15.28</td>\n",
       "      <td>2279.0</td>\n",
       "      <td>1700.5</td>\n",
       "      <td>18.2</td>\n",
       "      <td>2.14</td>\n",
       "      <td>0.60</td>\n",
       "      <td>91.592666</td>\n",
       "      <td>8.407334</td>\n",
       "      <td>5.478743</td>\n",
       "      <td>41.164363</td>\n",
       "    </tr>\n",
       "    <tr>\n",
       "      <th>2.0</th>\n",
       "      <td>2014.0</td>\n",
       "      <td>5.0</td>\n",
       "      <td>Minnesota</td>\n",
       "      <td>MN</td>\n",
       "      <td>MRO</td>\n",
       "      <td>East North Central</td>\n",
       "      <td>-0.1</td>\n",
       "      <td>normal</td>\n",
       "      <td>2014-05-11</td>\n",
       "      <td>18:38:00</td>\n",
       "      <td>...</td>\n",
       "      <td>15.28</td>\n",
       "      <td>2279.0</td>\n",
       "      <td>1700.5</td>\n",
       "      <td>18.2</td>\n",
       "      <td>2.14</td>\n",
       "      <td>0.60</td>\n",
       "      <td>91.592666</td>\n",
       "      <td>8.407334</td>\n",
       "      <td>5.478743</td>\n",
       "      <td>NaN</td>\n",
       "    </tr>\n",
       "    <tr>\n",
       "      <th>3.0</th>\n",
       "      <td>2010.0</td>\n",
       "      <td>10.0</td>\n",
       "      <td>Minnesota</td>\n",
       "      <td>MN</td>\n",
       "      <td>MRO</td>\n",
       "      <td>East North Central</td>\n",
       "      <td>-1.5</td>\n",
       "      <td>cold</td>\n",
       "      <td>2010-10-26</td>\n",
       "      <td>20:00:00</td>\n",
       "      <td>...</td>\n",
       "      <td>15.28</td>\n",
       "      <td>2279.0</td>\n",
       "      <td>1700.5</td>\n",
       "      <td>18.2</td>\n",
       "      <td>2.14</td>\n",
       "      <td>0.60</td>\n",
       "      <td>91.592666</td>\n",
       "      <td>8.407334</td>\n",
       "      <td>5.478743</td>\n",
       "      <td>41.164363</td>\n",
       "    </tr>\n",
       "    <tr>\n",
       "      <th>4.0</th>\n",
       "      <td>2012.0</td>\n",
       "      <td>6.0</td>\n",
       "      <td>Minnesota</td>\n",
       "      <td>MN</td>\n",
       "      <td>MRO</td>\n",
       "      <td>East North Central</td>\n",
       "      <td>-0.1</td>\n",
       "      <td>normal</td>\n",
       "      <td>2012-06-19</td>\n",
       "      <td>04:30:00</td>\n",
       "      <td>...</td>\n",
       "      <td>15.28</td>\n",
       "      <td>2279.0</td>\n",
       "      <td>1700.5</td>\n",
       "      <td>18.2</td>\n",
       "      <td>2.14</td>\n",
       "      <td>0.60</td>\n",
       "      <td>91.592666</td>\n",
       "      <td>8.407334</td>\n",
       "      <td>5.478743</td>\n",
       "      <td>40.105851</td>\n",
       "    </tr>\n",
       "    <tr>\n",
       "      <th>5.0</th>\n",
       "      <td>2015.0</td>\n",
       "      <td>7.0</td>\n",
       "      <td>Minnesota</td>\n",
       "      <td>MN</td>\n",
       "      <td>MRO</td>\n",
       "      <td>East North Central</td>\n",
       "      <td>1.2</td>\n",
       "      <td>warm</td>\n",
       "      <td>2015-07-18</td>\n",
       "      <td>02:00:00</td>\n",
       "      <td>...</td>\n",
       "      <td>15.28</td>\n",
       "      <td>2279.0</td>\n",
       "      <td>1700.5</td>\n",
       "      <td>18.2</td>\n",
       "      <td>2.14</td>\n",
       "      <td>0.60</td>\n",
       "      <td>91.592666</td>\n",
       "      <td>8.407334</td>\n",
       "      <td>5.478743</td>\n",
       "      <td>147.015584</td>\n",
       "    </tr>\n",
       "    <tr>\n",
       "      <th>...</th>\n",
       "      <td>...</td>\n",
       "      <td>...</td>\n",
       "      <td>...</td>\n",
       "      <td>...</td>\n",
       "      <td>...</td>\n",
       "      <td>...</td>\n",
       "      <td>...</td>\n",
       "      <td>...</td>\n",
       "      <td>...</td>\n",
       "      <td>...</td>\n",
       "      <td>...</td>\n",
       "      <td>...</td>\n",
       "      <td>...</td>\n",
       "      <td>...</td>\n",
       "      <td>...</td>\n",
       "      <td>...</td>\n",
       "      <td>...</td>\n",
       "      <td>...</td>\n",
       "      <td>...</td>\n",
       "      <td>...</td>\n",
       "      <td>...</td>\n",
       "    </tr>\n",
       "    <tr>\n",
       "      <th>1530.0</th>\n",
       "      <td>2011.0</td>\n",
       "      <td>12.0</td>\n",
       "      <td>North Dakota</td>\n",
       "      <td>ND</td>\n",
       "      <td>MRO</td>\n",
       "      <td>West North Central</td>\n",
       "      <td>-0.9</td>\n",
       "      <td>cold</td>\n",
       "      <td>2011-12-06</td>\n",
       "      <td>08:00:00</td>\n",
       "      <td>...</td>\n",
       "      <td>19.90</td>\n",
       "      <td>2192.2</td>\n",
       "      <td>1868.2</td>\n",
       "      <td>3.9</td>\n",
       "      <td>0.27</td>\n",
       "      <td>0.10</td>\n",
       "      <td>97.599649</td>\n",
       "      <td>2.401765</td>\n",
       "      <td>2.401765</td>\n",
       "      <td>18.466974</td>\n",
       "    </tr>\n",
       "    <tr>\n",
       "      <th>1531.0</th>\n",
       "      <td>2006.0</td>\n",
       "      <td>NaN</td>\n",
       "      <td>North Dakota</td>\n",
       "      <td>ND</td>\n",
       "      <td>MRO</td>\n",
       "      <td>West North Central</td>\n",
       "      <td>NaN</td>\n",
       "      <td>NaN</td>\n",
       "      <td>NaT</td>\n",
       "      <td>NaN</td>\n",
       "      <td>...</td>\n",
       "      <td>19.90</td>\n",
       "      <td>2192.2</td>\n",
       "      <td>1868.2</td>\n",
       "      <td>3.9</td>\n",
       "      <td>0.27</td>\n",
       "      <td>0.10</td>\n",
       "      <td>97.599649</td>\n",
       "      <td>2.401765</td>\n",
       "      <td>2.401765</td>\n",
       "      <td>NaN</td>\n",
       "    </tr>\n",
       "    <tr>\n",
       "      <th>1532.0</th>\n",
       "      <td>2009.0</td>\n",
       "      <td>8.0</td>\n",
       "      <td>South Dakota</td>\n",
       "      <td>SD</td>\n",
       "      <td>RFC</td>\n",
       "      <td>West North Central</td>\n",
       "      <td>0.5</td>\n",
       "      <td>warm</td>\n",
       "      <td>2009-08-29</td>\n",
       "      <td>22:54:00</td>\n",
       "      <td>...</td>\n",
       "      <td>26.73</td>\n",
       "      <td>2038.3</td>\n",
       "      <td>1905.4</td>\n",
       "      <td>4.7</td>\n",
       "      <td>0.30</td>\n",
       "      <td>0.15</td>\n",
       "      <td>98.307744</td>\n",
       "      <td>1.692256</td>\n",
       "      <td>1.692256</td>\n",
       "      <td>NaN</td>\n",
       "    </tr>\n",
       "    <tr>\n",
       "      <th>1533.0</th>\n",
       "      <td>2009.0</td>\n",
       "      <td>8.0</td>\n",
       "      <td>South Dakota</td>\n",
       "      <td>SD</td>\n",
       "      <td>MRO</td>\n",
       "      <td>West North Central</td>\n",
       "      <td>0.5</td>\n",
       "      <td>warm</td>\n",
       "      <td>2009-08-29</td>\n",
       "      <td>11:00:00</td>\n",
       "      <td>...</td>\n",
       "      <td>26.73</td>\n",
       "      <td>2038.3</td>\n",
       "      <td>1905.4</td>\n",
       "      <td>4.7</td>\n",
       "      <td>0.30</td>\n",
       "      <td>0.15</td>\n",
       "      <td>98.307744</td>\n",
       "      <td>1.692256</td>\n",
       "      <td>1.692256</td>\n",
       "      <td>NaN</td>\n",
       "    </tr>\n",
       "    <tr>\n",
       "      <th>1534.0</th>\n",
       "      <td>2000.0</td>\n",
       "      <td>NaN</td>\n",
       "      <td>Alaska</td>\n",
       "      <td>AK</td>\n",
       "      <td>ASCC</td>\n",
       "      <td>NaN</td>\n",
       "      <td>NaN</td>\n",
       "      <td>NaN</td>\n",
       "      <td>NaT</td>\n",
       "      <td>NaN</td>\n",
       "      <td>...</td>\n",
       "      <td>21.56</td>\n",
       "      <td>1802.6</td>\n",
       "      <td>1276.0</td>\n",
       "      <td>0.4</td>\n",
       "      <td>0.05</td>\n",
       "      <td>0.02</td>\n",
       "      <td>85.761154</td>\n",
       "      <td>14.238846</td>\n",
       "      <td>2.901182</td>\n",
       "      <td>11.185737</td>\n",
       "    </tr>\n",
       "  </tbody>\n",
       "</table>\n",
       "<p>1534 rows × 56 columns</p>\n",
       "</div>"
      ],
      "text/plain": [
       "          YEAR  MONTH    U.S._STATE POSTAL.CODE NERC.REGION  \\\n",
       "OBS                                                           \n",
       "1.0     2011.0    7.0     Minnesota          MN         MRO   \n",
       "2.0     2014.0    5.0     Minnesota          MN         MRO   \n",
       "3.0     2010.0   10.0     Minnesota          MN         MRO   \n",
       "4.0     2012.0    6.0     Minnesota          MN         MRO   \n",
       "5.0     2015.0    7.0     Minnesota          MN         MRO   \n",
       "...        ...    ...           ...         ...         ...   \n",
       "1530.0  2011.0   12.0  North Dakota          ND         MRO   \n",
       "1531.0  2006.0    NaN  North Dakota          ND         MRO   \n",
       "1532.0  2009.0    8.0  South Dakota          SD         RFC   \n",
       "1533.0  2009.0    8.0  South Dakota          SD         MRO   \n",
       "1534.0  2000.0    NaN        Alaska          AK        ASCC   \n",
       "\n",
       "            CLIMATE.REGION  ANOMALY.LEVEL CLIMATE.CATEGORY OUTAGE.START.DATE  \\\n",
       "OBS                                                                            \n",
       "1.0     East North Central           -0.3           normal        2011-07-01   \n",
       "2.0     East North Central           -0.1           normal        2014-05-11   \n",
       "3.0     East North Central           -1.5             cold        2010-10-26   \n",
       "4.0     East North Central           -0.1           normal        2012-06-19   \n",
       "5.0     East North Central            1.2             warm        2015-07-18   \n",
       "...                    ...            ...              ...               ...   \n",
       "1530.0  West North Central           -0.9             cold        2011-12-06   \n",
       "1531.0  West North Central            NaN              NaN               NaT   \n",
       "1532.0  West North Central            0.5             warm        2009-08-29   \n",
       "1533.0  West North Central            0.5             warm        2009-08-29   \n",
       "1534.0                 NaN            NaN              NaN               NaT   \n",
       "\n",
       "       OUTAGE.START.TIME  ... POPPCT_UC POPDEN_URBAN POPDEN_UC POPDEN_RURAL  \\\n",
       "OBS                       ...                                                 \n",
       "1.0             17:00:00  ...     15.28       2279.0    1700.5         18.2   \n",
       "2.0             18:38:00  ...     15.28       2279.0    1700.5         18.2   \n",
       "3.0             20:00:00  ...     15.28       2279.0    1700.5         18.2   \n",
       "4.0             04:30:00  ...     15.28       2279.0    1700.5         18.2   \n",
       "5.0             02:00:00  ...     15.28       2279.0    1700.5         18.2   \n",
       "...                  ...  ...       ...          ...       ...          ...   \n",
       "1530.0          08:00:00  ...     19.90       2192.2    1868.2          3.9   \n",
       "1531.0               NaN  ...     19.90       2192.2    1868.2          3.9   \n",
       "1532.0          22:54:00  ...     26.73       2038.3    1905.4          4.7   \n",
       "1533.0          11:00:00  ...     26.73       2038.3    1905.4          4.7   \n",
       "1534.0               NaN  ...     21.56       1802.6    1276.0          0.4   \n",
       "\n",
       "       AREAPCT_URBAN  AREAPCT_UC   PCT_LAND  PCT_WATER_TOT  PCT_WATER_INLAND  \\\n",
       "OBS                                                                            \n",
       "1.0             2.14        0.60  91.592666       8.407334          5.478743   \n",
       "2.0             2.14        0.60  91.592666       8.407334          5.478743   \n",
       "3.0             2.14        0.60  91.592666       8.407334          5.478743   \n",
       "4.0             2.14        0.60  91.592666       8.407334          5.478743   \n",
       "5.0             2.14        0.60  91.592666       8.407334          5.478743   \n",
       "...              ...         ...        ...            ...               ...   \n",
       "1530.0          0.27        0.10  97.599649       2.401765          2.401765   \n",
       "1531.0          0.27        0.10  97.599649       2.401765          2.401765   \n",
       "1532.0          0.30        0.15  98.307744       1.692256          1.692256   \n",
       "1533.0          0.30        0.15  98.307744       1.692256          1.692256   \n",
       "1534.0          0.05        0.02  85.761154      14.238846          2.901182   \n",
       "\n",
       "        SQUARE.MILES.AFFECTED  \n",
       "OBS                            \n",
       "1.0                 41.164363  \n",
       "2.0                       NaN  \n",
       "3.0                 41.164363  \n",
       "4.0                 40.105851  \n",
       "5.0                147.015584  \n",
       "...                       ...  \n",
       "1530.0              18.466974  \n",
       "1531.0                    NaN  \n",
       "1532.0                    NaN  \n",
       "1533.0                    NaN  \n",
       "1534.0              11.185737  \n",
       "\n",
       "[1534 rows x 56 columns]"
      ]
     },
     "execution_count": 35,
     "metadata": {},
     "output_type": "execute_result"
    }
   ],
   "source": [
    "df['SQUARE.MILES.AFFECTED'] = df['CUSTOMERS.AFFECTED']/df['POPDEN_UC']\n",
    "df"
   ]
  },
  {
   "cell_type": "code",
   "execution_count": 70,
   "metadata": {},
   "outputs": [
    {
     "data": {
      "text/html": [
       "<div>\n",
       "<style scoped>\n",
       "    .dataframe tbody tr th:only-of-type {\n",
       "        vertical-align: middle;\n",
       "    }\n",
       "\n",
       "    .dataframe tbody tr th {\n",
       "        vertical-align: top;\n",
       "    }\n",
       "\n",
       "    .dataframe thead th {\n",
       "        text-align: right;\n",
       "    }\n",
       "</style>\n",
       "<table border=\"1\" class=\"dataframe\">\n",
       "  <thead>\n",
       "    <tr style=\"text-align: right;\">\n",
       "      <th></th>\n",
       "      <th>SQUARE.MILES.AFFECTED</th>\n",
       "      <th>OUTAGE.DURATION</th>\n",
       "    </tr>\n",
       "    <tr>\n",
       "      <th>OBS</th>\n",
       "      <th></th>\n",
       "      <th></th>\n",
       "    </tr>\n",
       "  </thead>\n",
       "  <tbody>\n",
       "    <tr>\n",
       "      <th>1.0</th>\n",
       "      <td>41.164363</td>\n",
       "      <td>3060.0</td>\n",
       "    </tr>\n",
       "    <tr>\n",
       "      <th>3.0</th>\n",
       "      <td>41.164363</td>\n",
       "      <td>3000.0</td>\n",
       "    </tr>\n",
       "    <tr>\n",
       "      <th>4.0</th>\n",
       "      <td>40.105851</td>\n",
       "      <td>2550.0</td>\n",
       "    </tr>\n",
       "    <tr>\n",
       "      <th>5.0</th>\n",
       "      <td>147.015584</td>\n",
       "      <td>1740.0</td>\n",
       "    </tr>\n",
       "    <tr>\n",
       "      <th>6.0</th>\n",
       "      <td>35.283740</td>\n",
       "      <td>1860.0</td>\n",
       "    </tr>\n",
       "    <tr>\n",
       "      <th>...</th>\n",
       "      <td>...</td>\n",
       "      <td>...</td>\n",
       "    </tr>\n",
       "    <tr>\n",
       "      <th>1523.0</th>\n",
       "      <td>17.458971</td>\n",
       "      <td>95.0</td>\n",
       "    </tr>\n",
       "    <tr>\n",
       "      <th>1524.0</th>\n",
       "      <td>0.000000</td>\n",
       "      <td>360.0</td>\n",
       "    </tr>\n",
       "    <tr>\n",
       "      <th>1525.0</th>\n",
       "      <td>0.000000</td>\n",
       "      <td>1548.0</td>\n",
       "    </tr>\n",
       "    <tr>\n",
       "      <th>1527.0</th>\n",
       "      <td>0.000000</td>\n",
       "      <td>0.0</td>\n",
       "    </tr>\n",
       "    <tr>\n",
       "      <th>1530.0</th>\n",
       "      <td>18.466974</td>\n",
       "      <td>720.0</td>\n",
       "    </tr>\n",
       "  </tbody>\n",
       "</table>\n",
       "<p>1047 rows × 2 columns</p>\n",
       "</div>"
      ],
      "text/plain": [
       "        SQUARE.MILES.AFFECTED  OUTAGE.DURATION\n",
       "OBS                                           \n",
       "1.0                 41.164363           3060.0\n",
       "3.0                 41.164363           3000.0\n",
       "4.0                 40.105851           2550.0\n",
       "5.0                147.015584           1740.0\n",
       "6.0                 35.283740           1860.0\n",
       "...                       ...              ...\n",
       "1523.0              17.458971             95.0\n",
       "1524.0               0.000000            360.0\n",
       "1525.0               0.000000           1548.0\n",
       "1527.0               0.000000              0.0\n",
       "1530.0              18.466974            720.0\n",
       "\n",
       "[1047 rows x 2 columns]"
      ]
     },
     "execution_count": 70,
     "metadata": {},
     "output_type": "execute_result"
    }
   ],
   "source": [
    "numeric_df = df.select_dtypes(include='number')\n",
    "numeric_df = numeric_df[['SQUARE.MILES.AFFECTED', 'OUTAGE.DURATION']]\n",
    "df_num_drop = numeric_df[['SQUARE.MILES.AFFECTED', 'OUTAGE.DURATION']].dropna()\n",
    "df_num_drop"
   ]
  },
  {
   "cell_type": "code",
   "execution_count": 82,
   "metadata": {},
   "outputs": [
    {
     "data": {
      "image/png": "[encoded data removed]",
      "text/plain": [
       "<Figure size 640x480 with 1 Axes>"
      ]
     },
     "metadata": {},
     "output_type": "display_data"
    }
   ],
   "source": [
    "plt.scatter(df_num_drop['OUTAGE.DURATION'], df_num_drop['SQUARE.MILES.AFFECTED'], s=5)\n",
    "plt.xlim(0, 40000)\n",
    "plt.ylim(0, 500)\n",
    "a, b= np.polyfit(df_num_drop['OUTAGE.DURATION'], df_num_drop['SQUARE.MILES.AFFECTED'], 1)\n",
    "plt.plot(df_num_drop['OUTAGE.DURATION'], a*df_num_drop['OUTAGE.DURATION']+b)\n",
    "plt.show()"
   ]
  },
  {
   "cell_type": "code",
   "execution_count": 72,
   "metadata": {},
   "outputs": [
    {
     "data": {
      "text/html": [
       "<div>\n",
       "<style scoped>\n",
       "    .dataframe tbody tr th:only-of-type {\n",
       "        vertical-align: middle;\n",
       "    }\n",
       "\n",
       "    .dataframe tbody tr th {\n",
       "        vertical-align: top;\n",
       "    }\n",
       "\n",
       "    .dataframe thead th {\n",
       "        text-align: right;\n",
       "    }\n",
       "</style>\n",
       "<table border=\"1\" class=\"dataframe\">\n",
       "  <thead>\n",
       "    <tr style=\"text-align: right;\">\n",
       "      <th></th>\n",
       "      <th>SQUARE.MILES.AFFECTED</th>\n",
       "      <th>OUTAGE.DURATION</th>\n",
       "    </tr>\n",
       "    <tr>\n",
       "      <th>OBS</th>\n",
       "      <th></th>\n",
       "      <th></th>\n",
       "    </tr>\n",
       "  </thead>\n",
       "  <tbody>\n",
       "    <tr>\n",
       "      <th>1.0</th>\n",
       "      <td>41.164363</td>\n",
       "      <td>3060.0</td>\n",
       "    </tr>\n",
       "    <tr>\n",
       "      <th>3.0</th>\n",
       "      <td>41.164363</td>\n",
       "      <td>3000.0</td>\n",
       "    </tr>\n",
       "    <tr>\n",
       "      <th>4.0</th>\n",
       "      <td>40.105851</td>\n",
       "      <td>2550.0</td>\n",
       "    </tr>\n",
       "    <tr>\n",
       "      <th>5.0</th>\n",
       "      <td>147.015584</td>\n",
       "      <td>1740.0</td>\n",
       "    </tr>\n",
       "    <tr>\n",
       "      <th>6.0</th>\n",
       "      <td>35.283740</td>\n",
       "      <td>1860.0</td>\n",
       "    </tr>\n",
       "    <tr>\n",
       "      <th>...</th>\n",
       "      <td>...</td>\n",
       "      <td>...</td>\n",
       "    </tr>\n",
       "    <tr>\n",
       "      <th>1523.0</th>\n",
       "      <td>17.458971</td>\n",
       "      <td>95.0</td>\n",
       "    </tr>\n",
       "    <tr>\n",
       "      <th>1524.0</th>\n",
       "      <td>0.000000</td>\n",
       "      <td>360.0</td>\n",
       "    </tr>\n",
       "    <tr>\n",
       "      <th>1525.0</th>\n",
       "      <td>0.000000</td>\n",
       "      <td>1548.0</td>\n",
       "    </tr>\n",
       "    <tr>\n",
       "      <th>1527.0</th>\n",
       "      <td>0.000000</td>\n",
       "      <td>0.0</td>\n",
       "    </tr>\n",
       "    <tr>\n",
       "      <th>1530.0</th>\n",
       "      <td>18.466974</td>\n",
       "      <td>720.0</td>\n",
       "    </tr>\n",
       "  </tbody>\n",
       "</table>\n",
       "<p>1047 rows × 2 columns</p>\n",
       "</div>"
      ],
      "text/plain": [
       "        SQUARE.MILES.AFFECTED  OUTAGE.DURATION\n",
       "OBS                                           \n",
       "1.0                 41.164363           3060.0\n",
       "3.0                 41.164363           3000.0\n",
       "4.0                 40.105851           2550.0\n",
       "5.0                147.015584           1740.0\n",
       "6.0                 35.283740           1860.0\n",
       "...                       ...              ...\n",
       "1523.0              17.458971             95.0\n",
       "1524.0               0.000000            360.0\n",
       "1525.0               0.000000           1548.0\n",
       "1527.0               0.000000              0.0\n",
       "1530.0              18.466974            720.0\n",
       "\n",
       "[1047 rows x 2 columns]"
      ]
     },
     "execution_count": 72,
     "metadata": {},
     "output_type": "execute_result"
    }
   ],
   "source": [
    "df_num_drop"
   ]
  },
  {
   "cell_type": "code",
   "execution_count": 88,
   "metadata": {},
   "outputs": [],
   "source": [
    "\n",
    "x = df_num_drop['OUTAGE.DURATION']\n",
    "y = df_num_drop['SQUARE.MILES.AFFECTED']\n",
    "observed_correlation, _ = scipy.stats.pearsonr(x, y)\n",
    "\n",
    "# Number of permutations\n",
    "num_permutations = 1000\n",
    "\n",
    "# # Permutation test\n",
    "permuted_correlations = []\n",
    "for i in range(num_permutations):\n",
    "    permuted_y = np.random.permutation(y)\n",
    "    permuted_correlation, _ = scipy.stats.pearsonr(x, permuted_y)\n",
    "    permuted_correlations.append(permuted_correlation)\n",
    "\n",
    "# # Calculate p-value\n",
    "p_value = (np.abs(permuted_correlations) >= np.abs(observed_correlation)).mean()\n",
    "\n",
    "# # Display the p-value\n",
    "# print(f'Permutation Test P-value: {p_value}')"
   ]
  },
  {
   "cell_type": "code",
   "execution_count": 89,
   "metadata": {},
   "outputs": [
    {
     "data": {
      "text/plain": [
       "0.2419610934765804"
      ]
     },
     "execution_count": 89,
     "metadata": {},
     "output_type": "execute_result"
    }
   ],
   "source": [
    "observed_correlation"
   ]
  },
  {
   "cell_type": "code",
   "execution_count": 90,
   "metadata": {},
   "outputs": [
    {
     "data": {
      "text/plain": [
       "0.0"
      ]
     },
     "execution_count": 90,
     "metadata": {},
     "output_type": "execute_result"
    }
   ],
   "source": [
    "p_value"
   ]
  },
  {
   "cell_type": "code",
   "execution_count": 95,
   "metadata": {},
   "outputs": [
    {
     "data": {
      "text/plain": [
       "(array([  1.,   8.,  33.,  79., 119., 156., 157., 143.,  97.,  77.,  45.,\n",
       "         33.,  24.,  10.,   8.,   5.,   2.,   0.,   2.,   1.]),\n",
       " array([-0.07688607, -0.06601681, -0.05514755, -0.04427828, -0.03340902,\n",
       "        -0.02253976, -0.0116705 , -0.00080124,  0.01006802,  0.02093728,\n",
       "         0.03180654,  0.0426758 ,  0.05354506,  0.06441433,  0.07528359,\n",
       "         0.08615285,  0.09702211,  0.10789137,  0.11876063,  0.12962989,\n",
       "         0.14049915]),\n",
       " <BarContainer object of 20 artists>)"
      ]
     },
     "execution_count": 95,
     "metadata": {},
     "output_type": "execute_result"
    },
    {
     "data": {
      "image/png": "[encoded data removed]",
      "text/plain": [
       "<Figure size 640x480 with 1 Axes>"
      ]
     },
     "metadata": {},
     "output_type": "display_data"
    }
   ],
   "source": [
    "plt.hist(permuted_correlations, bins=20)"
   ]
  },
  {
   "cell_type": "code",
   "execution_count": 99,
   "metadata": {},
   "outputs": [
    {
     "data": {
      "application/vnd.plotly.v1+json": {
       "config": {
        "plotlyServerURL": "https://plot.ly"
       },
       "data": [
        {
         "alignmentgroup": "True",
         "bingroup": "x",
         "histnorm": "probability",
         "hovertemplate": "0=%{x}<br>probability=%{y}<extra></extra>",
         "legendgroup": "",
         "marker": {
          "color": "#636efa",
          "pattern": {
           "shape": ""
          }
         },
         "name": "",
         "nbinsx": 50,
         "offsetgroup": "",
         "orientation": "v",
         "showlegend": false,
         "type": "histogram",
         "x": [
          -0.016998733463264908,
          0.0011756655130282213,
          -0.053485462954694536,
          0.005069072290228908,
          -0.03562117389258358,
          -0.03698538820908492,
          0.04486748504879834,
          0.01746352376504533,
          -0.014124692125817809,
          -0.03641088831752655,
          0.01526618912350503,
          0.029067420238686716,
          -0.029907923954849334,
          -0.0006191815064928579,
          0.029763013632130665,
          0.008478121832332784,
          0.0003357855954116369,
          0.04231941736562566,
          -0.020640650261447936,
          -0.027840590141003853,
          -0.0223261213879764,
          -0.04155645003996958,
          -0.007429016524707406,
          0.010836824249552408,
          0.03747354119453977,
          0.008046226871961463,
          -0.02851765529954622,
          -0.02013457143211634,
          0.01139820208279001,
          -0.006987636773654618,
          0.12627426017317958,
          -0.025869392896355134,
          -0.011887815323852037,
          -0.010567213991816551,
          -0.0503225844032112,
          -0.013220501458179606,
          0.042128226048490876,
          0.05527077887601156,
          0.027798894283073406,
          0.031029189125582748,
          0.01991210698449688,
          0.00978605645210294,
          -0.024059290999528974,
          0.00021400830944217868,
          0.0354062856341073,
          -0.010749820623452895,
          0.007305868168930738,
          0.010179841345138083,
          -0.0118768216407772,
          -0.0004584043682801134,
          0.04304814888866292,
          0.01211567275459317,
          -0.032769008409314085,
          0.04514296084974716,
          -0.06592754185986013,
          -0.03317883123780631,
          -0.019760866588944513,
          -0.02505742548996284,
          0.12292977130416347,
          0.025769247424351997,
          -0.004890618821302153,
          0.02889466217608845,
          -0.004116686259302275,
          0.029044500123709772,
          0.1010987852046769,
          0.057753682193190506,
          -0.07688606696039307,
          0.0180900759390859,
          -0.029266684516686917,
          0.012298307868187228,
          -0.0008516522225471986,
          0.020412532750206224,
          0.021930811881991436,
          -0.0071135353012096916,
          0.004144263457231304,
          0.07429386949943093,
          0.00297494248695914,
          0.04110748258588613,
          -0.04097252777910566,
          0.044590423628132564,
          -0.010806867463072288,
          -0.0002947876809141398,
          0.054913951080098354,
          0.019358821654691185,
          0.01842007437765721,
          0.024707173571957702,
          -0.024410211320531314,
          -0.03225528783947452,
          -0.0028726958313328,
          -0.03135877870770756,
          -0.009205307412108428,
          -0.0017221593550001192,
          -0.022214117322234887,
          -0.007450262309781279,
          0.03563402245873154,
          0.016644064823373217,
          -0.011768027484807968,
          -0.003128510690670229,
          0.008072732569777186,
          -0.010902262424150003,
          -0.032797101375837585,
          -0.03526558575940579,
          -0.013392868557825535,
          -0.028892740048799746,
          -0.009030283637145715,
          -0.019247023902052608,
          0.01813481530595482,
          0.04595732757147496,
          -0.012724022804045491,
          0.04304519089182497,
          -0.02511966335487198,
          0.011743227050001116,
          -0.008087805134858794,
          -0.002538065858741985,
          0.029752207185330736,
          -0.014021505738461542,
          -0.010516924619508105,
          -0.023452444037281698,
          -0.023823151937055278,
          -0.010068454254549395,
          -0.038094951983264305,
          0.007858977080264992,
          -0.03386105531875379,
          0.002525935321044484,
          0.0013521009259098063,
          -0.01926241351542324,
          -0.009641017316389274,
          -0.010160282276061458,
          -0.0340829263552957,
          -0.01745341994254654,
          -0.02455916676952504,
          0.006311745322592394,
          -0.015462617745460382,
          0.025004035995864433,
          0.009080386798130976,
          0.03637741511932042,
          -0.0035132931504639137,
          0.070354266084731,
          -0.009208322836253377,
          0.08249243776751314,
          -0.02337267323954685,
          0.008592626591906677,
          -0.027240916550751417,
          -0.0017248334925582468,
          -0.020898883378203496,
          0.058232744752455795,
          0.010422493978041833,
          0.002130284264295234,
          -0.01954866823104646,
          -0.000985550785808754,
          -0.0029590923975563424,
          -0.006014386407229374,
          0.020915710194717586,
          0.02345775767986573,
          0.003287060023788696,
          0.05053123913942557,
          0.0027961417609582394,
          0.02801533891842398,
          -0.033684384920748364,
          0.01771260701636356,
          0.02525216624241619,
          -0.018365454641484653,
          -0.01762774191347411,
          0.019837537523297998,
          0.06380350383976648,
          -0.009988972662881545,
          0.04473992042243417,
          -0.041706501287316206,
          0.0128832274408992,
          -0.02206585066097156,
          0.06161180323665132,
          0.024562550855220862,
          -0.04038637309538845,
          -0.005141579986418983,
          -0.013272736054089159,
          -0.03141790233881415,
          -0.0010819541012372187,
          -0.006997524856111313,
          0.028646615909496884,
          0.0018888272162951435,
          0.047251903276774095,
          -0.0023809121402197588,
          -0.027242508340288813,
          -0.01819918537781153,
          -0.014123551881018197,
          0.0072822506828832305,
          0.011283839225416687,
          0.015033055530392489,
          -0.015531534968843373,
          0.020271581295921787,
          -0.02748715048313625,
          0.052324733489956685,
          0.06678283548028448,
          -0.007321383182622148,
          -0.03595962282173849,
          0.016588669621895816,
          -0.03483374374017215,
          -0.004733462398151562,
          -0.0011750178663899329,
          0.009228650727771428,
          -0.015214996571204854,
          0.026783439487647262,
          0.004709659101625551,
          0.03909693634419423,
          -0.030025431886562398,
          -0.01393072596466767,
          0.14049915253242984,
          -0.00926906476897519,
          -0.0061747139615695315,
          -0.019101584075662602,
          0.01175257645098383,
          0.03669964518924337,
          0.029516120290379855,
          0.000453976338773081,
          0.006695505736964205,
          0.01810091133187119,
          0.07686822346585186,
          -0.04806688255436987,
          0.006179742484386711,
          -0.033755143023463066,
          -0.008753790096679905,
          0.02357622769542611,
          0.011124487802563776,
          -0.04937913473682598,
          -0.02140351319122995,
          -0.02747832413983418,
          0.03028524630871655,
          0.006074579324040625,
          0.02241421841518815,
          0.014591290736443127,
          -0.010456278726563316,
          -0.019423891614827563,
          0.02490438446665882,
          -0.015247595876730708,
          -0.031181890121287237,
          -0.016410107819686975,
          0.05297377473038953,
          -0.04111757632910986,
          -0.01128205269387232,
          -0.004700088830088287,
          0.010381833633758511,
          -0.007241346796376021,
          -0.0389944002569494,
          -0.036105231385834324,
          -0.00196541380985941,
          -0.017958010901062898,
          0.039131661764065434,
          -0.02753042400447579,
          0.021898400694181076,
          0.03647469804455268,
          0.02215751967211864,
          0.057595765984031475,
          -0.02397075784843423,
          0.003419757081212176,
          -0.013195619069427502,
          -0.06445527731159476,
          -0.0026734831862447912,
          -0.024080801918607106,
          -0.02937972225694899,
          0.006510239381936051,
          0.03343020803512563,
          -0.016113584665169427,
          0.0026283693688324335,
          0.01958639462998989,
          0.000941477534714766,
          0.03262213078267773,
          0.02039214990196779,
          -0.0043435653253403195,
          -0.03933625526288331,
          0.009633744657052775,
          -0.005871687313529436,
          0.033323159685185066,
          0.028937451501808847,
          0.017722459561345175,
          -0.03466706098490724,
          0.004589120063384788,
          -0.041839761298274554,
          0.009683313673013911,
          0.06821362632376554,
          0.019756297310232325,
          0.02818877931396383,
          -0.016261805284225387,
          -0.008676747312110131,
          -0.03266867104658636,
          -0.014667892970847649,
          0.0008881358131194186,
          -0.030165187855704743,
          -0.017897483589263574,
          -0.018592209659118227,
          -0.051032185748757175,
          -0.01461046977751531,
          0.008584412294344954,
          -0.0020453949546518106,
          0.005971894623310341,
          -0.018172259027206254,
          0.009387643660048071,
          -0.009956409098645801,
          0.05635903546969278,
          -0.02182913701305068,
          -0.04855198890569402,
          -0.004104866730349226,
          -0.039493277522265335,
          -0.011271674046438971,
          -0.009223522362321393,
          -0.0015890360969170836,
          0.0029642657571404057,
          0.04191147631396368,
          -0.029039202016399326,
          0.007538213039977968,
          -0.046994905159672175,
          -0.047784886065897286,
          0.009936216766997547,
          -0.033308810776900157,
          -0.01796611690188217,
          -0.010144703939625263,
          -0.03766888840993312,
          0.010655617728628176,
          -0.0016531439391385839,
          -0.02146220143318435,
          0.009315390099031196,
          0.0381495246022175,
          -0.03726474658589434,
          0.029261057625357224,
          0.017817900807150934,
          -0.021127516479037864,
          0.005263845965715662,
          -0.03312640670834354,
          -0.030090706121461756,
          0.008482717675254098,
          0.011953474085686408,
          -0.03257481549066288,
          0.00463222532156038,
          -0.046977225362950126,
          0.015933925012571546,
          -0.04539104588279258,
          0.024720811286202366,
          -0.0020247282129753712,
          -0.05071337909292796,
          -0.028876993847322212,
          -0.03750788973359652,
          -0.03052815856759841,
          0.04624363275779926,
          -0.020292299791302416,
          -0.011285976137546153,
          -0.036253958471150816,
          -0.034323247173609774,
          0.003468862417623968,
          -0.010661686181109464,
          -0.05896998231584705,
          -0.01791142977336845,
          0.03725676965529213,
          -0.003628768220774948,
          0.025179437356862976,
          -0.0023651778900469667,
          0.04749126714960435,
          -0.028904963273313714,
          0.024488564107962536,
          0.014370909980791964,
          -0.010912151043220863,
          -0.019239442695759945,
          -0.03289503881849981,
          -0.021656677778660528,
          -0.01191174102846724,
          -0.044373410418091945,
          -0.0030620883605780636,
          0.0201179659975222,
          -0.03570377594173012,
          -0.03267828679125245,
          0.046854243503158734,
          0.009509831442838918,
          -0.0011470728830194797,
          0.07713403797948687,
          0.007037846267166689,
          -0.02124160667702809,
          -0.005678639370647187,
          0.0328387247182922,
          -0.017144787617279486,
          -0.019112919710062192,
          -0.022854948883229594,
          0.03427066704919693,
          -0.0024625415203112302,
          0.002521911229424073,
          -0.0026688714518682934,
          0.008953077352792627,
          -0.031453709607316714,
          -0.020952757938507597,
          -0.01690910185699736,
          -0.01976355738135709,
          -0.0003115229942559273,
          -0.04337605812882938,
          0.02337009031997371,
          0.0012027088526339233,
          0.0295611395452847,
          0.002074266789003015,
          0.01500762946806019,
          -0.04718896567950587,
          -0.020123082350222504,
          0.029984680132616244,
          -0.02835952369015872,
          -0.022596865340241867,
          -0.02876593611362031,
          0.008528028478716141,
          -0.04575041088401336,
          -0.012957970136172257,
          0.08489731225254386,
          -0.009726702571692156,
          -0.013027486484650743,
          0.025764116679136653,
          -0.026988058665873536,
          -0.02833104946132535,
          0.09639407164468315,
          -0.014800491712529359,
          -0.025859735047687,
          0.06303143785412317,
          -0.009028013837182195,
          -0.0025881347488959996,
          0.0026385944000498914,
          -0.005290256352275979,
          -0.018307194320603164,
          -0.005710447663862617,
          -0.010492293303330505,
          1.7222636411571776e-05,
          0.01720801591553497,
          -0.010181131366979816,
          0.005638086795138729,
          -0.0506394571662454,
          0.016121305647154034,
          6.448020073164041e-06,
          -0.03651194659785382,
          0.008973458720694296,
          0.013856536186679301,
          -0.03193846349322654,
          -0.009534176011466028,
          0.08420389262641766,
          -0.03364138980711427,
          -0.013858682480893706,
          0.008918315830564407,
          0.0585380149503483,
          -0.016634109478081454,
          -0.025263084750219215,
          -0.024076327531811468,
          0.043262925840697776,
          -0.033303248754192535,
          0.10553618324614267,
          -0.029417947305728546,
          0.02652104179296604,
          -0.01963674531351719,
          0.013988429049507962,
          0.00531262414939515,
          -0.03061282110742529,
          0.0075593909718448425,
          -0.011446154314841089,
          -0.01972642649446338,
          0.011697076830931345,
          -0.028176415061073184,
          -0.00936461926239241,
          -0.031222663253004768,
          0.019760208889653685,
          0.024214632769013145,
          -0.004334947309193818,
          -0.029897679767979055,
          -0.03653488165874714,
          0.0015638101574977311,
          -0.059447245730150186,
          -0.04519961570500804,
          -0.0160485369639034,
          0.09038223122384696,
          -0.022016559699952438,
          -0.02677936684601946,
          -0.01707323062743435,
          -0.019230588616153396,
          -0.031447906483014404,
          -0.008457485016509973,
          0.0683479224892104,
          0.005643281175104556,
          -0.018857607628524047,
          -0.03016788179294236,
          0.018489054397884085,
          -0.018213864333569484,
          -0.024841083219792656,
          -0.0154169321775279,
          0.00841920712777298,
          -0.004298753698357104,
          -0.003011223198368754,
          0.007248748291958209,
          -0.04733229622479977,
          0.02618911644303693,
          -0.0011270704776274497,
          -0.010849452002763712,
          -0.014497551946498245,
          -0.007157682188739804,
          -0.018129422003713376,
          0.02307816287129704,
          -0.053132548578678176,
          -0.031130233763936248,
          0.005424616637093038,
          -0.007508979183600402,
          -0.019094309356624855,
          0.020722627809953653,
          -0.02024665267892912,
          0.002781230068905056,
          -0.012988623025544464,
          -0.002348648136329654,
          0.010803025107486512,
          0.020055342890946546,
          -0.009010712677253473,
          0.01292736549769139,
          -0.006543526867415646,
          0.047599093358873405,
          -0.013740668027361241,
          -0.034961786156587495,
          0.003369760763762314,
          -0.028257958172698994,
          -0.014506848788098234,
          0.03649042595312333,
          -0.011971624192777777,
          -0.015094224055470867,
          -0.00539778890322867,
          -0.014898001652954723,
          0.023056537061707155,
          -0.03897717714614557,
          -0.028001003776320057,
          0.026012750632885755,
          -0.019676550846971598,
          0.01837830213132801,
          -0.030539624599455667,
          0.005898764706433357,
          0.007377293532872523,
          -0.028580185926823955,
          0.003036460570950193,
          0.024870289525983694,
          0.0334873741414921,
          0.06990415166425286,
          0.015508670268567556,
          -0.026982090731911032,
          -0.010403782466929842,
          0.012437300201878507,
          -0.03963012027121062,
          -0.0070221923552282565,
          -0.00638123383709377,
          0.0001101550548239516,
          0.06709988096288112,
          0.007341405395740273,
          -0.013270795952726216,
          -0.006821893689846569,
          -0.007862819198819253,
          -0.02612977546315985,
          -0.004623115387032736,
          -0.00962692109378766,
          0.01608271981740312,
          0.09112095873827254,
          0.008143883166995384,
          0.015457935294245266,
          -0.03410524122360054,
          -0.04046219804693003,
          -0.050894186325115325,
          0.01289209084290152,
          -0.05275887010428237,
          0.05178123470782545,
          -0.03806294631286988,
          -0.013562478377401667,
          0.013073445373560236,
          0.02183018919604513,
          -0.06158395978113218,
          0.026875589536459608,
          0.02652427003830809,
          -0.01673967802879241,
          0.06305930123309504,
          -0.004513845812494103,
          -0.024325514558217083,
          0.03224210971485489,
          -0.02353565693405975,
          -0.021935626143004785,
          0.005121297966513857,
          0.002216743943687687,
          0.0041783005396395225,
          -0.029562267703855064,
          -0.02313940646826783,
          0.020043092551207963,
          -0.03166997826703671,
          -0.010857055681394955,
          -0.033394292076392,
          -0.027505887194000805,
          0.034632403012727395,
          0.006437494488683218,
          -0.043977532145287976,
          0.05251003514039346,
          0.0600366229741022,
          -0.011874769360603011,
          -0.027984032675436987,
          0.026626163762191377,
          -0.020836242563037496,
          0.01422023466352154,
          0.021322003832594024,
          -0.008765774708832991,
          -0.03921782643422584,
          -0.05492049295018158,
          -0.01839283878035131,
          -0.005484739424042235,
          0.031243497369904068,
          0.010498915222767784,
          -0.008380080353434478,
          -0.02727773808674346,
          -0.029041666780900963,
          0.005438442376979495,
          -0.003894958796025352,
          0.004231682549122446,
          0.0607943225655999,
          0.022958364641504053,
          0.035139655791146265,
          -0.01570839638223061,
          -0.03621610189215663,
          -0.021433718482246317,
          -0.01057688585774651,
          0.0108681288153886,
          -0.06167778020173044,
          -0.019123949595382137,
          0.013541327784653622,
          -0.010347655683626108,
          0.029652051151312527,
          0.013791588128353674,
          0.031158048144458748,
          0.023948591388697676,
          -0.028358194432086828,
          0.020058839023201002,
          -0.005812545564815382,
          -0.01783632687788315,
          -0.002797641533887003,
          -0.025294529775075174,
          -0.018727377529079825,
          0.03791406565605285,
          -0.012803853901063667,
          0.018508956834423235,
          -0.03724448230128676,
          -0.004331913825415807,
          0.006711131012411702,
          -0.016580968293133182,
          -0.014119455674047572,
          -0.02190389662202715,
          -0.02158924871324959,
          0.010104639565778891,
          -0.018940205394333307,
          -0.022656987312238964,
          0.03729759306929674,
          0.0006084952202709847,
          0.011567053138503564,
          0.060635491738308143,
          0.0475992267286555,
          -0.04149353726880113,
          -0.02498293501699327,
          0.032682902725841546,
          0.0027974396859036,
          0.0063604257649699705,
          -0.0024430923933719405,
          -0.026371389441380365,
          -0.03820922068826548,
          -0.04631582085065173,
          -0.002691811317523041,
          -0.011341492270814246,
          0.0480351168274914,
          -0.006935985375323822,
          -0.009021038189066456,
          -0.00861722989385237,
          -0.039852256644009876,
          0.055516820730970376,
          -0.030763659426221793,
          -0.039852375836501,
          0.014659918010504994,
          -0.020759213916404937,
          -0.033174680316299894,
          -0.04396260885542206,
          -0.016952561417564047,
          -0.014200840694535312,
          -0.018314491778428903,
          0.018783003202661533,
          0.04255562194203207,
          -0.012221373870141185,
          0.05905562890116913,
          0.05875767991415548,
          -0.03549083631567078,
          -0.02056862423314463,
          -0.03464992557140262,
          0.050683289974495484,
          -0.02301915830638943,
          0.03266964209305262,
          -0.03229719878338501,
          0.030954353254288643,
          0.0026394525507492795,
          -0.032322443352936124,
          -0.03347888288252094,
          -0.01988928981774769,
          -0.04012316924497604,
          -0.013098260925083986,
          -0.030350413846038763,
          -0.028952980676643685,
          -0.023345815155812046,
          0.019276592810189033,
          0.00039606935415504983,
          -0.0037695515926643927,
          0.025338154701953036,
          0.04712023083643503,
          0.014988360300849872,
          -0.0010892624851191772,
          -0.027973644216576492,
          -0.019957529421933753,
          0.017866643307561325,
          0.019891652122991474,
          -0.012440531840885689,
          -0.027812378818381923,
          0.008266452650806368,
          0.023914644046423843,
          0.04204170513494989,
          -0.025904061597803302,
          0.021962845142025664,
          0.012677528364072373,
          0.052734451301096684,
          -0.006669602508855202,
          0.00488927909946783,
          0.005355679602512443,
          0.05256575715275283,
          0.01455745037054415,
          0.02699965165962812,
          -0.01917128950171853,
          0.0032972151542537474,
          -0.02553126682953736,
          -0.027702545799606043,
          -0.0077955731453497185,
          -0.03302882856042313,
          0.02122771543616767,
          -0.006123618535800527,
          0.04903204061215741,
          -0.03434330977654453,
          -0.018888366925617156,
          0.07119936326738291,
          0.008270655546393158,
          0.00031738267554006947,
          0.004565966102400826,
          0.04876195795145782,
          0.007254158785478697,
          -0.019365070478897923,
          0.03764549127614774,
          -0.03654527091225356,
          0.02865361854402158,
          0.08581057362559943,
          -0.014393334079008764,
          0.046157589805832046,
          -0.0175202186904057,
          0.012139561179871283,
          0.06309262902250258,
          -0.01457130993558733,
          -0.0037834863298759694,
          -0.05349568187771675,
          -0.016010798585187752,
          -0.005161814544014909,
          -0.03922417545561322,
          0.00016811511687841167,
          -0.02275707440840766,
          0.025979823875257924,
          -0.040186146599541374,
          0.028142276264138597,
          0.022380690745347893,
          0.0023239355966664047,
          0.07169639047237719,
          -0.006774560982604264,
          -0.04198498709932142,
          -0.0008335600144674215,
          0.0072625427048238584,
          -0.0399959902514467,
          -0.00942138007299202,
          0.02804612069078981,
          0.028845840516898043,
          0.0008297937999825131,
          -0.03345153397165862,
          0.01713028055787476,
          -0.007259476171463772,
          -0.01845082211210864,
          -0.011315257514351997,
          -0.017543969331649176,
          0.09081677191993366,
          -0.01013589892156076,
          -0.007153978994535395,
          0.0021236335801513174,
          -0.04234401527138128,
          -0.034457217111211774,
          -0.00991712534368414,
          -0.009182316595216976,
          -0.005382056059897624,
          0.01886547328218935,
          -0.039309222647869346,
          0.0036348663491808856,
          -0.013116097511675237,
          0.006098968432676951,
          0.03953424456686814,
          0.00904705322526212,
          0.033030211961947456,
          0.034286845719064256,
          0.018783151537743768,
          -0.014529633951075246,
          0.08498470962903279,
          -0.04820722088510613,
          0.009582352788125584,
          -0.0558095064172862,
          -0.020682393583283328,
          -0.005487623246373203,
          0.0065067600891882005,
          0.05462953727606026,
          -0.044984316979804526,
          0.04947072837992457,
          0.012309516858964475,
          -0.024003501649331863,
          0.012417107270520563,
          0.03853342165618562,
          0.018954502349422718,
          0.0031864954473470384,
          0.04998225755829541,
          -0.002571208488105118,
          0.004157663023454381,
          0.0024005106325282162,
          -0.016747801774739158,
          -0.038230339668783996,
          0.048577381541664626,
          0.0018470394632344614,
          -0.02807557235895451,
          -0.035399786300966816,
          0.012996831762332095,
          0.01258566430941995,
          -0.03169468471051031,
          -0.027561848185775537,
          -0.017717213312832013,
          0.020356920274157746,
          0.002605545621550925,
          -0.03689038927112974,
          0.016729362970044848,
          -0.024971675372694634,
          0.03380619096231145,
          -0.0016621194306944906,
          0.0028008239112290926,
          -0.02304971394223205,
          0.0031014277791712496,
          -0.05518438792443238,
          0.004886875010158842,
          0.0066851989196942034,
          -0.029254692947858076,
          0.023132076598832062,
          0.030776739483096355,
          0.007745188595721405,
          -0.021095189447028873,
          0.0060051188201005416,
          0.000523702896510191,
          0.008487347675921672,
          -0.045672703801941376,
          -0.002522902054154545,
          -0.016864536384439983,
          0.015025229337547186,
          0.030442854618560795,
          0.043862699403129785,
          0.006465899774049779,
          -0.0002145511148498975,
          0.032683193763369034,
          0.02615144173734546,
          0.033213850242007285,
          -0.0025257681476968876,
          0.02158740045746333,
          -0.013634215130979704,
          -0.02765572920698648,
          0.013038950592552518,
          0.058263758537507995,
          0.08163255456080422,
          -0.011840801747171486,
          -0.01774963715698251,
          0.0010586676936094773,
          0.022713260378629765,
          -0.037671133334833254,
          -0.008350324642360865,
          0.0397865826984082,
          -0.0033584020447304207,
          -0.0353267095829714,
          -0.047252710454844075,
          0.0055699613648028685,
          0.0060239078746538504,
          0.0075977797426968535,
          -0.03824865373248511,
          -0.011892332030489693,
          -0.04320513517889209,
          -0.020379573962152293,
          -0.018554907511168735,
          0.07145834997113143,
          -0.03532798718593184,
          -0.03705792674973814,
          0.00014609560570392428,
          -0.04755828644124718,
          -0.008982008360321845,
          -0.04877038725668925,
          0.005656163215035223,
          -0.030724168128253,
          -0.023841398340655563,
          -0.003655906118951775,
          0.05999136544983567,
          -0.009677209468313524,
          0.018021434759118535,
          -0.015472755705088628,
          0.0073422400193457185,
          -0.019521225067989634,
          -0.004702349822995542,
          0.03178873074726454,
          -0.014358871729218728,
          -0.04213380210627946,
          0.004999421024175661,
          -0.025806571294026366,
          0.03882789313222146,
          -0.010105353720360241,
          -0.007397823194569701,
          -0.015479628579800815,
          0.012948082983726196,
          0.02152249876669091,
          -0.007502618005024588,
          -0.0007353147691742301,
          -0.054292877684789055,
          0.03658333305859716,
          0.009009941598790261,
          -0.0160978100028085,
          0.04129264343221323,
          -0.009468119639268191,
          -0.0009357874001327284,
          0.002831411904836292,
          0.006178033324747851,
          -0.013073791349633542,
          0.061195721662974434,
          0.01633142055441963,
          0.042178827785329734,
          -0.044027414027690406,
          0.025245450842924236,
          -0.018418357655358247,
          -0.04384714409758428,
          -0.0030073784528463,
          0.009861832849505429,
          -0.020061803444539804,
          0.0028851668720149956,
          -0.012493020317658577,
          -0.029900782420877316,
          -0.00917275927876542,
          0.03776108785594485,
          0.018769366686723913,
          -0.0042304740376948044,
          0.09257839694051978,
          0.007290906046159172,
          0.056185058044131576,
          -0.014802658520264382,
          0.019786526414202473,
          -0.03022164660107253,
          0.0511068985822642,
          -0.02739346277048712,
          0.0517495769214682,
          -0.022111289661611425,
          -0.04058060328994219,
          -0.03972108951250655,
          0.0034471301154464814,
          -0.02137882329190242,
          -0.05292020178647144,
          -0.04399388797273756,
          -0.0030099997269734495,
          0.01805398922467516,
          -0.019312582325090918,
          0.003732508447812848,
          -0.021737911476174415,
          -0.018258651999678546,
          -0.0022191383266309235,
          -0.03656156441137162,
          -0.016608884191456976,
          0.009279084310388337,
          -0.013324575040358411,
          -0.012372655694898104,
          0.05552736398325012,
          -0.02315146974516107,
          -0.008133281687602089,
          0.026973634369776463,
          0.027063685293115407,
          -0.0010998892646930103,
          -0.02254541613050161,
          0.0005009812117004824,
          0.039437834577148494,
          0.02369368192992709,
          0.02858254209151899,
          -0.002646870468652476,
          0.01825822352783096,
          -0.01083537609814338,
          -0.04523915096380047,
          -0.03190838937592022,
          -0.03652895391751271,
          0.02757139098662463,
          -0.009375469791909312,
          -0.004318754468771904,
          -0.027382556058911,
          0.01886285956057445,
          -0.04332653999553394,
          -0.01963726305308141,
          -0.016720755566069025,
          -0.0290650759501825,
          -0.053694570617418814,
          -0.01754405869922254
         ],
         "xaxis": "x",
         "yaxis": "y"
        }
       ],
       "layout": {
        "annotations": [
         {
          "showarrow": false,
          "text": "<span style=\"color:red\">Observed Pearsons Correlation Coefficiant = 0.24</span>",
          "x": 0.5565105149961349,
          "y": 0.16
         }
        ],
        "barmode": "relative",
        "legend": {
         "tracegroupgap": 0
        },
        "shapes": [
         {
          "line": {
           "color": "red"
          },
          "type": "line",
          "x0": 0.2419610934765804,
          "x1": 0.2419610934765804,
          "xref": "x",
          "y0": 0,
          "y1": 1,
          "yref": "y domain"
         }
        ],
        "template": {
         "data": {
          "bar": [
           {
            "error_x": {
             "color": "#2a3f5f"
            },
            "error_y": {
             "color": "#2a3f5f"
            },
            "marker": {
             "line": {
              "color": "#E5ECF6",
              "width": 0.5
             },
             "pattern": {
              "fillmode": "overlay",
              "size": 10,
              "solidity": 0.2
             }
            },
            "type": "bar"
           }
          ],
          "barpolar": [
           {
            "marker": {
             "line": {
              "color": "#E5ECF6",
              "width": 0.5
             },
             "pattern": {
              "fillmode": "overlay",
              "size": 10,
              "solidity": 0.2
             }
            },
            "type": "barpolar"
           }
          ],
          "carpet": [
           {
            "aaxis": {
             "endlinecolor": "#2a3f5f",
             "gridcolor": "white",
             "linecolor": "white",
             "minorgridcolor": "white",
             "startlinecolor": "#2a3f5f"
            },
            "baxis": {
             "endlinecolor": "#2a3f5f",
             "gridcolor": "white",
             "linecolor": "white",
             "minorgridcolor": "white",
             "startlinecolor": "#2a3f5f"
            },
            "type": "carpet"
           }
          ],
          "choropleth": [
           {
            "colorbar": {
             "outlinewidth": 0,
             "ticks": ""
            },
            "type": "choropleth"
           }
          ],
          "contour": [
           {
            "colorbar": {
             "outlinewidth": 0,
             "ticks": ""
            },
            "colorscale": [
             [
              0,
              "#0d0887"
             ],
             [
              0.1111111111111111,
              "#46039f"
             ],
             [
              0.2222222222222222,
              "#7201a8"
             ],
             [
              0.3333333333333333,
              "#9c179e"
             ],
             [
              0.4444444444444444,
              "#bd3786"
             ],
             [
              0.5555555555555556,
              "#d8576b"
             ],
             [
              0.6666666666666666,
              "#ed7953"
             ],
             [
              0.7777777777777778,
              "#fb9f3a"
             ],
             [
              0.8888888888888888,
              "#fdca26"
             ],
             [
              1,
              "#f0f921"
             ]
            ],
            "type": "contour"
           }
          ],
          "contourcarpet": [
           {
            "colorbar": {
             "outlinewidth": 0,
             "ticks": ""
            },
            "type": "contourcarpet"
           }
          ],
          "heatmap": [
           {
            "colorbar": {
             "outlinewidth": 0,
             "ticks": ""
            },
            "colorscale": [
             [
              0,
              "#0d0887"
             ],
             [
              0.1111111111111111,
              "#46039f"
             ],
             [
              0.2222222222222222,
              "#7201a8"
             ],
             [
              0.3333333333333333,
              "#9c179e"
             ],
             [
              0.4444444444444444,
              "#bd3786"
             ],
             [
              0.5555555555555556,
              "#d8576b"
             ],
             [
              0.6666666666666666,
              "#ed7953"
             ],
             [
              0.7777777777777778,
              "#fb9f3a"
             ],
             [
              0.8888888888888888,
              "#fdca26"
             ],
             [
              1,
              "#f0f921"
             ]
            ],
            "type": "heatmap"
           }
          ],
          "heatmapgl": [
           {
            "colorbar": {
             "outlinewidth": 0,
             "ticks": ""
            },
            "colorscale": [
             [
              0,
              "#0d0887"
             ],
             [
              0.1111111111111111,
              "#46039f"
             ],
             [
              0.2222222222222222,
              "#7201a8"
             ],
             [
              0.3333333333333333,
              "#9c179e"
             ],
             [
              0.4444444444444444,
              "#bd3786"
             ],
             [
              0.5555555555555556,
              "#d8576b"
             ],
             [
              0.6666666666666666,
              "#ed7953"
             ],
             [
              0.7777777777777778,
              "#fb9f3a"
             ],
             [
              0.8888888888888888,
              "#fdca26"
             ],
             [
              1,
              "#f0f921"
             ]
            ],
            "type": "heatmapgl"
           }
          ],
          "histogram": [
           {
            "marker": {
             "pattern": {
              "fillmode": "overlay",
              "size": 10,
              "solidity": 0.2
             }
            },
            "type": "histogram"
           }
          ],
          "histogram2d": [
           {
            "colorbar": {
             "outlinewidth": 0,
             "ticks": ""
            },
            "colorscale": [
             [
              0,
              "#0d0887"
             ],
             [
              0.1111111111111111,
              "#46039f"
             ],
             [
              0.2222222222222222,
              "#7201a8"
             ],
             [
              0.3333333333333333,
              "#9c179e"
             ],
             [
              0.4444444444444444,
              "#bd3786"
             ],
             [
              0.5555555555555556,
              "#d8576b"
             ],
             [
              0.6666666666666666,
              "#ed7953"
             ],
             [
              0.7777777777777778,
              "#fb9f3a"
             ],
             [
              0.8888888888888888,
              "#fdca26"
             ],
             [
              1,
              "#f0f921"
             ]
            ],
            "type": "histogram2d"
           }
          ],
          "histogram2dcontour": [
           {
            "colorbar": {
             "outlinewidth": 0,
             "ticks": ""
            },
            "colorscale": [
             [
              0,
              "#0d0887"
             ],
             [
              0.1111111111111111,
              "#46039f"
             ],
             [
              0.2222222222222222,
              "#7201a8"
             ],
             [
              0.3333333333333333,
              "#9c179e"
             ],
             [
              0.4444444444444444,
              "#bd3786"
             ],
             [
              0.5555555555555556,
              "#d8576b"
             ],
             [
              0.6666666666666666,
              "#ed7953"
             ],
             [
              0.7777777777777778,
              "#fb9f3a"
             ],
             [
              0.8888888888888888,
              "#fdca26"
             ],
             [
              1,
              "#f0f921"
             ]
            ],
            "type": "histogram2dcontour"
           }
          ],
          "mesh3d": [
           {
            "colorbar": {
             "outlinewidth": 0,
             "ticks": ""
            },
            "type": "mesh3d"
           }
          ],
          "parcoords": [
           {
            "line": {
             "colorbar": {
              "outlinewidth": 0,
              "ticks": ""
             }
            },
            "type": "parcoords"
           }
          ],
          "pie": [
           {
            "automargin": true,
            "type": "pie"
           }
          ],
          "scatter": [
           {
            "fillpattern": {
             "fillmode": "overlay",
             "size": 10,
             "solidity": 0.2
            },
            "type": "scatter"
           }
          ],
          "scatter3d": [
           {
            "line": {
             "colorbar": {
              "outlinewidth": 0,
              "ticks": ""
             }
            },
            "marker": {
             "colorbar": {
              "outlinewidth": 0,
              "ticks": ""
             }
            },
            "type": "scatter3d"
           }
          ],
          "scattercarpet": [
           {
            "marker": {
             "colorbar": {
              "outlinewidth": 0,
              "ticks": ""
             }
            },
            "type": "scattercarpet"
           }
          ],
          "scattergeo": [
           {
            "marker": {
             "colorbar": {
              "outlinewidth": 0,
              "ticks": ""
             }
            },
            "type": "scattergeo"
           }
          ],
          "scattergl": [
           {
            "marker": {
             "colorbar": {
              "outlinewidth": 0,
              "ticks": ""
             }
            },
            "type": "scattergl"
           }
          ],
          "scattermapbox": [
           {
            "marker": {
             "colorbar": {
              "outlinewidth": 0,
              "ticks": ""
             }
            },
            "type": "scattermapbox"
           }
          ],
          "scatterpolar": [
           {
            "marker": {
             "colorbar": {
              "outlinewidth": 0,
              "ticks": ""
             }
            },
            "type": "scatterpolar"
           }
          ],
          "scatterpolargl": [
           {
            "marker": {
             "colorbar": {
              "outlinewidth": 0,
              "ticks": ""
             }
            },
            "type": "scatterpolargl"
           }
          ],
          "scatterternary": [
           {
            "marker": {
             "colorbar": {
              "outlinewidth": 0,
              "ticks": ""
             }
            },
            "type": "scatterternary"
           }
          ],
          "surface": [
           {
            "colorbar": {
             "outlinewidth": 0,
             "ticks": ""
            },
            "colorscale": [
             [
              0,
              "#0d0887"
             ],
             [
              0.1111111111111111,
              "#46039f"
             ],
             [
              0.2222222222222222,
              "#7201a8"
             ],
             [
              0.3333333333333333,
              "#9c179e"
             ],
             [
              0.4444444444444444,
              "#bd3786"
             ],
             [
              0.5555555555555556,
              "#d8576b"
             ],
             [
              0.6666666666666666,
              "#ed7953"
             ],
             [
              0.7777777777777778,
              "#fb9f3a"
             ],
             [
              0.8888888888888888,
              "#fdca26"
             ],
             [
              1,
              "#f0f921"
             ]
            ],
            "type": "surface"
           }
          ],
          "table": [
           {
            "cells": {
             "fill": {
              "color": "#EBF0F8"
             },
             "line": {
              "color": "white"
             }
            },
            "header": {
             "fill": {
              "color": "#C8D4E3"
             },
             "line": {
              "color": "white"
             }
            },
            "type": "table"
           }
          ]
         },
         "layout": {
          "annotationdefaults": {
           "arrowcolor": "#2a3f5f",
           "arrowhead": 0,
           "arrowwidth": 1
          },
          "autotypenumbers": "strict",
          "coloraxis": {
           "colorbar": {
            "outlinewidth": 0,
            "ticks": ""
           }
          },
          "colorscale": {
           "diverging": [
            [
             0,
             "#8e0152"
            ],
            [
             0.1,
             "#c51b7d"
            ],
            [
             0.2,
             "#de77ae"
            ],
            [
             0.3,
             "#f1b6da"
            ],
            [
             0.4,
             "#fde0ef"
            ],
            [
             0.5,
             "#f7f7f7"
            ],
            [
             0.6,
             "#e6f5d0"
            ],
            [
             0.7,
             "#b8e186"
            ],
            [
             0.8,
             "#7fbc41"
            ],
            [
             0.9,
             "#4d9221"
            ],
            [
             1,
             "#276419"
            ]
           ],
           "sequential": [
            [
             0,
             "#0d0887"
            ],
            [
             0.1111111111111111,
             "#46039f"
            ],
            [
             0.2222222222222222,
             "#7201a8"
            ],
            [
             0.3333333333333333,
             "#9c179e"
            ],
            [
             0.4444444444444444,
             "#bd3786"
            ],
            [
             0.5555555555555556,
             "#d8576b"
            ],
            [
             0.6666666666666666,
             "#ed7953"
            ],
            [
             0.7777777777777778,
             "#fb9f3a"
            ],
            [
             0.8888888888888888,
             "#fdca26"
            ],
            [
             1,
             "#f0f921"
            ]
           ],
           "sequentialminus": [
            [
             0,
             "#0d0887"
            ],
            [
             0.1111111111111111,
             "#46039f"
            ],
            [
             0.2222222222222222,
             "#7201a8"
            ],
            [
             0.3333333333333333,
             "#9c179e"
            ],
            [
             0.4444444444444444,
             "#bd3786"
            ],
            [
             0.5555555555555556,
             "#d8576b"
            ],
            [
             0.6666666666666666,
             "#ed7953"
            ],
            [
             0.7777777777777778,
             "#fb9f3a"
            ],
            [
             0.8888888888888888,
             "#fdca26"
            ],
            [
             1,
             "#f0f921"
            ]
           ]
          },
          "colorway": [
           "#636efa",
           "#EF553B",
           "#00cc96",
           "#ab63fa",
           "#FFA15A",
           "#19d3f3",
           "#FF6692",
           "#B6E880",
           "#FF97FF",
           "#FECB52"
          ],
          "font": {
           "color": "#2a3f5f"
          },
          "geo": {
           "bgcolor": "white",
           "lakecolor": "white",
           "landcolor": "#E5ECF6",
           "showlakes": true,
           "showland": true,
           "subunitcolor": "white"
          },
          "hoverlabel": {
           "align": "left"
          },
          "hovermode": "closest",
          "mapbox": {
           "style": "light"
          },
          "paper_bgcolor": "white",
          "plot_bgcolor": "#E5ECF6",
          "polar": {
           "angularaxis": {
            "gridcolor": "white",
            "linecolor": "white",
            "ticks": ""
           },
           "bgcolor": "#E5ECF6",
           "radialaxis": {
            "gridcolor": "white",
            "linecolor": "white",
            "ticks": ""
           }
          },
          "scene": {
           "xaxis": {
            "backgroundcolor": "#E5ECF6",
            "gridcolor": "white",
            "gridwidth": 2,
            "linecolor": "white",
            "showbackground": true,
            "ticks": "",
            "zerolinecolor": "white"
           },
           "yaxis": {
            "backgroundcolor": "#E5ECF6",
            "gridcolor": "white",
            "gridwidth": 2,
            "linecolor": "white",
            "showbackground": true,
            "ticks": "",
            "zerolinecolor": "white"
           },
           "zaxis": {
            "backgroundcolor": "#E5ECF6",
            "gridcolor": "white",
            "gridwidth": 2,
            "linecolor": "white",
            "showbackground": true,
            "ticks": "",
            "zerolinecolor": "white"
           }
          },
          "shapedefaults": {
           "line": {
            "color": "#2a3f5f"
           }
          },
          "ternary": {
           "aaxis": {
            "gridcolor": "white",
            "linecolor": "white",
            "ticks": ""
           },
           "baxis": {
            "gridcolor": "white",
            "linecolor": "white",
            "ticks": ""
           },
           "bgcolor": "#E5ECF6",
           "caxis": {
            "gridcolor": "white",
            "linecolor": "white",
            "ticks": ""
           }
          },
          "title": {
           "x": 0.05
          },
          "xaxis": {
           "automargin": true,
           "gridcolor": "white",
           "linecolor": "white",
           "ticks": "",
           "title": {
            "standoff": 15
           },
           "zerolinecolor": "white",
           "zerolinewidth": 2
          },
          "yaxis": {
           "automargin": true,
           "gridcolor": "white",
           "linecolor": "white",
           "ticks": "",
           "title": {
            "standoff": 15
           },
           "zerolinecolor": "white",
           "zerolinewidth": 2
          }
         }
        },
        "title": {
         "text": "Distribution of Pearsons Correlation Coefficiant"
        },
        "xaxis": {
         "anchor": "y",
         "domain": [
          0,
          1
         ],
         "title": {
          "text": "0"
         }
        },
        "yaxis": {
         "anchor": "x",
         "domain": [
          0,
          1
         ],
         "range": [
          0,
          0.1
         ],
         "title": {
          "text": "probability"
         }
        }
       }
      }
     },
     "metadata": {},
     "output_type": "display_data"
    }
   ],
   "source": [
    "fig = px.histogram(pd.DataFrame(permuted_correlations), x=0, nbins=50, histnorm='probability', \n",
    "                   title='Distribution of Pearsons Correlation Coefficiant')\n",
    "fig.add_vline(x=observed_correlation, line_color='red')\n",
    "fig.add_annotation(text=f'<span style=\"color:red\">Observed Pearsons Correlation Coefficiant = {round(observed_correlation, 2)}</span>',\n",
    "                   x=2.3 * observed_correlation, showarrow=False, y=0.16)\n",
    "fig.update_layout(yaxis_range=[0, 0.1])"
   ]
  },
  {
   "cell_type": "code",
   "execution_count": null,
   "metadata": {},
   "outputs": [],
   "source": []
  }
 ],
 "metadata": {
  "kernelspec": {
   "display_name": "Python 3 (ipykernel)",
   "language": "python",
   "name": "python3"
  },
  "language_info": {
   "codemirror_mode": {
    "name": "ipython",
    "version": 3
   },
   "file_extension": ".py",
   "mimetype": "text/x-python",
   "name": "python",
   "nbconvert_exporter": "python",
   "pygments_lexer": "ipython3",
   "version": "3.11.5"
  }
 },
 "nbformat": 4,
 "nbformat_minor": 2
}
