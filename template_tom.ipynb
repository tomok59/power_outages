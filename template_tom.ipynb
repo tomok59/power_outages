{
 "cells": [
  {
   "cell_type": "markdown",
   "metadata": {},
   "source": [
    "# Your Title Here\n",
    "\n",
    "**Name(s)**: (your name(s) here)\n",
    "\n",
    "**Website Link**: (your website link)"
   ]
  },
  {
   "cell_type": "markdown",
   "metadata": {},
   "source": [
    "## Code"
   ]
  },
  {
   "cell_type": "code",
   "execution_count": null,
   "metadata": {},
   "outputs": [],
   "source": []
  },
  {
   "cell_type": "code",
   "execution_count": 2,
   "metadata": {
    "ExecuteTime": {
     "end_time": "2019-10-31T23:36:28.652554Z",
     "start_time": "2019-10-31T23:36:27.180520Z"
    }
   },
   "outputs": [],
   "source": [
    "import pandas as pd\n",
    "import numpy as np\n",
    "import os\n",
    "import folium\n",
    "import requests\n",
    "import matplotlib.pyplot as plt\n",
    "import scipy.stats\n",
    "import seaborn as sns\n",
    "\n",
    "import plotly.express as px\n",
    "pd.options.plotting.backend = 'plotly'"
   ]
  },
  {
   "cell_type": "markdown",
   "metadata": {},
   "source": [
    "### Cleaning and EDA"
   ]
  },
  {
   "cell_type": "code",
   "execution_count": 3,
   "metadata": {
    "ExecuteTime": {
     "end_time": "2019-10-31T23:36:28.657068Z",
     "start_time": "2019-10-31T23:36:28.654650Z"
    }
   },
   "outputs": [
    {
     "data": {
      "text/plain": [
       "Index(['YEAR', 'MONTH', 'U.S._STATE', 'POSTAL.CODE', 'NERC.REGION',\n",
       "       'CLIMATE.REGION', 'ANOMALY.LEVEL', 'CLIMATE.CATEGORY',\n",
       "       'OUTAGE.START.DATE', 'OUTAGE.START.TIME', 'OUTAGE.RESTORATION.DATE',\n",
       "       'OUTAGE.RESTORATION.TIME', 'CAUSE.CATEGORY', 'CAUSE.CATEGORY.DETAIL',\n",
       "       'HURRICANE.NAMES', 'OUTAGE.DURATION', 'DEMAND.LOSS.MW',\n",
       "       'CUSTOMERS.AFFECTED', 'RES.PRICE', 'COM.PRICE', 'IND.PRICE',\n",
       "       'TOTAL.PRICE', 'RES.SALES', 'COM.SALES', 'IND.SALES', 'TOTAL.SALES',\n",
       "       'RES.PERCEN', 'COM.PERCEN', 'IND.PERCEN', 'RES.CUSTOMERS',\n",
       "       'COM.CUSTOMERS', 'IND.CUSTOMERS', 'TOTAL.CUSTOMERS', 'RES.CUST.PCT',\n",
       "       'COM.CUST.PCT', 'IND.CUST.PCT', 'PC.REALGSP.STATE', 'PC.REALGSP.USA',\n",
       "       'PC.REALGSP.REL', 'PC.REALGSP.CHANGE', 'UTIL.REALGSP', 'TOTAL.REALGSP',\n",
       "       'UTIL.CONTRI', 'PI.UTIL.OFUSA', 'POPULATION', 'POPPCT_URBAN',\n",
       "       'POPPCT_UC', 'POPDEN_URBAN', 'POPDEN_UC', 'POPDEN_RURAL',\n",
       "       'AREAPCT_URBAN', 'AREAPCT_UC', 'PCT_LAND', 'PCT_WATER_TOT',\n",
       "       'PCT_WATER_INLAND'],\n",
       "      dtype='object')"
      ]
     },
     "execution_count": 3,
     "metadata": {},
     "output_type": "execute_result"
    }
   ],
   "source": [
    "df = pd.read_excel('outage.xlsx', header=5)\n",
    "df = df.drop([0]).drop(columns='variables').set_index('OBS')\n",
    "df.columns"
   ]
  },
  {
   "cell_type": "code",
   "execution_count": 4,
   "metadata": {},
   "outputs": [
    {
     "data": {
      "text/html": [
       "<div>\n",
       "<style scoped>\n",
       "    .dataframe tbody tr th:only-of-type {\n",
       "        vertical-align: middle;\n",
       "    }\n",
       "\n",
       "    .dataframe tbody tr th {\n",
       "        vertical-align: top;\n",
       "    }\n",
       "\n",
       "    .dataframe thead th {\n",
       "        text-align: right;\n",
       "    }\n",
       "</style>\n",
       "<table border=\"1\" class=\"dataframe\">\n",
       "  <thead>\n",
       "    <tr style=\"text-align: right;\">\n",
       "      <th></th>\n",
       "      <th>YEAR</th>\n",
       "      <th>MONTH</th>\n",
       "      <th>U.S._STATE</th>\n",
       "      <th>POSTAL.CODE</th>\n",
       "      <th>NERC.REGION</th>\n",
       "      <th>CLIMATE.REGION</th>\n",
       "      <th>ANOMALY.LEVEL</th>\n",
       "      <th>CLIMATE.CATEGORY</th>\n",
       "      <th>OUTAGE.START.DATE</th>\n",
       "      <th>OUTAGE.START.TIME</th>\n",
       "      <th>...</th>\n",
       "      <th>POPPCT_URBAN</th>\n",
       "      <th>POPPCT_UC</th>\n",
       "      <th>POPDEN_URBAN</th>\n",
       "      <th>POPDEN_UC</th>\n",
       "      <th>POPDEN_RURAL</th>\n",
       "      <th>AREAPCT_URBAN</th>\n",
       "      <th>AREAPCT_UC</th>\n",
       "      <th>PCT_LAND</th>\n",
       "      <th>PCT_WATER_TOT</th>\n",
       "      <th>PCT_WATER_INLAND</th>\n",
       "    </tr>\n",
       "    <tr>\n",
       "      <th>CAUSE.CATEGORY</th>\n",
       "      <th></th>\n",
       "      <th></th>\n",
       "      <th></th>\n",
       "      <th></th>\n",
       "      <th></th>\n",
       "      <th></th>\n",
       "      <th></th>\n",
       "      <th></th>\n",
       "      <th></th>\n",
       "      <th></th>\n",
       "      <th></th>\n",
       "      <th></th>\n",
       "      <th></th>\n",
       "      <th></th>\n",
       "      <th></th>\n",
       "      <th></th>\n",
       "      <th></th>\n",
       "      <th></th>\n",
       "      <th></th>\n",
       "      <th></th>\n",
       "      <th></th>\n",
       "    </tr>\n",
       "  </thead>\n",
       "  <tbody>\n",
       "    <tr>\n",
       "      <th>equipment failure</th>\n",
       "      <td>60</td>\n",
       "      <td>57</td>\n",
       "      <td>60</td>\n",
       "      <td>60</td>\n",
       "      <td>60</td>\n",
       "      <td>59</td>\n",
       "      <td>57</td>\n",
       "      <td>57</td>\n",
       "      <td>57</td>\n",
       "      <td>57</td>\n",
       "      <td>...</td>\n",
       "      <td>60</td>\n",
       "      <td>60</td>\n",
       "      <td>60</td>\n",
       "      <td>59</td>\n",
       "      <td>59</td>\n",
       "      <td>60</td>\n",
       "      <td>60</td>\n",
       "      <td>60</td>\n",
       "      <td>60</td>\n",
       "      <td>60</td>\n",
       "    </tr>\n",
       "    <tr>\n",
       "      <th>fuel supply emergency</th>\n",
       "      <td>51</td>\n",
       "      <td>50</td>\n",
       "      <td>51</td>\n",
       "      <td>51</td>\n",
       "      <td>51</td>\n",
       "      <td>51</td>\n",
       "      <td>50</td>\n",
       "      <td>50</td>\n",
       "      <td>50</td>\n",
       "      <td>50</td>\n",
       "      <td>...</td>\n",
       "      <td>51</td>\n",
       "      <td>51</td>\n",
       "      <td>51</td>\n",
       "      <td>51</td>\n",
       "      <td>51</td>\n",
       "      <td>51</td>\n",
       "      <td>51</td>\n",
       "      <td>51</td>\n",
       "      <td>51</td>\n",
       "      <td>51</td>\n",
       "    </tr>\n",
       "    <tr>\n",
       "      <th>intentional attack</th>\n",
       "      <td>418</td>\n",
       "      <td>418</td>\n",
       "      <td>418</td>\n",
       "      <td>418</td>\n",
       "      <td>418</td>\n",
       "      <td>418</td>\n",
       "      <td>418</td>\n",
       "      <td>418</td>\n",
       "      <td>418</td>\n",
       "      <td>418</td>\n",
       "      <td>...</td>\n",
       "      <td>418</td>\n",
       "      <td>418</td>\n",
       "      <td>418</td>\n",
       "      <td>418</td>\n",
       "      <td>418</td>\n",
       "      <td>418</td>\n",
       "      <td>418</td>\n",
       "      <td>418</td>\n",
       "      <td>418</td>\n",
       "      <td>418</td>\n",
       "    </tr>\n",
       "    <tr>\n",
       "      <th>islanding</th>\n",
       "      <td>46</td>\n",
       "      <td>46</td>\n",
       "      <td>46</td>\n",
       "      <td>46</td>\n",
       "      <td>46</td>\n",
       "      <td>46</td>\n",
       "      <td>46</td>\n",
       "      <td>46</td>\n",
       "      <td>46</td>\n",
       "      <td>46</td>\n",
       "      <td>...</td>\n",
       "      <td>46</td>\n",
       "      <td>46</td>\n",
       "      <td>46</td>\n",
       "      <td>46</td>\n",
       "      <td>46</td>\n",
       "      <td>46</td>\n",
       "      <td>46</td>\n",
       "      <td>46</td>\n",
       "      <td>46</td>\n",
       "      <td>46</td>\n",
       "    </tr>\n",
       "    <tr>\n",
       "      <th>public appeal</th>\n",
       "      <td>69</td>\n",
       "      <td>69</td>\n",
       "      <td>69</td>\n",
       "      <td>69</td>\n",
       "      <td>69</td>\n",
       "      <td>69</td>\n",
       "      <td>69</td>\n",
       "      <td>69</td>\n",
       "      <td>69</td>\n",
       "      <td>69</td>\n",
       "      <td>...</td>\n",
       "      <td>69</td>\n",
       "      <td>69</td>\n",
       "      <td>69</td>\n",
       "      <td>69</td>\n",
       "      <td>69</td>\n",
       "      <td>69</td>\n",
       "      <td>69</td>\n",
       "      <td>69</td>\n",
       "      <td>69</td>\n",
       "      <td>69</td>\n",
       "    </tr>\n",
       "    <tr>\n",
       "      <th>severe weather</th>\n",
       "      <td>763</td>\n",
       "      <td>759</td>\n",
       "      <td>763</td>\n",
       "      <td>763</td>\n",
       "      <td>763</td>\n",
       "      <td>759</td>\n",
       "      <td>759</td>\n",
       "      <td>759</td>\n",
       "      <td>759</td>\n",
       "      <td>759</td>\n",
       "      <td>...</td>\n",
       "      <td>763</td>\n",
       "      <td>763</td>\n",
       "      <td>763</td>\n",
       "      <td>754</td>\n",
       "      <td>754</td>\n",
       "      <td>763</td>\n",
       "      <td>763</td>\n",
       "      <td>763</td>\n",
       "      <td>763</td>\n",
       "      <td>763</td>\n",
       "    </tr>\n",
       "    <tr>\n",
       "      <th>system operability disruption</th>\n",
       "      <td>127</td>\n",
       "      <td>126</td>\n",
       "      <td>127</td>\n",
       "      <td>127</td>\n",
       "      <td>127</td>\n",
       "      <td>126</td>\n",
       "      <td>126</td>\n",
       "      <td>126</td>\n",
       "      <td>126</td>\n",
       "      <td>126</td>\n",
       "      <td>...</td>\n",
       "      <td>127</td>\n",
       "      <td>127</td>\n",
       "      <td>127</td>\n",
       "      <td>127</td>\n",
       "      <td>127</td>\n",
       "      <td>127</td>\n",
       "      <td>127</td>\n",
       "      <td>127</td>\n",
       "      <td>127</td>\n",
       "      <td>127</td>\n",
       "    </tr>\n",
       "  </tbody>\n",
       "</table>\n",
       "<p>7 rows × 54 columns</p>\n",
       "</div>"
      ],
      "text/plain": [
       "                               YEAR  MONTH  U.S._STATE  POSTAL.CODE  \\\n",
       "CAUSE.CATEGORY                                                        \n",
       "equipment failure                60     57          60           60   \n",
       "fuel supply emergency            51     50          51           51   \n",
       "intentional attack              418    418         418          418   \n",
       "islanding                        46     46          46           46   \n",
       "public appeal                    69     69          69           69   \n",
       "severe weather                  763    759         763          763   \n",
       "system operability disruption   127    126         127          127   \n",
       "\n",
       "                               NERC.REGION  CLIMATE.REGION  ANOMALY.LEVEL  \\\n",
       "CAUSE.CATEGORY                                                              \n",
       "equipment failure                       60              59             57   \n",
       "fuel supply emergency                   51              51             50   \n",
       "intentional attack                     418             418            418   \n",
       "islanding                               46              46             46   \n",
       "public appeal                           69              69             69   \n",
       "severe weather                         763             759            759   \n",
       "system operability disruption          127             126            126   \n",
       "\n",
       "                               CLIMATE.CATEGORY  OUTAGE.START.DATE  \\\n",
       "CAUSE.CATEGORY                                                       \n",
       "equipment failure                            57                 57   \n",
       "fuel supply emergency                        50                 50   \n",
       "intentional attack                          418                418   \n",
       "islanding                                    46                 46   \n",
       "public appeal                                69                 69   \n",
       "severe weather                              759                759   \n",
       "system operability disruption               126                126   \n",
       "\n",
       "                               OUTAGE.START.TIME  ...  POPPCT_URBAN  \\\n",
       "CAUSE.CATEGORY                                    ...                 \n",
       "equipment failure                             57  ...            60   \n",
       "fuel supply emergency                         50  ...            51   \n",
       "intentional attack                           418  ...           418   \n",
       "islanding                                     46  ...            46   \n",
       "public appeal                                 69  ...            69   \n",
       "severe weather                               759  ...           763   \n",
       "system operability disruption                126  ...           127   \n",
       "\n",
       "                               POPPCT_UC  POPDEN_URBAN  POPDEN_UC  \\\n",
       "CAUSE.CATEGORY                                                      \n",
       "equipment failure                     60            60         59   \n",
       "fuel supply emergency                 51            51         51   \n",
       "intentional attack                   418           418        418   \n",
       "islanding                             46            46         46   \n",
       "public appeal                         69            69         69   \n",
       "severe weather                       763           763        754   \n",
       "system operability disruption        127           127        127   \n",
       "\n",
       "                               POPDEN_RURAL  AREAPCT_URBAN  AREAPCT_UC  \\\n",
       "CAUSE.CATEGORY                                                           \n",
       "equipment failure                        59             60          60   \n",
       "fuel supply emergency                    51             51          51   \n",
       "intentional attack                      418            418         418   \n",
       "islanding                                46             46          46   \n",
       "public appeal                            69             69          69   \n",
       "severe weather                          754            763         763   \n",
       "system operability disruption           127            127         127   \n",
       "\n",
       "                               PCT_LAND  PCT_WATER_TOT  PCT_WATER_INLAND  \n",
       "CAUSE.CATEGORY                                                            \n",
       "equipment failure                    60             60                60  \n",
       "fuel supply emergency                51             51                51  \n",
       "intentional attack                  418            418               418  \n",
       "islanding                            46             46                46  \n",
       "public appeal                        69             69                69  \n",
       "severe weather                      763            763               763  \n",
       "system operability disruption       127            127               127  \n",
       "\n",
       "[7 rows x 54 columns]"
      ]
     },
     "execution_count": 4,
     "metadata": {},
     "output_type": "execute_result"
    }
   ],
   "source": [
    "df.groupby('CAUSE.CATEGORY').count()"
   ]
  },
  {
   "cell_type": "code",
   "execution_count": 5,
   "metadata": {},
   "outputs": [
    {
     "data": {
      "text/html": [
       "<div>\n",
       "<style scoped>\n",
       "    .dataframe tbody tr th:only-of-type {\n",
       "        vertical-align: middle;\n",
       "    }\n",
       "\n",
       "    .dataframe tbody tr th {\n",
       "        vertical-align: top;\n",
       "    }\n",
       "\n",
       "    .dataframe thead th {\n",
       "        text-align: right;\n",
       "    }\n",
       "</style>\n",
       "<table border=\"1\" class=\"dataframe\">\n",
       "  <thead>\n",
       "    <tr style=\"text-align: right;\">\n",
       "      <th></th>\n",
       "      <th>YEAR</th>\n",
       "      <th>MONTH</th>\n",
       "      <th>U.S._STATE</th>\n",
       "      <th>POSTAL.CODE</th>\n",
       "      <th>CLIMATE.REGION</th>\n",
       "      <th>ANOMALY.LEVEL</th>\n",
       "      <th>CLIMATE.CATEGORY</th>\n",
       "      <th>OUTAGE.START.DATE</th>\n",
       "      <th>OUTAGE.START.TIME</th>\n",
       "      <th>OUTAGE.RESTORATION.DATE</th>\n",
       "      <th>...</th>\n",
       "      <th>POPPCT_URBAN</th>\n",
       "      <th>POPPCT_UC</th>\n",
       "      <th>POPDEN_URBAN</th>\n",
       "      <th>POPDEN_UC</th>\n",
       "      <th>POPDEN_RURAL</th>\n",
       "      <th>AREAPCT_URBAN</th>\n",
       "      <th>AREAPCT_UC</th>\n",
       "      <th>PCT_LAND</th>\n",
       "      <th>PCT_WATER_TOT</th>\n",
       "      <th>PCT_WATER_INLAND</th>\n",
       "    </tr>\n",
       "    <tr>\n",
       "      <th>NERC.REGION</th>\n",
       "      <th></th>\n",
       "      <th></th>\n",
       "      <th></th>\n",
       "      <th></th>\n",
       "      <th></th>\n",
       "      <th></th>\n",
       "      <th></th>\n",
       "      <th></th>\n",
       "      <th></th>\n",
       "      <th></th>\n",
       "      <th></th>\n",
       "      <th></th>\n",
       "      <th></th>\n",
       "      <th></th>\n",
       "      <th></th>\n",
       "      <th></th>\n",
       "      <th></th>\n",
       "      <th></th>\n",
       "      <th></th>\n",
       "      <th></th>\n",
       "      <th></th>\n",
       "    </tr>\n",
       "  </thead>\n",
       "  <tbody>\n",
       "    <tr>\n",
       "      <th>ASCC</th>\n",
       "      <td>1</td>\n",
       "      <td>0</td>\n",
       "      <td>1</td>\n",
       "      <td>1</td>\n",
       "      <td>0</td>\n",
       "      <td>0</td>\n",
       "      <td>0</td>\n",
       "      <td>0</td>\n",
       "      <td>0</td>\n",
       "      <td>0</td>\n",
       "      <td>...</td>\n",
       "      <td>1</td>\n",
       "      <td>1</td>\n",
       "      <td>1</td>\n",
       "      <td>1</td>\n",
       "      <td>1</td>\n",
       "      <td>1</td>\n",
       "      <td>1</td>\n",
       "      <td>1</td>\n",
       "      <td>1</td>\n",
       "      <td>1</td>\n",
       "    </tr>\n",
       "    <tr>\n",
       "      <th>ECAR</th>\n",
       "      <td>34</td>\n",
       "      <td>34</td>\n",
       "      <td>34</td>\n",
       "      <td>34</td>\n",
       "      <td>34</td>\n",
       "      <td>34</td>\n",
       "      <td>34</td>\n",
       "      <td>34</td>\n",
       "      <td>34</td>\n",
       "      <td>32</td>\n",
       "      <td>...</td>\n",
       "      <td>34</td>\n",
       "      <td>34</td>\n",
       "      <td>34</td>\n",
       "      <td>34</td>\n",
       "      <td>34</td>\n",
       "      <td>34</td>\n",
       "      <td>34</td>\n",
       "      <td>34</td>\n",
       "      <td>34</td>\n",
       "      <td>34</td>\n",
       "    </tr>\n",
       "    <tr>\n",
       "      <th>FRCC</th>\n",
       "      <td>44</td>\n",
       "      <td>43</td>\n",
       "      <td>44</td>\n",
       "      <td>44</td>\n",
       "      <td>44</td>\n",
       "      <td>43</td>\n",
       "      <td>43</td>\n",
       "      <td>43</td>\n",
       "      <td>43</td>\n",
       "      <td>43</td>\n",
       "      <td>...</td>\n",
       "      <td>44</td>\n",
       "      <td>44</td>\n",
       "      <td>44</td>\n",
       "      <td>44</td>\n",
       "      <td>44</td>\n",
       "      <td>44</td>\n",
       "      <td>44</td>\n",
       "      <td>44</td>\n",
       "      <td>44</td>\n",
       "      <td>44</td>\n",
       "    </tr>\n",
       "    <tr>\n",
       "      <th>FRCC, SERC</th>\n",
       "      <td>1</td>\n",
       "      <td>1</td>\n",
       "      <td>1</td>\n",
       "      <td>1</td>\n",
       "      <td>1</td>\n",
       "      <td>1</td>\n",
       "      <td>1</td>\n",
       "      <td>1</td>\n",
       "      <td>1</td>\n",
       "      <td>1</td>\n",
       "      <td>...</td>\n",
       "      <td>1</td>\n",
       "      <td>1</td>\n",
       "      <td>1</td>\n",
       "      <td>1</td>\n",
       "      <td>1</td>\n",
       "      <td>1</td>\n",
       "      <td>1</td>\n",
       "      <td>1</td>\n",
       "      <td>1</td>\n",
       "      <td>1</td>\n",
       "    </tr>\n",
       "    <tr>\n",
       "      <th>HECO</th>\n",
       "      <td>3</td>\n",
       "      <td>3</td>\n",
       "      <td>3</td>\n",
       "      <td>3</td>\n",
       "      <td>0</td>\n",
       "      <td>3</td>\n",
       "      <td>3</td>\n",
       "      <td>3</td>\n",
       "      <td>3</td>\n",
       "      <td>3</td>\n",
       "      <td>...</td>\n",
       "      <td>3</td>\n",
       "      <td>3</td>\n",
       "      <td>3</td>\n",
       "      <td>3</td>\n",
       "      <td>3</td>\n",
       "      <td>3</td>\n",
       "      <td>3</td>\n",
       "      <td>3</td>\n",
       "      <td>3</td>\n",
       "      <td>3</td>\n",
       "    </tr>\n",
       "    <tr>\n",
       "      <th>HI</th>\n",
       "      <td>1</td>\n",
       "      <td>1</td>\n",
       "      <td>1</td>\n",
       "      <td>1</td>\n",
       "      <td>0</td>\n",
       "      <td>1</td>\n",
       "      <td>1</td>\n",
       "      <td>1</td>\n",
       "      <td>1</td>\n",
       "      <td>1</td>\n",
       "      <td>...</td>\n",
       "      <td>1</td>\n",
       "      <td>1</td>\n",
       "      <td>1</td>\n",
       "      <td>1</td>\n",
       "      <td>1</td>\n",
       "      <td>1</td>\n",
       "      <td>1</td>\n",
       "      <td>1</td>\n",
       "      <td>1</td>\n",
       "      <td>1</td>\n",
       "    </tr>\n",
       "    <tr>\n",
       "      <th>MRO</th>\n",
       "      <td>46</td>\n",
       "      <td>45</td>\n",
       "      <td>46</td>\n",
       "      <td>46</td>\n",
       "      <td>46</td>\n",
       "      <td>45</td>\n",
       "      <td>45</td>\n",
       "      <td>45</td>\n",
       "      <td>45</td>\n",
       "      <td>44</td>\n",
       "      <td>...</td>\n",
       "      <td>46</td>\n",
       "      <td>46</td>\n",
       "      <td>46</td>\n",
       "      <td>46</td>\n",
       "      <td>46</td>\n",
       "      <td>46</td>\n",
       "      <td>46</td>\n",
       "      <td>46</td>\n",
       "      <td>46</td>\n",
       "      <td>46</td>\n",
       "    </tr>\n",
       "    <tr>\n",
       "      <th>NPCC</th>\n",
       "      <td>150</td>\n",
       "      <td>150</td>\n",
       "      <td>150</td>\n",
       "      <td>150</td>\n",
       "      <td>150</td>\n",
       "      <td>150</td>\n",
       "      <td>150</td>\n",
       "      <td>150</td>\n",
       "      <td>150</td>\n",
       "      <td>147</td>\n",
       "      <td>...</td>\n",
       "      <td>150</td>\n",
       "      <td>150</td>\n",
       "      <td>150</td>\n",
       "      <td>150</td>\n",
       "      <td>150</td>\n",
       "      <td>150</td>\n",
       "      <td>150</td>\n",
       "      <td>150</td>\n",
       "      <td>150</td>\n",
       "      <td>150</td>\n",
       "    </tr>\n",
       "    <tr>\n",
       "      <th>PR</th>\n",
       "      <td>1</td>\n",
       "      <td>1</td>\n",
       "      <td>1</td>\n",
       "      <td>1</td>\n",
       "      <td>0</td>\n",
       "      <td>1</td>\n",
       "      <td>1</td>\n",
       "      <td>1</td>\n",
       "      <td>1</td>\n",
       "      <td>1</td>\n",
       "      <td>...</td>\n",
       "      <td>1</td>\n",
       "      <td>1</td>\n",
       "      <td>1</td>\n",
       "      <td>1</td>\n",
       "      <td>1</td>\n",
       "      <td>1</td>\n",
       "      <td>1</td>\n",
       "      <td>1</td>\n",
       "      <td>1</td>\n",
       "      <td>1</td>\n",
       "    </tr>\n",
       "    <tr>\n",
       "      <th>RFC</th>\n",
       "      <td>419</td>\n",
       "      <td>418</td>\n",
       "      <td>419</td>\n",
       "      <td>419</td>\n",
       "      <td>419</td>\n",
       "      <td>418</td>\n",
       "      <td>418</td>\n",
       "      <td>418</td>\n",
       "      <td>418</td>\n",
       "      <td>416</td>\n",
       "      <td>...</td>\n",
       "      <td>419</td>\n",
       "      <td>419</td>\n",
       "      <td>419</td>\n",
       "      <td>409</td>\n",
       "      <td>409</td>\n",
       "      <td>419</td>\n",
       "      <td>419</td>\n",
       "      <td>419</td>\n",
       "      <td>419</td>\n",
       "      <td>419</td>\n",
       "    </tr>\n",
       "    <tr>\n",
       "      <th>SERC</th>\n",
       "      <td>205</td>\n",
       "      <td>201</td>\n",
       "      <td>205</td>\n",
       "      <td>205</td>\n",
       "      <td>205</td>\n",
       "      <td>201</td>\n",
       "      <td>201</td>\n",
       "      <td>201</td>\n",
       "      <td>201</td>\n",
       "      <td>194</td>\n",
       "      <td>...</td>\n",
       "      <td>205</td>\n",
       "      <td>205</td>\n",
       "      <td>205</td>\n",
       "      <td>205</td>\n",
       "      <td>205</td>\n",
       "      <td>205</td>\n",
       "      <td>205</td>\n",
       "      <td>205</td>\n",
       "      <td>205</td>\n",
       "      <td>205</td>\n",
       "    </tr>\n",
       "    <tr>\n",
       "      <th>SPP</th>\n",
       "      <td>67</td>\n",
       "      <td>66</td>\n",
       "      <td>67</td>\n",
       "      <td>67</td>\n",
       "      <td>67</td>\n",
       "      <td>66</td>\n",
       "      <td>66</td>\n",
       "      <td>66</td>\n",
       "      <td>66</td>\n",
       "      <td>62</td>\n",
       "      <td>...</td>\n",
       "      <td>67</td>\n",
       "      <td>67</td>\n",
       "      <td>67</td>\n",
       "      <td>67</td>\n",
       "      <td>67</td>\n",
       "      <td>67</td>\n",
       "      <td>67</td>\n",
       "      <td>67</td>\n",
       "      <td>67</td>\n",
       "      <td>67</td>\n",
       "    </tr>\n",
       "    <tr>\n",
       "      <th>TRE</th>\n",
       "      <td>111</td>\n",
       "      <td>111</td>\n",
       "      <td>111</td>\n",
       "      <td>111</td>\n",
       "      <td>111</td>\n",
       "      <td>111</td>\n",
       "      <td>111</td>\n",
       "      <td>111</td>\n",
       "      <td>111</td>\n",
       "      <td>108</td>\n",
       "      <td>...</td>\n",
       "      <td>111</td>\n",
       "      <td>111</td>\n",
       "      <td>111</td>\n",
       "      <td>111</td>\n",
       "      <td>111</td>\n",
       "      <td>111</td>\n",
       "      <td>111</td>\n",
       "      <td>111</td>\n",
       "      <td>111</td>\n",
       "      <td>111</td>\n",
       "    </tr>\n",
       "    <tr>\n",
       "      <th>WECC</th>\n",
       "      <td>451</td>\n",
       "      <td>451</td>\n",
       "      <td>451</td>\n",
       "      <td>451</td>\n",
       "      <td>451</td>\n",
       "      <td>451</td>\n",
       "      <td>451</td>\n",
       "      <td>451</td>\n",
       "      <td>451</td>\n",
       "      <td>424</td>\n",
       "      <td>...</td>\n",
       "      <td>451</td>\n",
       "      <td>451</td>\n",
       "      <td>451</td>\n",
       "      <td>451</td>\n",
       "      <td>451</td>\n",
       "      <td>451</td>\n",
       "      <td>451</td>\n",
       "      <td>451</td>\n",
       "      <td>451</td>\n",
       "      <td>451</td>\n",
       "    </tr>\n",
       "  </tbody>\n",
       "</table>\n",
       "<p>14 rows × 54 columns</p>\n",
       "</div>"
      ],
      "text/plain": [
       "             YEAR  MONTH  U.S._STATE  POSTAL.CODE  CLIMATE.REGION  \\\n",
       "NERC.REGION                                                         \n",
       "ASCC            1      0           1            1               0   \n",
       "ECAR           34     34          34           34              34   \n",
       "FRCC           44     43          44           44              44   \n",
       "FRCC, SERC      1      1           1            1               1   \n",
       "HECO            3      3           3            3               0   \n",
       "HI              1      1           1            1               0   \n",
       "MRO            46     45          46           46              46   \n",
       "NPCC          150    150         150          150             150   \n",
       "PR              1      1           1            1               0   \n",
       "RFC           419    418         419          419             419   \n",
       "SERC          205    201         205          205             205   \n",
       "SPP            67     66          67           67              67   \n",
       "TRE           111    111         111          111             111   \n",
       "WECC          451    451         451          451             451   \n",
       "\n",
       "             ANOMALY.LEVEL  CLIMATE.CATEGORY  OUTAGE.START.DATE  \\\n",
       "NERC.REGION                                                       \n",
       "ASCC                     0                 0                  0   \n",
       "ECAR                    34                34                 34   \n",
       "FRCC                    43                43                 43   \n",
       "FRCC, SERC               1                 1                  1   \n",
       "HECO                     3                 3                  3   \n",
       "HI                       1                 1                  1   \n",
       "MRO                     45                45                 45   \n",
       "NPCC                   150               150                150   \n",
       "PR                       1                 1                  1   \n",
       "RFC                    418               418                418   \n",
       "SERC                   201               201                201   \n",
       "SPP                     66                66                 66   \n",
       "TRE                    111               111                111   \n",
       "WECC                   451               451                451   \n",
       "\n",
       "             OUTAGE.START.TIME  OUTAGE.RESTORATION.DATE  ...  POPPCT_URBAN  \\\n",
       "NERC.REGION                                              ...                 \n",
       "ASCC                         0                        0  ...             1   \n",
       "ECAR                        34                       32  ...            34   \n",
       "FRCC                        43                       43  ...            44   \n",
       "FRCC, SERC                   1                        1  ...             1   \n",
       "HECO                         3                        3  ...             3   \n",
       "HI                           1                        1  ...             1   \n",
       "MRO                         45                       44  ...            46   \n",
       "NPCC                       150                      147  ...           150   \n",
       "PR                           1                        1  ...             1   \n",
       "RFC                        418                      416  ...           419   \n",
       "SERC                       201                      194  ...           205   \n",
       "SPP                         66                       62  ...            67   \n",
       "TRE                        111                      108  ...           111   \n",
       "WECC                       451                      424  ...           451   \n",
       "\n",
       "             POPPCT_UC  POPDEN_URBAN  POPDEN_UC  POPDEN_RURAL  AREAPCT_URBAN  \\\n",
       "NERC.REGION                                                                    \n",
       "ASCC                 1             1          1             1              1   \n",
       "ECAR                34            34         34            34             34   \n",
       "FRCC                44            44         44            44             44   \n",
       "FRCC, SERC           1             1          1             1              1   \n",
       "HECO                 3             3          3             3              3   \n",
       "HI                   1             1          1             1              1   \n",
       "MRO                 46            46         46            46             46   \n",
       "NPCC               150           150        150           150            150   \n",
       "PR                   1             1          1             1              1   \n",
       "RFC                419           419        409           409            419   \n",
       "SERC               205           205        205           205            205   \n",
       "SPP                 67            67         67            67             67   \n",
       "TRE                111           111        111           111            111   \n",
       "WECC               451           451        451           451            451   \n",
       "\n",
       "             AREAPCT_UC  PCT_LAND  PCT_WATER_TOT  PCT_WATER_INLAND  \n",
       "NERC.REGION                                                         \n",
       "ASCC                  1         1              1                 1  \n",
       "ECAR                 34        34             34                34  \n",
       "FRCC                 44        44             44                44  \n",
       "FRCC, SERC            1         1              1                 1  \n",
       "HECO                  3         3              3                 3  \n",
       "HI                    1         1              1                 1  \n",
       "MRO                  46        46             46                46  \n",
       "NPCC                150       150            150               150  \n",
       "PR                    1         1              1                 1  \n",
       "RFC                 419       419            419               419  \n",
       "SERC                205       205            205               205  \n",
       "SPP                  67        67             67                67  \n",
       "TRE                 111       111            111               111  \n",
       "WECC                451       451            451               451  \n",
       "\n",
       "[14 rows x 54 columns]"
      ]
     },
     "execution_count": 5,
     "metadata": {},
     "output_type": "execute_result"
    }
   ],
   "source": [
    "df.groupby('NERC.REGION').count()"
   ]
  },
  {
   "cell_type": "code",
   "execution_count": 6,
   "metadata": {},
   "outputs": [
    {
     "data": {
      "text/plain": [
       "1525"
      ]
     },
     "execution_count": 6,
     "metadata": {},
     "output_type": "execute_result"
    }
   ],
   "source": [
    "len(df['MONTH'].dropna())"
   ]
  },
  {
   "cell_type": "code",
   "execution_count": 7,
   "metadata": {},
   "outputs": [
    {
     "data": {
      "text/plain": [
       "1525"
      ]
     },
     "execution_count": 7,
     "metadata": {},
     "output_type": "execute_result"
    }
   ],
   "source": [
    "len(df['OUTAGE.START.TIME'].dropna())"
   ]
  },
  {
   "cell_type": "code",
   "execution_count": 8,
   "metadata": {},
   "outputs": [
    {
     "name": "stderr",
     "output_type": "stream",
     "text": [
      "/Users/demo/anaconda3/envs/dsc80/lib/python3.8/site-packages/pandas/core/arrays/datetimelike.py:1187: PerformanceWarning: Adding/subtracting object-dtype array to TimedeltaArray not vectorized\n",
      "  warnings.warn(\n",
      "/Users/demo/anaconda3/envs/dsc80/lib/python3.8/site-packages/pandas/core/arrays/datetimelike.py:1187: PerformanceWarning: Adding/subtracting object-dtype array to TimedeltaArray not vectorized\n",
      "  warnings.warn(\n"
     ]
    },
    {
     "data": {
      "text/html": [
       "<div>\n",
       "<style scoped>\n",
       "    .dataframe tbody tr th:only-of-type {\n",
       "        vertical-align: middle;\n",
       "    }\n",
       "\n",
       "    .dataframe tbody tr th {\n",
       "        vertical-align: top;\n",
       "    }\n",
       "\n",
       "    .dataframe thead th {\n",
       "        text-align: right;\n",
       "    }\n",
       "</style>\n",
       "<table border=\"1\" class=\"dataframe\">\n",
       "  <thead>\n",
       "    <tr style=\"text-align: right;\">\n",
       "      <th></th>\n",
       "      <th>OBS</th>\n",
       "      <th>YEAR</th>\n",
       "      <th>MONTH</th>\n",
       "      <th>U.S._STATE</th>\n",
       "      <th>POSTAL.CODE</th>\n",
       "      <th>NERC.REGION</th>\n",
       "      <th>CLIMATE.REGION</th>\n",
       "      <th>ANOMALY.LEVEL</th>\n",
       "      <th>CLIMATE.CATEGORY</th>\n",
       "      <th>OUTAGE.START.DATE</th>\n",
       "      <th>...</th>\n",
       "      <th>POPDEN_URBAN</th>\n",
       "      <th>POPDEN_UC</th>\n",
       "      <th>POPDEN_RURAL</th>\n",
       "      <th>AREAPCT_URBAN</th>\n",
       "      <th>AREAPCT_UC</th>\n",
       "      <th>PCT_LAND</th>\n",
       "      <th>PCT_WATER_TOT</th>\n",
       "      <th>PCT_WATER_INLAND</th>\n",
       "      <th>OUTAGE.START</th>\n",
       "      <th>OUTAGE.RESTORATION</th>\n",
       "    </tr>\n",
       "  </thead>\n",
       "  <tbody>\n",
       "    <tr>\n",
       "      <th>0</th>\n",
       "      <td>1.0</td>\n",
       "      <td>2011</td>\n",
       "      <td>7</td>\n",
       "      <td>Minnesota</td>\n",
       "      <td>MN</td>\n",
       "      <td>MRO</td>\n",
       "      <td>East North Central</td>\n",
       "      <td>-0.3</td>\n",
       "      <td>normal</td>\n",
       "      <td>2011-07-01 00:00:00</td>\n",
       "      <td>...</td>\n",
       "      <td>2279</td>\n",
       "      <td>1700.5</td>\n",
       "      <td>18.2</td>\n",
       "      <td>2.14</td>\n",
       "      <td>0.6</td>\n",
       "      <td>91.592666</td>\n",
       "      <td>8.407334</td>\n",
       "      <td>5.478743</td>\n",
       "      <td>2011-07-01 17:00:00</td>\n",
       "      <td>2011-07-03 20:00:00</td>\n",
       "    </tr>\n",
       "    <tr>\n",
       "      <th>1</th>\n",
       "      <td>2.0</td>\n",
       "      <td>2014</td>\n",
       "      <td>5</td>\n",
       "      <td>Minnesota</td>\n",
       "      <td>MN</td>\n",
       "      <td>MRO</td>\n",
       "      <td>East North Central</td>\n",
       "      <td>-0.1</td>\n",
       "      <td>normal</td>\n",
       "      <td>2014-05-11 00:00:00</td>\n",
       "      <td>...</td>\n",
       "      <td>2279</td>\n",
       "      <td>1700.5</td>\n",
       "      <td>18.2</td>\n",
       "      <td>2.14</td>\n",
       "      <td>0.6</td>\n",
       "      <td>91.592666</td>\n",
       "      <td>8.407334</td>\n",
       "      <td>5.478743</td>\n",
       "      <td>2014-05-11 18:38:00</td>\n",
       "      <td>2014-05-11 18:39:00</td>\n",
       "    </tr>\n",
       "    <tr>\n",
       "      <th>2</th>\n",
       "      <td>3.0</td>\n",
       "      <td>2010</td>\n",
       "      <td>10</td>\n",
       "      <td>Minnesota</td>\n",
       "      <td>MN</td>\n",
       "      <td>MRO</td>\n",
       "      <td>East North Central</td>\n",
       "      <td>-1.5</td>\n",
       "      <td>cold</td>\n",
       "      <td>2010-10-26 00:00:00</td>\n",
       "      <td>...</td>\n",
       "      <td>2279</td>\n",
       "      <td>1700.5</td>\n",
       "      <td>18.2</td>\n",
       "      <td>2.14</td>\n",
       "      <td>0.6</td>\n",
       "      <td>91.592666</td>\n",
       "      <td>8.407334</td>\n",
       "      <td>5.478743</td>\n",
       "      <td>2010-10-26 20:00:00</td>\n",
       "      <td>2010-10-28 22:00:00</td>\n",
       "    </tr>\n",
       "    <tr>\n",
       "      <th>3</th>\n",
       "      <td>4.0</td>\n",
       "      <td>2012</td>\n",
       "      <td>6</td>\n",
       "      <td>Minnesota</td>\n",
       "      <td>MN</td>\n",
       "      <td>MRO</td>\n",
       "      <td>East North Central</td>\n",
       "      <td>-0.1</td>\n",
       "      <td>normal</td>\n",
       "      <td>2012-06-19 00:00:00</td>\n",
       "      <td>...</td>\n",
       "      <td>2279</td>\n",
       "      <td>1700.5</td>\n",
       "      <td>18.2</td>\n",
       "      <td>2.14</td>\n",
       "      <td>0.6</td>\n",
       "      <td>91.592666</td>\n",
       "      <td>8.407334</td>\n",
       "      <td>5.478743</td>\n",
       "      <td>2012-06-19 04:30:00</td>\n",
       "      <td>2012-06-20 23:00:00</td>\n",
       "    </tr>\n",
       "    <tr>\n",
       "      <th>4</th>\n",
       "      <td>5.0</td>\n",
       "      <td>2015</td>\n",
       "      <td>7</td>\n",
       "      <td>Minnesota</td>\n",
       "      <td>MN</td>\n",
       "      <td>MRO</td>\n",
       "      <td>East North Central</td>\n",
       "      <td>1.2</td>\n",
       "      <td>warm</td>\n",
       "      <td>2015-07-18 00:00:00</td>\n",
       "      <td>...</td>\n",
       "      <td>2279</td>\n",
       "      <td>1700.5</td>\n",
       "      <td>18.2</td>\n",
       "      <td>2.14</td>\n",
       "      <td>0.6</td>\n",
       "      <td>91.592666</td>\n",
       "      <td>8.407334</td>\n",
       "      <td>5.478743</td>\n",
       "      <td>2015-07-18 02:00:00</td>\n",
       "      <td>2015-07-19 07:00:00</td>\n",
       "    </tr>\n",
       "    <tr>\n",
       "      <th>...</th>\n",
       "      <td>...</td>\n",
       "      <td>...</td>\n",
       "      <td>...</td>\n",
       "      <td>...</td>\n",
       "      <td>...</td>\n",
       "      <td>...</td>\n",
       "      <td>...</td>\n",
       "      <td>...</td>\n",
       "      <td>...</td>\n",
       "      <td>...</td>\n",
       "      <td>...</td>\n",
       "      <td>...</td>\n",
       "      <td>...</td>\n",
       "      <td>...</td>\n",
       "      <td>...</td>\n",
       "      <td>...</td>\n",
       "      <td>...</td>\n",
       "      <td>...</td>\n",
       "      <td>...</td>\n",
       "      <td>...</td>\n",
       "      <td>...</td>\n",
       "    </tr>\n",
       "    <tr>\n",
       "      <th>1471</th>\n",
       "      <td>1527.0</td>\n",
       "      <td>2016</td>\n",
       "      <td>3</td>\n",
       "      <td>Idaho</td>\n",
       "      <td>ID</td>\n",
       "      <td>WECC</td>\n",
       "      <td>Northwest</td>\n",
       "      <td>1.6</td>\n",
       "      <td>warm</td>\n",
       "      <td>2016-03-08 00:00:00</td>\n",
       "      <td>...</td>\n",
       "      <td>2216.8</td>\n",
       "      <td>2004.7</td>\n",
       "      <td>5.6</td>\n",
       "      <td>0.6</td>\n",
       "      <td>0.19</td>\n",
       "      <td>98.891934</td>\n",
       "      <td>1.108066</td>\n",
       "      <td>1.108066</td>\n",
       "      <td>2016-03-08 00:00:00</td>\n",
       "      <td>2016-03-08 00:00:00</td>\n",
       "    </tr>\n",
       "    <tr>\n",
       "      <th>1472</th>\n",
       "      <td>1529.0</td>\n",
       "      <td>2016</td>\n",
       "      <td>7</td>\n",
       "      <td>Idaho</td>\n",
       "      <td>ID</td>\n",
       "      <td>WECC</td>\n",
       "      <td>Northwest</td>\n",
       "      <td>-0.3</td>\n",
       "      <td>normal</td>\n",
       "      <td>2016-07-19 00:00:00</td>\n",
       "      <td>...</td>\n",
       "      <td>2216.8</td>\n",
       "      <td>2004.7</td>\n",
       "      <td>5.6</td>\n",
       "      <td>0.6</td>\n",
       "      <td>0.19</td>\n",
       "      <td>98.891934</td>\n",
       "      <td>1.108066</td>\n",
       "      <td>1.108066</td>\n",
       "      <td>2016-07-19 15:45:00</td>\n",
       "      <td>2016-07-19 19:25:00</td>\n",
       "    </tr>\n",
       "    <tr>\n",
       "      <th>1473</th>\n",
       "      <td>1530.0</td>\n",
       "      <td>2011</td>\n",
       "      <td>12</td>\n",
       "      <td>North Dakota</td>\n",
       "      <td>ND</td>\n",
       "      <td>MRO</td>\n",
       "      <td>West North Central</td>\n",
       "      <td>-0.9</td>\n",
       "      <td>cold</td>\n",
       "      <td>2011-12-06 00:00:00</td>\n",
       "      <td>...</td>\n",
       "      <td>2192.2</td>\n",
       "      <td>1868.2</td>\n",
       "      <td>3.9</td>\n",
       "      <td>0.27</td>\n",
       "      <td>0.1</td>\n",
       "      <td>97.599649</td>\n",
       "      <td>2.401765</td>\n",
       "      <td>2.401765</td>\n",
       "      <td>2011-12-06 08:00:00</td>\n",
       "      <td>2011-12-06 20:00:00</td>\n",
       "    </tr>\n",
       "    <tr>\n",
       "      <th>1474</th>\n",
       "      <td>1532.0</td>\n",
       "      <td>2009</td>\n",
       "      <td>8</td>\n",
       "      <td>South Dakota</td>\n",
       "      <td>SD</td>\n",
       "      <td>RFC</td>\n",
       "      <td>West North Central</td>\n",
       "      <td>0.5</td>\n",
       "      <td>warm</td>\n",
       "      <td>2009-08-29 00:00:00</td>\n",
       "      <td>...</td>\n",
       "      <td>2038.3</td>\n",
       "      <td>1905.4</td>\n",
       "      <td>4.7</td>\n",
       "      <td>0.3</td>\n",
       "      <td>0.15</td>\n",
       "      <td>98.307744</td>\n",
       "      <td>1.692256</td>\n",
       "      <td>1.692256</td>\n",
       "      <td>2009-08-29 22:54:00</td>\n",
       "      <td>2009-08-29 23:53:00</td>\n",
       "    </tr>\n",
       "    <tr>\n",
       "      <th>1475</th>\n",
       "      <td>1533.0</td>\n",
       "      <td>2009</td>\n",
       "      <td>8</td>\n",
       "      <td>South Dakota</td>\n",
       "      <td>SD</td>\n",
       "      <td>MRO</td>\n",
       "      <td>West North Central</td>\n",
       "      <td>0.5</td>\n",
       "      <td>warm</td>\n",
       "      <td>2009-08-29 00:00:00</td>\n",
       "      <td>...</td>\n",
       "      <td>2038.3</td>\n",
       "      <td>1905.4</td>\n",
       "      <td>4.7</td>\n",
       "      <td>0.3</td>\n",
       "      <td>0.15</td>\n",
       "      <td>98.307744</td>\n",
       "      <td>1.692256</td>\n",
       "      <td>1.692256</td>\n",
       "      <td>2009-08-29 11:00:00</td>\n",
       "      <td>2009-08-29 14:01:00</td>\n",
       "    </tr>\n",
       "  </tbody>\n",
       "</table>\n",
       "<p>1476 rows × 58 columns</p>\n",
       "</div>"
      ],
      "text/plain": [
       "         OBS  YEAR  MONTH    U.S._STATE POSTAL.CODE NERC.REGION  \\\n",
       "0        1.0  2011      7     Minnesota          MN         MRO   \n",
       "1        2.0  2014      5     Minnesota          MN         MRO   \n",
       "2        3.0  2010     10     Minnesota          MN         MRO   \n",
       "3        4.0  2012      6     Minnesota          MN         MRO   \n",
       "4        5.0  2015      7     Minnesota          MN         MRO   \n",
       "...      ...   ...    ...           ...         ...         ...   \n",
       "1471  1527.0  2016      3         Idaho          ID        WECC   \n",
       "1472  1529.0  2016      7         Idaho          ID        WECC   \n",
       "1473  1530.0  2011     12  North Dakota          ND         MRO   \n",
       "1474  1532.0  2009      8  South Dakota          SD         RFC   \n",
       "1475  1533.0  2009      8  South Dakota          SD         MRO   \n",
       "\n",
       "          CLIMATE.REGION ANOMALY.LEVEL CLIMATE.CATEGORY    OUTAGE.START.DATE  \\\n",
       "0     East North Central          -0.3           normal  2011-07-01 00:00:00   \n",
       "1     East North Central          -0.1           normal  2014-05-11 00:00:00   \n",
       "2     East North Central          -1.5             cold  2010-10-26 00:00:00   \n",
       "3     East North Central          -0.1           normal  2012-06-19 00:00:00   \n",
       "4     East North Central           1.2             warm  2015-07-18 00:00:00   \n",
       "...                  ...           ...              ...                  ...   \n",
       "1471           Northwest           1.6             warm  2016-03-08 00:00:00   \n",
       "1472           Northwest          -0.3           normal  2016-07-19 00:00:00   \n",
       "1473  West North Central          -0.9             cold  2011-12-06 00:00:00   \n",
       "1474  West North Central           0.5             warm  2009-08-29 00:00:00   \n",
       "1475  West North Central           0.5             warm  2009-08-29 00:00:00   \n",
       "\n",
       "      ... POPDEN_URBAN POPDEN_UC POPDEN_RURAL AREAPCT_URBAN AREAPCT_UC  \\\n",
       "0     ...         2279    1700.5         18.2          2.14        0.6   \n",
       "1     ...         2279    1700.5         18.2          2.14        0.6   \n",
       "2     ...         2279    1700.5         18.2          2.14        0.6   \n",
       "3     ...         2279    1700.5         18.2          2.14        0.6   \n",
       "4     ...         2279    1700.5         18.2          2.14        0.6   \n",
       "...   ...          ...       ...          ...           ...        ...   \n",
       "1471  ...       2216.8    2004.7          5.6           0.6       0.19   \n",
       "1472  ...       2216.8    2004.7          5.6           0.6       0.19   \n",
       "1473  ...       2192.2    1868.2          3.9          0.27        0.1   \n",
       "1474  ...       2038.3    1905.4          4.7           0.3       0.15   \n",
       "1475  ...       2038.3    1905.4          4.7           0.3       0.15   \n",
       "\n",
       "       PCT_LAND PCT_WATER_TOT PCT_WATER_INLAND        OUTAGE.START  \\\n",
       "0     91.592666      8.407334         5.478743 2011-07-01 17:00:00   \n",
       "1     91.592666      8.407334         5.478743 2014-05-11 18:38:00   \n",
       "2     91.592666      8.407334         5.478743 2010-10-26 20:00:00   \n",
       "3     91.592666      8.407334         5.478743 2012-06-19 04:30:00   \n",
       "4     91.592666      8.407334         5.478743 2015-07-18 02:00:00   \n",
       "...         ...           ...              ...                 ...   \n",
       "1471  98.891934      1.108066         1.108066 2016-03-08 00:00:00   \n",
       "1472  98.891934      1.108066         1.108066 2016-07-19 15:45:00   \n",
       "1473  97.599649      2.401765         2.401765 2011-12-06 08:00:00   \n",
       "1474  98.307744      1.692256         1.692256 2009-08-29 22:54:00   \n",
       "1475  98.307744      1.692256         1.692256 2009-08-29 11:00:00   \n",
       "\n",
       "      OUTAGE.RESTORATION  \n",
       "0    2011-07-03 20:00:00  \n",
       "1    2014-05-11 18:39:00  \n",
       "2    2010-10-28 22:00:00  \n",
       "3    2012-06-20 23:00:00  \n",
       "4    2015-07-19 07:00:00  \n",
       "...                  ...  \n",
       "1471 2016-03-08 00:00:00  \n",
       "1472 2016-07-19 19:25:00  \n",
       "1473 2011-12-06 20:00:00  \n",
       "1474 2009-08-29 23:53:00  \n",
       "1475 2009-08-29 14:01:00  \n",
       "\n",
       "[1476 rows x 58 columns]"
      ]
     },
     "execution_count": 8,
     "metadata": {},
     "output_type": "execute_result"
    }
   ],
   "source": [
    "df_dropped = df.dropna(subset=['OUTAGE.START.TIME'])\n",
    "df_dropped = df_dropped.dropna(subset=['OUTAGE.RESTORATION.TIME'])\n",
    "temp = pd.to_timedelta(df_dropped['OUTAGE.START.TIME'].astype(str))\n",
    "df_dropped['OUTAGE.START'] = df_dropped['OUTAGE.START.DATE'] + temp\n",
    "temp = pd.to_timedelta(df_dropped['OUTAGE.RESTORATION.TIME'].astype(str))\n",
    "df_dropped['OUTAGE.RESTORATION'] = df_dropped['OUTAGE.RESTORATION.DATE'] + temp\n",
    "df_dropped['YEAR'] = df_dropped['YEAR'].astype(int)\n",
    "df_dropped['MONTH'] = df_dropped['MONTH'].astype(int)\n",
    "df_dropped.reset_index()"
   ]
  },
  {
   "cell_type": "markdown",
   "metadata": {},
   "source": [
    "## Univariate Graphes"
   ]
  },
  {
   "cell_type": "code",
   "execution_count": 9,
   "metadata": {},
   "outputs": [
    {
     "data": {
      "application/vnd.plotly.v1+json": {
       "config": {
        "plotlyServerURL": "https://plot.ly"
       },
       "data": [
        {
         "alignmentgroup": "True",
         "hovertemplate": "CAUSE.CATEGORY=equipment failure<br>YEAR=%{x}<br>value=%{y}<extra></extra>",
         "legendgroup": "equipment failure",
         "marker": {
          "color": "#636efa",
          "pattern": {
           "shape": ""
          }
         },
         "name": "equipment failure",
         "offsetgroup": "equipment failure",
         "orientation": "v",
         "showlegend": true,
         "textposition": "auto",
         "type": "bar",
         "x": [
          2000,
          2001,
          2002,
          2003,
          2004,
          2005,
          2006,
          2007,
          2008,
          2009,
          2010,
          2011,
          2012,
          2013,
          2014,
          2015,
          2016
         ],
         "xaxis": "x",
         "y": [
          null,
          1,
          null,
          6,
          5,
          3,
          1,
          6,
          9,
          10,
          5,
          4,
          1,
          4,
          null,
          null,
          null
         ],
         "yaxis": "y"
        },
        {
         "alignmentgroup": "True",
         "hovertemplate": "CAUSE.CATEGORY=fuel supply emergency<br>YEAR=%{x}<br>value=%{y}<extra></extra>",
         "legendgroup": "fuel supply emergency",
         "marker": {
          "color": "#EF553B",
          "pattern": {
           "shape": ""
          }
         },
         "name": "fuel supply emergency",
         "offsetgroup": "fuel supply emergency",
         "orientation": "v",
         "showlegend": true,
         "textposition": "auto",
         "type": "bar",
         "x": [
          2000,
          2001,
          2002,
          2003,
          2004,
          2005,
          2006,
          2007,
          2008,
          2009,
          2010,
          2011,
          2012,
          2013,
          2014,
          2015,
          2016
         ],
         "xaxis": "x",
         "y": [
          null,
          null,
          null,
          null,
          null,
          null,
          null,
          1,
          3,
          2,
          3,
          6,
          4,
          6,
          10,
          1,
          2
         ],
         "yaxis": "y"
        },
        {
         "alignmentgroup": "True",
         "hovertemplate": "CAUSE.CATEGORY=intentional attack<br>YEAR=%{x}<br>value=%{y}<extra></extra>",
         "legendgroup": "intentional attack",
         "marker": {
          "color": "#00cc96",
          "pattern": {
           "shape": ""
          }
         },
         "name": "intentional attack",
         "offsetgroup": "intentional attack",
         "orientation": "v",
         "showlegend": true,
         "textposition": "auto",
         "type": "bar",
         "x": [
          2000,
          2001,
          2002,
          2003,
          2004,
          2005,
          2006,
          2007,
          2008,
          2009,
          2010,
          2011,
          2012,
          2013,
          2014,
          2015,
          2016
         ],
         "xaxis": "x",
         "y": [
          null,
          null,
          null,
          2,
          null,
          null,
          null,
          null,
          null,
          null,
          null,
          121,
          89,
          80,
          44,
          41,
          26
         ],
         "yaxis": "y"
        },
        {
         "alignmentgroup": "True",
         "hovertemplate": "CAUSE.CATEGORY=islanding<br>YEAR=%{x}<br>value=%{y}<extra></extra>",
         "legendgroup": "islanding",
         "marker": {
          "color": "#ab63fa",
          "pattern": {
           "shape": ""
          }
         },
         "name": "islanding",
         "offsetgroup": "islanding",
         "orientation": "v",
         "showlegend": true,
         "textposition": "auto",
         "type": "bar",
         "x": [
          2000,
          2001,
          2002,
          2003,
          2004,
          2005,
          2006,
          2007,
          2008,
          2009,
          2010,
          2011,
          2012,
          2013,
          2014,
          2015,
          2016
         ],
         "xaxis": "x",
         "y": [
          null,
          null,
          null,
          null,
          null,
          null,
          null,
          1,
          6,
          4,
          9,
          3,
          4,
          7,
          1,
          8,
          1
         ],
         "yaxis": "y"
        },
        {
         "alignmentgroup": "True",
         "hovertemplate": "CAUSE.CATEGORY=public appeal<br>YEAR=%{x}<br>value=%{y}<extra></extra>",
         "legendgroup": "public appeal",
         "marker": {
          "color": "#FFA15A",
          "pattern": {
           "shape": ""
          }
         },
         "name": "public appeal",
         "offsetgroup": "public appeal",
         "orientation": "v",
         "showlegend": true,
         "textposition": "auto",
         "type": "bar",
         "x": [
          2000,
          2001,
          2002,
          2003,
          2004,
          2005,
          2006,
          2007,
          2008,
          2009,
          2010,
          2011,
          2012,
          2013,
          2014,
          2015,
          2016
         ],
         "xaxis": "x",
         "y": [
          null,
          3,
          null,
          1,
          7,
          null,
          2,
          2,
          2,
          10,
          14,
          16,
          3,
          null,
          5,
          4,
          null
         ],
         "yaxis": "y"
        },
        {
         "alignmentgroup": "True",
         "hovertemplate": "CAUSE.CATEGORY=severe weather<br>YEAR=%{x}<br>value=%{y}<extra></extra>",
         "legendgroup": "severe weather",
         "marker": {
          "color": "#19d3f3",
          "pattern": {
           "shape": ""
          }
         },
         "name": "severe weather",
         "offsetgroup": "severe weather",
         "orientation": "v",
         "showlegend": true,
         "textposition": "auto",
         "type": "bar",
         "x": [
          2000,
          2001,
          2002,
          2003,
          2004,
          2005,
          2006,
          2007,
          2008,
          2009,
          2010,
          2011,
          2012,
          2013,
          2014,
          2015,
          2016
         ],
         "xaxis": "x",
         "y": [
          9,
          1,
          11,
          30,
          56,
          47,
          54,
          40,
          76,
          45,
          62,
          107,
          65,
          49,
          43,
          39,
          10
         ],
         "yaxis": "y"
        },
        {
         "alignmentgroup": "True",
         "hovertemplate": "CAUSE.CATEGORY=system operability disruption<br>YEAR=%{x}<br>value=%{y}<extra></extra>",
         "legendgroup": "system operability disruption",
         "marker": {
          "color": "#FF6692",
          "pattern": {
           "shape": ""
          }
         },
         "name": "system operability disruption",
         "offsetgroup": "system operability disruption",
         "orientation": "v",
         "showlegend": true,
         "textposition": "auto",
         "type": "bar",
         "x": [
          2000,
          2001,
          2002,
          2003,
          2004,
          2005,
          2006,
          2007,
          2008,
          2009,
          2010,
          2011,
          2012,
          2013,
          2014,
          2015,
          2016
         ],
         "xaxis": "x",
         "y": [
          4,
          9,
          3,
          7,
          3,
          4,
          9,
          4,
          14,
          6,
          13,
          12,
          7,
          6,
          1,
          13,
          8
         ],
         "yaxis": "y"
        }
       ],
       "layout": {
        "barmode": "relative",
        "legend": {
         "title": {
          "text": "CAUSE.CATEGORY"
         },
         "tracegroupgap": 0
        },
        "margin": {
         "t": 60
        },
        "template": {
         "data": {
          "bar": [
           {
            "error_x": {
             "color": "#2a3f5f"
            },
            "error_y": {
             "color": "#2a3f5f"
            },
            "marker": {
             "line": {
              "color": "#E5ECF6",
              "width": 0.5
             },
             "pattern": {
              "fillmode": "overlay",
              "size": 10,
              "solidity": 0.2
             }
            },
            "type": "bar"
           }
          ],
          "barpolar": [
           {
            "marker": {
             "line": {
              "color": "#E5ECF6",
              "width": 0.5
             },
             "pattern": {
              "fillmode": "overlay",
              "size": 10,
              "solidity": 0.2
             }
            },
            "type": "barpolar"
           }
          ],
          "carpet": [
           {
            "aaxis": {
             "endlinecolor": "#2a3f5f",
             "gridcolor": "white",
             "linecolor": "white",
             "minorgridcolor": "white",
             "startlinecolor": "#2a3f5f"
            },
            "baxis": {
             "endlinecolor": "#2a3f5f",
             "gridcolor": "white",
             "linecolor": "white",
             "minorgridcolor": "white",
             "startlinecolor": "#2a3f5f"
            },
            "type": "carpet"
           }
          ],
          "choropleth": [
           {
            "colorbar": {
             "outlinewidth": 0,
             "ticks": ""
            },
            "type": "choropleth"
           }
          ],
          "contour": [
           {
            "colorbar": {
             "outlinewidth": 0,
             "ticks": ""
            },
            "colorscale": [
             [
              0,
              "#0d0887"
             ],
             [
              0.1111111111111111,
              "#46039f"
             ],
             [
              0.2222222222222222,
              "#7201a8"
             ],
             [
              0.3333333333333333,
              "#9c179e"
             ],
             [
              0.4444444444444444,
              "#bd3786"
             ],
             [
              0.5555555555555556,
              "#d8576b"
             ],
             [
              0.6666666666666666,
              "#ed7953"
             ],
             [
              0.7777777777777778,
              "#fb9f3a"
             ],
             [
              0.8888888888888888,
              "#fdca26"
             ],
             [
              1,
              "#f0f921"
             ]
            ],
            "type": "contour"
           }
          ],
          "contourcarpet": [
           {
            "colorbar": {
             "outlinewidth": 0,
             "ticks": ""
            },
            "type": "contourcarpet"
           }
          ],
          "heatmap": [
           {
            "colorbar": {
             "outlinewidth": 0,
             "ticks": ""
            },
            "colorscale": [
             [
              0,
              "#0d0887"
             ],
             [
              0.1111111111111111,
              "#46039f"
             ],
             [
              0.2222222222222222,
              "#7201a8"
             ],
             [
              0.3333333333333333,
              "#9c179e"
             ],
             [
              0.4444444444444444,
              "#bd3786"
             ],
             [
              0.5555555555555556,
              "#d8576b"
             ],
             [
              0.6666666666666666,
              "#ed7953"
             ],
             [
              0.7777777777777778,
              "#fb9f3a"
             ],
             [
              0.8888888888888888,
              "#fdca26"
             ],
             [
              1,
              "#f0f921"
             ]
            ],
            "type": "heatmap"
           }
          ],
          "heatmapgl": [
           {
            "colorbar": {
             "outlinewidth": 0,
             "ticks": ""
            },
            "colorscale": [
             [
              0,
              "#0d0887"
             ],
             [
              0.1111111111111111,
              "#46039f"
             ],
             [
              0.2222222222222222,
              "#7201a8"
             ],
             [
              0.3333333333333333,
              "#9c179e"
             ],
             [
              0.4444444444444444,
              "#bd3786"
             ],
             [
              0.5555555555555556,
              "#d8576b"
             ],
             [
              0.6666666666666666,
              "#ed7953"
             ],
             [
              0.7777777777777778,
              "#fb9f3a"
             ],
             [
              0.8888888888888888,
              "#fdca26"
             ],
             [
              1,
              "#f0f921"
             ]
            ],
            "type": "heatmapgl"
           }
          ],
          "histogram": [
           {
            "marker": {
             "pattern": {
              "fillmode": "overlay",
              "size": 10,
              "solidity": 0.2
             }
            },
            "type": "histogram"
           }
          ],
          "histogram2d": [
           {
            "colorbar": {
             "outlinewidth": 0,
             "ticks": ""
            },
            "colorscale": [
             [
              0,
              "#0d0887"
             ],
             [
              0.1111111111111111,
              "#46039f"
             ],
             [
              0.2222222222222222,
              "#7201a8"
             ],
             [
              0.3333333333333333,
              "#9c179e"
             ],
             [
              0.4444444444444444,
              "#bd3786"
             ],
             [
              0.5555555555555556,
              "#d8576b"
             ],
             [
              0.6666666666666666,
              "#ed7953"
             ],
             [
              0.7777777777777778,
              "#fb9f3a"
             ],
             [
              0.8888888888888888,
              "#fdca26"
             ],
             [
              1,
              "#f0f921"
             ]
            ],
            "type": "histogram2d"
           }
          ],
          "histogram2dcontour": [
           {
            "colorbar": {
             "outlinewidth": 0,
             "ticks": ""
            },
            "colorscale": [
             [
              0,
              "#0d0887"
             ],
             [
              0.1111111111111111,
              "#46039f"
             ],
             [
              0.2222222222222222,
              "#7201a8"
             ],
             [
              0.3333333333333333,
              "#9c179e"
             ],
             [
              0.4444444444444444,
              "#bd3786"
             ],
             [
              0.5555555555555556,
              "#d8576b"
             ],
             [
              0.6666666666666666,
              "#ed7953"
             ],
             [
              0.7777777777777778,
              "#fb9f3a"
             ],
             [
              0.8888888888888888,
              "#fdca26"
             ],
             [
              1,
              "#f0f921"
             ]
            ],
            "type": "histogram2dcontour"
           }
          ],
          "mesh3d": [
           {
            "colorbar": {
             "outlinewidth": 0,
             "ticks": ""
            },
            "type": "mesh3d"
           }
          ],
          "parcoords": [
           {
            "line": {
             "colorbar": {
              "outlinewidth": 0,
              "ticks": ""
             }
            },
            "type": "parcoords"
           }
          ],
          "pie": [
           {
            "automargin": true,
            "type": "pie"
           }
          ],
          "scatter": [
           {
            "fillpattern": {
             "fillmode": "overlay",
             "size": 10,
             "solidity": 0.2
            },
            "type": "scatter"
           }
          ],
          "scatter3d": [
           {
            "line": {
             "colorbar": {
              "outlinewidth": 0,
              "ticks": ""
             }
            },
            "marker": {
             "colorbar": {
              "outlinewidth": 0,
              "ticks": ""
             }
            },
            "type": "scatter3d"
           }
          ],
          "scattercarpet": [
           {
            "marker": {
             "colorbar": {
              "outlinewidth": 0,
              "ticks": ""
             }
            },
            "type": "scattercarpet"
           }
          ],
          "scattergeo": [
           {
            "marker": {
             "colorbar": {
              "outlinewidth": 0,
              "ticks": ""
             }
            },
            "type": "scattergeo"
           }
          ],
          "scattergl": [
           {
            "marker": {
             "colorbar": {
              "outlinewidth": 0,
              "ticks": ""
             }
            },
            "type": "scattergl"
           }
          ],
          "scattermapbox": [
           {
            "marker": {
             "colorbar": {
              "outlinewidth": 0,
              "ticks": ""
             }
            },
            "type": "scattermapbox"
           }
          ],
          "scatterpolar": [
           {
            "marker": {
             "colorbar": {
              "outlinewidth": 0,
              "ticks": ""
             }
            },
            "type": "scatterpolar"
           }
          ],
          "scatterpolargl": [
           {
            "marker": {
             "colorbar": {
              "outlinewidth": 0,
              "ticks": ""
             }
            },
            "type": "scatterpolargl"
           }
          ],
          "scatterternary": [
           {
            "marker": {
             "colorbar": {
              "outlinewidth": 0,
              "ticks": ""
             }
            },
            "type": "scatterternary"
           }
          ],
          "surface": [
           {
            "colorbar": {
             "outlinewidth": 0,
             "ticks": ""
            },
            "colorscale": [
             [
              0,
              "#0d0887"
             ],
             [
              0.1111111111111111,
              "#46039f"
             ],
             [
              0.2222222222222222,
              "#7201a8"
             ],
             [
              0.3333333333333333,
              "#9c179e"
             ],
             [
              0.4444444444444444,
              "#bd3786"
             ],
             [
              0.5555555555555556,
              "#d8576b"
             ],
             [
              0.6666666666666666,
              "#ed7953"
             ],
             [
              0.7777777777777778,
              "#fb9f3a"
             ],
             [
              0.8888888888888888,
              "#fdca26"
             ],
             [
              1,
              "#f0f921"
             ]
            ],
            "type": "surface"
           }
          ],
          "table": [
           {
            "cells": {
             "fill": {
              "color": "#EBF0F8"
             },
             "line": {
              "color": "white"
             }
            },
            "header": {
             "fill": {
              "color": "#C8D4E3"
             },
             "line": {
              "color": "white"
             }
            },
            "type": "table"
           }
          ]
         },
         "layout": {
          "annotationdefaults": {
           "arrowcolor": "#2a3f5f",
           "arrowhead": 0,
           "arrowwidth": 1
          },
          "autotypenumbers": "strict",
          "coloraxis": {
           "colorbar": {
            "outlinewidth": 0,
            "ticks": ""
           }
          },
          "colorscale": {
           "diverging": [
            [
             0,
             "#8e0152"
            ],
            [
             0.1,
             "#c51b7d"
            ],
            [
             0.2,
             "#de77ae"
            ],
            [
             0.3,
             "#f1b6da"
            ],
            [
             0.4,
             "#fde0ef"
            ],
            [
             0.5,
             "#f7f7f7"
            ],
            [
             0.6,
             "#e6f5d0"
            ],
            [
             0.7,
             "#b8e186"
            ],
            [
             0.8,
             "#7fbc41"
            ],
            [
             0.9,
             "#4d9221"
            ],
            [
             1,
             "#276419"
            ]
           ],
           "sequential": [
            [
             0,
             "#0d0887"
            ],
            [
             0.1111111111111111,
             "#46039f"
            ],
            [
             0.2222222222222222,
             "#7201a8"
            ],
            [
             0.3333333333333333,
             "#9c179e"
            ],
            [
             0.4444444444444444,
             "#bd3786"
            ],
            [
             0.5555555555555556,
             "#d8576b"
            ],
            [
             0.6666666666666666,
             "#ed7953"
            ],
            [
             0.7777777777777778,
             "#fb9f3a"
            ],
            [
             0.8888888888888888,
             "#fdca26"
            ],
            [
             1,
             "#f0f921"
            ]
           ],
           "sequentialminus": [
            [
             0,
             "#0d0887"
            ],
            [
             0.1111111111111111,
             "#46039f"
            ],
            [
             0.2222222222222222,
             "#7201a8"
            ],
            [
             0.3333333333333333,
             "#9c179e"
            ],
            [
             0.4444444444444444,
             "#bd3786"
            ],
            [
             0.5555555555555556,
             "#d8576b"
            ],
            [
             0.6666666666666666,
             "#ed7953"
            ],
            [
             0.7777777777777778,
             "#fb9f3a"
            ],
            [
             0.8888888888888888,
             "#fdca26"
            ],
            [
             1,
             "#f0f921"
            ]
           ]
          },
          "colorway": [
           "#636efa",
           "#EF553B",
           "#00cc96",
           "#ab63fa",
           "#FFA15A",
           "#19d3f3",
           "#FF6692",
           "#B6E880",
           "#FF97FF",
           "#FECB52"
          ],
          "font": {
           "color": "#2a3f5f"
          },
          "geo": {
           "bgcolor": "white",
           "lakecolor": "white",
           "landcolor": "#E5ECF6",
           "showlakes": true,
           "showland": true,
           "subunitcolor": "white"
          },
          "hoverlabel": {
           "align": "left"
          },
          "hovermode": "closest",
          "mapbox": {
           "style": "light"
          },
          "paper_bgcolor": "white",
          "plot_bgcolor": "#E5ECF6",
          "polar": {
           "angularaxis": {
            "gridcolor": "white",
            "linecolor": "white",
            "ticks": ""
           },
           "bgcolor": "#E5ECF6",
           "radialaxis": {
            "gridcolor": "white",
            "linecolor": "white",
            "ticks": ""
           }
          },
          "scene": {
           "xaxis": {
            "backgroundcolor": "#E5ECF6",
            "gridcolor": "white",
            "gridwidth": 2,
            "linecolor": "white",
            "showbackground": true,
            "ticks": "",
            "zerolinecolor": "white"
           },
           "yaxis": {
            "backgroundcolor": "#E5ECF6",
            "gridcolor": "white",
            "gridwidth": 2,
            "linecolor": "white",
            "showbackground": true,
            "ticks": "",
            "zerolinecolor": "white"
           },
           "zaxis": {
            "backgroundcolor": "#E5ECF6",
            "gridcolor": "white",
            "gridwidth": 2,
            "linecolor": "white",
            "showbackground": true,
            "ticks": "",
            "zerolinecolor": "white"
           }
          },
          "shapedefaults": {
           "line": {
            "color": "#2a3f5f"
           }
          },
          "ternary": {
           "aaxis": {
            "gridcolor": "white",
            "linecolor": "white",
            "ticks": ""
           },
           "baxis": {
            "gridcolor": "white",
            "linecolor": "white",
            "ticks": ""
           },
           "bgcolor": "#E5ECF6",
           "caxis": {
            "gridcolor": "white",
            "linecolor": "white",
            "ticks": ""
           }
          },
          "title": {
           "x": 0.05
          },
          "xaxis": {
           "automargin": true,
           "gridcolor": "white",
           "linecolor": "white",
           "ticks": "",
           "title": {
            "standoff": 15
           },
           "zerolinecolor": "white",
           "zerolinewidth": 2
          },
          "yaxis": {
           "automargin": true,
           "gridcolor": "white",
           "linecolor": "white",
           "ticks": "",
           "title": {
            "standoff": 15
           },
           "zerolinecolor": "white",
           "zerolinewidth": 2
          }
         }
        },
        "xaxis": {
         "anchor": "y",
         "domain": [
          0,
          1
         ],
         "title": {
          "text": "YEAR"
         }
        },
        "yaxis": {
         "anchor": "x",
         "domain": [
          0,
          1
         ],
         "title": {
          "text": "value"
         }
        }
       }
      }
     },
     "metadata": {},
     "output_type": "display_data"
    }
   ],
   "source": [
    "df_dropped.groupby(['CAUSE.CATEGORY','YEAR']).count()['MONTH'].unstack(level=0).plot(kind='bar')"
   ]
  },
  {
   "cell_type": "code",
   "execution_count": 10,
   "metadata": {},
   "outputs": [
    {
     "data": {
      "image/png": "[encoded data removed]",
      "text/plain": [
       "<Figure size 640x480 with 1 Axes>"
      ]
     },
     "metadata": {},
     "output_type": "display_data"
    },
    {
     "name": "stdout",
     "output_type": "stream",
     "text": [
      "Each grouping represents 12 hour period, or half a day.\n"
     ]
    }
   ],
   "source": [
    "graph2 = df_dropped.groupby('OUTAGE.DURATION').count().reset_index()#['MONTH']#.plot(kind='hist')\n",
    "w = 12*60\n",
    "plt.hist(graph2['OUTAGE.DURATION'], bins=np.arange(min(graph2['OUTAGE.DURATION']), 25000, w), edgecolor='black', rwidth=500)\n",
    "plt.xlabel('Outage time in minutes (m)')\n",
    "plt.ylabel('Number of Outages')\n",
    "plt.title('Count of outages based on their duration')\n",
    "#plt.xticks([0, 1000, 2000, 4000, 6000, 8000, 10000, 100000])\n",
    "plt.show()\n",
    "print('Each grouping represents 12 hour period, or half a day.')"
   ]
  },
  {
   "cell_type": "code",
   "execution_count": 41,
   "metadata": {},
   "outputs": [
    {
     "data": {
      "application/vnd.plotly.v1+json": {
       "config": {
        "plotlyServerURL": "https://plot.ly"
       },
       "data": [
        {
         "hovertemplate": "variable=OUTAGE.DURATION<br>MONTH=%{x}<br>value=%{y}<extra></extra>",
         "legendgroup": "OUTAGE.DURATION",
         "line": {
          "color": "#636efa",
          "dash": "solid"
         },
         "marker": {
          "symbol": "circle"
         },
         "mode": "lines",
         "name": "OUTAGE.DURATION",
         "orientation": "v",
         "showlegend": true,
         "type": "scatter",
         "x": [
          1,
          2,
          3,
          4,
          5,
          6,
          7,
          8,
          9,
          10,
          11,
          12
         ],
         "xaxis": "x",
         "y": [
          3387.9473684210525,
          2497.1439393939395,
          3265.8936170212764,
          1493.8598130841121,
          2077.294117647059,
          1948.4032258064517,
          2218.9887005649716,
          2428.476821192053,
          4294.521739130435,
          3600.935185185185,
          1728.159420289855,
          3293.787037037037
         ],
         "yaxis": "y"
        }
       ],
       "layout": {
        "legend": {
         "title": {
          "text": "variable"
         },
         "tracegroupgap": 0
        },
        "margin": {
         "t": 60
        },
        "template": {
         "data": {
          "bar": [
           {
            "error_x": {
             "color": "#2a3f5f"
            },
            "error_y": {
             "color": "#2a3f5f"
            },
            "marker": {
             "line": {
              "color": "#E5ECF6",
              "width": 0.5
             },
             "pattern": {
              "fillmode": "overlay",
              "size": 10,
              "solidity": 0.2
             }
            },
            "type": "bar"
           }
          ],
          "barpolar": [
           {
            "marker": {
             "line": {
              "color": "#E5ECF6",
              "width": 0.5
             },
             "pattern": {
              "fillmode": "overlay",
              "size": 10,
              "solidity": 0.2
             }
            },
            "type": "barpolar"
           }
          ],
          "carpet": [
           {
            "aaxis": {
             "endlinecolor": "#2a3f5f",
             "gridcolor": "white",
             "linecolor": "white",
             "minorgridcolor": "white",
             "startlinecolor": "#2a3f5f"
            },
            "baxis": {
             "endlinecolor": "#2a3f5f",
             "gridcolor": "white",
             "linecolor": "white",
             "minorgridcolor": "white",
             "startlinecolor": "#2a3f5f"
            },
            "type": "carpet"
           }
          ],
          "choropleth": [
           {
            "colorbar": {
             "outlinewidth": 0,
             "ticks": ""
            },
            "type": "choropleth"
           }
          ],
          "contour": [
           {
            "colorbar": {
             "outlinewidth": 0,
             "ticks": ""
            },
            "colorscale": [
             [
              0,
              "#0d0887"
             ],
             [
              0.1111111111111111,
              "#46039f"
             ],
             [
              0.2222222222222222,
              "#7201a8"
             ],
             [
              0.3333333333333333,
              "#9c179e"
             ],
             [
              0.4444444444444444,
              "#bd3786"
             ],
             [
              0.5555555555555556,
              "#d8576b"
             ],
             [
              0.6666666666666666,
              "#ed7953"
             ],
             [
              0.7777777777777778,
              "#fb9f3a"
             ],
             [
              0.8888888888888888,
              "#fdca26"
             ],
             [
              1,
              "#f0f921"
             ]
            ],
            "type": "contour"
           }
          ],
          "contourcarpet": [
           {
            "colorbar": {
             "outlinewidth": 0,
             "ticks": ""
            },
            "type": "contourcarpet"
           }
          ],
          "heatmap": [
           {
            "colorbar": {
             "outlinewidth": 0,
             "ticks": ""
            },
            "colorscale": [
             [
              0,
              "#0d0887"
             ],
             [
              0.1111111111111111,
              "#46039f"
             ],
             [
              0.2222222222222222,
              "#7201a8"
             ],
             [
              0.3333333333333333,
              "#9c179e"
             ],
             [
              0.4444444444444444,
              "#bd3786"
             ],
             [
              0.5555555555555556,
              "#d8576b"
             ],
             [
              0.6666666666666666,
              "#ed7953"
             ],
             [
              0.7777777777777778,
              "#fb9f3a"
             ],
             [
              0.8888888888888888,
              "#fdca26"
             ],
             [
              1,
              "#f0f921"
             ]
            ],
            "type": "heatmap"
           }
          ],
          "heatmapgl": [
           {
            "colorbar": {
             "outlinewidth": 0,
             "ticks": ""
            },
            "colorscale": [
             [
              0,
              "#0d0887"
             ],
             [
              0.1111111111111111,
              "#46039f"
             ],
             [
              0.2222222222222222,
              "#7201a8"
             ],
             [
              0.3333333333333333,
              "#9c179e"
             ],
             [
              0.4444444444444444,
              "#bd3786"
             ],
             [
              0.5555555555555556,
              "#d8576b"
             ],
             [
              0.6666666666666666,
              "#ed7953"
             ],
             [
              0.7777777777777778,
              "#fb9f3a"
             ],
             [
              0.8888888888888888,
              "#fdca26"
             ],
             [
              1,
              "#f0f921"
             ]
            ],
            "type": "heatmapgl"
           }
          ],
          "histogram": [
           {
            "marker": {
             "pattern": {
              "fillmode": "overlay",
              "size": 10,
              "solidity": 0.2
             }
            },
            "type": "histogram"
           }
          ],
          "histogram2d": [
           {
            "colorbar": {
             "outlinewidth": 0,
             "ticks": ""
            },
            "colorscale": [
             [
              0,
              "#0d0887"
             ],
             [
              0.1111111111111111,
              "#46039f"
             ],
             [
              0.2222222222222222,
              "#7201a8"
             ],
             [
              0.3333333333333333,
              "#9c179e"
             ],
             [
              0.4444444444444444,
              "#bd3786"
             ],
             [
              0.5555555555555556,
              "#d8576b"
             ],
             [
              0.6666666666666666,
              "#ed7953"
             ],
             [
              0.7777777777777778,
              "#fb9f3a"
             ],
             [
              0.8888888888888888,
              "#fdca26"
             ],
             [
              1,
              "#f0f921"
             ]
            ],
            "type": "histogram2d"
           }
          ],
          "histogram2dcontour": [
           {
            "colorbar": {
             "outlinewidth": 0,
             "ticks": ""
            },
            "colorscale": [
             [
              0,
              "#0d0887"
             ],
             [
              0.1111111111111111,
              "#46039f"
             ],
             [
              0.2222222222222222,
              "#7201a8"
             ],
             [
              0.3333333333333333,
              "#9c179e"
             ],
             [
              0.4444444444444444,
              "#bd3786"
             ],
             [
              0.5555555555555556,
              "#d8576b"
             ],
             [
              0.6666666666666666,
              "#ed7953"
             ],
             [
              0.7777777777777778,
              "#fb9f3a"
             ],
             [
              0.8888888888888888,
              "#fdca26"
             ],
             [
              1,
              "#f0f921"
             ]
            ],
            "type": "histogram2dcontour"
           }
          ],
          "mesh3d": [
           {
            "colorbar": {
             "outlinewidth": 0,
             "ticks": ""
            },
            "type": "mesh3d"
           }
          ],
          "parcoords": [
           {
            "line": {
             "colorbar": {
              "outlinewidth": 0,
              "ticks": ""
             }
            },
            "type": "parcoords"
           }
          ],
          "pie": [
           {
            "automargin": true,
            "type": "pie"
           }
          ],
          "scatter": [
           {
            "fillpattern": {
             "fillmode": "overlay",
             "size": 10,
             "solidity": 0.2
            },
            "type": "scatter"
           }
          ],
          "scatter3d": [
           {
            "line": {
             "colorbar": {
              "outlinewidth": 0,
              "ticks": ""
             }
            },
            "marker": {
             "colorbar": {
              "outlinewidth": 0,
              "ticks": ""
             }
            },
            "type": "scatter3d"
           }
          ],
          "scattercarpet": [
           {
            "marker": {
             "colorbar": {
              "outlinewidth": 0,
              "ticks": ""
             }
            },
            "type": "scattercarpet"
           }
          ],
          "scattergeo": [
           {
            "marker": {
             "colorbar": {
              "outlinewidth": 0,
              "ticks": ""
             }
            },
            "type": "scattergeo"
           }
          ],
          "scattergl": [
           {
            "marker": {
             "colorbar": {
              "outlinewidth": 0,
              "ticks": ""
             }
            },
            "type": "scattergl"
           }
          ],
          "scattermapbox": [
           {
            "marker": {
             "colorbar": {
              "outlinewidth": 0,
              "ticks": ""
             }
            },
            "type": "scattermapbox"
           }
          ],
          "scatterpolar": [
           {
            "marker": {
             "colorbar": {
              "outlinewidth": 0,
              "ticks": ""
             }
            },
            "type": "scatterpolar"
           }
          ],
          "scatterpolargl": [
           {
            "marker": {
             "colorbar": {
              "outlinewidth": 0,
              "ticks": ""
             }
            },
            "type": "scatterpolargl"
           }
          ],
          "scatterternary": [
           {
            "marker": {
             "colorbar": {
              "outlinewidth": 0,
              "ticks": ""
             }
            },
            "type": "scatterternary"
           }
          ],
          "surface": [
           {
            "colorbar": {
             "outlinewidth": 0,
             "ticks": ""
            },
            "colorscale": [
             [
              0,
              "#0d0887"
             ],
             [
              0.1111111111111111,
              "#46039f"
             ],
             [
              0.2222222222222222,
              "#7201a8"
             ],
             [
              0.3333333333333333,
              "#9c179e"
             ],
             [
              0.4444444444444444,
              "#bd3786"
             ],
             [
              0.5555555555555556,
              "#d8576b"
             ],
             [
              0.6666666666666666,
              "#ed7953"
             ],
             [
              0.7777777777777778,
              "#fb9f3a"
             ],
             [
              0.8888888888888888,
              "#fdca26"
             ],
             [
              1,
              "#f0f921"
             ]
            ],
            "type": "surface"
           }
          ],
          "table": [
           {
            "cells": {
             "fill": {
              "color": "#EBF0F8"
             },
             "line": {
              "color": "white"
             }
            },
            "header": {
             "fill": {
              "color": "#C8D4E3"
             },
             "line": {
              "color": "white"
             }
            },
            "type": "table"
           }
          ]
         },
         "layout": {
          "annotationdefaults": {
           "arrowcolor": "#2a3f5f",
           "arrowhead": 0,
           "arrowwidth": 1
          },
          "autotypenumbers": "strict",
          "coloraxis": {
           "colorbar": {
            "outlinewidth": 0,
            "ticks": ""
           }
          },
          "colorscale": {
           "diverging": [
            [
             0,
             "#8e0152"
            ],
            [
             0.1,
             "#c51b7d"
            ],
            [
             0.2,
             "#de77ae"
            ],
            [
             0.3,
             "#f1b6da"
            ],
            [
             0.4,
             "#fde0ef"
            ],
            [
             0.5,
             "#f7f7f7"
            ],
            [
             0.6,
             "#e6f5d0"
            ],
            [
             0.7,
             "#b8e186"
            ],
            [
             0.8,
             "#7fbc41"
            ],
            [
             0.9,
             "#4d9221"
            ],
            [
             1,
             "#276419"
            ]
           ],
           "sequential": [
            [
             0,
             "#0d0887"
            ],
            [
             0.1111111111111111,
             "#46039f"
            ],
            [
             0.2222222222222222,
             "#7201a8"
            ],
            [
             0.3333333333333333,
             "#9c179e"
            ],
            [
             0.4444444444444444,
             "#bd3786"
            ],
            [
             0.5555555555555556,
             "#d8576b"
            ],
            [
             0.6666666666666666,
             "#ed7953"
            ],
            [
             0.7777777777777778,
             "#fb9f3a"
            ],
            [
             0.8888888888888888,
             "#fdca26"
            ],
            [
             1,
             "#f0f921"
            ]
           ],
           "sequentialminus": [
            [
             0,
             "#0d0887"
            ],
            [
             0.1111111111111111,
             "#46039f"
            ],
            [
             0.2222222222222222,
             "#7201a8"
            ],
            [
             0.3333333333333333,
             "#9c179e"
            ],
            [
             0.4444444444444444,
             "#bd3786"
            ],
            [
             0.5555555555555556,
             "#d8576b"
            ],
            [
             0.6666666666666666,
             "#ed7953"
            ],
            [
             0.7777777777777778,
             "#fb9f3a"
            ],
            [
             0.8888888888888888,
             "#fdca26"
            ],
            [
             1,
             "#f0f921"
            ]
           ]
          },
          "colorway": [
           "#636efa",
           "#EF553B",
           "#00cc96",
           "#ab63fa",
           "#FFA15A",
           "#19d3f3",
           "#FF6692",
           "#B6E880",
           "#FF97FF",
           "#FECB52"
          ],
          "font": {
           "color": "#2a3f5f"
          },
          "geo": {
           "bgcolor": "white",
           "lakecolor": "white",
           "landcolor": "#E5ECF6",
           "showlakes": true,
           "showland": true,
           "subunitcolor": "white"
          },
          "hoverlabel": {
           "align": "left"
          },
          "hovermode": "closest",
          "mapbox": {
           "style": "light"
          },
          "paper_bgcolor": "white",
          "plot_bgcolor": "#E5ECF6",
          "polar": {
           "angularaxis": {
            "gridcolor": "white",
            "linecolor": "white",
            "ticks": ""
           },
           "bgcolor": "#E5ECF6",
           "radialaxis": {
            "gridcolor": "white",
            "linecolor": "white",
            "ticks": ""
           }
          },
          "scene": {
           "xaxis": {
            "backgroundcolor": "#E5ECF6",
            "gridcolor": "white",
            "gridwidth": 2,
            "linecolor": "white",
            "showbackground": true,
            "ticks": "",
            "zerolinecolor": "white"
           },
           "yaxis": {
            "backgroundcolor": "#E5ECF6",
            "gridcolor": "white",
            "gridwidth": 2,
            "linecolor": "white",
            "showbackground": true,
            "ticks": "",
            "zerolinecolor": "white"
           },
           "zaxis": {
            "backgroundcolor": "#E5ECF6",
            "gridcolor": "white",
            "gridwidth": 2,
            "linecolor": "white",
            "showbackground": true,
            "ticks": "",
            "zerolinecolor": "white"
           }
          },
          "shapedefaults": {
           "line": {
            "color": "#2a3f5f"
           }
          },
          "ternary": {
           "aaxis": {
            "gridcolor": "white",
            "linecolor": "white",
            "ticks": ""
           },
           "baxis": {
            "gridcolor": "white",
            "linecolor": "white",
            "ticks": ""
           },
           "bgcolor": "#E5ECF6",
           "caxis": {
            "gridcolor": "white",
            "linecolor": "white",
            "ticks": ""
           }
          },
          "title": {
           "x": 0.05
          },
          "xaxis": {
           "automargin": true,
           "gridcolor": "white",
           "linecolor": "white",
           "ticks": "",
           "title": {
            "standoff": 15
           },
           "zerolinecolor": "white",
           "zerolinewidth": 2
          },
          "yaxis": {
           "automargin": true,
           "gridcolor": "white",
           "linecolor": "white",
           "ticks": "",
           "title": {
            "standoff": 15
           },
           "zerolinecolor": "white",
           "zerolinewidth": 2
          }
         }
        },
        "xaxis": {
         "anchor": "y",
         "domain": [
          0,
          1
         ],
         "title": {
          "text": "MONTH"
         }
        },
        "yaxis": {
         "anchor": "x",
         "domain": [
          0,
          1
         ],
         "title": {
          "text": "value"
         }
        }
       }
      }
     },
     "metadata": {},
     "output_type": "display_data"
    }
   ],
   "source": [
    "df_dropped.groupby('MONTH', dropna=True)['OUTAGE.DURATION'].mean().plot()"
   ]
  },
  {
   "cell_type": "code",
   "execution_count": 12,
   "metadata": {},
   "outputs": [
    {
     "data": {
      "application/vnd.plotly.v1+json": {
       "config": {
        "plotlyServerURL": "https://plot.ly"
       },
       "data": [
        {
         "hovertemplate": "variable=OUTAGE.DURATION<br>OUTAGE.START=%{x}<br>value=%{y}<extra></extra>",
         "legendgroup": "OUTAGE.DURATION",
         "line": {
          "color": "#636efa",
          "dash": "solid"
         },
         "marker": {
          "symbol": "circle"
         },
         "mode": "lines",
         "name": "OUTAGE.DURATION",
         "showlegend": true,
         "type": "scattergl",
         "x": [
          "2000-01-23T08:00:00",
          "2000-01-29T22:00:00",
          "2000-03-18T16:00:00",
          "2000-03-18T19:08:00",
          "2000-05-02T04:00:00",
          "2000-05-09T11:39:00",
          "2000-05-24T10:15:00",
          "2000-05-25T10:00:00",
          "2000-06-14T15:54:00",
          "2000-08-06T16:00:00",
          "2000-08-10T21:30:00",
          "2000-08-18T18:30:00",
          "2000-12-16T11:36:00",
          "2001-01-17T01:45:00",
          "2001-01-20T08:15:00",
          "2001-03-06T09:17:00",
          "2001-03-14T15:00:00",
          "2001-03-19T11:46:00",
          "2001-03-20T09:17:00",
          "2001-03-20T11:50:00",
          "2001-05-07T16:45:00",
          "2001-05-08T15:10:00",
          "2001-05-08T15:12:00",
          "2001-06-06T16:22:00",
          "2001-06-08T19:00:00",
          "2001-06-25T13:25:00",
          "2001-08-09T15:11:00",
          "2002-01-30T06:00:00",
          "2002-01-30T16:00:00",
          "2002-02-27T10:48:00",
          "2002-03-09T00:00:00",
          "2002-08-09T08:23:00",
          "2002-08-25T03:41:00",
          "2002-11-06T22:00:00",
          "2002-11-17T06:00:00",
          "2002-12-03T18:30:00",
          "2002-12-11T13:09:00",
          "2002-12-14T11:00:00",
          "2002-12-19T06:00:00",
          "2002-12-25T10:00:00",
          "2002-12-25T17:00:00",
          "2003-01-25T14:00:00",
          "2003-02-27T11:32:00",
          "2003-04-03T19:00:00",
          "2003-04-04T03:11:00",
          "2003-04-15T11:00:00",
          "2003-04-28T15:41:00",
          "2003-05-15T02:52:00",
          "2003-05-15T14:00:00",
          "2003-06-15T15:12:00",
          "2003-07-01T15:15:00",
          "2003-07-02T13:54:00",
          "2003-07-04T06:00:00",
          "2003-07-04T09:00:00",
          "2003-07-05T03:00:00",
          "2003-07-07T09:00:00",
          "2003-07-08T04:00:00",
          "2003-07-09T17:14:00",
          "2003-07-15T08:24:00",
          "2003-07-21T17:15:00",
          "2003-07-28T18:55:00",
          "2003-08-14T16:09:00",
          "2003-08-14T16:10:00",
          "2003-08-14T16:11:00",
          "2003-08-26T16:00:00",
          "2003-08-26T16:22:00",
          "2003-09-07T05:19:00",
          "2003-09-18T00:00:00",
          "2003-09-18T11:45:00",
          "2003-09-18T15:32:00",
          "2003-09-18T16:20:00",
          "2003-10-26T01:44:00",
          "2003-11-12T17:00:00",
          "2003-11-12T18:00:00",
          "2003-11-13T06:00:00",
          "2003-11-13T07:30:00",
          "2003-11-13T11:00:00",
          "2003-11-13T13:40:00",
          "2003-12-01T18:16:00",
          "2003-12-04T07:00:00",
          "2003-12-05T04:49:00",
          "2003-12-20T15:51:00",
          "2003-12-22T11:15:00",
          "2003-12-28T21:00:00",
          "2004-01-01T07:30:00",
          "2004-01-07T00:00:00",
          "2004-01-08T15:00:00",
          "2004-01-14T06:00:00",
          "2004-01-26T10:00:00",
          "2004-01-26T14:00:00",
          "2004-01-28T13:09:00",
          "2004-02-14T20:00:00",
          "2004-02-17T14:25:00",
          "2004-02-25T00:01:00",
          "2004-02-26T00:00:00",
          "2004-03-04T05:00:00",
          "2004-03-08T18:22:00",
          "2004-03-17T13:27:00",
          "2004-04-10T20:00:00",
          "2004-04-12T05:30:00",
          "2004-04-27T12:35:00",
          "2004-05-03T14:30:00",
          "2004-05-11T15:30:00",
          "2004-05-21T02:00:00",
          "2004-05-21T11:00:00",
          "2004-05-21T13:00:00",
          "2004-05-21T16:00:00",
          "2004-05-28T12:00:00",
          "2004-06-01T17:00:00",
          "2004-06-02T01:46:00",
          "2004-06-02T02:35:00",
          "2004-06-12T17:37:00",
          "2004-06-14T07:41:00",
          "2004-06-23T17:35:00",
          "2004-07-06T06:00:00",
          "2004-07-07T13:30:00",
          "2004-07-13T13:34:00",
          "2004-07-13T16:30:00",
          "2004-07-20T14:26:00",
          "2004-07-21T17:30:00",
          "2004-07-24T15:45:00",
          "2004-08-02T10:00:00",
          "2004-08-03T21:00:00",
          "2004-08-04T12:46:00",
          "2004-08-13T08:00:00",
          "2004-08-13T15:00:00",
          "2004-08-13T16:43:00",
          "2004-08-13T22:04:00",
          "2004-08-20T15:31:00",
          "2004-08-29T09:52:00",
          "2004-09-03T21:00:00",
          "2004-09-04T08:00:00",
          "2004-09-04T10:00:00",
          "2004-09-05T07:00:00",
          "2004-09-07T10:00:00",
          "2004-09-17T04:30:00",
          "2004-09-25T17:00:00",
          "2004-09-26T02:00:00",
          "2004-09-26T03:00:00",
          "2004-09-26T06:00:00",
          "2004-09-27T08:00:00",
          "2004-10-18T22:30:00",
          "2004-10-25T11:00:00",
          "2004-10-28T15:27:00",
          "2004-10-30T10:00:00",
          "2004-10-30T12:30:00",
          "2004-11-23T22:00:00",
          "2004-11-24T10:00:00",
          "2004-12-01T07:30:00",
          "2004-12-01T10:00:00",
          "2004-12-27T07:50:00",
          "2005-01-04T18:00:00",
          "2005-01-05T16:00:00",
          "2005-01-05T21:10:00",
          "2005-01-07T13:00:00",
          "2005-01-29T16:00:00",
          "2005-03-08T11:00:00",
          "2005-04-01T00:00:00",
          "2005-04-22T15:51:00",
          "2005-04-23T06:00:00",
          "2005-05-08T15:00:00",
          "2005-05-29T20:00:00",
          "2005-06-05T14:00:00",
          "2005-06-06T12:00:00",
          "2005-06-06T16:43:00",
          "2005-06-08T04:00:00",
          "2005-06-24T20:37:00",
          "2005-06-29T16:30:00",
          "2005-07-05T21:00:00",
          "2005-07-21T14:39:00",
          "2005-07-22T13:55:00",
          "2005-07-23T01:02:00",
          "2005-07-27T16:50:00",
          "2005-07-27T17:50:00",
          "2005-07-27T18:00:00",
          "2005-08-08T12:38:00",
          "2005-08-20T14:15:00",
          "2005-08-25T15:50:00",
          "2005-08-25T15:51:00",
          "2005-08-29T01:10:00",
          "2005-08-29T06:00:00",
          "2005-08-29T07:10:00",
          "2005-08-29T17:00:00",
          "2005-08-31T16:00:00",
          "2005-09-12T12:32:00",
          "2005-09-13T18:30:00",
          "2005-09-14T15:00:00",
          "2005-09-21T19:00:00",
          "2005-09-22T11:00:00",
          "2005-09-22T12:00:00",
          "2005-09-23T07:00:00",
          "2005-09-23T13:06:00",
          "2005-09-23T17:00:00",
          "2005-09-24T06:00:00",
          "2005-09-24T10:00:00",
          "2005-10-23T20:00:00",
          "2005-10-24T04:00:00",
          "2005-10-24T07:00:00",
          "2005-11-03T18:47:00",
          "2005-11-06T07:30:00",
          "2005-11-12T16:00:00",
          "2005-11-12T23:00:00",
          "2005-12-15T05:05:00",
          "2005-12-31T06:00:00",
          "2006-01-14T15:45:00",
          "2006-01-18T15:16:00",
          "2006-02-04T01:34:00",
          "2006-02-04T04:30:00",
          "2006-02-11T21:00:00",
          "2006-02-12T00:06:00",
          "2006-02-12T02:00:00",
          "2006-02-12T05:55:00",
          "2006-02-16T12:00:00",
          "2006-02-17T04:32:00",
          "2006-02-18T08:50:00",
          "2006-02-27T18:25:00",
          "2006-03-12T20:30:00",
          "2006-04-02T21:00:00",
          "2006-04-17T15:25:00",
          "2006-04-17T16:10:00",
          "2006-04-17T16:11:00",
          "2006-04-17T16:20:00",
          "2006-04-17T16:35:00",
          "2006-04-21T07:00:00",
          "2006-05-03T15:30:00",
          "2006-05-19T15:13:00",
          "2006-06-01T14:12:00",
          "2006-06-01T18:00:00",
          "2006-06-01T18:30:00",
          "2006-06-11T18:00:00",
          "2006-07-02T18:39:00",
          "2006-07-04T17:30:00",
          "2006-07-16T14:00:00",
          "2006-07-17T18:50:00",
          "2006-07-17T21:00:00",
          "2006-07-18T18:36:00",
          "2006-07-18T20:07:00",
          "2006-07-19T11:00:00",
          "2006-07-22T13:09:00",
          "2006-07-24T14:33:00",
          "2006-07-27T18:38:00",
          "2006-08-01T12:00:00",
          "2006-08-07T13:00:00",
          "2006-09-01T05:30:00",
          "2006-09-01T15:00:00",
          "2006-09-01T20:00:00",
          "2006-10-02T14:00:00",
          "2006-10-02T15:05:00",
          "2006-10-03T17:28:00",
          "2006-10-12T17:48:00",
          "2006-10-12T20:00:00",
          "2006-10-15T07:09:00",
          "2006-10-26T05:30:00",
          "2006-11-15T10:00:00",
          "2006-11-15T13:00:00",
          "2006-11-15T15:00:00",
          "2006-11-26T13:00:00",
          "2006-12-01T18:20:00",
          "2006-12-10T19:35:00",
          "2006-12-13T04:30:00",
          "2006-12-14T00:01:00",
          "2006-12-14T05:30:00",
          "2006-12-14T12:07:00",
          "2006-12-14T17:00:00",
          "2006-12-14T19:00:00",
          "2006-12-16T19:30:00",
          "2006-12-26T00:01:00",
          "2006-12-30T22:25:00",
          "2007-01-13T07:30:00",
          "2007-01-16T02:00:00",
          "2007-02-13T17:00:00",
          "2007-02-24T18:00:00",
          "2007-02-24T19:23:00",
          "2007-02-28T00:45:00",
          "2007-03-31T07:30:00",
          "2007-04-05T21:20:00",
          "2007-04-12T00:32:00",
          "2007-04-12T09:09:00",
          "2007-04-16T08:00:00",
          "2007-04-16T10:14:00",
          "2007-04-16T14:00:00",
          "2007-05-02T13:30:00",
          "2007-05-10T09:57:00",
          "2007-05-14T11:15:00",
          "2007-05-15T15:00:00",
          "2007-05-16T18:00:00",
          "2007-05-21T13:48:00",
          "2007-06-27T15:41:00",
          "2007-06-27T15:42:00",
          "2007-06-29T09:23:00",
          "2007-07-03T10:59:00",
          "2007-07-05T19:00:00",
          "2007-07-10T11:00:00",
          "2007-07-16T16:17:00",
          "2007-07-18T18:00:00",
          "2007-07-19T15:00:00",
          "2007-07-19T15:50:00",
          "2007-08-09T14:53:00",
          "2007-08-13T01:30:00",
          "2007-08-19T23:34:00",
          "2007-08-23T16:00:00",
          "2007-08-24T18:00:00",
          "2007-08-29T13:53:00",
          "2007-08-29T16:00:00",
          "2007-08-31T12:45:00",
          "2007-09-03T12:30:00",
          "2007-09-04T08:30:00",
          "2007-09-05T07:53:00",
          "2007-09-13T04:00:00",
          "2007-09-17T19:01:00",
          "2007-09-24T13:38:00",
          "2007-10-18T15:00:00",
          "2007-10-22T14:01:00",
          "2007-10-22T14:05:00",
          "2007-10-22T14:06:00",
          "2007-10-26T06:44:00",
          "2007-12-01T18:04:00",
          "2007-12-10T03:08:00",
          "2007-12-11T04:00:00",
          "2007-12-23T01:00:00",
          "2007-12-23T05:30:00",
          "2008-01-04T04:00:00",
          "2008-01-04T07:47:00",
          "2008-01-29T05:00:00",
          "2008-01-29T22:00:00",
          "2008-01-29T23:23:00",
          "2008-01-30T03:06:00",
          "2008-02-01T06:00:00",
          "2008-02-02T03:58:00",
          "2008-02-05T22:00:00",
          "2008-02-06T09:00:00",
          "2008-02-09T11:59:00",
          "2008-02-10T14:06:00",
          "2008-02-10T18:02:00",
          "2008-02-13T18:43:00",
          "2008-02-14T08:15:00",
          "2008-02-15T15:06:00",
          "2008-02-25T08:00:00",
          "2008-02-26T13:09:00",
          "2008-02-26T13:10:00",
          "2008-03-08T16:00:00",
          "2008-04-09T16:00:00",
          "2008-05-08T10:21:00",
          "2008-05-11T06:00:00",
          "2008-05-11T16:50:00",
          "2008-05-12T00:01:00",
          "2008-05-27T14:02:00",
          "2008-05-30T09:30:00",
          "2008-05-30T14:05:00",
          "2008-05-30T22:00:00",
          "2008-06-04T15:00:00",
          "2008-06-04T15:04:00",
          "2008-06-06T15:18:00",
          "2008-06-08T09:30:00",
          "2008-06-08T18:00:00",
          "2008-06-09T14:52:00",
          "2008-06-10T11:00:00",
          "2008-06-10T18:00:00",
          "2008-06-10T19:00:00",
          "2008-06-11T13:15:00",
          "2008-06-12T15:30:00",
          "2008-06-15T08:00:00",
          "2008-06-15T19:06:00",
          "2008-06-16T16:15:00",
          "2008-06-17T09:01:00",
          "2008-06-21T15:09:00",
          "2008-06-22T16:55:00",
          "2008-06-23T13:44:00",
          "2008-06-23T16:52:00",
          "2008-06-26T17:00:00",
          "2008-06-27T16:30:00",
          "2008-07-01T07:31:00",
          "2008-07-02T15:00:00",
          "2008-07-02T19:16:00",
          "2008-07-02T19:36:00",
          "2008-07-02T20:00:00",
          "2008-07-07T12:15:00",
          "2008-07-10T14:22:00",
          "2008-07-22T03:00:00",
          "2008-07-23T05:56:00",
          "2008-07-24T07:23:00",
          "2008-08-04T18:00:00",
          "2008-08-05T03:00:00",
          "2008-08-15T12:52:00",
          "2008-08-16T05:23:00",
          "2008-08-19T09:29:00",
          "2008-08-21T19:00:00",
          "2008-08-31T07:30:00",
          "2008-09-01T10:30:00",
          "2008-09-01T11:45:00",
          "2008-09-06T07:45:00",
          "2008-09-08T22:03:00",
          "2008-09-12T18:21:00",
          "2008-09-12T20:00:00",
          "2008-09-13T10:24:00",
          "2008-09-13T12:00:00",
          "2008-09-14T10:01:00",
          "2008-09-14T11:30:00",
          "2008-09-14T14:00:00",
          "2008-09-14T17:00:00",
          "2008-09-14T19:00:00",
          "2008-09-15T00:37:00",
          "2008-09-30T14:02:00",
          "2008-10-02T14:50:00",
          "2008-10-25T23:00:00",
          "2008-11-07T11:13:00",
          "2008-11-07T11:15:00",
          "2008-11-15T09:39:00",
          "2008-12-02T04:30:00",
          "2008-12-09T17:27:00",
          "2008-12-10T17:09:00",
          "2008-12-11T18:00:00",
          "2008-12-12T02:38:00",
          "2008-12-12T08:45:00",
          "2008-12-13T15:30:00",
          "2008-12-19T01:02:00",
          "2008-12-19T09:00:00",
          "2008-12-26T11:40:00",
          "2008-12-26T18:13:00",
          "2008-12-27T16:00:00",
          "2008-12-28T04:45:00",
          "2008-12-28T11:45:00",
          "2008-12-30T16:02:00",
          "2009-01-05T05:00:00",
          "2009-01-08T23:46:00",
          "2009-01-17T08:00:00",
          "2009-01-22T16:00:00",
          "2009-01-27T05:00:00",
          "2009-01-27T05:03:00",
          "2009-01-27T11:00:00",
          "2009-01-27T13:46:00",
          "2009-01-27T21:00:00",
          "2009-01-27T21:45:00",
          "2009-01-28T00:10:00",
          "2009-01-28T04:00:00",
          "2009-01-28T06:00:00",
          "2009-01-28T07:50:00",
          "2009-02-11T02:30:00",
          "2009-02-11T19:00:00",
          "2009-02-12T02:30:00",
          "2009-02-12T08:00:00",
          "2009-02-13T02:30:00",
          "2009-02-23T02:38:00",
          "2009-03-01T00:15:00",
          "2009-03-01T22:00:00",
          "2009-03-03T06:48:00",
          "2009-03-03T22:00:00",
          "2009-03-08T22:16:00",
          "2009-04-06T01:00:00",
          "2009-04-23T16:25:00",
          "2009-04-23T17:54:00",
          "2009-04-24T11:09:00",
          "2009-04-25T14:30:00",
          "2009-04-27T15:30:00",
          "2009-05-08T07:30:00",
          "2009-05-08T13:30:00",
          "2009-05-29T09:05:00",
          "2009-06-05T13:38:00",
          "2009-06-09T17:25:00",
          "2009-06-10T18:00:00",
          "2009-06-12T16:37:00",
          "2009-06-12T22:00:00",
          "2009-06-16T23:00:00",
          "2009-06-19T00:01:00",
          "2009-06-19T13:00:00",
          "2009-06-24T13:30:00",
          "2009-06-25T15:16:00",
          "2009-06-25T15:30:00",
          "2009-06-26T17:00:00",
          "2009-07-02T22:44:00",
          "2009-07-07T15:30:00",
          "2009-07-08T13:30:00",
          "2009-07-14T13:00:00",
          "2009-07-15T13:00:00",
          "2009-07-16T13:00:00",
          "2009-07-18T19:00:00",
          "2009-07-20T21:50:00",
          "2009-07-21T05:34:00",
          "2009-07-27T05:05:00",
          "2009-07-28T20:18:00",
          "2009-08-05T15:00:00",
          "2009-08-07T23:00:00",
          "2009-08-09T19:31:00",
          "2009-08-12T18:25:00",
          "2009-08-21T19:00:00",
          "2009-08-29T11:00:00",
          "2009-08-29T22:54:00",
          "2009-08-31T10:31:00",
          "2009-10-07T05:45:00",
          "2009-10-09T18:30:00",
          "2009-10-13T12:48:00",
          "2009-10-13T15:45:00",
          "2009-10-13T16:00:00",
          "2009-11-18T06:15:00",
          "2009-12-07T22:00:00",
          "2009-12-08T01:00:00",
          "2009-12-08T06:34:00",
          "2009-12-09T13:37:00",
          "2009-12-10T17:45:00",
          "2009-12-18T22:55:00",
          "2010-01-06T18:00:00",
          "2010-01-11T03:45:00",
          "2010-01-18T11:30:00",
          "2010-01-19T07:30:00",
          "2010-01-19T14:30:00",
          "2010-01-20T13:00:00",
          "2010-01-28T12:00:00",
          "2010-02-01T14:32:00",
          "2010-02-05T15:00:00",
          "2010-02-05T19:00:00",
          "2010-02-05T22:30:00",
          "2010-02-09T18:00:00",
          "2010-02-11T12:00:00",
          "2010-02-19T20:30:00",
          "2010-02-23T22:00:00",
          "2010-02-25T17:00:00",
          "2010-03-13T01:00:00",
          "2010-03-13T12:00:00",
          "2010-03-13T15:00:00",
          "2010-03-13T16:00:00",
          "2010-03-13T18:00:00",
          "2010-03-31T23:59:00",
          "2010-04-16T17:15:00",
          "2010-04-21T15:05:00",
          "2010-04-27T14:55:00",
          "2010-05-18T08:15:00",
          "2010-06-01T22:03:00",
          "2010-06-02T20:18:00",
          "2010-06-06T04:45:00",
          "2010-06-07T18:29:00",
          "2010-06-08T11:00:00",
          "2010-06-09T14:18:00",
          "2010-06-16T11:11:00",
          "2010-06-17T08:30:00",
          "2010-06-17T09:30:00",
          "2010-06-17T10:49:00",
          "2010-06-18T15:30:00",
          "2010-06-18T16:00:00",
          "2010-06-18T19:00:00",
          "2010-06-18T20:00:00",
          "2010-06-21T13:48:00",
          "2010-06-22T15:34:00",
          "2010-06-23T17:00:00",
          "2010-06-23T17:48:00",
          "2010-06-24T15:00:00",
          "2010-06-24T15:30:00",
          "2010-06-25T23:36:00",
          "2010-07-06T03:47:00",
          "2010-07-07T16:13:00",
          "2010-07-15T19:00:00",
          "2010-07-17T20:30:00",
          "2010-07-21T18:44:00",
          "2010-07-23T10:00:00",
          "2010-07-23T19:30:00",
          "2010-07-25T15:10:00",
          "2010-07-25T15:20:00",
          "2010-07-25T16:11:00",
          "2010-07-29T17:43:00",
          "2010-07-29T18:39:00",
          "2010-08-02T12:00:00",
          "2010-08-02T12:45:00",
          "2010-08-05T15:30:00",
          "2010-08-05T15:54:00",
          "2010-08-09T12:00:00",
          "2010-08-12T06:45:00",
          "2010-08-12T08:21:00",
          "2010-08-12T15:42:00",
          "2010-08-19T18:00:00",
          "2010-08-23T17:50:00",
          "2010-09-01T10:20:00",
          "2010-09-07T14:02:00",
          "2010-09-20T17:00:00",
          "2010-09-21T21:31:00",
          "2010-09-22T06:12:00",
          "2010-09-22T16:08:00",
          "2010-09-22T17:38:00",
          "2010-09-27T15:15:00",
          "2010-10-05T05:45:00",
          "2010-10-26T09:00:00",
          "2010-10-26T20:00:00",
          "2010-10-27T04:00:00",
          "2010-10-27T08:00:00",
          "2010-10-27T17:00:00",
          "2010-10-27T17:16:00",
          "2010-10-31T22:26:00",
          "2010-11-04T09:46:00",
          "2010-11-06T15:53:00",
          "2010-11-08T06:47:00",
          "2010-11-13T15:00:00",
          "2010-11-21T01:39:00",
          "2010-11-22T23:00:00",
          "2010-11-23T14:01:00",
          "2010-12-03T21:32:00",
          "2010-12-12T16:30:00",
          "2010-12-14T07:20:00",
          "2010-12-14T07:36:00",
          "2010-12-18T05:00:00",
          "2010-12-30T14:00:00",
          "2011-01-11T23:08:00",
          "2011-01-12T06:00:00",
          "2011-01-13T07:21:00",
          "2011-01-18T14:00:00",
          "2011-01-23T07:00:00",
          "2011-01-24T13:20:00",
          "2011-01-25T03:23:00",
          "2011-01-26T09:25:00",
          "2011-01-26T09:33:00",
          "2011-01-26T17:00:00",
          "2011-01-26T18:28:00",
          "2011-01-26T19:43:00",
          "2011-01-27T09:30:00",
          "2011-01-27T17:00:00",
          "2011-02-01T21:00:00",
          "2011-02-02T03:00:00",
          "2011-02-02T05:43:00",
          "2011-02-02T06:22:00",
          "2011-02-03T14:30:00",
          "2011-02-03T15:00:00",
          "2011-02-03T22:04:00",
          "2011-02-09T03:45:00",
          "2011-02-09T14:54:00",
          "2011-02-09T16:30:00",
          "2011-02-10T13:00:00",
          "2011-02-17T01:25:00",
          "2011-02-17T13:00:00",
          "2011-02-19T12:30:00",
          "2011-02-19T16:34:00",
          "2011-02-20T16:00:00",
          "2011-02-24T16:51:00",
          "2011-02-25T08:00:00",
          "2011-02-25T10:30:00",
          "2011-02-25T15:20:00",
          "2011-02-25T15:23:00",
          "2011-03-01T08:00:00",
          "2011-03-06T02:54:00",
          "2011-03-08T08:00:00",
          "2011-03-10T12:03:00",
          "2011-03-11T07:02:00",
          "2011-03-13T14:20:00",
          "2011-03-14T07:30:00",
          "2011-03-15T18:00:00",
          "2011-03-17T07:40:00",
          "2011-03-18T09:54:00",
          "2011-03-19T23:56:00",
          "2011-03-20T09:44:00",
          "2011-03-21T00:57:00",
          "2011-03-21T12:35:00",
          "2011-03-27T13:27:00",
          "2011-03-31T11:30:00",
          "2011-03-31T14:30:00",
          "2011-04-04T11:47:00",
          "2011-04-04T13:00:00",
          "2011-04-04T14:00:00",
          "2011-04-06T10:50:00",
          "2011-04-11T17:40:00",
          "2011-04-16T14:16:00",
          "2011-04-19T14:01:00",
          "2011-04-19T20:00:00",
          "2011-04-19T22:44:00",
          "2011-04-19T23:02:00",
          "2011-04-19T23:13:00",
          "2011-04-20T08:07:00",
          "2011-04-21T07:15:00",
          "2011-04-21T19:00:00",
          "2011-04-22T21:00:00",
          "2011-04-25T16:33:00",
          "2011-04-26T05:49:00",
          "2011-04-26T13:04:00",
          "2011-04-26T18:14:00",
          "2011-04-28T05:00:00",
          "2011-04-28T16:09:00",
          "2011-05-02T08:52:00",
          "2011-05-02T14:00:00",
          "2011-05-02T17:06:00",
          "2011-05-03T12:00:00",
          "2011-05-04T12:20:00",
          "2011-05-04T13:08:00",
          "2011-05-05T09:15:00",
          "2011-05-06T06:56:00",
          "2011-05-08T19:35:00",
          "2011-05-09T04:08:00",
          "2011-05-09T13:11:00",
          "2011-05-10T03:25:00",
          "2011-05-10T13:45:00",
          "2011-05-11T00:15:00",
          "2011-05-11T11:00:00",
          "2011-05-11T13:35:00",
          "2011-05-11T15:55:00",
          "2011-05-13T06:00:00",
          "2011-05-21T17:00:00",
          "2011-05-22T17:09:00",
          "2011-05-23T12:30:00",
          "2011-05-23T16:45:00",
          "2011-05-24T09:00:00",
          "2011-05-24T16:35:00",
          "2011-05-24T16:45:00",
          "2011-05-25T22:14:00",
          "2011-05-26T01:00:00",
          "2011-05-26T18:30:00",
          "2011-05-26T19:56:00",
          "2011-05-29T18:30:00",
          "2011-06-02T23:45:00",
          "2011-06-04T01:17:00",
          "2011-06-05T05:30:00",
          "2011-06-05T20:02:00",
          "2011-06-06T15:00:00",
          "2011-06-07T14:00:00",
          "2011-06-08T12:58:00",
          "2011-06-09T04:30:00",
          "2011-06-09T14:15:00",
          "2011-06-12T19:00:00",
          "2011-06-15T16:00:00",
          "2011-06-15T19:15:00",
          "2011-06-15T19:17:00",
          "2011-06-18T15:30:00",
          "2011-06-18T16:45:00",
          "2011-06-20T10:36:00",
          "2011-06-21T21:45:00",
          "2011-06-22T09:46:00",
          "2011-06-22T20:12:00",
          "2011-06-23T08:10:00",
          "2011-06-26T16:46:00",
          "2011-06-27T15:00:00",
          "2011-06-27T18:55:00",
          "2011-06-29T11:30:00",
          "2011-06-30T14:11:00",
          "2011-06-30T22:30:00",
          "2011-06-30T22:31:00",
          "2011-07-01T08:00:00",
          "2011-07-01T16:38:00",
          "2011-07-01T17:00:00",
          "2011-07-02T20:15:00",
          "2011-07-04T18:00:00",
          "2011-07-05T10:40:00",
          "2011-07-06T09:51:00",
          "2011-07-08T10:00:00",
          "2011-07-11T09:00:00",
          "2011-07-11T11:15:00",
          "2011-07-11T13:13:00",
          "2011-07-11T13:30:00",
          "2011-07-12T12:00:00",
          "2011-07-12T20:20:00",
          "2011-07-13T17:19:00",
          "2011-07-14T11:00:00",
          "2011-07-18T17:00:00",
          "2011-07-19T11:45:00",
          "2011-07-20T09:10:00",
          "2011-07-21T12:32:00",
          "2011-07-21T13:00:00",
          "2011-07-22T11:00:00",
          "2011-07-22T11:34:00",
          "2011-07-23T02:30:00",
          "2011-07-24T14:34:00",
          "2011-07-26T12:01:00",
          "2011-07-27T12:07:00",
          "2011-07-28T00:14:00",
          "2011-07-28T07:26:00",
          "2011-07-28T13:32:00",
          "2011-07-28T19:25:00",
          "2011-07-29T11:46:00",
          "2011-07-29T20:45:00",
          "2011-08-01T14:18:00",
          "2011-08-01T15:00:00",
          "2011-08-02T10:15:00",
          "2011-08-02T21:30:00",
          "2011-08-03T10:00:00",
          "2011-08-03T16:29:00",
          "2011-08-03T16:30:00",
          "2011-08-08T09:30:00",
          "2011-08-08T09:35:00",
          "2011-08-08T19:36:00",
          "2011-08-08T20:58:00",
          "2011-08-09T10:26:00",
          "2011-08-13T16:41:00",
          "2011-08-15T02:05:00",
          "2011-08-18T09:51:00",
          "2011-08-20T17:42:00",
          "2011-08-22T10:05:00",
          "2011-08-23T13:51:00",
          "2011-08-23T15:43:00",
          "2011-08-24T07:45:00",
          "2011-08-24T13:20:00",
          "2011-08-25T00:01:00",
          "2011-08-25T00:30:00",
          "2011-08-26T00:30:00",
          "2011-08-27T02:00:00",
          "2011-08-27T02:57:00",
          "2011-08-27T19:00:00",
          "2011-08-27T20:30:00",
          "2011-08-27T22:00:00",
          "2011-08-27T23:00:00",
          "2011-08-27T23:05:00",
          "2011-08-28T00:01:00",
          "2011-08-28T00:23:00",
          "2011-08-28T00:30:00",
          "2011-08-28T02:58:00",
          "2011-08-28T05:00:00",
          "2011-08-28T05:01:00",
          "2011-08-28T07:00:00",
          "2011-08-28T07:40:00",
          "2011-08-28T09:42:00",
          "2011-08-28T12:10:00",
          "2011-08-28T12:30:00",
          "2011-08-28T20:55:00",
          "2011-08-31T12:52:00",
          "2011-09-01T08:13:00",
          "2011-09-03T14:00:00",
          "2011-09-08T19:53:00",
          "2011-09-12T09:15:00",
          "2011-09-13T11:43:00",
          "2011-09-13T14:03:00",
          "2011-09-14T09:00:00",
          "2011-09-20T12:55:00",
          "2011-09-21T10:30:00",
          "2011-09-22T14:50:00",
          "2011-09-23T09:04:00",
          "2011-09-24T16:17:00",
          "2011-09-26T10:15:00",
          "2011-09-28T09:30:00",
          "2011-09-28T14:59:00",
          "2011-09-28T16:41:00",
          "2011-09-29T05:00:00",
          "2011-09-29T18:44:00",
          "2011-09-30T08:22:00",
          "2011-10-06T11:07:00",
          "2011-10-07T08:04:00",
          "2011-10-14T14:20:00",
          "2011-10-17T03:34:00",
          "2011-10-17T15:44:00",
          "2011-10-18T03:45:00",
          "2011-10-20T07:15:00",
          "2011-10-24T23:37:00",
          "2011-10-26T05:00:00",
          "2011-10-27T01:00:00",
          "2011-10-29T08:59:00",
          "2011-10-29T09:59:00",
          "2011-10-29T11:18:00",
          "2011-10-29T12:57:00",
          "2011-10-29T14:00:00",
          "2011-10-29T14:30:00",
          "2011-10-29T15:00:00",
          "2011-10-29T16:16:00",
          "2011-11-04T10:46:00",
          "2011-11-13T11:30:00",
          "2011-11-14T14:24:00",
          "2011-11-22T23:16:00",
          "2011-11-30T10:00:00",
          "2011-11-30T16:56:00",
          "2011-12-01T00:45:00",
          "2011-12-01T03:29:00",
          "2011-12-01T10:00:00",
          "2011-12-02T16:15:00",
          "2011-12-05T14:00:00",
          "2011-12-06T08:00:00",
          "2011-12-06T17:38:00",
          "2011-12-07T19:29:00",
          "2011-12-08T08:45:00",
          "2011-12-13T03:19:00",
          "2011-12-19T08:48:00",
          "2011-12-20T07:45:00",
          "2011-12-20T09:30:00",
          "2011-12-21T10:30:00",
          "2011-12-31T21:26:00",
          "2012-01-04T12:14:00",
          "2012-01-05T10:28:00",
          "2012-01-05T10:35:00",
          "2012-01-09T13:36:00",
          "2012-01-09T14:30:00",
          "2012-01-10T21:30:00",
          "2012-01-11T07:19:00",
          "2012-01-12T08:26:00",
          "2012-01-13T09:20:00",
          "2012-01-15T09:35:00",
          "2012-01-17T10:31:00",
          "2012-01-19T07:00:00",
          "2012-01-24T11:22:00",
          "2012-01-27T09:40:00",
          "2012-01-29T12:45:00",
          "2012-02-11T08:47:00",
          "2012-02-11T08:55:00",
          "2012-02-13T07:02:00",
          "2012-02-14T19:20:00",
          "2012-02-15T05:33:00",
          "2012-02-17T03:00:00",
          "2012-02-23T05:45:00",
          "2012-02-23T23:12:00",
          "2012-02-24T11:24:00",
          "2012-02-28T02:59:00",
          "2012-02-28T07:00:00",
          "2012-03-02T13:45:00",
          "2012-03-02T21:00:00",
          "2012-03-04T01:27:00",
          "2012-03-04T13:38:00",
          "2012-03-16T16:00:00",
          "2012-03-20T08:00:00",
          "2012-03-23T19:34:00",
          "2012-03-26T13:24:00",
          "2012-03-28T10:17:00",
          "2012-03-29T12:01:00",
          "2012-03-30T11:10:00",
          "2012-04-01T20:27:00",
          "2012-04-03T11:10:00",
          "2012-04-03T15:33:00",
          "2012-04-04T15:32:00",
          "2012-04-07T09:31:00",
          "2012-04-07T12:25:00",
          "2012-04-07T14:35:00",
          "2012-04-11T09:00:00",
          "2012-04-12T08:08:00",
          "2012-04-15T19:38:00",
          "2012-04-16T15:46:00",
          "2012-04-17T06:11:00",
          "2012-04-19T07:53:00",
          "2012-04-20T14:27:00",
          "2012-04-21T15:02:00",
          "2012-04-21T20:55:00",
          "2012-04-23T08:11:00",
          "2012-04-23T11:56:00",
          "2012-05-07T12:50:00",
          "2012-05-07T17:45:00",
          "2012-05-11T11:05:00",
          "2012-05-24T15:20:00",
          "2012-05-29T18:30:00",
          "2012-05-29T20:35:00",
          "2012-05-31T23:45:00",
          "2012-06-02T07:30:00",
          "2012-06-06T08:00:00",
          "2012-06-06T12:37:00",
          "2012-06-08T17:20:00",
          "2012-06-12T15:57:00",
          "2012-06-13T16:55:00",
          "2012-06-19T04:30:00",
          "2012-06-19T05:30:00",
          "2012-06-23T18:57:00",
          "2012-06-25T16:04:00",
          "2012-06-29T10:45:00",
          "2012-06-29T14:10:00",
          "2012-06-29T16:00:00",
          "2012-06-29T18:24:00",
          "2012-06-29T22:15:00",
          "2012-06-29T22:29:00",
          "2012-06-29T22:43:00",
          "2012-06-29T23:30:00",
          "2012-06-30T01:00:00",
          "2012-06-30T01:15:00",
          "2012-06-30T15:00:00",
          "2012-06-30T22:30:00",
          "2012-07-01T13:00:00",
          "2012-07-01T16:47:00",
          "2012-07-01T17:45:00",
          "2012-07-05T00:00:00",
          "2012-07-05T19:00:00",
          "2012-07-06T15:05:00",
          "2012-07-07T04:00:00",
          "2012-07-07T06:06:00",
          "2012-07-07T18:00:00",
          "2012-07-16T11:27:00",
          "2012-07-18T16:20:00",
          "2012-07-18T23:00:00",
          "2012-07-19T10:30:00",
          "2012-07-19T12:32:00",
          "2012-07-21T02:19:00",
          "2012-07-24T07:01:00",
          "2012-07-24T07:30:00",
          "2012-07-26T18:14:00",
          "2012-07-26T18:21:00",
          "2012-07-26T18:30:00",
          "2012-07-27T17:19:00",
          "2012-08-04T03:55:00",
          "2012-08-04T04:00:00",
          "2012-08-04T17:30:00",
          "2012-08-11T12:45:00",
          "2012-08-13T13:15:00",
          "2012-08-16T13:13:00",
          "2012-08-19T08:42:00",
          "2012-08-26T22:04:00",
          "2012-08-29T06:53:00",
          "2012-08-29T09:00:00",
          "2012-08-29T09:48:00",
          "2012-09-07T21:30:00",
          "2012-09-08T15:40:00",
          "2012-09-08T15:53:00",
          "2012-09-24T00:00:00",
          "2012-10-05T17:30:00",
          "2012-10-09T00:00:00",
          "2012-10-11T00:00:00",
          "2012-10-14T10:36:00",
          "2012-10-15T14:15:00",
          "2012-10-22T00:00:00",
          "2012-10-23T09:10:00",
          "2012-10-24T00:00:00",
          "2012-10-24T15:15:00",
          "2012-10-25T00:00:00",
          "2012-10-25T14:39:00",
          "2012-10-25T18:51:00",
          "2012-10-29T00:00:00",
          "2012-10-29T08:00:00",
          "2012-10-29T09:00:00",
          "2012-10-29T12:00:00",
          "2012-10-29T13:00:00",
          "2012-10-29T14:40:00",
          "2012-10-29T14:45:00",
          "2012-10-29T15:00:00",
          "2012-10-29T16:00:00",
          "2012-10-29T16:01:00",
          "2012-10-29T16:03:00",
          "2012-10-29T16:45:00",
          "2012-10-29T17:13:00",
          "2012-10-29T17:30:00",
          "2012-10-29T18:11:00",
          "2012-10-29T18:12:00",
          "2012-10-29T18:48:00",
          "2012-10-29T19:15:00",
          "2012-10-30T00:00:00",
          "2012-10-30T02:00:00",
          "2012-10-30T13:20:00",
          "2012-10-30T15:00:00",
          "2012-11-02T09:30:00",
          "2012-11-07T14:21:00",
          "2012-11-08T09:34:00",
          "2012-11-15T05:38:00",
          "2012-11-17T10:00:00",
          "2012-11-21T14:50:00",
          "2012-11-26T12:37:00",
          "2012-11-26T15:07:00",
          "2012-11-27T13:07:00",
          "2012-12-02T05:20:00",
          "2012-12-03T12:02:00",
          "2012-12-06T21:18:00",
          "2012-12-17T06:55:00",
          "2012-12-25T09:28:00",
          "2012-12-26T14:50:00",
          "2012-12-31T14:21:00",
          "2013-01-07T10:43:00",
          "2013-01-16T07:41:00",
          "2013-01-16T14:25:00",
          "2013-01-16T16:45:00",
          "2013-01-17T19:02:00",
          "2013-01-17T20:35:00",
          "2013-01-20T03:30:00",
          "2013-01-28T16:46:00",
          "2013-01-31T03:05:00",
          "2013-01-31T06:30:00",
          "2013-02-02T21:15:00",
          "2013-02-07T08:32:00",
          "2013-02-08T11:38:00",
          "2013-02-08T20:55:00",
          "2013-02-09T08:30:00",
          "2013-02-13T09:30:00",
          "2013-02-13T17:39:00",
          "2013-02-15T00:00:00",
          "2013-02-16T07:54:00",
          "2013-02-19T16:01:00",
          "2013-02-21T11:00:00",
          "2013-02-26T13:00:00",
          "2013-03-03T06:39:00",
          "2013-03-03T16:27:00",
          "2013-03-06T08:22:00",
          "2013-03-18T17:50:00",
          "2013-03-23T07:00:00",
          "2013-03-27T10:25:00",
          "2013-03-28T13:01:00",
          "2013-03-29T10:16:00",
          "2013-04-01T08:40:00",
          "2013-04-03T11:05:00",
          "2013-04-09T11:30:00",
          "2013-04-16T01:47:00",
          "2013-04-17T15:36:00",
          "2013-04-18T15:00:00",
          "2013-04-21T02:11:00",
          "2013-04-23T00:49:00",
          "2013-04-23T11:00:00",
          "2013-04-25T16:00:00",
          "2013-05-01T09:22:00",
          "2013-05-09T13:21:00",
          "2013-05-14T00:01:00",
          "2013-05-14T10:25:00",
          "2013-05-15T14:11:00",
          "2013-05-17T08:35:00",
          "2013-05-20T15:00:00",
          "2013-05-20T17:22:00",
          "2013-05-28T13:00:00",
          "2013-05-29T00:00:00",
          "2013-05-29T09:52:00",
          "2013-05-29T20:58:00",
          "2013-05-30T10:15:00",
          "2013-05-31T01:00:00",
          "2013-05-31T18:00:00",
          "2013-05-31T19:30:00",
          "2013-06-13T13:17:00",
          "2013-06-13T15:30:00",
          "2013-06-13T16:08:00",
          "2013-06-13T17:45:00",
          "2013-06-17T16:17:00",
          "2013-06-18T15:51:00",
          "2013-06-20T18:00:00",
          "2013-06-21T03:00:00",
          "2013-06-21T07:40:00",
          "2013-06-21T17:39:00",
          "2013-06-21T23:14:00",
          "2013-06-22T04:59:00",
          "2013-06-22T16:12:00",
          "2013-06-23T21:20:00",
          "2013-06-24T19:30:00",
          "2013-06-27T01:10:00",
          "2013-06-27T17:00:00",
          "2013-06-28T13:00:00",
          "2013-06-28T17:14:00",
          "2013-06-28T18:02:00",
          "2013-07-03T09:34:00",
          "2013-07-05T00:05:00",
          "2013-07-10T14:30:00",
          "2013-07-10T17:30:00",
          "2013-07-11T23:20:00",
          "2013-07-12T10:00:00",
          "2013-07-17T15:30:00",
          "2013-07-18T03:15:00",
          "2013-07-18T11:30:00",
          "2013-07-18T23:45:00",
          "2013-07-19T18:00:00",
          "2013-07-19T22:30:00",
          "2013-07-22T07:00:00",
          "2013-07-23T23:38:00",
          "2013-07-25T13:10:00",
          "2013-08-01T11:00:00",
          "2013-08-01T23:19:00",
          "2013-08-04T03:00:00",
          "2013-08-06T16:00:00",
          "2013-08-07T00:15:00",
          "2013-08-07T07:30:00",
          "2013-08-07T14:30:00",
          "2013-08-12T11:55:00",
          "2013-08-16T16:58:00",
          "2013-08-19T19:06:00",
          "2013-08-21T14:00:00",
          "2013-08-22T08:40:00",
          "2013-08-22T12:55:00",
          "2013-08-23T07:30:00",
          "2013-08-26T20:15:00",
          "2013-08-28T09:30:00",
          "2013-08-29T09:50:00",
          "2013-08-29T14:57:00",
          "2013-08-30T19:30:00",
          "2013-09-10T17:42:00",
          "2013-09-11T16:00:00",
          "2013-09-29T00:00:00",
          "2013-10-06T07:25:00",
          "2013-10-11T14:30:00",
          "2013-10-16T11:15:00",
          "2013-10-19T14:32:00",
          "2013-10-21T05:18:00",
          "2013-10-26T07:13:00",
          "2013-10-27T04:27:00",
          "2013-11-01T13:26:00",
          "2013-11-02T00:00:00",
          "2013-11-02T08:25:00",
          "2013-11-04T09:04:00",
          "2013-11-05T10:10:00",
          "2013-11-12T09:14:00",
          "2013-11-12T14:04:00",
          "2013-11-16T15:15:00",
          "2013-11-17T07:00:00",
          "2013-11-17T12:35:00",
          "2013-11-17T13:06:00",
          "2013-11-17T14:31:00",
          "2013-11-17T16:45:00",
          "2013-11-17T16:47:00",
          "2013-11-20T03:08:00",
          "2013-11-21T19:45:00",
          "2013-11-24T07:38:00",
          "2013-12-06T01:51:00",
          "2013-12-06T08:47:00",
          "2013-12-09T06:54:00",
          "2013-12-10T01:01:00",
          "2013-12-13T11:00:00",
          "2013-12-22T03:28:00",
          "2013-12-22T06:16:00",
          "2013-12-22T06:30:00",
          "2013-12-23T15:20:00",
          "2013-12-27T09:43:00",
          "2013-12-30T11:00:00",
          "2014-01-06T07:01:00",
          "2014-01-06T14:37:00",
          "2014-01-06T19:50:00",
          "2014-01-06T19:52:00",
          "2014-01-06T22:00:00",
          "2014-01-07T06:00:00",
          "2014-01-07T06:18:00",
          "2014-01-07T07:58:00",
          "2014-01-07T10:59:00",
          "2014-01-07T16:15:00",
          "2014-01-07T18:00:00",
          "2014-01-08T06:00:00",
          "2014-01-13T16:44:00",
          "2014-01-15T14:32:00",
          "2014-01-16T12:30:00",
          "2014-01-17T12:20:00",
          "2014-01-18T09:00:00",
          "2014-01-21T12:14:00",
          "2014-01-22T00:30:00",
          "2014-01-22T09:45:00",
          "2014-01-22T13:55:00",
          "2014-01-22T21:15:00",
          "2014-01-23T04:00:00",
          "2014-01-23T13:04:00",
          "2014-01-23T16:00:00",
          "2014-01-23T21:17:00",
          "2014-01-24T00:00:00",
          "2014-01-24T15:30:00",
          "2014-01-25T10:00:00",
          "2014-01-26T21:00:00",
          "2014-01-27T14:20:00",
          "2014-01-29T16:00:00",
          "2014-02-05T01:00:00",
          "2014-02-05T05:00:00",
          "2014-02-05T07:00:00",
          "2014-02-05T07:35:00",
          "2014-02-05T08:05:00",
          "2014-02-06T13:00:00",
          "2014-02-06T13:05:00",
          "2014-02-06T13:58:00",
          "2014-02-06T14:15:00",
          "2014-02-06T15:35:00",
          "2014-02-07T07:00:00",
          "2014-02-07T16:30:00",
          "2014-02-07T16:50:00",
          "2014-02-12T07:48:00",
          "2014-02-12T11:03:00",
          "2014-02-12T12:10:00",
          "2014-02-12T14:15:00",
          "2014-02-14T13:00:00",
          "2014-02-18T18:43:00",
          "2014-02-21T02:53:00",
          "2014-03-02T19:00:00",
          "2014-03-03T01:48:00",
          "2014-03-03T06:40:00",
          "2014-03-03T17:25:00",
          "2014-03-04T09:06:00",
          "2014-03-05T17:06:00",
          "2014-03-07T03:30:00",
          "2014-03-11T00:00:00",
          "2014-03-12T19:35:00",
          "2014-03-14T12:34:00",
          "2014-03-17T17:25:00",
          "2014-03-20T00:00:00",
          "2014-03-24T11:07:00",
          "2014-03-26T13:37:00",
          "2014-03-26T16:00:00",
          "2014-04-03T14:45:00",
          "2014-04-04T03:30:00",
          "2014-04-08T13:00:00",
          "2014-04-12T18:15:00",
          "2014-04-12T20:00:00",
          "2014-04-23T19:45:00",
          "2014-04-25T07:00:00",
          "2014-04-27T12:07:00",
          "2014-05-08T01:00:00",
          "2014-05-08T08:39:00",
          "2014-05-09T18:00:00",
          "2014-05-11T18:38:00",
          "2014-05-12T13:14:00",
          "2014-05-15T12:10:00",
          "2014-05-16T10:43:00",
          "2014-05-20T07:01:00",
          "2014-05-23T15:00:00",
          "2014-05-27T11:00:00",
          "2014-06-03T01:38:00",
          "2014-06-05T03:00:00",
          "2014-06-05T13:06:00",
          "2014-06-07T23:00:00",
          "2014-06-10T21:50:00",
          "2014-06-11T09:30:00",
          "2014-06-11T16:00:00",
          "2014-06-12T09:10:00",
          "2014-06-15T00:00:00",
          "2014-06-18T09:52:00",
          "2014-06-18T17:00:00",
          "2014-06-19T08:47:00",
          "2014-06-24T14:54:00",
          "2014-06-30T17:55:00",
          "2014-06-30T20:00:00",
          "2014-06-30T23:20:00",
          "2015-01-07T17:00:00",
          "2015-01-22T04:24:00",
          "2015-01-26T14:39:00",
          "2015-01-27T10:30:00",
          "2015-02-01T11:24:00",
          "2015-02-02T09:40:00",
          "2015-02-04T11:55:00",
          "2015-02-05T08:15:00",
          "2015-02-05T11:20:00",
          "2015-02-09T11:30:00",
          "2015-02-16T21:41:00",
          "2015-02-17T06:20:00",
          "2015-02-19T14:30:00",
          "2015-02-21T08:34:00",
          "2015-02-26T03:30:00",
          "2015-03-04T09:05:00",
          "2015-03-09T23:50:00",
          "2015-03-15T15:30:00",
          "2015-03-16T07:31:00",
          "2015-03-19T18:30:00",
          "2015-03-22T16:25:00",
          "2015-03-26T15:21:00",
          "2015-03-29T04:26:00",
          "2015-04-01T18:25:00",
          "2015-04-02T07:04:00",
          "2015-04-03T02:00:00",
          "2015-04-06T08:12:00",
          "2015-04-07T12:30:00",
          "2015-04-07T15:34:00",
          "2015-04-17T21:30:00",
          "2015-04-18T21:00:00",
          "2015-04-24T19:10:00",
          "2015-05-02T22:51:00",
          "2015-05-04T15:25:00",
          "2015-05-11T08:32:00",
          "2015-05-12T00:40:00",
          "2015-05-18T15:28:00",
          "2015-05-25T18:00:00",
          "2015-05-25T20:30:00",
          "2015-05-25T22:45:00",
          "2015-06-01T00:27:00",
          "2015-06-01T19:19:00",
          "2015-06-02T18:58:00",
          "2015-06-03T15:00:00",
          "2015-06-07T13:52:00",
          "2015-06-07T13:54:00",
          "2015-06-20T13:52:00",
          "2015-06-23T17:06:00",
          "2015-06-23T17:30:00",
          "2015-06-23T18:00:00",
          "2015-06-23T18:18:00",
          "2015-06-27T17:00:00",
          "2015-06-29T19:21:00",
          "2015-06-30T10:50:00",
          "2015-06-30T14:00:00",
          "2015-07-03T08:30:00",
          "2015-07-03T17:17:00",
          "2015-07-13T19:40:00",
          "2015-07-14T15:29:00",
          "2015-07-14T20:00:00",
          "2015-07-15T02:00:00",
          "2015-07-16T16:45:00",
          "2015-07-18T02:00:00",
          "2015-07-18T18:26:00",
          "2015-07-18T19:59:00",
          "2015-07-21T12:47:00",
          "2015-07-27T03:52:00",
          "2015-07-29T16:45:00",
          "2015-07-30T09:50:00",
          "2015-08-02T17:45:00",
          "2015-08-03T00:30:00",
          "2015-08-03T01:00:00",
          "2015-08-11T19:30:00",
          "2015-08-13T15:15:00",
          "2015-08-29T11:00:00",
          "2015-08-29T13:00:00",
          "2015-09-03T02:33:00",
          "2015-09-13T17:56:00",
          "2015-09-20T13:12:00",
          "2015-09-29T15:40:00",
          "2015-10-13T06:30:00",
          "2015-10-13T10:25:00",
          "2015-10-13T16:32:00",
          "2015-10-16T12:25:00",
          "2015-10-18T07:00:00",
          "2015-10-28T13:38:00",
          "2015-10-30T15:00:00",
          "2015-10-31T00:45:00",
          "2015-11-01T11:53:00",
          "2015-11-02T17:37:00",
          "2015-11-10T12:00:00",
          "2015-11-13T11:30:00",
          "2015-11-21T20:30:00",
          "2015-11-28T06:00:00",
          "2015-12-02T13:03:00",
          "2015-12-05T21:00:00",
          "2015-12-08T14:00:00",
          "2015-12-09T04:00:00",
          "2015-12-10T03:53:00",
          "2015-12-10T06:01:00",
          "2015-12-10T17:55:00",
          "2015-12-10T21:25:00",
          "2015-12-24T03:00:00",
          "2015-12-27T23:38:00",
          "2015-12-29T08:30:00",
          "2015-12-31T17:00:00",
          "2016-01-04T05:15:00",
          "2016-01-11T20:16:00",
          "2016-01-14T08:27:00",
          "2016-01-17T12:00:00",
          "2016-01-23T07:49:00",
          "2016-02-07T13:21:00",
          "2016-02-13T12:44:00",
          "2016-02-19T22:00:00",
          "2016-02-21T15:54:00",
          "2016-02-24T09:10:00",
          "2016-02-26T16:35:00",
          "2016-03-03T11:00:00",
          "2016-03-08T00:00:00",
          "2016-03-10T04:00:00",
          "2016-03-23T05:00:00",
          "2016-03-27T12:00:00",
          "2016-03-30T21:12:00",
          "2016-04-01T16:37:00",
          "2016-04-02T11:08:00",
          "2016-04-12T11:30:00",
          "2016-04-14T16:49:00",
          "2016-04-15T10:00:00",
          "2016-04-18T05:05:00",
          "2016-04-27T05:50:00",
          "2016-04-27T18:00:00",
          "2016-05-07T07:49:00",
          "2016-05-10T20:45:00",
          "2016-05-14T21:25:00",
          "2016-05-19T21:36:00",
          "2016-05-20T00:00:00",
          "2016-05-26T21:29:00",
          "2016-05-31T07:30:00",
          "2016-06-07T12:00:00",
          "2016-06-14T07:59:00",
          "2016-06-17T04:30:00",
          "2016-07-02T04:00:00",
          "2016-07-05T02:45:00",
          "2016-07-07T05:53:00",
          "2016-07-08T19:00:00",
          "2016-07-08T20:50:00",
          "2016-07-09T17:45:00",
          "2016-07-13T13:00:00",
          "2016-07-14T14:44:00",
          "2016-07-19T15:45:00",
          "2016-07-21T06:18:00",
          "2016-07-23T15:15:00"
         ],
         "xaxis": "x",
         "y": [
          1,
          1,
          1,
          1,
          1,
          1,
          1,
          1,
          1,
          1,
          1,
          1,
          1,
          1,
          1,
          1,
          1,
          1,
          1,
          1,
          1,
          1,
          1,
          1,
          1,
          1,
          1,
          1,
          1,
          1,
          1,
          1,
          1,
          1,
          1,
          1,
          1,
          1,
          1,
          1,
          1,
          1,
          1,
          1,
          1,
          1,
          1,
          1,
          1,
          1,
          1,
          1,
          1,
          1,
          1,
          1,
          1,
          1,
          1,
          1,
          1,
          2,
          2,
          1,
          1,
          1,
          1,
          1,
          1,
          1,
          1,
          1,
          2,
          1,
          1,
          1,
          1,
          1,
          1,
          1,
          1,
          1,
          1,
          1,
          1,
          1,
          1,
          1,
          1,
          1,
          1,
          1,
          1,
          1,
          1,
          1,
          1,
          1,
          1,
          1,
          1,
          1,
          1,
          2,
          1,
          1,
          1,
          3,
          1,
          1,
          1,
          1,
          1,
          1,
          2,
          1,
          1,
          1,
          1,
          1,
          1,
          1,
          1,
          1,
          1,
          1,
          1,
          1,
          1,
          1,
          1,
          1,
          1,
          1,
          1,
          1,
          1,
          1,
          1,
          1,
          1,
          1,
          1,
          1,
          1,
          1,
          1,
          1,
          1,
          1,
          1,
          1,
          1,
          1,
          1,
          1,
          1,
          1,
          1,
          1,
          1,
          1,
          2,
          1,
          1,
          1,
          1,
          1,
          1,
          1,
          1,
          1,
          1,
          1,
          1,
          1,
          1,
          1,
          1,
          1,
          1,
          1,
          1,
          1,
          1,
          1,
          1,
          1,
          1,
          1,
          1,
          1,
          1,
          1,
          1,
          1,
          1,
          1,
          1,
          1,
          1,
          1,
          1,
          1,
          1,
          1,
          1,
          1,
          1,
          1,
          1,
          1,
          1,
          1,
          1,
          1,
          1,
          1,
          1,
          1,
          1,
          1,
          1,
          1,
          1,
          1,
          1,
          1,
          1,
          1,
          1,
          1,
          1,
          1,
          1,
          1,
          1,
          1,
          1,
          2,
          1,
          1,
          1,
          1,
          1,
          1,
          1,
          1,
          1,
          1,
          1,
          2,
          1,
          1,
          1,
          1,
          1,
          1,
          1,
          1,
          1,
          1,
          1,
          1,
          1,
          1,
          1,
          1,
          1,
          1,
          1,
          1,
          1,
          1,
          1,
          1,
          1,
          1,
          1,
          1,
          1,
          1,
          1,
          1,
          1,
          1,
          1,
          1,
          1,
          1,
          1,
          1,
          1,
          1,
          1,
          1,
          1,
          1,
          1,
          1,
          1,
          1,
          1,
          1,
          1,
          1,
          1,
          1,
          1,
          1,
          1,
          1,
          1,
          1,
          1,
          2,
          1,
          1,
          1,
          1,
          1,
          1,
          1,
          1,
          1,
          1,
          1,
          1,
          1,
          1,
          1,
          1,
          1,
          1,
          1,
          1,
          1,
          1,
          4,
          1,
          1,
          1,
          1,
          1,
          1,
          1,
          1,
          1,
          1,
          1,
          2,
          1,
          1,
          1,
          1,
          1,
          1,
          1,
          1,
          1,
          1,
          1,
          1,
          1,
          1,
          1,
          1,
          1,
          1,
          1,
          1,
          1,
          1,
          1,
          1,
          1,
          1,
          1,
          2,
          1,
          1,
          1,
          1,
          1,
          1,
          1,
          1,
          1,
          1,
          1,
          1,
          1,
          2,
          1,
          1,
          1,
          1,
          1,
          1,
          3,
          1,
          1,
          1,
          1,
          1,
          1,
          1,
          1,
          1,
          1,
          1,
          1,
          1,
          1,
          1,
          1,
          1,
          1,
          1,
          1,
          1,
          1,
          1,
          1,
          1,
          1,
          1,
          1,
          1,
          1,
          1,
          1,
          1,
          1,
          1,
          1,
          1,
          1,
          1,
          1,
          1,
          1,
          1,
          1,
          1,
          1,
          1,
          1,
          1,
          1,
          1,
          1,
          1,
          1,
          1,
          1,
          1,
          1,
          1,
          1,
          1,
          1,
          1,
          1,
          1,
          1,
          1,
          1,
          1,
          1,
          1,
          1,
          1,
          1,
          1,
          1,
          1,
          1,
          1,
          1,
          1,
          1,
          1,
          1,
          1,
          1,
          1,
          1,
          1,
          1,
          1,
          1,
          1,
          1,
          1,
          1,
          1,
          1,
          1,
          1,
          1,
          1,
          1,
          1,
          1,
          1,
          1,
          1,
          1,
          1,
          1,
          1,
          1,
          1,
          1,
          1,
          1,
          1,
          1,
          1,
          2,
          2,
          1,
          1,
          1,
          1,
          1,
          1,
          1,
          1,
          1,
          1,
          1,
          1,
          3,
          1,
          1,
          1,
          1,
          1,
          1,
          1,
          1,
          1,
          1,
          1,
          1,
          1,
          1,
          1,
          1,
          1,
          1,
          1,
          1,
          1,
          1,
          1,
          2,
          1,
          4,
          1,
          1,
          1,
          1,
          1,
          1,
          1,
          1,
          1,
          1,
          1,
          1,
          1,
          1,
          1,
          1,
          1,
          1,
          1,
          1,
          1,
          1,
          1,
          1,
          1,
          1,
          1,
          1,
          1,
          1,
          1,
          1,
          1,
          1,
          1,
          1,
          1,
          1,
          1,
          1,
          1,
          1,
          1,
          1,
          1,
          1,
          1,
          1,
          1,
          1,
          1,
          1,
          1,
          1,
          1,
          1,
          1,
          1,
          1,
          1,
          1,
          1,
          1,
          1,
          1,
          1,
          1,
          1,
          1,
          1,
          1,
          1,
          1,
          1,
          1,
          1,
          1,
          1,
          1,
          1,
          1,
          1,
          1,
          1,
          1,
          1,
          1,
          1,
          1,
          1,
          1,
          1,
          1,
          1,
          1,
          1,
          1,
          1,
          1,
          1,
          1,
          1,
          1,
          1,
          1,
          1,
          1,
          1,
          1,
          1,
          1,
          1,
          1,
          1,
          1,
          1,
          1,
          1,
          1,
          1,
          1,
          1,
          1,
          1,
          1,
          1,
          1,
          1,
          1,
          1,
          1,
          1,
          1,
          1,
          1,
          1,
          1,
          1,
          1,
          1,
          1,
          1,
          1,
          1,
          1,
          1,
          1,
          1,
          1,
          1,
          1,
          1,
          1,
          1,
          1,
          1,
          1,
          1,
          1,
          1,
          1,
          1,
          1,
          1,
          1,
          1,
          1,
          1,
          1,
          1,
          1,
          1,
          1,
          1,
          2,
          2,
          1,
          1,
          1,
          1,
          1,
          1,
          1,
          1,
          1,
          1,
          1,
          1,
          1,
          1,
          1,
          1,
          1,
          1,
          1,
          1,
          1,
          1,
          1,
          1,
          1,
          1,
          1,
          1,
          1,
          1,
          1,
          1,
          1,
          1,
          1,
          1,
          1,
          1,
          1,
          1,
          1,
          1,
          1,
          1,
          1,
          1,
          1,
          1,
          1,
          1,
          1,
          1,
          2,
          1,
          1,
          1,
          1,
          1,
          1,
          1,
          1,
          1,
          1,
          1,
          1,
          1,
          1,
          1,
          1,
          1,
          1,
          1,
          1,
          1,
          1,
          1,
          1,
          1,
          1,
          1,
          1,
          1,
          1,
          1,
          1,
          1,
          1,
          1,
          1,
          1,
          1,
          1,
          1,
          1,
          1,
          1,
          1,
          2,
          1,
          1,
          1,
          1,
          1,
          1,
          1,
          1,
          1,
          1,
          1,
          1,
          1,
          1,
          1,
          1,
          1,
          1,
          1,
          1,
          1,
          1,
          1,
          1,
          1,
          1,
          1,
          1,
          1,
          1,
          1,
          1,
          1,
          1,
          1,
          1,
          1,
          1,
          1,
          1,
          1,
          1,
          1,
          1,
          1,
          1,
          1,
          1,
          1,
          1,
          1,
          1,
          1,
          1,
          1,
          2,
          1,
          1,
          1,
          1,
          1,
          1,
          1,
          1,
          1,
          1,
          1,
          1,
          1,
          1,
          1,
          1,
          1,
          1,
          1,
          1,
          1,
          1,
          1,
          1,
          1,
          1,
          1,
          1,
          1,
          1,
          1,
          1,
          1,
          1,
          1,
          1,
          1,
          1,
          1,
          1,
          1,
          1,
          1,
          1,
          1,
          1,
          1,
          1,
          1,
          1,
          1,
          1,
          1,
          1,
          1,
          1,
          1,
          1,
          1,
          1,
          1,
          1,
          1,
          1,
          1,
          1,
          1,
          1,
          1,
          1,
          1,
          1,
          1,
          1,
          1,
          1,
          1,
          1,
          1,
          1,
          1,
          1,
          1,
          1,
          1,
          1,
          1,
          1,
          1,
          1,
          1,
          1,
          1,
          1,
          1,
          1,
          1,
          1,
          1,
          2,
          1,
          1,
          1,
          1,
          1,
          1,
          1,
          1,
          1,
          1,
          1,
          1,
          2,
          1,
          1,
          1,
          1,
          1,
          1,
          1,
          1,
          1,
          1,
          1,
          1,
          1,
          1,
          1,
          1,
          1,
          1,
          1,
          1,
          1,
          1,
          1,
          1,
          1,
          1,
          1,
          1,
          1,
          1,
          1,
          1,
          1,
          1,
          1,
          1,
          1,
          1,
          1,
          1,
          1,
          1,
          1,
          1,
          1,
          1,
          1,
          1,
          1,
          1,
          1,
          1,
          1,
          1,
          1,
          1,
          1,
          1,
          1,
          1,
          1,
          1,
          1,
          1,
          1,
          1,
          1,
          1,
          1,
          1,
          1,
          1,
          1,
          1,
          1,
          1,
          1,
          1,
          1,
          1,
          1,
          1,
          1,
          1,
          1,
          1,
          1,
          1,
          1,
          1,
          1,
          1,
          1,
          1,
          1,
          1,
          1,
          1,
          1,
          2,
          1,
          1,
          1,
          1,
          1,
          1,
          1,
          1,
          1,
          1,
          1,
          1,
          1,
          1,
          1,
          1,
          1,
          1,
          1,
          1,
          1,
          1,
          1,
          1,
          1,
          1,
          1,
          1,
          1,
          1,
          1,
          1,
          1,
          1,
          1,
          1,
          1,
          1,
          1,
          1,
          1,
          1,
          1,
          1,
          1,
          1,
          1,
          1,
          1,
          1,
          1,
          1,
          1,
          1,
          1,
          1,
          1,
          1,
          1,
          1,
          1,
          1,
          2,
          1,
          1,
          1,
          1,
          1,
          1,
          1,
          2,
          1,
          1,
          1,
          1,
          1,
          2,
          1,
          1,
          3,
          1,
          1,
          2,
          1,
          1,
          1,
          1,
          1,
          1,
          1,
          1,
          1,
          1,
          1,
          1,
          1,
          1,
          1,
          1,
          1,
          1,
          1,
          1,
          1,
          1,
          1,
          1,
          1,
          1,
          1,
          1,
          1,
          1,
          1,
          1,
          1,
          1,
          1,
          1,
          1,
          1,
          1,
          1,
          1,
          1,
          1,
          1,
          1,
          1,
          1,
          1,
          1,
          1,
          1,
          1,
          1,
          1,
          1,
          1,
          1,
          1,
          1,
          1,
          1,
          1,
          1,
          1,
          1,
          1,
          1,
          1,
          1,
          1,
          1,
          1,
          1,
          1,
          1,
          1,
          1,
          1,
          1,
          1,
          1,
          1,
          1,
          1,
          1,
          1,
          1,
          1,
          1,
          1,
          1,
          1,
          1,
          1,
          1,
          1,
          1,
          1,
          1,
          1,
          1,
          1,
          1,
          1,
          1,
          1,
          1,
          1,
          1,
          1,
          1,
          1,
          1,
          1,
          1,
          1,
          1,
          1,
          1,
          1,
          1,
          1,
          1,
          1,
          1,
          1,
          1,
          1,
          1,
          1,
          1,
          1,
          1,
          1,
          1,
          1,
          1,
          1,
          1,
          1,
          1,
          1,
          1,
          1,
          1,
          1,
          1,
          1,
          1,
          1,
          1,
          1,
          1,
          1,
          1,
          1,
          1,
          1,
          1,
          1,
          1,
          1,
          1,
          1,
          1,
          1,
          1,
          1,
          1,
          1,
          1,
          1,
          1,
          1,
          1,
          1,
          1,
          1,
          1,
          1,
          1,
          1,
          1,
          1,
          1,
          1,
          1,
          1,
          1,
          1,
          1,
          1,
          1,
          1,
          1,
          1,
          1,
          1,
          1,
          1,
          1,
          1,
          1,
          1,
          1,
          1,
          1,
          1,
          1,
          1,
          1,
          1,
          1,
          1,
          1,
          1,
          1,
          1,
          1,
          1,
          1,
          1,
          1,
          1,
          1,
          1,
          1,
          1,
          1,
          1,
          1,
          1,
          1,
          1,
          1,
          1,
          1,
          1,
          1,
          1,
          1,
          1,
          1,
          1,
          2,
          1,
          1
         ],
         "yaxis": "y"
        }
       ],
       "layout": {
        "legend": {
         "title": {
          "text": "variable"
         },
         "tracegroupgap": 0
        },
        "margin": {
         "t": 60
        },
        "template": {
         "data": {
          "bar": [
           {
            "error_x": {
             "color": "#2a3f5f"
            },
            "error_y": {
             "color": "#2a3f5f"
            },
            "marker": {
             "line": {
              "color": "#E5ECF6",
              "width": 0.5
             },
             "pattern": {
              "fillmode": "overlay",
              "size": 10,
              "solidity": 0.2
             }
            },
            "type": "bar"
           }
          ],
          "barpolar": [
           {
            "marker": {
             "line": {
              "color": "#E5ECF6",
              "width": 0.5
             },
             "pattern": {
              "fillmode": "overlay",
              "size": 10,
              "solidity": 0.2
             }
            },
            "type": "barpolar"
           }
          ],
          "carpet": [
           {
            "aaxis": {
             "endlinecolor": "#2a3f5f",
             "gridcolor": "white",
             "linecolor": "white",
             "minorgridcolor": "white",
             "startlinecolor": "#2a3f5f"
            },
            "baxis": {
             "endlinecolor": "#2a3f5f",
             "gridcolor": "white",
             "linecolor": "white",
             "minorgridcolor": "white",
             "startlinecolor": "#2a3f5f"
            },
            "type": "carpet"
           }
          ],
          "choropleth": [
           {
            "colorbar": {
             "outlinewidth": 0,
             "ticks": ""
            },
            "type": "choropleth"
           }
          ],
          "contour": [
           {
            "colorbar": {
             "outlinewidth": 0,
             "ticks": ""
            },
            "colorscale": [
             [
              0,
              "#0d0887"
             ],
             [
              0.1111111111111111,
              "#46039f"
             ],
             [
              0.2222222222222222,
              "#7201a8"
             ],
             [
              0.3333333333333333,
              "#9c179e"
             ],
             [
              0.4444444444444444,
              "#bd3786"
             ],
             [
              0.5555555555555556,
              "#d8576b"
             ],
             [
              0.6666666666666666,
              "#ed7953"
             ],
             [
              0.7777777777777778,
              "#fb9f3a"
             ],
             [
              0.8888888888888888,
              "#fdca26"
             ],
             [
              1,
              "#f0f921"
             ]
            ],
            "type": "contour"
           }
          ],
          "contourcarpet": [
           {
            "colorbar": {
             "outlinewidth": 0,
             "ticks": ""
            },
            "type": "contourcarpet"
           }
          ],
          "heatmap": [
           {
            "colorbar": {
             "outlinewidth": 0,
             "ticks": ""
            },
            "colorscale": [
             [
              0,
              "#0d0887"
             ],
             [
              0.1111111111111111,
              "#46039f"
             ],
             [
              0.2222222222222222,
              "#7201a8"
             ],
             [
              0.3333333333333333,
              "#9c179e"
             ],
             [
              0.4444444444444444,
              "#bd3786"
             ],
             [
              0.5555555555555556,
              "#d8576b"
             ],
             [
              0.6666666666666666,
              "#ed7953"
             ],
             [
              0.7777777777777778,
              "#fb9f3a"
             ],
             [
              0.8888888888888888,
              "#fdca26"
             ],
             [
              1,
              "#f0f921"
             ]
            ],
            "type": "heatmap"
           }
          ],
          "heatmapgl": [
           {
            "colorbar": {
             "outlinewidth": 0,
             "ticks": ""
            },
            "colorscale": [
             [
              0,
              "#0d0887"
             ],
             [
              0.1111111111111111,
              "#46039f"
             ],
             [
              0.2222222222222222,
              "#7201a8"
             ],
             [
              0.3333333333333333,
              "#9c179e"
             ],
             [
              0.4444444444444444,
              "#bd3786"
             ],
             [
              0.5555555555555556,
              "#d8576b"
             ],
             [
              0.6666666666666666,
              "#ed7953"
             ],
             [
              0.7777777777777778,
              "#fb9f3a"
             ],
             [
              0.8888888888888888,
              "#fdca26"
             ],
             [
              1,
              "#f0f921"
             ]
            ],
            "type": "heatmapgl"
           }
          ],
          "histogram": [
           {
            "marker": {
             "pattern": {
              "fillmode": "overlay",
              "size": 10,
              "solidity": 0.2
             }
            },
            "type": "histogram"
           }
          ],
          "histogram2d": [
           {
            "colorbar": {
             "outlinewidth": 0,
             "ticks": ""
            },
            "colorscale": [
             [
              0,
              "#0d0887"
             ],
             [
              0.1111111111111111,
              "#46039f"
             ],
             [
              0.2222222222222222,
              "#7201a8"
             ],
             [
              0.3333333333333333,
              "#9c179e"
             ],
             [
              0.4444444444444444,
              "#bd3786"
             ],
             [
              0.5555555555555556,
              "#d8576b"
             ],
             [
              0.6666666666666666,
              "#ed7953"
             ],
             [
              0.7777777777777778,
              "#fb9f3a"
             ],
             [
              0.8888888888888888,
              "#fdca26"
             ],
             [
              1,
              "#f0f921"
             ]
            ],
            "type": "histogram2d"
           }
          ],
          "histogram2dcontour": [
           {
            "colorbar": {
             "outlinewidth": 0,
             "ticks": ""
            },
            "colorscale": [
             [
              0,
              "#0d0887"
             ],
             [
              0.1111111111111111,
              "#46039f"
             ],
             [
              0.2222222222222222,
              "#7201a8"
             ],
             [
              0.3333333333333333,
              "#9c179e"
             ],
             [
              0.4444444444444444,
              "#bd3786"
             ],
             [
              0.5555555555555556,
              "#d8576b"
             ],
             [
              0.6666666666666666,
              "#ed7953"
             ],
             [
              0.7777777777777778,
              "#fb9f3a"
             ],
             [
              0.8888888888888888,
              "#fdca26"
             ],
             [
              1,
              "#f0f921"
             ]
            ],
            "type": "histogram2dcontour"
           }
          ],
          "mesh3d": [
           {
            "colorbar": {
             "outlinewidth": 0,
             "ticks": ""
            },
            "type": "mesh3d"
           }
          ],
          "parcoords": [
           {
            "line": {
             "colorbar": {
              "outlinewidth": 0,
              "ticks": ""
             }
            },
            "type": "parcoords"
           }
          ],
          "pie": [
           {
            "automargin": true,
            "type": "pie"
           }
          ],
          "scatter": [
           {
            "fillpattern": {
             "fillmode": "overlay",
             "size": 10,
             "solidity": 0.2
            },
            "type": "scatter"
           }
          ],
          "scatter3d": [
           {
            "line": {
             "colorbar": {
              "outlinewidth": 0,
              "ticks": ""
             }
            },
            "marker": {
             "colorbar": {
              "outlinewidth": 0,
              "ticks": ""
             }
            },
            "type": "scatter3d"
           }
          ],
          "scattercarpet": [
           {
            "marker": {
             "colorbar": {
              "outlinewidth": 0,
              "ticks": ""
             }
            },
            "type": "scattercarpet"
           }
          ],
          "scattergeo": [
           {
            "marker": {
             "colorbar": {
              "outlinewidth": 0,
              "ticks": ""
             }
            },
            "type": "scattergeo"
           }
          ],
          "scattergl": [
           {
            "marker": {
             "colorbar": {
              "outlinewidth": 0,
              "ticks": ""
             }
            },
            "type": "scattergl"
           }
          ],
          "scattermapbox": [
           {
            "marker": {
             "colorbar": {
              "outlinewidth": 0,
              "ticks": ""
             }
            },
            "type": "scattermapbox"
           }
          ],
          "scatterpolar": [
           {
            "marker": {
             "colorbar": {
              "outlinewidth": 0,
              "ticks": ""
             }
            },
            "type": "scatterpolar"
           }
          ],
          "scatterpolargl": [
           {
            "marker": {
             "colorbar": {
              "outlinewidth": 0,
              "ticks": ""
             }
            },
            "type": "scatterpolargl"
           }
          ],
          "scatterternary": [
           {
            "marker": {
             "colorbar": {
              "outlinewidth": 0,
              "ticks": ""
             }
            },
            "type": "scatterternary"
           }
          ],
          "surface": [
           {
            "colorbar": {
             "outlinewidth": 0,
             "ticks": ""
            },
            "colorscale": [
             [
              0,
              "#0d0887"
             ],
             [
              0.1111111111111111,
              "#46039f"
             ],
             [
              0.2222222222222222,
              "#7201a8"
             ],
             [
              0.3333333333333333,
              "#9c179e"
             ],
             [
              0.4444444444444444,
              "#bd3786"
             ],
             [
              0.5555555555555556,
              "#d8576b"
             ],
             [
              0.6666666666666666,
              "#ed7953"
             ],
             [
              0.7777777777777778,
              "#fb9f3a"
             ],
             [
              0.8888888888888888,
              "#fdca26"
             ],
             [
              1,
              "#f0f921"
             ]
            ],
            "type": "surface"
           }
          ],
          "table": [
           {
            "cells": {
             "fill": {
              "color": "#EBF0F8"
             },
             "line": {
              "color": "white"
             }
            },
            "header": {
             "fill": {
              "color": "#C8D4E3"
             },
             "line": {
              "color": "white"
             }
            },
            "type": "table"
           }
          ]
         },
         "layout": {
          "annotationdefaults": {
           "arrowcolor": "#2a3f5f",
           "arrowhead": 0,
           "arrowwidth": 1
          },
          "autotypenumbers": "strict",
          "coloraxis": {
           "colorbar": {
            "outlinewidth": 0,
            "ticks": ""
           }
          },
          "colorscale": {
           "diverging": [
            [
             0,
             "#8e0152"
            ],
            [
             0.1,
             "#c51b7d"
            ],
            [
             0.2,
             "#de77ae"
            ],
            [
             0.3,
             "#f1b6da"
            ],
            [
             0.4,
             "#fde0ef"
            ],
            [
             0.5,
             "#f7f7f7"
            ],
            [
             0.6,
             "#e6f5d0"
            ],
            [
             0.7,
             "#b8e186"
            ],
            [
             0.8,
             "#7fbc41"
            ],
            [
             0.9,
             "#4d9221"
            ],
            [
             1,
             "#276419"
            ]
           ],
           "sequential": [
            [
             0,
             "#0d0887"
            ],
            [
             0.1111111111111111,
             "#46039f"
            ],
            [
             0.2222222222222222,
             "#7201a8"
            ],
            [
             0.3333333333333333,
             "#9c179e"
            ],
            [
             0.4444444444444444,
             "#bd3786"
            ],
            [
             0.5555555555555556,
             "#d8576b"
            ],
            [
             0.6666666666666666,
             "#ed7953"
            ],
            [
             0.7777777777777778,
             "#fb9f3a"
            ],
            [
             0.8888888888888888,
             "#fdca26"
            ],
            [
             1,
             "#f0f921"
            ]
           ],
           "sequentialminus": [
            [
             0,
             "#0d0887"
            ],
            [
             0.1111111111111111,
             "#46039f"
            ],
            [
             0.2222222222222222,
             "#7201a8"
            ],
            [
             0.3333333333333333,
             "#9c179e"
            ],
            [
             0.4444444444444444,
             "#bd3786"
            ],
            [
             0.5555555555555556,
             "#d8576b"
            ],
            [
             0.6666666666666666,
             "#ed7953"
            ],
            [
             0.7777777777777778,
             "#fb9f3a"
            ],
            [
             0.8888888888888888,
             "#fdca26"
            ],
            [
             1,
             "#f0f921"
            ]
           ]
          },
          "colorway": [
           "#636efa",
           "#EF553B",
           "#00cc96",
           "#ab63fa",
           "#FFA15A",
           "#19d3f3",
           "#FF6692",
           "#B6E880",
           "#FF97FF",
           "#FECB52"
          ],
          "font": {
           "color": "#2a3f5f"
          },
          "geo": {
           "bgcolor": "white",
           "lakecolor": "white",
           "landcolor": "#E5ECF6",
           "showlakes": true,
           "showland": true,
           "subunitcolor": "white"
          },
          "hoverlabel": {
           "align": "left"
          },
          "hovermode": "closest",
          "mapbox": {
           "style": "light"
          },
          "paper_bgcolor": "white",
          "plot_bgcolor": "#E5ECF6",
          "polar": {
           "angularaxis": {
            "gridcolor": "white",
            "linecolor": "white",
            "ticks": ""
           },
           "bgcolor": "#E5ECF6",
           "radialaxis": {
            "gridcolor": "white",
            "linecolor": "white",
            "ticks": ""
           }
          },
          "scene": {
           "xaxis": {
            "backgroundcolor": "#E5ECF6",
            "gridcolor": "white",
            "gridwidth": 2,
            "linecolor": "white",
            "showbackground": true,
            "ticks": "",
            "zerolinecolor": "white"
           },
           "yaxis": {
            "backgroundcolor": "#E5ECF6",
            "gridcolor": "white",
            "gridwidth": 2,
            "linecolor": "white",
            "showbackground": true,
            "ticks": "",
            "zerolinecolor": "white"
           },
           "zaxis": {
            "backgroundcolor": "#E5ECF6",
            "gridcolor": "white",
            "gridwidth": 2,
            "linecolor": "white",
            "showbackground": true,
            "ticks": "",
            "zerolinecolor": "white"
           }
          },
          "shapedefaults": {
           "line": {
            "color": "#2a3f5f"
           }
          },
          "ternary": {
           "aaxis": {
            "gridcolor": "white",
            "linecolor": "white",
            "ticks": ""
           },
           "baxis": {
            "gridcolor": "white",
            "linecolor": "white",
            "ticks": ""
           },
           "bgcolor": "#E5ECF6",
           "caxis": {
            "gridcolor": "white",
            "linecolor": "white",
            "ticks": ""
           }
          },
          "title": {
           "x": 0.05
          },
          "xaxis": {
           "automargin": true,
           "gridcolor": "white",
           "linecolor": "white",
           "ticks": "",
           "title": {
            "standoff": 15
           },
           "zerolinecolor": "white",
           "zerolinewidth": 2
          },
          "yaxis": {
           "automargin": true,
           "gridcolor": "white",
           "linecolor": "white",
           "ticks": "",
           "title": {
            "standoff": 15
           },
           "zerolinecolor": "white",
           "zerolinewidth": 2
          }
         }
        },
        "xaxis": {
         "anchor": "y",
         "domain": [
          0,
          1
         ],
         "title": {
          "text": "OUTAGE.START"
         }
        },
        "yaxis": {
         "anchor": "x",
         "domain": [
          0,
          1
         ],
         "title": {
          "text": "value"
         }
        }
       }
      }
     },
     "metadata": {},
     "output_type": "display_data"
    }
   ],
   "source": [
    "over_time_df = df_dropped.groupby(['OUTAGE.START'], dropna=True)['OUTAGE.DURATION'].count().plot()\n",
    "# plt.plot(over_time_df)\n",
    "# plt.show()\n",
    "over_time_df"
   ]
  },
  {
   "cell_type": "code",
   "execution_count": 13,
   "metadata": {},
   "outputs": [],
   "source": [
    "#df_dropped.groupby(['CAUSE.CATEGORY','CAUSE.CATEGORY.DETAIL']).count()\n"
   ]
  },
  {
   "cell_type": "markdown",
   "metadata": {},
   "source": [
    "## Bivarate Graph"
   ]
  },
  {
   "cell_type": "code",
   "execution_count": 14,
   "metadata": {},
   "outputs": [],
   "source": [
    "state_data = df_dropped[[\"U.S._STATE\", \"POSTAL.CODE\", \"OUTAGE.DURATION\"]].groupby(['POSTAL.CODE','U.S._STATE']).mean()\n",
    "state_data = state_data.reset_index()\n",
    "\n",
    "state_geo = requests.get(\n",
    "    \"https://raw.githubusercontent.com/python-visualization/folium-example-data/main/us_states.json\"\n",
    ").json()\n",
    "geo_merge = pd.DataFrame(state_geo['features'])\n",
    "state_data = state_data.merge(geo_merge, left_on='POSTAL.CODE', right_on=\"id\")"
   ]
  },
  {
   "cell_type": "code",
   "execution_count": 50,
   "metadata": {},
   "outputs": [
    {
     "data": {
      "text/plain": [
       "<folium.features.Choropleth at 0x7fd1b72f22b0>"
      ]
     },
     "execution_count": 50,
     "metadata": {},
     "output_type": "execute_result"
    }
   ],
   "source": [
    "## GRAPHS/STATS I MADE BUT I DONT THINK ARE NEEDED NOW\n",
    "\n",
    "#df_dropped.groupby(['U.S._STATE','OUTAGE.DURATION']).count().unstack(level=0)['MONTH'].plot(kind='bar')\n",
    "#df_dropped.groupby('UTIL.CONTRI').count()\n",
    "#df_dropped.groupby(['CAUSE.CATEGORY','CAUSE.CATEGORY.DETAIL']).count()\n",
    "\n",
    "m = folium.Map(location=[48, -102], zoom_start=3)\n",
    "\n",
    "folium.Choropleth(\n",
    "    geo_data=state_geo,\n",
    "    name=\"choropleth\",\n",
    "    data=state_data,\n",
    "    columns=[\"POSTAL.CODE\", \"OUTAGE.DURATION\"],\n",
    "    key_on=\"feature.id\",\n",
    "    #fill_color=\"YlGn\",\n",
    "    fill_opacity=0.9,\n",
    "    line_opacity=0.2,\n",
    "    bins=[0, 500, 1000, 2000, 4000, 6000, 8000],\n",
    "    highlight=True,\n",
    "    legend_name=\"Mean Duration of Outage per State\",\n",
    "    nan_fill_color=\"purple\"\n",
    ").add_to(m)\n",
    "#m"
   ]
  },
  {
   "cell_type": "code",
   "execution_count": 16,
   "metadata": {},
   "outputs": [],
   "source": [
    "\n",
    "### TRY TO ADD HIGHLIGHT FUNCTION THAT WORKS###\n",
    "\n",
    "# style_function = lambda x: {'fillColor': '#ffffff', \n",
    "#                             'color':'#000000', \n",
    "#                             'fillOpacity': 0.1, \n",
    "#                             'weight': 0.1}\n",
    "# highlight_function = lambda x: {'fillColor': '#000000', \n",
    "#                                 'color':'#000000', \n",
    "#                                 'fillOpacity': 0.50, \n",
    "#                                 'weight': 0.1}\n",
    "# NIL = folium.features.GeoJson(\n",
    "#     state_data,\n",
    "#     style_function=style_function, \n",
    "#     control=False,\n",
    "#     highlight_function=highlight_function, \n",
    "#     tooltip=folium.features.GeoJsonTooltip(\n",
    "#         fields=[\"POSTAL.CODE\", \"OUTAGE.DURATION\"],\n",
    "#         aliases=['STATE: ','Duration of Outage'],\n",
    "#         style=(\"background-color: white; color: #333333; font-family: arial; font-size: 12px; padding: 10px;\") \n",
    "#     )\n",
    "# )\n",
    "# m.add_child(NIL)\n",
    "# m.keep_in_front(NIL)\n",
    "# folium.LayerControl().add_to(m)\n",
    "# m"
   ]
  },
  {
   "cell_type": "markdown",
   "metadata": {},
   "source": [
    "## Interesting AGG "
   ]
  },
  {
   "cell_type": "code",
   "execution_count": 17,
   "metadata": {},
   "outputs": [
    {
     "data": {
      "application/vnd.plotly.v1+json": {
       "config": {
        "plotlyServerURL": "https://plot.ly"
       },
       "data": [
        {
         "hovertemplate": "variable=ANOMALY.LEVEL<br>OUTAGE.START=%{x}<br>value=%{y}<extra></extra>",
         "legendgroup": "ANOMALY.LEVEL",
         "marker": {
          "color": "#636efa",
          "symbol": "circle"
         },
         "mode": "markers",
         "name": "ANOMALY.LEVEL",
         "showlegend": true,
         "type": "scattergl",
         "x": [
          "2000-01-23T08:00:00",
          "2000-01-29T22:00:00",
          "2000-03-18T16:00:00",
          "2000-03-18T19:08:00",
          "2000-05-02T04:00:00",
          "2000-05-09T11:39:00",
          "2000-05-24T10:15:00",
          "2000-05-25T10:00:00",
          "2000-06-14T15:54:00",
          "2000-08-06T16:00:00",
          "2000-08-10T21:30:00",
          "2000-08-18T18:30:00",
          "2000-12-16T11:36:00",
          "2001-01-17T01:45:00",
          "2001-01-20T08:15:00",
          "2001-03-06T09:17:00",
          "2001-03-14T15:00:00",
          "2001-03-19T11:46:00",
          "2001-03-20T09:17:00",
          "2001-03-20T11:50:00",
          "2001-05-07T16:45:00",
          "2001-05-08T15:10:00",
          "2001-05-08T15:12:00",
          "2001-06-06T16:22:00",
          "2001-06-08T19:00:00",
          "2001-06-25T13:25:00",
          "2001-08-09T15:11:00",
          "2002-01-30T06:00:00",
          "2002-01-30T16:00:00",
          "2002-02-27T10:48:00",
          "2002-03-09T00:00:00",
          "2002-08-09T08:23:00",
          "2002-08-25T03:41:00",
          "2002-11-06T22:00:00",
          "2002-11-17T06:00:00",
          "2002-12-03T18:30:00",
          "2002-12-11T13:09:00",
          "2002-12-14T11:00:00",
          "2002-12-19T06:00:00",
          "2002-12-25T10:00:00",
          "2002-12-25T17:00:00",
          "2003-01-25T14:00:00",
          "2003-02-27T11:32:00",
          "2003-04-03T19:00:00",
          "2003-04-04T03:11:00",
          "2003-04-15T11:00:00",
          "2003-04-28T15:41:00",
          "2003-05-15T02:52:00",
          "2003-05-15T14:00:00",
          "2003-06-15T15:12:00",
          "2003-07-01T15:15:00",
          "2003-07-02T13:54:00",
          "2003-07-04T06:00:00",
          "2003-07-04T09:00:00",
          "2003-07-05T03:00:00",
          "2003-07-07T09:00:00",
          "2003-07-08T04:00:00",
          "2003-07-09T17:14:00",
          "2003-07-15T08:24:00",
          "2003-07-21T17:15:00",
          "2003-07-28T18:55:00",
          "2003-08-14T16:09:00",
          "2003-08-14T16:10:00",
          "2003-08-14T16:11:00",
          "2003-08-26T16:00:00",
          "2003-08-26T16:22:00",
          "2003-09-07T05:19:00",
          "2003-09-18T00:00:00",
          "2003-09-18T11:45:00",
          "2003-09-18T15:32:00",
          "2003-09-18T16:20:00",
          "2003-10-26T01:44:00",
          "2003-11-12T17:00:00",
          "2003-11-12T18:00:00",
          "2003-11-13T06:00:00",
          "2003-11-13T07:30:00",
          "2003-11-13T11:00:00",
          "2003-11-13T13:40:00",
          "2003-12-01T18:16:00",
          "2003-12-04T07:00:00",
          "2003-12-05T04:49:00",
          "2003-12-20T15:51:00",
          "2003-12-22T11:15:00",
          "2003-12-28T21:00:00",
          "2004-01-01T07:30:00",
          "2004-01-07T00:00:00",
          "2004-01-08T15:00:00",
          "2004-01-14T06:00:00",
          "2004-01-26T10:00:00",
          "2004-01-26T14:00:00",
          "2004-01-28T13:09:00",
          "2004-02-14T20:00:00",
          "2004-02-17T14:25:00",
          "2004-02-25T00:01:00",
          "2004-02-26T00:00:00",
          "2004-03-04T05:00:00",
          "2004-03-08T18:22:00",
          "2004-03-17T13:27:00",
          "2004-04-10T20:00:00",
          "2004-04-12T05:30:00",
          "2004-04-27T12:35:00",
          "2004-05-03T14:30:00",
          "2004-05-11T15:30:00",
          "2004-05-21T02:00:00",
          "2004-05-21T11:00:00",
          "2004-05-21T13:00:00",
          "2004-05-21T16:00:00",
          "2004-05-28T12:00:00",
          "2004-06-01T17:00:00",
          "2004-06-02T01:46:00",
          "2004-06-02T02:35:00",
          "2004-06-12T17:37:00",
          "2004-06-14T07:41:00",
          "2004-06-23T17:35:00",
          "2004-07-06T06:00:00",
          "2004-07-07T13:30:00",
          "2004-07-13T13:34:00",
          "2004-07-13T16:30:00",
          "2004-07-20T14:26:00",
          "2004-07-21T17:30:00",
          "2004-07-24T15:45:00",
          "2004-08-02T10:00:00",
          "2004-08-03T21:00:00",
          "2004-08-04T12:46:00",
          "2004-08-13T08:00:00",
          "2004-08-13T15:00:00",
          "2004-08-13T16:43:00",
          "2004-08-13T22:04:00",
          "2004-08-20T15:31:00",
          "2004-08-29T09:52:00",
          "2004-09-03T21:00:00",
          "2004-09-04T08:00:00",
          "2004-09-04T10:00:00",
          "2004-09-05T07:00:00",
          "2004-09-07T10:00:00",
          "2004-09-17T04:30:00",
          "2004-09-25T17:00:00",
          "2004-09-26T02:00:00",
          "2004-09-26T03:00:00",
          "2004-09-26T06:00:00",
          "2004-09-27T08:00:00",
          "2004-10-18T22:30:00",
          "2004-10-25T11:00:00",
          "2004-10-28T15:27:00",
          "2004-10-30T10:00:00",
          "2004-10-30T12:30:00",
          "2004-11-23T22:00:00",
          "2004-11-24T10:00:00",
          "2004-12-01T07:30:00",
          "2004-12-01T10:00:00",
          "2004-12-27T07:50:00",
          "2005-01-04T18:00:00",
          "2005-01-05T16:00:00",
          "2005-01-05T21:10:00",
          "2005-01-07T13:00:00",
          "2005-01-29T16:00:00",
          "2005-03-08T11:00:00",
          "2005-04-01T00:00:00",
          "2005-04-22T15:51:00",
          "2005-04-23T06:00:00",
          "2005-05-08T15:00:00",
          "2005-05-29T20:00:00",
          "2005-06-05T14:00:00",
          "2005-06-06T12:00:00",
          "2005-06-06T16:43:00",
          "2005-06-08T04:00:00",
          "2005-06-24T20:37:00",
          "2005-06-29T16:30:00",
          "2005-07-05T21:00:00",
          "2005-07-21T14:39:00",
          "2005-07-22T13:55:00",
          "2005-07-23T01:02:00",
          "2005-07-27T16:50:00",
          "2005-07-27T17:50:00",
          "2005-07-27T18:00:00",
          "2005-08-08T12:38:00",
          "2005-08-20T14:15:00",
          "2005-08-25T15:50:00",
          "2005-08-25T15:51:00",
          "2005-08-29T01:10:00",
          "2005-08-29T06:00:00",
          "2005-08-29T07:10:00",
          "2005-08-29T17:00:00",
          "2005-08-31T16:00:00",
          "2005-09-12T12:32:00",
          "2005-09-13T18:30:00",
          "2005-09-14T15:00:00",
          "2005-09-21T19:00:00",
          "2005-09-22T11:00:00",
          "2005-09-22T12:00:00",
          "2005-09-23T07:00:00",
          "2005-09-23T13:06:00",
          "2005-09-23T17:00:00",
          "2005-09-24T06:00:00",
          "2005-09-24T10:00:00",
          "2005-10-23T20:00:00",
          "2005-10-24T04:00:00",
          "2005-10-24T07:00:00",
          "2005-11-03T18:47:00",
          "2005-11-06T07:30:00",
          "2005-11-12T16:00:00",
          "2005-11-12T23:00:00",
          "2005-12-15T05:05:00",
          "2005-12-31T06:00:00",
          "2006-01-14T15:45:00",
          "2006-01-18T15:16:00",
          "2006-02-04T01:34:00",
          "2006-02-04T04:30:00",
          "2006-02-11T21:00:00",
          "2006-02-12T00:06:00",
          "2006-02-12T02:00:00",
          "2006-02-12T05:55:00",
          "2006-02-16T12:00:00",
          "2006-02-17T04:32:00",
          "2006-02-18T08:50:00",
          "2006-02-27T18:25:00",
          "2006-03-12T20:30:00",
          "2006-04-02T21:00:00",
          "2006-04-17T15:25:00",
          "2006-04-17T16:10:00",
          "2006-04-17T16:11:00",
          "2006-04-17T16:20:00",
          "2006-04-17T16:35:00",
          "2006-04-21T07:00:00",
          "2006-05-03T15:30:00",
          "2006-05-19T15:13:00",
          "2006-06-01T14:12:00",
          "2006-06-01T18:00:00",
          "2006-06-01T18:30:00",
          "2006-06-11T18:00:00",
          "2006-07-02T18:39:00",
          "2006-07-04T17:30:00",
          "2006-07-16T14:00:00",
          "2006-07-17T18:50:00",
          "2006-07-17T21:00:00",
          "2006-07-18T18:36:00",
          "2006-07-18T20:07:00",
          "2006-07-19T11:00:00",
          "2006-07-22T13:09:00",
          "2006-07-24T14:33:00",
          "2006-07-27T18:38:00",
          "2006-08-01T12:00:00",
          "2006-08-07T13:00:00",
          "2006-09-01T05:30:00",
          "2006-09-01T15:00:00",
          "2006-09-01T20:00:00",
          "2006-10-02T14:00:00",
          "2006-10-02T15:05:00",
          "2006-10-03T17:28:00",
          "2006-10-12T17:48:00",
          "2006-10-12T20:00:00",
          "2006-10-15T07:09:00",
          "2006-10-26T05:30:00",
          "2006-11-15T10:00:00",
          "2006-11-15T13:00:00",
          "2006-11-15T15:00:00",
          "2006-11-26T13:00:00",
          "2006-12-01T18:20:00",
          "2006-12-10T19:35:00",
          "2006-12-13T04:30:00",
          "2006-12-14T00:01:00",
          "2006-12-14T05:30:00",
          "2006-12-14T12:07:00",
          "2006-12-14T17:00:00",
          "2006-12-14T19:00:00",
          "2006-12-16T19:30:00",
          "2006-12-26T00:01:00",
          "2006-12-30T22:25:00",
          "2007-01-13T07:30:00",
          "2007-01-16T02:00:00",
          "2007-02-13T17:00:00",
          "2007-02-24T18:00:00",
          "2007-02-24T19:23:00",
          "2007-02-28T00:45:00",
          "2007-03-31T07:30:00",
          "2007-04-05T21:20:00",
          "2007-04-12T00:32:00",
          "2007-04-12T09:09:00",
          "2007-04-16T08:00:00",
          "2007-04-16T10:14:00",
          "2007-04-16T14:00:00",
          "2007-05-02T13:30:00",
          "2007-05-10T09:57:00",
          "2007-05-14T11:15:00",
          "2007-05-15T15:00:00",
          "2007-05-16T18:00:00",
          "2007-05-21T13:48:00",
          "2007-06-27T15:41:00",
          "2007-06-27T15:42:00",
          "2007-06-29T09:23:00",
          "2007-07-03T10:59:00",
          "2007-07-05T19:00:00",
          "2007-07-10T11:00:00",
          "2007-07-16T16:17:00",
          "2007-07-18T18:00:00",
          "2007-07-19T15:00:00",
          "2007-07-19T15:50:00",
          "2007-08-09T14:53:00",
          "2007-08-13T01:30:00",
          "2007-08-19T23:34:00",
          "2007-08-23T16:00:00",
          "2007-08-24T18:00:00",
          "2007-08-29T13:53:00",
          "2007-08-29T16:00:00",
          "2007-08-31T12:45:00",
          "2007-09-03T12:30:00",
          "2007-09-04T08:30:00",
          "2007-09-05T07:53:00",
          "2007-09-13T04:00:00",
          "2007-09-17T19:01:00",
          "2007-09-24T13:38:00",
          "2007-10-18T15:00:00",
          "2007-10-22T14:01:00",
          "2007-10-22T14:05:00",
          "2007-10-22T14:06:00",
          "2007-10-26T06:44:00",
          "2007-12-01T18:04:00",
          "2007-12-10T03:08:00",
          "2007-12-11T04:00:00",
          "2007-12-23T01:00:00",
          "2007-12-23T05:30:00",
          "2008-01-04T04:00:00",
          "2008-01-04T07:47:00",
          "2008-01-29T05:00:00",
          "2008-01-29T22:00:00",
          "2008-01-29T23:23:00",
          "2008-01-30T03:06:00",
          "2008-02-01T06:00:00",
          "2008-02-02T03:58:00",
          "2008-02-05T22:00:00",
          "2008-02-06T09:00:00",
          "2008-02-09T11:59:00",
          "2008-02-10T14:06:00",
          "2008-02-10T18:02:00",
          "2008-02-13T18:43:00",
          "2008-02-14T08:15:00",
          "2008-02-15T15:06:00",
          "2008-02-25T08:00:00",
          "2008-02-26T13:09:00",
          "2008-02-26T13:10:00",
          "2008-03-08T16:00:00",
          "2008-04-09T16:00:00",
          "2008-05-08T10:21:00",
          "2008-05-11T06:00:00",
          "2008-05-11T16:50:00",
          "2008-05-12T00:01:00",
          "2008-05-27T14:02:00",
          "2008-05-30T09:30:00",
          "2008-05-30T14:05:00",
          "2008-05-30T22:00:00",
          "2008-06-04T15:00:00",
          "2008-06-04T15:04:00",
          "2008-06-06T15:18:00",
          "2008-06-08T09:30:00",
          "2008-06-08T18:00:00",
          "2008-06-09T14:52:00",
          "2008-06-10T11:00:00",
          "2008-06-10T18:00:00",
          "2008-06-10T19:00:00",
          "2008-06-11T13:15:00",
          "2008-06-12T15:30:00",
          "2008-06-15T08:00:00",
          "2008-06-15T19:06:00",
          "2008-06-16T16:15:00",
          "2008-06-17T09:01:00",
          "2008-06-21T15:09:00",
          "2008-06-22T16:55:00",
          "2008-06-23T13:44:00",
          "2008-06-23T16:52:00",
          "2008-06-26T17:00:00",
          "2008-06-27T16:30:00",
          "2008-07-01T07:31:00",
          "2008-07-02T15:00:00",
          "2008-07-02T19:16:00",
          "2008-07-02T19:36:00",
          "2008-07-02T20:00:00",
          "2008-07-07T12:15:00",
          "2008-07-10T14:22:00",
          "2008-07-22T03:00:00",
          "2008-07-23T05:56:00",
          "2008-07-24T07:23:00",
          "2008-08-04T18:00:00",
          "2008-08-05T03:00:00",
          "2008-08-15T12:52:00",
          "2008-08-16T05:23:00",
          "2008-08-19T09:29:00",
          "2008-08-21T19:00:00",
          "2008-08-31T07:30:00",
          "2008-09-01T10:30:00",
          "2008-09-01T11:45:00",
          "2008-09-06T07:45:00",
          "2008-09-08T22:03:00",
          "2008-09-12T18:21:00",
          "2008-09-12T20:00:00",
          "2008-09-13T10:24:00",
          "2008-09-13T12:00:00",
          "2008-09-14T10:01:00",
          "2008-09-14T11:30:00",
          "2008-09-14T14:00:00",
          "2008-09-14T17:00:00",
          "2008-09-14T19:00:00",
          "2008-09-15T00:37:00",
          "2008-09-30T14:02:00",
          "2008-10-02T14:50:00",
          "2008-10-25T23:00:00",
          "2008-11-07T11:13:00",
          "2008-11-07T11:15:00",
          "2008-11-15T09:39:00",
          "2008-12-02T04:30:00",
          "2008-12-09T17:27:00",
          "2008-12-10T17:09:00",
          "2008-12-11T18:00:00",
          "2008-12-12T02:38:00",
          "2008-12-12T08:45:00",
          "2008-12-13T15:30:00",
          "2008-12-19T01:02:00",
          "2008-12-19T09:00:00",
          "2008-12-26T11:40:00",
          "2008-12-26T18:13:00",
          "2008-12-27T16:00:00",
          "2008-12-28T04:45:00",
          "2008-12-28T11:45:00",
          "2008-12-30T16:02:00",
          "2009-01-05T05:00:00",
          "2009-01-08T23:46:00",
          "2009-01-17T08:00:00",
          "2009-01-22T16:00:00",
          "2009-01-27T05:00:00",
          "2009-01-27T05:03:00",
          "2009-01-27T11:00:00",
          "2009-01-27T13:46:00",
          "2009-01-27T21:00:00",
          "2009-01-27T21:45:00",
          "2009-01-28T00:10:00",
          "2009-01-28T04:00:00",
          "2009-01-28T06:00:00",
          "2009-01-28T07:50:00",
          "2009-02-11T02:30:00",
          "2009-02-11T19:00:00",
          "2009-02-12T02:30:00",
          "2009-02-12T08:00:00",
          "2009-02-13T02:30:00",
          "2009-02-23T02:38:00",
          "2009-03-01T00:15:00",
          "2009-03-01T22:00:00",
          "2009-03-03T06:48:00",
          "2009-03-03T22:00:00",
          "2009-03-08T22:16:00",
          "2009-04-06T01:00:00",
          "2009-04-23T16:25:00",
          "2009-04-23T17:54:00",
          "2009-04-24T11:09:00",
          "2009-04-25T14:30:00",
          "2009-04-27T15:30:00",
          "2009-05-08T07:30:00",
          "2009-05-08T13:30:00",
          "2009-05-29T09:05:00",
          "2009-06-05T13:38:00",
          "2009-06-09T17:25:00",
          "2009-06-10T18:00:00",
          "2009-06-12T16:37:00",
          "2009-06-12T22:00:00",
          "2009-06-16T23:00:00",
          "2009-06-19T00:01:00",
          "2009-06-19T13:00:00",
          "2009-06-24T13:30:00",
          "2009-06-25T15:16:00",
          "2009-06-25T15:30:00",
          "2009-06-26T17:00:00",
          "2009-07-02T22:44:00",
          "2009-07-07T15:30:00",
          "2009-07-08T13:30:00",
          "2009-07-14T13:00:00",
          "2009-07-15T13:00:00",
          "2009-07-16T13:00:00",
          "2009-07-18T19:00:00",
          "2009-07-20T21:50:00",
          "2009-07-21T05:34:00",
          "2009-07-27T05:05:00",
          "2009-07-28T20:18:00",
          "2009-08-05T15:00:00",
          "2009-08-07T23:00:00",
          "2009-08-09T19:31:00",
          "2009-08-12T18:25:00",
          "2009-08-21T19:00:00",
          "2009-08-29T11:00:00",
          "2009-08-29T22:54:00",
          "2009-08-31T10:31:00",
          "2009-10-07T05:45:00",
          "2009-10-09T18:30:00",
          "2009-10-13T12:48:00",
          "2009-10-13T15:45:00",
          "2009-10-13T16:00:00",
          "2009-11-18T06:15:00",
          "2009-12-07T22:00:00",
          "2009-12-08T01:00:00",
          "2009-12-08T06:34:00",
          "2009-12-09T13:37:00",
          "2009-12-10T17:45:00",
          "2009-12-18T22:55:00",
          "2010-01-06T18:00:00",
          "2010-01-11T03:45:00",
          "2010-01-18T11:30:00",
          "2010-01-19T07:30:00",
          "2010-01-19T14:30:00",
          "2010-01-20T13:00:00",
          "2010-01-28T12:00:00",
          "2010-02-01T14:32:00",
          "2010-02-05T15:00:00",
          "2010-02-05T19:00:00",
          "2010-02-05T22:30:00",
          "2010-02-09T18:00:00",
          "2010-02-11T12:00:00",
          "2010-02-19T20:30:00",
          "2010-02-23T22:00:00",
          "2010-02-25T17:00:00",
          "2010-03-13T01:00:00",
          "2010-03-13T12:00:00",
          "2010-03-13T15:00:00",
          "2010-03-13T16:00:00",
          "2010-03-13T18:00:00",
          "2010-03-31T23:59:00",
          "2010-04-16T17:15:00",
          "2010-04-21T15:05:00",
          "2010-04-27T14:55:00",
          "2010-05-18T08:15:00",
          "2010-06-01T22:03:00",
          "2010-06-02T20:18:00",
          "2010-06-06T04:45:00",
          "2010-06-07T18:29:00",
          "2010-06-08T11:00:00",
          "2010-06-09T14:18:00",
          "2010-06-16T11:11:00",
          "2010-06-17T08:30:00",
          "2010-06-17T09:30:00",
          "2010-06-17T10:49:00",
          "2010-06-18T15:30:00",
          "2010-06-18T16:00:00",
          "2010-06-18T19:00:00",
          "2010-06-18T20:00:00",
          "2010-06-21T13:48:00",
          "2010-06-22T15:34:00",
          "2010-06-23T17:00:00",
          "2010-06-23T17:48:00",
          "2010-06-24T15:00:00",
          "2010-06-24T15:30:00",
          "2010-06-25T23:36:00",
          "2010-07-06T03:47:00",
          "2010-07-07T16:13:00",
          "2010-07-15T19:00:00",
          "2010-07-17T20:30:00",
          "2010-07-21T18:44:00",
          "2010-07-23T10:00:00",
          "2010-07-23T19:30:00",
          "2010-07-25T15:10:00",
          "2010-07-25T15:20:00",
          "2010-07-25T16:11:00",
          "2010-07-29T17:43:00",
          "2010-07-29T18:39:00",
          "2010-08-02T12:00:00",
          "2010-08-02T12:45:00",
          "2010-08-05T15:30:00",
          "2010-08-05T15:54:00",
          "2010-08-09T12:00:00",
          "2010-08-12T06:45:00",
          "2010-08-12T08:21:00",
          "2010-08-12T15:42:00",
          "2010-08-19T18:00:00",
          "2010-08-23T17:50:00",
          "2010-09-01T10:20:00",
          "2010-09-07T14:02:00",
          "2010-09-20T17:00:00",
          "2010-09-21T21:31:00",
          "2010-09-22T06:12:00",
          "2010-09-22T16:08:00",
          "2010-09-22T17:38:00",
          "2010-09-27T15:15:00",
          "2010-10-05T05:45:00",
          "2010-10-26T09:00:00",
          "2010-10-26T20:00:00",
          "2010-10-27T04:00:00",
          "2010-10-27T08:00:00",
          "2010-10-27T17:00:00",
          "2010-10-27T17:16:00",
          "2010-10-31T22:26:00",
          "2010-11-04T09:46:00",
          "2010-11-06T15:53:00",
          "2010-11-08T06:47:00",
          "2010-11-13T15:00:00",
          "2010-11-21T01:39:00",
          "2010-11-22T23:00:00",
          "2010-11-23T14:01:00",
          "2010-12-03T21:32:00",
          "2010-12-12T16:30:00",
          "2010-12-14T07:20:00",
          "2010-12-14T07:36:00",
          "2010-12-18T05:00:00",
          "2010-12-30T14:00:00",
          "2011-01-11T23:08:00",
          "2011-01-12T06:00:00",
          "2011-01-13T07:21:00",
          "2011-01-18T14:00:00",
          "2011-01-23T07:00:00",
          "2011-01-24T13:20:00",
          "2011-01-25T03:23:00",
          "2011-01-26T09:25:00",
          "2011-01-26T09:33:00",
          "2011-01-26T17:00:00",
          "2011-01-26T18:28:00",
          "2011-01-26T19:43:00",
          "2011-01-27T09:30:00",
          "2011-01-27T17:00:00",
          "2011-02-01T21:00:00",
          "2011-02-02T03:00:00",
          "2011-02-02T05:43:00",
          "2011-02-02T06:22:00",
          "2011-02-03T14:30:00",
          "2011-02-03T15:00:00",
          "2011-02-03T22:04:00",
          "2011-02-09T03:45:00",
          "2011-02-09T14:54:00",
          "2011-02-09T16:30:00",
          "2011-02-10T13:00:00",
          "2011-02-17T01:25:00",
          "2011-02-17T13:00:00",
          "2011-02-19T12:30:00",
          "2011-02-19T16:34:00",
          "2011-02-20T16:00:00",
          "2011-02-24T16:51:00",
          "2011-02-25T08:00:00",
          "2011-02-25T10:30:00",
          "2011-02-25T15:20:00",
          "2011-02-25T15:23:00",
          "2011-03-01T08:00:00",
          "2011-03-06T02:54:00",
          "2011-03-08T08:00:00",
          "2011-03-10T12:03:00",
          "2011-03-11T07:02:00",
          "2011-03-13T14:20:00",
          "2011-03-14T07:30:00",
          "2011-03-15T18:00:00",
          "2011-03-17T07:40:00",
          "2011-03-18T09:54:00",
          "2011-03-19T23:56:00",
          "2011-03-20T09:44:00",
          "2011-03-21T00:57:00",
          "2011-03-21T12:35:00",
          "2011-03-27T13:27:00",
          "2011-03-31T11:30:00",
          "2011-03-31T14:30:00",
          "2011-04-04T11:47:00",
          "2011-04-04T13:00:00",
          "2011-04-04T14:00:00",
          "2011-04-06T10:50:00",
          "2011-04-11T17:40:00",
          "2011-04-16T14:16:00",
          "2011-04-19T14:01:00",
          "2011-04-19T20:00:00",
          "2011-04-19T22:44:00",
          "2011-04-19T23:02:00",
          "2011-04-19T23:13:00",
          "2011-04-20T08:07:00",
          "2011-04-21T07:15:00",
          "2011-04-21T19:00:00",
          "2011-04-22T21:00:00",
          "2011-04-25T16:33:00",
          "2011-04-26T05:49:00",
          "2011-04-26T13:04:00",
          "2011-04-26T18:14:00",
          "2011-04-28T05:00:00",
          "2011-04-28T16:09:00",
          "2011-05-02T08:52:00",
          "2011-05-02T14:00:00",
          "2011-05-02T17:06:00",
          "2011-05-03T12:00:00",
          "2011-05-04T12:20:00",
          "2011-05-04T13:08:00",
          "2011-05-05T09:15:00",
          "2011-05-06T06:56:00",
          "2011-05-08T19:35:00",
          "2011-05-09T04:08:00",
          "2011-05-09T13:11:00",
          "2011-05-10T03:25:00",
          "2011-05-10T13:45:00",
          "2011-05-11T00:15:00",
          "2011-05-11T11:00:00",
          "2011-05-11T13:35:00",
          "2011-05-11T15:55:00",
          "2011-05-13T06:00:00",
          "2011-05-21T17:00:00",
          "2011-05-22T17:09:00",
          "2011-05-23T12:30:00",
          "2011-05-23T16:45:00",
          "2011-05-24T09:00:00",
          "2011-05-24T16:35:00",
          "2011-05-24T16:45:00",
          "2011-05-25T22:14:00",
          "2011-05-26T01:00:00",
          "2011-05-26T18:30:00",
          "2011-05-26T19:56:00",
          "2011-05-29T18:30:00",
          "2011-06-02T23:45:00",
          "2011-06-04T01:17:00",
          "2011-06-05T05:30:00",
          "2011-06-05T20:02:00",
          "2011-06-06T15:00:00",
          "2011-06-07T14:00:00",
          "2011-06-08T12:58:00",
          "2011-06-09T04:30:00",
          "2011-06-09T14:15:00",
          "2011-06-12T19:00:00",
          "2011-06-15T16:00:00",
          "2011-06-15T19:15:00",
          "2011-06-15T19:17:00",
          "2011-06-18T15:30:00",
          "2011-06-18T16:45:00",
          "2011-06-20T10:36:00",
          "2011-06-21T21:45:00",
          "2011-06-22T09:46:00",
          "2011-06-22T20:12:00",
          "2011-06-23T08:10:00",
          "2011-06-26T16:46:00",
          "2011-06-27T15:00:00",
          "2011-06-27T18:55:00",
          "2011-06-29T11:30:00",
          "2011-06-30T14:11:00",
          "2011-06-30T22:30:00",
          "2011-06-30T22:31:00",
          "2011-07-01T08:00:00",
          "2011-07-01T16:38:00",
          "2011-07-01T17:00:00",
          "2011-07-02T20:15:00",
          "2011-07-04T18:00:00",
          "2011-07-05T10:40:00",
          "2011-07-06T09:51:00",
          "2011-07-08T10:00:00",
          "2011-07-11T09:00:00",
          "2011-07-11T11:15:00",
          "2011-07-11T13:13:00",
          "2011-07-11T13:30:00",
          "2011-07-12T12:00:00",
          "2011-07-12T20:20:00",
          "2011-07-13T17:19:00",
          "2011-07-14T11:00:00",
          "2011-07-18T17:00:00",
          "2011-07-19T11:45:00",
          "2011-07-20T09:10:00",
          "2011-07-21T12:32:00",
          "2011-07-21T13:00:00",
          "2011-07-22T11:00:00",
          "2011-07-22T11:34:00",
          "2011-07-23T02:30:00",
          "2011-07-24T14:34:00",
          "2011-07-26T12:01:00",
          "2011-07-27T12:07:00",
          "2011-07-28T00:14:00",
          "2011-07-28T07:26:00",
          "2011-07-28T13:32:00",
          "2011-07-28T19:25:00",
          "2011-07-29T11:46:00",
          "2011-07-29T20:45:00",
          "2011-08-01T14:18:00",
          "2011-08-01T15:00:00",
          "2011-08-02T10:15:00",
          "2011-08-02T21:30:00",
          "2011-08-03T10:00:00",
          "2011-08-03T16:29:00",
          "2011-08-03T16:30:00",
          "2011-08-08T09:30:00",
          "2011-08-08T09:35:00",
          "2011-08-08T19:36:00",
          "2011-08-08T20:58:00",
          "2011-08-09T10:26:00",
          "2011-08-13T16:41:00",
          "2011-08-15T02:05:00",
          "2011-08-18T09:51:00",
          "2011-08-20T17:42:00",
          "2011-08-22T10:05:00",
          "2011-08-23T13:51:00",
          "2011-08-23T15:43:00",
          "2011-08-24T07:45:00",
          "2011-08-24T13:20:00",
          "2011-08-25T00:01:00",
          "2011-08-25T00:30:00",
          "2011-08-26T00:30:00",
          "2011-08-27T02:00:00",
          "2011-08-27T02:57:00",
          "2011-08-27T19:00:00",
          "2011-08-27T20:30:00",
          "2011-08-27T22:00:00",
          "2011-08-27T23:00:00",
          "2011-08-27T23:05:00",
          "2011-08-28T00:01:00",
          "2011-08-28T00:23:00",
          "2011-08-28T00:30:00",
          "2011-08-28T02:58:00",
          "2011-08-28T05:00:00",
          "2011-08-28T05:01:00",
          "2011-08-28T07:00:00",
          "2011-08-28T07:40:00",
          "2011-08-28T09:42:00",
          "2011-08-28T12:10:00",
          "2011-08-28T12:30:00",
          "2011-08-28T20:55:00",
          "2011-08-31T12:52:00",
          "2011-09-01T08:13:00",
          "2011-09-03T14:00:00",
          "2011-09-08T19:53:00",
          "2011-09-12T09:15:00",
          "2011-09-13T11:43:00",
          "2011-09-13T14:03:00",
          "2011-09-14T09:00:00",
          "2011-09-20T12:55:00",
          "2011-09-21T10:30:00",
          "2011-09-22T14:50:00",
          "2011-09-23T09:04:00",
          "2011-09-24T16:17:00",
          "2011-09-26T10:15:00",
          "2011-09-28T09:30:00",
          "2011-09-28T14:59:00",
          "2011-09-28T16:41:00",
          "2011-09-29T05:00:00",
          "2011-09-29T18:44:00",
          "2011-09-30T08:22:00",
          "2011-10-06T11:07:00",
          "2011-10-07T08:04:00",
          "2011-10-14T14:20:00",
          "2011-10-17T03:34:00",
          "2011-10-17T15:44:00",
          "2011-10-18T03:45:00",
          "2011-10-20T07:15:00",
          "2011-10-24T23:37:00",
          "2011-10-26T05:00:00",
          "2011-10-27T01:00:00",
          "2011-10-29T08:59:00",
          "2011-10-29T09:59:00",
          "2011-10-29T11:18:00",
          "2011-10-29T12:57:00",
          "2011-10-29T14:00:00",
          "2011-10-29T14:30:00",
          "2011-10-29T15:00:00",
          "2011-10-29T16:16:00",
          "2011-11-04T10:46:00",
          "2011-11-13T11:30:00",
          "2011-11-14T14:24:00",
          "2011-11-22T23:16:00",
          "2011-11-30T10:00:00",
          "2011-11-30T16:56:00",
          "2011-12-01T00:45:00",
          "2011-12-01T03:29:00",
          "2011-12-01T10:00:00",
          "2011-12-02T16:15:00",
          "2011-12-05T14:00:00",
          "2011-12-06T08:00:00",
          "2011-12-06T17:38:00",
          "2011-12-07T19:29:00",
          "2011-12-08T08:45:00",
          "2011-12-13T03:19:00",
          "2011-12-19T08:48:00",
          "2011-12-20T07:45:00",
          "2011-12-20T09:30:00",
          "2011-12-21T10:30:00",
          "2011-12-31T21:26:00",
          "2012-01-04T12:14:00",
          "2012-01-05T10:28:00",
          "2012-01-05T10:35:00",
          "2012-01-09T13:36:00",
          "2012-01-09T14:30:00",
          "2012-01-10T21:30:00",
          "2012-01-11T07:19:00",
          "2012-01-12T08:26:00",
          "2012-01-13T09:20:00",
          "2012-01-15T09:35:00",
          "2012-01-17T10:31:00",
          "2012-01-19T07:00:00",
          "2012-01-24T11:22:00",
          "2012-01-27T09:40:00",
          "2012-01-29T12:45:00",
          "2012-02-11T08:47:00",
          "2012-02-11T08:55:00",
          "2012-02-13T07:02:00",
          "2012-02-14T19:20:00",
          "2012-02-15T05:33:00",
          "2012-02-17T03:00:00",
          "2012-02-23T05:45:00",
          "2012-02-23T23:12:00",
          "2012-02-24T11:24:00",
          "2012-02-28T02:59:00",
          "2012-02-28T07:00:00",
          "2012-03-02T13:45:00",
          "2012-03-02T21:00:00",
          "2012-03-04T01:27:00",
          "2012-03-04T13:38:00",
          "2012-03-16T16:00:00",
          "2012-03-20T08:00:00",
          "2012-03-23T19:34:00",
          "2012-03-26T13:24:00",
          "2012-03-28T10:17:00",
          "2012-03-29T12:01:00",
          "2012-03-30T11:10:00",
          "2012-04-01T20:27:00",
          "2012-04-03T11:10:00",
          "2012-04-03T15:33:00",
          "2012-04-04T15:32:00",
          "2012-04-07T09:31:00",
          "2012-04-07T12:25:00",
          "2012-04-07T14:35:00",
          "2012-04-11T09:00:00",
          "2012-04-12T08:08:00",
          "2012-04-15T19:38:00",
          "2012-04-16T15:46:00",
          "2012-04-17T06:11:00",
          "2012-04-19T07:53:00",
          "2012-04-20T14:27:00",
          "2012-04-21T15:02:00",
          "2012-04-21T20:55:00",
          "2012-04-23T08:11:00",
          "2012-04-23T11:56:00",
          "2012-05-07T12:50:00",
          "2012-05-07T17:45:00",
          "2012-05-11T11:05:00",
          "2012-05-24T15:20:00",
          "2012-05-29T18:30:00",
          "2012-05-29T20:35:00",
          "2012-05-31T23:45:00",
          "2012-06-02T07:30:00",
          "2012-06-06T08:00:00",
          "2012-06-06T12:37:00",
          "2012-06-08T17:20:00",
          "2012-06-12T15:57:00",
          "2012-06-13T16:55:00",
          "2012-06-19T04:30:00",
          "2012-06-19T05:30:00",
          "2012-06-23T18:57:00",
          "2012-06-25T16:04:00",
          "2012-06-29T10:45:00",
          "2012-06-29T14:10:00",
          "2012-06-29T16:00:00",
          "2012-06-29T18:24:00",
          "2012-06-29T22:15:00",
          "2012-06-29T22:29:00",
          "2012-06-29T22:43:00",
          "2012-06-29T23:30:00",
          "2012-06-30T01:00:00",
          "2012-06-30T01:15:00",
          "2012-06-30T15:00:00",
          "2012-06-30T22:30:00",
          "2012-07-01T13:00:00",
          "2012-07-01T16:47:00",
          "2012-07-01T17:45:00",
          "2012-07-05T00:00:00",
          "2012-07-05T19:00:00",
          "2012-07-06T15:05:00",
          "2012-07-07T04:00:00",
          "2012-07-07T06:06:00",
          "2012-07-07T18:00:00",
          "2012-07-16T11:27:00",
          "2012-07-18T16:20:00",
          "2012-07-18T23:00:00",
          "2012-07-19T10:30:00",
          "2012-07-19T12:32:00",
          "2012-07-21T02:19:00",
          "2012-07-24T07:01:00",
          "2012-07-24T07:30:00",
          "2012-07-26T18:14:00",
          "2012-07-26T18:21:00",
          "2012-07-26T18:30:00",
          "2012-07-27T17:19:00",
          "2012-08-04T03:55:00",
          "2012-08-04T04:00:00",
          "2012-08-04T17:30:00",
          "2012-08-11T12:45:00",
          "2012-08-13T13:15:00",
          "2012-08-16T13:13:00",
          "2012-08-19T08:42:00",
          "2012-08-26T22:04:00",
          "2012-08-29T06:53:00",
          "2012-08-29T09:00:00",
          "2012-08-29T09:48:00",
          "2012-09-07T21:30:00",
          "2012-09-08T15:40:00",
          "2012-09-08T15:53:00",
          "2012-09-24T00:00:00",
          "2012-10-05T17:30:00",
          "2012-10-09T00:00:00",
          "2012-10-11T00:00:00",
          "2012-10-14T10:36:00",
          "2012-10-15T14:15:00",
          "2012-10-22T00:00:00",
          "2012-10-23T09:10:00",
          "2012-10-24T00:00:00",
          "2012-10-24T15:15:00",
          "2012-10-25T00:00:00",
          "2012-10-25T14:39:00",
          "2012-10-25T18:51:00",
          "2012-10-29T00:00:00",
          "2012-10-29T08:00:00",
          "2012-10-29T09:00:00",
          "2012-10-29T12:00:00",
          "2012-10-29T13:00:00",
          "2012-10-29T14:40:00",
          "2012-10-29T14:45:00",
          "2012-10-29T15:00:00",
          "2012-10-29T16:00:00",
          "2012-10-29T16:01:00",
          "2012-10-29T16:03:00",
          "2012-10-29T16:45:00",
          "2012-10-29T17:13:00",
          "2012-10-29T17:30:00",
          "2012-10-29T18:11:00",
          "2012-10-29T18:12:00",
          "2012-10-29T18:48:00",
          "2012-10-29T19:15:00",
          "2012-10-30T00:00:00",
          "2012-10-30T02:00:00",
          "2012-10-30T13:20:00",
          "2012-10-30T15:00:00",
          "2012-11-02T09:30:00",
          "2012-11-07T14:21:00",
          "2012-11-08T09:34:00",
          "2012-11-15T05:38:00",
          "2012-11-17T10:00:00",
          "2012-11-21T14:50:00",
          "2012-11-26T12:37:00",
          "2012-11-26T15:07:00",
          "2012-11-27T13:07:00",
          "2012-12-02T05:20:00",
          "2012-12-03T12:02:00",
          "2012-12-06T21:18:00",
          "2012-12-17T06:55:00",
          "2012-12-25T09:28:00",
          "2012-12-26T14:50:00",
          "2012-12-31T14:21:00",
          "2013-01-07T10:43:00",
          "2013-01-16T07:41:00",
          "2013-01-16T14:25:00",
          "2013-01-16T16:45:00",
          "2013-01-17T19:02:00",
          "2013-01-17T20:35:00",
          "2013-01-20T03:30:00",
          "2013-01-28T16:46:00",
          "2013-01-31T03:05:00",
          "2013-01-31T06:30:00",
          "2013-02-02T21:15:00",
          "2013-02-07T08:32:00",
          "2013-02-08T11:38:00",
          "2013-02-08T20:55:00",
          "2013-02-09T08:30:00",
          "2013-02-13T09:30:00",
          "2013-02-13T17:39:00",
          "2013-02-15T00:00:00",
          "2013-02-16T07:54:00",
          "2013-02-19T16:01:00",
          "2013-02-21T11:00:00",
          "2013-02-26T13:00:00",
          "2013-03-03T06:39:00",
          "2013-03-03T16:27:00",
          "2013-03-06T08:22:00",
          "2013-03-18T17:50:00",
          "2013-03-23T07:00:00",
          "2013-03-27T10:25:00",
          "2013-03-28T13:01:00",
          "2013-03-29T10:16:00",
          "2013-04-01T08:40:00",
          "2013-04-03T11:05:00",
          "2013-04-09T11:30:00",
          "2013-04-16T01:47:00",
          "2013-04-17T15:36:00",
          "2013-04-18T15:00:00",
          "2013-04-21T02:11:00",
          "2013-04-23T00:49:00",
          "2013-04-23T11:00:00",
          "2013-04-25T16:00:00",
          "2013-05-01T09:22:00",
          "2013-05-09T13:21:00",
          "2013-05-14T00:01:00",
          "2013-05-14T10:25:00",
          "2013-05-15T14:11:00",
          "2013-05-17T08:35:00",
          "2013-05-20T15:00:00",
          "2013-05-20T17:22:00",
          "2013-05-28T13:00:00",
          "2013-05-29T00:00:00",
          "2013-05-29T09:52:00",
          "2013-05-29T20:58:00",
          "2013-05-30T10:15:00",
          "2013-05-31T01:00:00",
          "2013-05-31T18:00:00",
          "2013-05-31T19:30:00",
          "2013-06-13T13:17:00",
          "2013-06-13T15:30:00",
          "2013-06-13T16:08:00",
          "2013-06-13T17:45:00",
          "2013-06-17T16:17:00",
          "2013-06-18T15:51:00",
          "2013-06-20T18:00:00",
          "2013-06-21T03:00:00",
          "2013-06-21T07:40:00",
          "2013-06-21T17:39:00",
          "2013-06-21T23:14:00",
          "2013-06-22T04:59:00",
          "2013-06-22T16:12:00",
          "2013-06-23T21:20:00",
          "2013-06-24T19:30:00",
          "2013-06-27T01:10:00",
          "2013-06-27T17:00:00",
          "2013-06-28T13:00:00",
          "2013-06-28T17:14:00",
          "2013-06-28T18:02:00",
          "2013-07-03T09:34:00",
          "2013-07-05T00:05:00",
          "2013-07-10T14:30:00",
          "2013-07-10T17:30:00",
          "2013-07-11T23:20:00",
          "2013-07-12T10:00:00",
          "2013-07-17T15:30:00",
          "2013-07-18T03:15:00",
          "2013-07-18T11:30:00",
          "2013-07-18T23:45:00",
          "2013-07-19T18:00:00",
          "2013-07-19T22:30:00",
          "2013-07-22T07:00:00",
          "2013-07-23T23:38:00",
          "2013-07-25T13:10:00",
          "2013-08-01T11:00:00",
          "2013-08-01T23:19:00",
          "2013-08-04T03:00:00",
          "2013-08-06T16:00:00",
          "2013-08-07T00:15:00",
          "2013-08-07T07:30:00",
          "2013-08-07T14:30:00",
          "2013-08-12T11:55:00",
          "2013-08-16T16:58:00",
          "2013-08-19T19:06:00",
          "2013-08-21T14:00:00",
          "2013-08-22T08:40:00",
          "2013-08-22T12:55:00",
          "2013-08-23T07:30:00",
          "2013-08-26T20:15:00",
          "2013-08-28T09:30:00",
          "2013-08-29T09:50:00",
          "2013-08-29T14:57:00",
          "2013-08-30T19:30:00",
          "2013-09-10T17:42:00",
          "2013-09-11T16:00:00",
          "2013-09-29T00:00:00",
          "2013-10-06T07:25:00",
          "2013-10-11T14:30:00",
          "2013-10-16T11:15:00",
          "2013-10-19T14:32:00",
          "2013-10-21T05:18:00",
          "2013-10-26T07:13:00",
          "2013-10-27T04:27:00",
          "2013-11-01T13:26:00",
          "2013-11-02T00:00:00",
          "2013-11-02T08:25:00",
          "2013-11-04T09:04:00",
          "2013-11-05T10:10:00",
          "2013-11-12T09:14:00",
          "2013-11-12T14:04:00",
          "2013-11-16T15:15:00",
          "2013-11-17T07:00:00",
          "2013-11-17T12:35:00",
          "2013-11-17T13:06:00",
          "2013-11-17T14:31:00",
          "2013-11-17T16:45:00",
          "2013-11-17T16:47:00",
          "2013-11-20T03:08:00",
          "2013-11-21T19:45:00",
          "2013-11-24T07:38:00",
          "2013-12-06T01:51:00",
          "2013-12-06T08:47:00",
          "2013-12-09T06:54:00",
          "2013-12-10T01:01:00",
          "2013-12-13T11:00:00",
          "2013-12-22T03:28:00",
          "2013-12-22T06:16:00",
          "2013-12-22T06:30:00",
          "2013-12-23T15:20:00",
          "2013-12-27T09:43:00",
          "2013-12-30T11:00:00",
          "2014-01-06T07:01:00",
          "2014-01-06T14:37:00",
          "2014-01-06T19:50:00",
          "2014-01-06T19:52:00",
          "2014-01-06T22:00:00",
          "2014-01-07T06:00:00",
          "2014-01-07T06:18:00",
          "2014-01-07T07:58:00",
          "2014-01-07T10:59:00",
          "2014-01-07T16:15:00",
          "2014-01-07T18:00:00",
          "2014-01-08T06:00:00",
          "2014-01-13T16:44:00",
          "2014-01-15T14:32:00",
          "2014-01-16T12:30:00",
          "2014-01-17T12:20:00",
          "2014-01-18T09:00:00",
          "2014-01-21T12:14:00",
          "2014-01-22T00:30:00",
          "2014-01-22T09:45:00",
          "2014-01-22T13:55:00",
          "2014-01-22T21:15:00",
          "2014-01-23T04:00:00",
          "2014-01-23T13:04:00",
          "2014-01-23T16:00:00",
          "2014-01-23T21:17:00",
          "2014-01-24T00:00:00",
          "2014-01-24T15:30:00",
          "2014-01-25T10:00:00",
          "2014-01-26T21:00:00",
          "2014-01-27T14:20:00",
          "2014-01-29T16:00:00",
          "2014-02-05T01:00:00",
          "2014-02-05T05:00:00",
          "2014-02-05T07:00:00",
          "2014-02-05T07:35:00",
          "2014-02-05T08:05:00",
          "2014-02-06T13:00:00",
          "2014-02-06T13:05:00",
          "2014-02-06T13:58:00",
          "2014-02-06T14:15:00",
          "2014-02-06T15:35:00",
          "2014-02-07T07:00:00",
          "2014-02-07T16:30:00",
          "2014-02-07T16:50:00",
          "2014-02-12T07:48:00",
          "2014-02-12T11:03:00",
          "2014-02-12T12:10:00",
          "2014-02-12T14:15:00",
          "2014-02-14T13:00:00",
          "2014-02-18T18:43:00",
          "2014-02-21T02:53:00",
          "2014-03-02T19:00:00",
          "2014-03-03T01:48:00",
          "2014-03-03T06:40:00",
          "2014-03-03T17:25:00",
          "2014-03-04T09:06:00",
          "2014-03-05T17:06:00",
          "2014-03-07T03:30:00",
          "2014-03-11T00:00:00",
          "2014-03-12T19:35:00",
          "2014-03-14T12:34:00",
          "2014-03-17T17:25:00",
          "2014-03-20T00:00:00",
          "2014-03-24T11:07:00",
          "2014-03-26T13:37:00",
          "2014-03-26T16:00:00",
          "2014-04-03T14:45:00",
          "2014-04-04T03:30:00",
          "2014-04-08T13:00:00",
          "2014-04-12T18:15:00",
          "2014-04-12T20:00:00",
          "2014-04-23T19:45:00",
          "2014-04-25T07:00:00",
          "2014-04-27T12:07:00",
          "2014-05-08T01:00:00",
          "2014-05-08T08:39:00",
          "2014-05-09T18:00:00",
          "2014-05-11T18:38:00",
          "2014-05-12T13:14:00",
          "2014-05-15T12:10:00",
          "2014-05-16T10:43:00",
          "2014-05-20T07:01:00",
          "2014-05-23T15:00:00",
          "2014-05-27T11:00:00",
          "2014-06-03T01:38:00",
          "2014-06-05T03:00:00",
          "2014-06-05T13:06:00",
          "2014-06-07T23:00:00",
          "2014-06-10T21:50:00",
          "2014-06-11T09:30:00",
          "2014-06-11T16:00:00",
          "2014-06-12T09:10:00",
          "2014-06-15T00:00:00",
          "2014-06-18T09:52:00",
          "2014-06-18T17:00:00",
          "2014-06-19T08:47:00",
          "2014-06-24T14:54:00",
          "2014-06-30T17:55:00",
          "2014-06-30T20:00:00",
          "2014-06-30T23:20:00",
          "2015-01-07T17:00:00",
          "2015-01-22T04:24:00",
          "2015-01-26T14:39:00",
          "2015-01-27T10:30:00",
          "2015-02-01T11:24:00",
          "2015-02-02T09:40:00",
          "2015-02-04T11:55:00",
          "2015-02-05T08:15:00",
          "2015-02-05T11:20:00",
          "2015-02-09T11:30:00",
          "2015-02-16T21:41:00",
          "2015-02-17T06:20:00",
          "2015-02-19T14:30:00",
          "2015-02-21T08:34:00",
          "2015-02-26T03:30:00",
          "2015-03-04T09:05:00",
          "2015-03-09T23:50:00",
          "2015-03-15T15:30:00",
          "2015-03-16T07:31:00",
          "2015-03-19T18:30:00",
          "2015-03-22T16:25:00",
          "2015-03-26T15:21:00",
          "2015-03-29T04:26:00",
          "2015-04-01T18:25:00",
          "2015-04-02T07:04:00",
          "2015-04-03T02:00:00",
          "2015-04-06T08:12:00",
          "2015-04-07T12:30:00",
          "2015-04-07T15:34:00",
          "2015-04-17T21:30:00",
          "2015-04-18T21:00:00",
          "2015-04-24T19:10:00",
          "2015-05-02T22:51:00",
          "2015-05-04T15:25:00",
          "2015-05-11T08:32:00",
          "2015-05-12T00:40:00",
          "2015-05-18T15:28:00",
          "2015-05-25T18:00:00",
          "2015-05-25T20:30:00",
          "2015-05-25T22:45:00",
          "2015-06-01T00:27:00",
          "2015-06-01T19:19:00",
          "2015-06-02T18:58:00",
          "2015-06-03T15:00:00",
          "2015-06-07T13:52:00",
          "2015-06-07T13:54:00",
          "2015-06-20T13:52:00",
          "2015-06-23T17:06:00",
          "2015-06-23T17:30:00",
          "2015-06-23T18:00:00",
          "2015-06-23T18:18:00",
          "2015-06-27T17:00:00",
          "2015-06-29T19:21:00",
          "2015-06-30T10:50:00",
          "2015-06-30T14:00:00",
          "2015-07-03T08:30:00",
          "2015-07-03T17:17:00",
          "2015-07-13T19:40:00",
          "2015-07-14T15:29:00",
          "2015-07-14T20:00:00",
          "2015-07-15T02:00:00",
          "2015-07-16T16:45:00",
          "2015-07-18T02:00:00",
          "2015-07-18T18:26:00",
          "2015-07-18T19:59:00",
          "2015-07-21T12:47:00",
          "2015-07-27T03:52:00",
          "2015-07-29T16:45:00",
          "2015-07-30T09:50:00",
          "2015-08-02T17:45:00",
          "2015-08-03T00:30:00",
          "2015-08-03T01:00:00",
          "2015-08-11T19:30:00",
          "2015-08-13T15:15:00",
          "2015-08-29T11:00:00",
          "2015-08-29T13:00:00",
          "2015-09-03T02:33:00",
          "2015-09-13T17:56:00",
          "2015-09-20T13:12:00",
          "2015-09-29T15:40:00",
          "2015-10-13T06:30:00",
          "2015-10-13T10:25:00",
          "2015-10-13T16:32:00",
          "2015-10-16T12:25:00",
          "2015-10-18T07:00:00",
          "2015-10-28T13:38:00",
          "2015-10-30T15:00:00",
          "2015-10-31T00:45:00",
          "2015-11-01T11:53:00",
          "2015-11-02T17:37:00",
          "2015-11-10T12:00:00",
          "2015-11-13T11:30:00",
          "2015-11-21T20:30:00",
          "2015-11-28T06:00:00",
          "2015-12-02T13:03:00",
          "2015-12-05T21:00:00",
          "2015-12-08T14:00:00",
          "2015-12-09T04:00:00",
          "2015-12-10T03:53:00",
          "2015-12-10T06:01:00",
          "2015-12-10T17:55:00",
          "2015-12-10T21:25:00",
          "2015-12-24T03:00:00",
          "2015-12-27T23:38:00",
          "2015-12-29T08:30:00",
          "2015-12-31T17:00:00",
          "2016-01-04T05:15:00",
          "2016-01-11T20:16:00",
          "2016-01-14T08:27:00",
          "2016-01-17T12:00:00",
          "2016-01-23T07:49:00",
          "2016-02-07T13:21:00",
          "2016-02-13T12:44:00",
          "2016-02-19T22:00:00",
          "2016-02-21T15:54:00",
          "2016-02-24T09:10:00",
          "2016-02-26T16:35:00",
          "2016-03-03T11:00:00",
          "2016-03-08T00:00:00",
          "2016-03-10T04:00:00",
          "2016-03-23T05:00:00",
          "2016-03-27T12:00:00",
          "2016-03-30T21:12:00",
          "2016-04-01T16:37:00",
          "2016-04-02T11:08:00",
          "2016-04-12T11:30:00",
          "2016-04-14T16:49:00",
          "2016-04-15T10:00:00",
          "2016-04-18T05:05:00",
          "2016-04-27T05:50:00",
          "2016-04-27T18:00:00",
          "2016-05-07T07:49:00",
          "2016-05-10T20:45:00",
          "2016-05-14T21:25:00",
          "2016-05-19T21:36:00",
          "2016-05-20T00:00:00",
          "2016-05-26T21:29:00",
          "2016-05-31T07:30:00",
          "2016-06-07T12:00:00",
          "2016-06-14T07:59:00",
          "2016-06-17T04:30:00",
          "2016-07-02T04:00:00",
          "2016-07-05T02:45:00",
          "2016-07-07T05:53:00",
          "2016-07-08T19:00:00",
          "2016-07-08T20:50:00",
          "2016-07-09T17:45:00",
          "2016-07-13T13:00:00",
          "2016-07-14T14:44:00",
          "2016-07-19T15:45:00",
          "2016-07-21T06:18:00",
          "2016-07-23T15:15:00"
         ],
         "xaxis": "x",
         "y": [
          -1.6,
          -1.6,
          -1.1,
          -1.1,
          -0.7,
          -0.7,
          -0.7,
          -0.7,
          -0.7,
          -0.5,
          -0.5,
          -0.5,
          -0.8,
          -0.7,
          -0.7,
          -0.4,
          -0.4,
          -0.4,
          -0.4,
          -0.4,
          -0.2,
          -0.2,
          -0.2,
          -0.1,
          -0.1,
          -0.1,
          -0.1,
          -0.2,
          -0.2,
          0,
          0.1,
          0.8,
          0.8,
          1.2,
          1.2,
          1.1,
          1.1,
          1.1,
          1.1,
          1.1,
          1.1,
          0.9,
          0.7,
          0,
          0,
          0,
          0,
          -0.2,
          -0.2,
          -0.1,
          0.1,
          0.1,
          0.1,
          0.1,
          0.1,
          0.1,
          0.1,
          0.1,
          0.1,
          0.1,
          0.1,
          0.2,
          0.2,
          0.2,
          0.2,
          0.2,
          0.2,
          0.2,
          0.2,
          0.2,
          0.2,
          0.3,
          0.3,
          0.3,
          0.3,
          0.3,
          0.3,
          0.3,
          0.3,
          0.3,
          0.3,
          0.3,
          0.3,
          0.3,
          0.3,
          0.3,
          0.3,
          0.3,
          0.3,
          0.3,
          0.3,
          0.3,
          0.3,
          0.3,
          0.3,
          0.2,
          0.2,
          0.2,
          0.1,
          0.1,
          0.1,
          0.2,
          0.2,
          0.2,
          0.2,
          0.2,
          0.2,
          0.20000000000000004,
          0.3,
          0.3,
          0.3,
          0.3,
          0.3,
          0.3,
          0.5,
          0.5,
          0.5,
          0.5,
          0.5,
          0.5,
          0.5,
          0.6,
          0.6,
          0.6,
          0.6,
          0.6,
          0.6,
          0.6,
          0.6,
          0.6,
          0.7,
          0.7,
          0.7,
          0.7,
          0.7,
          0.7,
          0.7,
          0.7,
          0.7,
          0.7,
          0.7,
          0.7,
          0.7,
          0.7,
          0.7,
          0.7,
          0.6,
          0.6,
          0.7,
          0.7,
          0.7,
          0.7,
          0.7,
          0.7,
          0.7,
          0.7,
          0.5,
          0.5,
          0.5,
          0.5,
          0.3,
          0.3,
          0.2,
          0.2,
          0.2,
          0.2,
          0.2,
          0.2,
          0,
          0,
          0,
          0,
          0,
          0,
          0,
          -0.1,
          -0.1,
          -0.1,
          -0.1,
          -0.1,
          -0.1,
          -0.1,
          -0.1,
          -0.1,
          0,
          0,
          0,
          0,
          0,
          0,
          0,
          0,
          0,
          0,
          0,
          -0.2,
          -0.2,
          -0.2,
          -0.5,
          -0.5,
          -0.5,
          -0.5,
          -0.7,
          -0.7,
          -0.7,
          -0.7,
          -0.6,
          -0.6,
          -0.6,
          -0.6,
          -0.6,
          -0.6,
          -0.6,
          -0.6,
          -0.6,
          -0.6,
          -0.4,
          -0.2,
          -0.2,
          -0.2,
          -0.2,
          -0.2,
          -0.2,
          -0.2,
          0,
          0,
          0,
          0,
          0,
          0,
          0.1,
          0.1,
          0.1,
          0.1,
          0.1,
          0.1,
          0.1,
          0.1,
          0.1,
          0.1,
          0.1,
          0.3,
          0.3,
          0.5,
          0.5,
          0.5,
          0.7,
          0.7,
          0.7,
          0.7,
          0.7,
          0.7,
          0.7,
          0.9,
          0.9,
          0.9,
          0.9,
          0.9,
          0.9,
          0.9,
          0.9,
          0.9,
          0.9,
          0.9,
          0.9,
          0.9,
          0.9,
          0.9,
          0.7,
          0.7,
          0.4,
          0.4,
          0.4,
          0.4,
          0.1,
          -0.1,
          -0.1,
          -0.1,
          -0.1,
          -0.1,
          -0.1,
          -0.2,
          -0.2,
          -0.2,
          -0.2,
          -0.2,
          -0.2,
          -0.3,
          -0.3,
          -0.3,
          -0.4,
          -0.4,
          -0.4,
          -0.4,
          -0.4,
          -0.4,
          -0.4,
          -0.6,
          -0.6,
          -0.6,
          -0.6,
          -0.6,
          -0.6,
          -0.6,
          -0.6,
          -0.9,
          -0.9,
          -0.9,
          -0.9,
          -0.9,
          -0.9,
          -1.1,
          -1.1,
          -1.1,
          -1.1,
          -1.1,
          -1.3,
          -1.3,
          -1.3,
          -1.3,
          -1.3,
          -1.4,
          -1.4,
          -1.4,
          -1.4,
          -1.4,
          -1.4,
          -1.3,
          -1.3,
          -1.3,
          -1.3,
          -1.3,
          -1.3,
          -1.3,
          -1.3,
          -1.3,
          -1.3,
          -1.3,
          -1.3,
          -1.3,
          -1.1,
          -0.9,
          -0.7,
          -0.7,
          -0.7,
          -0.7,
          -0.7,
          -0.7,
          -0.7,
          -0.7,
          -0.5,
          -0.5,
          -0.5,
          -0.5,
          -0.5,
          -0.5,
          -0.5,
          -0.5,
          -0.5,
          -0.5,
          -0.5,
          -0.5,
          -0.5,
          -0.5,
          -0.5,
          -0.5,
          -0.5,
          -0.5,
          -0.5,
          -0.5,
          -0.5,
          -0.4,
          -0.4,
          -0.4,
          -0.4,
          -0.4,
          -0.4,
          -0.4,
          -0.4,
          -0.4,
          -0.4,
          -0.3,
          -0.3,
          -0.3,
          -0.3,
          -0.3,
          -0.3,
          -0.3,
          -0.3,
          -0.3,
          -0.3,
          -0.3,
          -0.3,
          -0.3,
          -0.3,
          -0.3,
          -0.3,
          -0.3,
          -0.3,
          -0.3,
          -0.3,
          -0.3,
          -0.3,
          -0.4,
          -0.4,
          -0.6,
          -0.6,
          -0.6,
          -0.7,
          -0.7,
          -0.7,
          -0.7,
          -0.7,
          -0.7,
          -0.7,
          -0.7,
          -0.7,
          -0.7,
          -0.7,
          -0.7,
          -0.7,
          -0.7,
          -0.7,
          -0.7,
          -0.7,
          -0.7,
          -0.7,
          -0.7,
          -0.7,
          -0.7,
          -0.7,
          -0.7,
          -0.7,
          -0.7,
          -0.7,
          -0.7,
          -0.7,
          -0.6,
          -0.6,
          -0.6,
          -0.6,
          -0.6,
          -0.6,
          -0.4,
          -0.4,
          -0.4,
          -0.4,
          -0.4,
          -0.1,
          -0.1,
          -0.1,
          -0.1,
          -0.1,
          -0.1,
          0.2,
          0.2,
          0.2,
          0.4,
          0.4,
          0.4,
          0.4,
          0.4,
          0.4,
          0.4,
          0.4,
          0.4,
          0.4,
          0.4,
          0.4,
          0.5,
          0.5,
          0.5,
          0.5,
          0.5,
          0.5,
          0.5,
          0.5,
          0.5,
          0.5,
          0.5,
          0.5,
          0.5,
          0.5,
          0.5,
          0.5,
          0.5,
          0.5,
          0.5,
          0.9,
          0.9,
          0.9,
          0.9,
          0.9,
          1.1,
          1.3,
          1.3,
          1.3,
          1.3,
          1.3,
          1.3,
          1.3,
          1.3,
          1.3,
          1.3,
          1.3,
          1.3,
          1.3,
          1.2,
          1.2,
          1.2,
          1.2,
          1.2,
          1.2,
          1.2,
          1.2,
          1.2,
          0.9,
          0.9,
          0.9,
          0.9,
          0.9,
          0.9,
          0.5,
          0.5,
          0.5,
          0,
          -0.4,
          -0.4,
          -0.4,
          -0.4,
          -0.4,
          -0.4,
          -0.4,
          -0.4,
          -0.4000000000000001,
          -0.4,
          -0.4,
          -0.4,
          -0.4,
          -0.4,
          -0.4,
          -0.4,
          -0.4,
          -0.4,
          -0.4,
          -0.4,
          -0.4,
          -0.9,
          -0.9,
          -0.9,
          -0.9,
          -0.9,
          -0.9,
          -0.9,
          -0.9,
          -0.9,
          -0.9,
          -0.9,
          -0.9,
          -1.2,
          -1.2,
          -1.2,
          -1.2,
          -1.2,
          -1.2,
          -1.2,
          -1.2,
          -1.2,
          -1.2,
          -1.4,
          -1.4,
          -1.4,
          -1.4,
          -1.4,
          -1.4,
          -1.4,
          -1.4,
          -1.5,
          -1.5,
          -1.5,
          -1.5,
          -1.5,
          -1.5,
          -1.5,
          -1.5,
          -1.4,
          -1.4,
          -1.4,
          -1.4,
          -1.4,
          -1.4,
          -1.4,
          -1.4,
          -1.4,
          -1.4,
          -1.4,
          -1.4,
          -1.4,
          -1.3,
          -1.3,
          -1.3,
          -1.3,
          -1.3,
          -1.3,
          -1.3,
          -1.3,
          -1.3,
          -1.3,
          -1.3,
          -1.3,
          -1.3,
          -1.3,
          -1,
          -1,
          -1,
          -1,
          -1,
          -1,
          -1,
          -1,
          -1,
          -1,
          -1,
          -1,
          -1,
          -1,
          -1,
          -1,
          -1,
          -1,
          -1,
          -1,
          -1,
          -0.7,
          -0.7,
          -0.7,
          -0.7,
          -0.7,
          -0.7,
          -0.7,
          -0.7,
          -0.7,
          -0.7,
          -0.7,
          -0.7,
          -0.7,
          -0.7,
          -0.7,
          -0.7,
          -0.7,
          -0.5,
          -0.5,
          -0.5,
          -0.5,
          -0.5,
          -0.5,
          -0.5,
          -0.5,
          -0.5,
          -0.5,
          -0.5,
          -0.5,
          -0.5,
          -0.5,
          -0.5,
          -0.5,
          -0.5,
          -0.5,
          -0.5,
          -0.5,
          -0.5,
          -0.4,
          -0.4,
          -0.4,
          -0.4,
          -0.4,
          -0.4,
          -0.4,
          -0.4,
          -0.4,
          -0.4,
          -0.4,
          -0.4,
          -0.4,
          -0.4,
          -0.4,
          -0.4,
          -0.4,
          -0.4,
          -0.4,
          -0.4,
          -0.4,
          -0.4,
          -0.4,
          -0.4,
          -0.4,
          -0.4,
          -0.4,
          -0.4,
          -0.4,
          -0.4,
          -0.3,
          -0.3,
          -0.3,
          -0.3,
          -0.3,
          -0.3,
          -0.3,
          -0.3,
          -0.3,
          -0.3,
          -0.3,
          -0.3,
          -0.3,
          -0.3,
          -0.3,
          -0.3,
          -0.3,
          -0.3,
          -0.3,
          -0.3,
          -0.3,
          -0.3,
          -0.3,
          -0.3,
          -0.3,
          -0.3,
          -0.3,
          -0.3,
          -0.3,
          -0.3,
          -0.3,
          -0.3,
          -0.3,
          -0.3,
          -0.3,
          -0.3,
          -0.3,
          -0.3,
          -0.3,
          -0.3,
          -0.3,
          -0.3,
          -0.3,
          -0.3,
          -0.3,
          -0.3,
          -0.3,
          -0.3,
          -0.3,
          -0.3,
          -0.3,
          -0.3,
          -0.3,
          -0.3,
          -0.3,
          -0.3,
          -0.3,
          -0.3,
          -0.3,
          -0.3,
          -0.6,
          -0.6,
          -0.6,
          -0.6,
          -0.6,
          -0.6,
          -0.6,
          -0.6,
          -0.6,
          -0.6,
          -0.6,
          -0.6,
          -0.6,
          -0.6,
          -0.6,
          -0.6,
          -0.6,
          -0.6,
          -0.6,
          -0.6,
          -0.6,
          -0.6,
          -0.6,
          -0.6,
          -0.6,
          -0.6,
          -0.6,
          -0.6,
          -0.6,
          -0.6,
          -0.6,
          -0.6,
          -0.6,
          -0.6,
          -0.6,
          -0.6,
          -0.6,
          -0.6,
          -0.6,
          -0.6,
          -0.6,
          -0.6,
          -0.6,
          -0.6,
          -0.8,
          -0.8,
          -0.8,
          -0.8,
          -0.8,
          -0.8,
          -0.8,
          -0.8,
          -0.8,
          -0.8,
          -0.8,
          -0.8,
          -0.8,
          -0.8,
          -0.8,
          -0.8,
          -0.8,
          -0.8,
          -0.8,
          -0.9,
          -0.9,
          -0.9,
          -0.9,
          -0.9,
          -0.9,
          -0.9,
          -0.9,
          -0.9,
          -0.9,
          -0.9,
          -0.9,
          -0.9,
          -0.9,
          -0.9,
          -0.9,
          -0.9,
          -0.9,
          -1,
          -1,
          -1,
          -1,
          -1,
          -1,
          -0.9,
          -0.9,
          -0.9,
          -0.9,
          -0.9,
          -0.9,
          -0.9,
          -0.9,
          -0.9,
          -0.9,
          -0.9,
          -0.9,
          -0.9,
          -0.9,
          -0.9,
          -0.7,
          -0.7,
          -0.7,
          -0.7,
          -0.7,
          -0.7,
          -0.7,
          -0.7,
          -0.7,
          -0.7,
          -0.7,
          -0.7,
          -0.7,
          -0.7,
          -0.7,
          -0.5,
          -0.5,
          -0.5,
          -0.5,
          -0.5,
          -0.5,
          -0.5,
          -0.5,
          -0.5,
          -0.5,
          -0.5,
          -0.4,
          -0.4,
          -0.4,
          -0.4,
          -0.4,
          -0.4,
          -0.4,
          -0.4,
          -0.4,
          -0.4,
          -0.4,
          -0.4,
          -0.4,
          -0.4,
          -0.4,
          -0.4,
          -0.4,
          -0.4,
          -0.4,
          -0.4,
          -0.4,
          -0.4,
          -0.4,
          -0.4,
          -0.4,
          -0.4,
          -0.4,
          -0.4,
          -0.4,
          -0.3,
          -0.3,
          -0.3,
          -0.3,
          -0.3,
          -0.3,
          -0.3,
          -0.1,
          -0.1,
          -0.1,
          -0.1,
          -0.1,
          -0.1,
          -0.1,
          -0.1,
          -0.1,
          -0.1,
          -0.1,
          -0.1,
          -0.1,
          -0.1,
          -0.1,
          -0.1,
          -0.1,
          -0.1,
          -0.1,
          -0.1,
          -0.1,
          -0.1,
          0.1,
          0.1,
          0.1,
          0.1,
          0.1,
          0.1,
          0.1,
          0.1,
          0.1,
          0.1,
          0.1,
          0.1,
          0.1,
          0.1,
          0.1,
          0.1,
          0.1,
          0.1,
          0.1,
          0.1,
          0.1,
          0.3,
          0.3,
          0.3,
          0.3,
          0.3,
          0.3,
          0.3,
          0.3,
          0.3,
          0.3,
          0.3,
          0.3,
          0.3,
          0.3,
          0.3,
          0.3,
          0.3,
          0.3,
          0.3,
          0.3,
          0.3,
          0.3,
          0.3,
          0.3,
          0.3,
          0.3,
          0.3,
          0.3,
          0.3,
          0.3,
          0.3,
          0.3,
          0.3,
          0.3,
          0.3,
          0.3,
          0.3,
          0.3,
          0.3,
          0.3,
          0.3,
          0.3,
          0.3,
          0.3,
          0.3,
          0.3,
          0.3,
          0.3,
          0.3,
          0.1,
          0.1,
          0.1,
          0.1,
          0.1,
          0.1,
          0.1,
          0.1,
          0.1,
          -0.2,
          -0.2,
          -0.2,
          -0.2,
          -0.2,
          -0.2,
          -0.2,
          -0.4,
          -0.4,
          -0.4,
          -0.4,
          -0.4,
          -0.4,
          -0.4,
          -0.4,
          -0.4,
          -0.4,
          -0.4,
          -0.4,
          -0.4,
          -0.4,
          -0.4,
          -0.4,
          -0.4,
          -0.4,
          -0.4,
          -0.4,
          -0.4,
          -0.4,
          -0.3,
          -0.3,
          -0.3,
          -0.3,
          -0.3,
          -0.3,
          -0.3,
          -0.3,
          -0.2,
          -0.2,
          -0.2,
          -0.2,
          -0.2,
          -0.2,
          -0.2,
          -0.2,
          -0.2,
          -0.2,
          -0.2,
          -0.2,
          -0.2,
          -0.2,
          -0.2,
          -0.2,
          -0.2,
          -0.2,
          -0.2,
          -0.2,
          -0.2,
          -0.2,
          -0.2,
          -0.2,
          -0.2,
          -0.2,
          -0.2,
          -0.2,
          -0.2,
          -0.2,
          -0.2,
          -0.2,
          -0.2,
          -0.2,
          -0.2,
          -0.2,
          -0.2,
          -0.2,
          -0.2,
          -0.2,
          -0.2,
          -0.2,
          -0.2,
          -0.2,
          -0.2,
          -0.2,
          -0.3,
          -0.3,
          -0.3,
          -0.3,
          -0.3,
          -0.3,
          -0.3,
          -0.3,
          -0.3,
          -0.3,
          -0.3,
          -0.3,
          -0.3,
          -0.3,
          -0.3,
          -0.3,
          -0.3,
          -0.3,
          -0.3,
          -0.3,
          -0.3,
          -0.3,
          -0.3,
          -0.3,
          -0.3,
          -0.3,
          -0.3,
          -0.3,
          -0.3,
          -0.3,
          -0.3,
          -0.3,
          -0.3,
          -0.3,
          -0.2,
          -0.2,
          -0.2,
          -0.3,
          -0.3,
          -0.3,
          -0.3,
          -0.3,
          -0.3,
          -0.3,
          -0.3,
          -0.3,
          -0.3,
          -0.3,
          -0.3,
          -0.3,
          -0.3,
          -0.3,
          -0.3,
          -0.3,
          -0.3,
          -0.3,
          -0.3,
          -0.3,
          -0.3,
          -0.3,
          -0.3,
          -0.3,
          -0.3,
          -0.3,
          -0.3,
          -0.3,
          -0.3,
          -0.3,
          -0.3,
          -0.3,
          -0.3,
          -0.3,
          -0.5,
          -0.5,
          -0.5,
          -0.5,
          -0.5,
          -0.5,
          -0.5,
          -0.5,
          -0.5,
          -0.5,
          -0.5,
          -0.5,
          -0.5,
          -0.5,
          -0.5,
          -0.5,
          -0.5,
          -0.5,
          -0.5,
          -0.5,
          -0.5,
          -0.5,
          -0.5,
          -0.5,
          -0.5,
          -0.5,
          -0.5,
          -0.5,
          -0.5,
          -0.5,
          -0.5,
          -0.5,
          -0.5,
          -0.5,
          -0.5,
          -0.5,
          -0.5,
          -0.5,
          -0.5,
          -0.5,
          -0.5,
          -0.5,
          -0.5,
          -0.5,
          -0.5,
          -0.5,
          -0.5,
          -0.5,
          -0.5,
          -0.5,
          -0.5,
          -0.5,
          -0.4,
          -0.4,
          -0.4,
          -0.4,
          -0.4,
          -0.4,
          -0.4,
          -0.4,
          -0.4,
          -0.4,
          -0.4,
          -0.4,
          -0.4,
          -0.4,
          -0.4,
          -0.2,
          -0.2,
          -0.2,
          -0.2,
          -0.2,
          -0.2,
          -0.2,
          -0.2,
          -0.1,
          -0.1,
          -0.1,
          -0.1,
          -0.1,
          -0.1,
          -0.1,
          -0.1,
          -0.1,
          -0.1,
          0,
          0,
          0,
          0,
          0,
          0,
          0,
          0,
          0,
          0,
          0,
          0,
          0,
          0,
          0,
          0,
          0.6,
          0.6,
          0.6,
          0.6,
          0.5,
          0.5,
          0.5,
          0.5,
          0.5,
          0.5,
          0.5,
          0.5,
          0.5,
          0.5,
          0.5,
          0.6,
          0.6,
          0.6,
          0.6,
          0.6,
          0.6,
          0.6,
          0.6,
          0.7,
          0.7,
          0.7,
          0.7,
          0.7,
          0.7,
          0.7,
          0.7,
          0.7,
          0.8,
          0.8,
          0.8,
          0.8,
          0.8,
          0.8,
          0.8,
          0.8,
          1,
          1,
          1,
          1,
          1,
          1,
          1,
          1,
          1,
          1,
          1,
          1,
          1,
          1,
          1,
          1.2,
          1.2,
          1.2,
          1.2,
          1.2,
          1.2,
          1.2,
          1.2,
          1.2,
          1.2,
          1.2,
          1.2,
          1.2,
          1.2,
          1.4,
          1.4,
          1.4,
          1.4,
          1.4,
          1.4,
          1.4,
          1.7,
          1.7,
          1.7,
          1.7,
          2,
          2,
          2,
          2,
          2,
          2,
          2,
          2,
          2.2,
          2.2,
          2.2,
          2.2,
          2.2,
          2.2,
          2.3,
          2.3,
          2.3,
          2.3,
          2.3,
          2.3,
          2.3,
          2.3,
          2.3,
          2.3,
          2.3,
          2.3,
          2.2,
          2.2,
          2.2,
          2.2,
          2.2,
          2,
          2,
          2,
          2,
          2,
          2,
          1.6,
          1.6,
          1.6,
          1.6,
          1.6,
          1.6,
          1.1,
          1.1,
          1.1,
          1.1,
          1.1,
          1.1,
          1.1,
          1.1,
          0.6,
          0.6,
          0.6,
          0.6,
          0.6,
          0.6,
          0.6,
          0.1,
          0.1,
          0.1,
          -0.3,
          -0.3,
          -0.3,
          -0.3,
          -0.3,
          -0.3,
          -0.3,
          -0.3,
          -0.3,
          -0.3,
          -0.3
         ],
         "yaxis": "y"
        }
       ],
       "layout": {
        "legend": {
         "title": {
          "text": "variable"
         },
         "tracegroupgap": 0
        },
        "margin": {
         "t": 60
        },
        "template": {
         "data": {
          "bar": [
           {
            "error_x": {
             "color": "#2a3f5f"
            },
            "error_y": {
             "color": "#2a3f5f"
            },
            "marker": {
             "line": {
              "color": "#E5ECF6",
              "width": 0.5
             },
             "pattern": {
              "fillmode": "overlay",
              "size": 10,
              "solidity": 0.2
             }
            },
            "type": "bar"
           }
          ],
          "barpolar": [
           {
            "marker": {
             "line": {
              "color": "#E5ECF6",
              "width": 0.5
             },
             "pattern": {
              "fillmode": "overlay",
              "size": 10,
              "solidity": 0.2
             }
            },
            "type": "barpolar"
           }
          ],
          "carpet": [
           {
            "aaxis": {
             "endlinecolor": "#2a3f5f",
             "gridcolor": "white",
             "linecolor": "white",
             "minorgridcolor": "white",
             "startlinecolor": "#2a3f5f"
            },
            "baxis": {
             "endlinecolor": "#2a3f5f",
             "gridcolor": "white",
             "linecolor": "white",
             "minorgridcolor": "white",
             "startlinecolor": "#2a3f5f"
            },
            "type": "carpet"
           }
          ],
          "choropleth": [
           {
            "colorbar": {
             "outlinewidth": 0,
             "ticks": ""
            },
            "type": "choropleth"
           }
          ],
          "contour": [
           {
            "colorbar": {
             "outlinewidth": 0,
             "ticks": ""
            },
            "colorscale": [
             [
              0,
              "#0d0887"
             ],
             [
              0.1111111111111111,
              "#46039f"
             ],
             [
              0.2222222222222222,
              "#7201a8"
             ],
             [
              0.3333333333333333,
              "#9c179e"
             ],
             [
              0.4444444444444444,
              "#bd3786"
             ],
             [
              0.5555555555555556,
              "#d8576b"
             ],
             [
              0.6666666666666666,
              "#ed7953"
             ],
             [
              0.7777777777777778,
              "#fb9f3a"
             ],
             [
              0.8888888888888888,
              "#fdca26"
             ],
             [
              1,
              "#f0f921"
             ]
            ],
            "type": "contour"
           }
          ],
          "contourcarpet": [
           {
            "colorbar": {
             "outlinewidth": 0,
             "ticks": ""
            },
            "type": "contourcarpet"
           }
          ],
          "heatmap": [
           {
            "colorbar": {
             "outlinewidth": 0,
             "ticks": ""
            },
            "colorscale": [
             [
              0,
              "#0d0887"
             ],
             [
              0.1111111111111111,
              "#46039f"
             ],
             [
              0.2222222222222222,
              "#7201a8"
             ],
             [
              0.3333333333333333,
              "#9c179e"
             ],
             [
              0.4444444444444444,
              "#bd3786"
             ],
             [
              0.5555555555555556,
              "#d8576b"
             ],
             [
              0.6666666666666666,
              "#ed7953"
             ],
             [
              0.7777777777777778,
              "#fb9f3a"
             ],
             [
              0.8888888888888888,
              "#fdca26"
             ],
             [
              1,
              "#f0f921"
             ]
            ],
            "type": "heatmap"
           }
          ],
          "heatmapgl": [
           {
            "colorbar": {
             "outlinewidth": 0,
             "ticks": ""
            },
            "colorscale": [
             [
              0,
              "#0d0887"
             ],
             [
              0.1111111111111111,
              "#46039f"
             ],
             [
              0.2222222222222222,
              "#7201a8"
             ],
             [
              0.3333333333333333,
              "#9c179e"
             ],
             [
              0.4444444444444444,
              "#bd3786"
             ],
             [
              0.5555555555555556,
              "#d8576b"
             ],
             [
              0.6666666666666666,
              "#ed7953"
             ],
             [
              0.7777777777777778,
              "#fb9f3a"
             ],
             [
              0.8888888888888888,
              "#fdca26"
             ],
             [
              1,
              "#f0f921"
             ]
            ],
            "type": "heatmapgl"
           }
          ],
          "histogram": [
           {
            "marker": {
             "pattern": {
              "fillmode": "overlay",
              "size": 10,
              "solidity": 0.2
             }
            },
            "type": "histogram"
           }
          ],
          "histogram2d": [
           {
            "colorbar": {
             "outlinewidth": 0,
             "ticks": ""
            },
            "colorscale": [
             [
              0,
              "#0d0887"
             ],
             [
              0.1111111111111111,
              "#46039f"
             ],
             [
              0.2222222222222222,
              "#7201a8"
             ],
             [
              0.3333333333333333,
              "#9c179e"
             ],
             [
              0.4444444444444444,
              "#bd3786"
             ],
             [
              0.5555555555555556,
              "#d8576b"
             ],
             [
              0.6666666666666666,
              "#ed7953"
             ],
             [
              0.7777777777777778,
              "#fb9f3a"
             ],
             [
              0.8888888888888888,
              "#fdca26"
             ],
             [
              1,
              "#f0f921"
             ]
            ],
            "type": "histogram2d"
           }
          ],
          "histogram2dcontour": [
           {
            "colorbar": {
             "outlinewidth": 0,
             "ticks": ""
            },
            "colorscale": [
             [
              0,
              "#0d0887"
             ],
             [
              0.1111111111111111,
              "#46039f"
             ],
             [
              0.2222222222222222,
              "#7201a8"
             ],
             [
              0.3333333333333333,
              "#9c179e"
             ],
             [
              0.4444444444444444,
              "#bd3786"
             ],
             [
              0.5555555555555556,
              "#d8576b"
             ],
             [
              0.6666666666666666,
              "#ed7953"
             ],
             [
              0.7777777777777778,
              "#fb9f3a"
             ],
             [
              0.8888888888888888,
              "#fdca26"
             ],
             [
              1,
              "#f0f921"
             ]
            ],
            "type": "histogram2dcontour"
           }
          ],
          "mesh3d": [
           {
            "colorbar": {
             "outlinewidth": 0,
             "ticks": ""
            },
            "type": "mesh3d"
           }
          ],
          "parcoords": [
           {
            "line": {
             "colorbar": {
              "outlinewidth": 0,
              "ticks": ""
             }
            },
            "type": "parcoords"
           }
          ],
          "pie": [
           {
            "automargin": true,
            "type": "pie"
           }
          ],
          "scatter": [
           {
            "fillpattern": {
             "fillmode": "overlay",
             "size": 10,
             "solidity": 0.2
            },
            "type": "scatter"
           }
          ],
          "scatter3d": [
           {
            "line": {
             "colorbar": {
              "outlinewidth": 0,
              "ticks": ""
             }
            },
            "marker": {
             "colorbar": {
              "outlinewidth": 0,
              "ticks": ""
             }
            },
            "type": "scatter3d"
           }
          ],
          "scattercarpet": [
           {
            "marker": {
             "colorbar": {
              "outlinewidth": 0,
              "ticks": ""
             }
            },
            "type": "scattercarpet"
           }
          ],
          "scattergeo": [
           {
            "marker": {
             "colorbar": {
              "outlinewidth": 0,
              "ticks": ""
             }
            },
            "type": "scattergeo"
           }
          ],
          "scattergl": [
           {
            "marker": {
             "colorbar": {
              "outlinewidth": 0,
              "ticks": ""
             }
            },
            "type": "scattergl"
           }
          ],
          "scattermapbox": [
           {
            "marker": {
             "colorbar": {
              "outlinewidth": 0,
              "ticks": ""
             }
            },
            "type": "scattermapbox"
           }
          ],
          "scatterpolar": [
           {
            "marker": {
             "colorbar": {
              "outlinewidth": 0,
              "ticks": ""
             }
            },
            "type": "scatterpolar"
           }
          ],
          "scatterpolargl": [
           {
            "marker": {
             "colorbar": {
              "outlinewidth": 0,
              "ticks": ""
             }
            },
            "type": "scatterpolargl"
           }
          ],
          "scatterternary": [
           {
            "marker": {
             "colorbar": {
              "outlinewidth": 0,
              "ticks": ""
             }
            },
            "type": "scatterternary"
           }
          ],
          "surface": [
           {
            "colorbar": {
             "outlinewidth": 0,
             "ticks": ""
            },
            "colorscale": [
             [
              0,
              "#0d0887"
             ],
             [
              0.1111111111111111,
              "#46039f"
             ],
             [
              0.2222222222222222,
              "#7201a8"
             ],
             [
              0.3333333333333333,
              "#9c179e"
             ],
             [
              0.4444444444444444,
              "#bd3786"
             ],
             [
              0.5555555555555556,
              "#d8576b"
             ],
             [
              0.6666666666666666,
              "#ed7953"
             ],
             [
              0.7777777777777778,
              "#fb9f3a"
             ],
             [
              0.8888888888888888,
              "#fdca26"
             ],
             [
              1,
              "#f0f921"
             ]
            ],
            "type": "surface"
           }
          ],
          "table": [
           {
            "cells": {
             "fill": {
              "color": "#EBF0F8"
             },
             "line": {
              "color": "white"
             }
            },
            "header": {
             "fill": {
              "color": "#C8D4E3"
             },
             "line": {
              "color": "white"
             }
            },
            "type": "table"
           }
          ]
         },
         "layout": {
          "annotationdefaults": {
           "arrowcolor": "#2a3f5f",
           "arrowhead": 0,
           "arrowwidth": 1
          },
          "autotypenumbers": "strict",
          "coloraxis": {
           "colorbar": {
            "outlinewidth": 0,
            "ticks": ""
           }
          },
          "colorscale": {
           "diverging": [
            [
             0,
             "#8e0152"
            ],
            [
             0.1,
             "#c51b7d"
            ],
            [
             0.2,
             "#de77ae"
            ],
            [
             0.3,
             "#f1b6da"
            ],
            [
             0.4,
             "#fde0ef"
            ],
            [
             0.5,
             "#f7f7f7"
            ],
            [
             0.6,
             "#e6f5d0"
            ],
            [
             0.7,
             "#b8e186"
            ],
            [
             0.8,
             "#7fbc41"
            ],
            [
             0.9,
             "#4d9221"
            ],
            [
             1,
             "#276419"
            ]
           ],
           "sequential": [
            [
             0,
             "#0d0887"
            ],
            [
             0.1111111111111111,
             "#46039f"
            ],
            [
             0.2222222222222222,
             "#7201a8"
            ],
            [
             0.3333333333333333,
             "#9c179e"
            ],
            [
             0.4444444444444444,
             "#bd3786"
            ],
            [
             0.5555555555555556,
             "#d8576b"
            ],
            [
             0.6666666666666666,
             "#ed7953"
            ],
            [
             0.7777777777777778,
             "#fb9f3a"
            ],
            [
             0.8888888888888888,
             "#fdca26"
            ],
            [
             1,
             "#f0f921"
            ]
           ],
           "sequentialminus": [
            [
             0,
             "#0d0887"
            ],
            [
             0.1111111111111111,
             "#46039f"
            ],
            [
             0.2222222222222222,
             "#7201a8"
            ],
            [
             0.3333333333333333,
             "#9c179e"
            ],
            [
             0.4444444444444444,
             "#bd3786"
            ],
            [
             0.5555555555555556,
             "#d8576b"
            ],
            [
             0.6666666666666666,
             "#ed7953"
            ],
            [
             0.7777777777777778,
             "#fb9f3a"
            ],
            [
             0.8888888888888888,
             "#fdca26"
            ],
            [
             1,
             "#f0f921"
            ]
           ]
          },
          "colorway": [
           "#636efa",
           "#EF553B",
           "#00cc96",
           "#ab63fa",
           "#FFA15A",
           "#19d3f3",
           "#FF6692",
           "#B6E880",
           "#FF97FF",
           "#FECB52"
          ],
          "font": {
           "color": "#2a3f5f"
          },
          "geo": {
           "bgcolor": "white",
           "lakecolor": "white",
           "landcolor": "#E5ECF6",
           "showlakes": true,
           "showland": true,
           "subunitcolor": "white"
          },
          "hoverlabel": {
           "align": "left"
          },
          "hovermode": "closest",
          "mapbox": {
           "style": "light"
          },
          "paper_bgcolor": "white",
          "plot_bgcolor": "#E5ECF6",
          "polar": {
           "angularaxis": {
            "gridcolor": "white",
            "linecolor": "white",
            "ticks": ""
           },
           "bgcolor": "#E5ECF6",
           "radialaxis": {
            "gridcolor": "white",
            "linecolor": "white",
            "ticks": ""
           }
          },
          "scene": {
           "xaxis": {
            "backgroundcolor": "#E5ECF6",
            "gridcolor": "white",
            "gridwidth": 2,
            "linecolor": "white",
            "showbackground": true,
            "ticks": "",
            "zerolinecolor": "white"
           },
           "yaxis": {
            "backgroundcolor": "#E5ECF6",
            "gridcolor": "white",
            "gridwidth": 2,
            "linecolor": "white",
            "showbackground": true,
            "ticks": "",
            "zerolinecolor": "white"
           },
           "zaxis": {
            "backgroundcolor": "#E5ECF6",
            "gridcolor": "white",
            "gridwidth": 2,
            "linecolor": "white",
            "showbackground": true,
            "ticks": "",
            "zerolinecolor": "white"
           }
          },
          "shapedefaults": {
           "line": {
            "color": "#2a3f5f"
           }
          },
          "ternary": {
           "aaxis": {
            "gridcolor": "white",
            "linecolor": "white",
            "ticks": ""
           },
           "baxis": {
            "gridcolor": "white",
            "linecolor": "white",
            "ticks": ""
           },
           "bgcolor": "#E5ECF6",
           "caxis": {
            "gridcolor": "white",
            "linecolor": "white",
            "ticks": ""
           }
          },
          "title": {
           "x": 0.05
          },
          "xaxis": {
           "automargin": true,
           "gridcolor": "white",
           "linecolor": "white",
           "ticks": "",
           "title": {
            "standoff": 15
           },
           "zerolinecolor": "white",
           "zerolinewidth": 2
          },
          "yaxis": {
           "automargin": true,
           "gridcolor": "white",
           "linecolor": "white",
           "ticks": "",
           "title": {
            "standoff": 15
           },
           "zerolinecolor": "white",
           "zerolinewidth": 2
          }
         }
        },
        "xaxis": {
         "anchor": "y",
         "domain": [
          0,
          1
         ],
         "title": {
          "text": "OUTAGE.START"
         }
        },
        "yaxis": {
         "anchor": "x",
         "domain": [
          0,
          1
         ],
         "title": {
          "text": "value"
         }
        }
       }
      }
     },
     "metadata": {},
     "output_type": "display_data"
    }
   ],
   "source": [
    "#df_dropped.groupby('MONTH', dropna=True).agg()\n",
    "df_dropped.groupby(['OUTAGE.START'])['ANOMALY.LEVEL'].mean().plot(kind='scatter')"
   ]
  },
  {
   "cell_type": "code",
   "execution_count": 18,
   "metadata": {},
   "outputs": [
    {
     "data": {
      "text/html": [
       "<div>\n",
       "<style scoped>\n",
       "    .dataframe tbody tr th:only-of-type {\n",
       "        vertical-align: middle;\n",
       "    }\n",
       "\n",
       "    .dataframe tbody tr th {\n",
       "        vertical-align: top;\n",
       "    }\n",
       "\n",
       "    .dataframe thead th {\n",
       "        text-align: right;\n",
       "    }\n",
       "</style>\n",
       "<table border=\"1\" class=\"dataframe\">\n",
       "  <thead>\n",
       "    <tr style=\"text-align: right;\">\n",
       "      <th></th>\n",
       "      <th>YEAR</th>\n",
       "      <th>MONTH</th>\n",
       "      <th>U.S._STATE</th>\n",
       "      <th>POSTAL.CODE</th>\n",
       "      <th>NERC.REGION</th>\n",
       "      <th>CLIMATE.REGION</th>\n",
       "      <th>CLIMATE.CATEGORY</th>\n",
       "      <th>OUTAGE.START.DATE</th>\n",
       "      <th>OUTAGE.START.TIME</th>\n",
       "      <th>OUTAGE.RESTORATION.DATE</th>\n",
       "      <th>...</th>\n",
       "      <th>POPDEN_URBAN</th>\n",
       "      <th>POPDEN_UC</th>\n",
       "      <th>POPDEN_RURAL</th>\n",
       "      <th>AREAPCT_URBAN</th>\n",
       "      <th>AREAPCT_UC</th>\n",
       "      <th>PCT_LAND</th>\n",
       "      <th>PCT_WATER_TOT</th>\n",
       "      <th>PCT_WATER_INLAND</th>\n",
       "      <th>OUTAGE.START</th>\n",
       "      <th>OUTAGE.RESTORATION</th>\n",
       "    </tr>\n",
       "    <tr>\n",
       "      <th>ANOMALY.LEVEL</th>\n",
       "      <th></th>\n",
       "      <th></th>\n",
       "      <th></th>\n",
       "      <th></th>\n",
       "      <th></th>\n",
       "      <th></th>\n",
       "      <th></th>\n",
       "      <th></th>\n",
       "      <th></th>\n",
       "      <th></th>\n",
       "      <th></th>\n",
       "      <th></th>\n",
       "      <th></th>\n",
       "      <th></th>\n",
       "      <th></th>\n",
       "      <th></th>\n",
       "      <th></th>\n",
       "      <th></th>\n",
       "      <th></th>\n",
       "      <th></th>\n",
       "      <th></th>\n",
       "    </tr>\n",
       "  </thead>\n",
       "  <tbody>\n",
       "    <tr>\n",
       "      <th>-1.6</th>\n",
       "      <td>2</td>\n",
       "      <td>2</td>\n",
       "      <td>2</td>\n",
       "      <td>2</td>\n",
       "      <td>2</td>\n",
       "      <td>2</td>\n",
       "      <td>2</td>\n",
       "      <td>2</td>\n",
       "      <td>2</td>\n",
       "      <td>2</td>\n",
       "      <td>...</td>\n",
       "      <td>2</td>\n",
       "      <td>2</td>\n",
       "      <td>2</td>\n",
       "      <td>2</td>\n",
       "      <td>2</td>\n",
       "      <td>2</td>\n",
       "      <td>2</td>\n",
       "      <td>2</td>\n",
       "      <td>2</td>\n",
       "      <td>2</td>\n",
       "    </tr>\n",
       "    <tr>\n",
       "      <th>-1.5</th>\n",
       "      <td>8</td>\n",
       "      <td>8</td>\n",
       "      <td>8</td>\n",
       "      <td>8</td>\n",
       "      <td>8</td>\n",
       "      <td>8</td>\n",
       "      <td>8</td>\n",
       "      <td>8</td>\n",
       "      <td>8</td>\n",
       "      <td>8</td>\n",
       "      <td>...</td>\n",
       "      <td>8</td>\n",
       "      <td>8</td>\n",
       "      <td>8</td>\n",
       "      <td>8</td>\n",
       "      <td>8</td>\n",
       "      <td>8</td>\n",
       "      <td>8</td>\n",
       "      <td>8</td>\n",
       "      <td>8</td>\n",
       "      <td>8</td>\n",
       "    </tr>\n",
       "    <tr>\n",
       "      <th>-1.4</th>\n",
       "      <td>27</td>\n",
       "      <td>27</td>\n",
       "      <td>27</td>\n",
       "      <td>27</td>\n",
       "      <td>27</td>\n",
       "      <td>27</td>\n",
       "      <td>27</td>\n",
       "      <td>27</td>\n",
       "      <td>27</td>\n",
       "      <td>27</td>\n",
       "      <td>...</td>\n",
       "      <td>27</td>\n",
       "      <td>27</td>\n",
       "      <td>27</td>\n",
       "      <td>27</td>\n",
       "      <td>27</td>\n",
       "      <td>27</td>\n",
       "      <td>27</td>\n",
       "      <td>27</td>\n",
       "      <td>27</td>\n",
       "      <td>27</td>\n",
       "    </tr>\n",
       "    <tr>\n",
       "      <th>-1.3</th>\n",
       "      <td>35</td>\n",
       "      <td>35</td>\n",
       "      <td>35</td>\n",
       "      <td>35</td>\n",
       "      <td>35</td>\n",
       "      <td>35</td>\n",
       "      <td>35</td>\n",
       "      <td>35</td>\n",
       "      <td>35</td>\n",
       "      <td>35</td>\n",
       "      <td>...</td>\n",
       "      <td>35</td>\n",
       "      <td>34</td>\n",
       "      <td>34</td>\n",
       "      <td>35</td>\n",
       "      <td>35</td>\n",
       "      <td>35</td>\n",
       "      <td>35</td>\n",
       "      <td>35</td>\n",
       "      <td>35</td>\n",
       "      <td>35</td>\n",
       "    </tr>\n",
       "    <tr>\n",
       "      <th>-1.2</th>\n",
       "      <td>13</td>\n",
       "      <td>13</td>\n",
       "      <td>13</td>\n",
       "      <td>13</td>\n",
       "      <td>13</td>\n",
       "      <td>13</td>\n",
       "      <td>13</td>\n",
       "      <td>13</td>\n",
       "      <td>13</td>\n",
       "      <td>13</td>\n",
       "      <td>...</td>\n",
       "      <td>13</td>\n",
       "      <td>11</td>\n",
       "      <td>11</td>\n",
       "      <td>13</td>\n",
       "      <td>13</td>\n",
       "      <td>13</td>\n",
       "      <td>13</td>\n",
       "      <td>13</td>\n",
       "      <td>13</td>\n",
       "      <td>13</td>\n",
       "    </tr>\n",
       "    <tr>\n",
       "      <th>-1.1</th>\n",
       "      <td>9</td>\n",
       "      <td>9</td>\n",
       "      <td>9</td>\n",
       "      <td>9</td>\n",
       "      <td>9</td>\n",
       "      <td>9</td>\n",
       "      <td>9</td>\n",
       "      <td>9</td>\n",
       "      <td>9</td>\n",
       "      <td>9</td>\n",
       "      <td>...</td>\n",
       "      <td>9</td>\n",
       "      <td>9</td>\n",
       "      <td>9</td>\n",
       "      <td>9</td>\n",
       "      <td>9</td>\n",
       "      <td>9</td>\n",
       "      <td>9</td>\n",
       "      <td>9</td>\n",
       "      <td>9</td>\n",
       "      <td>9</td>\n",
       "    </tr>\n",
       "    <tr>\n",
       "      <th>-1.0</th>\n",
       "      <td>27</td>\n",
       "      <td>27</td>\n",
       "      <td>27</td>\n",
       "      <td>27</td>\n",
       "      <td>27</td>\n",
       "      <td>27</td>\n",
       "      <td>27</td>\n",
       "      <td>27</td>\n",
       "      <td>27</td>\n",
       "      <td>27</td>\n",
       "      <td>...</td>\n",
       "      <td>27</td>\n",
       "      <td>27</td>\n",
       "      <td>27</td>\n",
       "      <td>27</td>\n",
       "      <td>27</td>\n",
       "      <td>27</td>\n",
       "      <td>27</td>\n",
       "      <td>27</td>\n",
       "      <td>27</td>\n",
       "      <td>27</td>\n",
       "    </tr>\n",
       "    <tr>\n",
       "      <th>-0.9</th>\n",
       "      <td>54</td>\n",
       "      <td>54</td>\n",
       "      <td>54</td>\n",
       "      <td>54</td>\n",
       "      <td>54</td>\n",
       "      <td>54</td>\n",
       "      <td>54</td>\n",
       "      <td>54</td>\n",
       "      <td>54</td>\n",
       "      <td>54</td>\n",
       "      <td>...</td>\n",
       "      <td>54</td>\n",
       "      <td>54</td>\n",
       "      <td>54</td>\n",
       "      <td>54</td>\n",
       "      <td>54</td>\n",
       "      <td>54</td>\n",
       "      <td>54</td>\n",
       "      <td>54</td>\n",
       "      <td>54</td>\n",
       "      <td>54</td>\n",
       "    </tr>\n",
       "    <tr>\n",
       "      <th>-0.8</th>\n",
       "      <td>20</td>\n",
       "      <td>20</td>\n",
       "      <td>20</td>\n",
       "      <td>20</td>\n",
       "      <td>20</td>\n",
       "      <td>20</td>\n",
       "      <td>20</td>\n",
       "      <td>20</td>\n",
       "      <td>20</td>\n",
       "      <td>20</td>\n",
       "      <td>...</td>\n",
       "      <td>20</td>\n",
       "      <td>20</td>\n",
       "      <td>20</td>\n",
       "      <td>20</td>\n",
       "      <td>20</td>\n",
       "      <td>20</td>\n",
       "      <td>20</td>\n",
       "      <td>20</td>\n",
       "      <td>20</td>\n",
       "      <td>20</td>\n",
       "    </tr>\n",
       "    <tr>\n",
       "      <th>-0.7</th>\n",
       "      <td>80</td>\n",
       "      <td>80</td>\n",
       "      <td>80</td>\n",
       "      <td>80</td>\n",
       "      <td>80</td>\n",
       "      <td>79</td>\n",
       "      <td>80</td>\n",
       "      <td>80</td>\n",
       "      <td>80</td>\n",
       "      <td>80</td>\n",
       "      <td>...</td>\n",
       "      <td>80</td>\n",
       "      <td>80</td>\n",
       "      <td>80</td>\n",
       "      <td>80</td>\n",
       "      <td>80</td>\n",
       "      <td>80</td>\n",
       "      <td>80</td>\n",
       "      <td>80</td>\n",
       "      <td>80</td>\n",
       "      <td>80</td>\n",
       "    </tr>\n",
       "    <tr>\n",
       "      <th>-0.6</th>\n",
       "      <td>72</td>\n",
       "      <td>72</td>\n",
       "      <td>72</td>\n",
       "      <td>72</td>\n",
       "      <td>72</td>\n",
       "      <td>72</td>\n",
       "      <td>72</td>\n",
       "      <td>72</td>\n",
       "      <td>72</td>\n",
       "      <td>72</td>\n",
       "      <td>...</td>\n",
       "      <td>72</td>\n",
       "      <td>71</td>\n",
       "      <td>71</td>\n",
       "      <td>72</td>\n",
       "      <td>72</td>\n",
       "      <td>72</td>\n",
       "      <td>72</td>\n",
       "      <td>72</td>\n",
       "      <td>72</td>\n",
       "      <td>72</td>\n",
       "    </tr>\n",
       "    <tr>\n",
       "      <th>-0.5</th>\n",
       "      <td>116</td>\n",
       "      <td>116</td>\n",
       "      <td>116</td>\n",
       "      <td>116</td>\n",
       "      <td>116</td>\n",
       "      <td>116</td>\n",
       "      <td>116</td>\n",
       "      <td>116</td>\n",
       "      <td>116</td>\n",
       "      <td>116</td>\n",
       "      <td>...</td>\n",
       "      <td>116</td>\n",
       "      <td>115</td>\n",
       "      <td>115</td>\n",
       "      <td>116</td>\n",
       "      <td>116</td>\n",
       "      <td>116</td>\n",
       "      <td>116</td>\n",
       "      <td>116</td>\n",
       "      <td>116</td>\n",
       "      <td>116</td>\n",
       "    </tr>\n",
       "    <tr>\n",
       "      <th>-0.4</th>\n",
       "      <td>151</td>\n",
       "      <td>151</td>\n",
       "      <td>151</td>\n",
       "      <td>151</td>\n",
       "      <td>151</td>\n",
       "      <td>150</td>\n",
       "      <td>151</td>\n",
       "      <td>151</td>\n",
       "      <td>151</td>\n",
       "      <td>151</td>\n",
       "      <td>...</td>\n",
       "      <td>151</td>\n",
       "      <td>150</td>\n",
       "      <td>150</td>\n",
       "      <td>151</td>\n",
       "      <td>151</td>\n",
       "      <td>151</td>\n",
       "      <td>151</td>\n",
       "      <td>151</td>\n",
       "      <td>151</td>\n",
       "      <td>151</td>\n",
       "    </tr>\n",
       "    <tr>\n",
       "      <th>-0.3</th>\n",
       "      <td>189</td>\n",
       "      <td>189</td>\n",
       "      <td>189</td>\n",
       "      <td>189</td>\n",
       "      <td>189</td>\n",
       "      <td>189</td>\n",
       "      <td>189</td>\n",
       "      <td>189</td>\n",
       "      <td>189</td>\n",
       "      <td>189</td>\n",
       "      <td>...</td>\n",
       "      <td>189</td>\n",
       "      <td>189</td>\n",
       "      <td>189</td>\n",
       "      <td>189</td>\n",
       "      <td>189</td>\n",
       "      <td>189</td>\n",
       "      <td>189</td>\n",
       "      <td>189</td>\n",
       "      <td>189</td>\n",
       "      <td>189</td>\n",
       "    </tr>\n",
       "    <tr>\n",
       "      <th>-0.2</th>\n",
       "      <td>88</td>\n",
       "      <td>88</td>\n",
       "      <td>88</td>\n",
       "      <td>88</td>\n",
       "      <td>88</td>\n",
       "      <td>88</td>\n",
       "      <td>88</td>\n",
       "      <td>88</td>\n",
       "      <td>88</td>\n",
       "      <td>88</td>\n",
       "      <td>...</td>\n",
       "      <td>88</td>\n",
       "      <td>87</td>\n",
       "      <td>87</td>\n",
       "      <td>88</td>\n",
       "      <td>88</td>\n",
       "      <td>88</td>\n",
       "      <td>88</td>\n",
       "      <td>88</td>\n",
       "      <td>88</td>\n",
       "      <td>88</td>\n",
       "    </tr>\n",
       "    <tr>\n",
       "      <th>-0.1</th>\n",
       "      <td>58</td>\n",
       "      <td>58</td>\n",
       "      <td>58</td>\n",
       "      <td>58</td>\n",
       "      <td>58</td>\n",
       "      <td>58</td>\n",
       "      <td>58</td>\n",
       "      <td>58</td>\n",
       "      <td>58</td>\n",
       "      <td>58</td>\n",
       "      <td>...</td>\n",
       "      <td>58</td>\n",
       "      <td>57</td>\n",
       "      <td>57</td>\n",
       "      <td>58</td>\n",
       "      <td>58</td>\n",
       "      <td>58</td>\n",
       "      <td>58</td>\n",
       "      <td>58</td>\n",
       "      <td>58</td>\n",
       "      <td>58</td>\n",
       "    </tr>\n",
       "    <tr>\n",
       "      <th>0.0</th>\n",
       "      <td>46</td>\n",
       "      <td>46</td>\n",
       "      <td>46</td>\n",
       "      <td>46</td>\n",
       "      <td>46</td>\n",
       "      <td>45</td>\n",
       "      <td>46</td>\n",
       "      <td>46</td>\n",
       "      <td>46</td>\n",
       "      <td>46</td>\n",
       "      <td>...</td>\n",
       "      <td>46</td>\n",
       "      <td>46</td>\n",
       "      <td>46</td>\n",
       "      <td>46</td>\n",
       "      <td>46</td>\n",
       "      <td>46</td>\n",
       "      <td>46</td>\n",
       "      <td>46</td>\n",
       "      <td>46</td>\n",
       "      <td>46</td>\n",
       "    </tr>\n",
       "    <tr>\n",
       "      <th>0.1</th>\n",
       "      <td>61</td>\n",
       "      <td>61</td>\n",
       "      <td>61</td>\n",
       "      <td>61</td>\n",
       "      <td>61</td>\n",
       "      <td>61</td>\n",
       "      <td>61</td>\n",
       "      <td>61</td>\n",
       "      <td>61</td>\n",
       "      <td>61</td>\n",
       "      <td>...</td>\n",
       "      <td>61</td>\n",
       "      <td>61</td>\n",
       "      <td>61</td>\n",
       "      <td>61</td>\n",
       "      <td>61</td>\n",
       "      <td>61</td>\n",
       "      <td>61</td>\n",
       "      <td>61</td>\n",
       "      <td>61</td>\n",
       "      <td>61</td>\n",
       "    </tr>\n",
       "    <tr>\n",
       "      <th>0.2</th>\n",
       "      <td>35</td>\n",
       "      <td>35</td>\n",
       "      <td>35</td>\n",
       "      <td>35</td>\n",
       "      <td>35</td>\n",
       "      <td>35</td>\n",
       "      <td>35</td>\n",
       "      <td>35</td>\n",
       "      <td>35</td>\n",
       "      <td>35</td>\n",
       "      <td>...</td>\n",
       "      <td>35</td>\n",
       "      <td>34</td>\n",
       "      <td>34</td>\n",
       "      <td>35</td>\n",
       "      <td>35</td>\n",
       "      <td>35</td>\n",
       "      <td>35</td>\n",
       "      <td>35</td>\n",
       "      <td>35</td>\n",
       "      <td>35</td>\n",
       "    </tr>\n",
       "    <tr>\n",
       "      <th>0.3</th>\n",
       "      <td>86</td>\n",
       "      <td>86</td>\n",
       "      <td>86</td>\n",
       "      <td>86</td>\n",
       "      <td>86</td>\n",
       "      <td>86</td>\n",
       "      <td>86</td>\n",
       "      <td>86</td>\n",
       "      <td>86</td>\n",
       "      <td>86</td>\n",
       "      <td>...</td>\n",
       "      <td>86</td>\n",
       "      <td>86</td>\n",
       "      <td>86</td>\n",
       "      <td>86</td>\n",
       "      <td>86</td>\n",
       "      <td>86</td>\n",
       "      <td>86</td>\n",
       "      <td>86</td>\n",
       "      <td>86</td>\n",
       "      <td>86</td>\n",
       "    </tr>\n",
       "    <tr>\n",
       "      <th>0.4</th>\n",
       "      <td>16</td>\n",
       "      <td>16</td>\n",
       "      <td>16</td>\n",
       "      <td>16</td>\n",
       "      <td>16</td>\n",
       "      <td>16</td>\n",
       "      <td>16</td>\n",
       "      <td>16</td>\n",
       "      <td>16</td>\n",
       "      <td>16</td>\n",
       "      <td>...</td>\n",
       "      <td>16</td>\n",
       "      <td>16</td>\n",
       "      <td>16</td>\n",
       "      <td>16</td>\n",
       "      <td>16</td>\n",
       "      <td>16</td>\n",
       "      <td>16</td>\n",
       "      <td>16</td>\n",
       "      <td>16</td>\n",
       "      <td>16</td>\n",
       "    </tr>\n",
       "    <tr>\n",
       "      <th>0.5</th>\n",
       "      <td>48</td>\n",
       "      <td>48</td>\n",
       "      <td>48</td>\n",
       "      <td>48</td>\n",
       "      <td>48</td>\n",
       "      <td>48</td>\n",
       "      <td>48</td>\n",
       "      <td>48</td>\n",
       "      <td>48</td>\n",
       "      <td>48</td>\n",
       "      <td>...</td>\n",
       "      <td>48</td>\n",
       "      <td>48</td>\n",
       "      <td>48</td>\n",
       "      <td>48</td>\n",
       "      <td>48</td>\n",
       "      <td>48</td>\n",
       "      <td>48</td>\n",
       "      <td>48</td>\n",
       "      <td>48</td>\n",
       "      <td>48</td>\n",
       "    </tr>\n",
       "    <tr>\n",
       "      <th>0.6</th>\n",
       "      <td>30</td>\n",
       "      <td>30</td>\n",
       "      <td>30</td>\n",
       "      <td>30</td>\n",
       "      <td>30</td>\n",
       "      <td>30</td>\n",
       "      <td>30</td>\n",
       "      <td>30</td>\n",
       "      <td>30</td>\n",
       "      <td>30</td>\n",
       "      <td>...</td>\n",
       "      <td>30</td>\n",
       "      <td>30</td>\n",
       "      <td>30</td>\n",
       "      <td>30</td>\n",
       "      <td>30</td>\n",
       "      <td>30</td>\n",
       "      <td>30</td>\n",
       "      <td>30</td>\n",
       "      <td>30</td>\n",
       "      <td>30</td>\n",
       "    </tr>\n",
       "    <tr>\n",
       "      <th>0.7</th>\n",
       "      <td>44</td>\n",
       "      <td>44</td>\n",
       "      <td>44</td>\n",
       "      <td>44</td>\n",
       "      <td>44</td>\n",
       "      <td>42</td>\n",
       "      <td>44</td>\n",
       "      <td>44</td>\n",
       "      <td>44</td>\n",
       "      <td>44</td>\n",
       "      <td>...</td>\n",
       "      <td>44</td>\n",
       "      <td>44</td>\n",
       "      <td>44</td>\n",
       "      <td>44</td>\n",
       "      <td>44</td>\n",
       "      <td>44</td>\n",
       "      <td>44</td>\n",
       "      <td>44</td>\n",
       "      <td>44</td>\n",
       "      <td>44</td>\n",
       "    </tr>\n",
       "    <tr>\n",
       "      <th>0.8</th>\n",
       "      <td>10</td>\n",
       "      <td>10</td>\n",
       "      <td>10</td>\n",
       "      <td>10</td>\n",
       "      <td>10</td>\n",
       "      <td>10</td>\n",
       "      <td>10</td>\n",
       "      <td>10</td>\n",
       "      <td>10</td>\n",
       "      <td>10</td>\n",
       "      <td>...</td>\n",
       "      <td>10</td>\n",
       "      <td>10</td>\n",
       "      <td>10</td>\n",
       "      <td>10</td>\n",
       "      <td>10</td>\n",
       "      <td>10</td>\n",
       "      <td>10</td>\n",
       "      <td>10</td>\n",
       "      <td>10</td>\n",
       "      <td>10</td>\n",
       "    </tr>\n",
       "    <tr>\n",
       "      <th>0.9</th>\n",
       "      <td>29</td>\n",
       "      <td>29</td>\n",
       "      <td>29</td>\n",
       "      <td>29</td>\n",
       "      <td>29</td>\n",
       "      <td>29</td>\n",
       "      <td>29</td>\n",
       "      <td>29</td>\n",
       "      <td>29</td>\n",
       "      <td>29</td>\n",
       "      <td>...</td>\n",
       "      <td>29</td>\n",
       "      <td>29</td>\n",
       "      <td>29</td>\n",
       "      <td>29</td>\n",
       "      <td>29</td>\n",
       "      <td>29</td>\n",
       "      <td>29</td>\n",
       "      <td>29</td>\n",
       "      <td>29</td>\n",
       "      <td>29</td>\n",
       "    </tr>\n",
       "    <tr>\n",
       "      <th>1.0</th>\n",
       "      <td>15</td>\n",
       "      <td>15</td>\n",
       "      <td>15</td>\n",
       "      <td>15</td>\n",
       "      <td>15</td>\n",
       "      <td>15</td>\n",
       "      <td>15</td>\n",
       "      <td>15</td>\n",
       "      <td>15</td>\n",
       "      <td>15</td>\n",
       "      <td>...</td>\n",
       "      <td>15</td>\n",
       "      <td>15</td>\n",
       "      <td>15</td>\n",
       "      <td>15</td>\n",
       "      <td>15</td>\n",
       "      <td>15</td>\n",
       "      <td>15</td>\n",
       "      <td>15</td>\n",
       "      <td>15</td>\n",
       "      <td>15</td>\n",
       "    </tr>\n",
       "    <tr>\n",
       "      <th>1.1</th>\n",
       "      <td>15</td>\n",
       "      <td>15</td>\n",
       "      <td>15</td>\n",
       "      <td>15</td>\n",
       "      <td>15</td>\n",
       "      <td>15</td>\n",
       "      <td>15</td>\n",
       "      <td>15</td>\n",
       "      <td>15</td>\n",
       "      <td>15</td>\n",
       "      <td>...</td>\n",
       "      <td>15</td>\n",
       "      <td>15</td>\n",
       "      <td>15</td>\n",
       "      <td>15</td>\n",
       "      <td>15</td>\n",
       "      <td>15</td>\n",
       "      <td>15</td>\n",
       "      <td>15</td>\n",
       "      <td>15</td>\n",
       "      <td>15</td>\n",
       "    </tr>\n",
       "    <tr>\n",
       "      <th>1.2</th>\n",
       "      <td>25</td>\n",
       "      <td>25</td>\n",
       "      <td>25</td>\n",
       "      <td>25</td>\n",
       "      <td>25</td>\n",
       "      <td>25</td>\n",
       "      <td>25</td>\n",
       "      <td>25</td>\n",
       "      <td>25</td>\n",
       "      <td>25</td>\n",
       "      <td>...</td>\n",
       "      <td>25</td>\n",
       "      <td>24</td>\n",
       "      <td>24</td>\n",
       "      <td>25</td>\n",
       "      <td>25</td>\n",
       "      <td>25</td>\n",
       "      <td>25</td>\n",
       "      <td>25</td>\n",
       "      <td>25</td>\n",
       "      <td>25</td>\n",
       "    </tr>\n",
       "    <tr>\n",
       "      <th>1.3</th>\n",
       "      <td>13</td>\n",
       "      <td>13</td>\n",
       "      <td>13</td>\n",
       "      <td>13</td>\n",
       "      <td>13</td>\n",
       "      <td>13</td>\n",
       "      <td>13</td>\n",
       "      <td>13</td>\n",
       "      <td>13</td>\n",
       "      <td>13</td>\n",
       "      <td>...</td>\n",
       "      <td>13</td>\n",
       "      <td>13</td>\n",
       "      <td>13</td>\n",
       "      <td>13</td>\n",
       "      <td>13</td>\n",
       "      <td>13</td>\n",
       "      <td>13</td>\n",
       "      <td>13</td>\n",
       "      <td>13</td>\n",
       "      <td>13</td>\n",
       "    </tr>\n",
       "    <tr>\n",
       "      <th>1.4</th>\n",
       "      <td>7</td>\n",
       "      <td>7</td>\n",
       "      <td>7</td>\n",
       "      <td>7</td>\n",
       "      <td>7</td>\n",
       "      <td>7</td>\n",
       "      <td>7</td>\n",
       "      <td>7</td>\n",
       "      <td>7</td>\n",
       "      <td>7</td>\n",
       "      <td>...</td>\n",
       "      <td>7</td>\n",
       "      <td>7</td>\n",
       "      <td>7</td>\n",
       "      <td>7</td>\n",
       "      <td>7</td>\n",
       "      <td>7</td>\n",
       "      <td>7</td>\n",
       "      <td>7</td>\n",
       "      <td>7</td>\n",
       "      <td>7</td>\n",
       "    </tr>\n",
       "    <tr>\n",
       "      <th>1.6</th>\n",
       "      <td>6</td>\n",
       "      <td>6</td>\n",
       "      <td>6</td>\n",
       "      <td>6</td>\n",
       "      <td>6</td>\n",
       "      <td>6</td>\n",
       "      <td>6</td>\n",
       "      <td>6</td>\n",
       "      <td>6</td>\n",
       "      <td>6</td>\n",
       "      <td>...</td>\n",
       "      <td>6</td>\n",
       "      <td>6</td>\n",
       "      <td>6</td>\n",
       "      <td>6</td>\n",
       "      <td>6</td>\n",
       "      <td>6</td>\n",
       "      <td>6</td>\n",
       "      <td>6</td>\n",
       "      <td>6</td>\n",
       "      <td>6</td>\n",
       "    </tr>\n",
       "    <tr>\n",
       "      <th>1.7</th>\n",
       "      <td>4</td>\n",
       "      <td>4</td>\n",
       "      <td>4</td>\n",
       "      <td>4</td>\n",
       "      <td>4</td>\n",
       "      <td>4</td>\n",
       "      <td>4</td>\n",
       "      <td>4</td>\n",
       "      <td>4</td>\n",
       "      <td>4</td>\n",
       "      <td>...</td>\n",
       "      <td>4</td>\n",
       "      <td>4</td>\n",
       "      <td>4</td>\n",
       "      <td>4</td>\n",
       "      <td>4</td>\n",
       "      <td>4</td>\n",
       "      <td>4</td>\n",
       "      <td>4</td>\n",
       "      <td>4</td>\n",
       "      <td>4</td>\n",
       "    </tr>\n",
       "    <tr>\n",
       "      <th>2.0</th>\n",
       "      <td>14</td>\n",
       "      <td>14</td>\n",
       "      <td>14</td>\n",
       "      <td>14</td>\n",
       "      <td>14</td>\n",
       "      <td>14</td>\n",
       "      <td>14</td>\n",
       "      <td>14</td>\n",
       "      <td>14</td>\n",
       "      <td>14</td>\n",
       "      <td>...</td>\n",
       "      <td>14</td>\n",
       "      <td>14</td>\n",
       "      <td>14</td>\n",
       "      <td>14</td>\n",
       "      <td>14</td>\n",
       "      <td>14</td>\n",
       "      <td>14</td>\n",
       "      <td>14</td>\n",
       "      <td>14</td>\n",
       "      <td>14</td>\n",
       "    </tr>\n",
       "    <tr>\n",
       "      <th>2.2</th>\n",
       "      <td>11</td>\n",
       "      <td>11</td>\n",
       "      <td>11</td>\n",
       "      <td>11</td>\n",
       "      <td>11</td>\n",
       "      <td>11</td>\n",
       "      <td>11</td>\n",
       "      <td>11</td>\n",
       "      <td>11</td>\n",
       "      <td>11</td>\n",
       "      <td>...</td>\n",
       "      <td>11</td>\n",
       "      <td>11</td>\n",
       "      <td>11</td>\n",
       "      <td>11</td>\n",
       "      <td>11</td>\n",
       "      <td>11</td>\n",
       "      <td>11</td>\n",
       "      <td>11</td>\n",
       "      <td>11</td>\n",
       "      <td>11</td>\n",
       "    </tr>\n",
       "    <tr>\n",
       "      <th>2.3</th>\n",
       "      <td>12</td>\n",
       "      <td>12</td>\n",
       "      <td>12</td>\n",
       "      <td>12</td>\n",
       "      <td>12</td>\n",
       "      <td>12</td>\n",
       "      <td>12</td>\n",
       "      <td>12</td>\n",
       "      <td>12</td>\n",
       "      <td>12</td>\n",
       "      <td>...</td>\n",
       "      <td>12</td>\n",
       "      <td>12</td>\n",
       "      <td>12</td>\n",
       "      <td>12</td>\n",
       "      <td>12</td>\n",
       "      <td>12</td>\n",
       "      <td>12</td>\n",
       "      <td>12</td>\n",
       "      <td>12</td>\n",
       "      <td>12</td>\n",
       "    </tr>\n",
       "  </tbody>\n",
       "</table>\n",
       "<p>36 rows × 56 columns</p>\n",
       "</div>"
      ],
      "text/plain": [
       "               YEAR  MONTH  U.S._STATE  POSTAL.CODE  NERC.REGION  \\\n",
       "ANOMALY.LEVEL                                                      \n",
       "-1.6              2      2           2            2            2   \n",
       "-1.5              8      8           8            8            8   \n",
       "-1.4             27     27          27           27           27   \n",
       "-1.3             35     35          35           35           35   \n",
       "-1.2             13     13          13           13           13   \n",
       "-1.1              9      9           9            9            9   \n",
       "-1.0             27     27          27           27           27   \n",
       "-0.9             54     54          54           54           54   \n",
       "-0.8             20     20          20           20           20   \n",
       "-0.7             80     80          80           80           80   \n",
       "-0.6             72     72          72           72           72   \n",
       "-0.5            116    116         116          116          116   \n",
       "-0.4            151    151         151          151          151   \n",
       "-0.3            189    189         189          189          189   \n",
       "-0.2             88     88          88           88           88   \n",
       "-0.1             58     58          58           58           58   \n",
       " 0.0             46     46          46           46           46   \n",
       " 0.1             61     61          61           61           61   \n",
       " 0.2             35     35          35           35           35   \n",
       " 0.3             86     86          86           86           86   \n",
       " 0.4             16     16          16           16           16   \n",
       " 0.5             48     48          48           48           48   \n",
       " 0.6             30     30          30           30           30   \n",
       " 0.7             44     44          44           44           44   \n",
       " 0.8             10     10          10           10           10   \n",
       " 0.9             29     29          29           29           29   \n",
       " 1.0             15     15          15           15           15   \n",
       " 1.1             15     15          15           15           15   \n",
       " 1.2             25     25          25           25           25   \n",
       " 1.3             13     13          13           13           13   \n",
       " 1.4              7      7           7            7            7   \n",
       " 1.6              6      6           6            6            6   \n",
       " 1.7              4      4           4            4            4   \n",
       " 2.0             14     14          14           14           14   \n",
       " 2.2             11     11          11           11           11   \n",
       " 2.3             12     12          12           12           12   \n",
       "\n",
       "               CLIMATE.REGION  CLIMATE.CATEGORY  OUTAGE.START.DATE  \\\n",
       "ANOMALY.LEVEL                                                        \n",
       "-1.6                        2                 2                  2   \n",
       "-1.5                        8                 8                  8   \n",
       "-1.4                       27                27                 27   \n",
       "-1.3                       35                35                 35   \n",
       "-1.2                       13                13                 13   \n",
       "-1.1                        9                 9                  9   \n",
       "-1.0                       27                27                 27   \n",
       "-0.9                       54                54                 54   \n",
       "-0.8                       20                20                 20   \n",
       "-0.7                       79                80                 80   \n",
       "-0.6                       72                72                 72   \n",
       "-0.5                      116               116                116   \n",
       "-0.4                      150               151                151   \n",
       "-0.3                      189               189                189   \n",
       "-0.2                       88                88                 88   \n",
       "-0.1                       58                58                 58   \n",
       " 0.0                       45                46                 46   \n",
       " 0.1                       61                61                 61   \n",
       " 0.2                       35                35                 35   \n",
       " 0.3                       86                86                 86   \n",
       " 0.4                       16                16                 16   \n",
       " 0.5                       48                48                 48   \n",
       " 0.6                       30                30                 30   \n",
       " 0.7                       42                44                 44   \n",
       " 0.8                       10                10                 10   \n",
       " 0.9                       29                29                 29   \n",
       " 1.0                       15                15                 15   \n",
       " 1.1                       15                15                 15   \n",
       " 1.2                       25                25                 25   \n",
       " 1.3                       13                13                 13   \n",
       " 1.4                        7                 7                  7   \n",
       " 1.6                        6                 6                  6   \n",
       " 1.7                        4                 4                  4   \n",
       " 2.0                       14                14                 14   \n",
       " 2.2                       11                11                 11   \n",
       " 2.3                       12                12                 12   \n",
       "\n",
       "               OUTAGE.START.TIME  OUTAGE.RESTORATION.DATE  ...  POPDEN_URBAN  \\\n",
       "ANOMALY.LEVEL                                              ...                 \n",
       "-1.6                           2                        2  ...             2   \n",
       "-1.5                           8                        8  ...             8   \n",
       "-1.4                          27                       27  ...            27   \n",
       "-1.3                          35                       35  ...            35   \n",
       "-1.2                          13                       13  ...            13   \n",
       "-1.1                           9                        9  ...             9   \n",
       "-1.0                          27                       27  ...            27   \n",
       "-0.9                          54                       54  ...            54   \n",
       "-0.8                          20                       20  ...            20   \n",
       "-0.7                          80                       80  ...            80   \n",
       "-0.6                          72                       72  ...            72   \n",
       "-0.5                         116                      116  ...           116   \n",
       "-0.4                         151                      151  ...           151   \n",
       "-0.3                         189                      189  ...           189   \n",
       "-0.2                          88                       88  ...            88   \n",
       "-0.1                          58                       58  ...            58   \n",
       " 0.0                          46                       46  ...            46   \n",
       " 0.1                          61                       61  ...            61   \n",
       " 0.2                          35                       35  ...            35   \n",
       " 0.3                          86                       86  ...            86   \n",
       " 0.4                          16                       16  ...            16   \n",
       " 0.5                          48                       48  ...            48   \n",
       " 0.6                          30                       30  ...            30   \n",
       " 0.7                          44                       44  ...            44   \n",
       " 0.8                          10                       10  ...            10   \n",
       " 0.9                          29                       29  ...            29   \n",
       " 1.0                          15                       15  ...            15   \n",
       " 1.1                          15                       15  ...            15   \n",
       " 1.2                          25                       25  ...            25   \n",
       " 1.3                          13                       13  ...            13   \n",
       " 1.4                           7                        7  ...             7   \n",
       " 1.6                           6                        6  ...             6   \n",
       " 1.7                           4                        4  ...             4   \n",
       " 2.0                          14                       14  ...            14   \n",
       " 2.2                          11                       11  ...            11   \n",
       " 2.3                          12                       12  ...            12   \n",
       "\n",
       "               POPDEN_UC  POPDEN_RURAL  AREAPCT_URBAN  AREAPCT_UC  PCT_LAND  \\\n",
       "ANOMALY.LEVEL                                                                 \n",
       "-1.6                   2             2              2           2         2   \n",
       "-1.5                   8             8              8           8         8   \n",
       "-1.4                  27            27             27          27        27   \n",
       "-1.3                  34            34             35          35        35   \n",
       "-1.2                  11            11             13          13        13   \n",
       "-1.1                   9             9              9           9         9   \n",
       "-1.0                  27            27             27          27        27   \n",
       "-0.9                  54            54             54          54        54   \n",
       "-0.8                  20            20             20          20        20   \n",
       "-0.7                  80            80             80          80        80   \n",
       "-0.6                  71            71             72          72        72   \n",
       "-0.5                 115           115            116         116       116   \n",
       "-0.4                 150           150            151         151       151   \n",
       "-0.3                 189           189            189         189       189   \n",
       "-0.2                  87            87             88          88        88   \n",
       "-0.1                  57            57             58          58        58   \n",
       " 0.0                  46            46             46          46        46   \n",
       " 0.1                  61            61             61          61        61   \n",
       " 0.2                  34            34             35          35        35   \n",
       " 0.3                  86            86             86          86        86   \n",
       " 0.4                  16            16             16          16        16   \n",
       " 0.5                  48            48             48          48        48   \n",
       " 0.6                  30            30             30          30        30   \n",
       " 0.7                  44            44             44          44        44   \n",
       " 0.8                  10            10             10          10        10   \n",
       " 0.9                  29            29             29          29        29   \n",
       " 1.0                  15            15             15          15        15   \n",
       " 1.1                  15            15             15          15        15   \n",
       " 1.2                  24            24             25          25        25   \n",
       " 1.3                  13            13             13          13        13   \n",
       " 1.4                   7             7              7           7         7   \n",
       " 1.6                   6             6              6           6         6   \n",
       " 1.7                   4             4              4           4         4   \n",
       " 2.0                  14            14             14          14        14   \n",
       " 2.2                  11            11             11          11        11   \n",
       " 2.3                  12            12             12          12        12   \n",
       "\n",
       "               PCT_WATER_TOT  PCT_WATER_INLAND  OUTAGE.START  \\\n",
       "ANOMALY.LEVEL                                                  \n",
       "-1.6                       2                 2             2   \n",
       "-1.5                       8                 8             8   \n",
       "-1.4                      27                27            27   \n",
       "-1.3                      35                35            35   \n",
       "-1.2                      13                13            13   \n",
       "-1.1                       9                 9             9   \n",
       "-1.0                      27                27            27   \n",
       "-0.9                      54                54            54   \n",
       "-0.8                      20                20            20   \n",
       "-0.7                      80                80            80   \n",
       "-0.6                      72                72            72   \n",
       "-0.5                     116               116           116   \n",
       "-0.4                     151               151           151   \n",
       "-0.3                     189               189           189   \n",
       "-0.2                      88                88            88   \n",
       "-0.1                      58                58            58   \n",
       " 0.0                      46                46            46   \n",
       " 0.1                      61                61            61   \n",
       " 0.2                      35                35            35   \n",
       " 0.3                      86                86            86   \n",
       " 0.4                      16                16            16   \n",
       " 0.5                      48                48            48   \n",
       " 0.6                      30                30            30   \n",
       " 0.7                      44                44            44   \n",
       " 0.8                      10                10            10   \n",
       " 0.9                      29                29            29   \n",
       " 1.0                      15                15            15   \n",
       " 1.1                      15                15            15   \n",
       " 1.2                      25                25            25   \n",
       " 1.3                      13                13            13   \n",
       " 1.4                       7                 7             7   \n",
       " 1.6                       6                 6             6   \n",
       " 1.7                       4                 4             4   \n",
       " 2.0                      14                14            14   \n",
       " 2.2                      11                11            11   \n",
       " 2.3                      12                12            12   \n",
       "\n",
       "               OUTAGE.RESTORATION  \n",
       "ANOMALY.LEVEL                      \n",
       "-1.6                            2  \n",
       "-1.5                            8  \n",
       "-1.4                           27  \n",
       "-1.3                           35  \n",
       "-1.2                           13  \n",
       "-1.1                            9  \n",
       "-1.0                           27  \n",
       "-0.9                           54  \n",
       "-0.8                           20  \n",
       "-0.7                           80  \n",
       "-0.6                           72  \n",
       "-0.5                          116  \n",
       "-0.4                          151  \n",
       "-0.3                          189  \n",
       "-0.2                           88  \n",
       "-0.1                           58  \n",
       " 0.0                           46  \n",
       " 0.1                           61  \n",
       " 0.2                           35  \n",
       " 0.3                           86  \n",
       " 0.4                           16  \n",
       " 0.5                           48  \n",
       " 0.6                           30  \n",
       " 0.7                           44  \n",
       " 0.8                           10  \n",
       " 0.9                           29  \n",
       " 1.0                           15  \n",
       " 1.1                           15  \n",
       " 1.2                           25  \n",
       " 1.3                           13  \n",
       " 1.4                            7  \n",
       " 1.6                            6  \n",
       " 1.7                            4  \n",
       " 2.0                           14  \n",
       " 2.2                           11  \n",
       " 2.3                           12  \n",
       "\n",
       "[36 rows x 56 columns]"
      ]
     },
     "execution_count": 18,
     "metadata": {},
     "output_type": "execute_result"
    }
   ],
   "source": [
    "df_dropped.groupby(['ANOMALY.LEVEL']).count()"
   ]
  },
  {
   "cell_type": "code",
   "execution_count": 19,
   "metadata": {},
   "outputs": [
    {
     "data": {
      "application/vnd.plotly.v1+json": {
       "config": {
        "plotlyServerURL": "https://plot.ly"
       },
       "data": [
        {
         "alignmentgroup": "True",
         "hovertemplate": "variable=CAUSE.CATEGORY.DETAIL_ Coal<br>CAUSE.CATEGORY=%{x}<br>value=%{y}<extra></extra>",
         "legendgroup": "CAUSE.CATEGORY.DETAIL_ Coal",
         "marker": {
          "color": "#636efa",
          "pattern": {
           "shape": ""
          }
         },
         "name": "CAUSE.CATEGORY.DETAIL_ Coal",
         "offsetgroup": "CAUSE.CATEGORY.DETAIL_ Coal",
         "orientation": "v",
         "showlegend": true,
         "textposition": "auto",
         "type": "bar",
         "x": [
          "equipment failure",
          "fuel supply emergency",
          "intentional attack",
          "islanding",
          "public appeal",
          "severe weather",
          "system operability disruption"
         ],
         "xaxis": "x",
         "y": [
          0,
          7,
          0,
          0,
          0,
          0,
          0
         ],
         "yaxis": "y"
        },
        {
         "alignmentgroup": "True",
         "hovertemplate": "variable=CAUSE.CATEGORY.DETAIL_ Hydro<br>CAUSE.CATEGORY=%{x}<br>value=%{y}<extra></extra>",
         "legendgroup": "CAUSE.CATEGORY.DETAIL_ Hydro",
         "marker": {
          "color": "#EF553B",
          "pattern": {
           "shape": ""
          }
         },
         "name": "CAUSE.CATEGORY.DETAIL_ Hydro",
         "offsetgroup": "CAUSE.CATEGORY.DETAIL_ Hydro",
         "orientation": "v",
         "showlegend": true,
         "textposition": "auto",
         "type": "bar",
         "x": [
          "equipment failure",
          "fuel supply emergency",
          "intentional attack",
          "islanding",
          "public appeal",
          "severe weather",
          "system operability disruption"
         ],
         "xaxis": "x",
         "y": [
          0,
          1,
          0,
          0,
          0,
          0,
          0
         ],
         "yaxis": "y"
        },
        {
         "alignmentgroup": "True",
         "hovertemplate": "variable=CAUSE.CATEGORY.DETAIL_ Natural Gas<br>CAUSE.CATEGORY=%{x}<br>value=%{y}<extra></extra>",
         "legendgroup": "CAUSE.CATEGORY.DETAIL_ Natural Gas",
         "marker": {
          "color": "#00cc96",
          "pattern": {
           "shape": ""
          }
         },
         "name": "CAUSE.CATEGORY.DETAIL_ Natural Gas",
         "offsetgroup": "CAUSE.CATEGORY.DETAIL_ Natural Gas",
         "orientation": "v",
         "showlegend": true,
         "textposition": "auto",
         "type": "bar",
         "x": [
          "equipment failure",
          "fuel supply emergency",
          "intentional attack",
          "islanding",
          "public appeal",
          "severe weather",
          "system operability disruption"
         ],
         "xaxis": "x",
         "y": [
          0,
          7,
          0,
          0,
          0,
          0,
          0
         ],
         "yaxis": "y"
        },
        {
         "alignmentgroup": "True",
         "hovertemplate": "variable=CAUSE.CATEGORY.DETAIL_100 MW loadshed<br>CAUSE.CATEGORY=%{x}<br>value=%{y}<extra></extra>",
         "legendgroup": "CAUSE.CATEGORY.DETAIL_100 MW loadshed",
         "marker": {
          "color": "#ab63fa",
          "pattern": {
           "shape": ""
          }
         },
         "name": "CAUSE.CATEGORY.DETAIL_100 MW loadshed",
         "offsetgroup": "CAUSE.CATEGORY.DETAIL_100 MW loadshed",
         "orientation": "v",
         "showlegend": true,
         "textposition": "auto",
         "type": "bar",
         "x": [
          "equipment failure",
          "fuel supply emergency",
          "intentional attack",
          "islanding",
          "public appeal",
          "severe weather",
          "system operability disruption"
         ],
         "xaxis": "x",
         "y": [
          0,
          0,
          0,
          0,
          0,
          0,
          1
         ],
         "yaxis": "y"
        },
        {
         "alignmentgroup": "True",
         "hovertemplate": "variable=CAUSE.CATEGORY.DETAIL_Coal<br>CAUSE.CATEGORY=%{x}<br>value=%{y}<extra></extra>",
         "legendgroup": "CAUSE.CATEGORY.DETAIL_Coal",
         "marker": {
          "color": "#FFA15A",
          "pattern": {
           "shape": ""
          }
         },
         "name": "CAUSE.CATEGORY.DETAIL_Coal",
         "offsetgroup": "CAUSE.CATEGORY.DETAIL_Coal",
         "orientation": "v",
         "showlegend": true,
         "textposition": "auto",
         "type": "bar",
         "x": [
          "equipment failure",
          "fuel supply emergency",
          "intentional attack",
          "islanding",
          "public appeal",
          "severe weather",
          "system operability disruption"
         ],
         "xaxis": "x",
         "y": [
          0,
          6,
          0,
          0,
          0,
          0,
          0
         ],
         "yaxis": "y"
        },
        {
         "alignmentgroup": "True",
         "hovertemplate": "variable=CAUSE.CATEGORY.DETAIL_HVSubstation interruption<br>CAUSE.CATEGORY=%{x}<br>value=%{y}<extra></extra>",
         "legendgroup": "CAUSE.CATEGORY.DETAIL_HVSubstation interruption",
         "marker": {
          "color": "#19d3f3",
          "pattern": {
           "shape": ""
          }
         },
         "name": "CAUSE.CATEGORY.DETAIL_HVSubstation interruption",
         "offsetgroup": "CAUSE.CATEGORY.DETAIL_HVSubstation interruption",
         "orientation": "v",
         "showlegend": true,
         "textposition": "auto",
         "type": "bar",
         "x": [
          "equipment failure",
          "fuel supply emergency",
          "intentional attack",
          "islanding",
          "public appeal",
          "severe weather",
          "system operability disruption"
         ],
         "xaxis": "x",
         "y": [
          0,
          0,
          0,
          0,
          0,
          0,
          1
         ],
         "yaxis": "y"
        },
        {
         "alignmentgroup": "True",
         "hovertemplate": "variable=CAUSE.CATEGORY.DETAIL_Hydro<br>CAUSE.CATEGORY=%{x}<br>value=%{y}<extra></extra>",
         "legendgroup": "CAUSE.CATEGORY.DETAIL_Hydro",
         "marker": {
          "color": "#FF6692",
          "pattern": {
           "shape": ""
          }
         },
         "name": "CAUSE.CATEGORY.DETAIL_Hydro",
         "offsetgroup": "CAUSE.CATEGORY.DETAIL_Hydro",
         "orientation": "v",
         "showlegend": true,
         "textposition": "auto",
         "type": "bar",
         "x": [
          "equipment failure",
          "fuel supply emergency",
          "intentional attack",
          "islanding",
          "public appeal",
          "severe weather",
          "system operability disruption"
         ],
         "xaxis": "x",
         "y": [
          0,
          3,
          0,
          0,
          0,
          0,
          0
         ],
         "yaxis": "y"
        },
        {
         "alignmentgroup": "True",
         "hovertemplate": "variable=CAUSE.CATEGORY.DETAIL_Petroleum<br>CAUSE.CATEGORY=%{x}<br>value=%{y}<extra></extra>",
         "legendgroup": "CAUSE.CATEGORY.DETAIL_Petroleum",
         "marker": {
          "color": "#B6E880",
          "pattern": {
           "shape": ""
          }
         },
         "name": "CAUSE.CATEGORY.DETAIL_Petroleum",
         "offsetgroup": "CAUSE.CATEGORY.DETAIL_Petroleum",
         "orientation": "v",
         "showlegend": true,
         "textposition": "auto",
         "type": "bar",
         "x": [
          "equipment failure",
          "fuel supply emergency",
          "intentional attack",
          "islanding",
          "public appeal",
          "severe weather",
          "system operability disruption"
         ],
         "xaxis": "x",
         "y": [
          0,
          1,
          0,
          0,
          0,
          0,
          0
         ],
         "yaxis": "y"
        },
        {
         "alignmentgroup": "True",
         "hovertemplate": "variable=CAUSE.CATEGORY.DETAIL_breaker trip<br>CAUSE.CATEGORY=%{x}<br>value=%{y}<extra></extra>",
         "legendgroup": "CAUSE.CATEGORY.DETAIL_breaker trip",
         "marker": {
          "color": "#FF97FF",
          "pattern": {
           "shape": ""
          }
         },
         "name": "CAUSE.CATEGORY.DETAIL_breaker trip",
         "offsetgroup": "CAUSE.CATEGORY.DETAIL_breaker trip",
         "orientation": "v",
         "showlegend": true,
         "textposition": "auto",
         "type": "bar",
         "x": [
          "equipment failure",
          "fuel supply emergency",
          "intentional attack",
          "islanding",
          "public appeal",
          "severe weather",
          "system operability disruption"
         ],
         "xaxis": "x",
         "y": [
          4,
          0,
          0,
          0,
          0,
          0,
          0
         ],
         "yaxis": "y"
        },
        {
         "alignmentgroup": "True",
         "hovertemplate": "variable=CAUSE.CATEGORY.DETAIL_cables<br>CAUSE.CATEGORY=%{x}<br>value=%{y}<extra></extra>",
         "legendgroup": "CAUSE.CATEGORY.DETAIL_cables",
         "marker": {
          "color": "#FECB52",
          "pattern": {
           "shape": ""
          }
         },
         "name": "CAUSE.CATEGORY.DETAIL_cables",
         "offsetgroup": "CAUSE.CATEGORY.DETAIL_cables",
         "orientation": "v",
         "showlegend": true,
         "textposition": "auto",
         "type": "bar",
         "x": [
          "equipment failure",
          "fuel supply emergency",
          "intentional attack",
          "islanding",
          "public appeal",
          "severe weather",
          "system operability disruption"
         ],
         "xaxis": "x",
         "y": [
          1,
          0,
          0,
          0,
          0,
          0,
          0
         ],
         "yaxis": "y"
        },
        {
         "alignmentgroup": "True",
         "hovertemplate": "variable=CAUSE.CATEGORY.DETAIL_computer hardware<br>CAUSE.CATEGORY=%{x}<br>value=%{y}<extra></extra>",
         "legendgroup": "CAUSE.CATEGORY.DETAIL_computer hardware",
         "marker": {
          "color": "#636efa",
          "pattern": {
           "shape": ""
          }
         },
         "name": "CAUSE.CATEGORY.DETAIL_computer hardware",
         "offsetgroup": "CAUSE.CATEGORY.DETAIL_computer hardware",
         "orientation": "v",
         "showlegend": true,
         "textposition": "auto",
         "type": "bar",
         "x": [
          "equipment failure",
          "fuel supply emergency",
          "intentional attack",
          "islanding",
          "public appeal",
          "severe weather",
          "system operability disruption"
         ],
         "xaxis": "x",
         "y": [
          1,
          0,
          0,
          0,
          0,
          0,
          0
         ],
         "yaxis": "y"
        },
        {
         "alignmentgroup": "True",
         "hovertemplate": "variable=CAUSE.CATEGORY.DETAIL_distribution interruption<br>CAUSE.CATEGORY=%{x}<br>value=%{y}<extra></extra>",
         "legendgroup": "CAUSE.CATEGORY.DETAIL_distribution interruption",
         "marker": {
          "color": "#EF553B",
          "pattern": {
           "shape": ""
          }
         },
         "name": "CAUSE.CATEGORY.DETAIL_distribution interruption",
         "offsetgroup": "CAUSE.CATEGORY.DETAIL_distribution interruption",
         "orientation": "v",
         "showlegend": true,
         "textposition": "auto",
         "type": "bar",
         "x": [
          "equipment failure",
          "fuel supply emergency",
          "intentional attack",
          "islanding",
          "public appeal",
          "severe weather",
          "system operability disruption"
         ],
         "xaxis": "x",
         "y": [
          0,
          0,
          0,
          0,
          0,
          0,
          2
         ],
         "yaxis": "y"
        },
        {
         "alignmentgroup": "True",
         "hovertemplate": "variable=CAUSE.CATEGORY.DETAIL_earthquake<br>CAUSE.CATEGORY=%{x}<br>value=%{y}<extra></extra>",
         "legendgroup": "CAUSE.CATEGORY.DETAIL_earthquake",
         "marker": {
          "color": "#00cc96",
          "pattern": {
           "shape": ""
          }
         },
         "name": "CAUSE.CATEGORY.DETAIL_earthquake",
         "offsetgroup": "CAUSE.CATEGORY.DETAIL_earthquake",
         "orientation": "v",
         "showlegend": true,
         "textposition": "auto",
         "type": "bar",
         "x": [
          "equipment failure",
          "fuel supply emergency",
          "intentional attack",
          "islanding",
          "public appeal",
          "severe weather",
          "system operability disruption"
         ],
         "xaxis": "x",
         "y": [
          0,
          0,
          0,
          0,
          0,
          4,
          0
         ],
         "yaxis": "y"
        },
        {
         "alignmentgroup": "True",
         "hovertemplate": "variable=CAUSE.CATEGORY.DETAIL_feeder shutdown<br>CAUSE.CATEGORY=%{x}<br>value=%{y}<extra></extra>",
         "legendgroup": "CAUSE.CATEGORY.DETAIL_feeder shutdown",
         "marker": {
          "color": "#ab63fa",
          "pattern": {
           "shape": ""
          }
         },
         "name": "CAUSE.CATEGORY.DETAIL_feeder shutdown",
         "offsetgroup": "CAUSE.CATEGORY.DETAIL_feeder shutdown",
         "orientation": "v",
         "showlegend": true,
         "textposition": "auto",
         "type": "bar",
         "x": [
          "equipment failure",
          "fuel supply emergency",
          "intentional attack",
          "islanding",
          "public appeal",
          "severe weather",
          "system operability disruption"
         ],
         "xaxis": "x",
         "y": [
          1,
          0,
          0,
          0,
          0,
          0,
          0
         ],
         "yaxis": "y"
        },
        {
         "alignmentgroup": "True",
         "hovertemplate": "variable=CAUSE.CATEGORY.DETAIL_flooding<br>CAUSE.CATEGORY=%{x}<br>value=%{y}<extra></extra>",
         "legendgroup": "CAUSE.CATEGORY.DETAIL_flooding",
         "marker": {
          "color": "#FFA15A",
          "pattern": {
           "shape": ""
          }
         },
         "name": "CAUSE.CATEGORY.DETAIL_flooding",
         "offsetgroup": "CAUSE.CATEGORY.DETAIL_flooding",
         "orientation": "v",
         "showlegend": true,
         "textposition": "auto",
         "type": "bar",
         "x": [
          "equipment failure",
          "fuel supply emergency",
          "intentional attack",
          "islanding",
          "public appeal",
          "severe weather",
          "system operability disruption"
         ],
         "xaxis": "x",
         "y": [
          0,
          0,
          0,
          0,
          0,
          4,
          0
         ],
         "yaxis": "y"
        },
        {
         "alignmentgroup": "True",
         "hovertemplate": "variable=CAUSE.CATEGORY.DETAIL_fog<br>CAUSE.CATEGORY=%{x}<br>value=%{y}<extra></extra>",
         "legendgroup": "CAUSE.CATEGORY.DETAIL_fog",
         "marker": {
          "color": "#19d3f3",
          "pattern": {
           "shape": ""
          }
         },
         "name": "CAUSE.CATEGORY.DETAIL_fog",
         "offsetgroup": "CAUSE.CATEGORY.DETAIL_fog",
         "orientation": "v",
         "showlegend": true,
         "textposition": "auto",
         "type": "bar",
         "x": [
          "equipment failure",
          "fuel supply emergency",
          "intentional attack",
          "islanding",
          "public appeal",
          "severe weather",
          "system operability disruption"
         ],
         "xaxis": "x",
         "y": [
          0,
          0,
          0,
          0,
          0,
          1,
          0
         ],
         "yaxis": "y"
        },
        {
         "alignmentgroup": "True",
         "hovertemplate": "variable=CAUSE.CATEGORY.DETAIL_generator trip<br>CAUSE.CATEGORY=%{x}<br>value=%{y}<extra></extra>",
         "legendgroup": "CAUSE.CATEGORY.DETAIL_generator trip",
         "marker": {
          "color": "#FF6692",
          "pattern": {
           "shape": ""
          }
         },
         "name": "CAUSE.CATEGORY.DETAIL_generator trip",
         "offsetgroup": "CAUSE.CATEGORY.DETAIL_generator trip",
         "orientation": "v",
         "showlegend": true,
         "textposition": "auto",
         "type": "bar",
         "x": [
          "equipment failure",
          "fuel supply emergency",
          "intentional attack",
          "islanding",
          "public appeal",
          "severe weather",
          "system operability disruption"
         ],
         "xaxis": "x",
         "y": [
          16,
          0,
          0,
          0,
          0,
          0,
          0
         ],
         "yaxis": "y"
        },
        {
         "alignmentgroup": "True",
         "hovertemplate": "variable=CAUSE.CATEGORY.DETAIL_hailstorm<br>CAUSE.CATEGORY=%{x}<br>value=%{y}<extra></extra>",
         "legendgroup": "CAUSE.CATEGORY.DETAIL_hailstorm",
         "marker": {
          "color": "#B6E880",
          "pattern": {
           "shape": ""
          }
         },
         "name": "CAUSE.CATEGORY.DETAIL_hailstorm",
         "offsetgroup": "CAUSE.CATEGORY.DETAIL_hailstorm",
         "orientation": "v",
         "showlegend": true,
         "textposition": "auto",
         "type": "bar",
         "x": [
          "equipment failure",
          "fuel supply emergency",
          "intentional attack",
          "islanding",
          "public appeal",
          "severe weather",
          "system operability disruption"
         ],
         "xaxis": "x",
         "y": [
          0,
          0,
          0,
          0,
          0,
          3,
          0
         ],
         "yaxis": "y"
        },
        {
         "alignmentgroup": "True",
         "hovertemplate": "variable=CAUSE.CATEGORY.DETAIL_heatwave<br>CAUSE.CATEGORY=%{x}<br>value=%{y}<extra></extra>",
         "legendgroup": "CAUSE.CATEGORY.DETAIL_heatwave",
         "marker": {
          "color": "#FF97FF",
          "pattern": {
           "shape": ""
          }
         },
         "name": "CAUSE.CATEGORY.DETAIL_heatwave",
         "offsetgroup": "CAUSE.CATEGORY.DETAIL_heatwave",
         "orientation": "v",
         "showlegend": true,
         "textposition": "auto",
         "type": "bar",
         "x": [
          "equipment failure",
          "fuel supply emergency",
          "intentional attack",
          "islanding",
          "public appeal",
          "severe weather",
          "system operability disruption"
         ],
         "xaxis": "x",
         "y": [
          0,
          0,
          0,
          0,
          0,
          10,
          0
         ],
         "yaxis": "y"
        },
        {
         "alignmentgroup": "True",
         "hovertemplate": "variable=CAUSE.CATEGORY.DETAIL_heavy wind<br>CAUSE.CATEGORY=%{x}<br>value=%{y}<extra></extra>",
         "legendgroup": "CAUSE.CATEGORY.DETAIL_heavy wind",
         "marker": {
          "color": "#FECB52",
          "pattern": {
           "shape": ""
          }
         },
         "name": "CAUSE.CATEGORY.DETAIL_heavy wind",
         "offsetgroup": "CAUSE.CATEGORY.DETAIL_heavy wind",
         "orientation": "v",
         "showlegend": true,
         "textposition": "auto",
         "type": "bar",
         "x": [
          "equipment failure",
          "fuel supply emergency",
          "intentional attack",
          "islanding",
          "public appeal",
          "severe weather",
          "system operability disruption"
         ],
         "xaxis": "x",
         "y": [
          0,
          0,
          0,
          0,
          0,
          60,
          0
         ],
         "yaxis": "y"
        },
        {
         "alignmentgroup": "True",
         "hovertemplate": "variable=CAUSE.CATEGORY.DETAIL_hurricanes<br>CAUSE.CATEGORY=%{x}<br>value=%{y}<extra></extra>",
         "legendgroup": "CAUSE.CATEGORY.DETAIL_hurricanes",
         "marker": {
          "color": "#636efa",
          "pattern": {
           "shape": ""
          }
         },
         "name": "CAUSE.CATEGORY.DETAIL_hurricanes",
         "offsetgroup": "CAUSE.CATEGORY.DETAIL_hurricanes",
         "orientation": "v",
         "showlegend": true,
         "textposition": "auto",
         "type": "bar",
         "x": [
          "equipment failure",
          "fuel supply emergency",
          "intentional attack",
          "islanding",
          "public appeal",
          "severe weather",
          "system operability disruption"
         ],
         "xaxis": "x",
         "y": [
          0,
          0,
          0,
          0,
          0,
          73,
          0
         ],
         "yaxis": "y"
        },
        {
         "alignmentgroup": "True",
         "hovertemplate": "variable=CAUSE.CATEGORY.DETAIL_lightning<br>CAUSE.CATEGORY=%{x}<br>value=%{y}<extra></extra>",
         "legendgroup": "CAUSE.CATEGORY.DETAIL_lightning",
         "marker": {
          "color": "#EF553B",
          "pattern": {
           "shape": ""
          }
         },
         "name": "CAUSE.CATEGORY.DETAIL_lightning",
         "offsetgroup": "CAUSE.CATEGORY.DETAIL_lightning",
         "orientation": "v",
         "showlegend": true,
         "textposition": "auto",
         "type": "bar",
         "x": [
          "equipment failure",
          "fuel supply emergency",
          "intentional attack",
          "islanding",
          "public appeal",
          "severe weather",
          "system operability disruption"
         ],
         "xaxis": "x",
         "y": [
          0,
          0,
          0,
          0,
          0,
          3,
          0
         ],
         "yaxis": "y"
        },
        {
         "alignmentgroup": "True",
         "hovertemplate": "variable=CAUSE.CATEGORY.DETAIL_line fault<br>CAUSE.CATEGORY=%{x}<br>value=%{y}<extra></extra>",
         "legendgroup": "CAUSE.CATEGORY.DETAIL_line fault",
         "marker": {
          "color": "#00cc96",
          "pattern": {
           "shape": ""
          }
         },
         "name": "CAUSE.CATEGORY.DETAIL_line fault",
         "offsetgroup": "CAUSE.CATEGORY.DETAIL_line fault",
         "orientation": "v",
         "showlegend": true,
         "textposition": "auto",
         "type": "bar",
         "x": [
          "equipment failure",
          "fuel supply emergency",
          "intentional attack",
          "islanding",
          "public appeal",
          "severe weather",
          "system operability disruption"
         ],
         "xaxis": "x",
         "y": [
          1,
          0,
          0,
          0,
          0,
          0,
          0
         ],
         "yaxis": "y"
        },
        {
         "alignmentgroup": "True",
         "hovertemplate": "variable=CAUSE.CATEGORY.DETAIL_majorsystem interruption<br>CAUSE.CATEGORY=%{x}<br>value=%{y}<extra></extra>",
         "legendgroup": "CAUSE.CATEGORY.DETAIL_majorsystem interruption",
         "marker": {
          "color": "#ab63fa",
          "pattern": {
           "shape": ""
          }
         },
         "name": "CAUSE.CATEGORY.DETAIL_majorsystem interruption",
         "offsetgroup": "CAUSE.CATEGORY.DETAIL_majorsystem interruption",
         "orientation": "v",
         "showlegend": true,
         "textposition": "auto",
         "type": "bar",
         "x": [
          "equipment failure",
          "fuel supply emergency",
          "intentional attack",
          "islanding",
          "public appeal",
          "severe weather",
          "system operability disruption"
         ],
         "xaxis": "x",
         "y": [
          0,
          0,
          0,
          0,
          0,
          0,
          1
         ],
         "yaxis": "y"
        },
        {
         "alignmentgroup": "True",
         "hovertemplate": "variable=CAUSE.CATEGORY.DETAIL_plant trip<br>CAUSE.CATEGORY=%{x}<br>value=%{y}<extra></extra>",
         "legendgroup": "CAUSE.CATEGORY.DETAIL_plant trip",
         "marker": {
          "color": "#FFA15A",
          "pattern": {
           "shape": ""
          }
         },
         "name": "CAUSE.CATEGORY.DETAIL_plant trip",
         "offsetgroup": "CAUSE.CATEGORY.DETAIL_plant trip",
         "orientation": "v",
         "showlegend": true,
         "textposition": "auto",
         "type": "bar",
         "x": [
          "equipment failure",
          "fuel supply emergency",
          "intentional attack",
          "islanding",
          "public appeal",
          "severe weather",
          "system operability disruption"
         ],
         "xaxis": "x",
         "y": [
          1,
          0,
          0,
          0,
          0,
          0,
          0
         ],
         "yaxis": "y"
        },
        {
         "alignmentgroup": "True",
         "hovertemplate": "variable=CAUSE.CATEGORY.DETAIL_public appeal<br>CAUSE.CATEGORY=%{x}<br>value=%{y}<extra></extra>",
         "legendgroup": "CAUSE.CATEGORY.DETAIL_public appeal",
         "marker": {
          "color": "#19d3f3",
          "pattern": {
           "shape": ""
          }
         },
         "name": "CAUSE.CATEGORY.DETAIL_public appeal",
         "offsetgroup": "CAUSE.CATEGORY.DETAIL_public appeal",
         "orientation": "v",
         "showlegend": true,
         "textposition": "auto",
         "type": "bar",
         "x": [
          "equipment failure",
          "fuel supply emergency",
          "intentional attack",
          "islanding",
          "public appeal",
          "severe weather",
          "system operability disruption"
         ],
         "xaxis": "x",
         "y": [
          0,
          0,
          0,
          0,
          0,
          1,
          0
         ],
         "yaxis": "y"
        },
        {
         "alignmentgroup": "True",
         "hovertemplate": "variable=CAUSE.CATEGORY.DETAIL_relaying malfunction<br>CAUSE.CATEGORY=%{x}<br>value=%{y}<extra></extra>",
         "legendgroup": "CAUSE.CATEGORY.DETAIL_relaying malfunction",
         "marker": {
          "color": "#FF6692",
          "pattern": {
           "shape": ""
          }
         },
         "name": "CAUSE.CATEGORY.DETAIL_relaying malfunction",
         "offsetgroup": "CAUSE.CATEGORY.DETAIL_relaying malfunction",
         "orientation": "v",
         "showlegend": true,
         "textposition": "auto",
         "type": "bar",
         "x": [
          "equipment failure",
          "fuel supply emergency",
          "intentional attack",
          "islanding",
          "public appeal",
          "severe weather",
          "system operability disruption"
         ],
         "xaxis": "x",
         "y": [
          1,
          0,
          0,
          0,
          0,
          0,
          0
         ],
         "yaxis": "y"
        },
        {
         "alignmentgroup": "True",
         "hovertemplate": "variable=CAUSE.CATEGORY.DETAIL_sabotage<br>CAUSE.CATEGORY=%{x}<br>value=%{y}<extra></extra>",
         "legendgroup": "CAUSE.CATEGORY.DETAIL_sabotage",
         "marker": {
          "color": "#B6E880",
          "pattern": {
           "shape": ""
          }
         },
         "name": "CAUSE.CATEGORY.DETAIL_sabotage",
         "offsetgroup": "CAUSE.CATEGORY.DETAIL_sabotage",
         "orientation": "v",
         "showlegend": true,
         "textposition": "auto",
         "type": "bar",
         "x": [
          "equipment failure",
          "fuel supply emergency",
          "intentional attack",
          "islanding",
          "public appeal",
          "severe weather",
          "system operability disruption"
         ],
         "xaxis": "x",
         "y": [
          0,
          0,
          29,
          0,
          0,
          0,
          0
         ],
         "yaxis": "y"
        },
        {
         "alignmentgroup": "True",
         "hovertemplate": "variable=CAUSE.CATEGORY.DETAIL_shed load<br>CAUSE.CATEGORY=%{x}<br>value=%{y}<extra></extra>",
         "legendgroup": "CAUSE.CATEGORY.DETAIL_shed load",
         "marker": {
          "color": "#FF97FF",
          "pattern": {
           "shape": ""
          }
         },
         "name": "CAUSE.CATEGORY.DETAIL_shed load",
         "offsetgroup": "CAUSE.CATEGORY.DETAIL_shed load",
         "orientation": "v",
         "showlegend": true,
         "textposition": "auto",
         "type": "bar",
         "x": [
          "equipment failure",
          "fuel supply emergency",
          "intentional attack",
          "islanding",
          "public appeal",
          "severe weather",
          "system operability disruption"
         ],
         "xaxis": "x",
         "y": [
          0,
          0,
          0,
          0,
          0,
          0,
          1
         ],
         "yaxis": "y"
        },
        {
         "alignmentgroup": "True",
         "hovertemplate": "variable=CAUSE.CATEGORY.DETAIL_snow/ice <br>CAUSE.CATEGORY=%{x}<br>value=%{y}<extra></extra>",
         "legendgroup": "CAUSE.CATEGORY.DETAIL_snow/ice ",
         "marker": {
          "color": "#FECB52",
          "pattern": {
           "shape": ""
          }
         },
         "name": "CAUSE.CATEGORY.DETAIL_snow/ice ",
         "offsetgroup": "CAUSE.CATEGORY.DETAIL_snow/ice ",
         "orientation": "v",
         "showlegend": true,
         "textposition": "auto",
         "type": "bar",
         "x": [
          "equipment failure",
          "fuel supply emergency",
          "intentional attack",
          "islanding",
          "public appeal",
          "severe weather",
          "system operability disruption"
         ],
         "xaxis": "x",
         "y": [
          0,
          0,
          0,
          0,
          0,
          13,
          0
         ],
         "yaxis": "y"
        },
        {
         "alignmentgroup": "True",
         "hovertemplate": "variable=CAUSE.CATEGORY.DETAIL_snow/ice storm<br>CAUSE.CATEGORY=%{x}<br>value=%{y}<extra></extra>",
         "legendgroup": "CAUSE.CATEGORY.DETAIL_snow/ice storm",
         "marker": {
          "color": "#636efa",
          "pattern": {
           "shape": ""
          }
         },
         "name": "CAUSE.CATEGORY.DETAIL_snow/ice storm",
         "offsetgroup": "CAUSE.CATEGORY.DETAIL_snow/ice storm",
         "orientation": "v",
         "showlegend": true,
         "textposition": "auto",
         "type": "bar",
         "x": [
          "equipment failure",
          "fuel supply emergency",
          "intentional attack",
          "islanding",
          "public appeal",
          "severe weather",
          "system operability disruption"
         ],
         "xaxis": "x",
         "y": [
          0,
          0,
          0,
          0,
          0,
          1,
          0
         ],
         "yaxis": "y"
        },
        {
         "alignmentgroup": "True",
         "hovertemplate": "variable=CAUSE.CATEGORY.DETAIL_storm<br>CAUSE.CATEGORY=%{x}<br>value=%{y}<extra></extra>",
         "legendgroup": "CAUSE.CATEGORY.DETAIL_storm",
         "marker": {
          "color": "#EF553B",
          "pattern": {
           "shape": ""
          }
         },
         "name": "CAUSE.CATEGORY.DETAIL_storm",
         "offsetgroup": "CAUSE.CATEGORY.DETAIL_storm",
         "orientation": "v",
         "showlegend": true,
         "textposition": "auto",
         "type": "bar",
         "x": [
          "equipment failure",
          "fuel supply emergency",
          "intentional attack",
          "islanding",
          "public appeal",
          "severe weather",
          "system operability disruption"
         ],
         "xaxis": "x",
         "y": [
          0,
          0,
          0,
          0,
          0,
          41,
          0
         ],
         "yaxis": "y"
        },
        {
         "alignmentgroup": "True",
         "hovertemplate": "variable=CAUSE.CATEGORY.DETAIL_substation<br>CAUSE.CATEGORY=%{x}<br>value=%{y}<extra></extra>",
         "legendgroup": "CAUSE.CATEGORY.DETAIL_substation",
         "marker": {
          "color": "#00cc96",
          "pattern": {
           "shape": ""
          }
         },
         "name": "CAUSE.CATEGORY.DETAIL_substation",
         "offsetgroup": "CAUSE.CATEGORY.DETAIL_substation",
         "orientation": "v",
         "showlegend": true,
         "textposition": "auto",
         "type": "bar",
         "x": [
          "equipment failure",
          "fuel supply emergency",
          "intentional attack",
          "islanding",
          "public appeal",
          "severe weather",
          "system operability disruption"
         ],
         "xaxis": "x",
         "y": [
          2,
          0,
          0,
          0,
          0,
          0,
          0
         ],
         "yaxis": "y"
        },
        {
         "alignmentgroup": "True",
         "hovertemplate": "variable=CAUSE.CATEGORY.DETAIL_suspicious activity<br>CAUSE.CATEGORY=%{x}<br>value=%{y}<extra></extra>",
         "legendgroup": "CAUSE.CATEGORY.DETAIL_suspicious activity",
         "marker": {
          "color": "#ab63fa",
          "pattern": {
           "shape": ""
          }
         },
         "name": "CAUSE.CATEGORY.DETAIL_suspicious activity",
         "offsetgroup": "CAUSE.CATEGORY.DETAIL_suspicious activity",
         "orientation": "v",
         "showlegend": true,
         "textposition": "auto",
         "type": "bar",
         "x": [
          "equipment failure",
          "fuel supply emergency",
          "intentional attack",
          "islanding",
          "public appeal",
          "severe weather",
          "system operability disruption"
         ],
         "xaxis": "x",
         "y": [
          0,
          0,
          3,
          0,
          0,
          0,
          0
         ],
         "yaxis": "y"
        },
        {
         "alignmentgroup": "True",
         "hovertemplate": "variable=CAUSE.CATEGORY.DETAIL_switching<br>CAUSE.CATEGORY=%{x}<br>value=%{y}<extra></extra>",
         "legendgroup": "CAUSE.CATEGORY.DETAIL_switching",
         "marker": {
          "color": "#FFA15A",
          "pattern": {
           "shape": ""
          }
         },
         "name": "CAUSE.CATEGORY.DETAIL_switching",
         "offsetgroup": "CAUSE.CATEGORY.DETAIL_switching",
         "orientation": "v",
         "showlegend": true,
         "textposition": "auto",
         "type": "bar",
         "x": [
          "equipment failure",
          "fuel supply emergency",
          "intentional attack",
          "islanding",
          "public appeal",
          "severe weather",
          "system operability disruption"
         ],
         "xaxis": "x",
         "y": [
          2,
          0,
          0,
          0,
          0,
          0,
          0
         ],
         "yaxis": "y"
        },
        {
         "alignmentgroup": "True",
         "hovertemplate": "variable=CAUSE.CATEGORY.DETAIL_thunderstorm<br>CAUSE.CATEGORY=%{x}<br>value=%{y}<extra></extra>",
         "legendgroup": "CAUSE.CATEGORY.DETAIL_thunderstorm",
         "marker": {
          "color": "#19d3f3",
          "pattern": {
           "shape": ""
          }
         },
         "name": "CAUSE.CATEGORY.DETAIL_thunderstorm",
         "offsetgroup": "CAUSE.CATEGORY.DETAIL_thunderstorm",
         "orientation": "v",
         "showlegend": true,
         "textposition": "auto",
         "type": "bar",
         "x": [
          "equipment failure",
          "fuel supply emergency",
          "intentional attack",
          "islanding",
          "public appeal",
          "severe weather",
          "system operability disruption"
         ],
         "xaxis": "x",
         "y": [
          0,
          0,
          0,
          0,
          0,
          176,
          0
         ],
         "yaxis": "y"
        },
        {
         "alignmentgroup": "True",
         "hovertemplate": "variable=CAUSE.CATEGORY.DETAIL_thunderstorm; islanding<br>CAUSE.CATEGORY=%{x}<br>value=%{y}<extra></extra>",
         "legendgroup": "CAUSE.CATEGORY.DETAIL_thunderstorm; islanding",
         "marker": {
          "color": "#FF6692",
          "pattern": {
           "shape": ""
          }
         },
         "name": "CAUSE.CATEGORY.DETAIL_thunderstorm; islanding",
         "offsetgroup": "CAUSE.CATEGORY.DETAIL_thunderstorm; islanding",
         "orientation": "v",
         "showlegend": true,
         "textposition": "auto",
         "type": "bar",
         "x": [
          "equipment failure",
          "fuel supply emergency",
          "intentional attack",
          "islanding",
          "public appeal",
          "severe weather",
          "system operability disruption"
         ],
         "xaxis": "x",
         "y": [
          0,
          0,
          0,
          0,
          0,
          1,
          0
         ],
         "yaxis": "y"
        },
        {
         "alignmentgroup": "True",
         "hovertemplate": "variable=CAUSE.CATEGORY.DETAIL_tornadoes<br>CAUSE.CATEGORY=%{x}<br>value=%{y}<extra></extra>",
         "legendgroup": "CAUSE.CATEGORY.DETAIL_tornadoes",
         "marker": {
          "color": "#B6E880",
          "pattern": {
           "shape": ""
          }
         },
         "name": "CAUSE.CATEGORY.DETAIL_tornadoes",
         "offsetgroup": "CAUSE.CATEGORY.DETAIL_tornadoes",
         "orientation": "v",
         "showlegend": true,
         "textposition": "auto",
         "type": "bar",
         "x": [
          "equipment failure",
          "fuel supply emergency",
          "intentional attack",
          "islanding",
          "public appeal",
          "severe weather",
          "system operability disruption"
         ],
         "xaxis": "x",
         "y": [
          0,
          0,
          0,
          0,
          0,
          8,
          0
         ],
         "yaxis": "y"
        },
        {
         "alignmentgroup": "True",
         "hovertemplate": "variable=CAUSE.CATEGORY.DETAIL_transformer outage<br>CAUSE.CATEGORY=%{x}<br>value=%{y}<extra></extra>",
         "legendgroup": "CAUSE.CATEGORY.DETAIL_transformer outage",
         "marker": {
          "color": "#FF97FF",
          "pattern": {
           "shape": ""
          }
         },
         "name": "CAUSE.CATEGORY.DETAIL_transformer outage",
         "offsetgroup": "CAUSE.CATEGORY.DETAIL_transformer outage",
         "orientation": "v",
         "showlegend": true,
         "textposition": "auto",
         "type": "bar",
         "x": [
          "equipment failure",
          "fuel supply emergency",
          "intentional attack",
          "islanding",
          "public appeal",
          "severe weather",
          "system operability disruption"
         ],
         "xaxis": "x",
         "y": [
          2,
          0,
          0,
          0,
          0,
          0,
          0
         ],
         "yaxis": "y"
        },
        {
         "alignmentgroup": "True",
         "hovertemplate": "variable=CAUSE.CATEGORY.DETAIL_transmission<br>CAUSE.CATEGORY=%{x}<br>value=%{y}<extra></extra>",
         "legendgroup": "CAUSE.CATEGORY.DETAIL_transmission",
         "marker": {
          "color": "#FECB52",
          "pattern": {
           "shape": ""
          }
         },
         "name": "CAUSE.CATEGORY.DETAIL_transmission",
         "offsetgroup": "CAUSE.CATEGORY.DETAIL_transmission",
         "orientation": "v",
         "showlegend": true,
         "textposition": "auto",
         "type": "bar",
         "x": [
          "equipment failure",
          "fuel supply emergency",
          "intentional attack",
          "islanding",
          "public appeal",
          "severe weather",
          "system operability disruption"
         ],
         "xaxis": "x",
         "y": [
          3,
          0,
          0,
          0,
          0,
          0,
          0
         ],
         "yaxis": "y"
        },
        {
         "alignmentgroup": "True",
         "hovertemplate": "variable=CAUSE.CATEGORY.DETAIL_transmission interruption<br>CAUSE.CATEGORY=%{x}<br>value=%{y}<extra></extra>",
         "legendgroup": "CAUSE.CATEGORY.DETAIL_transmission interruption",
         "marker": {
          "color": "#636efa",
          "pattern": {
           "shape": ""
          }
         },
         "name": "CAUSE.CATEGORY.DETAIL_transmission interruption",
         "offsetgroup": "CAUSE.CATEGORY.DETAIL_transmission interruption",
         "orientation": "v",
         "showlegend": true,
         "textposition": "auto",
         "type": "bar",
         "x": [
          "equipment failure",
          "fuel supply emergency",
          "intentional attack",
          "islanding",
          "public appeal",
          "severe weather",
          "system operability disruption"
         ],
         "xaxis": "x",
         "y": [
          2,
          0,
          0,
          0,
          0,
          0,
          17
         ],
         "yaxis": "y"
        },
        {
         "alignmentgroup": "True",
         "hovertemplate": "variable=CAUSE.CATEGORY.DETAIL_transmission trip<br>CAUSE.CATEGORY=%{x}<br>value=%{y}<extra></extra>",
         "legendgroup": "CAUSE.CATEGORY.DETAIL_transmission trip",
         "marker": {
          "color": "#EF553B",
          "pattern": {
           "shape": ""
          }
         },
         "name": "CAUSE.CATEGORY.DETAIL_transmission trip",
         "offsetgroup": "CAUSE.CATEGORY.DETAIL_transmission trip",
         "orientation": "v",
         "showlegend": true,
         "textposition": "auto",
         "type": "bar",
         "x": [
          "equipment failure",
          "fuel supply emergency",
          "intentional attack",
          "islanding",
          "public appeal",
          "severe weather",
          "system operability disruption"
         ],
         "xaxis": "x",
         "y": [
          6,
          0,
          0,
          0,
          0,
          0,
          0
         ],
         "yaxis": "y"
        },
        {
         "alignmentgroup": "True",
         "hovertemplate": "variable=CAUSE.CATEGORY.DETAIL_uncontrolled loss<br>CAUSE.CATEGORY=%{x}<br>value=%{y}<extra></extra>",
         "legendgroup": "CAUSE.CATEGORY.DETAIL_uncontrolled loss",
         "marker": {
          "color": "#00cc96",
          "pattern": {
           "shape": ""
          }
         },
         "name": "CAUSE.CATEGORY.DETAIL_uncontrolled loss",
         "offsetgroup": "CAUSE.CATEGORY.DETAIL_uncontrolled loss",
         "orientation": "v",
         "showlegend": true,
         "textposition": "auto",
         "type": "bar",
         "x": [
          "equipment failure",
          "fuel supply emergency",
          "intentional attack",
          "islanding",
          "public appeal",
          "severe weather",
          "system operability disruption"
         ],
         "xaxis": "x",
         "y": [
          0,
          0,
          0,
          0,
          0,
          2,
          12
         ],
         "yaxis": "y"
        },
        {
         "alignmentgroup": "True",
         "hovertemplate": "variable=CAUSE.CATEGORY.DETAIL_vandalism<br>CAUSE.CATEGORY=%{x}<br>value=%{y}<extra></extra>",
         "legendgroup": "CAUSE.CATEGORY.DETAIL_vandalism",
         "marker": {
          "color": "#ab63fa",
          "pattern": {
           "shape": ""
          }
         },
         "name": "CAUSE.CATEGORY.DETAIL_vandalism",
         "offsetgroup": "CAUSE.CATEGORY.DETAIL_vandalism",
         "orientation": "v",
         "showlegend": true,
         "textposition": "auto",
         "type": "bar",
         "x": [
          "equipment failure",
          "fuel supply emergency",
          "intentional attack",
          "islanding",
          "public appeal",
          "severe weather",
          "system operability disruption"
         ],
         "xaxis": "x",
         "y": [
          0,
          0,
          325,
          0,
          0,
          0,
          0
         ],
         "yaxis": "y"
        },
        {
         "alignmentgroup": "True",
         "hovertemplate": "variable=CAUSE.CATEGORY.DETAIL_voltage reduction<br>CAUSE.CATEGORY=%{x}<br>value=%{y}<extra></extra>",
         "legendgroup": "CAUSE.CATEGORY.DETAIL_voltage reduction",
         "marker": {
          "color": "#FFA15A",
          "pattern": {
           "shape": ""
          }
         },
         "name": "CAUSE.CATEGORY.DETAIL_voltage reduction",
         "offsetgroup": "CAUSE.CATEGORY.DETAIL_voltage reduction",
         "orientation": "v",
         "showlegend": true,
         "textposition": "auto",
         "type": "bar",
         "x": [
          "equipment failure",
          "fuel supply emergency",
          "intentional attack",
          "islanding",
          "public appeal",
          "severe weather",
          "system operability disruption"
         ],
         "xaxis": "x",
         "y": [
          0,
          0,
          0,
          0,
          0,
          0,
          1
         ],
         "yaxis": "y"
        },
        {
         "alignmentgroup": "True",
         "hovertemplate": "variable=CAUSE.CATEGORY.DETAIL_wildfire<br>CAUSE.CATEGORY=%{x}<br>value=%{y}<extra></extra>",
         "legendgroup": "CAUSE.CATEGORY.DETAIL_wildfire",
         "marker": {
          "color": "#19d3f3",
          "pattern": {
           "shape": ""
          }
         },
         "name": "CAUSE.CATEGORY.DETAIL_wildfire",
         "offsetgroup": "CAUSE.CATEGORY.DETAIL_wildfire",
         "orientation": "v",
         "showlegend": true,
         "textposition": "auto",
         "type": "bar",
         "x": [
          "equipment failure",
          "fuel supply emergency",
          "intentional attack",
          "islanding",
          "public appeal",
          "severe weather",
          "system operability disruption"
         ],
         "xaxis": "x",
         "y": [
          0,
          0,
          0,
          0,
          0,
          23,
          0
         ],
         "yaxis": "y"
        },
        {
         "alignmentgroup": "True",
         "hovertemplate": "variable=CAUSE.CATEGORY.DETAIL_wind<br>CAUSE.CATEGORY=%{x}<br>value=%{y}<extra></extra>",
         "legendgroup": "CAUSE.CATEGORY.DETAIL_wind",
         "marker": {
          "color": "#FF6692",
          "pattern": {
           "shape": ""
          }
         },
         "name": "CAUSE.CATEGORY.DETAIL_wind",
         "offsetgroup": "CAUSE.CATEGORY.DETAIL_wind",
         "orientation": "v",
         "showlegend": true,
         "textposition": "auto",
         "type": "bar",
         "x": [
          "equipment failure",
          "fuel supply emergency",
          "intentional attack",
          "islanding",
          "public appeal",
          "severe weather",
          "system operability disruption"
         ],
         "xaxis": "x",
         "y": [
          0,
          0,
          0,
          0,
          0,
          2,
          0
         ],
         "yaxis": "y"
        },
        {
         "alignmentgroup": "True",
         "hovertemplate": "variable=CAUSE.CATEGORY.DETAIL_wind storm<br>CAUSE.CATEGORY=%{x}<br>value=%{y}<extra></extra>",
         "legendgroup": "CAUSE.CATEGORY.DETAIL_wind storm",
         "marker": {
          "color": "#B6E880",
          "pattern": {
           "shape": ""
          }
         },
         "name": "CAUSE.CATEGORY.DETAIL_wind storm",
         "offsetgroup": "CAUSE.CATEGORY.DETAIL_wind storm",
         "orientation": "v",
         "showlegend": true,
         "textposition": "auto",
         "type": "bar",
         "x": [
          "equipment failure",
          "fuel supply emergency",
          "intentional attack",
          "islanding",
          "public appeal",
          "severe weather",
          "system operability disruption"
         ],
         "xaxis": "x",
         "y": [
          0,
          0,
          0,
          0,
          0,
          6,
          0
         ],
         "yaxis": "y"
        },
        {
         "alignmentgroup": "True",
         "hovertemplate": "variable=CAUSE.CATEGORY.DETAIL_wind/rain<br>CAUSE.CATEGORY=%{x}<br>value=%{y}<extra></extra>",
         "legendgroup": "CAUSE.CATEGORY.DETAIL_wind/rain",
         "marker": {
          "color": "#FF97FF",
          "pattern": {
           "shape": ""
          }
         },
         "name": "CAUSE.CATEGORY.DETAIL_wind/rain",
         "offsetgroup": "CAUSE.CATEGORY.DETAIL_wind/rain",
         "orientation": "v",
         "showlegend": true,
         "textposition": "auto",
         "type": "bar",
         "x": [
          "equipment failure",
          "fuel supply emergency",
          "intentional attack",
          "islanding",
          "public appeal",
          "severe weather",
          "system operability disruption"
         ],
         "xaxis": "x",
         "y": [
          0,
          0,
          0,
          0,
          0,
          12,
          0
         ],
         "yaxis": "y"
        },
        {
         "alignmentgroup": "True",
         "hovertemplate": "variable=CAUSE.CATEGORY.DETAIL_winter<br>CAUSE.CATEGORY=%{x}<br>value=%{y}<extra></extra>",
         "legendgroup": "CAUSE.CATEGORY.DETAIL_winter",
         "marker": {
          "color": "#FECB52",
          "pattern": {
           "shape": ""
          }
         },
         "name": "CAUSE.CATEGORY.DETAIL_winter",
         "offsetgroup": "CAUSE.CATEGORY.DETAIL_winter",
         "orientation": "v",
         "showlegend": true,
         "textposition": "auto",
         "type": "bar",
         "x": [
          "equipment failure",
          "fuel supply emergency",
          "intentional attack",
          "islanding",
          "public appeal",
          "severe weather",
          "system operability disruption"
         ],
         "xaxis": "x",
         "y": [
          0,
          0,
          0,
          0,
          0,
          23,
          0
         ],
         "yaxis": "y"
        },
        {
         "alignmentgroup": "True",
         "hovertemplate": "variable=CAUSE.CATEGORY.DETAIL_winter storm<br>CAUSE.CATEGORY=%{x}<br>value=%{y}<extra></extra>",
         "legendgroup": "CAUSE.CATEGORY.DETAIL_winter storm",
         "marker": {
          "color": "#636efa",
          "pattern": {
           "shape": ""
          }
         },
         "name": "CAUSE.CATEGORY.DETAIL_winter storm",
         "offsetgroup": "CAUSE.CATEGORY.DETAIL_winter storm",
         "orientation": "v",
         "showlegend": true,
         "textposition": "auto",
         "type": "bar",
         "x": [
          "equipment failure",
          "fuel supply emergency",
          "intentional attack",
          "islanding",
          "public appeal",
          "severe weather",
          "system operability disruption"
         ],
         "xaxis": "x",
         "y": [
          0,
          0,
          0,
          0,
          0,
          100,
          0
         ],
         "yaxis": "y"
        },
        {
         "alignmentgroup": "True",
         "hovertemplate": "variable=CAUSE.CATEGORY.DETAIL_nan<br>CAUSE.CATEGORY=%{x}<br>value=%{y}<extra></extra>",
         "legendgroup": "CAUSE.CATEGORY.DETAIL_nan",
         "marker": {
          "color": "#EF553B",
          "pattern": {
           "shape": ""
          }
         },
         "name": "CAUSE.CATEGORY.DETAIL_nan",
         "offsetgroup": "CAUSE.CATEGORY.DETAIL_nan",
         "orientation": "v",
         "showlegend": true,
         "textposition": "auto",
         "type": "bar",
         "x": [
          "equipment failure",
          "fuel supply emergency",
          "intentional attack",
          "islanding",
          "public appeal",
          "severe weather",
          "system operability disruption"
         ],
         "xaxis": "x",
         "y": [
          12,
          13,
          46,
          44,
          69,
          177,
          87
         ],
         "yaxis": "y"
        }
       ],
       "layout": {
        "barmode": "relative",
        "legend": {
         "title": {
          "text": "variable"
         },
         "tracegroupgap": 0
        },
        "margin": {
         "t": 60
        },
        "template": {
         "data": {
          "bar": [
           {
            "error_x": {
             "color": "#2a3f5f"
            },
            "error_y": {
             "color": "#2a3f5f"
            },
            "marker": {
             "line": {
              "color": "#E5ECF6",
              "width": 0.5
             },
             "pattern": {
              "fillmode": "overlay",
              "size": 10,
              "solidity": 0.2
             }
            },
            "type": "bar"
           }
          ],
          "barpolar": [
           {
            "marker": {
             "line": {
              "color": "#E5ECF6",
              "width": 0.5
             },
             "pattern": {
              "fillmode": "overlay",
              "size": 10,
              "solidity": 0.2
             }
            },
            "type": "barpolar"
           }
          ],
          "carpet": [
           {
            "aaxis": {
             "endlinecolor": "#2a3f5f",
             "gridcolor": "white",
             "linecolor": "white",
             "minorgridcolor": "white",
             "startlinecolor": "#2a3f5f"
            },
            "baxis": {
             "endlinecolor": "#2a3f5f",
             "gridcolor": "white",
             "linecolor": "white",
             "minorgridcolor": "white",
             "startlinecolor": "#2a3f5f"
            },
            "type": "carpet"
           }
          ],
          "choropleth": [
           {
            "colorbar": {
             "outlinewidth": 0,
             "ticks": ""
            },
            "type": "choropleth"
           }
          ],
          "contour": [
           {
            "colorbar": {
             "outlinewidth": 0,
             "ticks": ""
            },
            "colorscale": [
             [
              0,
              "#0d0887"
             ],
             [
              0.1111111111111111,
              "#46039f"
             ],
             [
              0.2222222222222222,
              "#7201a8"
             ],
             [
              0.3333333333333333,
              "#9c179e"
             ],
             [
              0.4444444444444444,
              "#bd3786"
             ],
             [
              0.5555555555555556,
              "#d8576b"
             ],
             [
              0.6666666666666666,
              "#ed7953"
             ],
             [
              0.7777777777777778,
              "#fb9f3a"
             ],
             [
              0.8888888888888888,
              "#fdca26"
             ],
             [
              1,
              "#f0f921"
             ]
            ],
            "type": "contour"
           }
          ],
          "contourcarpet": [
           {
            "colorbar": {
             "outlinewidth": 0,
             "ticks": ""
            },
            "type": "contourcarpet"
           }
          ],
          "heatmap": [
           {
            "colorbar": {
             "outlinewidth": 0,
             "ticks": ""
            },
            "colorscale": [
             [
              0,
              "#0d0887"
             ],
             [
              0.1111111111111111,
              "#46039f"
             ],
             [
              0.2222222222222222,
              "#7201a8"
             ],
             [
              0.3333333333333333,
              "#9c179e"
             ],
             [
              0.4444444444444444,
              "#bd3786"
             ],
             [
              0.5555555555555556,
              "#d8576b"
             ],
             [
              0.6666666666666666,
              "#ed7953"
             ],
             [
              0.7777777777777778,
              "#fb9f3a"
             ],
             [
              0.8888888888888888,
              "#fdca26"
             ],
             [
              1,
              "#f0f921"
             ]
            ],
            "type": "heatmap"
           }
          ],
          "heatmapgl": [
           {
            "colorbar": {
             "outlinewidth": 0,
             "ticks": ""
            },
            "colorscale": [
             [
              0,
              "#0d0887"
             ],
             [
              0.1111111111111111,
              "#46039f"
             ],
             [
              0.2222222222222222,
              "#7201a8"
             ],
             [
              0.3333333333333333,
              "#9c179e"
             ],
             [
              0.4444444444444444,
              "#bd3786"
             ],
             [
              0.5555555555555556,
              "#d8576b"
             ],
             [
              0.6666666666666666,
              "#ed7953"
             ],
             [
              0.7777777777777778,
              "#fb9f3a"
             ],
             [
              0.8888888888888888,
              "#fdca26"
             ],
             [
              1,
              "#f0f921"
             ]
            ],
            "type": "heatmapgl"
           }
          ],
          "histogram": [
           {
            "marker": {
             "pattern": {
              "fillmode": "overlay",
              "size": 10,
              "solidity": 0.2
             }
            },
            "type": "histogram"
           }
          ],
          "histogram2d": [
           {
            "colorbar": {
             "outlinewidth": 0,
             "ticks": ""
            },
            "colorscale": [
             [
              0,
              "#0d0887"
             ],
             [
              0.1111111111111111,
              "#46039f"
             ],
             [
              0.2222222222222222,
              "#7201a8"
             ],
             [
              0.3333333333333333,
              "#9c179e"
             ],
             [
              0.4444444444444444,
              "#bd3786"
             ],
             [
              0.5555555555555556,
              "#d8576b"
             ],
             [
              0.6666666666666666,
              "#ed7953"
             ],
             [
              0.7777777777777778,
              "#fb9f3a"
             ],
             [
              0.8888888888888888,
              "#fdca26"
             ],
             [
              1,
              "#f0f921"
             ]
            ],
            "type": "histogram2d"
           }
          ],
          "histogram2dcontour": [
           {
            "colorbar": {
             "outlinewidth": 0,
             "ticks": ""
            },
            "colorscale": [
             [
              0,
              "#0d0887"
             ],
             [
              0.1111111111111111,
              "#46039f"
             ],
             [
              0.2222222222222222,
              "#7201a8"
             ],
             [
              0.3333333333333333,
              "#9c179e"
             ],
             [
              0.4444444444444444,
              "#bd3786"
             ],
             [
              0.5555555555555556,
              "#d8576b"
             ],
             [
              0.6666666666666666,
              "#ed7953"
             ],
             [
              0.7777777777777778,
              "#fb9f3a"
             ],
             [
              0.8888888888888888,
              "#fdca26"
             ],
             [
              1,
              "#f0f921"
             ]
            ],
            "type": "histogram2dcontour"
           }
          ],
          "mesh3d": [
           {
            "colorbar": {
             "outlinewidth": 0,
             "ticks": ""
            },
            "type": "mesh3d"
           }
          ],
          "parcoords": [
           {
            "line": {
             "colorbar": {
              "outlinewidth": 0,
              "ticks": ""
             }
            },
            "type": "parcoords"
           }
          ],
          "pie": [
           {
            "automargin": true,
            "type": "pie"
           }
          ],
          "scatter": [
           {
            "fillpattern": {
             "fillmode": "overlay",
             "size": 10,
             "solidity": 0.2
            },
            "type": "scatter"
           }
          ],
          "scatter3d": [
           {
            "line": {
             "colorbar": {
              "outlinewidth": 0,
              "ticks": ""
             }
            },
            "marker": {
             "colorbar": {
              "outlinewidth": 0,
              "ticks": ""
             }
            },
            "type": "scatter3d"
           }
          ],
          "scattercarpet": [
           {
            "marker": {
             "colorbar": {
              "outlinewidth": 0,
              "ticks": ""
             }
            },
            "type": "scattercarpet"
           }
          ],
          "scattergeo": [
           {
            "marker": {
             "colorbar": {
              "outlinewidth": 0,
              "ticks": ""
             }
            },
            "type": "scattergeo"
           }
          ],
          "scattergl": [
           {
            "marker": {
             "colorbar": {
              "outlinewidth": 0,
              "ticks": ""
             }
            },
            "type": "scattergl"
           }
          ],
          "scattermapbox": [
           {
            "marker": {
             "colorbar": {
              "outlinewidth": 0,
              "ticks": ""
             }
            },
            "type": "scattermapbox"
           }
          ],
          "scatterpolar": [
           {
            "marker": {
             "colorbar": {
              "outlinewidth": 0,
              "ticks": ""
             }
            },
            "type": "scatterpolar"
           }
          ],
          "scatterpolargl": [
           {
            "marker": {
             "colorbar": {
              "outlinewidth": 0,
              "ticks": ""
             }
            },
            "type": "scatterpolargl"
           }
          ],
          "scatterternary": [
           {
            "marker": {
             "colorbar": {
              "outlinewidth": 0,
              "ticks": ""
             }
            },
            "type": "scatterternary"
           }
          ],
          "surface": [
           {
            "colorbar": {
             "outlinewidth": 0,
             "ticks": ""
            },
            "colorscale": [
             [
              0,
              "#0d0887"
             ],
             [
              0.1111111111111111,
              "#46039f"
             ],
             [
              0.2222222222222222,
              "#7201a8"
             ],
             [
              0.3333333333333333,
              "#9c179e"
             ],
             [
              0.4444444444444444,
              "#bd3786"
             ],
             [
              0.5555555555555556,
              "#d8576b"
             ],
             [
              0.6666666666666666,
              "#ed7953"
             ],
             [
              0.7777777777777778,
              "#fb9f3a"
             ],
             [
              0.8888888888888888,
              "#fdca26"
             ],
             [
              1,
              "#f0f921"
             ]
            ],
            "type": "surface"
           }
          ],
          "table": [
           {
            "cells": {
             "fill": {
              "color": "#EBF0F8"
             },
             "line": {
              "color": "white"
             }
            },
            "header": {
             "fill": {
              "color": "#C8D4E3"
             },
             "line": {
              "color": "white"
             }
            },
            "type": "table"
           }
          ]
         },
         "layout": {
          "annotationdefaults": {
           "arrowcolor": "#2a3f5f",
           "arrowhead": 0,
           "arrowwidth": 1
          },
          "autotypenumbers": "strict",
          "coloraxis": {
           "colorbar": {
            "outlinewidth": 0,
            "ticks": ""
           }
          },
          "colorscale": {
           "diverging": [
            [
             0,
             "#8e0152"
            ],
            [
             0.1,
             "#c51b7d"
            ],
            [
             0.2,
             "#de77ae"
            ],
            [
             0.3,
             "#f1b6da"
            ],
            [
             0.4,
             "#fde0ef"
            ],
            [
             0.5,
             "#f7f7f7"
            ],
            [
             0.6,
             "#e6f5d0"
            ],
            [
             0.7,
             "#b8e186"
            ],
            [
             0.8,
             "#7fbc41"
            ],
            [
             0.9,
             "#4d9221"
            ],
            [
             1,
             "#276419"
            ]
           ],
           "sequential": [
            [
             0,
             "#0d0887"
            ],
            [
             0.1111111111111111,
             "#46039f"
            ],
            [
             0.2222222222222222,
             "#7201a8"
            ],
            [
             0.3333333333333333,
             "#9c179e"
            ],
            [
             0.4444444444444444,
             "#bd3786"
            ],
            [
             0.5555555555555556,
             "#d8576b"
            ],
            [
             0.6666666666666666,
             "#ed7953"
            ],
            [
             0.7777777777777778,
             "#fb9f3a"
            ],
            [
             0.8888888888888888,
             "#fdca26"
            ],
            [
             1,
             "#f0f921"
            ]
           ],
           "sequentialminus": [
            [
             0,
             "#0d0887"
            ],
            [
             0.1111111111111111,
             "#46039f"
            ],
            [
             0.2222222222222222,
             "#7201a8"
            ],
            [
             0.3333333333333333,
             "#9c179e"
            ],
            [
             0.4444444444444444,
             "#bd3786"
            ],
            [
             0.5555555555555556,
             "#d8576b"
            ],
            [
             0.6666666666666666,
             "#ed7953"
            ],
            [
             0.7777777777777778,
             "#fb9f3a"
            ],
            [
             0.8888888888888888,
             "#fdca26"
            ],
            [
             1,
             "#f0f921"
            ]
           ]
          },
          "colorway": [
           "#636efa",
           "#EF553B",
           "#00cc96",
           "#ab63fa",
           "#FFA15A",
           "#19d3f3",
           "#FF6692",
           "#B6E880",
           "#FF97FF",
           "#FECB52"
          ],
          "font": {
           "color": "#2a3f5f"
          },
          "geo": {
           "bgcolor": "white",
           "lakecolor": "white",
           "landcolor": "#E5ECF6",
           "showlakes": true,
           "showland": true,
           "subunitcolor": "white"
          },
          "hoverlabel": {
           "align": "left"
          },
          "hovermode": "closest",
          "mapbox": {
           "style": "light"
          },
          "paper_bgcolor": "white",
          "plot_bgcolor": "#E5ECF6",
          "polar": {
           "angularaxis": {
            "gridcolor": "white",
            "linecolor": "white",
            "ticks": ""
           },
           "bgcolor": "#E5ECF6",
           "radialaxis": {
            "gridcolor": "white",
            "linecolor": "white",
            "ticks": ""
           }
          },
          "scene": {
           "xaxis": {
            "backgroundcolor": "#E5ECF6",
            "gridcolor": "white",
            "gridwidth": 2,
            "linecolor": "white",
            "showbackground": true,
            "ticks": "",
            "zerolinecolor": "white"
           },
           "yaxis": {
            "backgroundcolor": "#E5ECF6",
            "gridcolor": "white",
            "gridwidth": 2,
            "linecolor": "white",
            "showbackground": true,
            "ticks": "",
            "zerolinecolor": "white"
           },
           "zaxis": {
            "backgroundcolor": "#E5ECF6",
            "gridcolor": "white",
            "gridwidth": 2,
            "linecolor": "white",
            "showbackground": true,
            "ticks": "",
            "zerolinecolor": "white"
           }
          },
          "shapedefaults": {
           "line": {
            "color": "#2a3f5f"
           }
          },
          "ternary": {
           "aaxis": {
            "gridcolor": "white",
            "linecolor": "white",
            "ticks": ""
           },
           "baxis": {
            "gridcolor": "white",
            "linecolor": "white",
            "ticks": ""
           },
           "bgcolor": "#E5ECF6",
           "caxis": {
            "gridcolor": "white",
            "linecolor": "white",
            "ticks": ""
           }
          },
          "title": {
           "x": 0.05
          },
          "xaxis": {
           "automargin": true,
           "gridcolor": "white",
           "linecolor": "white",
           "ticks": "",
           "title": {
            "standoff": 15
           },
           "zerolinecolor": "white",
           "zerolinewidth": 2
          },
          "yaxis": {
           "automargin": true,
           "gridcolor": "white",
           "linecolor": "white",
           "ticks": "",
           "title": {
            "standoff": 15
           },
           "zerolinecolor": "white",
           "zerolinewidth": 2
          }
         }
        },
        "xaxis": {
         "anchor": "y",
         "domain": [
          0,
          1
         ],
         "title": {
          "text": "CAUSE.CATEGORY"
         }
        },
        "yaxis": {
         "anchor": "x",
         "domain": [
          0,
          1
         ],
         "title": {
          "text": "value"
         }
        }
       }
      }
     },
     "metadata": {},
     "output_type": "display_data"
    }
   ],
   "source": [
    "df_cause = df_dropped[['CAUSE.CATEGORY', 'CAUSE.CATEGORY.DETAIL']]\n",
    "df_cause = pd.get_dummies(df_cause, columns=['CAUSE.CATEGORY.DETAIL'], dummy_na=True, prefix='CAUSE.CATEGORY.DETAIL')\n",
    "df_cause.groupby('CAUSE.CATEGORY').agg('sum').plot(kind='bar')\n",
    "#df_cause"
   ]
  },
  {
   "cell_type": "code",
   "execution_count": 20,
   "metadata": {},
   "outputs": [
    {
     "data": {
      "text/html": [
       "<div>\n",
       "<style scoped>\n",
       "    .dataframe tbody tr th:only-of-type {\n",
       "        vertical-align: middle;\n",
       "    }\n",
       "\n",
       "    .dataframe tbody tr th {\n",
       "        vertical-align: top;\n",
       "    }\n",
       "\n",
       "    .dataframe thead th {\n",
       "        text-align: right;\n",
       "    }\n",
       "</style>\n",
       "<table border=\"1\" class=\"dataframe\">\n",
       "  <thead>\n",
       "    <tr style=\"text-align: right;\">\n",
       "      <th></th>\n",
       "      <th>CAUSE.CATEGORY</th>\n",
       "      <th>CAUSE.CATEGORY.DETAIL_ Coal</th>\n",
       "      <th>CAUSE.CATEGORY.DETAIL_ Hydro</th>\n",
       "      <th>CAUSE.CATEGORY.DETAIL_ Natural Gas</th>\n",
       "      <th>CAUSE.CATEGORY.DETAIL_100 MW loadshed</th>\n",
       "      <th>CAUSE.CATEGORY.DETAIL_Coal</th>\n",
       "      <th>CAUSE.CATEGORY.DETAIL_HVSubstation interruption</th>\n",
       "      <th>CAUSE.CATEGORY.DETAIL_Hydro</th>\n",
       "      <th>CAUSE.CATEGORY.DETAIL_Petroleum</th>\n",
       "      <th>CAUSE.CATEGORY.DETAIL_breaker trip</th>\n",
       "      <th>...</th>\n",
       "      <th>CAUSE.CATEGORY.DETAIL_uncontrolled loss</th>\n",
       "      <th>CAUSE.CATEGORY.DETAIL_vandalism</th>\n",
       "      <th>CAUSE.CATEGORY.DETAIL_voltage reduction</th>\n",
       "      <th>CAUSE.CATEGORY.DETAIL_wildfire</th>\n",
       "      <th>CAUSE.CATEGORY.DETAIL_wind</th>\n",
       "      <th>CAUSE.CATEGORY.DETAIL_wind storm</th>\n",
       "      <th>CAUSE.CATEGORY.DETAIL_wind/rain</th>\n",
       "      <th>CAUSE.CATEGORY.DETAIL_winter</th>\n",
       "      <th>CAUSE.CATEGORY.DETAIL_winter storm</th>\n",
       "      <th>CAUSE.CATEGORY.DETAIL_nan</th>\n",
       "    </tr>\n",
       "  </thead>\n",
       "  <tbody>\n",
       "    <tr>\n",
       "      <th>0</th>\n",
       "      <td>severe weather</td>\n",
       "      <td>0</td>\n",
       "      <td>0</td>\n",
       "      <td>0</td>\n",
       "      <td>0</td>\n",
       "      <td>0</td>\n",
       "      <td>0</td>\n",
       "      <td>0</td>\n",
       "      <td>0</td>\n",
       "      <td>0</td>\n",
       "      <td>...</td>\n",
       "      <td>0</td>\n",
       "      <td>0</td>\n",
       "      <td>0</td>\n",
       "      <td>0</td>\n",
       "      <td>0</td>\n",
       "      <td>0</td>\n",
       "      <td>0</td>\n",
       "      <td>0</td>\n",
       "      <td>0</td>\n",
       "      <td>1</td>\n",
       "    </tr>\n",
       "    <tr>\n",
       "      <th>1</th>\n",
       "      <td>intentional attack</td>\n",
       "      <td>0</td>\n",
       "      <td>0</td>\n",
       "      <td>0</td>\n",
       "      <td>0</td>\n",
       "      <td>0</td>\n",
       "      <td>0</td>\n",
       "      <td>0</td>\n",
       "      <td>0</td>\n",
       "      <td>0</td>\n",
       "      <td>...</td>\n",
       "      <td>0</td>\n",
       "      <td>1</td>\n",
       "      <td>0</td>\n",
       "      <td>0</td>\n",
       "      <td>0</td>\n",
       "      <td>0</td>\n",
       "      <td>0</td>\n",
       "      <td>0</td>\n",
       "      <td>0</td>\n",
       "      <td>0</td>\n",
       "    </tr>\n",
       "    <tr>\n",
       "      <th>2</th>\n",
       "      <td>severe weather</td>\n",
       "      <td>0</td>\n",
       "      <td>0</td>\n",
       "      <td>0</td>\n",
       "      <td>0</td>\n",
       "      <td>0</td>\n",
       "      <td>0</td>\n",
       "      <td>0</td>\n",
       "      <td>0</td>\n",
       "      <td>0</td>\n",
       "      <td>...</td>\n",
       "      <td>0</td>\n",
       "      <td>0</td>\n",
       "      <td>0</td>\n",
       "      <td>0</td>\n",
       "      <td>0</td>\n",
       "      <td>0</td>\n",
       "      <td>0</td>\n",
       "      <td>0</td>\n",
       "      <td>0</td>\n",
       "      <td>0</td>\n",
       "    </tr>\n",
       "    <tr>\n",
       "      <th>3</th>\n",
       "      <td>severe weather</td>\n",
       "      <td>0</td>\n",
       "      <td>0</td>\n",
       "      <td>0</td>\n",
       "      <td>0</td>\n",
       "      <td>0</td>\n",
       "      <td>0</td>\n",
       "      <td>0</td>\n",
       "      <td>0</td>\n",
       "      <td>0</td>\n",
       "      <td>...</td>\n",
       "      <td>0</td>\n",
       "      <td>0</td>\n",
       "      <td>0</td>\n",
       "      <td>0</td>\n",
       "      <td>0</td>\n",
       "      <td>0</td>\n",
       "      <td>0</td>\n",
       "      <td>0</td>\n",
       "      <td>0</td>\n",
       "      <td>0</td>\n",
       "    </tr>\n",
       "    <tr>\n",
       "      <th>4</th>\n",
       "      <td>severe weather</td>\n",
       "      <td>0</td>\n",
       "      <td>0</td>\n",
       "      <td>0</td>\n",
       "      <td>0</td>\n",
       "      <td>0</td>\n",
       "      <td>0</td>\n",
       "      <td>0</td>\n",
       "      <td>0</td>\n",
       "      <td>0</td>\n",
       "      <td>...</td>\n",
       "      <td>0</td>\n",
       "      <td>0</td>\n",
       "      <td>0</td>\n",
       "      <td>0</td>\n",
       "      <td>0</td>\n",
       "      <td>0</td>\n",
       "      <td>0</td>\n",
       "      <td>0</td>\n",
       "      <td>0</td>\n",
       "      <td>1</td>\n",
       "    </tr>\n",
       "    <tr>\n",
       "      <th>...</th>\n",
       "      <td>...</td>\n",
       "      <td>...</td>\n",
       "      <td>...</td>\n",
       "      <td>...</td>\n",
       "      <td>...</td>\n",
       "      <td>...</td>\n",
       "      <td>...</td>\n",
       "      <td>...</td>\n",
       "      <td>...</td>\n",
       "      <td>...</td>\n",
       "      <td>...</td>\n",
       "      <td>...</td>\n",
       "      <td>...</td>\n",
       "      <td>...</td>\n",
       "      <td>...</td>\n",
       "      <td>...</td>\n",
       "      <td>...</td>\n",
       "      <td>...</td>\n",
       "      <td>...</td>\n",
       "      <td>...</td>\n",
       "      <td>...</td>\n",
       "    </tr>\n",
       "    <tr>\n",
       "      <th>1471</th>\n",
       "      <td>intentional attack</td>\n",
       "      <td>0</td>\n",
       "      <td>0</td>\n",
       "      <td>0</td>\n",
       "      <td>0</td>\n",
       "      <td>0</td>\n",
       "      <td>0</td>\n",
       "      <td>0</td>\n",
       "      <td>0</td>\n",
       "      <td>0</td>\n",
       "      <td>...</td>\n",
       "      <td>0</td>\n",
       "      <td>0</td>\n",
       "      <td>0</td>\n",
       "      <td>0</td>\n",
       "      <td>0</td>\n",
       "      <td>0</td>\n",
       "      <td>0</td>\n",
       "      <td>0</td>\n",
       "      <td>0</td>\n",
       "      <td>0</td>\n",
       "    </tr>\n",
       "    <tr>\n",
       "      <th>1472</th>\n",
       "      <td>system operability disruption</td>\n",
       "      <td>0</td>\n",
       "      <td>0</td>\n",
       "      <td>0</td>\n",
       "      <td>0</td>\n",
       "      <td>0</td>\n",
       "      <td>0</td>\n",
       "      <td>0</td>\n",
       "      <td>0</td>\n",
       "      <td>0</td>\n",
       "      <td>...</td>\n",
       "      <td>1</td>\n",
       "      <td>0</td>\n",
       "      <td>0</td>\n",
       "      <td>0</td>\n",
       "      <td>0</td>\n",
       "      <td>0</td>\n",
       "      <td>0</td>\n",
       "      <td>0</td>\n",
       "      <td>0</td>\n",
       "      <td>0</td>\n",
       "    </tr>\n",
       "    <tr>\n",
       "      <th>1473</th>\n",
       "      <td>public appeal</td>\n",
       "      <td>0</td>\n",
       "      <td>0</td>\n",
       "      <td>0</td>\n",
       "      <td>0</td>\n",
       "      <td>0</td>\n",
       "      <td>0</td>\n",
       "      <td>0</td>\n",
       "      <td>0</td>\n",
       "      <td>0</td>\n",
       "      <td>...</td>\n",
       "      <td>0</td>\n",
       "      <td>0</td>\n",
       "      <td>0</td>\n",
       "      <td>0</td>\n",
       "      <td>0</td>\n",
       "      <td>0</td>\n",
       "      <td>0</td>\n",
       "      <td>0</td>\n",
       "      <td>0</td>\n",
       "      <td>1</td>\n",
       "    </tr>\n",
       "    <tr>\n",
       "      <th>1474</th>\n",
       "      <td>islanding</td>\n",
       "      <td>0</td>\n",
       "      <td>0</td>\n",
       "      <td>0</td>\n",
       "      <td>0</td>\n",
       "      <td>0</td>\n",
       "      <td>0</td>\n",
       "      <td>0</td>\n",
       "      <td>0</td>\n",
       "      <td>0</td>\n",
       "      <td>...</td>\n",
       "      <td>0</td>\n",
       "      <td>0</td>\n",
       "      <td>0</td>\n",
       "      <td>0</td>\n",
       "      <td>0</td>\n",
       "      <td>0</td>\n",
       "      <td>0</td>\n",
       "      <td>0</td>\n",
       "      <td>0</td>\n",
       "      <td>1</td>\n",
       "    </tr>\n",
       "    <tr>\n",
       "      <th>1475</th>\n",
       "      <td>islanding</td>\n",
       "      <td>0</td>\n",
       "      <td>0</td>\n",
       "      <td>0</td>\n",
       "      <td>0</td>\n",
       "      <td>0</td>\n",
       "      <td>0</td>\n",
       "      <td>0</td>\n",
       "      <td>0</td>\n",
       "      <td>0</td>\n",
       "      <td>...</td>\n",
       "      <td>0</td>\n",
       "      <td>0</td>\n",
       "      <td>0</td>\n",
       "      <td>0</td>\n",
       "      <td>0</td>\n",
       "      <td>0</td>\n",
       "      <td>0</td>\n",
       "      <td>0</td>\n",
       "      <td>0</td>\n",
       "      <td>1</td>\n",
       "    </tr>\n",
       "  </tbody>\n",
       "</table>\n",
       "<p>1476 rows × 53 columns</p>\n",
       "</div>"
      ],
      "text/plain": [
       "                     CAUSE.CATEGORY  CAUSE.CATEGORY.DETAIL_ Coal  \\\n",
       "0                    severe weather                            0   \n",
       "1                intentional attack                            0   \n",
       "2                    severe weather                            0   \n",
       "3                    severe weather                            0   \n",
       "4                    severe weather                            0   \n",
       "...                             ...                          ...   \n",
       "1471             intentional attack                            0   \n",
       "1472  system operability disruption                            0   \n",
       "1473                  public appeal                            0   \n",
       "1474                      islanding                            0   \n",
       "1475                      islanding                            0   \n",
       "\n",
       "      CAUSE.CATEGORY.DETAIL_ Hydro  CAUSE.CATEGORY.DETAIL_ Natural Gas  \\\n",
       "0                                0                                   0   \n",
       "1                                0                                   0   \n",
       "2                                0                                   0   \n",
       "3                                0                                   0   \n",
       "4                                0                                   0   \n",
       "...                            ...                                 ...   \n",
       "1471                             0                                   0   \n",
       "1472                             0                                   0   \n",
       "1473                             0                                   0   \n",
       "1474                             0                                   0   \n",
       "1475                             0                                   0   \n",
       "\n",
       "      CAUSE.CATEGORY.DETAIL_100 MW loadshed  CAUSE.CATEGORY.DETAIL_Coal  \\\n",
       "0                                         0                           0   \n",
       "1                                         0                           0   \n",
       "2                                         0                           0   \n",
       "3                                         0                           0   \n",
       "4                                         0                           0   \n",
       "...                                     ...                         ...   \n",
       "1471                                      0                           0   \n",
       "1472                                      0                           0   \n",
       "1473                                      0                           0   \n",
       "1474                                      0                           0   \n",
       "1475                                      0                           0   \n",
       "\n",
       "      CAUSE.CATEGORY.DETAIL_HVSubstation interruption  \\\n",
       "0                                                   0   \n",
       "1                                                   0   \n",
       "2                                                   0   \n",
       "3                                                   0   \n",
       "4                                                   0   \n",
       "...                                               ...   \n",
       "1471                                                0   \n",
       "1472                                                0   \n",
       "1473                                                0   \n",
       "1474                                                0   \n",
       "1475                                                0   \n",
       "\n",
       "      CAUSE.CATEGORY.DETAIL_Hydro  CAUSE.CATEGORY.DETAIL_Petroleum  \\\n",
       "0                               0                                0   \n",
       "1                               0                                0   \n",
       "2                               0                                0   \n",
       "3                               0                                0   \n",
       "4                               0                                0   \n",
       "...                           ...                              ...   \n",
       "1471                            0                                0   \n",
       "1472                            0                                0   \n",
       "1473                            0                                0   \n",
       "1474                            0                                0   \n",
       "1475                            0                                0   \n",
       "\n",
       "      CAUSE.CATEGORY.DETAIL_breaker trip  ...  \\\n",
       "0                                      0  ...   \n",
       "1                                      0  ...   \n",
       "2                                      0  ...   \n",
       "3                                      0  ...   \n",
       "4                                      0  ...   \n",
       "...                                  ...  ...   \n",
       "1471                                   0  ...   \n",
       "1472                                   0  ...   \n",
       "1473                                   0  ...   \n",
       "1474                                   0  ...   \n",
       "1475                                   0  ...   \n",
       "\n",
       "      CAUSE.CATEGORY.DETAIL_uncontrolled loss  \\\n",
       "0                                           0   \n",
       "1                                           0   \n",
       "2                                           0   \n",
       "3                                           0   \n",
       "4                                           0   \n",
       "...                                       ...   \n",
       "1471                                        0   \n",
       "1472                                        1   \n",
       "1473                                        0   \n",
       "1474                                        0   \n",
       "1475                                        0   \n",
       "\n",
       "      CAUSE.CATEGORY.DETAIL_vandalism  \\\n",
       "0                                   0   \n",
       "1                                   1   \n",
       "2                                   0   \n",
       "3                                   0   \n",
       "4                                   0   \n",
       "...                               ...   \n",
       "1471                                0   \n",
       "1472                                0   \n",
       "1473                                0   \n",
       "1474                                0   \n",
       "1475                                0   \n",
       "\n",
       "      CAUSE.CATEGORY.DETAIL_voltage reduction  CAUSE.CATEGORY.DETAIL_wildfire  \\\n",
       "0                                           0                               0   \n",
       "1                                           0                               0   \n",
       "2                                           0                               0   \n",
       "3                                           0                               0   \n",
       "4                                           0                               0   \n",
       "...                                       ...                             ...   \n",
       "1471                                        0                               0   \n",
       "1472                                        0                               0   \n",
       "1473                                        0                               0   \n",
       "1474                                        0                               0   \n",
       "1475                                        0                               0   \n",
       "\n",
       "      CAUSE.CATEGORY.DETAIL_wind  CAUSE.CATEGORY.DETAIL_wind storm  \\\n",
       "0                              0                                 0   \n",
       "1                              0                                 0   \n",
       "2                              0                                 0   \n",
       "3                              0                                 0   \n",
       "4                              0                                 0   \n",
       "...                          ...                               ...   \n",
       "1471                           0                                 0   \n",
       "1472                           0                                 0   \n",
       "1473                           0                                 0   \n",
       "1474                           0                                 0   \n",
       "1475                           0                                 0   \n",
       "\n",
       "      CAUSE.CATEGORY.DETAIL_wind/rain  CAUSE.CATEGORY.DETAIL_winter  \\\n",
       "0                                   0                             0   \n",
       "1                                   0                             0   \n",
       "2                                   0                             0   \n",
       "3                                   0                             0   \n",
       "4                                   0                             0   \n",
       "...                               ...                           ...   \n",
       "1471                                0                             0   \n",
       "1472                                0                             0   \n",
       "1473                                0                             0   \n",
       "1474                                0                             0   \n",
       "1475                                0                             0   \n",
       "\n",
       "      CAUSE.CATEGORY.DETAIL_winter storm  CAUSE.CATEGORY.DETAIL_nan  \n",
       "0                                      0                          1  \n",
       "1                                      0                          0  \n",
       "2                                      0                          0  \n",
       "3                                      0                          0  \n",
       "4                                      0                          1  \n",
       "...                                  ...                        ...  \n",
       "1471                                   0                          0  \n",
       "1472                                   0                          0  \n",
       "1473                                   0                          1  \n",
       "1474                                   0                          1  \n",
       "1475                                   0                          1  \n",
       "\n",
       "[1476 rows x 53 columns]"
      ]
     },
     "execution_count": 20,
     "metadata": {},
     "output_type": "execute_result"
    }
   ],
   "source": [
    "df_cause.reset_index().drop(columns='OBS')#.sum(axis=0)"
   ]
  },
  {
   "cell_type": "markdown",
   "metadata": {},
   "source": [
    "# Assessment of Missingness"
   ]
  },
  {
   "cell_type": "code",
   "execution_count": 21,
   "metadata": {
    "ExecuteTime": {
     "end_time": "2019-10-31T23:36:28.662099Z",
     "start_time": "2019-10-31T23:36:28.660016Z"
    }
   },
   "outputs": [],
   "source": [
    "# TODO"
   ]
  },
  {
   "cell_type": "markdown",
   "metadata": {},
   "source": [
    "# Hypothesis Testing"
   ]
  },
  {
   "cell_type": "code",
   "execution_count": 22,
   "metadata": {
    "ExecuteTime": {
     "end_time": "2019-10-31T23:36:28.666489Z",
     "start_time": "2019-10-31T23:36:28.664381Z"
    }
   },
   "outputs": [],
   "source": [
    "# TODO"
   ]
  },
  {
   "cell_type": "markdown",
   "metadata": {},
   "source": [
    "Null Hypothesis ($H_0$): There is a correlation between the two variables.\n",
    "\n",
    "Alternative Hypothesis ($H_A$): There is no correlation between the two variables."
   ]
  },
  {
   "cell_type": "code",
   "execution_count": 23,
   "metadata": {},
   "outputs": [
    {
     "data": {
      "image/png": "[encoded data removed]",
      "text/plain": [
       "<Figure size 640x480 with 1 Axes>"
      ]
     },
     "metadata": {},
     "output_type": "display_data"
    },
    {
     "name": "stdout",
     "output_type": "stream",
     "text": [
      "some values are not shown on the graph in order to see more details where the bulk of the data is\n"
     ]
    }
   ],
   "source": [
    "plt.scatter(df['OUTAGE.DURATION'], df['CUSTOMERS.AFFECTED'], s=5)\n",
    "plt.xlim(0, 25000)\n",
    "plt.ylim(0, 1000000)\n",
    "plt.show()\n",
    "print('some values are not shown on the graph in order to see more details where the bulk of the data is')"
   ]
  },
  {
   "cell_type": "code",
   "execution_count": 24,
   "metadata": {},
   "outputs": [
    {
     "data": {
      "text/html": [
       "<div>\n",
       "<style scoped>\n",
       "    .dataframe tbody tr th:only-of-type {\n",
       "        vertical-align: middle;\n",
       "    }\n",
       "\n",
       "    .dataframe tbody tr th {\n",
       "        vertical-align: top;\n",
       "    }\n",
       "\n",
       "    .dataframe thead th {\n",
       "        text-align: right;\n",
       "    }\n",
       "</style>\n",
       "<table border=\"1\" class=\"dataframe\">\n",
       "  <thead>\n",
       "    <tr style=\"text-align: right;\">\n",
       "      <th></th>\n",
       "      <th>OUTAGE.DURATION</th>\n",
       "      <th>CUSTOMERS.AFFECTED</th>\n",
       "    </tr>\n",
       "    <tr>\n",
       "      <th>OBS</th>\n",
       "      <th></th>\n",
       "      <th></th>\n",
       "    </tr>\n",
       "  </thead>\n",
       "  <tbody>\n",
       "    <tr>\n",
       "      <th>1.0</th>\n",
       "      <td>3060</td>\n",
       "      <td>70000.0</td>\n",
       "    </tr>\n",
       "    <tr>\n",
       "      <th>3.0</th>\n",
       "      <td>3000</td>\n",
       "      <td>70000.0</td>\n",
       "    </tr>\n",
       "    <tr>\n",
       "      <th>4.0</th>\n",
       "      <td>2550</td>\n",
       "      <td>68200.0</td>\n",
       "    </tr>\n",
       "    <tr>\n",
       "      <th>5.0</th>\n",
       "      <td>1740</td>\n",
       "      <td>250000.0</td>\n",
       "    </tr>\n",
       "    <tr>\n",
       "      <th>6.0</th>\n",
       "      <td>1860</td>\n",
       "      <td>60000.0</td>\n",
       "    </tr>\n",
       "    <tr>\n",
       "      <th>...</th>\n",
       "      <td>...</td>\n",
       "      <td>...</td>\n",
       "    </tr>\n",
       "    <tr>\n",
       "      <th>1523.0</th>\n",
       "      <td>95</td>\n",
       "      <td>35000.0</td>\n",
       "    </tr>\n",
       "    <tr>\n",
       "      <th>1524.0</th>\n",
       "      <td>360</td>\n",
       "      <td>0.0</td>\n",
       "    </tr>\n",
       "    <tr>\n",
       "      <th>1525.0</th>\n",
       "      <td>1548</td>\n",
       "      <td>0.0</td>\n",
       "    </tr>\n",
       "    <tr>\n",
       "      <th>1527.0</th>\n",
       "      <td>0</td>\n",
       "      <td>0.0</td>\n",
       "    </tr>\n",
       "    <tr>\n",
       "      <th>1530.0</th>\n",
       "      <td>720</td>\n",
       "      <td>34500.0</td>\n",
       "    </tr>\n",
       "  </tbody>\n",
       "</table>\n",
       "<p>1056 rows × 2 columns</p>\n",
       "</div>"
      ],
      "text/plain": [
       "       OUTAGE.DURATION  CUSTOMERS.AFFECTED\n",
       "OBS                                       \n",
       "1.0               3060             70000.0\n",
       "3.0               3000             70000.0\n",
       "4.0               2550             68200.0\n",
       "5.0               1740            250000.0\n",
       "6.0               1860             60000.0\n",
       "...                ...                 ...\n",
       "1523.0              95             35000.0\n",
       "1524.0             360                 0.0\n",
       "1525.0            1548                 0.0\n",
       "1527.0               0                 0.0\n",
       "1530.0             720             34500.0\n",
       "\n",
       "[1056 rows x 2 columns]"
      ]
     },
     "execution_count": 24,
     "metadata": {},
     "output_type": "execute_result"
    }
   ],
   "source": [
    "df_hypothesis = df[['OUTAGE.DURATION', 'CUSTOMERS.AFFECTED']].dropna()\n",
    "df_hypothesis"
   ]
  },
  {
   "cell_type": "code",
   "execution_count": 25,
   "metadata": {},
   "outputs": [
    {
     "data": {
      "text/plain": [
       "PearsonRResult(statistic=0.2619155954835712, pvalue=5.03140871848003e-18)"
      ]
     },
     "execution_count": 25,
     "metadata": {},
     "output_type": "execute_result"
    }
   ],
   "source": [
    "scipy.stats.pearsonr(df_hypothesis['OUTAGE.DURATION'], df_hypothesis['CUSTOMERS.AFFECTED'])\n",
    "#p_value, correlation"
   ]
  },
  {
   "cell_type": "code",
   "execution_count": 26,
   "metadata": {},
   "outputs": [
    {
     "data": {
      "text/html": [
       "<div>\n",
       "<style scoped>\n",
       "    .dataframe tbody tr th:only-of-type {\n",
       "        vertical-align: middle;\n",
       "    }\n",
       "\n",
       "    .dataframe tbody tr th {\n",
       "        vertical-align: top;\n",
       "    }\n",
       "\n",
       "    .dataframe thead th {\n",
       "        text-align: right;\n",
       "    }\n",
       "</style>\n",
       "<table border=\"1\" class=\"dataframe\">\n",
       "  <thead>\n",
       "    <tr style=\"text-align: right;\">\n",
       "      <th></th>\n",
       "      <th>OUTAGE.DURATION</th>\n",
       "      <th>CUSTOMERS.AFFECTED</th>\n",
       "    </tr>\n",
       "    <tr>\n",
       "      <th>OBS</th>\n",
       "      <th></th>\n",
       "      <th></th>\n",
       "    </tr>\n",
       "  </thead>\n",
       "  <tbody>\n",
       "    <tr>\n",
       "      <th>1.0</th>\n",
       "      <td>3060</td>\n",
       "      <td>120377.0</td>\n",
       "    </tr>\n",
       "    <tr>\n",
       "      <th>3.0</th>\n",
       "      <td>3000</td>\n",
       "      <td>1271893.0</td>\n",
       "    </tr>\n",
       "    <tr>\n",
       "      <th>4.0</th>\n",
       "      <td>2550</td>\n",
       "      <td>0.0</td>\n",
       "    </tr>\n",
       "    <tr>\n",
       "      <th>5.0</th>\n",
       "      <td>1740</td>\n",
       "      <td>190000.0</td>\n",
       "    </tr>\n",
       "    <tr>\n",
       "      <th>6.0</th>\n",
       "      <td>1860</td>\n",
       "      <td>0.0</td>\n",
       "    </tr>\n",
       "    <tr>\n",
       "      <th>...</th>\n",
       "      <td>...</td>\n",
       "      <td>...</td>\n",
       "    </tr>\n",
       "    <tr>\n",
       "      <th>1523.0</th>\n",
       "      <td>95</td>\n",
       "      <td>153000.0</td>\n",
       "    </tr>\n",
       "    <tr>\n",
       "      <th>1524.0</th>\n",
       "      <td>360</td>\n",
       "      <td>211266.0</td>\n",
       "    </tr>\n",
       "    <tr>\n",
       "      <th>1525.0</th>\n",
       "      <td>1548</td>\n",
       "      <td>131000.0</td>\n",
       "    </tr>\n",
       "    <tr>\n",
       "      <th>1527.0</th>\n",
       "      <td>0</td>\n",
       "      <td>10000.0</td>\n",
       "    </tr>\n",
       "    <tr>\n",
       "      <th>1530.0</th>\n",
       "      <td>720</td>\n",
       "      <td>1069730.0</td>\n",
       "    </tr>\n",
       "  </tbody>\n",
       "</table>\n",
       "<p>1056 rows × 2 columns</p>\n",
       "</div>"
      ],
      "text/plain": [
       "       OUTAGE.DURATION  CUSTOMERS.AFFECTED\n",
       "OBS                                       \n",
       "1.0               3060            120377.0\n",
       "3.0               3000           1271893.0\n",
       "4.0               2550                 0.0\n",
       "5.0               1740            190000.0\n",
       "6.0               1860                 0.0\n",
       "...                ...                 ...\n",
       "1523.0              95            153000.0\n",
       "1524.0             360            211266.0\n",
       "1525.0            1548            131000.0\n",
       "1527.0               0             10000.0\n",
       "1530.0             720           1069730.0\n",
       "\n",
       "[1056 rows x 2 columns]"
      ]
     },
     "execution_count": 26,
     "metadata": {},
     "output_type": "execute_result"
    }
   ],
   "source": [
    "df_copy = df_hypothesis.copy()\n",
    "df_copy['CUSTOMERS.AFFECTED'] = np.random.permutation(df_copy['CUSTOMERS.AFFECTED'])\n",
    "df_copy"
   ]
  },
  {
   "cell_type": "code",
   "execution_count": 27,
   "metadata": {},
   "outputs": [
    {
     "data": {
      "image/png": "[encoded data removed]",
      "text/plain": [
       "<Figure size 640x480 with 1 Axes>"
      ]
     },
     "metadata": {},
     "output_type": "display_data"
    }
   ],
   "source": [
    "plt.scatter(df_copy['OUTAGE.DURATION'], df_copy['CUSTOMERS.AFFECTED'], s=5)\n",
    "plt.xlim(0, 25000)\n",
    "plt.ylim(0, 1000000)\n",
    "plt.show()"
   ]
  },
  {
   "cell_type": "code",
   "execution_count": 42,
   "metadata": {},
   "outputs": [
    {
     "data": {
      "text/plain": [
       "Index(['YEAR', 'MONTH', 'ANOMALY.LEVEL', 'OUTAGE.START.DATE',\n",
       "       'OUTAGE.RESTORATION.DATE', 'OUTAGE.DURATION', 'DEMAND.LOSS.MW',\n",
       "       'CUSTOMERS.AFFECTED', 'RES.PRICE', 'COM.PRICE', 'IND.PRICE',\n",
       "       'TOTAL.PRICE', 'RES.SALES', 'COM.SALES', 'IND.SALES', 'TOTAL.SALES',\n",
       "       'RES.PERCEN', 'COM.PERCEN', 'IND.PERCEN', 'RES.CUSTOMERS',\n",
       "       'COM.CUSTOMERS', 'IND.CUSTOMERS', 'TOTAL.CUSTOMERS', 'RES.CUST.PCT',\n",
       "       'COM.CUST.PCT', 'IND.CUST.PCT', 'PC.REALGSP.STATE', 'PC.REALGSP.USA',\n",
       "       'PC.REALGSP.REL', 'PC.REALGSP.CHANGE', 'UTIL.REALGSP', 'TOTAL.REALGSP',\n",
       "       'UTIL.CONTRI', 'PI.UTIL.OFUSA', 'POPULATION', 'POPPCT_URBAN',\n",
       "       'POPPCT_UC', 'POPDEN_URBAN', 'POPDEN_UC', 'POPDEN_RURAL',\n",
       "       'AREAPCT_URBAN', 'AREAPCT_UC', 'PCT_LAND', 'PCT_WATER_TOT',\n",
       "       'PCT_WATER_INLAND'],\n",
       "      dtype='object')"
      ]
     },
     "execution_count": 42,
     "metadata": {},
     "output_type": "execute_result"
    }
   ],
   "source": [
    "df = df.apply(pd.to_numeric, errors='ignore')\n",
    "numeric_df = df.select_dtypes(include='number')\n",
    "numeric_df.columns"
   ]
  },
  {
   "cell_type": "code",
   "execution_count": 61,
   "metadata": {},
   "outputs": [],
   "source": [
    "df_num_drop = numeric_df[['TOTAL.PRICE','OUTAGE.DURATION']].dropna()"
   ]
  },
  {
   "cell_type": "code",
   "execution_count": 67,
   "metadata": {},
   "outputs": [
    {
     "data": {
      "image/png": "[encoded data removed]",
      "text/plain": [
       "<Figure size 640x480 with 1 Axes>"
      ]
     },
     "metadata": {},
     "output_type": "display_data"
    }
   ],
   "source": [
    "plt.scatter(df_num_drop['TOTAL.PRICE'], df_num_drop['OUTAGE.DURATION'], s=5)\n",
    "a, b = np.polyfit(df_num_drop['TOTAL.PRICE'], df_num_drop['OUTAGE.DURATION'], 1)\n",
    "plt.plot(df_num_drop['TOTAL.PRICE'], a*df_num_drop['TOTAL.PRICE']+b)\n",
    "plt.ylim(0,40000)\n",
    "plt.show()"
   ]
  },
  {
   "cell_type": "code",
   "execution_count": null,
   "metadata": {},
   "outputs": [],
   "source": []
  }
 ],
 "metadata": {
  "kernelspec": {
   "display_name": "Python 3 (ipykernel)",
   "language": "python",
   "name": "python3"
  },
  "language_info": {
   "codemirror_mode": {
    "name": "ipython",
    "version": 3
   },
   "file_extension": ".py",
   "mimetype": "text/x-python",
   "name": "python",
   "nbconvert_exporter": "python",
   "pygments_lexer": "ipython3",
   "version": "3.8.18"
  }
 },
 "nbformat": 4,
 "nbformat_minor": 2
}
